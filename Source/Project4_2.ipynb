{
 "cells": [
  {
   "cell_type": "code",
   "execution_count": 211,
   "metadata": {
    "execution": {
     "iopub.execute_input": "2020-11-05T03:08:24.281742Z",
     "iopub.status.busy": "2020-11-05T03:08:24.281473Z",
     "iopub.status.idle": "2020-11-05T03:08:24.285125Z",
     "shell.execute_reply": "2020-11-05T03:08:24.284497Z",
     "shell.execute_reply.started": "2020-11-05T03:08:24.281712Z"
    }
   },
   "outputs": [
    {
     "name": "stderr",
     "output_type": "stream",
     "text": [
      "/home/magreen/anaconda3_2020_07/envs/metisgpulinux2venv/lib/python3.8/site-packages/ipykernel/ipkernel.py:287: DeprecationWarning: `should_run_async` will not call `transform_cell` automatically in the future. Please pass the result to `transformed_cell` argument and any exception that happen during thetransform in `preprocessing_exc_tuple` in IPython 7.17 and above.\n",
      "  and should_run_async(code)\n"
     ]
    }
   ],
   "source": [
    "#stuff"
   ]
  },
  {
   "cell_type": "markdown",
   "metadata": {},
   "source": [
    "# Purpose of this Notebook"
   ]
  },
  {
   "cell_type": "code",
   "execution_count": 212,
   "metadata": {
    "execution": {
     "iopub.execute_input": "2020-11-05T03:08:24.286322Z",
     "iopub.status.busy": "2020-11-05T03:08:24.286118Z",
     "iopub.status.idle": "2020-11-05T03:08:24.298606Z",
     "shell.execute_reply": "2020-11-05T03:08:24.298007Z",
     "shell.execute_reply.started": "2020-11-05T03:08:24.286295Z"
    }
   },
   "outputs": [
    {
     "name": "stderr",
     "output_type": "stream",
     "text": [
      "/home/magreen/anaconda3_2020_07/envs/metisgpulinux2venv/lib/python3.8/site-packages/ipykernel/ipkernel.py:287: DeprecationWarning: `should_run_async` will not call `transform_cell` automatically in the future. Please pass the result to `transformed_cell` argument and any exception that happen during thetransform in `preprocessing_exc_tuple` in IPython 7.17 and above.\n",
      "  and should_run_async(code)\n"
     ]
    }
   ],
   "source": [
    "#Number of reviews to put into data frame of good reviews\n",
    "NUMB_OF_DOCS1 = 1000\n",
    "\n",
    "#Number of reviews to put into data frame of bad reviews\n",
    "NUMB_OF_DOCS2=100"
   ]
  },
  {
   "cell_type": "markdown",
   "metadata": {},
   "source": [
    "## Problem Statement"
   ]
  },
  {
   "cell_type": "markdown",
   "metadata": {},
   "source": [
    "Product developers often want to know this about their products:\n",
    "\n",
    "* For products that people don't like, what is it about the products they don't like? Maybe if we know this we could improve the product by fixing this unliked product features\n",
    "* For products that people love, what is it about the products that result in people loving them? Maybe if we expanded on these loved features, we could get new customers or better retain current customers"
   ]
  },
  {
   "cell_type": "markdown",
   "metadata": {},
   "source": [
    "## Proposed Solution"
   ]
  },
  {
   "cell_type": "markdown",
   "metadata": {},
   "source": [
    "Topic modeling and clustering(?) that identifies the features of products that people love and somehow rank them so that a product manaer can have a priority list of things that could be addressed to get more love\n",
    "Topic modeling and clustering(?) that identifies the features of products that people don't like and somehow rank them so that a product manaer can have a priority list of things that could be fixed to hopefully turn the disliked product into a liked product.\n"
   ]
  },
  {
   "cell_type": "markdown",
   "metadata": {
    "execution": {
     "iopub.execute_input": "2020-11-04T21:11:05.576479Z",
     "iopub.status.busy": "2020-11-04T21:11:05.576164Z",
     "iopub.status.idle": "2020-11-04T21:11:05.580086Z",
     "shell.execute_reply": "2020-11-04T21:11:05.579426Z",
     "shell.execute_reply.started": "2020-11-04T21:11:05.576406Z"
    }
   },
   "source": [
    "# Module Import"
   ]
  },
  {
   "cell_type": "code",
   "execution_count": 312,
   "metadata": {
    "execution": {
     "iopub.execute_input": "2020-11-05T05:17:54.460384Z",
     "iopub.status.busy": "2020-11-05T05:17:54.460132Z",
     "iopub.status.idle": "2020-11-05T05:17:54.466617Z",
     "shell.execute_reply": "2020-11-05T05:17:54.465948Z",
     "shell.execute_reply.started": "2020-11-05T05:17:54.460357Z"
    }
   },
   "outputs": [
    {
     "name": "stderr",
     "output_type": "stream",
     "text": [
      "/home/magreen/anaconda3_2020_07/envs/metisgpulinux2venv/lib/python3.8/site-packages/ipykernel/ipkernel.py:287: DeprecationWarning: `should_run_async` will not call `transform_cell` automatically in the future. Please pass the result to `transformed_cell` argument and any exception that happen during thetransform in `preprocessing_exc_tuple` in IPython 7.17 and above.\n",
      "  and should_run_async(code)\n"
     ]
    }
   ],
   "source": [
    "import datetime\n",
    "from collections import Counter\n",
    "\n",
    "import pandas as pd\n",
    "import numpy as np\n",
    "import matplotlib.pyplot as plt\n",
    "\n",
    "\n",
    "\n",
    "import re\n",
    "\n",
    "#to speed up pandas operands\n",
    "from pandarallel import pandarallel\n",
    "\n",
    "from sklearn.feature_extraction.text import CountVectorizer, TfidfVectorizer\n",
    "from sklearn.decomposition import LatentDirichletAllocation\n",
    "\n",
    "import nltk\n",
    "from nltk.tag import pos_tag\n",
    "from nltk.corpus import wordnet\n",
    "from nltk.tag import pos_tag\n",
    "from nltk.tokenize import word_tokenize\n",
    "from nltk.stem import WordNetLemmatizer\n",
    "\n",
    "import pyLDAvis\n",
    "import pyLDAvis.sklearn\n",
    "\n",
    "#gensim\n",
    "from gensim import corpora, models, similarities, matutils\n",
    "\n"
   ]
  },
  {
   "cell_type": "markdown",
   "metadata": {},
   "source": [
    "# NLP Pipeline\n",
    "\n"
   ]
  },
  {
   "cell_type": "markdown",
   "metadata": {},
   "source": [
    "## Text Preprocessing\n",
    "Essentially will do this:\n",
    "\n",
    "```\n",
    "\n",
    "(input text) -->[clean(remove text I don't want)]--> [tokenization] --> [lemmatization] --> [Next_Stages]\n",
    "\n",
    "```"
   ]
  },
  {
   "cell_type": "code",
   "execution_count": 214,
   "metadata": {
    "execution": {
     "iopub.execute_input": "2020-11-05T03:08:24.308090Z",
     "iopub.status.busy": "2020-11-05T03:08:24.307945Z",
     "iopub.status.idle": "2020-11-05T03:08:27.228611Z",
     "shell.execute_reply": "2020-11-05T03:08:27.228095Z",
     "shell.execute_reply.started": "2020-11-05T03:08:24.308069Z"
    }
   },
   "outputs": [
    {
     "name": "stderr",
     "output_type": "stream",
     "text": [
      "/home/magreen/anaconda3_2020_07/envs/metisgpulinux2venv/lib/python3.8/site-packages/ipykernel/ipkernel.py:287: DeprecationWarning: `should_run_async` will not call `transform_cell` automatically in the future. Please pass the result to `transformed_cell` argument and any exception that happen during thetransform in `preprocessing_exc_tuple` in IPython 7.17 and above.\n",
      "  and should_run_async(code)\n"
     ]
    }
   ],
   "source": [
    "reviews_df = pd.read_csv(\"../Data/Reviews.csv\")"
   ]
  },
  {
   "cell_type": "code",
   "execution_count": 215,
   "metadata": {
    "execution": {
     "iopub.execute_input": "2020-11-05T03:08:27.229512Z",
     "iopub.status.busy": "2020-11-05T03:08:27.229355Z",
     "iopub.status.idle": "2020-11-05T03:08:27.240471Z",
     "shell.execute_reply": "2020-11-05T03:08:27.240038Z",
     "shell.execute_reply.started": "2020-11-05T03:08:27.229490Z"
    }
   },
   "outputs": [
    {
     "name": "stderr",
     "output_type": "stream",
     "text": [
      "/home/magreen/anaconda3_2020_07/envs/metisgpulinux2venv/lib/python3.8/site-packages/ipykernel/ipkernel.py:287: DeprecationWarning: `should_run_async` will not call `transform_cell` automatically in the future. Please pass the result to `transformed_cell` argument and any exception that happen during thetransform in `preprocessing_exc_tuple` in IPython 7.17 and above.\n",
      "  and should_run_async(code)\n"
     ]
    },
    {
     "data": {
      "text/html": [
       "<div>\n",
       "<style scoped>\n",
       "    .dataframe tbody tr th:only-of-type {\n",
       "        vertical-align: middle;\n",
       "    }\n",
       "\n",
       "    .dataframe tbody tr th {\n",
       "        vertical-align: top;\n",
       "    }\n",
       "\n",
       "    .dataframe thead th {\n",
       "        text-align: right;\n",
       "    }\n",
       "</style>\n",
       "<table border=\"1\" class=\"dataframe\">\n",
       "  <thead>\n",
       "    <tr style=\"text-align: right;\">\n",
       "      <th></th>\n",
       "      <th>Id</th>\n",
       "      <th>ProductId</th>\n",
       "      <th>UserId</th>\n",
       "      <th>ProfileName</th>\n",
       "      <th>HelpfulnessNumerator</th>\n",
       "      <th>HelpfulnessDenominator</th>\n",
       "      <th>Score</th>\n",
       "      <th>Time</th>\n",
       "      <th>Summary</th>\n",
       "      <th>Text</th>\n",
       "    </tr>\n",
       "  </thead>\n",
       "  <tbody>\n",
       "    <tr>\n",
       "      <th>0</th>\n",
       "      <td>1</td>\n",
       "      <td>B001E4KFG0</td>\n",
       "      <td>A3SGXH7AUHU8GW</td>\n",
       "      <td>delmartian</td>\n",
       "      <td>1</td>\n",
       "      <td>1</td>\n",
       "      <td>5</td>\n",
       "      <td>1303862400</td>\n",
       "      <td>Good Quality Dog Food</td>\n",
       "      <td>I have bought several of the Vitality canned d...</td>\n",
       "    </tr>\n",
       "    <tr>\n",
       "      <th>1</th>\n",
       "      <td>2</td>\n",
       "      <td>B00813GRG4</td>\n",
       "      <td>A1D87F6ZCVE5NK</td>\n",
       "      <td>dll pa</td>\n",
       "      <td>0</td>\n",
       "      <td>0</td>\n",
       "      <td>1</td>\n",
       "      <td>1346976000</td>\n",
       "      <td>Not as Advertised</td>\n",
       "      <td>Product arrived labeled as Jumbo Salted Peanut...</td>\n",
       "    </tr>\n",
       "    <tr>\n",
       "      <th>2</th>\n",
       "      <td>3</td>\n",
       "      <td>B000LQOCH0</td>\n",
       "      <td>ABXLMWJIXXAIN</td>\n",
       "      <td>Natalia Corres \"Natalia Corres\"</td>\n",
       "      <td>1</td>\n",
       "      <td>1</td>\n",
       "      <td>4</td>\n",
       "      <td>1219017600</td>\n",
       "      <td>\"Delight\" says it all</td>\n",
       "      <td>This is a confection that has been around a fe...</td>\n",
       "    </tr>\n",
       "    <tr>\n",
       "      <th>3</th>\n",
       "      <td>4</td>\n",
       "      <td>B000UA0QIQ</td>\n",
       "      <td>A395BORC6FGVXV</td>\n",
       "      <td>Karl</td>\n",
       "      <td>3</td>\n",
       "      <td>3</td>\n",
       "      <td>2</td>\n",
       "      <td>1307923200</td>\n",
       "      <td>Cough Medicine</td>\n",
       "      <td>If you are looking for the secret ingredient i...</td>\n",
       "    </tr>\n",
       "    <tr>\n",
       "      <th>4</th>\n",
       "      <td>5</td>\n",
       "      <td>B006K2ZZ7K</td>\n",
       "      <td>A1UQRSCLF8GW1T</td>\n",
       "      <td>Michael D. Bigham \"M. Wassir\"</td>\n",
       "      <td>0</td>\n",
       "      <td>0</td>\n",
       "      <td>5</td>\n",
       "      <td>1350777600</td>\n",
       "      <td>Great taffy</td>\n",
       "      <td>Great taffy at a great price.  There was a wid...</td>\n",
       "    </tr>\n",
       "  </tbody>\n",
       "</table>\n",
       "</div>"
      ],
      "text/plain": [
       "   Id   ProductId          UserId                      ProfileName  \\\n",
       "0   1  B001E4KFG0  A3SGXH7AUHU8GW                       delmartian   \n",
       "1   2  B00813GRG4  A1D87F6ZCVE5NK                           dll pa   \n",
       "2   3  B000LQOCH0   ABXLMWJIXXAIN  Natalia Corres \"Natalia Corres\"   \n",
       "3   4  B000UA0QIQ  A395BORC6FGVXV                             Karl   \n",
       "4   5  B006K2ZZ7K  A1UQRSCLF8GW1T    Michael D. Bigham \"M. Wassir\"   \n",
       "\n",
       "   HelpfulnessNumerator  HelpfulnessDenominator  Score        Time  \\\n",
       "0                     1                       1      5  1303862400   \n",
       "1                     0                       0      1  1346976000   \n",
       "2                     1                       1      4  1219017600   \n",
       "3                     3                       3      2  1307923200   \n",
       "4                     0                       0      5  1350777600   \n",
       "\n",
       "                 Summary                                               Text  \n",
       "0  Good Quality Dog Food  I have bought several of the Vitality canned d...  \n",
       "1      Not as Advertised  Product arrived labeled as Jumbo Salted Peanut...  \n",
       "2  \"Delight\" says it all  This is a confection that has been around a fe...  \n",
       "3         Cough Medicine  If you are looking for the secret ingredient i...  \n",
       "4            Great taffy  Great taffy at a great price.  There was a wid...  "
      ]
     },
     "execution_count": 215,
     "metadata": {},
     "output_type": "execute_result"
    }
   ],
   "source": [
    "reviews_df.head()"
   ]
  },
  {
   "cell_type": "code",
   "execution_count": 242,
   "metadata": {
    "execution": {
     "iopub.execute_input": "2020-11-05T03:39:24.415805Z",
     "iopub.status.busy": "2020-11-05T03:39:24.415492Z",
     "iopub.status.idle": "2020-11-05T03:39:24.506718Z",
     "shell.execute_reply": "2020-11-05T03:39:24.506190Z",
     "shell.execute_reply.started": "2020-11-05T03:39:24.415762Z"
    }
   },
   "outputs": [
    {
     "name": "stderr",
     "output_type": "stream",
     "text": [
      "/home/magreen/anaconda3_2020_07/envs/metisgpulinux2venv/lib/python3.8/site-packages/ipykernel/ipkernel.py:287: DeprecationWarning: `should_run_async` will not call `transform_cell` automatically in the future. Please pass the result to `transformed_cell` argument and any exception that happen during thetransform in `preprocessing_exc_tuple` in IPython 7.17 and above.\n",
      "  and should_run_async(code)\n"
     ]
    },
    {
     "data": {
      "text/html": [
       "<div>\n",
       "<style scoped>\n",
       "    .dataframe tbody tr th:only-of-type {\n",
       "        vertical-align: middle;\n",
       "    }\n",
       "\n",
       "    .dataframe tbody tr th {\n",
       "        vertical-align: top;\n",
       "    }\n",
       "\n",
       "    .dataframe thead th {\n",
       "        text-align: right;\n",
       "    }\n",
       "</style>\n",
       "<table border=\"1\" class=\"dataframe\">\n",
       "  <thead>\n",
       "    <tr style=\"text-align: right;\">\n",
       "      <th></th>\n",
       "      <th>Id</th>\n",
       "      <th>HelpfulnessNumerator</th>\n",
       "      <th>HelpfulnessDenominator</th>\n",
       "      <th>Score</th>\n",
       "      <th>Time</th>\n",
       "    </tr>\n",
       "  </thead>\n",
       "  <tbody>\n",
       "    <tr>\n",
       "      <th>count</th>\n",
       "      <td>568454.000000</td>\n",
       "      <td>568454.000000</td>\n",
       "      <td>568454.00000</td>\n",
       "      <td>568454.000000</td>\n",
       "      <td>5.684540e+05</td>\n",
       "    </tr>\n",
       "    <tr>\n",
       "      <th>mean</th>\n",
       "      <td>284227.500000</td>\n",
       "      <td>1.743817</td>\n",
       "      <td>2.22881</td>\n",
       "      <td>4.183199</td>\n",
       "      <td>1.296257e+09</td>\n",
       "    </tr>\n",
       "    <tr>\n",
       "      <th>std</th>\n",
       "      <td>164098.679298</td>\n",
       "      <td>7.636513</td>\n",
       "      <td>8.28974</td>\n",
       "      <td>1.310436</td>\n",
       "      <td>4.804331e+07</td>\n",
       "    </tr>\n",
       "    <tr>\n",
       "      <th>min</th>\n",
       "      <td>1.000000</td>\n",
       "      <td>0.000000</td>\n",
       "      <td>0.00000</td>\n",
       "      <td>1.000000</td>\n",
       "      <td>9.393408e+08</td>\n",
       "    </tr>\n",
       "    <tr>\n",
       "      <th>25%</th>\n",
       "      <td>142114.250000</td>\n",
       "      <td>0.000000</td>\n",
       "      <td>0.00000</td>\n",
       "      <td>4.000000</td>\n",
       "      <td>1.271290e+09</td>\n",
       "    </tr>\n",
       "    <tr>\n",
       "      <th>50%</th>\n",
       "      <td>284227.500000</td>\n",
       "      <td>0.000000</td>\n",
       "      <td>1.00000</td>\n",
       "      <td>5.000000</td>\n",
       "      <td>1.311120e+09</td>\n",
       "    </tr>\n",
       "    <tr>\n",
       "      <th>75%</th>\n",
       "      <td>426340.750000</td>\n",
       "      <td>2.000000</td>\n",
       "      <td>2.00000</td>\n",
       "      <td>5.000000</td>\n",
       "      <td>1.332720e+09</td>\n",
       "    </tr>\n",
       "    <tr>\n",
       "      <th>max</th>\n",
       "      <td>568454.000000</td>\n",
       "      <td>866.000000</td>\n",
       "      <td>923.00000</td>\n",
       "      <td>5.000000</td>\n",
       "      <td>1.351210e+09</td>\n",
       "    </tr>\n",
       "  </tbody>\n",
       "</table>\n",
       "</div>"
      ],
      "text/plain": [
       "                  Id  HelpfulnessNumerator  HelpfulnessDenominator  \\\n",
       "count  568454.000000         568454.000000            568454.00000   \n",
       "mean   284227.500000              1.743817                 2.22881   \n",
       "std    164098.679298              7.636513                 8.28974   \n",
       "min         1.000000              0.000000                 0.00000   \n",
       "25%    142114.250000              0.000000                 0.00000   \n",
       "50%    284227.500000              0.000000                 1.00000   \n",
       "75%    426340.750000              2.000000                 2.00000   \n",
       "max    568454.000000            866.000000               923.00000   \n",
       "\n",
       "               Score          Time  \n",
       "count  568454.000000  5.684540e+05  \n",
       "mean        4.183199  1.296257e+09  \n",
       "std         1.310436  4.804331e+07  \n",
       "min         1.000000  9.393408e+08  \n",
       "25%         4.000000  1.271290e+09  \n",
       "50%         5.000000  1.311120e+09  \n",
       "75%         5.000000  1.332720e+09  \n",
       "max         5.000000  1.351210e+09  "
      ]
     },
     "execution_count": 242,
     "metadata": {},
     "output_type": "execute_result"
    }
   ],
   "source": [
    "reviews_df.describe()"
   ]
  },
  {
   "cell_type": "code",
   "execution_count": 253,
   "metadata": {
    "execution": {
     "iopub.execute_input": "2020-11-05T04:00:50.119637Z",
     "iopub.status.busy": "2020-11-05T04:00:50.119340Z",
     "iopub.status.idle": "2020-11-05T04:00:50.136941Z",
     "shell.execute_reply": "2020-11-05T04:00:50.136415Z",
     "shell.execute_reply.started": "2020-11-05T04:00:50.119604Z"
    }
   },
   "outputs": [
    {
     "name": "stderr",
     "output_type": "stream",
     "text": [
      "/home/magreen/anaconda3_2020_07/envs/metisgpulinux2venv/lib/python3.8/site-packages/ipykernel/ipkernel.py:287: DeprecationWarning: `should_run_async` will not call `transform_cell` automatically in the future. Please pass the result to `transformed_cell` argument and any exception that happen during thetransform in `preprocessing_exc_tuple` in IPython 7.17 and above.\n",
      "  and should_run_async(code)\n"
     ]
    },
    {
     "data": {
      "text/plain": [
       "'I have bought several of the Vitality canned dog food products and have found them all to be of good quality. The product looks more like a stew than a processed meat and it smells better. My Labrador is finicky and she appreciates this product better than  most.'"
      ]
     },
     "execution_count": 253,
     "metadata": {},
     "output_type": "execute_result"
    }
   ],
   "source": [
    "reviews_df.loc[0,\"Text\"]"
   ]
  },
  {
   "cell_type": "code",
   "execution_count": 243,
   "metadata": {
    "execution": {
     "iopub.execute_input": "2020-11-05T03:40:33.734580Z",
     "iopub.status.busy": "2020-11-05T03:40:33.734328Z",
     "iopub.status.idle": "2020-11-05T03:40:33.744894Z",
     "shell.execute_reply": "2020-11-05T03:40:33.744174Z",
     "shell.execute_reply.started": "2020-11-05T03:40:33.734552Z"
    }
   },
   "outputs": [
    {
     "name": "stderr",
     "output_type": "stream",
     "text": [
      "/home/magreen/anaconda3_2020_07/envs/metisgpulinux2venv/lib/python3.8/site-packages/ipykernel/ipkernel.py:287: DeprecationWarning: `should_run_async` will not call `transform_cell` automatically in the future. Please pass the result to `transformed_cell` argument and any exception that happen during thetransform in `preprocessing_exc_tuple` in IPython 7.17 and above.\n",
      "  and should_run_async(code)\n"
     ]
    },
    {
     "data": {
      "text/plain": [
       "5    363122\n",
       "4     80655\n",
       "1     52268\n",
       "3     42640\n",
       "2     29769\n",
       "Name: Score, dtype: int64"
      ]
     },
     "execution_count": 243,
     "metadata": {},
     "output_type": "execute_result"
    }
   ],
   "source": [
    "reviews_df[\"Score\"].value_counts()"
   ]
  },
  {
   "cell_type": "code",
   "execution_count": 244,
   "metadata": {
    "execution": {
     "iopub.execute_input": "2020-11-05T03:42:03.559423Z",
     "iopub.status.busy": "2020-11-05T03:42:03.559169Z",
     "iopub.status.idle": "2020-11-05T03:42:03.566657Z",
     "shell.execute_reply": "2020-11-05T03:42:03.565935Z",
     "shell.execute_reply.started": "2020-11-05T03:42:03.559394Z"
    }
   },
   "outputs": [
    {
     "name": "stderr",
     "output_type": "stream",
     "text": [
      "/home/magreen/anaconda3_2020_07/envs/metisgpulinux2venv/lib/python3.8/site-packages/ipykernel/ipkernel.py:287: DeprecationWarning: `should_run_async` will not call `transform_cell` automatically in the future. Please pass the result to `transformed_cell` argument and any exception that happen during thetransform in `preprocessing_exc_tuple` in IPython 7.17 and above.\n",
      "  and should_run_async(code)\n"
     ]
    }
   ],
   "source": [
    "reviews_df[\"helpful_rating\"] = reviews_df[\"HelpfulnessNumerator\"] / reviews_df[\"HelpfulnessDenominator\"]"
   ]
  },
  {
   "cell_type": "code",
   "execution_count": 246,
   "metadata": {
    "execution": {
     "iopub.execute_input": "2020-11-05T03:44:36.445434Z",
     "iopub.status.busy": "2020-11-05T03:44:36.445189Z",
     "iopub.status.idle": "2020-11-05T03:44:37.622908Z",
     "shell.execute_reply": "2020-11-05T03:44:37.622272Z",
     "shell.execute_reply.started": "2020-11-05T03:44:36.445405Z"
    }
   },
   "outputs": [
    {
     "name": "stderr",
     "output_type": "stream",
     "text": [
      "/home/magreen/anaconda3_2020_07/envs/metisgpulinux2venv/lib/python3.8/site-packages/ipykernel/ipkernel.py:287: DeprecationWarning: `should_run_async` will not call `transform_cell` automatically in the future. Please pass the result to `transformed_cell` argument and any exception that happen during thetransform in `preprocessing_exc_tuple` in IPython 7.17 and above.\n",
      "  and should_run_async(code)\n"
     ]
    },
    {
     "data": {
      "image/png": "[encoded data removed]",
      "text/plain": [
       "<Figure size 2880x2880 with 1 Axes>"
      ]
     },
     "metadata": {
      "needs_background": "light"
     },
     "output_type": "display_data"
    }
   ],
   "source": [
    "plt.figure(figsize=(40,40))\n",
    "plt.scatter(reviews_df[\"Score\"],reviews_df[\"helpful_rating\"],alpha=0.5)\n",
    "plt.xlabel(\"Score\")\n",
    "plt.ylabel(\"helpful rating\")\n",
    "plt.show();"
   ]
  },
  {
   "cell_type": "markdown",
   "metadata": {},
   "source": [
    "Going to create a dataframe of bad reviews and one of good reviews to process separately"
   ]
  },
  {
   "cell_type": "code",
   "execution_count": 216,
   "metadata": {
    "execution": {
     "iopub.execute_input": "2020-11-05T03:08:27.241276Z",
     "iopub.status.busy": "2020-11-05T03:08:27.241133Z",
     "iopub.status.idle": "2020-11-05T03:08:27.410070Z",
     "shell.execute_reply": "2020-11-05T03:08:27.409610Z",
     "shell.execute_reply.started": "2020-11-05T03:08:27.241255Z"
    }
   },
   "outputs": [
    {
     "name": "stderr",
     "output_type": "stream",
     "text": [
      "/home/magreen/anaconda3_2020_07/envs/metisgpulinux2venv/lib/python3.8/site-packages/ipykernel/ipkernel.py:287: DeprecationWarning: `should_run_async` will not call `transform_cell` automatically in the future. Please pass the result to `transformed_cell` argument and any exception that happen during thetransform in `preprocessing_exc_tuple` in IPython 7.17 and above.\n",
      "  and should_run_async(code)\n"
     ]
    }
   ],
   "source": [
    "good_reviews_df = reviews_df[ reviews_df[\"Score\"] >= 4 ]\n",
    "bad_reviews_df = reviews_df[ reviews_df[\"Score\"] <= 2 ]"
   ]
  },
  {
   "cell_type": "code",
   "execution_count": 217,
   "metadata": {
    "execution": {
     "iopub.execute_input": "2020-11-05T03:08:27.410936Z",
     "iopub.status.busy": "2020-11-05T03:08:27.410791Z",
     "iopub.status.idle": "2020-11-05T03:08:27.414388Z",
     "shell.execute_reply": "2020-11-05T03:08:27.413953Z",
     "shell.execute_reply.started": "2020-11-05T03:08:27.410915Z"
    }
   },
   "outputs": [
    {
     "name": "stderr",
     "output_type": "stream",
     "text": [
      "/home/magreen/anaconda3_2020_07/envs/metisgpulinux2venv/lib/python3.8/site-packages/ipykernel/ipkernel.py:287: DeprecationWarning: `should_run_async` will not call `transform_cell` automatically in the future. Please pass the result to `transformed_cell` argument and any exception that happen during thetransform in `preprocessing_exc_tuple` in IPython 7.17 and above.\n",
      "  and should_run_async(code)\n"
     ]
    }
   ],
   "source": [
    "if (NUMB_OF_DOCS1 > good_reviews_df.shape[0]) or (NUMB_OF_DOCS1 < 0):\n",
    "    NUMB_OF_DOCS1 = good_reviews_df.shape[0]\n",
    "\n",
    "\n",
    "if (NUMB_OF_DOCS2 > bad_reviews_df.shape[0]) or (NUMB_OF_DOCS2 < 0):\n",
    "    NUMB_OF_DOCS2 = bad_reviews_df.shape[0]"
   ]
  },
  {
   "cell_type": "code",
   "execution_count": 218,
   "metadata": {
    "execution": {
     "iopub.execute_input": "2020-11-05T03:08:27.416032Z",
     "iopub.status.busy": "2020-11-05T03:08:27.415880Z",
     "iopub.status.idle": "2020-11-05T03:08:27.436150Z",
     "shell.execute_reply": "2020-11-05T03:08:27.435525Z",
     "shell.execute_reply.started": "2020-11-05T03:08:27.416009Z"
    }
   },
   "outputs": [
    {
     "name": "stderr",
     "output_type": "stream",
     "text": [
      "/home/magreen/anaconda3_2020_07/envs/metisgpulinux2venv/lib/python3.8/site-packages/ipykernel/ipkernel.py:287: DeprecationWarning: `should_run_async` will not call `transform_cell` automatically in the future. Please pass the result to `transformed_cell` argument and any exception that happen during thetransform in `preprocessing_exc_tuple` in IPython 7.17 and above.\n",
      "  and should_run_async(code)\n"
     ]
    }
   ],
   "source": [
    "stuff =list(good_reviews_df.Text.head(NUMB_OF_DOCS1))"
   ]
  },
  {
   "cell_type": "code",
   "execution_count": 219,
   "metadata": {
    "execution": {
     "iopub.execute_input": "2020-11-05T03:08:27.437730Z",
     "iopub.status.busy": "2020-11-05T03:08:27.437531Z",
     "iopub.status.idle": "2020-11-05T03:08:27.449892Z",
     "shell.execute_reply": "2020-11-05T03:08:27.449317Z",
     "shell.execute_reply.started": "2020-11-05T03:08:27.437703Z"
    }
   },
   "outputs": [
    {
     "name": "stderr",
     "output_type": "stream",
     "text": [
      "/home/magreen/anaconda3_2020_07/envs/metisgpulinux2venv/lib/python3.8/site-packages/ipykernel/ipkernel.py:287: DeprecationWarning: `should_run_async` will not call `transform_cell` automatically in the future. Please pass the result to `transformed_cell` argument and any exception that happen during thetransform in `preprocessing_exc_tuple` in IPython 7.17 and above.\n",
      "  and should_run_async(code)\n"
     ]
    }
   ],
   "source": [
    "#Removing HTML from the text\n",
    "stuff = [re.sub(\"<.*?>\",\"\",item) for item in stuff]"
   ]
  },
  {
   "cell_type": "code",
   "execution_count": 220,
   "metadata": {
    "execution": {
     "iopub.execute_input": "2020-11-05T03:08:27.450952Z",
     "iopub.status.busy": "2020-11-05T03:08:27.450749Z",
     "iopub.status.idle": "2020-11-05T03:08:27.469117Z",
     "shell.execute_reply": "2020-11-05T03:08:27.468543Z",
     "shell.execute_reply.started": "2020-11-05T03:08:27.450922Z"
    }
   },
   "outputs": [
    {
     "name": "stderr",
     "output_type": "stream",
     "text": [
      "/home/magreen/anaconda3_2020_07/envs/metisgpulinux2venv/lib/python3.8/site-packages/ipykernel/ipkernel.py:287: DeprecationWarning: `should_run_async` will not call `transform_cell` automatically in the future. Please pass the result to `transformed_cell` argument and any exception that happen during thetransform in `preprocessing_exc_tuple` in IPython 7.17 and above.\n",
      "  and should_run_async(code)\n",
      "<>:2: DeprecationWarning: invalid escape sequence \\.\n",
      "<>:2: DeprecationWarning: invalid escape sequence \\.\n",
      "<ipython-input-220-3fbbec9803b4>:2: DeprecationWarning: invalid escape sequence \\.\n",
      "  stuff = [  re.sub(\"[\\.|\\!|\\?|\\,|\\;|\\:|\\&|\\(|\\)|\\-]\",\"\",mystring) for mystring in stuff  ]\n"
     ]
    }
   ],
   "source": [
    "#remove punctuation\n",
    "stuff = [  re.sub(\"[\\.|\\!|\\?|\\,|\\;|\\:|\\&|\\(|\\)|\\-]\",\"\",mystring) for mystring in stuff  ]"
   ]
  },
  {
   "cell_type": "markdown",
   "metadata": {},
   "source": [
    "**Tokenize**"
   ]
  },
  {
   "cell_type": "code",
   "execution_count": 221,
   "metadata": {
    "execution": {
     "iopub.execute_input": "2020-11-05T03:08:27.469917Z",
     "iopub.status.busy": "2020-11-05T03:08:27.469778Z",
     "iopub.status.idle": "2020-11-05T03:08:27.771173Z",
     "shell.execute_reply": "2020-11-05T03:08:27.770540Z",
     "shell.execute_reply.started": "2020-11-05T03:08:27.469898Z"
    }
   },
   "outputs": [
    {
     "name": "stderr",
     "output_type": "stream",
     "text": [
      "/home/magreen/anaconda3_2020_07/envs/metisgpulinux2venv/lib/python3.8/site-packages/ipykernel/ipkernel.py:287: DeprecationWarning: `should_run_async` will not call `transform_cell` automatically in the future. Please pass the result to `transformed_cell` argument and any exception that happen during thetransform in `preprocessing_exc_tuple` in IPython 7.17 and above.\n",
      "  and should_run_async(code)\n"
     ]
    }
   ],
   "source": [
    "stuff_tokenized= []\n",
    "\n",
    "stuff_tokenized = [word_tokenize(review) for review in stuff]"
   ]
  },
  {
   "cell_type": "code",
   "execution_count": 222,
   "metadata": {
    "execution": {
     "iopub.execute_input": "2020-11-05T03:08:27.772214Z",
     "iopub.status.busy": "2020-11-05T03:08:27.772028Z",
     "iopub.status.idle": "2020-11-05T03:08:27.774930Z",
     "shell.execute_reply": "2020-11-05T03:08:27.774405Z",
     "shell.execute_reply.started": "2020-11-05T03:08:27.772188Z"
    }
   },
   "outputs": [
    {
     "name": "stderr",
     "output_type": "stream",
     "text": [
      "/home/magreen/anaconda3_2020_07/envs/metisgpulinux2venv/lib/python3.8/site-packages/ipykernel/ipkernel.py:287: DeprecationWarning: `should_run_async` will not call `transform_cell` automatically in the future. Please pass the result to `transformed_cell` argument and any exception that happen during thetransform in `preprocessing_exc_tuple` in IPython 7.17 and above.\n",
      "  and should_run_async(code)\n"
     ]
    }
   ],
   "source": [
    "#stuff_tokenized[1]"
   ]
  },
  {
   "cell_type": "code",
   "execution_count": 223,
   "metadata": {
    "execution": {
     "iopub.execute_input": "2020-11-05T03:08:27.775784Z",
     "iopub.status.busy": "2020-11-05T03:08:27.775647Z",
     "iopub.status.idle": "2020-11-05T03:08:27.798591Z",
     "shell.execute_reply": "2020-11-05T03:08:27.797990Z",
     "shell.execute_reply.started": "2020-11-05T03:08:27.775765Z"
    }
   },
   "outputs": [
    {
     "name": "stderr",
     "output_type": "stream",
     "text": [
      "/home/magreen/anaconda3_2020_07/envs/metisgpulinux2venv/lib/python3.8/site-packages/ipykernel/ipkernel.py:287: DeprecationWarning: `should_run_async` will not call `transform_cell` automatically in the future. Please pass the result to `transformed_cell` argument and any exception that happen during thetransform in `preprocessing_exc_tuple` in IPython 7.17 and above.\n",
      "  and should_run_async(code)\n"
     ]
    }
   ],
   "source": [
    "#for i,item in enumerate(stuff_tokenized):\n",
    "#    if i == 10:\n",
    "#        break\n",
    "#    print(i,\"-->\",item,\"\\n\")"
   ]
  },
  {
   "cell_type": "code",
   "execution_count": 275,
   "metadata": {
    "execution": {
     "iopub.execute_input": "2020-11-05T04:48:37.540079Z",
     "iopub.status.busy": "2020-11-05T04:48:37.539892Z",
     "iopub.status.idle": "2020-11-05T04:48:37.544444Z",
     "shell.execute_reply": "2020-11-05T04:48:37.543813Z",
     "shell.execute_reply.started": "2020-11-05T04:48:37.540058Z"
    }
   },
   "outputs": [
    {
     "name": "stderr",
     "output_type": "stream",
     "text": [
      "/home/magreen/anaconda3_2020_07/envs/metisgpulinux2venv/lib/python3.8/site-packages/ipykernel/ipkernel.py:287: DeprecationWarning: `should_run_async` will not call `transform_cell` automatically in the future. Please pass the result to `transformed_cell` argument and any exception that happen during thetransform in `preprocessing_exc_tuple` in IPython 7.17 and above.\n",
      "  and should_run_async(code)\n"
     ]
    }
   ],
   "source": [
    "#lemmatize each word in stuff\n",
    "def calc_partofspeech(raw_pos):\n",
    "    \"\"\"translates from POS generated by pos_tag() to a POS encoding that WordNetLemmatizer.lemmatize() understands\"\"\"\n",
    "    #print(\"word = \",word)\n",
    "    #[(output_word, output_pos)] = pos_tag(word_tokenize(word))\n",
    "    \n",
    "    #decode output_pos to the pos required by the lemmatizer\n",
    "    \n",
    "    if \"JJ\" in raw_pos:\n",
    "        pos = \"a\"\n",
    "    elif \"RB\" in raw_pos:\n",
    "        pos = \"r\"\n",
    "    elif \"VB\" in raw_pos:\n",
    "        pos = \"v\"\n",
    "    else:\n",
    "        pos = \"n\"\n",
    "    \n",
    "    return pos\n",
    "\n",
    "\n"
   ]
  },
  {
   "cell_type": "code",
   "execution_count": 225,
   "metadata": {
    "execution": {
     "iopub.execute_input": "2020-11-05T03:08:27.815471Z",
     "iopub.status.busy": "2020-11-05T03:08:27.815253Z",
     "iopub.status.idle": "2020-11-05T03:08:27.837487Z",
     "shell.execute_reply": "2020-11-05T03:08:27.836932Z",
     "shell.execute_reply.started": "2020-11-05T03:08:27.815435Z"
    }
   },
   "outputs": [
    {
     "name": "stderr",
     "output_type": "stream",
     "text": [
      "/home/magreen/anaconda3_2020_07/envs/metisgpulinux2venv/lib/python3.8/site-packages/ipykernel/ipkernel.py:287: DeprecationWarning: `should_run_async` will not call `transform_cell` automatically in the future. Please pass the result to `transformed_cell` argument and any exception that happen during thetransform in `preprocessing_exc_tuple` in IPython 7.17 and above.\n",
      "  and should_run_async(code)\n"
     ]
    }
   ],
   "source": [
    "#for i,item in enumerate(stuff):\n",
    "#   if i == 10:\n",
    "#        break\n",
    "#   print(i,\"-->\",item,\"\\n\")"
   ]
  },
  {
   "cell_type": "code",
   "execution_count": 274,
   "metadata": {
    "execution": {
     "iopub.execute_input": "2020-11-05T04:42:55.400480Z",
     "iopub.status.busy": "2020-11-05T04:42:55.400226Z",
     "iopub.status.idle": "2020-11-05T04:42:55.406363Z",
     "shell.execute_reply": "2020-11-05T04:42:55.405685Z",
     "shell.execute_reply.started": "2020-11-05T04:42:55.400452Z"
    }
   },
   "outputs": [
    {
     "name": "stderr",
     "output_type": "stream",
     "text": [
      "/home/magreen/anaconda3_2020_07/envs/metisgpulinux2venv/lib/python3.8/site-packages/ipykernel/ipkernel.py:287: DeprecationWarning: `should_run_async` will not call `transform_cell` automatically in the future. Please pass the result to `transformed_cell` argument and any exception that happen during thetransform in `preprocessing_exc_tuple` in IPython 7.17 and above.\n",
      "  and should_run_async(code)\n"
     ]
    },
    {
     "data": {
      "text/plain": [
       "['I',\n",
       " 'have',\n",
       " 'bought',\n",
       " 'several',\n",
       " 'of',\n",
       " 'the',\n",
       " 'Vitality',\n",
       " 'canned',\n",
       " 'dog',\n",
       " 'food',\n",
       " 'products',\n",
       " 'and',\n",
       " 'have',\n",
       " 'found',\n",
       " 'them',\n",
       " 'all',\n",
       " 'to',\n",
       " 'be',\n",
       " 'of',\n",
       " 'good',\n",
       " 'quality',\n",
       " 'The',\n",
       " 'product',\n",
       " 'looks',\n",
       " 'more',\n",
       " 'like',\n",
       " 'a',\n",
       " 'stew',\n",
       " 'than',\n",
       " 'a',\n",
       " 'processed',\n",
       " 'meat',\n",
       " 'and',\n",
       " 'it',\n",
       " 'smells',\n",
       " 'better',\n",
       " 'My',\n",
       " 'Labrador',\n",
       " 'is',\n",
       " 'finicky',\n",
       " 'and',\n",
       " 'she',\n",
       " 'appreciates',\n",
       " 'this',\n",
       " 'product',\n",
       " 'better',\n",
       " 'than',\n",
       " 'most']"
      ]
     },
     "execution_count": 274,
     "metadata": {},
     "output_type": "execute_result"
    }
   ],
   "source": [
    "stuff_tokenized[0]"
   ]
  },
  {
   "cell_type": "markdown",
   "metadata": {},
   "source": [
    "lemmatizing to cut down on the size of the dimensions of the eventual vectorized word matrix without losing meaning of the text"
   ]
  },
  {
   "cell_type": "code",
   "execution_count": 277,
   "metadata": {
    "execution": {
     "iopub.execute_input": "2020-11-05T04:52:40.598576Z",
     "iopub.status.busy": "2020-11-05T04:52:40.598316Z",
     "iopub.status.idle": "2020-11-05T04:52:43.429543Z",
     "shell.execute_reply": "2020-11-05T04:52:43.428814Z",
     "shell.execute_reply.started": "2020-11-05T04:52:40.598546Z"
    }
   },
   "outputs": [
    {
     "name": "stderr",
     "output_type": "stream",
     "text": [
      "/home/magreen/anaconda3_2020_07/envs/metisgpulinux2venv/lib/python3.8/site-packages/ipykernel/ipkernel.py:287: DeprecationWarning: `should_run_async` will not call `transform_cell` automatically in the future. Please pass the result to `transformed_cell` argument and any exception that happen during thetransform in `preprocessing_exc_tuple` in IPython 7.17 and above.\n",
      "  and should_run_async(code)\n"
     ]
    }
   ],
   "source": [
    "wordNetLemmatizer = WordNetLemmatizer()\n",
    "\n",
    "stuff_lemmatized = []\n",
    "\n",
    "for mydoc in stuff_tokenized:\n",
    "    #temp_mydoc = \" \".join(mydoc)\n",
    "    temp_mydoc_lemmatized = []\n",
    "    \n",
    "    pos_result = pos_tag(mydoc)\n",
    "    \n",
    "    for myword,mypos in pos_result:\n",
    "\n",
    "        temp_word_lemmatized = wordNetLemmatizer.lemmatize(myword,calc_partofspeech(mypos))\n",
    "        temp_mydoc_lemmatized.append(temp_word_lemmatized)\n",
    "\n",
    "    stuff_lemmatized.append(temp_mydoc_lemmatized)\n",
    "    \n",
    "#stuff_lemmatized = [wordNetLemmatizer.lemmatize(myword,calc_partofspeech(myword)) for mydoc in stuff_tokenized for myword in mydoc]\n",
    "\n"
   ]
  },
  {
   "cell_type": "code",
   "execution_count": 227,
   "metadata": {
    "execution": {
     "iopub.execute_input": "2020-11-05T03:08:40.634680Z",
     "iopub.status.busy": "2020-11-05T03:08:40.634534Z",
     "iopub.status.idle": "2020-11-05T03:08:40.637128Z",
     "shell.execute_reply": "2020-11-05T03:08:40.636691Z",
     "shell.execute_reply.started": "2020-11-05T03:08:40.634660Z"
    }
   },
   "outputs": [
    {
     "name": "stderr",
     "output_type": "stream",
     "text": [
      "/home/magreen/anaconda3_2020_07/envs/metisgpulinux2venv/lib/python3.8/site-packages/ipykernel/ipkernel.py:287: DeprecationWarning: `should_run_async` will not call `transform_cell` automatically in the future. Please pass the result to `transformed_cell` argument and any exception that happen during thetransform in `preprocessing_exc_tuple` in IPython 7.17 and above.\n",
      "  and should_run_async(code)\n"
     ]
    }
   ],
   "source": [
    "#Test code doesn't need to be run\n",
    "#myword = \"running\"\n",
    "#myword_lemmed = wordNetLemmatizer.lemmatize(myword,calc_partofspeech(myword))\n",
    "#myword_lemmed = wordNetLemmatizer.lemmatize(myword,\"v\")\n",
    "\n",
    "#print(\"myword_lemmed = \",myword_lemmed)\n",
    "#print(\"POS for myword = \",calc_partofspeech(myword))"
   ]
  },
  {
   "cell_type": "code",
   "execution_count": 279,
   "metadata": {
    "execution": {
     "iopub.execute_input": "2020-11-05T04:53:19.268047Z",
     "iopub.status.busy": "2020-11-05T04:53:19.267792Z",
     "iopub.status.idle": "2020-11-05T04:53:19.271817Z",
     "shell.execute_reply": "2020-11-05T04:53:19.271029Z",
     "shell.execute_reply.started": "2020-11-05T04:53:19.268018Z"
    }
   },
   "outputs": [
    {
     "name": "stderr",
     "output_type": "stream",
     "text": [
      "/home/magreen/anaconda3_2020_07/envs/metisgpulinux2venv/lib/python3.8/site-packages/ipykernel/ipkernel.py:287: DeprecationWarning: `should_run_async` will not call `transform_cell` automatically in the future. Please pass the result to `transformed_cell` argument and any exception that happen during thetransform in `preprocessing_exc_tuple` in IPython 7.17 and above.\n",
      "  and should_run_async(code)\n"
     ]
    }
   ],
   "source": [
    "#stuff_lemmatized[0]"
   ]
  },
  {
   "cell_type": "code",
   "execution_count": 280,
   "metadata": {
    "execution": {
     "iopub.execute_input": "2020-11-05T04:53:20.732547Z",
     "iopub.status.busy": "2020-11-05T04:53:20.732283Z",
     "iopub.status.idle": "2020-11-05T04:53:20.735906Z",
     "shell.execute_reply": "2020-11-05T04:53:20.735131Z",
     "shell.execute_reply.started": "2020-11-05T04:53:20.732518Z"
    }
   },
   "outputs": [
    {
     "name": "stderr",
     "output_type": "stream",
     "text": [
      "/home/magreen/anaconda3_2020_07/envs/metisgpulinux2venv/lib/python3.8/site-packages/ipykernel/ipkernel.py:287: DeprecationWarning: `should_run_async` will not call `transform_cell` automatically in the future. Please pass the result to `transformed_cell` argument and any exception that happen during thetransform in `preprocessing_exc_tuple` in IPython 7.17 and above.\n",
      "  and should_run_async(code)\n"
     ]
    }
   ],
   "source": [
    "# I only want adjectives and adverbs sent to the vectorizer\n",
    "#stuff_pos_filtered = [mylemword for mylemdoc in stuff_lemmatized for mylemword in mylemdoc if (\"JJ\" in pos_tag(word_tokenize(mylemword))[0][1]) or (\"RB\" in pos_tag(word_tokenize(mylemword))[0][1])]"
   ]
  },
  {
   "cell_type": "code",
   "execution_count": 281,
   "metadata": {
    "execution": {
     "iopub.execute_input": "2020-11-05T04:53:22.721525Z",
     "iopub.status.busy": "2020-11-05T04:53:22.721266Z",
     "iopub.status.idle": "2020-11-05T04:53:22.724927Z",
     "shell.execute_reply": "2020-11-05T04:53:22.724172Z",
     "shell.execute_reply.started": "2020-11-05T04:53:22.721496Z"
    }
   },
   "outputs": [
    {
     "name": "stderr",
     "output_type": "stream",
     "text": [
      "/home/magreen/anaconda3_2020_07/envs/metisgpulinux2venv/lib/python3.8/site-packages/ipykernel/ipkernel.py:287: DeprecationWarning: `should_run_async` will not call `transform_cell` automatically in the future. Please pass the result to `transformed_cell` argument and any exception that happen during thetransform in `preprocessing_exc_tuple` in IPython 7.17 and above.\n",
      "  and should_run_async(code)\n"
     ]
    }
   ],
   "source": [
    "#stuff_pos_filtered[6]"
   ]
  },
  {
   "cell_type": "code",
   "execution_count": 294,
   "metadata": {
    "execution": {
     "iopub.execute_input": "2020-11-05T05:14:03.308565Z",
     "iopub.status.busy": "2020-11-05T05:14:03.308316Z",
     "iopub.status.idle": "2020-11-05T05:14:03.314456Z",
     "shell.execute_reply": "2020-11-05T05:14:03.313883Z",
     "shell.execute_reply.started": "2020-11-05T05:14:03.308537Z"
    }
   },
   "outputs": [
    {
     "name": "stderr",
     "output_type": "stream",
     "text": [
      "/home/magreen/anaconda3_2020_07/envs/metisgpulinux2venv/lib/python3.8/site-packages/ipykernel/ipkernel.py:287: DeprecationWarning: `should_run_async` will not call `transform_cell` automatically in the future. Please pass the result to `transformed_cell` argument and any exception that happen during thetransform in `preprocessing_exc_tuple` in IPython 7.17 and above.\n",
      "  and should_run_async(code)\n"
     ]
    }
   ],
   "source": [
    "# I only want adjectives and adverbs sent to the vectorizer\n",
    "\n",
    "def filter_pos(stuff_lemmatized,pos_abbrev=[\"JJ\"]):\n",
    "    \"\"\"\n",
    "    takes as input the following\n",
    "    list_of_docs = a list(list(str)) object which is a list of documents that have been word tokenized and lemmatized\n",
    "    pos_abbrev = list of NLTK pos_tag() output parts of speech codes abbreviated to the first two characters\n",
    "    \n",
    "    \"\"\"\n",
    "#    print(\"pos_abbrev = \",pos_abbrev)\n",
    "\n",
    "    stuff_pos_filtered = []\n",
    "    \n",
    "    if type(pos_abbrev) != type([]):\n",
    "        print(\"post_abbrev must be a list of POS codes (1st 2 char of the code only)\")\n",
    "        return 1\n",
    "\n",
    "    for mylemdoc in stuff_lemmatized:\n",
    "    \n",
    "        temp_pos_filtered_doc = \"\"\n",
    "        #pos_tag() works better if you pass the entire document to it as a tokenized list\n",
    "        #it must be doing some sequence modeling under the hood to get context of words so that it can\n",
    "        #better ID parts of speech\n",
    "        \n",
    "        pos_result = pos_tag(mylemdoc)\n",
    "    \n",
    "        for result_word, result_pos in pos_result:\n",
    "#            print(\"tokenized word = \", word_tokenize(mylemword))\n",
    "#            print(\"tokenized word pos = \", pos_tag(word_tokenize(mylemword))[0][1])\n",
    "            for mypos in pos_abbrev:\n",
    "                if (mypos in result_pos) :\n",
    "                    temp_pos_filtered_doc = temp_pos_filtered_doc + result_word + \" \"\n",
    "            \n",
    "        stuff_pos_filtered.append(temp_pos_filtered_doc.rstrip())\n",
    "    \n",
    "    return stuff_pos_filtered\n"
   ]
  },
  {
   "cell_type": "code",
   "execution_count": 295,
   "metadata": {
    "execution": {
     "iopub.execute_input": "2020-11-05T05:14:09.541752Z",
     "iopub.status.busy": "2020-11-05T05:14:09.541503Z",
     "iopub.status.idle": "2020-11-05T05:14:12.122997Z",
     "shell.execute_reply": "2020-11-05T05:14:12.122393Z",
     "shell.execute_reply.started": "2020-11-05T05:14:09.541724Z"
    }
   },
   "outputs": [
    {
     "name": "stderr",
     "output_type": "stream",
     "text": [
      "/home/magreen/anaconda3_2020_07/envs/metisgpulinux2venv/lib/python3.8/site-packages/ipykernel/ipkernel.py:287: DeprecationWarning: `should_run_async` will not call `transform_cell` automatically in the future. Please pass the result to `transformed_cell` argument and any exception that happen during thetransform in `preprocessing_exc_tuple` in IPython 7.17 and above.\n",
      "  and should_run_async(code)\n"
     ]
    }
   ],
   "source": [
    "stuff_pos_filtered = filter_pos(stuff_lemmatized,pos_abbrev=[\"JJ\",\"RB\"])\n",
    "#stuff_pos_filtered\n",
    "#stuff_pos_filtered = stuff_pos_filtered + filter_pos(stuff_lemmatized,\"RB\")"
   ]
  },
  {
   "cell_type": "code",
   "execution_count": 296,
   "metadata": {
    "execution": {
     "iopub.execute_input": "2020-11-05T05:14:13.603526Z",
     "iopub.status.busy": "2020-11-05T05:14:13.603231Z",
     "iopub.status.idle": "2020-11-05T05:14:13.608603Z",
     "shell.execute_reply": "2020-11-05T05:14:13.607995Z",
     "shell.execute_reply.started": "2020-11-05T05:14:13.603477Z"
    }
   },
   "outputs": [
    {
     "name": "stderr",
     "output_type": "stream",
     "text": [
      "/home/magreen/anaconda3_2020_07/envs/metisgpulinux2venv/lib/python3.8/site-packages/ipykernel/ipkernel.py:287: DeprecationWarning: `should_run_async` will not call `transform_cell` automatically in the future. Please pass the result to `transformed_cell` argument and any exception that happen during thetransform in `preprocessing_exc_tuple` in IPython 7.17 and above.\n",
      "  and should_run_async(code)\n"
     ]
    },
    {
     "data": {
      "text/plain": [
       "['several good more processed smell well finicky good most',\n",
       " 'few light tiny then liberally powdered tiny Not too chewy very flavorful highly familiar',\n",
       " 'great wide very quick']"
      ]
     },
     "execution_count": 296,
     "metadata": {},
     "output_type": "execute_result"
    }
   ],
   "source": [
    "stuff_pos_filtered[0:3]"
   ]
  },
  {
   "cell_type": "code",
   "execution_count": 297,
   "metadata": {
    "execution": {
     "iopub.execute_input": "2020-11-05T05:14:31.577700Z",
     "iopub.status.busy": "2020-11-05T05:14:31.577431Z",
     "iopub.status.idle": "2020-11-05T05:14:31.581290Z",
     "shell.execute_reply": "2020-11-05T05:14:31.580647Z",
     "shell.execute_reply.started": "2020-11-05T05:14:31.577672Z"
    }
   },
   "outputs": [
    {
     "name": "stderr",
     "output_type": "stream",
     "text": [
      "/home/magreen/anaconda3_2020_07/envs/metisgpulinux2venv/lib/python3.8/site-packages/ipykernel/ipkernel.py:287: DeprecationWarning: `should_run_async` will not call `transform_cell` automatically in the future. Please pass the result to `transformed_cell` argument and any exception that happen during thetransform in `preprocessing_exc_tuple` in IPython 7.17 and above.\n",
      "  and should_run_async(code)\n"
     ]
    }
   ],
   "source": [
    "#stuff_lemmatized[0]"
   ]
  },
  {
   "cell_type": "markdown",
   "metadata": {},
   "source": [
    "Get the nouns"
   ]
  },
  {
   "cell_type": "code",
   "execution_count": 298,
   "metadata": {
    "execution": {
     "iopub.execute_input": "2020-11-05T05:14:34.050909Z",
     "iopub.status.busy": "2020-11-05T05:14:34.050666Z",
     "iopub.status.idle": "2020-11-05T05:14:36.622919Z",
     "shell.execute_reply": "2020-11-05T05:14:36.622336Z",
     "shell.execute_reply.started": "2020-11-05T05:14:34.050882Z"
    }
   },
   "outputs": [
    {
     "name": "stderr",
     "output_type": "stream",
     "text": [
      "/home/magreen/anaconda3_2020_07/envs/metisgpulinux2venv/lib/python3.8/site-packages/ipykernel/ipkernel.py:287: DeprecationWarning: `should_run_async` will not call `transform_cell` automatically in the future. Please pass the result to `transformed_cell` argument and any exception that happen during thetransform in `preprocessing_exc_tuple` in IPython 7.17 and above.\n",
      "  and should_run_async(code)\n"
     ]
    }
   ],
   "source": [
    "stuff_nouns = filter_pos(stuff_lemmatized,pos_abbrev=[\"NN\"])"
   ]
  },
  {
   "cell_type": "code",
   "execution_count": 302,
   "metadata": {
    "execution": {
     "iopub.execute_input": "2020-11-05T05:15:35.752156Z",
     "iopub.status.busy": "2020-11-05T05:15:35.751893Z",
     "iopub.status.idle": "2020-11-05T05:15:35.758369Z",
     "shell.execute_reply": "2020-11-05T05:15:35.757621Z",
     "shell.execute_reply.started": "2020-11-05T05:15:35.752124Z"
    }
   },
   "outputs": [
    {
     "name": "stderr",
     "output_type": "stream",
     "text": [
      "/home/magreen/anaconda3_2020_07/envs/metisgpulinux2venv/lib/python3.8/site-packages/ipykernel/ipkernel.py:287: DeprecationWarning: `should_run_async` will not call `transform_cell` automatically in the future. Please pass the result to `transformed_cell` argument and any exception that happen during thetransform in `preprocessing_exc_tuple` in IPython 7.17 and above.\n",
      "  and should_run_async(code)\n"
     ]
    },
    {
     "data": {
      "text/plain": [
       "['Vitality food product quality product stew meat My Labrador product',\n",
       " 'confection century pillowy citrus gelatin nut case Filberts square sugar mouthful heaven yummy treat story CS Lewis Lion Witch Wardrobe treat Edmund Brother Sisters Witch',\n",
       " 'Great taffy price assortment yummy taffy Delivery taffy lover deal']"
      ]
     },
     "execution_count": 302,
     "metadata": {},
     "output_type": "execute_result"
    }
   ],
   "source": [
    "stuff_nouns[0:3]"
   ]
  },
  {
   "cell_type": "code",
   "execution_count": 303,
   "metadata": {
    "execution": {
     "iopub.execute_input": "2020-11-05T05:16:41.794110Z",
     "iopub.status.busy": "2020-11-05T05:16:41.793763Z",
     "iopub.status.idle": "2020-11-05T05:16:41.798970Z",
     "shell.execute_reply": "2020-11-05T05:16:41.798401Z",
     "shell.execute_reply.started": "2020-11-05T05:16:41.794069Z"
    }
   },
   "outputs": [
    {
     "name": "stderr",
     "output_type": "stream",
     "text": [
      "/home/magreen/anaconda3_2020_07/envs/metisgpulinux2venv/lib/python3.8/site-packages/ipykernel/ipkernel.py:287: DeprecationWarning: `should_run_async` will not call `transform_cell` automatically in the future. Please pass the result to `transformed_cell` argument and any exception that happen during thetransform in `preprocessing_exc_tuple` in IPython 7.17 and above.\n",
      "  and should_run_async(code)\n"
     ]
    },
    {
     "data": {
      "text/plain": [
       "['several good more processed smell well finicky good most',\n",
       " 'few light tiny then liberally powdered tiny Not too chewy very flavorful highly familiar',\n",
       " 'great wide very quick',\n",
       " 'wild very enjoyable many only complaint there too much just not particular last only delightful',\n",
       " 'great very soft chewy individually wrap well together expensive highly beachthemed']"
      ]
     },
     "execution_count": 303,
     "metadata": {},
     "output_type": "execute_result"
    }
   ],
   "source": [
    "stuff_pos_filtered[0:5]"
   ]
  },
  {
   "cell_type": "code",
   "execution_count": 304,
   "metadata": {
    "execution": {
     "iopub.execute_input": "2020-11-05T05:16:43.484035Z",
     "iopub.status.busy": "2020-11-05T05:16:43.483788Z",
     "iopub.status.idle": "2020-11-05T05:16:43.488785Z",
     "shell.execute_reply": "2020-11-05T05:16:43.488153Z",
     "shell.execute_reply.started": "2020-11-05T05:16:43.484007Z"
    }
   },
   "outputs": [
    {
     "name": "stderr",
     "output_type": "stream",
     "text": [
      "/home/magreen/anaconda3_2020_07/envs/metisgpulinux2venv/lib/python3.8/site-packages/ipykernel/ipkernel.py:287: DeprecationWarning: `should_run_async` will not call `transform_cell` automatically in the future. Please pass the result to `transformed_cell` argument and any exception that happen during thetransform in `preprocessing_exc_tuple` in IPython 7.17 and above.\n",
      "  and should_run_async(code)\n"
     ]
    },
    {
     "data": {
      "text/plain": [
       "1000"
      ]
     },
     "execution_count": 304,
     "metadata": {},
     "output_type": "execute_result"
    }
   ],
   "source": [
    "len(stuff_pos_filtered)"
   ]
  },
  {
   "cell_type": "markdown",
   "metadata": {},
   "source": [
    "## Word Vectorization / Parsing\n",
    "\n",
    "Will do the following here:\n",
    "\n",
    "```\n",
    "\n",
    "(lemmatized text)-->[WordVectorization(dropping stop word)] --> [POS tagging] --> [collect Adjectives]\n",
    "\n",
    "\n",
    "```\n"
   ]
  },
  {
   "cell_type": "code",
   "execution_count": 305,
   "metadata": {
    "execution": {
     "iopub.execute_input": "2020-11-05T05:16:46.928716Z",
     "iopub.status.busy": "2020-11-05T05:16:46.928463Z",
     "iopub.status.idle": "2020-11-05T05:16:46.948531Z",
     "shell.execute_reply": "2020-11-05T05:16:46.948029Z",
     "shell.execute_reply.started": "2020-11-05T05:16:46.928688Z"
    }
   },
   "outputs": [
    {
     "name": "stderr",
     "output_type": "stream",
     "text": [
      "/home/magreen/anaconda3_2020_07/envs/metisgpulinux2venv/lib/python3.8/site-packages/ipykernel/ipkernel.py:287: DeprecationWarning: `should_run_async` will not call `transform_cell` automatically in the future. Please pass the result to `transformed_cell` argument and any exception that happen during thetransform in `preprocessing_exc_tuple` in IPython 7.17 and above.\n",
      "  and should_run_async(code)\n"
     ]
    }
   ],
   "source": [
    "vectorizer = CountVectorizer(stop_words=\"english\")\n",
    "docTermMatrixCountVec = vectorizer.fit_transform(stuff_pos_filtered)"
   ]
  },
  {
   "cell_type": "code",
   "execution_count": 306,
   "metadata": {
    "execution": {
     "iopub.execute_input": "2020-11-05T05:16:48.484349Z",
     "iopub.status.busy": "2020-11-05T05:16:48.484097Z",
     "iopub.status.idle": "2020-11-05T05:16:48.489494Z",
     "shell.execute_reply": "2020-11-05T05:16:48.488945Z",
     "shell.execute_reply.started": "2020-11-05T05:16:48.484321Z"
    }
   },
   "outputs": [
    {
     "name": "stderr",
     "output_type": "stream",
     "text": [
      "/home/magreen/anaconda3_2020_07/envs/metisgpulinux2venv/lib/python3.8/site-packages/ipykernel/ipkernel.py:287: DeprecationWarning: `should_run_async` will not call `transform_cell` automatically in the future. Please pass the result to `transformed_cell` argument and any exception that happen during thetransform in `preprocessing_exc_tuple` in IPython 7.17 and above.\n",
      "  and should_run_async(code)\n"
     ]
    },
    {
     "data": {
      "text/plain": [
       "1618"
      ]
     },
     "execution_count": 306,
     "metadata": {},
     "output_type": "execute_result"
    }
   ],
   "source": [
    "len(vectorizer.get_feature_names())"
   ]
  },
  {
   "cell_type": "code",
   "execution_count": 307,
   "metadata": {
    "execution": {
     "iopub.execute_input": "2020-11-05T05:16:49.821668Z",
     "iopub.status.busy": "2020-11-05T05:16:49.821409Z",
     "iopub.status.idle": "2020-11-05T05:16:49.829500Z",
     "shell.execute_reply": "2020-11-05T05:16:49.828936Z",
     "shell.execute_reply.started": "2020-11-05T05:16:49.821638Z"
    }
   },
   "outputs": [
    {
     "name": "stderr",
     "output_type": "stream",
     "text": [
      "/home/magreen/anaconda3_2020_07/envs/metisgpulinux2venv/lib/python3.8/site-packages/ipykernel/ipkernel.py:287: DeprecationWarning: `should_run_async` will not call `transform_cell` automatically in the future. Please pass the result to `transformed_cell` argument and any exception that happen during thetransform in `preprocessing_exc_tuple` in IPython 7.17 and above.\n",
      "  and should_run_async(code)\n"
     ]
    },
    {
     "data": {
      "text/plain": [
       "array([[0, 0, 0, ..., 0, 0, 0],\n",
       "       [0, 0, 0, ..., 0, 0, 0],\n",
       "       [0, 0, 0, ..., 0, 0, 0],\n",
       "       ...,\n",
       "       [0, 0, 0, ..., 0, 0, 0],\n",
       "       [0, 0, 0, ..., 0, 0, 0],\n",
       "       [0, 0, 0, ..., 0, 0, 0]])"
      ]
     },
     "execution_count": 307,
     "metadata": {},
     "output_type": "execute_result"
    }
   ],
   "source": [
    "docTermMatrixCountVec.toarray()"
   ]
  },
  {
   "cell_type": "code",
   "execution_count": 308,
   "metadata": {
    "execution": {
     "iopub.execute_input": "2020-11-05T05:16:51.982828Z",
     "iopub.status.busy": "2020-11-05T05:16:51.982578Z",
     "iopub.status.idle": "2020-11-05T05:16:51.987498Z",
     "shell.execute_reply": "2020-11-05T05:16:51.986883Z",
     "shell.execute_reply.started": "2020-11-05T05:16:51.982800Z"
    }
   },
   "outputs": [
    {
     "name": "stderr",
     "output_type": "stream",
     "text": [
      "/home/magreen/anaconda3_2020_07/envs/metisgpulinux2venv/lib/python3.8/site-packages/ipykernel/ipkernel.py:287: DeprecationWarning: `should_run_async` will not call `transform_cell` automatically in the future. Please pass the result to `transformed_cell` argument and any exception that happen during thetransform in `preprocessing_exc_tuple` in IPython 7.17 and above.\n",
      "  and should_run_async(code)\n"
     ]
    },
    {
     "data": {
      "text/plain": [
       "(1000, 1618)"
      ]
     },
     "execution_count": 308,
     "metadata": {},
     "output_type": "execute_result"
    }
   ],
   "source": [
    "docTermMatrixCountVec.shape"
   ]
  },
  {
   "cell_type": "code",
   "execution_count": 309,
   "metadata": {
    "execution": {
     "iopub.execute_input": "2020-11-05T05:16:53.854958Z",
     "iopub.status.busy": "2020-11-05T05:16:53.854706Z",
     "iopub.status.idle": "2020-11-05T05:16:53.864581Z",
     "shell.execute_reply": "2020-11-05T05:16:53.863938Z",
     "shell.execute_reply.started": "2020-11-05T05:16:53.854930Z"
    }
   },
   "outputs": [
    {
     "name": "stderr",
     "output_type": "stream",
     "text": [
      "/home/magreen/anaconda3_2020_07/envs/metisgpulinux2venv/lib/python3.8/site-packages/ipykernel/ipkernel.py:287: DeprecationWarning: `should_run_async` will not call `transform_cell` automatically in the future. Please pass the result to `transformed_cell` argument and any exception that happen during thetransform in `preprocessing_exc_tuple` in IPython 7.17 and above.\n",
      "  and should_run_async(code)\n"
     ]
    }
   ],
   "source": [
    "\n",
    "docTermMatrixCountVec_df = pd.DataFrame(docTermMatrixCountVec.toarray(), index=stuff_pos_filtered, columns=vectorizer.get_feature_names())"
   ]
  },
  {
   "cell_type": "code",
   "execution_count": 310,
   "metadata": {
    "execution": {
     "iopub.execute_input": "2020-11-05T05:16:55.357979Z",
     "iopub.status.busy": "2020-11-05T05:16:55.357720Z",
     "iopub.status.idle": "2020-11-05T05:16:55.378368Z",
     "shell.execute_reply": "2020-11-05T05:16:55.377781Z",
     "shell.execute_reply.started": "2020-11-05T05:16:55.357949Z"
    }
   },
   "outputs": [
    {
     "name": "stderr",
     "output_type": "stream",
     "text": [
      "/home/magreen/anaconda3_2020_07/envs/metisgpulinux2venv/lib/python3.8/site-packages/ipykernel/ipkernel.py:287: DeprecationWarning: `should_run_async` will not call `transform_cell` automatically in the future. Please pass the result to `transformed_cell` argument and any exception that happen during thetransform in `preprocessing_exc_tuple` in IPython 7.17 and above.\n",
      "  and should_run_async(code)\n"
     ]
    },
    {
     "data": {
      "text/html": [
       "<div>\n",
       "<style scoped>\n",
       "    .dataframe tbody tr th:only-of-type {\n",
       "        vertical-align: middle;\n",
       "    }\n",
       "\n",
       "    .dataframe tbody tr th {\n",
       "        vertical-align: top;\n",
       "    }\n",
       "\n",
       "    .dataframe thead th {\n",
       "        text-align: right;\n",
       "    }\n",
       "</style>\n",
       "<table border=\"1\" class=\"dataframe\">\n",
       "  <thead>\n",
       "    <tr style=\"text-align: right;\">\n",
       "      <th></th>\n",
       "      <th>50mile</th>\n",
       "      <th>abate</th>\n",
       "      <th>able</th>\n",
       "      <th>aboutbottomline</th>\n",
       "      <th>absolute</th>\n",
       "      <th>absolutely</th>\n",
       "      <th>abt</th>\n",
       "      <th>acai</th>\n",
       "      <th>acceptable</th>\n",
       "      <th>accessable</th>\n",
       "      <th>...</th>\n",
       "      <th>yeti</th>\n",
       "      <th>yo</th>\n",
       "      <th>youa</th>\n",
       "      <th>young</th>\n",
       "      <th>youngest</th>\n",
       "      <th>yr</th>\n",
       "      <th>yummy</th>\n",
       "      <th>yummybut</th>\n",
       "      <th>zen</th>\n",
       "      <th>zippy</th>\n",
       "    </tr>\n",
       "  </thead>\n",
       "  <tbody>\n",
       "    <tr>\n",
       "      <th>several good more processed smell well finicky good most</th>\n",
       "      <td>0</td>\n",
       "      <td>0</td>\n",
       "      <td>0</td>\n",
       "      <td>0</td>\n",
       "      <td>0</td>\n",
       "      <td>0</td>\n",
       "      <td>0</td>\n",
       "      <td>0</td>\n",
       "      <td>0</td>\n",
       "      <td>0</td>\n",
       "      <td>...</td>\n",
       "      <td>0</td>\n",
       "      <td>0</td>\n",
       "      <td>0</td>\n",
       "      <td>0</td>\n",
       "      <td>0</td>\n",
       "      <td>0</td>\n",
       "      <td>0</td>\n",
       "      <td>0</td>\n",
       "      <td>0</td>\n",
       "      <td>0</td>\n",
       "    </tr>\n",
       "    <tr>\n",
       "      <th>few light tiny then liberally powdered tiny Not too chewy very flavorful highly familiar</th>\n",
       "      <td>0</td>\n",
       "      <td>0</td>\n",
       "      <td>0</td>\n",
       "      <td>0</td>\n",
       "      <td>0</td>\n",
       "      <td>0</td>\n",
       "      <td>0</td>\n",
       "      <td>0</td>\n",
       "      <td>0</td>\n",
       "      <td>0</td>\n",
       "      <td>...</td>\n",
       "      <td>0</td>\n",
       "      <td>0</td>\n",
       "      <td>0</td>\n",
       "      <td>0</td>\n",
       "      <td>0</td>\n",
       "      <td>0</td>\n",
       "      <td>0</td>\n",
       "      <td>0</td>\n",
       "      <td>0</td>\n",
       "      <td>0</td>\n",
       "    </tr>\n",
       "    <tr>\n",
       "      <th>great wide very quick</th>\n",
       "      <td>0</td>\n",
       "      <td>0</td>\n",
       "      <td>0</td>\n",
       "      <td>0</td>\n",
       "      <td>0</td>\n",
       "      <td>0</td>\n",
       "      <td>0</td>\n",
       "      <td>0</td>\n",
       "      <td>0</td>\n",
       "      <td>0</td>\n",
       "      <td>...</td>\n",
       "      <td>0</td>\n",
       "      <td>0</td>\n",
       "      <td>0</td>\n",
       "      <td>0</td>\n",
       "      <td>0</td>\n",
       "      <td>0</td>\n",
       "      <td>0</td>\n",
       "      <td>0</td>\n",
       "      <td>0</td>\n",
       "      <td>0</td>\n",
       "    </tr>\n",
       "    <tr>\n",
       "      <th>wild very enjoyable many only complaint there too much just not particular last only delightful</th>\n",
       "      <td>0</td>\n",
       "      <td>0</td>\n",
       "      <td>0</td>\n",
       "      <td>0</td>\n",
       "      <td>0</td>\n",
       "      <td>0</td>\n",
       "      <td>0</td>\n",
       "      <td>0</td>\n",
       "      <td>0</td>\n",
       "      <td>0</td>\n",
       "      <td>...</td>\n",
       "      <td>0</td>\n",
       "      <td>0</td>\n",
       "      <td>0</td>\n",
       "      <td>0</td>\n",
       "      <td>0</td>\n",
       "      <td>0</td>\n",
       "      <td>0</td>\n",
       "      <td>0</td>\n",
       "      <td>0</td>\n",
       "      <td>0</td>\n",
       "    </tr>\n",
       "    <tr>\n",
       "      <th>great very soft chewy individually wrap well together expensive highly beachthemed</th>\n",
       "      <td>0</td>\n",
       "      <td>0</td>\n",
       "      <td>0</td>\n",
       "      <td>0</td>\n",
       "      <td>0</td>\n",
       "      <td>0</td>\n",
       "      <td>0</td>\n",
       "      <td>0</td>\n",
       "      <td>0</td>\n",
       "      <td>0</td>\n",
       "      <td>...</td>\n",
       "      <td>0</td>\n",
       "      <td>0</td>\n",
       "      <td>0</td>\n",
       "      <td>0</td>\n",
       "      <td>0</td>\n",
       "      <td>0</td>\n",
       "      <td>0</td>\n",
       "      <td>0</td>\n",
       "      <td>0</td>\n",
       "      <td>0</td>\n",
       "    </tr>\n",
       "  </tbody>\n",
       "</table>\n",
       "<p>5 rows × 1618 columns</p>\n",
       "</div>"
      ],
      "text/plain": [
       "                                                    50mile  abate  able  \\\n",
       "several good more processed smell well finicky ...       0      0     0   \n",
       "few light tiny then liberally powdered tiny Not...       0      0     0   \n",
       "great wide very quick                                    0      0     0   \n",
       "wild very enjoyable many only complaint there t...       0      0     0   \n",
       "great very soft chewy individually wrap well to...       0      0     0   \n",
       "\n",
       "                                                    aboutbottomline  absolute  \\\n",
       "several good more processed smell well finicky ...                0         0   \n",
       "few light tiny then liberally powdered tiny Not...                0         0   \n",
       "great wide very quick                                             0         0   \n",
       "wild very enjoyable many only complaint there t...                0         0   \n",
       "great very soft chewy individually wrap well to...                0         0   \n",
       "\n",
       "                                                    absolutely  abt  acai  \\\n",
       "several good more processed smell well finicky ...           0    0     0   \n",
       "few light tiny then liberally powdered tiny Not...           0    0     0   \n",
       "great wide very quick                                        0    0     0   \n",
       "wild very enjoyable many only complaint there t...           0    0     0   \n",
       "great very soft chewy individually wrap well to...           0    0     0   \n",
       "\n",
       "                                                    acceptable  accessable  \\\n",
       "several good more processed smell well finicky ...           0           0   \n",
       "few light tiny then liberally powdered tiny Not...           0           0   \n",
       "great wide very quick                                        0           0   \n",
       "wild very enjoyable many only complaint there t...           0           0   \n",
       "great very soft chewy individually wrap well to...           0           0   \n",
       "\n",
       "                                                    ...  yeti  yo  youa  \\\n",
       "several good more processed smell well finicky ...  ...     0   0     0   \n",
       "few light tiny then liberally powdered tiny Not...  ...     0   0     0   \n",
       "great wide very quick                               ...     0   0     0   \n",
       "wild very enjoyable many only complaint there t...  ...     0   0     0   \n",
       "great very soft chewy individually wrap well to...  ...     0   0     0   \n",
       "\n",
       "                                                    young  youngest  yr  \\\n",
       "several good more processed smell well finicky ...      0         0   0   \n",
       "few light tiny then liberally powdered tiny Not...      0         0   0   \n",
       "great wide very quick                                   0         0   0   \n",
       "wild very enjoyable many only complaint there t...      0         0   0   \n",
       "great very soft chewy individually wrap well to...      0         0   0   \n",
       "\n",
       "                                                    yummy  yummybut  zen  \\\n",
       "several good more processed smell well finicky ...      0         0    0   \n",
       "few light tiny then liberally powdered tiny Not...      0         0    0   \n",
       "great wide very quick                                   0         0    0   \n",
       "wild very enjoyable many only complaint there t...      0         0    0   \n",
       "great very soft chewy individually wrap well to...      0         0    0   \n",
       "\n",
       "                                                    zippy  \n",
       "several good more processed smell well finicky ...      0  \n",
       "few light tiny then liberally powdered tiny Not...      0  \n",
       "great wide very quick                                   0  \n",
       "wild very enjoyable many only complaint there t...      0  \n",
       "great very soft chewy individually wrap well to...      0  \n",
       "\n",
       "[5 rows x 1618 columns]"
      ]
     },
     "execution_count": 310,
     "metadata": {},
     "output_type": "execute_result"
    }
   ],
   "source": [
    "docTermMatrixCountVec_df.head()"
   ]
  },
  {
   "cell_type": "code",
   "execution_count": 311,
   "metadata": {
    "execution": {
     "iopub.execute_input": "2020-11-05T05:17:10.202298Z",
     "iopub.status.busy": "2020-11-05T05:17:10.202046Z",
     "iopub.status.idle": "2020-11-05T05:17:12.266165Z",
     "shell.execute_reply": "2020-11-05T05:17:12.265476Z",
     "shell.execute_reply.started": "2020-11-05T05:17:10.202270Z"
    }
   },
   "outputs": [
    {
     "name": "stderr",
     "output_type": "stream",
     "text": [
      "/home/magreen/anaconda3_2020_07/envs/metisgpulinux2venv/lib/python3.8/site-packages/ipykernel/ipkernel.py:287: DeprecationWarning: `should_run_async` will not call `transform_cell` automatically in the future. Please pass the result to `transformed_cell` argument and any exception that happen during thetransform in `preprocessing_exc_tuple` in IPython 7.17 and above.\n",
      "  and should_run_async(code)\n"
     ]
    },
    {
     "data": {
      "text/plain": [
       "LatentDirichletAllocation(n_components=5, random_state=0)"
      ]
     },
     "execution_count": 311,
     "metadata": {},
     "output_type": "execute_result"
    }
   ],
   "source": [
    "LD_Allocator = LatentDirichletAllocation(n_components=5, random_state=0)\n",
    "LD_Allocator.fit(docTermMatrixCountVec)"
   ]
  },
  {
   "cell_type": "markdown",
   "metadata": {},
   "source": [
    "## Topics via LDA"
   ]
  },
  {
   "cell_type": "markdown",
   "metadata": {
    "execution": {
     "iopub.execute_input": "2020-11-03T22:20:31.145738Z",
     "iopub.status.busy": "2020-11-03T22:20:31.145545Z",
     "iopub.status.idle": "2020-11-03T22:20:31.162025Z",
     "shell.execute_reply": "2020-11-03T22:20:31.161379Z",
     "shell.execute_reply.started": "2020-11-03T22:20:31.145719Z"
    }
   },
   "source": [
    "## LDA on \"Good\" Reviews"
   ]
  },
  {
   "cell_type": "code",
   "execution_count": 313,
   "metadata": {
    "execution": {
     "iopub.execute_input": "2020-11-05T05:18:05.416635Z",
     "iopub.status.busy": "2020-11-05T05:18:05.416381Z",
     "iopub.status.idle": "2020-11-05T05:18:10.366003Z",
     "shell.execute_reply": "2020-11-05T05:18:10.365520Z",
     "shell.execute_reply.started": "2020-11-05T05:18:05.416606Z"
    }
   },
   "outputs": [
    {
     "name": "stderr",
     "output_type": "stream",
     "text": [
      "/home/magreen/anaconda3_2020_07/envs/metisgpulinux2venv/lib/python3.8/site-packages/ipykernel/ipkernel.py:287: DeprecationWarning: `should_run_async` will not call `transform_cell` automatically in the future. Please pass the result to `transformed_cell` argument and any exception that happen during thetransform in `preprocessing_exc_tuple` in IPython 7.17 and above.\n",
      "  and should_run_async(code)\n"
     ]
    },
    {
     "data": {
      "text/html": [
       "\n",
       "<link rel=\"stylesheet\" type=\"text/css\" href=\"https://cdn.rawgit.com/bmabey/pyLDAvis/files/ldavis.v1.0.0.css\">\n",
       "\n",
       "\n",
       "<div id=\"ldavis_el237071403602968736483804085870\"></div>\n",
       "<script type=\"text/javascript\">\n",
       "\n",
       "var ldavis_el237071403602968736483804085870_data = {\"mdsDat\": {\"x\": [0.067169585004843, -0.024527001124831336, 0.09560693660724674, -0.012180712958772624, -0.1260688075284857], \"y\": [0.03774920228160704, 0.04622177268035289, -0.0961198203451824, 0.08182940697151912, -0.06968056158829661], \"topics\": [1, 2, 3, 4, 5], \"cluster\": [1, 1, 1, 1, 1], \"Freq\": [30.24097636736258, 21.20789370363432, 20.324049662878217, 20.112752320034204, 8.114327946090663]}, \"tinfo\": {\"Term\": [\"favorite\", \"good\", \"small\", \"just\", \"fresh\", \"hard\", \"little\", \"great\", \"really\", \"perfect\", \"strong\", \"happy\", \"wonderful\", \"right\", \"large\", \"actually\", \"able\", \"expensive\", \"sure\", \"soon\", \"excellent\", \"local\", \"fast\", \"old\", \"exactly\", \"nice\", \"cheap\", \"instant\", \"light\", \"highly\", \"finally\", \"daily\", \"sugar\", \"original\", \"oatmeal\", \"unsalted\", \"eat\", \"asparagus\", \"completely\", \"securely\", \"hungry\", \"primary\", \"dead\", \"approximately\", \"quality\", \"impossible\", \"indian\", \"superb\", \"italian\", \"beautiful\", \"instant\", \"happy\", \"smooth\", \"pocky\", \"website\", \"floral\", \"importantly\", \"energetic\", \"look\", \"mildly\", \"away\", \"addict\", \"good\", \"available\", \"nearly\", \"natural\", \"easy\", \"little\", \"bad\", \"healthy\", \"delicious\", \"nice\", \"best\", \"different\", \"really\", \"organic\", \"hot\", \"expensive\", \"pretty\", \"definitely\", \"just\", \"long\", \"green\", \"high\", \"great\", \"local\", \"free\", \"tasty\", \"sweet\", \"low\", \"excellent\", \"kibble\", \"sheen\", \"senior\", \"heavily\", \"ceral\", \"cooked\", \"bite\", \"nasty\", \"pricey\", \"exactly\", \"satisfied\", \"fairly\", \"particular\", \"young\", \"runny\", \"central\", \"box\", \"inner\", \"endurolyte\", \"safe\", \"appropriate\", \"digestible\", \"wild\", \"mile\", \"assemble\", \"creamer\", \"sorry\", \"couple\", \"potatochip\", \"female\", \"favorite\", \"fabulous\", \"extremely\", \"strong\", \"easily\", \"old\", \"entire\", \"big\", \"far\", \"great\", \"highly\", \"absolutely\", \"new\", \"small\", \"quickly\", \"quite\", \"just\", \"high\", \"best\", \"large\", \"sweet\", \"hard\", \"slightly\", \"hot\", \"tasty\", \"little\", \"good\", \"right\", \"definitely\", \"regular\", \"really\", \"long\", \"easy\", \"local\", \"pretty\", \"tangy\", \"amazon\", \"certify\", \"lime\", \"unmistakablea\", \"healthier\", \"oregonian\", \"classically\", \"alternate\", \"addicted\", \"gourmet\", \"incredible\", \"definately\", \"gravy\", \"delectable\", \"proud\", \"vegan\", \"minimal\", \"south\", \"fanatic\", \"wintergreen\", \"sandwich\", \"vegetable\", \"major\", \"commercial\", \"moderate\", \"stuffed\", \"plus\", \"pate\", \"grilled\", \"nicely\", \"actually\", \"overpower\", \"twice\", \"fat\", \"perfect\", \"excellent\", \"cheap\", \"light\", \"perfectly\", \"sure\", \"white\", \"fresh\", \"single\", \"amazing\", \"delicious\", \"good\", \"best\", \"pleased\", \"real\", \"artificial\", \"great\", \"pretty\", \"really\", \"strong\", \"healthy\", \"tasty\", \"raw\", \"recently\", \"hot\", \"just\", \"local\", \"organic\", \"high\", \"regular\", \"old\", \"especially\", \"salty\", \"amaze\", \"sticky\", \"locally\", \"oz\", \"dog\", \"cinnamon\", \"creative\", \"noninstant\", \"glad\", \"salt\", \"awesome\", \"apart\", \"truly\", \"anime\", \"nibble\", \"innovative\", \"crunch\", \"human\", \"robust\", \"allergy\", \"sooooo\", \"likely\", \"boring\", \"powdered\", \"carefully\", \"molecular\", \"fragile\", \"pepper\", \"dang\", \"wonderful\", \"hard\", \"wet\", \"fast\", \"pleasantly\", \"classic\", \"right\", \"dry\", \"really\", \"great\", \"just\", \"small\", \"low\", \"red\", \"extra\", \"little\", \"perfect\", \"flavorful\", \"clean\", \"sweet\", \"sure\", \"regular\", \"nice\", \"best\", \"long\", \"instead\", \"good\", \"different\", \"free\", \"natural\", \"highly\", \"fresh\", \"bad\", \"able\", \"favorite\", \"delicious\", \"specific\", \"advertised\", \"authentic\", \"herbal\", \"sad\", \"ordinary\", \"wrap\", \"colorful\", \"hooked\", \"bright\", \"ship\", \"unable\", \"responsible\", \"lhasa\", \"poodle\", \"farting\", \"necessary\", \"undoubtedly\", \"gluttonyeventually\", \"yeah\", \"tummy\", \"sept\", \"lab\", \"bimonthly\", \"unbaked\", \"pungent\", \"roadside\", \"50mile\", \"grouchy\", \"digest\", \"soon\", \"forever\", \"previous\", \"spice\", \"consistently\", \"nose\", \"double\", \"frequently\", \"pineapple\", \"able\", \"reasonable\", \"puppy\", \"fresh\", \"garlic\", \"multiple\", \"large\", \"asian\", \"anymore\", \"small\", \"expensive\", \"just\", \"local\", \"black\", \"frozen\", \"crazy\", \"great\", \"nice\", \"hot\", \"old\", \"happy\", \"right\", \"good\", \"fast\", \"different\", \"free\", \"easy\", \"tasty\", \"highly\", \"regular\", \"especially\"], \"Freq\": [73.0, 323.0, 68.0, 175.0, 48.0, 40.0, 98.0, 225.0, 133.0, 52.0, 33.0, 38.0, 37.0, 39.0, 39.0, 37.0, 21.0, 29.0, 40.0, 14.0, 33.0, 49.0, 20.0, 40.0, 14.0, 51.0, 20.0, 17.0, 24.0, 30.0, 10.259778850232657, 7.735435824133068, 5.214286631208507, 5.2138046484459055, 4.3732548327396215, 4.37325055534147, 10.1975252683266, 3.5322445918491616, 3.532234091909694, 3.532232074066661, 3.531675852633405, 2.691238833360403, 2.6912358434675285, 2.6912334954819013, 2.691231379003747, 2.6912233347769385, 2.6912225127393548, 2.691161943123145, 2.690394459130484, 2.6613254756581837, 13.724805305037492, 30.077561276013423, 8.305229736676095, 4.371161449958864, 1.8502293198046529, 1.8502192182730597, 1.8502168168800408, 1.8502163095365596, 1.8502157882303196, 1.8502149106910213, 11.35056846685335, 6.061138463433767, 202.32926436739913, 17.599869804994217, 3.530029546845806, 20.069407359946517, 28.05174291319148, 48.888069295526975, 17.674619187268252, 20.244405121271885, 29.786843479178643, 24.555119615641054, 47.124342692589615, 15.43762842064076, 46.72544635113005, 14.413496561383113, 23.73394111775234, 14.06154618301577, 16.53779162971956, 16.32607487793982, 45.21914237154281, 17.00604471161611, 12.791183252414484, 17.130191705039742, 42.56779162398045, 17.018869878085408, 14.299347883243815, 15.553208535633582, 13.846634975896341, 11.937639317677682, 12.07119405297853, 4.3231672646455275, 3.4902599723154024, 2.6609886274777512, 2.6609836177493174, 2.6609804095130163, 2.660963404740698, 2.660422227962135, 2.6589526173316975, 2.6536377429553184, 11.579839855883254, 5.098858599270393, 4.324747328724195, 4.326531952704834, 4.323404753540921, 4.3359474875228745, 1.829430507919881, 1.8294286571453253, 1.8294274246603721, 1.8294274179459455, 1.8294264090495183, 1.8294218410262926, 1.8294217516600608, 1.8294192869703612, 1.8294171939057156, 1.8294169449484206, 1.8294169344969424, 1.829402410961822, 1.829084259498691, 1.8289081845519795, 1.8287477734291677, 51.9003933667378, 4.836885780421471, 7.589595676588199, 21.609208018523013, 7.453322970009406, 18.56030583753405, 6.169044441340671, 18.872364106342758, 14.358027892167074, 63.33605821912603, 13.122380947282307, 9.102755275804745, 7.796864909260407, 23.99791829271766, 3.4969649420623052, 9.988601549278405, 39.124243277093555, 15.145921702339107, 27.53449830620493, 12.94728975255789, 14.02504430821313, 12.64178897974341, 7.598699521766112, 15.330141332726903, 13.122113679249933, 17.666413456304724, 31.699787723795232, 11.289579400733164, 10.466899403046396, 10.09688625061679, 16.297009685043975, 8.676900392348303, 8.169953918117677, 7.865518659136593, 7.659675821748381, 7.553379987009521, 5.093077959052691, 4.271639714876696, 4.271639714876696, 4.271639714876696, 4.271639714876696, 4.271639714876696, 4.271639714876696, 4.271637517595368, 4.271634551865195, 4.270805577151959, 4.270361004202157, 4.268811431533662, 4.267876445947285, 3.4501697773790947, 3.4501697773790947, 3.450162852690603, 2.628650817810546, 2.628195229603127, 2.62769370283456, 2.6239458272542167, 2.599456990786712, 9.130712039267772, 4.272735506252291, 4.271961257520696, 4.273514145361279, 1.8072310377770475, 1.8072306712348394, 1.8072301429917352, 1.807229979753309, 7.3509319586754, 23.561755583659707, 6.744077446048864, 3.4481249568005454, 11.949841505144786, 27.10642082232724, 18.310131560346008, 12.075187554908789, 13.217743753194954, 7.4848368250599, 18.481636697893148, 10.352132581930872, 19.707987451422756, 8.049082447507972, 7.479323611295389, 20.79382087150876, 57.85567667031768, 28.060004631948146, 7.626725262456259, 10.380596356673303, 6.74254139779139, 32.41057295270608, 11.278895001598704, 19.820379486726626, 10.207868943374317, 10.637207100596282, 11.122828941173157, 5.918340268258085, 6.7456172763233475, 11.572943460809105, 17.01964019582138, 9.823622154284946, 8.38330875863281, 8.937457695012341, 8.24413795673671, 7.916184343201972, 7.725356332998586, 5.06487946441673, 4.256566908373176, 4.255111935631366, 4.254956351282535, 3.4345289708457756, 2.6195490702829587, 2.6188732911636414, 2.6181504835246803, 2.607452220071578, 9.056564459745818, 5.084917805251188, 4.8854884161455345, 4.2534459096412105, 4.230806152854251, 1.8009485083183976, 1.8009485083183976, 1.8009439639569687, 1.800937846925122, 1.8009327415933887, 1.8009309983328259, 1.8009077825272697, 1.8008605312784074, 1.8003015846952664, 1.8000435425565509, 1.8000343231593845, 1.799793894285916, 1.7997921136106294, 1.799785090109619, 1.7989312721321173, 1.7984602030522918, 24.39960705791804, 25.5522882871003, 3.437147667875518, 12.469103991399612, 4.255833375197797, 4.259364118512836, 20.467765468459483, 9.78187682715376, 50.35719935011788, 75.94215797193331, 57.25963884622539, 24.953917750709614, 13.040404436566297, 5.076769285379879, 8.44836890944943, 30.798199893272784, 15.497043734313705, 6.7179549861793975, 5.0879081442461, 12.2376662616448, 11.136260189171685, 10.984719065477561, 12.463214656583048, 18.41565079506676, 10.684700347211889, 8.144764348345428, 25.164909760121873, 7.873658927467723, 8.045558357064152, 7.718013188149794, 7.218341249170398, 8.257940344894184, 7.1967861333137195, 6.316245457512744, 7.447120769725309, 7.214847070212766, 2.310639980659404, 2.3095398637205173, 2.3094748185357052, 2.3093753047503864, 2.3075464424689156, 1.5887965572856095, 1.5887944445968656, 1.5881810424492826, 1.5865381438245454, 2.3162413476334764, 2.3118785090861933, 2.31560671653975, 0.866616302658362, 0.866616302658362, 0.866616302658362, 0.866616302658362, 0.866616302658362, 0.866616302658362, 0.866616302658362, 0.866616302658362, 0.8666159272375672, 0.8666159272375672, 0.8666159272375672, 0.8666159272375672, 0.866614872170434, 0.86661480554478, 0.86661480554478, 0.86661480554478, 0.8666146355800469, 0.8666146355800469, 6.190557481322225, 1.590210354036509, 1.5908388569653336, 1.5886927699074174, 1.5893290074544126, 1.5898313639881285, 1.5883504683155942, 1.5914982642740254, 1.5721170336721233, 7.12550678860784, 3.762438496005347, 2.8007574755341125, 11.336132400778263, 3.771685019601937, 2.5742224334021326, 8.535450381375691, 2.3168756086532283, 2.3154555734062203, 10.730271519408294, 6.145916841459968, 16.98423513779197, 8.058131108110219, 3.3565203936884656, 2.2889364680938917, 2.3216403579314435, 10.830149524066695, 5.605697343845018, 5.792636611635613, 4.503630954782032, 4.156832801324689, 3.9148520111754617, 6.594593299666026, 3.1654273390763965, 3.033669390317923, 3.04629686588125, 3.011398638800036, 2.5394710449097326, 2.4547437551873044, 2.4070237254102254, 2.3203760855503703], \"Total\": [73.0, 323.0, 68.0, 175.0, 48.0, 40.0, 98.0, 225.0, 133.0, 52.0, 33.0, 38.0, 37.0, 39.0, 39.0, 37.0, 21.0, 29.0, 40.0, 14.0, 33.0, 49.0, 20.0, 40.0, 14.0, 51.0, 20.0, 17.0, 24.0, 30.0, 10.899141532453363, 8.376054031580777, 5.853060151705444, 5.853054227998091, 5.012043587948924, 5.012043307595906, 11.716251195418323, 4.171028552830943, 4.171027765982465, 4.171027610525775, 4.171020951915172, 3.330013832400304, 3.3300136320108953, 3.3300134624482474, 3.330013306534126, 3.33001276187153, 3.3300126495994604, 3.3300083290073794, 3.330000905011735, 3.325788276339285, 17.278368506889407, 38.766932847951715, 10.86708043543409, 5.83036236006346, 2.4889988550038855, 2.488998140980348, 2.488997952617595, 2.488997940405504, 2.488997886865134, 2.4889978055245283, 15.749568967595735, 8.331456681371408, 323.64423182129997, 25.783616995825422, 5.002532320334837, 33.34208887367835, 50.42418041490014, 98.09741243685544, 30.80315603184739, 39.908204454586254, 64.80512176043656, 51.595207491400444, 121.2797145871183, 30.310683115195744, 133.34476344005023, 29.074466538194088, 59.89643105242322, 29.097468107116377, 37.41731172148327, 38.9528540141252, 175.6068998284751, 42.892079315887166, 27.45601411978782, 44.619797596763334, 225.08673029181256, 49.46938814157864, 36.928462585493605, 46.16054070484615, 45.3898432876509, 30.440739398898323, 33.97782159284883, 4.964757771513036, 4.133176302451155, 3.3016508415505017, 3.3016505227125896, 3.3016503214219908, 3.3016492755649467, 3.301655599169811, 3.3016256041632714, 3.3015984848141917, 14.717308452701229, 6.61711195638112, 5.68716038995772, 5.786271116804956, 5.783400388902787, 5.805649658874681, 2.4700900655855356, 2.470089946339468, 2.4700898662402904, 2.4700898676861005, 2.4700898103551725, 2.470089546155424, 2.4700894943820977, 2.470089357710884, 2.4700892315146072, 2.4700892349614474, 2.470089246704903, 2.4700883334993335, 2.470093388657129, 2.470096117311172, 2.4700978270934635, 73.96928423038925, 6.609990328019469, 10.751604343616577, 33.728853487288646, 11.358280533370836, 40.037565069653006, 10.808520234283987, 42.35954862227741, 32.37166705565135, 225.08673029181256, 30.194891770164944, 18.955956862776688, 15.602104066906797, 68.65671925787666, 5.795657993152896, 24.11274759809021, 175.6068998284751, 44.619797596763334, 121.2797145871183, 39.37344175256983, 45.3898432876509, 40.82612662557798, 18.156497051900118, 59.89643105242322, 46.16054070484615, 98.09741243685544, 323.64423182129997, 39.87318026864963, 38.9528540141252, 40.20213439945414, 133.34476344005023, 42.892079315887166, 50.42418041490014, 49.46938814157864, 37.41731172148327, 8.200251194911775, 5.735785716309054, 4.914317395999897, 4.914317395999897, 4.914317395999897, 4.914317395999897, 4.914317395999897, 4.914317395999897, 4.914317290310458, 4.914317165253485, 4.914326910813895, 4.914327113925625, 4.914171724049036, 4.914303435942076, 4.09284755222484, 4.09284755222484, 4.0928472199988315, 3.27137538036514, 3.271387699239523, 3.271401183103227, 3.271360376156997, 3.271751163867007, 11.507093935508218, 5.636631824513376, 5.745882318026042, 5.755287485384303, 2.449907924791685, 2.4499079070886087, 2.4499078734159876, 2.4499078704241777, 10.668496387549695, 37.143311365578676, 9.901531006590146, 4.92445311571532, 19.79993910509985, 52.64838909507022, 33.97782159284883, 20.65483702881303, 24.730384129667556, 12.339918329556319, 40.43954187716829, 18.920899292335655, 48.71651176692351, 14.026067695838309, 13.237598261740937, 64.80512176043656, 323.64423182129997, 121.2797145871183, 13.769838159047652, 25.62456897797802, 11.583635254026966, 225.08673029181256, 37.41731172148327, 133.34476344005023, 33.728853487288646, 39.908204454586254, 46.16054070484615, 10.762242754879635, 14.947565359169877, 59.89643105242322, 175.6068998284751, 49.46938814157864, 29.074466538194088, 44.619797596763334, 40.20213439945414, 40.037565069653006, 26.182097621329298, 5.718692841228251, 4.9000435368470345, 4.900076930223217, 4.900065367384283, 4.081465358907467, 3.262810092029419, 3.2628290084361935, 3.262832430968323, 3.2631400199246325, 11.486986052606095, 6.540186216160696, 6.553222957871956, 5.731649191421808, 5.741762926893019, 2.4441965242872525, 2.4441965242872525, 2.444196341276274, 2.4441960368760105, 2.444195772001555, 2.4441957412274764, 2.444194704854647, 2.444192532159975, 2.444198692567024, 2.4442104783507697, 2.444220196066321, 2.4442268685882063, 2.44422811916067, 2.4442264565053073, 2.4442030167157553, 2.444204371020227, 37.82123875431632, 40.82612662557798, 4.902933110940826, 20.93748785565989, 6.543064892621762, 6.552856066989014, 39.87318026864963, 17.255232267274625, 133.34476344005023, 225.08673029181256, 175.6068998284751, 68.65671925787666, 30.440739398898323, 9.08265485179246, 18.179102356940348, 98.09741243685544, 52.64838909507022, 15.648627163773662, 9.894786554633194, 45.3898432876509, 40.43954187716829, 40.20213439945414, 51.595207491400444, 121.2797145871183, 42.892079315887166, 25.655946552121268, 323.64423182129997, 30.310683115195744, 36.928462585493605, 33.34208887367835, 30.194891770164944, 48.71651176692351, 30.80315603184739, 21.28820339593664, 73.96928423038925, 64.80512176043656, 2.97356450533667, 2.973725394317097, 2.9737201156565325, 2.9737288215872266, 2.9740316011116787, 2.2513318024279254, 2.251332108831698, 2.251416529265229, 2.2516380196470647, 3.804229968063314, 3.8049459952207796, 3.8137314928529995, 1.5291501045435623, 1.5291501045435623, 1.5291501045435623, 1.5291501045435623, 1.5291501045435623, 1.5291501045435623, 1.5291501045435623, 1.5291501045435623, 1.5291501593154737, 1.5291501593154737, 1.5291501593154737, 1.5291501593154737, 1.5291503131459314, 1.529150322163305, 1.529150322163305, 1.529150322163305, 1.529150347296636, 1.529150347296636, 14.017050194700339, 3.0697572642054616, 3.0725209373568694, 3.06998711097783, 3.0727640411672583, 3.082735999210607, 3.0829359270270933, 3.0918784137629394, 3.095091253968026, 21.28820339593664, 10.198973012954317, 7.066568040292308, 48.71651176692351, 11.901877667748327, 7.057336010368324, 39.37344175256983, 6.2685927612167145, 6.336824380217021, 68.65671925787666, 29.097468107116377, 175.6068998284751, 49.46938814157864, 12.843991642234222, 6.272477376627094, 7.10005040216044, 225.08673029181256, 51.595207491400444, 59.89643105242322, 40.037565069653006, 38.766932847951715, 39.87318026864963, 323.64423182129997, 20.93748785565989, 30.310683115195744, 36.928462585493605, 50.42418041490014, 46.16054070484615, 30.194891770164944, 40.20213439945414, 26.182097621329298], \"Category\": [\"Default\", \"Default\", \"Default\", \"Default\", \"Default\", \"Default\", \"Default\", \"Default\", \"Default\", \"Default\", \"Default\", \"Default\", \"Default\", \"Default\", \"Default\", \"Default\", \"Default\", \"Default\", \"Default\", \"Default\", \"Default\", \"Default\", \"Default\", \"Default\", \"Default\", \"Default\", \"Default\", \"Default\", \"Default\", \"Default\", \"Topic1\", \"Topic1\", \"Topic1\", \"Topic1\", \"Topic1\", \"Topic1\", \"Topic1\", \"Topic1\", \"Topic1\", \"Topic1\", \"Topic1\", \"Topic1\", \"Topic1\", \"Topic1\", \"Topic1\", \"Topic1\", \"Topic1\", \"Topic1\", \"Topic1\", \"Topic1\", \"Topic1\", \"Topic1\", \"Topic1\", \"Topic1\", \"Topic1\", \"Topic1\", \"Topic1\", \"Topic1\", \"Topic1\", \"Topic1\", \"Topic1\", \"Topic1\", \"Topic1\", \"Topic1\", \"Topic1\", \"Topic1\", \"Topic1\", \"Topic1\", \"Topic1\", \"Topic1\", \"Topic1\", \"Topic1\", \"Topic1\", \"Topic1\", \"Topic1\", \"Topic1\", \"Topic1\", \"Topic1\", \"Topic1\", \"Topic1\", \"Topic1\", \"Topic1\", \"Topic1\", \"Topic1\", \"Topic1\", \"Topic1\", \"Topic1\", \"Topic1\", \"Topic1\", \"Topic1\", \"Topic1\", \"Topic2\", \"Topic2\", \"Topic2\", \"Topic2\", \"Topic2\", \"Topic2\", \"Topic2\", \"Topic2\", \"Topic2\", \"Topic2\", \"Topic2\", \"Topic2\", \"Topic2\", \"Topic2\", \"Topic2\", \"Topic2\", \"Topic2\", \"Topic2\", \"Topic2\", \"Topic2\", \"Topic2\", \"Topic2\", \"Topic2\", \"Topic2\", \"Topic2\", \"Topic2\", \"Topic2\", \"Topic2\", \"Topic2\", \"Topic2\", \"Topic2\", \"Topic2\", \"Topic2\", \"Topic2\", \"Topic2\", \"Topic2\", \"Topic2\", \"Topic2\", \"Topic2\", \"Topic2\", \"Topic2\", \"Topic2\", \"Topic2\", \"Topic2\", \"Topic2\", \"Topic2\", \"Topic2\", \"Topic2\", \"Topic2\", \"Topic2\", \"Topic2\", \"Topic2\", \"Topic2\", \"Topic2\", \"Topic2\", \"Topic2\", \"Topic2\", \"Topic2\", \"Topic2\", \"Topic2\", \"Topic2\", \"Topic2\", \"Topic2\", \"Topic2\", \"Topic2\", \"Topic3\", \"Topic3\", \"Topic3\", \"Topic3\", \"Topic3\", \"Topic3\", \"Topic3\", \"Topic3\", \"Topic3\", \"Topic3\", \"Topic3\", \"Topic3\", \"Topic3\", \"Topic3\", \"Topic3\", \"Topic3\", \"Topic3\", \"Topic3\", \"Topic3\", \"Topic3\", \"Topic3\", \"Topic3\", \"Topic3\", \"Topic3\", \"Topic3\", \"Topic3\", \"Topic3\", \"Topic3\", \"Topic3\", \"Topic3\", \"Topic3\", \"Topic3\", \"Topic3\", \"Topic3\", \"Topic3\", \"Topic3\", \"Topic3\", \"Topic3\", \"Topic3\", \"Topic3\", \"Topic3\", \"Topic3\", \"Topic3\", \"Topic3\", \"Topic3\", \"Topic3\", \"Topic3\", \"Topic3\", \"Topic3\", \"Topic3\", \"Topic3\", \"Topic3\", \"Topic3\", \"Topic3\", \"Topic3\", \"Topic3\", \"Topic3\", \"Topic3\", \"Topic3\", \"Topic3\", \"Topic3\", \"Topic3\", \"Topic3\", \"Topic3\", \"Topic3\", \"Topic3\", \"Topic3\", \"Topic4\", \"Topic4\", \"Topic4\", \"Topic4\", \"Topic4\", \"Topic4\", \"Topic4\", \"Topic4\", \"Topic4\", \"Topic4\", \"Topic4\", \"Topic4\", \"Topic4\", \"Topic4\", \"Topic4\", \"Topic4\", \"Topic4\", \"Topic4\", \"Topic4\", \"Topic4\", \"Topic4\", \"Topic4\", \"Topic4\", \"Topic4\", \"Topic4\", \"Topic4\", \"Topic4\", \"Topic4\", \"Topic4\", \"Topic4\", \"Topic4\", \"Topic4\", \"Topic4\", \"Topic4\", \"Topic4\", \"Topic4\", \"Topic4\", \"Topic4\", \"Topic4\", \"Topic4\", \"Topic4\", \"Topic4\", \"Topic4\", \"Topic4\", \"Topic4\", \"Topic4\", \"Topic4\", \"Topic4\", \"Topic4\", \"Topic4\", \"Topic4\", \"Topic4\", \"Topic4\", \"Topic4\", \"Topic4\", \"Topic4\", \"Topic4\", \"Topic4\", \"Topic4\", \"Topic4\", \"Topic4\", \"Topic4\", \"Topic4\", \"Topic4\", \"Topic4\", \"Topic4\", \"Topic5\", \"Topic5\", \"Topic5\", \"Topic5\", \"Topic5\", \"Topic5\", \"Topic5\", \"Topic5\", \"Topic5\", \"Topic5\", \"Topic5\", \"Topic5\", \"Topic5\", \"Topic5\", \"Topic5\", \"Topic5\", \"Topic5\", \"Topic5\", \"Topic5\", \"Topic5\", \"Topic5\", \"Topic5\", \"Topic5\", \"Topic5\", \"Topic5\", \"Topic5\", \"Topic5\", \"Topic5\", \"Topic5\", \"Topic5\", \"Topic5\", \"Topic5\", \"Topic5\", \"Topic5\", \"Topic5\", \"Topic5\", \"Topic5\", \"Topic5\", \"Topic5\", \"Topic5\", \"Topic5\", \"Topic5\", \"Topic5\", \"Topic5\", \"Topic5\", \"Topic5\", \"Topic5\", \"Topic5\", \"Topic5\", \"Topic5\", \"Topic5\", \"Topic5\", \"Topic5\", \"Topic5\", \"Topic5\", \"Topic5\", \"Topic5\", \"Topic5\", \"Topic5\", \"Topic5\", \"Topic5\", \"Topic5\", \"Topic5\", \"Topic5\", \"Topic5\", \"Topic5\", \"Topic5\", \"Topic5\", \"Topic5\", \"Topic5\"], \"logprob\": [30.0, 29.0, 28.0, 27.0, 26.0, 25.0, 24.0, 23.0, 22.0, 21.0, 20.0, 19.0, 18.0, 17.0, 16.0, 15.0, 14.0, 13.0, 12.0, 11.0, 10.0, 9.0, 8.0, 7.0, 6.0, 5.0, 4.0, 3.0, 2.0, 1.0, -5.3785, -5.6609, -6.0554, -6.0554, -6.2312, -6.2312, -5.3846, -6.4448, -6.4448, -6.4448, -6.445, -6.7168, -6.7168, -6.7168, -6.7168, -6.7168, -6.7168, -6.7168, -6.7171, -6.7279, -5.0876, -4.303, -5.5899, -6.2317, -7.0914, -7.0915, -7.0915, -7.0915, -7.0915, -7.0915, -5.2775, -5.9049, -2.3969, -4.8389, -6.4454, -4.7076, -4.3727, -3.8172, -4.8346, -4.6989, -4.3127, -4.5058, -3.854, -4.9699, -3.8625, -5.0386, -4.5398, -5.0633, -4.9011, -4.914, -3.8952, -4.8732, -5.158, -4.8659, -3.9557, -4.8724, -5.0465, -4.9625, -5.0787, -5.2271, -5.2159, -5.8879, -6.102, -6.3732, -6.3732, -6.3732, -6.3732, -6.3734, -6.374, -6.376, -4.9027, -5.7229, -5.8876, -5.8872, -5.8879, -5.885, -6.7479, -6.7479, -6.7479, -6.7479, -6.7479, -6.7479, -6.7479, -6.7479, -6.7479, -6.7479, -6.7479, -6.7479, -6.7481, -6.7482, -6.7483, -3.4026, -5.7757, -5.3252, -4.2788, -5.3433, -4.4309, -5.5324, -4.4142, -4.6876, -3.2035, -4.7776, -5.1434, -5.2982, -4.174, -6.1, -5.0505, -3.6852, -4.6342, -4.0365, -4.791, -4.7111, -4.8149, -5.324, -4.6221, -4.7776, -4.4803, -3.8956, -4.9281, -5.0037, -5.0397, -4.5609, -5.1913, -5.2515, -5.2894, -5.316, -5.2874, -5.6815, -5.8574, -5.8574, -5.8574, -5.8574, -5.8574, -5.8574, -5.8574, -5.8574, -5.8576, -5.8577, -5.858, -5.8582, -6.0709, -6.0709, -6.0709, -6.3429, -6.3431, -6.3433, -6.3447, -6.3541, -5.0977, -5.8571, -5.8573, -5.8569, -6.7176, -6.7176, -6.7176, -6.7176, -5.3145, -4.1497, -5.4007, -6.0715, -4.8286, -4.0096, -4.4019, -4.8182, -4.7278, -5.2965, -4.3926, -4.9722, -4.3283, -5.2238, -5.2972, -4.2747, -3.2514, -3.975, -5.2777, -4.9694, -5.4009, -3.8309, -4.8864, -4.3227, -4.9862, -4.945, -4.9004, -5.5313, -5.4005, -4.8607, -4.475, -5.0246, -5.1831, -5.1191, -5.1999, -5.2405, -5.2649, -5.6766, -5.8504, -5.8508, -5.8508, -6.065, -6.3359, -6.3362, -6.3364, -6.3405, -5.0954, -5.6726, -5.7126, -5.8512, -5.8565, -6.7106, -6.7106, -6.7106, -6.7106, -6.7106, -6.7106, -6.7106, -6.7106, -6.711, -6.7111, -6.7111, -6.7112, -6.7112, -6.7112, -6.7117, -6.712, -4.1043, -4.0582, -6.0643, -4.7757, -5.8506, -5.8498, -4.2801, -5.0184, -3.3798, -2.9689, -3.2513, -4.0819, -4.7309, -5.6742, -5.1649, -3.8715, -4.5583, -5.3941, -5.672, -4.7944, -4.8887, -4.9024, -4.7761, -4.3857, -4.9301, -5.2015, -4.0735, -5.2354, -5.2138, -5.2554, -5.3223, -5.1877, -5.3253, -5.4558, -5.2911, -5.3228, -5.5537, -5.5541, -5.5542, -5.5542, -5.555, -5.9282, -5.9282, -5.9286, -5.9296, -5.5512, -5.5531, -5.5515, -6.5343, -6.5343, -6.5343, -6.5343, -6.5343, -6.5343, -6.5343, -6.5343, -6.5343, -6.5343, -6.5343, -6.5343, -6.5343, -6.5343, -6.5343, -6.5343, -6.5343, -6.5343, -4.5682, -5.9273, -5.9269, -5.9283, -5.9279, -5.9276, -5.9285, -5.9265, -5.9388, -4.4275, -5.0661, -5.3613, -3.9632, -5.0637, -5.4456, -4.247, -5.551, -5.5516, -4.0181, -4.5754, -3.5589, -4.3045, -5.1803, -5.5631, -5.5489, -4.0089, -4.6674, -4.6346, -4.8863, -4.9664, -5.0264, -4.5049, -5.2389, -5.2814, -5.2773, -5.2888, -5.4592, -5.4932, -5.5128, -5.5495], \"loglift\": [30.0, 29.0, 28.0, 27.0, 26.0, 25.0, 24.0, 23.0, 22.0, 21.0, 20.0, 19.0, 18.0, 17.0, 16.0, 15.0, 14.0, 13.0, 12.0, 11.0, 10.0, 9.0, 8.0, 7.0, 6.0, 5.0, 4.0, 3.0, 2.0, 1.0, 1.1355, 1.1164, 1.0804, 1.0803, 1.0596, 1.0596, 1.0571, 1.0297, 1.0297, 1.0297, 1.0296, 0.983, 0.983, 0.983, 0.983, 0.983, 0.983, 0.983, 0.9827, 0.9731, 0.9657, 0.9422, 0.9271, 0.9079, 0.8994, 0.8994, 0.8994, 0.8994, 0.8994, 0.8994, 0.8684, 0.8778, 0.7262, 0.8141, 0.8473, 0.6883, 0.6096, 0.4995, 0.6405, 0.5173, 0.4187, 0.4535, 0.2507, 0.5213, 0.1473, 0.4943, 0.2703, 0.4688, 0.3795, 0.3264, -0.1608, 0.2709, 0.4321, 0.2386, -0.4694, 0.1289, 0.2472, 0.1081, 0.0087, 0.2599, 0.1611, 1.4124, 1.3817, 1.3351, 1.3351, 1.3351, 1.3351, 1.3349, 1.3343, 1.3323, 1.311, 1.2902, 1.2769, 1.2601, 1.2598, 1.2589, 1.2505, 1.2505, 1.2505, 1.2505, 1.2505, 1.2505, 1.2505, 1.2505, 1.2505, 1.2505, 1.2505, 1.2505, 1.2504, 1.2503, 1.2502, 1.1965, 1.2385, 1.2025, 1.1056, 1.1295, 0.782, 0.99, 0.7423, 0.7378, 0.2828, 0.7174, 0.8173, 0.8571, 0.4996, 1.0456, 0.6695, 0.0493, 0.4704, 0.0681, 0.4386, 0.3764, 0.3785, 0.6797, 0.188, 0.293, -0.1635, -0.7725, 0.289, 0.2367, 0.1691, -0.5512, -0.0472, -0.2692, -0.2881, -0.0354, 1.5112, 1.4745, 1.4532, 1.4532, 1.4532, 1.4532, 1.4532, 1.4532, 1.4532, 1.4532, 1.453, 1.4529, 1.4526, 1.4523, 1.4225, 1.4225, 1.4225, 1.3746, 1.3744, 1.3743, 1.3728, 1.3633, 1.362, 1.3163, 1.297, 1.2957, 1.2891, 1.2891, 1.2891, 1.2891, 1.2209, 1.1382, 1.2093, 1.237, 1.0884, 0.9295, 0.9751, 1.0566, 0.9669, 1.0934, 0.8103, 0.9903, 0.6884, 1.038, 1.0224, 0.4566, -0.1283, 0.1296, 1.0025, 0.6898, 1.0522, -0.3446, 0.3942, -0.3129, 0.3982, 0.2711, 0.1702, 0.9954, 0.7977, -0.0506, -0.7405, -0.0232, 0.3497, -0.0146, 0.0089, -0.0275, 0.3728, 1.4824, 1.463, 1.4627, 1.4627, 1.4312, 1.3842, 1.384, 1.3837, 1.3795, 1.3661, 1.3521, 1.3101, 1.3055, 1.2984, 1.2984, 1.2984, 1.2984, 1.2984, 1.2984, 1.2984, 1.2984, 1.2984, 1.2981, 1.2979, 1.2979, 1.2978, 1.2978, 1.2978, 1.2973, 1.297, 1.1655, 1.1352, 1.2486, 1.0855, 1.1737, 1.173, 0.937, 1.0362, 0.63, 0.5173, 0.4832, 0.5917, 0.7561, 1.0221, 0.8375, 0.4453, 0.3808, 0.7582, 0.9387, 0.293, 0.3142, 0.3064, 0.1832, -0.2811, 0.2139, 0.4564, -0.9504, 0.2558, 0.08, 0.1406, 0.1728, -0.171, 0.1498, 0.3888, -0.692, -0.5914, 2.2593, 2.2588, 2.2587, 2.2587, 2.2578, 2.163, 2.163, 2.1626, 2.1614, 2.0154, 2.0133, 2.0126, 1.9437, 1.9437, 1.9437, 1.9437, 1.9437, 1.9437, 1.9437, 1.9437, 1.9437, 1.9437, 1.9437, 1.9437, 1.9437, 1.9437, 1.9437, 1.9437, 1.9437, 1.9437, 1.6943, 1.8538, 1.8533, 1.8528, 1.8523, 1.8493, 1.8484, 1.8474, 1.8341, 1.4171, 1.5143, 1.5861, 1.0535, 1.3624, 1.503, 0.9827, 1.5162, 1.5048, 0.6555, 0.9567, 0.1756, 0.6969, 1.1696, 1.5035, 1.3937, -0.5226, 0.2919, 0.1755, 0.3266, 0.2787, 0.1906, -1.3819, 0.6223, 0.2098, 0.0165, -0.3065, -0.3886, 0.0019, -0.304, 0.0882]}, \"token.table\": {\"Topic\": [5, 1, 2, 3, 4, 5, 1, 2, 3, 4, 5, 1, 2, 3, 4, 1, 4, 3, 5, 4, 3, 4, 1, 2, 3, 3, 4, 1, 5, 2, 4, 2, 1, 1, 3, 2, 3, 5, 1, 2, 5, 1, 2, 3, 4, 5, 1, 3, 4, 5, 2, 4, 1, 2, 3, 4, 1, 1, 2, 3, 4, 1, 2, 3, 4, 5, 2, 1, 2, 3, 5, 4, 2, 2, 5, 4, 2, 2, 3, 1, 3, 4, 2, 3, 4, 3, 1, 2, 4, 5, 2, 3, 1, 3, 5, 2, 2, 1, 2, 4, 5, 2, 4, 4, 1, 4, 1, 3, 1, 2, 3, 4, 5, 3, 1, 2, 3, 4, 1, 3, 4, 5, 5, 2, 4, 2, 5, 2, 3, 4, 2, 3, 4, 5, 1, 2, 3, 4, 5, 1, 4, 2, 1, 1, 2, 4, 1, 2, 3, 4, 5, 1, 2, 5, 1, 2, 3, 1, 2, 3, 5, 1, 2, 3, 4, 2, 3, 4, 2, 4, 2, 5, 3, 1, 2, 3, 4, 5, 2, 3, 4, 5, 1, 2, 3, 4, 1, 2, 3, 4, 2, 1, 1, 3, 4, 1, 4, 5, 4, 1, 2, 3, 4, 5, 1, 5, 1, 2, 3, 4, 5, 2, 3, 5, 1, 2, 4, 5, 1, 2, 4, 5, 1, 2, 3, 4, 5, 3, 3, 1, 2, 3, 4, 5, 1, 2, 3, 4, 3, 5, 1, 2, 3, 5, 2, 4, 5, 3, 1, 2, 3, 4, 2, 5, 1, 2, 3, 4, 5, 2, 3, 4, 5, 5, 1, 2, 3, 4, 5, 4, 1, 1, 1, 3, 1, 2, 4, 1, 2, 5, 1, 2, 3, 4, 1, 1, 2, 3, 4, 5, 2, 5, 1, 2, 3, 4, 5, 5, 1, 3, 4, 4, 3, 1, 2, 4, 5, 1, 2, 3, 4, 5, 4, 1, 2, 3, 4, 5, 1, 1, 2, 4, 5, 3, 5, 1, 2, 3, 1, 3, 4, 2, 4, 5, 2, 1, 2, 4, 1, 2, 5, 1, 2, 3, 4, 5, 4, 1, 2, 3, 4, 5, 2, 3, 4, 4, 2, 5, 1, 1, 2, 3, 4, 5, 5, 3, 1, 2, 3, 4, 1, 1, 3, 4, 2, 3, 3, 4, 1, 2, 3, 4, 1, 3, 4, 1, 5, 3, 4, 1, 3, 4, 5, 3, 1, 4, 5, 2, 4, 1, 2, 3, 4, 3, 5, 2, 1, 3, 5, 1, 2, 4, 5, 1, 1, 2, 3, 1, 2, 3, 1, 3, 1, 3, 4, 1, 2, 3, 4, 2, 4, 5, 1, 3, 1, 4, 1, 2, 3, 4, 5, 5, 1, 2, 4, 5, 5, 4, 1, 2, 5, 2, 3, 4, 4, 3, 2, 3, 1, 2, 5, 2, 2, 5, 1, 2, 3, 1, 2, 3, 4, 5, 1, 2, 3, 4, 5, 1, 2, 3, 1, 3, 4, 5, 4, 2, 3, 5, 4, 5, 4, 2, 3, 5, 3, 1, 1, 1, 3, 4, 1, 2, 3, 4, 5, 3, 1, 2, 3, 4, 5, 1, 4, 5, 2, 3, 1, 5, 5, 5, 3, 1, 3, 2, 3, 1, 3, 4, 2, 3, 4, 2, 3, 1, 2, 3, 4, 5, 5, 2, 4], \"Freq\": [0.6539579435102819, 0.18789749071842743, 0.04697437267960686, 0.14092311803882057, 0.28184623607764114, 0.328820608757248, 0.2110154622610845, 0.4747847900874401, 0.2110154622610845, 0.052753865565271126, 0.052753865565271126, 0.16153648609693697, 0.13461373841411411, 0.6461459443877479, 0.05384549536564565, 0.7201621792519917, 0.2400540597506639, 0.8139482791794282, 0.6725570571586995, 0.8182654172466745, 0.8139482584664987, 0.8163192775576493, 0.3021696172455034, 0.07554240431137585, 0.528796830179631, 0.8717201526171156, 0.818264808139033, 0.6312310015230388, 0.3156155007615194, 0.17446985441757948, 0.6978794176703179, 0.8096872451903228, 0.9008972587739572, 0.3453147403453876, 0.6043007956044284, 0.15952543706251274, 0.47857631118753824, 0.3190508741250255, 0.958996072392057, 0.8096873471986997, 0.6725582510169904, 0.6981177234720151, 0.11635295391200251, 0.11635295391200251, 0.077568635941335, 0.0387843179706675, 0.6984318124916414, 0.12698760227120753, 0.06349380113560377, 0.06349380113560377, 0.15259666982622128, 0.7629833491311063, 0.5843557063240467, 0.12985682362756593, 0.06492841181378296, 0.22724944134824038, 0.902041787008197, 0.3875338935287377, 0.230871255719248, 0.230871255719248, 0.14841723581951655, 0.2832891376394189, 0.4485411345957465, 0.14164456881970944, 0.14164456881970944, 0.6539580131539544, 0.9086350498684173, 0.4671444958178356, 0.2335722479089178, 0.07785741596963927, 0.2335722479089178, 0.8182601366431828, 0.8096871140113281, 0.2628652863772816, 0.5257305727545633, 0.8182546496410976, 0.8096870749228731, 0.9086365023379966, 0.8139482409613747, 0.38731847599863317, 0.5809777139979498, 0.9194475077435449, 0.15260521363160234, 0.15260521363160234, 0.6104208545264094, 0.8139482409613747, 0.20212664406222164, 0.30318996609333243, 0.5053166101555541, 0.8883296244843325, 0.17403767509522247, 0.6961507003808899, 0.9589962533030082, 0.3254398927488515, 0.650879785497703, 0.908636790165021, 0.8096859856328362, 0.14084407058514892, 0.14084407058514892, 0.4225322117554468, 0.28168814117029783, 0.8096873433492325, 0.9194465432935759, 0.8182649713139423, 0.9551036764850231, 0.818262181228809, 0.9008972129007142, 0.813972369020958, 0.41075295777295373, 0.2567205986080961, 0.15403235916485766, 0.12836029930404805, 0.025672059860809608, 0.7329860107712107, 0.46292637348788934, 0.10801615381384085, 0.32404846144152255, 0.10801615381384085, 0.4948750228753507, 0.1319666727667602, 0.2639333455335204, 0.09897500457507014, 0.6539579327617369, 0.8096872621614496, 0.919452838315222, 0.32436613139875087, 0.6487322627975017, 0.2318137442627296, 0.1738603081970472, 0.5795343606568241, 0.6162904657473349, 0.08804149510676212, 0.08804149510676212, 0.17608299021352425, 0.5552891444067203, 0.15865404125906293, 0.09915877578691433, 0.1189905309442972, 0.0594952654721486, 0.8535153295373635, 0.08535153295373636, 0.8096871397936362, 0.8035362213574845, 0.27755880869651123, 0.5551176173930225, 0.09251960289883708, 0.3055522943846479, 0.15277614719232396, 0.3055522943846479, 0.15277614719232396, 0.07638807359616198, 0.06794720673374614, 0.8153664808049538, 0.1358944134674923, 0.3531715524259975, 0.08829288810649938, 0.5297573286389963, 0.4811415188586809, 0.13746900538819454, 0.17183625673524316, 0.20620350808229182, 0.2750410829878583, 0.2200328663902866, 0.05500821659757165, 0.4400657327805732, 0.7440749998161665, 0.18601874995404163, 0.09300937497702082, 0.7564307588779989, 0.1512861517755998, 0.703338700815107, 0.17583467520377674, 0.9170382451088503, 0.3089121107914716, 0.43247695510806017, 0.12356484431658862, 0.09267363323744147, 0.6539580365777702, 0.1910448869308219, 0.04776122173270547, 0.5731346607924657, 0.14328366519811642, 0.20202082333524574, 0.10101041166762287, 0.6060624700057372, 0.10101041166762287, 0.16222950005334738, 0.7029945002311719, 0.040557375013336845, 0.09463387503111931, 0.8096845307351157, 0.9175034538476198, 0.2556134770249968, 0.319516846281246, 0.4473235847937444, 0.8035361566048639, 0.3257586557935315, 0.651517311587063, 0.8182547875942514, 0.37911136884153795, 0.16247630093208767, 0.1353969174434064, 0.21663506790945025, 0.08123815046604384, 0.32342798330900735, 0.6468559666180147, 0.14368844866172684, 0.0410538424747791, 0.41053842474779095, 0.1642153698991164, 0.22579613361128503, 0.15942664117470776, 0.4782799235241233, 0.3188532823494155, 0.25206106832448727, 0.25206106832448727, 0.16804071221632483, 0.33608142443264966, 0.08705503736318425, 0.08705503736318425, 0.7834953362686583, 0.6539580365777702, 0.6241421293475554, 0.09887400068872164, 0.17920912624830798, 0.07724531303806378, 0.021628687650657858, 0.813946665045434, 0.8139505531434887, 0.19103747228569568, 0.27989211055811225, 0.14216742123586656, 0.33764762543518306, 0.048870051049829125, 0.4734846049860811, 0.25495324883865905, 0.10926567807371101, 0.18210946345618503, 0.8163572288347805, 0.6539579327617369, 0.7738553915952904, 0.07738553915952903, 0.051590359439686026, 0.10318071887937205, 0.3184235457657982, 0.6368470915315964, 0.04898823781012279, 0.8139482409613747, 0.5011500836315275, 0.10023001672630551, 0.2756325459973401, 0.12528752090788187, 0.9086364469414656, 0.6725562820259114, 0.38099679773610534, 0.33617364506126945, 0.20170418703676166, 0.02241157633741796, 0.04482315267483592, 0.43053639996302545, 0.23182729228778295, 0.23182729228778295, 0.06623636922508085, 0.8882422407814432, 0.4006916535476789, 0.2504322834672993, 0.20034582677383944, 0.05008645669345986, 0.10017291338691972, 0.8182650599882993, 0.9589978199853814, 0.8035362174149913, 0.900897448307058, 0.8139466314045894, 0.9008974786810029, 0.8096871402675679, 0.8182648694072056, 0.8102616861318693, 0.05787583472370495, 0.1157516694474099, 0.23386391095766887, 0.2728412294506137, 0.15590927397177926, 0.3118185479435585, 0.9009006560583587, 0.25625416793960815, 0.2220869455476604, 0.09680713011051863, 0.32458861272350364, 0.09680713011051863, 0.8056787831525926, 0.6539580131539544, 0.17778481352962044, 0.33017179655500944, 0.12698915252115747, 0.15238698302538897, 0.22858047453808344, 0.6539580365777702, 0.20218044223590528, 0.5256691498133538, 0.24261653068308633, 0.8182640822459064, 0.8139482409613747, 0.49950349130300387, 0.18349107843783816, 0.3160124128651657, 0.010193948802102119, 0.3436468620017483, 0.16171617035376393, 0.2021452129422049, 0.14150164905954343, 0.16171617035376393, 0.816315640730983, 0.3963435737120635, 0.2098289507887395, 0.09325731146166201, 0.2564576065195705, 0.046628655730831005, 0.8035362386422025, 0.3942085585619609, 0.13140285285398698, 0.42705927177545766, 0.06570142642699349, 0.7096436532548105, 0.17741091331370262, 0.8035362649018176, 0.8096873483285629, 0.9170454781820696, 0.17375326645967298, 0.6950130658386919, 0.8182542309867482, 0.2833930532798338, 0.2833930532798338, 0.42508957991975066, 0.9086433047457202, 0.599842441659042, 0.1499606104147605, 0.23993697666361682, 0.7995950338472307, 0.19989875846180769, 0.6539580365777702, 0.06409391936572664, 0.5127513549258131, 0.25637567746290657, 0.06409391936572664, 0.06409391936572664, 0.818264808139033, 0.48454112727750615, 0.13567151563770172, 0.03876329018220049, 0.23257974109320295, 0.11628987054660148, 0.09373392122689528, 0.656137448588267, 0.18746784245379056, 0.919359874747051, 0.32438716784572824, 0.6487743356914565, 0.798077656311229, 0.1998123508780434, 0.474554333335353, 0.1998123508780434, 0.024976543859755423, 0.12488271929877712, 0.8883630559667486, 0.8139482409613747, 0.48152216246542995, 0.06878888035220428, 0.2751555214088171, 0.13757776070440855, 0.8542548565640302, 0.30298344750961187, 0.7069613775224277, 0.7350301267295442, 0.6912914931315397, 0.17282287328288493, 0.8163572278378508, 0.8182626346183692, 0.05698180042285297, 0.13295753431999027, 0.5128362038056767, 0.28490900211426484, 0.16207562696826291, 0.5672646943889202, 0.24311344045239436, 0.32309225090470645, 0.6461845018094129, 0.3056671503067752, 0.6113343006135504, 0.0726224947925722, 0.5809799583405776, 0.21786748437771658, 0.1452449895851444, 0.816357216617475, 0.686063704616202, 0.1715159261540505, 0.6539580365777702, 0.8096850911927685, 0.818256883409588, 0.45433515177519807, 0.21380477730597555, 0.2939815687957164, 0.05345119432649389, 0.325465642183792, 0.650931284367584, 0.9086507683470889, 0.9008971586876482, 0.7329860107712107, 0.6539579435102819, 0.2830228179501503, 0.14151140897507514, 0.14151140897507514, 0.42453422692522536, 0.900897300954751, 0.1725429625387522, 0.5176288876162567, 0.1725429625387522, 0.3317747165666687, 0.41471839570833585, 0.2488310374250015, 0.3716697431105972, 0.5575046146658958, 0.35122541993719697, 0.39025046659688556, 0.2341502799581313, 0.3524697842456369, 0.11998971378574874, 0.14998714223218593, 0.3749678555804648, 0.29414726327734403, 0.29414726327734403, 0.39219635103645867, 0.5352042160559776, 0.46830368904898034, 0.44039986824013255, 0.5504998353001657, 0.19899440961295387, 0.24874301201619234, 0.19899440961295387, 0.2736173132178116, 0.049748602403238466, 0.6539580365777702, 0.10031805772826725, 0.2758746587527349, 0.5015902886413363, 0.10031805772826725, 0.6539579435102819, 0.8182650702908102, 0.1722460118604249, 0.6889840474416996, 0.6724878105708122, 0.8096871585865217, 0.15290084516691832, 0.7645042258345917, 0.874325678755306, 0.9169401490956256, 0.7556166546613012, 0.15112333093226024, 0.9589962890453712, 0.9086363591951345, 0.6539580131539544, 0.7258340270219947, 0.26281581952964767, 0.5256316390592953, 0.071295820160394, 0.35647910080197004, 0.570366561283152, 0.27538351619850254, 0.4406136259176041, 0.055076703239700514, 0.16523010971910154, 0.055076703239700514, 0.05826086715527263, 0.3495652029316358, 0.07282608394409079, 0.3641304197204539, 0.16021738467699972, 0.7361682880265197, 0.09202103600331496, 0.09202103600331496, 0.2853667458159169, 0.07134168645397923, 0.21402505936193766, 0.42805011872387533, 0.818266144620189, 0.8096876426952039, 0.9170420249172513, 0.6725934468247085, 0.3257342665785614, 0.6514685331571228, 0.8163137144497413, 0.6522605343905661, 0.29648206108662095, 0.059296412217324186, 0.8163572107184638, 0.8542539919982058, 0.900898647570125, 0.27201099442252774, 0.4451088999641363, 0.27201099442252774, 0.30843904684308404, 0.30843904684308404, 0.08812544195516687, 0.26437632586550064, 0.04406272097758344, 0.975579870646398, 0.3466163904427628, 0.28162581723474484, 0.23829876842939945, 0.0866540976106907, 0.06499057320801803, 0.17416253731345188, 0.6966501492538075, 0.6539580131539544, 0.20306823448246827, 0.6092047034474048, 0.2622103842061293, 0.5244207684122586, 0.6539579473666609, 0.6539580365777702, 0.8139482409613747, 0.7980777009523993, 0.7329860702694044, 0.17380582892683832, 0.7821262301707724, 0.8035359260930146, 0.20395954367978508, 0.6118786310393552, 0.2642580525770974, 0.5285161051541948, 0.2114064420616779, 0.8096873069618292, 0.9170496842430501, 0.13220085234329823, 0.05288034093731929, 0.15864102281195785, 0.6345640912478314, 0.888362935061534, 0.6539580365777702, 0.6916346320540451, 0.17290865801351127], \"Term\": [\"50mile\", \"able\", \"able\", \"able\", \"able\", \"able\", \"absolutely\", \"absolutely\", \"absolutely\", \"absolutely\", \"absolutely\", \"actually\", \"actually\", \"actually\", \"actually\", \"addict\", \"addict\", \"addicted\", \"advertised\", \"allergy\", \"alternate\", \"amaze\", \"amazing\", \"amazing\", \"amazing\", \"amazon\", \"anime\", \"anymore\", \"anymore\", \"apart\", \"apart\", \"appropriate\", \"approximately\", \"artificial\", \"artificial\", \"asian\", \"asian\", \"asian\", \"asparagus\", \"assemble\", \"authentic\", \"available\", \"available\", \"available\", \"available\", \"available\", \"away\", \"away\", \"away\", \"away\", \"awesome\", \"awesome\", \"bad\", \"bad\", \"bad\", \"bad\", \"beautiful\", \"best\", \"best\", \"best\", \"best\", \"big\", \"big\", \"big\", \"big\", \"bimonthly\", \"bite\", \"black\", \"black\", \"black\", \"black\", \"boring\", \"box\", \"bright\", \"bright\", \"carefully\", \"central\", \"ceral\", \"certify\", \"cheap\", \"cheap\", \"cinnamon\", \"classic\", \"classic\", \"classic\", \"classically\", \"clean\", \"clean\", \"clean\", \"colorful\", \"commercial\", \"commercial\", \"completely\", \"consistently\", \"consistently\", \"cooked\", \"couple\", \"crazy\", \"crazy\", \"crazy\", \"crazy\", \"creamer\", \"creative\", \"crunch\", \"daily\", \"dang\", \"dead\", \"definately\", \"definitely\", \"definitely\", \"definitely\", \"definitely\", \"definitely\", \"delectable\", \"delicious\", \"delicious\", \"delicious\", \"delicious\", \"different\", \"different\", \"different\", \"different\", \"digest\", \"digestible\", \"dog\", \"double\", \"double\", \"dry\", \"dry\", \"dry\", \"easily\", \"easily\", \"easily\", \"easily\", \"easy\", \"easy\", \"easy\", \"easy\", \"easy\", \"eat\", \"eat\", \"endurolyte\", \"energetic\", \"entire\", \"entire\", \"entire\", \"especially\", \"especially\", \"especially\", \"especially\", \"especially\", \"exactly\", \"exactly\", \"exactly\", \"excellent\", \"excellent\", \"excellent\", \"expensive\", \"expensive\", \"expensive\", \"expensive\", \"extra\", \"extra\", \"extra\", \"extra\", \"extremely\", \"extremely\", \"extremely\", \"fabulous\", \"fabulous\", \"fairly\", \"fairly\", \"fanatic\", \"far\", \"far\", \"far\", \"far\", \"farting\", \"fast\", \"fast\", \"fast\", \"fast\", \"fat\", \"fat\", \"fat\", \"fat\", \"favorite\", \"favorite\", \"favorite\", \"favorite\", \"female\", \"finally\", \"flavorful\", \"flavorful\", \"flavorful\", \"floral\", \"forever\", \"forever\", \"fragile\", \"free\", \"free\", \"free\", \"free\", \"free\", \"frequently\", \"frequently\", \"fresh\", \"fresh\", \"fresh\", \"fresh\", \"fresh\", \"frozen\", \"frozen\", \"frozen\", \"garlic\", \"garlic\", \"garlic\", \"garlic\", \"glad\", \"glad\", \"glad\", \"gluttonyeventually\", \"good\", \"good\", \"good\", \"good\", \"good\", \"gourmet\", \"gravy\", \"great\", \"great\", \"great\", \"great\", \"great\", \"green\", \"green\", \"green\", \"green\", \"grilled\", \"grouchy\", \"happy\", \"happy\", \"happy\", \"happy\", \"hard\", \"hard\", \"hard\", \"healthier\", \"healthy\", \"healthy\", \"healthy\", \"healthy\", \"heavily\", \"herbal\", \"high\", \"high\", \"high\", \"high\", \"high\", \"highly\", \"highly\", \"highly\", \"highly\", \"hooked\", \"hot\", \"hot\", \"hot\", \"hot\", \"hot\", \"human\", \"hungry\", \"importantly\", \"impossible\", \"incredible\", \"indian\", \"inner\", \"innovative\", \"instant\", \"instant\", \"instant\", \"instead\", \"instead\", \"instead\", \"instead\", \"italian\", \"just\", \"just\", \"just\", \"just\", \"just\", \"kibble\", \"lab\", \"large\", \"large\", \"large\", \"large\", \"large\", \"lhasa\", \"light\", \"light\", \"light\", \"likely\", \"lime\", \"little\", \"little\", \"little\", \"little\", \"local\", \"local\", \"local\", \"local\", \"local\", \"locally\", \"long\", \"long\", \"long\", \"long\", \"long\", \"look\", \"low\", \"low\", \"low\", \"low\", \"major\", \"major\", \"mildly\", \"mile\", \"minimal\", \"moderate\", \"moderate\", \"molecular\", \"multiple\", \"multiple\", \"multiple\", \"nasty\", \"natural\", \"natural\", \"natural\", \"nearly\", \"nearly\", \"necessary\", \"new\", \"new\", \"new\", \"new\", \"new\", \"nibble\", \"nice\", \"nice\", \"nice\", \"nice\", \"nice\", \"nicely\", \"nicely\", \"nicely\", \"noninstant\", \"nose\", \"nose\", \"oatmeal\", \"old\", \"old\", \"old\", \"old\", \"old\", \"ordinary\", \"oregonian\", \"organic\", \"organic\", \"organic\", \"organic\", \"original\", \"overpower\", \"overpower\", \"oz\", \"particular\", \"particular\", \"pate\", \"pepper\", \"perfect\", \"perfect\", \"perfect\", \"perfect\", \"perfectly\", \"perfectly\", \"perfectly\", \"pineapple\", \"pineapple\", \"pleasantly\", \"pleasantly\", \"pleased\", \"pleased\", \"pleased\", \"pleased\", \"plus\", \"pocky\", \"pocky\", \"poodle\", \"potatochip\", \"powdered\", \"pretty\", \"pretty\", \"pretty\", \"pretty\", \"previous\", \"previous\", \"pricey\", \"primary\", \"proud\", \"pungent\", \"puppy\", \"puppy\", \"puppy\", \"puppy\", \"quality\", \"quickly\", \"quickly\", \"quickly\", \"quite\", \"quite\", \"quite\", \"raw\", \"raw\", \"real\", \"real\", \"real\", \"really\", \"really\", \"really\", \"really\", \"reasonable\", \"reasonable\", \"reasonable\", \"recently\", \"recently\", \"red\", \"red\", \"regular\", \"regular\", \"regular\", \"regular\", \"regular\", \"responsible\", \"right\", \"right\", \"right\", \"right\", \"roadside\", \"robust\", \"runny\", \"runny\", \"sad\", \"safe\", \"salt\", \"salt\", \"salty\", \"sandwich\", \"satisfied\", \"satisfied\", \"securely\", \"senior\", \"sept\", \"sheen\", \"ship\", \"ship\", \"single\", \"single\", \"single\", \"slightly\", \"slightly\", \"slightly\", \"slightly\", \"slightly\", \"small\", \"small\", \"small\", \"small\", \"small\", \"smooth\", \"smooth\", \"smooth\", \"soon\", \"soon\", \"soon\", \"soon\", \"sooooo\", \"sorry\", \"south\", \"specific\", \"spice\", \"spice\", \"sticky\", \"strong\", \"strong\", \"strong\", \"stuffed\", \"sugar\", \"superb\", \"sure\", \"sure\", \"sure\", \"sweet\", \"sweet\", \"sweet\", \"sweet\", \"sweet\", \"tangy\", \"tasty\", \"tasty\", \"tasty\", \"tasty\", \"tasty\", \"truly\", \"truly\", \"tummy\", \"twice\", \"twice\", \"unable\", \"unable\", \"unbaked\", \"undoubtedly\", \"unmistakablea\", \"unsalted\", \"vegan\", \"vegetable\", \"vegetable\", \"website\", \"wet\", \"wet\", \"white\", \"white\", \"white\", \"wild\", \"wintergreen\", \"wonderful\", \"wonderful\", \"wonderful\", \"wonderful\", \"wrap\", \"yeah\", \"young\", \"young\"]}, \"R\": 30, \"lambda.step\": 0.01, \"plot.opts\": {\"xlab\": \"PC1\", \"ylab\": \"PC2\"}, \"topic.order\": [4, 5, 3, 2, 1]};\n",
       "\n",
       "function LDAvis_load_lib(url, callback){\n",
       "  var s = document.createElement('script');\n",
       "  s.src = url;\n",
       "  s.async = true;\n",
       "  s.onreadystatechange = s.onload = callback;\n",
       "  s.onerror = function(){console.warn(\"failed to load library \" + url);};\n",
       "  document.getElementsByTagName(\"head\")[0].appendChild(s);\n",
       "}\n",
       "\n",
       "if(typeof(LDAvis) !== \"undefined\"){\n",
       "   // already loaded: just create the visualization\n",
       "   !function(LDAvis){\n",
       "       new LDAvis(\"#\" + \"ldavis_el237071403602968736483804085870\", ldavis_el237071403602968736483804085870_data);\n",
       "   }(LDAvis);\n",
       "}else if(typeof define === \"function\" && define.amd){\n",
       "   // require.js is available: use it to load d3/LDAvis\n",
       "   require.config({paths: {d3: \"https://cdnjs.cloudflare.com/ajax/libs/d3/3.5.5/d3.min\"}});\n",
       "   require([\"d3\"], function(d3){\n",
       "      window.d3 = d3;\n",
       "      LDAvis_load_lib(\"https://cdn.rawgit.com/bmabey/pyLDAvis/files/ldavis.v1.0.0.js\", function(){\n",
       "        new LDAvis(\"#\" + \"ldavis_el237071403602968736483804085870\", ldavis_el237071403602968736483804085870_data);\n",
       "      });\n",
       "    });\n",
       "}else{\n",
       "    // require.js not available: dynamically load d3 & LDAvis\n",
       "    LDAvis_load_lib(\"https://cdnjs.cloudflare.com/ajax/libs/d3/3.5.5/d3.min.js\", function(){\n",
       "         LDAvis_load_lib(\"https://cdn.rawgit.com/bmabey/pyLDAvis/files/ldavis.v1.0.0.js\", function(){\n",
       "                 new LDAvis(\"#\" + \"ldavis_el237071403602968736483804085870\", ldavis_el237071403602968736483804085870_data);\n",
       "            })\n",
       "         });\n",
       "}\n",
       "</script>"
      ],
      "text/plain": [
       "PreparedData(topic_coordinates=              x         y  topics  cluster       Freq\n",
       "topic                                                \n",
       "3      0.067170  0.037749       1        1  30.240976\n",
       "4     -0.024527  0.046222       2        1  21.207894\n",
       "2      0.095607 -0.096120       3        1  20.324050\n",
       "1     -0.012181  0.081829       4        1  20.112752\n",
       "0     -0.126069 -0.069681       5        1   8.114328, topic_info=            Term        Freq       Total Category  logprob  loglift\n",
       "476     favorite   73.000000   73.000000  Default  30.0000  30.0000\n",
       "577         good  323.000000  323.000000  Default  29.0000  29.0000\n",
       "1276       small   68.000000   68.000000  Default  28.0000  28.0000\n",
       "742         just  175.000000  175.000000  Default  27.0000  27.0000\n",
       "538        fresh   48.000000   48.000000  Default  26.0000  26.0000\n",
       "...          ...         ...         ...      ...      ...      ...\n",
       "386         easy    3.011399   50.424180   Topic5  -5.2888  -0.3065\n",
       "1411       tasty    2.539471   46.160541   Topic5  -5.4592  -0.3886\n",
       "646       highly    2.454744   30.194892   Topic5  -5.4932   0.0019\n",
       "1149     regular    2.407024   40.202134   Topic5  -5.5128  -0.3040\n",
       "413   especially    2.320376   26.182098   Topic5  -5.5495   0.0882\n",
       "\n",
       "[359 rows x 6 columns], token_table=      Topic      Freq       Term\n",
       "term                            \n",
       "0         5  0.653958     50mile\n",
       "2         1  0.187897       able\n",
       "2         2  0.046974       able\n",
       "2         3  0.140923       able\n",
       "2         4  0.281846       able\n",
       "...     ...       ...        ...\n",
       "1585      4  0.634564  wonderful\n",
       "1596      5  0.888363       wrap\n",
       "1604      5  0.653958       yeah\n",
       "1611      2  0.691635      young\n",
       "1611      4  0.172909      young\n",
       "\n",
       "[541 rows x 3 columns], R=30, lambda_step=0.01, plot_opts={'xlab': 'PC1', 'ylab': 'PC2'}, topic_order=[4, 5, 3, 2, 1])"
      ]
     },
     "execution_count": 313,
     "metadata": {},
     "output_type": "execute_result"
    }
   ],
   "source": [
    "pyLDAvis.enable_notebook()\n",
    "pyLDAvis.sklearn.prepare(LD_Allocator, docTermMatrixCountVec, vectorizer)"
   ]
  },
  {
   "cell_type": "code",
   "execution_count": null,
   "metadata": {},
   "outputs": [],
   "source": []
  }
 ],
 "metadata": {
  "kernelspec": {
   "display_name": "Python 3",
   "language": "python",
   "name": "python3"
  },
  "language_info": {
   "codemirror_mode": {
    "name": "ipython",
    "version": 3
   },
   "file_extension": ".py",
   "mimetype": "text/x-python",
   "name": "python",
   "nbconvert_exporter": "python",
   "pygments_lexer": "ipython3",
   "version": "3.8.6"
  }
 },
 "nbformat": 4,
 "nbformat_minor": 4
}
