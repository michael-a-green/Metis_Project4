{
 "cells": [
  {
   "cell_type": "code",
   "execution_count": 70,
   "metadata": {
    "execution": {
     "iopub.execute_input": "2020-11-03T22:29:54.105490Z",
     "iopub.status.busy": "2020-11-03T22:29:54.105155Z",
     "iopub.status.idle": "2020-11-03T22:29:54.111237Z",
     "shell.execute_reply": "2020-11-03T22:29:54.110399Z",
     "shell.execute_reply.started": "2020-11-03T22:29:54.105458Z"
    }
   },
   "outputs": [
    {
     "name": "stderr",
     "output_type": "stream",
     "text": [
      "/home/magreen/anaconda3_2020_07/envs/metisgpulinux2venv/lib/python3.8/site-packages/ipykernel/ipkernel.py:287: DeprecationWarning: `should_run_async` will not call `transform_cell` automatically in the future. Please pass the result to `transformed_cell` argument and any exception that happen during thetransform in `preprocessing_exc_tuple` in IPython 7.17 and above.\n",
      "  and should_run_async(code)\n"
     ]
    }
   ],
   "source": [
    "import datetime\n",
    "import pandas as pd\n",
    "import numpy as np\n",
    "import matplotlib.pyplot as plt\n",
    "#to speed up pandas operands\n",
    "from pandarallel import pandarallel\n",
    "\n",
    "from sklearn.feature_extraction.text import CountVectorizer, TfidfVectorizer\n",
    "from sklearn.decomposition import LatentDirichletAllocation\n",
    "\n",
    "import pyLDAvis\n",
    "import pyLDAvis.sklearn\n",
    "\n",
    "#gensim\n",
    "from gensim import corpora, models, similarities, matutils\n",
    "\n"
   ]
  },
  {
   "cell_type": "code",
   "execution_count": 71,
   "metadata": {
    "execution": {
     "iopub.execute_input": "2020-11-03T22:29:54.112781Z",
     "iopub.status.busy": "2020-11-03T22:29:54.112547Z",
     "iopub.status.idle": "2020-11-03T22:29:57.034620Z",
     "shell.execute_reply": "2020-11-03T22:29:57.033845Z",
     "shell.execute_reply.started": "2020-11-03T22:29:54.112751Z"
    }
   },
   "outputs": [
    {
     "name": "stderr",
     "output_type": "stream",
     "text": [
      "/home/magreen/anaconda3_2020_07/envs/metisgpulinux2venv/lib/python3.8/site-packages/ipykernel/ipkernel.py:287: DeprecationWarning: `should_run_async` will not call `transform_cell` automatically in the future. Please pass the result to `transformed_cell` argument and any exception that happen during thetransform in `preprocessing_exc_tuple` in IPython 7.17 and above.\n",
      "  and should_run_async(code)\n"
     ]
    }
   ],
   "source": [
    "reviews_df = pd.read_csv(\"../Data/Reviews.csv\")"
   ]
  },
  {
   "cell_type": "code",
   "execution_count": null,
   "metadata": {},
   "outputs": [],
   "source": [
    "\n"
   ]
  },
  {
   "cell_type": "code",
   "execution_count": 72,
   "metadata": {
    "execution": {
     "iopub.execute_input": "2020-11-03T22:29:57.036080Z",
     "iopub.status.busy": "2020-11-03T22:29:57.035922Z",
     "iopub.status.idle": "2020-11-03T22:29:57.048041Z",
     "shell.execute_reply": "2020-11-03T22:29:57.047241Z",
     "shell.execute_reply.started": "2020-11-03T22:29:57.036058Z"
    }
   },
   "outputs": [
    {
     "name": "stderr",
     "output_type": "stream",
     "text": [
      "/home/magreen/anaconda3_2020_07/envs/metisgpulinux2venv/lib/python3.8/site-packages/ipykernel/ipkernel.py:287: DeprecationWarning: `should_run_async` will not call `transform_cell` automatically in the future. Please pass the result to `transformed_cell` argument and any exception that happen during thetransform in `preprocessing_exc_tuple` in IPython 7.17 and above.\n",
      "  and should_run_async(code)\n"
     ]
    },
    {
     "data": {
      "text/html": [
       "<div>\n",
       "<style scoped>\n",
       "    .dataframe tbody tr th:only-of-type {\n",
       "        vertical-align: middle;\n",
       "    }\n",
       "\n",
       "    .dataframe tbody tr th {\n",
       "        vertical-align: top;\n",
       "    }\n",
       "\n",
       "    .dataframe thead th {\n",
       "        text-align: right;\n",
       "    }\n",
       "</style>\n",
       "<table border=\"1\" class=\"dataframe\">\n",
       "  <thead>\n",
       "    <tr style=\"text-align: right;\">\n",
       "      <th></th>\n",
       "      <th>Id</th>\n",
       "      <th>ProductId</th>\n",
       "      <th>UserId</th>\n",
       "      <th>ProfileName</th>\n",
       "      <th>HelpfulnessNumerator</th>\n",
       "      <th>HelpfulnessDenominator</th>\n",
       "      <th>Score</th>\n",
       "      <th>Time</th>\n",
       "      <th>Summary</th>\n",
       "      <th>Text</th>\n",
       "    </tr>\n",
       "  </thead>\n",
       "  <tbody>\n",
       "    <tr>\n",
       "      <th>0</th>\n",
       "      <td>1</td>\n",
       "      <td>B001E4KFG0</td>\n",
       "      <td>A3SGXH7AUHU8GW</td>\n",
       "      <td>delmartian</td>\n",
       "      <td>1</td>\n",
       "      <td>1</td>\n",
       "      <td>5</td>\n",
       "      <td>1303862400</td>\n",
       "      <td>Good Quality Dog Food</td>\n",
       "      <td>I have bought several of the Vitality canned d...</td>\n",
       "    </tr>\n",
       "    <tr>\n",
       "      <th>1</th>\n",
       "      <td>2</td>\n",
       "      <td>B00813GRG4</td>\n",
       "      <td>A1D87F6ZCVE5NK</td>\n",
       "      <td>dll pa</td>\n",
       "      <td>0</td>\n",
       "      <td>0</td>\n",
       "      <td>1</td>\n",
       "      <td>1346976000</td>\n",
       "      <td>Not as Advertised</td>\n",
       "      <td>Product arrived labeled as Jumbo Salted Peanut...</td>\n",
       "    </tr>\n",
       "    <tr>\n",
       "      <th>2</th>\n",
       "      <td>3</td>\n",
       "      <td>B000LQOCH0</td>\n",
       "      <td>ABXLMWJIXXAIN</td>\n",
       "      <td>Natalia Corres \"Natalia Corres\"</td>\n",
       "      <td>1</td>\n",
       "      <td>1</td>\n",
       "      <td>4</td>\n",
       "      <td>1219017600</td>\n",
       "      <td>\"Delight\" says it all</td>\n",
       "      <td>This is a confection that has been around a fe...</td>\n",
       "    </tr>\n",
       "    <tr>\n",
       "      <th>3</th>\n",
       "      <td>4</td>\n",
       "      <td>B000UA0QIQ</td>\n",
       "      <td>A395BORC6FGVXV</td>\n",
       "      <td>Karl</td>\n",
       "      <td>3</td>\n",
       "      <td>3</td>\n",
       "      <td>2</td>\n",
       "      <td>1307923200</td>\n",
       "      <td>Cough Medicine</td>\n",
       "      <td>If you are looking for the secret ingredient i...</td>\n",
       "    </tr>\n",
       "    <tr>\n",
       "      <th>4</th>\n",
       "      <td>5</td>\n",
       "      <td>B006K2ZZ7K</td>\n",
       "      <td>A1UQRSCLF8GW1T</td>\n",
       "      <td>Michael D. Bigham \"M. Wassir\"</td>\n",
       "      <td>0</td>\n",
       "      <td>0</td>\n",
       "      <td>5</td>\n",
       "      <td>1350777600</td>\n",
       "      <td>Great taffy</td>\n",
       "      <td>Great taffy at a great price.  There was a wid...</td>\n",
       "    </tr>\n",
       "  </tbody>\n",
       "</table>\n",
       "</div>"
      ],
      "text/plain": [
       "   Id   ProductId          UserId                      ProfileName  \\\n",
       "0   1  B001E4KFG0  A3SGXH7AUHU8GW                       delmartian   \n",
       "1   2  B00813GRG4  A1D87F6ZCVE5NK                           dll pa   \n",
       "2   3  B000LQOCH0   ABXLMWJIXXAIN  Natalia Corres \"Natalia Corres\"   \n",
       "3   4  B000UA0QIQ  A395BORC6FGVXV                             Karl   \n",
       "4   5  B006K2ZZ7K  A1UQRSCLF8GW1T    Michael D. Bigham \"M. Wassir\"   \n",
       "\n",
       "   HelpfulnessNumerator  HelpfulnessDenominator  Score        Time  \\\n",
       "0                     1                       1      5  1303862400   \n",
       "1                     0                       0      1  1346976000   \n",
       "2                     1                       1      4  1219017600   \n",
       "3                     3                       3      2  1307923200   \n",
       "4                     0                       0      5  1350777600   \n",
       "\n",
       "                 Summary                                               Text  \n",
       "0  Good Quality Dog Food  I have bought several of the Vitality canned d...  \n",
       "1      Not as Advertised  Product arrived labeled as Jumbo Salted Peanut...  \n",
       "2  \"Delight\" says it all  This is a confection that has been around a fe...  \n",
       "3         Cough Medicine  If you are looking for the secret ingredient i...  \n",
       "4            Great taffy  Great taffy at a great price.  There was a wid...  "
      ]
     },
     "execution_count": 72,
     "metadata": {},
     "output_type": "execute_result"
    }
   ],
   "source": [
    "reviews_df.head()"
   ]
  },
  {
   "cell_type": "code",
   "execution_count": 73,
   "metadata": {
    "execution": {
     "iopub.execute_input": "2020-11-03T22:29:57.049719Z",
     "iopub.status.busy": "2020-11-03T22:29:57.049495Z",
     "iopub.status.idle": "2020-11-03T22:29:57.071875Z",
     "shell.execute_reply": "2020-11-03T22:29:57.071107Z",
     "shell.execute_reply.started": "2020-11-03T22:29:57.049689Z"
    }
   },
   "outputs": [
    {
     "name": "stderr",
     "output_type": "stream",
     "text": [
      "/home/magreen/anaconda3_2020_07/envs/metisgpulinux2venv/lib/python3.8/site-packages/ipykernel/ipkernel.py:287: DeprecationWarning: `should_run_async` will not call `transform_cell` automatically in the future. Please pass the result to `transformed_cell` argument and any exception that happen during thetransform in `preprocessing_exc_tuple` in IPython 7.17 and above.\n",
      "  and should_run_async(code)\n"
     ]
    }
   ],
   "source": [
    "stuff =list(reviews_df.Text.head(5))"
   ]
  },
  {
   "cell_type": "code",
   "execution_count": 74,
   "metadata": {
    "execution": {
     "iopub.execute_input": "2020-11-03T22:29:57.073122Z",
     "iopub.status.busy": "2020-11-03T22:29:57.072920Z",
     "iopub.status.idle": "2020-11-03T22:29:57.091389Z",
     "shell.execute_reply": "2020-11-03T22:29:57.090704Z",
     "shell.execute_reply.started": "2020-11-03T22:29:57.073095Z"
    }
   },
   "outputs": [
    {
     "name": "stderr",
     "output_type": "stream",
     "text": [
      "/home/magreen/anaconda3_2020_07/envs/metisgpulinux2venv/lib/python3.8/site-packages/ipykernel/ipkernel.py:287: DeprecationWarning: `should_run_async` will not call `transform_cell` automatically in the future. Please pass the result to `transformed_cell` argument and any exception that happen during thetransform in `preprocessing_exc_tuple` in IPython 7.17 and above.\n",
      "  and should_run_async(code)\n"
     ]
    },
    {
     "data": {
      "text/plain": [
       "['I have bought several of the Vitality canned dog food products and have found them all to be of good quality. The product looks more like a stew than a processed meat and it smells better. My Labrador is finicky and she appreciates this product better than  most.',\n",
       " 'Product arrived labeled as Jumbo Salted Peanuts...the peanuts were actually small sized unsalted. Not sure if this was an error or if the vendor intended to represent the product as \"Jumbo\".',\n",
       " 'This is a confection that has been around a few centuries.  It is a light, pillowy citrus gelatin with nuts - in this case Filberts. And it is cut into tiny squares and then liberally coated with powdered sugar.  And it is a tiny mouthful of heaven.  Not too chewy, and very flavorful.  I highly recommend this yummy treat.  If you are familiar with the story of C.S. Lewis\\' \"The Lion, The Witch, and The Wardrobe\" - this is the treat that seduces Edmund into selling out his Brother and Sisters to the Witch.',\n",
       " 'If you are looking for the secret ingredient in Robitussin I believe I have found it.  I got this in addition to the Root Beer Extract I ordered (which was good) and made some cherry soda.  The flavor is very medicinal.',\n",
       " 'Great taffy at a great price.  There was a wide assortment of yummy taffy.  Delivery was very quick.  If your a taffy lover, this is a deal.']"
      ]
     },
     "execution_count": 74,
     "metadata": {},
     "output_type": "execute_result"
    }
   ],
   "source": [
    "stuff"
   ]
  },
  {
   "cell_type": "code",
   "execution_count": 75,
   "metadata": {
    "execution": {
     "iopub.execute_input": "2020-11-03T22:29:57.092600Z",
     "iopub.status.busy": "2020-11-03T22:29:57.092395Z",
     "iopub.status.idle": "2020-11-03T22:29:57.110304Z",
     "shell.execute_reply": "2020-11-03T22:29:57.109586Z",
     "shell.execute_reply.started": "2020-11-03T22:29:57.092572Z"
    }
   },
   "outputs": [
    {
     "name": "stderr",
     "output_type": "stream",
     "text": [
      "/home/magreen/anaconda3_2020_07/envs/metisgpulinux2venv/lib/python3.8/site-packages/ipykernel/ipkernel.py:287: DeprecationWarning: `should_run_async` will not call `transform_cell` automatically in the future. Please pass the result to `transformed_cell` argument and any exception that happen during thetransform in `preprocessing_exc_tuple` in IPython 7.17 and above.\n",
      "  and should_run_async(code)\n"
     ]
    },
    {
     "data": {
      "text/plain": [
       "5"
      ]
     },
     "execution_count": 75,
     "metadata": {},
     "output_type": "execute_result"
    }
   ],
   "source": [
    "len(stuff)"
   ]
  },
  {
   "cell_type": "code",
   "execution_count": 76,
   "metadata": {
    "execution": {
     "iopub.execute_input": "2020-11-03T22:29:57.111509Z",
     "iopub.status.busy": "2020-11-03T22:29:57.111294Z",
     "iopub.status.idle": "2020-11-03T22:29:57.129971Z",
     "shell.execute_reply": "2020-11-03T22:29:57.129187Z",
     "shell.execute_reply.started": "2020-11-03T22:29:57.111482Z"
    }
   },
   "outputs": [
    {
     "name": "stderr",
     "output_type": "stream",
     "text": [
      "/home/magreen/anaconda3_2020_07/envs/metisgpulinux2venv/lib/python3.8/site-packages/ipykernel/ipkernel.py:287: DeprecationWarning: `should_run_async` will not call `transform_cell` automatically in the future. Please pass the result to `transformed_cell` argument and any exception that happen during thetransform in `preprocessing_exc_tuple` in IPython 7.17 and above.\n",
      "  and should_run_async(code)\n"
     ]
    }
   ],
   "source": [
    "vectorizer = CountVectorizer(stop_words=\"english\")\n",
    "docTermMatrixCountVec = vectorizer.fit_transform(stuff)"
   ]
  },
  {
   "cell_type": "code",
   "execution_count": 77,
   "metadata": {
    "execution": {
     "iopub.execute_input": "2020-11-03T22:29:57.132060Z",
     "iopub.status.busy": "2020-11-03T22:29:57.131851Z",
     "iopub.status.idle": "2020-11-03T22:29:57.150620Z",
     "shell.execute_reply": "2020-11-03T22:29:57.149914Z",
     "shell.execute_reply.started": "2020-11-03T22:29:57.132032Z"
    }
   },
   "outputs": [
    {
     "name": "stderr",
     "output_type": "stream",
     "text": [
      "/home/magreen/anaconda3_2020_07/envs/metisgpulinux2venv/lib/python3.8/site-packages/ipykernel/ipkernel.py:287: DeprecationWarning: `should_run_async` will not call `transform_cell` automatically in the future. Please pass the result to `transformed_cell` argument and any exception that happen during thetransform in `preprocessing_exc_tuple` in IPython 7.17 and above.\n",
      "  and should_run_async(code)\n"
     ]
    },
    {
     "data": {
      "text/plain": [
       "array([[0, 0, 1, 0, 0, 0, 0, 2, 1, 0, 1, 0, 0, 0, 0, 0, 0, 0, 0, 0, 0, 1,\n",
       "        0, 0, 0, 0, 0, 1, 0, 0, 1, 0, 1, 0, 0, 0, 0, 0, 0, 0, 0, 1, 0, 0,\n",
       "        0, 1, 0, 0, 1, 0, 1, 0, 0, 0, 0, 0, 0, 0, 0, 1, 2, 1, 1, 0, 0, 0,\n",
       "        0, 0, 0, 0, 0, 0, 0, 0, 0, 1, 0, 0, 1, 0, 0, 0, 0, 0, 0, 0, 0, 1,\n",
       "        0, 0, 0, 0],\n",
       "       [1, 0, 0, 1, 0, 0, 0, 0, 0, 0, 0, 0, 0, 0, 0, 0, 0, 0, 0, 0, 0, 0,\n",
       "        0, 1, 0, 0, 0, 0, 0, 0, 0, 0, 0, 0, 0, 0, 0, 0, 1, 2, 1, 0, 0, 0,\n",
       "        0, 0, 0, 0, 0, 0, 0, 0, 0, 0, 0, 2, 0, 0, 0, 0, 2, 0, 0, 0, 0, 1,\n",
       "        0, 0, 1, 0, 0, 0, 0, 1, 1, 0, 0, 0, 0, 0, 0, 1, 0, 0, 0, 1, 1, 0,\n",
       "        0, 0, 0, 0],\n",
       "       [0, 0, 0, 0, 0, 0, 0, 0, 0, 1, 0, 1, 1, 0, 1, 1, 1, 1, 1, 0, 0, 0,\n",
       "        1, 0, 0, 1, 1, 0, 0, 1, 0, 1, 0, 0, 0, 1, 1, 0, 0, 0, 0, 0, 1, 1,\n",
       "        1, 0, 1, 0, 0, 0, 0, 0, 1, 1, 0, 0, 1, 1, 0, 0, 0, 0, 0, 0, 1, 0,\n",
       "        0, 0, 0, 0, 1, 1, 1, 0, 0, 0, 0, 1, 0, 1, 1, 0, 0, 2, 2, 0, 0, 0,\n",
       "        1, 0, 2, 1],\n",
       "       [0, 1, 0, 0, 0, 1, 1, 0, 0, 0, 0, 0, 0, 1, 0, 0, 0, 0, 0, 0, 0, 0,\n",
       "        0, 0, 1, 0, 0, 0, 1, 0, 0, 0, 1, 1, 0, 0, 0, 1, 0, 0, 0, 0, 0, 0,\n",
       "        0, 0, 0, 1, 0, 0, 0, 1, 0, 0, 1, 0, 0, 0, 0, 0, 0, 0, 0, 0, 0, 0,\n",
       "        1, 1, 0, 1, 0, 0, 0, 0, 0, 0, 1, 0, 0, 0, 0, 0, 0, 0, 0, 0, 0, 0,\n",
       "        0, 0, 0, 0],\n",
       "       [0, 0, 0, 0, 1, 0, 0, 0, 0, 0, 0, 0, 0, 0, 0, 0, 0, 0, 0, 1, 1, 0,\n",
       "        0, 0, 0, 0, 0, 0, 0, 0, 0, 0, 0, 0, 2, 0, 0, 0, 0, 0, 0, 0, 0, 0,\n",
       "        0, 0, 0, 0, 0, 1, 0, 0, 0, 0, 0, 0, 0, 0, 1, 0, 0, 0, 0, 1, 0, 0,\n",
       "        0, 0, 0, 0, 0, 0, 0, 0, 0, 0, 0, 0, 0, 0, 0, 0, 3, 0, 0, 0, 0, 0,\n",
       "        0, 1, 0, 1]])"
      ]
     },
     "execution_count": 77,
     "metadata": {},
     "output_type": "execute_result"
    }
   ],
   "source": [
    "docTermMatrixCountVec.toarray()"
   ]
  },
  {
   "cell_type": "code",
   "execution_count": 78,
   "metadata": {
    "execution": {
     "iopub.execute_input": "2020-11-03T22:29:57.151866Z",
     "iopub.status.busy": "2020-11-03T22:29:57.151669Z",
     "iopub.status.idle": "2020-11-03T22:29:57.170071Z",
     "shell.execute_reply": "2020-11-03T22:29:57.169391Z",
     "shell.execute_reply.started": "2020-11-03T22:29:57.151839Z"
    }
   },
   "outputs": [
    {
     "name": "stderr",
     "output_type": "stream",
     "text": [
      "/home/magreen/anaconda3_2020_07/envs/metisgpulinux2venv/lib/python3.8/site-packages/ipykernel/ipkernel.py:287: DeprecationWarning: `should_run_async` will not call `transform_cell` automatically in the future. Please pass the result to `transformed_cell` argument and any exception that happen during thetransform in `preprocessing_exc_tuple` in IPython 7.17 and above.\n",
      "  and should_run_async(code)\n"
     ]
    },
    {
     "data": {
      "text/plain": [
       "(5, 92)"
      ]
     },
     "execution_count": 78,
     "metadata": {},
     "output_type": "execute_result"
    }
   ],
   "source": [
    "docTermMatrixCountVec.shape"
   ]
  },
  {
   "cell_type": "code",
   "execution_count": 79,
   "metadata": {
    "execution": {
     "iopub.execute_input": "2020-11-03T22:29:57.171252Z",
     "iopub.status.busy": "2020-11-03T22:29:57.171038Z",
     "iopub.status.idle": "2020-11-03T22:29:57.329907Z",
     "shell.execute_reply": "2020-11-03T22:29:57.329106Z",
     "shell.execute_reply.started": "2020-11-03T22:29:57.171225Z"
    }
   },
   "outputs": [
    {
     "name": "stderr",
     "output_type": "stream",
     "text": [
      "/home/magreen/anaconda3_2020_07/envs/metisgpulinux2venv/lib/python3.8/site-packages/ipykernel/ipkernel.py:287: DeprecationWarning: `should_run_async` will not call `transform_cell` automatically in the future. Please pass the result to `transformed_cell` argument and any exception that happen during thetransform in `preprocessing_exc_tuple` in IPython 7.17 and above.\n",
      "  and should_run_async(code)\n"
     ]
    }
   ],
   "source": [
    "docTermMatrixCountVec_df = pd.DataFrame(docTermMatrixCountVec.toarray(), index=stuff, columns=vectorizer.get_feature_names())"
   ]
  },
  {
   "cell_type": "code",
   "execution_count": 80,
   "metadata": {
    "execution": {
     "iopub.execute_input": "2020-11-03T22:29:57.331239Z",
     "iopub.status.busy": "2020-11-03T22:29:57.331018Z",
     "iopub.status.idle": "2020-11-03T22:29:57.349426Z",
     "shell.execute_reply": "2020-11-03T22:29:57.348786Z",
     "shell.execute_reply.started": "2020-11-03T22:29:57.331211Z"
    }
   },
   "outputs": [
    {
     "name": "stderr",
     "output_type": "stream",
     "text": [
      "/home/magreen/anaconda3_2020_07/envs/metisgpulinux2venv/lib/python3.8/site-packages/ipykernel/ipkernel.py:287: DeprecationWarning: `should_run_async` will not call `transform_cell` automatically in the future. Please pass the result to `transformed_cell` argument and any exception that happen during thetransform in `preprocessing_exc_tuple` in IPython 7.17 and above.\n",
      "  and should_run_async(code)\n"
     ]
    },
    {
     "data": {
      "text/html": [
       "<div>\n",
       "<style scoped>\n",
       "    .dataframe tbody tr th:only-of-type {\n",
       "        vertical-align: middle;\n",
       "    }\n",
       "\n",
       "    .dataframe tbody tr th {\n",
       "        vertical-align: top;\n",
       "    }\n",
       "\n",
       "    .dataframe thead th {\n",
       "        text-align: right;\n",
       "    }\n",
       "</style>\n",
       "<table border=\"1\" class=\"dataframe\">\n",
       "  <thead>\n",
       "    <tr style=\"text-align: right;\">\n",
       "      <th></th>\n",
       "      <th>actually</th>\n",
       "      <th>addition</th>\n",
       "      <th>appreciates</th>\n",
       "      <th>arrived</th>\n",
       "      <th>assortment</th>\n",
       "      <th>beer</th>\n",
       "      <th>believe</th>\n",
       "      <th>better</th>\n",
       "      <th>bought</th>\n",
       "      <th>brother</th>\n",
       "      <th>...</th>\n",
       "      <th>taffy</th>\n",
       "      <th>tiny</th>\n",
       "      <th>treat</th>\n",
       "      <th>unsalted</th>\n",
       "      <th>vendor</th>\n",
       "      <th>vitality</th>\n",
       "      <th>wardrobe</th>\n",
       "      <th>wide</th>\n",
       "      <th>witch</th>\n",
       "      <th>yummy</th>\n",
       "    </tr>\n",
       "  </thead>\n",
       "  <tbody>\n",
       "    <tr>\n",
       "      <th>I have bought several of the Vitality canned dog food products and have found them all to be of good quality. The product looks more like a stew than a processed meat and it smells better. My Labrador is finicky and she appreciates this product better than  most.</th>\n",
       "      <td>0</td>\n",
       "      <td>0</td>\n",
       "      <td>1</td>\n",
       "      <td>0</td>\n",
       "      <td>0</td>\n",
       "      <td>0</td>\n",
       "      <td>0</td>\n",
       "      <td>2</td>\n",
       "      <td>1</td>\n",
       "      <td>0</td>\n",
       "      <td>...</td>\n",
       "      <td>0</td>\n",
       "      <td>0</td>\n",
       "      <td>0</td>\n",
       "      <td>0</td>\n",
       "      <td>0</td>\n",
       "      <td>1</td>\n",
       "      <td>0</td>\n",
       "      <td>0</td>\n",
       "      <td>0</td>\n",
       "      <td>0</td>\n",
       "    </tr>\n",
       "    <tr>\n",
       "      <th>Product arrived labeled as Jumbo Salted Peanuts...the peanuts were actually small sized unsalted. Not sure if this was an error or if the vendor intended to represent the product as \"Jumbo\".</th>\n",
       "      <td>1</td>\n",
       "      <td>0</td>\n",
       "      <td>0</td>\n",
       "      <td>1</td>\n",
       "      <td>0</td>\n",
       "      <td>0</td>\n",
       "      <td>0</td>\n",
       "      <td>0</td>\n",
       "      <td>0</td>\n",
       "      <td>0</td>\n",
       "      <td>...</td>\n",
       "      <td>0</td>\n",
       "      <td>0</td>\n",
       "      <td>0</td>\n",
       "      <td>1</td>\n",
       "      <td>1</td>\n",
       "      <td>0</td>\n",
       "      <td>0</td>\n",
       "      <td>0</td>\n",
       "      <td>0</td>\n",
       "      <td>0</td>\n",
       "    </tr>\n",
       "    <tr>\n",
       "      <th>This is a confection that has been around a few centuries.  It is a light, pillowy citrus gelatin with nuts - in this case Filberts. And it is cut into tiny squares and then liberally coated with powdered sugar.  And it is a tiny mouthful of heaven.  Not too chewy, and very flavorful.  I highly recommend this yummy treat.  If you are familiar with the story of C.S. Lewis' \"The Lion, The Witch, and The Wardrobe\" - this is the treat that seduces Edmund into selling out his Brother and Sisters to the Witch.</th>\n",
       "      <td>0</td>\n",
       "      <td>0</td>\n",
       "      <td>0</td>\n",
       "      <td>0</td>\n",
       "      <td>0</td>\n",
       "      <td>0</td>\n",
       "      <td>0</td>\n",
       "      <td>0</td>\n",
       "      <td>0</td>\n",
       "      <td>1</td>\n",
       "      <td>...</td>\n",
       "      <td>0</td>\n",
       "      <td>2</td>\n",
       "      <td>2</td>\n",
       "      <td>0</td>\n",
       "      <td>0</td>\n",
       "      <td>0</td>\n",
       "      <td>1</td>\n",
       "      <td>0</td>\n",
       "      <td>2</td>\n",
       "      <td>1</td>\n",
       "    </tr>\n",
       "    <tr>\n",
       "      <th>If you are looking for the secret ingredient in Robitussin I believe I have found it.  I got this in addition to the Root Beer Extract I ordered (which was good) and made some cherry soda.  The flavor is very medicinal.</th>\n",
       "      <td>0</td>\n",
       "      <td>1</td>\n",
       "      <td>0</td>\n",
       "      <td>0</td>\n",
       "      <td>0</td>\n",
       "      <td>1</td>\n",
       "      <td>1</td>\n",
       "      <td>0</td>\n",
       "      <td>0</td>\n",
       "      <td>0</td>\n",
       "      <td>...</td>\n",
       "      <td>0</td>\n",
       "      <td>0</td>\n",
       "      <td>0</td>\n",
       "      <td>0</td>\n",
       "      <td>0</td>\n",
       "      <td>0</td>\n",
       "      <td>0</td>\n",
       "      <td>0</td>\n",
       "      <td>0</td>\n",
       "      <td>0</td>\n",
       "    </tr>\n",
       "    <tr>\n",
       "      <th>Great taffy at a great price.  There was a wide assortment of yummy taffy.  Delivery was very quick.  If your a taffy lover, this is a deal.</th>\n",
       "      <td>0</td>\n",
       "      <td>0</td>\n",
       "      <td>0</td>\n",
       "      <td>0</td>\n",
       "      <td>1</td>\n",
       "      <td>0</td>\n",
       "      <td>0</td>\n",
       "      <td>0</td>\n",
       "      <td>0</td>\n",
       "      <td>0</td>\n",
       "      <td>...</td>\n",
       "      <td>3</td>\n",
       "      <td>0</td>\n",
       "      <td>0</td>\n",
       "      <td>0</td>\n",
       "      <td>0</td>\n",
       "      <td>0</td>\n",
       "      <td>0</td>\n",
       "      <td>1</td>\n",
       "      <td>0</td>\n",
       "      <td>1</td>\n",
       "    </tr>\n",
       "  </tbody>\n",
       "</table>\n",
       "<p>5 rows × 92 columns</p>\n",
       "</div>"
      ],
      "text/plain": [
       "                                                    actually  addition  \\\n",
       "I have bought several of the Vitality canned do...         0         0   \n",
       "Product arrived labeled as Jumbo Salted Peanuts...         1         0   \n",
       "This is a confection that has been around a few...         0         0   \n",
       "If you are looking for the secret ingredient in...         0         1   \n",
       "Great taffy at a great price.  There was a wide...         0         0   \n",
       "\n",
       "                                                    appreciates  arrived  \\\n",
       "I have bought several of the Vitality canned do...            1        0   \n",
       "Product arrived labeled as Jumbo Salted Peanuts...            0        1   \n",
       "This is a confection that has been around a few...            0        0   \n",
       "If you are looking for the secret ingredient in...            0        0   \n",
       "Great taffy at a great price.  There was a wide...            0        0   \n",
       "\n",
       "                                                    assortment  beer  believe  \\\n",
       "I have bought several of the Vitality canned do...           0     0        0   \n",
       "Product arrived labeled as Jumbo Salted Peanuts...           0     0        0   \n",
       "This is a confection that has been around a few...           0     0        0   \n",
       "If you are looking for the secret ingredient in...           0     1        1   \n",
       "Great taffy at a great price.  There was a wide...           1     0        0   \n",
       "\n",
       "                                                    better  bought  brother  \\\n",
       "I have bought several of the Vitality canned do...       2       1        0   \n",
       "Product arrived labeled as Jumbo Salted Peanuts...       0       0        0   \n",
       "This is a confection that has been around a few...       0       0        1   \n",
       "If you are looking for the secret ingredient in...       0       0        0   \n",
       "Great taffy at a great price.  There was a wide...       0       0        0   \n",
       "\n",
       "                                                    ...  taffy  tiny  treat  \\\n",
       "I have bought several of the Vitality canned do...  ...      0     0      0   \n",
       "Product arrived labeled as Jumbo Salted Peanuts...  ...      0     0      0   \n",
       "This is a confection that has been around a few...  ...      0     2      2   \n",
       "If you are looking for the secret ingredient in...  ...      0     0      0   \n",
       "Great taffy at a great price.  There was a wide...  ...      3     0      0   \n",
       "\n",
       "                                                    unsalted  vendor  \\\n",
       "I have bought several of the Vitality canned do...         0       0   \n",
       "Product arrived labeled as Jumbo Salted Peanuts...         1       1   \n",
       "This is a confection that has been around a few...         0       0   \n",
       "If you are looking for the secret ingredient in...         0       0   \n",
       "Great taffy at a great price.  There was a wide...         0       0   \n",
       "\n",
       "                                                    vitality  wardrobe  wide  \\\n",
       "I have bought several of the Vitality canned do...         1         0     0   \n",
       "Product arrived labeled as Jumbo Salted Peanuts...         0         0     0   \n",
       "This is a confection that has been around a few...         0         1     0   \n",
       "If you are looking for the secret ingredient in...         0         0     0   \n",
       "Great taffy at a great price.  There was a wide...         0         0     1   \n",
       "\n",
       "                                                    witch  yummy  \n",
       "I have bought several of the Vitality canned do...      0      0  \n",
       "Product arrived labeled as Jumbo Salted Peanuts...      0      0  \n",
       "This is a confection that has been around a few...      2      1  \n",
       "If you are looking for the secret ingredient in...      0      0  \n",
       "Great taffy at a great price.  There was a wide...      0      1  \n",
       "\n",
       "[5 rows x 92 columns]"
      ]
     },
     "execution_count": 80,
     "metadata": {},
     "output_type": "execute_result"
    }
   ],
   "source": [
    "docTermMatrixCountVec_df.head()"
   ]
  },
  {
   "cell_type": "code",
   "execution_count": 81,
   "metadata": {
    "execution": {
     "iopub.execute_input": "2020-11-03T22:30:02.663190Z",
     "iopub.status.busy": "2020-11-03T22:30:02.662931Z",
     "iopub.status.idle": "2020-11-03T22:30:02.689243Z",
     "shell.execute_reply": "2020-11-03T22:30:02.688598Z",
     "shell.execute_reply.started": "2020-11-03T22:30:02.663160Z"
    }
   },
   "outputs": [
    {
     "name": "stderr",
     "output_type": "stream",
     "text": [
      "/home/magreen/anaconda3_2020_07/envs/metisgpulinux2venv/lib/python3.8/site-packages/ipykernel/ipkernel.py:287: DeprecationWarning: `should_run_async` will not call `transform_cell` automatically in the future. Please pass the result to `transformed_cell` argument and any exception that happen during thetransform in `preprocessing_exc_tuple` in IPython 7.17 and above.\n",
      "  and should_run_async(code)\n"
     ]
    },
    {
     "data": {
      "text/plain": [
       "LatentDirichletAllocation(n_components=2, random_state=0)"
      ]
     },
     "execution_count": 81,
     "metadata": {},
     "output_type": "execute_result"
    }
   ],
   "source": [
    "LD_Allocator = LatentDirichletAllocation(n_components=2, random_state=0)\n",
    "LD_Allocator.fit(docTermMatrixCountVec)"
   ]
  },
  {
   "cell_type": "markdown",
   "metadata": {
    "execution": {
     "iopub.execute_input": "2020-11-03T22:20:31.145738Z",
     "iopub.status.busy": "2020-11-03T22:20:31.145545Z",
     "iopub.status.idle": "2020-11-03T22:20:31.162025Z",
     "shell.execute_reply": "2020-11-03T22:20:31.161379Z",
     "shell.execute_reply.started": "2020-11-03T22:20:31.145719Z"
    }
   },
   "source": [
    "## LD_Allocator.fit(docTermMatrixCountVec)"
   ]
  },
  {
   "cell_type": "code",
   "execution_count": 82,
   "metadata": {
    "execution": {
     "iopub.execute_input": "2020-11-03T22:30:04.247899Z",
     "iopub.status.busy": "2020-11-03T22:30:04.247646Z",
     "iopub.status.idle": "2020-11-03T22:30:07.174214Z",
     "shell.execute_reply": "2020-11-03T22:30:07.173569Z",
     "shell.execute_reply.started": "2020-11-03T22:30:04.247869Z"
    }
   },
   "outputs": [
    {
     "name": "stderr",
     "output_type": "stream",
     "text": [
      "/home/magreen/anaconda3_2020_07/envs/metisgpulinux2venv/lib/python3.8/site-packages/ipykernel/ipkernel.py:287: DeprecationWarning: `should_run_async` will not call `transform_cell` automatically in the future. Please pass the result to `transformed_cell` argument and any exception that happen during thetransform in `preprocessing_exc_tuple` in IPython 7.17 and above.\n",
      "  and should_run_async(code)\n"
     ]
    },
    {
     "data": {
      "text/html": [
       "\n",
       "<link rel=\"stylesheet\" type=\"text/css\" href=\"https://cdn.rawgit.com/bmabey/pyLDAvis/files/ldavis.v1.0.0.css\">\n",
       "\n",
       "\n",
       "<div id=\"ldavis_el710781399208289331688862058610\"></div>\n",
       "<script type=\"text/javascript\">\n",
       "\n",
       "var ldavis_el710781399208289331688862058610_data = {\"mdsDat\": {\"x\": [0.0739172181395318, -0.0739172181395318], \"y\": [0.0, 0.0], \"topics\": [1, 2], \"cluster\": [1, 1], \"Freq\": [51.38590596610341, 48.614094033896585]}, \"tinfo\": {\"Term\": [\"product\", \"taffy\", \"better\", \"peanuts\", \"jumbo\", \"great\", \"tiny\", \"treat\", \"witch\", \"bought\", \"canned\", \"vitality\", \"appreciates\", \"products\", \"food\", \"smells\", \"quality\", \"stew\", \"dog\", \"meat\", \"labrador\", \"processed\", \"looks\", \"like\", \"finicky\", \"labeled\", \"intended\", \"represent\", \"salted\", \"actually\", \"witch\", \"treat\", \"tiny\", \"confection\", \"pillowy\", \"citrus\", \"recommend\", \"highly\", \"coated\", \"gelatin\", \"cut\", \"powdered\", \"nuts\", \"filberts\", \"chewy\", \"mouthful\", \"edmund\", \"familiar\", \"lion\", \"light\", \"lewis\", \"liberally\", \"story\", \"case\", \"flavorful\", \"sugar\", \"seduces\", \"brother\", \"squares\", \"heaven\", \"yummy\", \"selling\", \"sisters\", \"centuries\", \"product\", \"taffy\", \"better\", \"peanuts\", \"jumbo\", \"great\", \"stew\", \"food\", \"smells\", \"quality\", \"products\", \"dog\", \"canned\", \"bought\", \"vitality\", \"appreciates\", \"finicky\", \"labrador\", \"looks\", \"meat\", \"processed\", \"like\", \"error\", \"intended\", \"labeled\", \"arrived\", \"actually\", \"represent\", \"salted\", \"vendor\", \"good\"], \"Freq\": [2.0, 2.0, 1.0, 1.0, 1.0, 1.0, 1.0, 1.0, 1.0, 1.0, 1.0, 1.0, 1.0, 1.0, 1.0, 1.0, 1.0, 1.0, 1.0, 1.0, 1.0, 1.0, 1.0, 1.0, 1.0, 1.0, 1.0, 1.0, 1.0, 1.0, 1.3612299326740347, 1.3612299326740347, 1.3612299326740347, 0.8166181992475965, 0.8166181992475965, 0.8166181992475965, 0.8166181992475965, 0.8166181992475965, 0.8166181992475965, 0.8166181992475965, 0.8166181992475965, 0.8166181992475965, 0.8166181992475965, 0.8166181992475965, 0.8166181992475965, 0.8166181992475965, 0.8166181992475965, 0.8166181992475965, 0.8166181992475965, 0.8166181992475965, 0.8166181992475965, 0.8166181992475965, 0.8166181992475965, 0.8166181992475965, 0.8166181992475965, 0.8166181992475965, 0.8166181992475965, 0.8166181992475965, 0.8166181992475965, 0.8166181992475965, 0.8212480336554048, 0.8166181992475965, 0.8166181992475965, 0.8166181992475965, 2.3659498194164192, 1.8397417149814437, 1.3141964947504219, 1.3141303833584672, 1.3141303833584672, 1.313851283420658, 0.7883154112685712, 0.7883154112685712, 0.7883154112685712, 0.7883154112685712, 0.7883154112685712, 0.7883154112685712, 0.7883154112685712, 0.7883154112685712, 0.7883154112685712, 0.7883154112685712, 0.7883154112685711, 0.7883154112685711, 0.7883154112685711, 0.7883154112685711, 0.7883154112685711, 0.7883154112685711, 0.7882510533721507, 0.7882510533721507, 0.7882510533721507, 0.7882510533721507, 0.7882510533721507, 0.7882510533721507, 0.7882510533721507, 0.7882510533721507, 0.7904609088129091], \"Total\": [2.0, 2.0, 1.0, 1.0, 1.0, 1.0, 1.0, 1.0, 1.0, 1.0, 1.0, 1.0, 1.0, 1.0, 1.0, 1.0, 1.0, 1.0, 1.0, 1.0, 1.0, 1.0, 1.0, 1.0, 1.0, 1.0, 1.0, 1.0, 1.0, 1.0, 1.624487006763631, 1.624487006763631, 1.624487006763631, 1.0798671552778132, 1.0798671552778132, 1.0798671552778132, 1.0798671552778132, 1.0798671552778132, 1.0798671552778132, 1.0798671552778132, 1.0798671552778132, 1.0798671552778132, 1.0798671552778132, 1.0798671552778132, 1.0798671552778132, 1.0798671552778132, 1.0798671552778132, 1.0798671552778132, 1.0798671552778132, 1.0798671552778132, 1.0798671552778132, 1.0798671552778132, 1.0798671552778132, 1.0798671552778132, 1.0798671552778132, 1.0798671552778132, 1.0798671552778132, 1.0798671552778132, 1.0798671552778132, 1.0798671552778132, 1.6059216791497923, 1.0798671552778132, 1.0798671552778132, 1.0798671552778132, 2.6388597407891643, 2.1129755330730378, 1.5870677229954, 1.587070076928355, 1.587070076928355, 1.5870800144371846, 1.0611718715159872, 1.0611718715159872, 1.0611718715159872, 1.0611718715159872, 1.0611718715159872, 1.0611718715159872, 1.0611718715159872, 1.0611718715159872, 1.0611718715159872, 1.0611718715159872, 1.0611718715159872, 1.0611718715159872, 1.0611718715159872, 1.0611718715159872, 1.0611718715159872, 1.0611718715159872, 1.0611741630147564, 1.0611741630147564, 1.0611741630147564, 1.0611741630147564, 1.0611741630147564, 1.0611741630147564, 1.0611741630147564, 1.0611741630147564, 1.6057156204140557], \"Category\": [\"Default\", \"Default\", \"Default\", \"Default\", \"Default\", \"Default\", \"Default\", \"Default\", \"Default\", \"Default\", \"Default\", \"Default\", \"Default\", \"Default\", \"Default\", \"Default\", \"Default\", \"Default\", \"Default\", \"Default\", \"Default\", \"Default\", \"Default\", \"Default\", \"Default\", \"Default\", \"Default\", \"Default\", \"Default\", \"Default\", \"Topic1\", \"Topic1\", \"Topic1\", \"Topic1\", \"Topic1\", \"Topic1\", \"Topic1\", \"Topic1\", \"Topic1\", \"Topic1\", \"Topic1\", \"Topic1\", \"Topic1\", \"Topic1\", \"Topic1\", \"Topic1\", \"Topic1\", \"Topic1\", \"Topic1\", \"Topic1\", \"Topic1\", \"Topic1\", \"Topic1\", \"Topic1\", \"Topic1\", \"Topic1\", \"Topic1\", \"Topic1\", \"Topic1\", \"Topic1\", \"Topic1\", \"Topic1\", \"Topic1\", \"Topic1\", \"Topic2\", \"Topic2\", \"Topic2\", \"Topic2\", \"Topic2\", \"Topic2\", \"Topic2\", \"Topic2\", \"Topic2\", \"Topic2\", \"Topic2\", \"Topic2\", \"Topic2\", \"Topic2\", \"Topic2\", \"Topic2\", \"Topic2\", \"Topic2\", \"Topic2\", \"Topic2\", \"Topic2\", \"Topic2\", \"Topic2\", \"Topic2\", \"Topic2\", \"Topic2\", \"Topic2\", \"Topic2\", \"Topic2\", \"Topic2\", \"Topic2\"], \"logprob\": [30.0, 29.0, 28.0, 27.0, 26.0, 25.0, 24.0, 23.0, 22.0, 21.0, 20.0, 19.0, 18.0, 17.0, 16.0, 15.0, 14.0, 13.0, 12.0, 11.0, 10.0, 9.0, 8.0, 7.0, 6.0, 5.0, 4.0, 3.0, 2.0, 1.0, -3.6892, -3.6892, -3.6892, -4.2002, -4.2002, -4.2002, -4.2002, -4.2002, -4.2002, -4.2002, -4.2002, -4.2002, -4.2002, -4.2002, -4.2002, -4.2002, -4.2002, -4.2002, -4.2002, -4.2002, -4.2002, -4.2002, -4.2002, -4.2002, -4.2002, -4.2002, -4.2002, -4.2002, -4.2002, -4.2002, -4.1946, -4.2002, -4.2002, -4.2002, -3.081, -3.3326, -3.669, -3.669, -3.669, -3.6692, -4.18, -4.18, -4.18, -4.18, -4.18, -4.18, -4.18, -4.18, -4.18, -4.18, -4.18, -4.18, -4.18, -4.18, -4.18, -4.18, -4.1801, -4.1801, -4.1801, -4.1801, -4.1801, -4.1801, -4.1801, -4.1801, -4.1773], \"loglift\": [30.0, 29.0, 28.0, 27.0, 26.0, 25.0, 24.0, 23.0, 22.0, 21.0, 20.0, 19.0, 18.0, 17.0, 16.0, 15.0, 14.0, 13.0, 12.0, 11.0, 10.0, 9.0, 8.0, 7.0, 6.0, 5.0, 4.0, 3.0, 2.0, 1.0, 0.489, 0.489, 0.489, 0.3864, 0.3864, 0.3864, 0.3864, 0.3864, 0.3864, 0.3864, 0.3864, 0.3864, 0.3864, 0.3864, 0.3864, 0.3864, 0.3864, 0.3864, 0.3864, 0.3864, 0.3864, 0.3864, 0.3864, 0.3864, 0.3864, 0.3864, 0.3864, 0.3864, 0.3864, 0.3864, -0.0048, 0.3864, 0.3864, 0.3864, 0.6121, 0.5828, 0.5326, 0.5325, 0.5325, 0.5323, 0.424, 0.424, 0.424, 0.424, 0.424, 0.424, 0.424, 0.424, 0.424, 0.424, 0.424, 0.424, 0.424, 0.424, 0.424, 0.424, 0.4239, 0.4239, 0.4239, 0.4239, 0.4239, 0.4239, 0.4239, 0.4239, 0.0125]}, \"token.table\": {\"Topic\": [2, 2, 2, 2, 2, 1, 2, 1, 1, 1, 1, 1, 1, 1, 2, 1, 2, 1, 1, 2, 1, 2, 1, 1, 2, 2, 1, 1, 2, 2, 2, 2, 1, 1, 1, 2, 1, 2, 2, 1, 1, 2, 1, 1, 2, 2, 2, 2, 1, 2, 2, 1, 1, 1, 2, 1, 2, 1, 1, 2, 1, 1, 2, 2, 1, 1, 2], \"Freq\": [0.9423523817796667, 0.9423544166991561, 0.9423523817796667, 0.63009283442084, 0.9423544166991561, 0.9260398328743816, 0.9423544166991561, 0.9260398328743816, 0.9260398328743816, 0.9260398328743816, 0.9260398328743816, 0.9260398328743816, 0.9260398328743816, 0.9260398328743816, 0.9423544166991561, 0.9260398328743816, 0.9423523817796667, 0.9260398328743816, 0.9260398328743816, 0.9423544166991561, 0.9260398328743816, 0.9423544166991561, 0.9260398328743816, 0.6227752830492714, 0.6227752830492714, 0.6300879545475363, 0.9260398328743816, 0.9260398328743816, 0.9423523817796667, 0.6300918998708731, 0.9423523817796667, 0.9423544166991561, 0.9260398328743816, 0.9260398328743816, 0.9260398328743816, 0.9423544166991561, 0.9260398328743816, 0.9423544166991561, 0.9423544166991561, 0.9260398328743816, 0.9260398328743816, 0.6300918998708731, 0.9260398328743816, 0.9260398328743816, 0.9423544166991561, 0.7579031083334083, 0.9423544166991561, 0.9423544166991561, 0.9260398328743816, 0.9423523817796667, 0.9423523817796667, 0.9260398328743816, 0.9260398328743816, 0.9260398328743816, 0.9423544166991561, 0.9260398328743816, 0.9423544166991561, 0.9260398328743816, 0.9260398328743816, 0.9465324934885876, 0.6155789463605749, 0.6155789463605749, 0.9423523817796667, 0.9423544166991561, 0.6155789463605749, 0.6226953736183575, 0.6226953736183575], \"Term\": [\"actually\", \"appreciates\", \"arrived\", \"better\", \"bought\", \"brother\", \"canned\", \"case\", \"centuries\", \"chewy\", \"citrus\", \"coated\", \"confection\", \"cut\", \"dog\", \"edmund\", \"error\", \"familiar\", \"filberts\", \"finicky\", \"flavorful\", \"food\", \"gelatin\", \"good\", \"good\", \"great\", \"heaven\", \"highly\", \"intended\", \"jumbo\", \"labeled\", \"labrador\", \"lewis\", \"liberally\", \"light\", \"like\", \"lion\", \"looks\", \"meat\", \"mouthful\", \"nuts\", \"peanuts\", \"pillowy\", \"powdered\", \"processed\", \"product\", \"products\", \"quality\", \"recommend\", \"represent\", \"salted\", \"seduces\", \"selling\", \"sisters\", \"smells\", \"squares\", \"stew\", \"story\", \"sugar\", \"taffy\", \"tiny\", \"treat\", \"vendor\", \"vitality\", \"witch\", \"yummy\", \"yummy\"]}, \"R\": 30, \"lambda.step\": 0.01, \"plot.opts\": {\"xlab\": \"PC1\", \"ylab\": \"PC2\"}, \"topic.order\": [2, 1]};\n",
       "\n",
       "function LDAvis_load_lib(url, callback){\n",
       "  var s = document.createElement('script');\n",
       "  s.src = url;\n",
       "  s.async = true;\n",
       "  s.onreadystatechange = s.onload = callback;\n",
       "  s.onerror = function(){console.warn(\"failed to load library \" + url);};\n",
       "  document.getElementsByTagName(\"head\")[0].appendChild(s);\n",
       "}\n",
       "\n",
       "if(typeof(LDAvis) !== \"undefined\"){\n",
       "   // already loaded: just create the visualization\n",
       "   !function(LDAvis){\n",
       "       new LDAvis(\"#\" + \"ldavis_el710781399208289331688862058610\", ldavis_el710781399208289331688862058610_data);\n",
       "   }(LDAvis);\n",
       "}else if(typeof define === \"function\" && define.amd){\n",
       "   // require.js is available: use it to load d3/LDAvis\n",
       "   require.config({paths: {d3: \"https://cdnjs.cloudflare.com/ajax/libs/d3/3.5.5/d3.min\"}});\n",
       "   require([\"d3\"], function(d3){\n",
       "      window.d3 = d3;\n",
       "      LDAvis_load_lib(\"https://cdn.rawgit.com/bmabey/pyLDAvis/files/ldavis.v1.0.0.js\", function(){\n",
       "        new LDAvis(\"#\" + \"ldavis_el710781399208289331688862058610\", ldavis_el710781399208289331688862058610_data);\n",
       "      });\n",
       "    });\n",
       "}else{\n",
       "    // require.js not available: dynamically load d3 & LDAvis\n",
       "    LDAvis_load_lib(\"https://cdnjs.cloudflare.com/ajax/libs/d3/3.5.5/d3.min.js\", function(){\n",
       "         LDAvis_load_lib(\"https://cdn.rawgit.com/bmabey/pyLDAvis/files/ldavis.v1.0.0.js\", function(){\n",
       "                 new LDAvis(\"#\" + \"ldavis_el710781399208289331688862058610\", ldavis_el710781399208289331688862058610_data);\n",
       "            })\n",
       "         });\n",
       "}\n",
       "</script>"
      ],
      "text/plain": [
       "PreparedData(topic_coordinates=              x    y  topics  cluster       Freq\n",
       "topic                                           \n",
       "1      0.073917  0.0       1        1  51.385906\n",
       "0     -0.073917  0.0       2        1  48.614094, topic_info=         Term      Freq     Total Category  logprob  loglift\n",
       "60    product  2.000000  2.000000  Default  30.0000  30.0000\n",
       "82      taffy  2.000000  2.000000  Default  29.0000  29.0000\n",
       "7      better  1.000000  1.000000  Default  28.0000  28.0000\n",
       "55    peanuts  1.000000  1.000000  Default  27.0000  27.0000\n",
       "39      jumbo  1.000000  1.000000  Default  26.0000  26.0000\n",
       "..        ...       ...       ...      ...      ...      ...\n",
       "0    actually  0.788251  1.061174   Topic2  -4.1801   0.4239\n",
       "65  represent  0.788251  1.061174   Topic2  -4.1801   0.4239\n",
       "68     salted  0.788251  1.061174   Topic2  -4.1801   0.4239\n",
       "86     vendor  0.788251  1.061174   Topic2  -4.1801   0.4239\n",
       "32       good  0.790461  1.605716   Topic2  -4.1773   0.0125\n",
       "\n",
       "[95 rows x 6 columns], token_table=      Topic      Freq         Term\n",
       "term                              \n",
       "0         2  0.942352     actually\n",
       "2         2  0.942354  appreciates\n",
       "3         2  0.942352      arrived\n",
       "7         2  0.630093       better\n",
       "8         2  0.942354       bought\n",
       "...     ...       ...          ...\n",
       "86        2  0.942352       vendor\n",
       "87        2  0.942354     vitality\n",
       "90        1  0.615579        witch\n",
       "91        1  0.622695        yummy\n",
       "91        2  0.622695        yummy\n",
       "\n",
       "[67 rows x 3 columns], R=30, lambda_step=0.01, plot_opts={'xlab': 'PC1', 'ylab': 'PC2'}, topic_order=[2, 1])"
      ]
     },
     "execution_count": 82,
     "metadata": {},
     "output_type": "execute_result"
    }
   ],
   "source": [
    "pyLDAvis.enable_notebook()\n",
    "pyLDAvis.sklearn.prepare(LD_Allocator, docTermMatrixCountVec, vectorizer)"
   ]
  },
  {
   "cell_type": "code",
   "execution_count": null,
   "metadata": {},
   "outputs": [],
   "source": []
  }
 ],
 "metadata": {
  "kernelspec": {
   "display_name": "Python 3",
   "language": "python",
   "name": "python3"
  },
  "language_info": {
   "codemirror_mode": {
    "name": "ipython",
    "version": 3
   },
   "file_extension": ".py",
   "mimetype": "text/x-python",
   "name": "python",
   "nbconvert_exporter": "python",
   "pygments_lexer": "ipython3",
   "version": "3.8.3"
  }
 },
 "nbformat": 4,
 "nbformat_minor": 4
}
