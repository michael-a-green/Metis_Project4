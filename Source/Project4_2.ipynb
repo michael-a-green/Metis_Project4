{
 "cells": [
  {
   "cell_type": "code",
   "execution_count": 363,
   "metadata": {
    "execution": {
     "iopub.execute_input": "2020-11-08T21:44:06.109744Z",
     "iopub.status.busy": "2020-11-08T21:44:06.109474Z",
     "iopub.status.idle": "2020-11-08T21:44:06.113056Z",
     "shell.execute_reply": "2020-11-08T21:44:06.112365Z",
     "shell.execute_reply.started": "2020-11-08T21:44:06.109716Z"
    }
   },
   "outputs": [],
   "source": [
    "#disable warnings\n",
    "import warnings\n",
    "warnings.filterwarnings(\"ignore\") "
   ]
  },
  {
   "cell_type": "code",
   "execution_count": 364,
   "metadata": {
    "execution": {
     "iopub.execute_input": "2020-11-08T21:44:06.114313Z",
     "iopub.status.busy": "2020-11-08T21:44:06.114116Z",
     "iopub.status.idle": "2020-11-08T21:44:06.125529Z",
     "shell.execute_reply": "2020-11-08T21:44:06.124938Z",
     "shell.execute_reply.started": "2020-11-08T21:44:06.114287Z"
    }
   },
   "outputs": [],
   "source": [
    "#stuff"
   ]
  },
  {
   "cell_type": "markdown",
   "metadata": {},
   "source": [
    "# Purpose of this Notebook"
   ]
  },
  {
   "cell_type": "code",
   "execution_count": 365,
   "metadata": {
    "execution": {
     "iopub.execute_input": "2020-11-08T21:44:06.126886Z",
     "iopub.status.busy": "2020-11-08T21:44:06.126684Z",
     "iopub.status.idle": "2020-11-08T21:44:06.137328Z",
     "shell.execute_reply": "2020-11-08T21:44:06.136643Z",
     "shell.execute_reply.started": "2020-11-08T21:44:06.126860Z"
    }
   },
   "outputs": [],
   "source": [
    "#Number of reviews to put into data frame of good reviews. Set it to less than 0 if you want all of the good reviews to be processed\n",
    "NUMB_OF_GOOD_REVIEWS = -1\n",
    "\n",
    "#Number of reviews to put into data frame of bad reviews\n",
    "NUMB_OF_BAD_REVIEWS = -1\n",
    "\n",
    "#set to 1 if you want to reclean the dataframes, otherwise it will load data from a previous clean\n",
    "#note cleaning takes 30 minutes on a pretty fast machine\n",
    "CLEAN_DATAFRAME = 0"
   ]
  },
  {
   "cell_type": "markdown",
   "metadata": {},
   "source": [
    "## Problem Statement"
   ]
  },
  {
   "cell_type": "markdown",
   "metadata": {},
   "source": [
    "Product developers often want to know this about their products:\n",
    "\n",
    "* For products that people don't like, what is it about the products they don't like? Maybe if we know this we could improve the product by fixing this unliked product features\n",
    "* For products that people love, what is it about the products that result in people loving them? Maybe if we expanded on these loved features, we could get new customers or better retain current customers"
   ]
  },
  {
   "cell_type": "markdown",
   "metadata": {},
   "source": [
    "## Proposed Solution"
   ]
  },
  {
   "cell_type": "markdown",
   "metadata": {},
   "source": [
    "Topic modeling and clustering(?) that identifies the features of products that people love and somehow rank them so that a product manaer can have a priority list of things that could be addressed to get more love\n",
    "Topic modeling and clustering(?) that identifies the features of products that people don't like and somehow rank them so that a product manaer can have a priority list of things that could be fixed to hopefully turn the disliked product into a liked product.\n"
   ]
  },
  {
   "cell_type": "markdown",
   "metadata": {
    "execution": {
     "iopub.execute_input": "2020-11-04T21:11:05.576479Z",
     "iopub.status.busy": "2020-11-04T21:11:05.576164Z",
     "iopub.status.idle": "2020-11-04T21:11:05.580086Z",
     "shell.execute_reply": "2020-11-04T21:11:05.579426Z",
     "shell.execute_reply.started": "2020-11-04T21:11:05.576406Z"
    }
   },
   "source": [
    "# Module Import"
   ]
  },
  {
   "cell_type": "code",
   "execution_count": 556,
   "metadata": {
    "execution": {
     "iopub.execute_input": "2020-11-09T01:50:32.540120Z",
     "iopub.status.busy": "2020-11-09T01:50:32.539844Z",
     "iopub.status.idle": "2020-11-09T01:50:32.566197Z",
     "shell.execute_reply": "2020-11-09T01:50:32.565500Z",
     "shell.execute_reply.started": "2020-11-09T01:50:32.540091Z"
    }
   },
   "outputs": [],
   "source": [
    "import datetime\n",
    "from collections import Counter\n",
    "import pickle\n",
    "\n",
    "import pandas as pd\n",
    "import numpy as np\n",
    "import matplotlib.pyplot as plt\n",
    "\n",
    "import re\n",
    "\n",
    "#to speed up pandas operands\n",
    "from pandarallel import pandarallel\n",
    "\n",
    "from sklearn.feature_extraction.text import CountVectorizer, TfidfVectorizer\n",
    "from sklearn.decomposition import LatentDirichletAllocation\n",
    "from sklearn.decomposition import PCA\n",
    "from sklearn.cluster import KMeans\n",
    "from sklearn.decomposition import TruncatedSVD\n",
    "import nltk\n",
    "from nltk.corpus import wordnet\n",
    "from nltk.tag import pos_tag\n",
    "from nltk.tokenize import word_tokenize\n",
    "from nltk.stem import WordNetLemmatizer\n",
    "\n",
    "\n",
    "\n",
    "#gensim\n",
    "from gensim import corpora, models, similarities, matutils\n",
    "\n"
   ]
  },
  {
   "cell_type": "code",
   "execution_count": 367,
   "metadata": {
    "execution": {
     "iopub.execute_input": "2020-11-08T21:44:06.152010Z",
     "iopub.status.busy": "2020-11-08T21:44:06.151810Z",
     "iopub.status.idle": "2020-11-08T21:44:06.175294Z",
     "shell.execute_reply": "2020-11-08T21:44:06.174589Z",
     "shell.execute_reply.started": "2020-11-08T21:44:06.151983Z"
    }
   },
   "outputs": [],
   "source": [
    "# You can configure the format of the images: ‘png’, ‘retina’, ‘jpeg’, ‘svg’, ‘pdf’.\n",
    "%config InlineBackend.figure_format = 'png'\n",
    "%matplotlib inline "
   ]
  },
  {
   "cell_type": "markdown",
   "metadata": {},
   "source": [
    "# NLP Pipeline\n",
    "\n"
   ]
  },
  {
   "cell_type": "markdown",
   "metadata": {},
   "source": [
    "## Text Preprocessing\n",
    "Essentially will do this:\n",
    "\n",
    "```\n",
    "\n",
    "(input text) -->[clean(remove text I don't want)]--> [tokenization] --> [lemmatization] --> [Next_Stages]\n",
    "\n",
    "```"
   ]
  },
  {
   "cell_type": "code",
   "execution_count": 368,
   "metadata": {
    "execution": {
     "iopub.execute_input": "2020-11-08T21:44:06.176432Z",
     "iopub.status.busy": "2020-11-08T21:44:06.176240Z",
     "iopub.status.idle": "2020-11-08T21:44:09.811989Z",
     "shell.execute_reply": "2020-11-08T21:44:09.811179Z",
     "shell.execute_reply.started": "2020-11-08T21:44:06.176410Z"
    }
   },
   "outputs": [],
   "source": [
    "reviews_df = pd.read_csv(\"../Data/Reviews.csv\")"
   ]
  },
  {
   "cell_type": "code",
   "execution_count": 369,
   "metadata": {
    "execution": {
     "iopub.execute_input": "2020-11-08T21:44:09.813013Z",
     "iopub.status.busy": "2020-11-08T21:44:09.812860Z",
     "iopub.status.idle": "2020-11-08T21:44:09.829675Z",
     "shell.execute_reply": "2020-11-08T21:44:09.828824Z",
     "shell.execute_reply.started": "2020-11-08T21:44:09.812993Z"
    }
   },
   "outputs": [
    {
     "data": {
      "text/html": [
       "<div>\n",
       "<style scoped>\n",
       "    .dataframe tbody tr th:only-of-type {\n",
       "        vertical-align: middle;\n",
       "    }\n",
       "\n",
       "    .dataframe tbody tr th {\n",
       "        vertical-align: top;\n",
       "    }\n",
       "\n",
       "    .dataframe thead th {\n",
       "        text-align: right;\n",
       "    }\n",
       "</style>\n",
       "<table border=\"1\" class=\"dataframe\">\n",
       "  <thead>\n",
       "    <tr style=\"text-align: right;\">\n",
       "      <th></th>\n",
       "      <th>Id</th>\n",
       "      <th>ProductId</th>\n",
       "      <th>UserId</th>\n",
       "      <th>ProfileName</th>\n",
       "      <th>HelpfulnessNumerator</th>\n",
       "      <th>HelpfulnessDenominator</th>\n",
       "      <th>Score</th>\n",
       "      <th>Time</th>\n",
       "      <th>Summary</th>\n",
       "      <th>Text</th>\n",
       "    </tr>\n",
       "  </thead>\n",
       "  <tbody>\n",
       "    <tr>\n",
       "      <th>0</th>\n",
       "      <td>1</td>\n",
       "      <td>B001E4KFG0</td>\n",
       "      <td>A3SGXH7AUHU8GW</td>\n",
       "      <td>delmartian</td>\n",
       "      <td>1</td>\n",
       "      <td>1</td>\n",
       "      <td>5</td>\n",
       "      <td>1303862400</td>\n",
       "      <td>Good Quality Dog Food</td>\n",
       "      <td>I have bought several of the Vitality canned d...</td>\n",
       "    </tr>\n",
       "    <tr>\n",
       "      <th>1</th>\n",
       "      <td>2</td>\n",
       "      <td>B00813GRG4</td>\n",
       "      <td>A1D87F6ZCVE5NK</td>\n",
       "      <td>dll pa</td>\n",
       "      <td>0</td>\n",
       "      <td>0</td>\n",
       "      <td>1</td>\n",
       "      <td>1346976000</td>\n",
       "      <td>Not as Advertised</td>\n",
       "      <td>Product arrived labeled as Jumbo Salted Peanut...</td>\n",
       "    </tr>\n",
       "    <tr>\n",
       "      <th>2</th>\n",
       "      <td>3</td>\n",
       "      <td>B000LQOCH0</td>\n",
       "      <td>ABXLMWJIXXAIN</td>\n",
       "      <td>Natalia Corres \"Natalia Corres\"</td>\n",
       "      <td>1</td>\n",
       "      <td>1</td>\n",
       "      <td>4</td>\n",
       "      <td>1219017600</td>\n",
       "      <td>\"Delight\" says it all</td>\n",
       "      <td>This is a confection that has been around a fe...</td>\n",
       "    </tr>\n",
       "    <tr>\n",
       "      <th>3</th>\n",
       "      <td>4</td>\n",
       "      <td>B000UA0QIQ</td>\n",
       "      <td>A395BORC6FGVXV</td>\n",
       "      <td>Karl</td>\n",
       "      <td>3</td>\n",
       "      <td>3</td>\n",
       "      <td>2</td>\n",
       "      <td>1307923200</td>\n",
       "      <td>Cough Medicine</td>\n",
       "      <td>If you are looking for the secret ingredient i...</td>\n",
       "    </tr>\n",
       "    <tr>\n",
       "      <th>4</th>\n",
       "      <td>5</td>\n",
       "      <td>B006K2ZZ7K</td>\n",
       "      <td>A1UQRSCLF8GW1T</td>\n",
       "      <td>Michael D. Bigham \"M. Wassir\"</td>\n",
       "      <td>0</td>\n",
       "      <td>0</td>\n",
       "      <td>5</td>\n",
       "      <td>1350777600</td>\n",
       "      <td>Great taffy</td>\n",
       "      <td>Great taffy at a great price.  There was a wid...</td>\n",
       "    </tr>\n",
       "  </tbody>\n",
       "</table>\n",
       "</div>"
      ],
      "text/plain": [
       "   Id   ProductId          UserId                      ProfileName  \\\n",
       "0   1  B001E4KFG0  A3SGXH7AUHU8GW                       delmartian   \n",
       "1   2  B00813GRG4  A1D87F6ZCVE5NK                           dll pa   \n",
       "2   3  B000LQOCH0   ABXLMWJIXXAIN  Natalia Corres \"Natalia Corres\"   \n",
       "3   4  B000UA0QIQ  A395BORC6FGVXV                             Karl   \n",
       "4   5  B006K2ZZ7K  A1UQRSCLF8GW1T    Michael D. Bigham \"M. Wassir\"   \n",
       "\n",
       "   HelpfulnessNumerator  HelpfulnessDenominator  Score        Time  \\\n",
       "0                     1                       1      5  1303862400   \n",
       "1                     0                       0      1  1346976000   \n",
       "2                     1                       1      4  1219017600   \n",
       "3                     3                       3      2  1307923200   \n",
       "4                     0                       0      5  1350777600   \n",
       "\n",
       "                 Summary                                               Text  \n",
       "0  Good Quality Dog Food  I have bought several of the Vitality canned d...  \n",
       "1      Not as Advertised  Product arrived labeled as Jumbo Salted Peanut...  \n",
       "2  \"Delight\" says it all  This is a confection that has been around a fe...  \n",
       "3         Cough Medicine  If you are looking for the secret ingredient i...  \n",
       "4            Great taffy  Great taffy at a great price.  There was a wid...  "
      ]
     },
     "execution_count": 369,
     "metadata": {},
     "output_type": "execute_result"
    }
   ],
   "source": [
    "reviews_df.head()"
   ]
  },
  {
   "cell_type": "code",
   "execution_count": 370,
   "metadata": {
    "execution": {
     "iopub.execute_input": "2020-11-08T21:44:09.831720Z",
     "iopub.status.busy": "2020-11-08T21:44:09.831560Z",
     "iopub.status.idle": "2020-11-08T21:44:09.923966Z",
     "shell.execute_reply": "2020-11-08T21:44:09.923258Z",
     "shell.execute_reply.started": "2020-11-08T21:44:09.831700Z"
    }
   },
   "outputs": [
    {
     "data": {
      "text/html": [
       "<div>\n",
       "<style scoped>\n",
       "    .dataframe tbody tr th:only-of-type {\n",
       "        vertical-align: middle;\n",
       "    }\n",
       "\n",
       "    .dataframe tbody tr th {\n",
       "        vertical-align: top;\n",
       "    }\n",
       "\n",
       "    .dataframe thead th {\n",
       "        text-align: right;\n",
       "    }\n",
       "</style>\n",
       "<table border=\"1\" class=\"dataframe\">\n",
       "  <thead>\n",
       "    <tr style=\"text-align: right;\">\n",
       "      <th></th>\n",
       "      <th>Id</th>\n",
       "      <th>HelpfulnessNumerator</th>\n",
       "      <th>HelpfulnessDenominator</th>\n",
       "      <th>Score</th>\n",
       "      <th>Time</th>\n",
       "    </tr>\n",
       "  </thead>\n",
       "  <tbody>\n",
       "    <tr>\n",
       "      <th>count</th>\n",
       "      <td>568454.000000</td>\n",
       "      <td>568454.000000</td>\n",
       "      <td>568454.00000</td>\n",
       "      <td>568454.000000</td>\n",
       "      <td>5.684540e+05</td>\n",
       "    </tr>\n",
       "    <tr>\n",
       "      <th>mean</th>\n",
       "      <td>284227.500000</td>\n",
       "      <td>1.743817</td>\n",
       "      <td>2.22881</td>\n",
       "      <td>4.183199</td>\n",
       "      <td>1.296257e+09</td>\n",
       "    </tr>\n",
       "    <tr>\n",
       "      <th>std</th>\n",
       "      <td>164098.679298</td>\n",
       "      <td>7.636513</td>\n",
       "      <td>8.28974</td>\n",
       "      <td>1.310436</td>\n",
       "      <td>4.804331e+07</td>\n",
       "    </tr>\n",
       "    <tr>\n",
       "      <th>min</th>\n",
       "      <td>1.000000</td>\n",
       "      <td>0.000000</td>\n",
       "      <td>0.00000</td>\n",
       "      <td>1.000000</td>\n",
       "      <td>9.393408e+08</td>\n",
       "    </tr>\n",
       "    <tr>\n",
       "      <th>25%</th>\n",
       "      <td>142114.250000</td>\n",
       "      <td>0.000000</td>\n",
       "      <td>0.00000</td>\n",
       "      <td>4.000000</td>\n",
       "      <td>1.271290e+09</td>\n",
       "    </tr>\n",
       "    <tr>\n",
       "      <th>50%</th>\n",
       "      <td>284227.500000</td>\n",
       "      <td>0.000000</td>\n",
       "      <td>1.00000</td>\n",
       "      <td>5.000000</td>\n",
       "      <td>1.311120e+09</td>\n",
       "    </tr>\n",
       "    <tr>\n",
       "      <th>75%</th>\n",
       "      <td>426340.750000</td>\n",
       "      <td>2.000000</td>\n",
       "      <td>2.00000</td>\n",
       "      <td>5.000000</td>\n",
       "      <td>1.332720e+09</td>\n",
       "    </tr>\n",
       "    <tr>\n",
       "      <th>max</th>\n",
       "      <td>568454.000000</td>\n",
       "      <td>866.000000</td>\n",
       "      <td>923.00000</td>\n",
       "      <td>5.000000</td>\n",
       "      <td>1.351210e+09</td>\n",
       "    </tr>\n",
       "  </tbody>\n",
       "</table>\n",
       "</div>"
      ],
      "text/plain": [
       "                  Id  HelpfulnessNumerator  HelpfulnessDenominator  \\\n",
       "count  568454.000000         568454.000000            568454.00000   \n",
       "mean   284227.500000              1.743817                 2.22881   \n",
       "std    164098.679298              7.636513                 8.28974   \n",
       "min         1.000000              0.000000                 0.00000   \n",
       "25%    142114.250000              0.000000                 0.00000   \n",
       "50%    284227.500000              0.000000                 1.00000   \n",
       "75%    426340.750000              2.000000                 2.00000   \n",
       "max    568454.000000            866.000000               923.00000   \n",
       "\n",
       "               Score          Time  \n",
       "count  568454.000000  5.684540e+05  \n",
       "mean        4.183199  1.296257e+09  \n",
       "std         1.310436  4.804331e+07  \n",
       "min         1.000000  9.393408e+08  \n",
       "25%         4.000000  1.271290e+09  \n",
       "50%         5.000000  1.311120e+09  \n",
       "75%         5.000000  1.332720e+09  \n",
       "max         5.000000  1.351210e+09  "
      ]
     },
     "execution_count": 370,
     "metadata": {},
     "output_type": "execute_result"
    }
   ],
   "source": [
    "reviews_df.describe()"
   ]
  },
  {
   "cell_type": "code",
   "execution_count": 371,
   "metadata": {
    "execution": {
     "iopub.execute_input": "2020-11-08T21:44:09.925291Z",
     "iopub.status.busy": "2020-11-08T21:44:09.925142Z",
     "iopub.status.idle": "2020-11-08T21:44:09.936255Z",
     "shell.execute_reply": "2020-11-08T21:44:09.935682Z",
     "shell.execute_reply.started": "2020-11-08T21:44:09.925270Z"
    }
   },
   "outputs": [
    {
     "data": {
      "text/plain": [
       "'I have bought several of the Vitality canned dog food products and have found them all to be of good quality. The product looks more like a stew than a processed meat and it smells better. My Labrador is finicky and she appreciates this product better than  most.'"
      ]
     },
     "execution_count": 371,
     "metadata": {},
     "output_type": "execute_result"
    }
   ],
   "source": [
    "reviews_df.loc[0,\"Text\"]"
   ]
  },
  {
   "cell_type": "code",
   "execution_count": 372,
   "metadata": {
    "execution": {
     "iopub.execute_input": "2020-11-08T21:44:09.937161Z",
     "iopub.status.busy": "2020-11-08T21:44:09.937018Z",
     "iopub.status.idle": "2020-11-08T21:44:09.949784Z",
     "shell.execute_reply": "2020-11-08T21:44:09.949000Z",
     "shell.execute_reply.started": "2020-11-08T21:44:09.937142Z"
    }
   },
   "outputs": [
    {
     "data": {
      "text/plain": [
       "5    363122\n",
       "4     80655\n",
       "1     52268\n",
       "3     42640\n",
       "2     29769\n",
       "Name: Score, dtype: int64"
      ]
     },
     "execution_count": 372,
     "metadata": {},
     "output_type": "execute_result"
    }
   ],
   "source": [
    "reviews_df[\"Score\"].value_counts()"
   ]
  },
  {
   "cell_type": "markdown",
   "metadata": {},
   "source": [
    "According to the Kaggle description `HelpfulnessNumerator` should be less than or equal to `HelpfulnessDenominator`. So I will filter out any reviews that do not meet this specification.  Also, removing reviews where `HelpfulnessDenominator` is zero as this indicates a review that is not useful:"
   ]
  },
  {
   "cell_type": "code",
   "execution_count": 373,
   "metadata": {
    "execution": {
     "iopub.execute_input": "2020-11-08T21:44:09.950762Z",
     "iopub.status.busy": "2020-11-08T21:44:09.950615Z",
     "iopub.status.idle": "2020-11-08T21:44:10.016021Z",
     "shell.execute_reply": "2020-11-08T21:44:10.015402Z",
     "shell.execute_reply.started": "2020-11-08T21:44:09.950743Z"
    }
   },
   "outputs": [
    {
     "data": {
      "text/plain": [
       "(270054, 10)"
      ]
     },
     "execution_count": 373,
     "metadata": {},
     "output_type": "execute_result"
    }
   ],
   "source": [
    "mask = (reviews_df[\"HelpfulnessNumerator\"] <=  reviews_df[\"HelpfulnessDenominator\"]) & (reviews_df[\"HelpfulnessDenominator\"]!=0)\n",
    "reviews_df[~mask].shape"
   ]
  },
  {
   "cell_type": "markdown",
   "metadata": {},
   "source": [
    "There are few to remove so doing that now:"
   ]
  },
  {
   "cell_type": "code",
   "execution_count": 374,
   "metadata": {
    "execution": {
     "iopub.execute_input": "2020-11-08T21:44:10.016990Z",
     "iopub.status.busy": "2020-11-08T21:44:10.016844Z",
     "iopub.status.idle": "2020-11-08T21:44:10.058335Z",
     "shell.execute_reply": "2020-11-08T21:44:10.057606Z",
     "shell.execute_reply.started": "2020-11-08T21:44:10.016970Z"
    }
   },
   "outputs": [],
   "source": [
    "reviews_df = reviews_df[mask]"
   ]
  },
  {
   "cell_type": "markdown",
   "metadata": {},
   "source": [
    "Are there any duplicate entries?"
   ]
  },
  {
   "cell_type": "code",
   "execution_count": 375,
   "metadata": {
    "execution": {
     "iopub.execute_input": "2020-11-08T21:44:10.059370Z",
     "iopub.status.busy": "2020-11-08T21:44:10.059208Z",
     "iopub.status.idle": "2020-11-08T21:44:10.655739Z",
     "shell.execute_reply": "2020-11-08T21:44:10.654990Z",
     "shell.execute_reply.started": "2020-11-08T21:44:10.059349Z"
    }
   },
   "outputs": [
    {
     "data": {
      "text/plain": [
       "False    209681\n",
       "True      88719\n",
       "dtype: int64"
      ]
     },
     "execution_count": 375,
     "metadata": {},
     "output_type": "execute_result"
    }
   ],
   "source": [
    "reviews_df.duplicated(subset=[\"UserId\",\"ProfileName\",\"Time\",\"Text\"],keep=\"first\").value_counts()"
   ]
  },
  {
   "cell_type": "code",
   "execution_count": 376,
   "metadata": {
    "execution": {
     "iopub.execute_input": "2020-11-08T21:44:10.656747Z",
     "iopub.status.busy": "2020-11-08T21:44:10.656594Z",
     "iopub.status.idle": "2020-11-08T21:44:11.289384Z",
     "shell.execute_reply": "2020-11-08T21:44:11.288556Z",
     "shell.execute_reply.started": "2020-11-08T21:44:10.656727Z"
    }
   },
   "outputs": [],
   "source": [
    "reviews_df.drop_duplicates(subset=[\"UserId\",\"ProfileName\",\"Time\",\"Text\"],keep=\"first\",inplace=True)"
   ]
  },
  {
   "cell_type": "code",
   "execution_count": 377,
   "metadata": {
    "execution": {
     "iopub.execute_input": "2020-11-08T21:44:11.290401Z",
     "iopub.status.busy": "2020-11-08T21:44:11.290247Z",
     "iopub.status.idle": "2020-11-08T21:44:11.447776Z",
     "shell.execute_reply": "2020-11-08T21:44:11.446919Z",
     "shell.execute_reply.started": "2020-11-08T21:44:11.290380Z"
    }
   },
   "outputs": [],
   "source": [
    "reviews_df.dropna(inplace=True)"
   ]
  },
  {
   "cell_type": "markdown",
   "metadata": {},
   "source": [
    "calculating a helpfulness metric in the hopes that it helps separate reviews."
   ]
  },
  {
   "cell_type": "code",
   "execution_count": 378,
   "metadata": {
    "execution": {
     "iopub.execute_input": "2020-11-08T21:44:11.448814Z",
     "iopub.status.busy": "2020-11-08T21:44:11.448662Z",
     "iopub.status.idle": "2020-11-08T21:44:11.453595Z",
     "shell.execute_reply": "2020-11-08T21:44:11.452955Z",
     "shell.execute_reply.started": "2020-11-08T21:44:11.448793Z"
    }
   },
   "outputs": [],
   "source": [
    "reviews_df[\"helpful_rating\"] = reviews_df[\"HelpfulnessNumerator\"] / reviews_df[\"HelpfulnessDenominator\"]"
   ]
  },
  {
   "cell_type": "code",
   "execution_count": 379,
   "metadata": {
    "execution": {
     "iopub.execute_input": "2020-11-08T21:44:11.454567Z",
     "iopub.status.busy": "2020-11-08T21:44:11.454420Z",
     "iopub.status.idle": "2020-11-08T21:44:11.459339Z",
     "shell.execute_reply": "2020-11-08T21:44:11.458756Z",
     "shell.execute_reply.started": "2020-11-08T21:44:11.454548Z"
    }
   },
   "outputs": [],
   "source": [
    "# Not helpful\n",
    "# TODO: Delete\n",
    "#plt.figure(figsize=(40,40))\n",
    "#plt.scatter(reviews_df[\"Score\"],reviews_df[\"helpful_rating\"],alpha=0.5)\n",
    "#plt.xlabel(\"Score\")\n",
    "#plt.ylabel(\"helpful rating\")\n",
    "#plt.show();"
   ]
  },
  {
   "cell_type": "markdown",
   "metadata": {},
   "source": [
    "Going to create a dataframe of bad reviews and one of good reviews to process separately. I remove reviews where \"Score\" == 3 because do not indicate a call to action to either improve a bad product or point out a product that likely has nice features."
   ]
  },
  {
   "cell_type": "code",
   "execution_count": 380,
   "metadata": {
    "execution": {
     "iopub.execute_input": "2020-11-08T21:44:11.460141Z",
     "iopub.status.busy": "2020-11-08T21:44:11.460000Z",
     "iopub.status.idle": "2020-11-08T21:44:11.468702Z",
     "shell.execute_reply": "2020-11-08T21:44:11.467884Z",
     "shell.execute_reply.started": "2020-11-08T21:44:11.460122Z"
    }
   },
   "outputs": [
    {
     "data": {
      "text/plain": [
       "(209675, 11)"
      ]
     },
     "execution_count": 380,
     "metadata": {},
     "output_type": "execute_result"
    }
   ],
   "source": [
    "reviews_df.shape"
   ]
  },
  {
   "cell_type": "code",
   "execution_count": 381,
   "metadata": {
    "execution": {
     "iopub.execute_input": "2020-11-08T21:44:11.469753Z",
     "iopub.status.busy": "2020-11-08T21:44:11.469561Z",
     "iopub.status.idle": "2020-11-08T21:44:11.574064Z",
     "shell.execute_reply": "2020-11-08T21:44:11.573184Z",
     "shell.execute_reply.started": "2020-11-08T21:44:11.469728Z"
    }
   },
   "outputs": [],
   "source": [
    "good_reviews_df = reviews_df[ reviews_df[\"Score\"] >= 4 ]\n",
    "bad_reviews_df = reviews_df[ reviews_df[\"Score\"] <= 2 ]"
   ]
  },
  {
   "cell_type": "code",
   "execution_count": 382,
   "metadata": {
    "execution": {
     "iopub.execute_input": "2020-11-08T21:44:11.575224Z",
     "iopub.status.busy": "2020-11-08T21:44:11.575066Z",
     "iopub.status.idle": "2020-11-08T21:44:11.579132Z",
     "shell.execute_reply": "2020-11-08T21:44:11.578326Z",
     "shell.execute_reply.started": "2020-11-08T21:44:11.575204Z"
    }
   },
   "outputs": [],
   "source": [
    "if (NUMB_OF_GOOD_REVIEWS > good_reviews_df.shape[0]) or (NUMB_OF_GOOD_REVIEWS < 0):\n",
    "    NUMB_OF_GOOD_REVIEWS = good_reviews_df.shape[0]\n",
    "\n",
    "\n",
    "if (NUMB_OF_BAD_REVIEWS > bad_reviews_df.shape[0]) or (NUMB_OF_BAD_REVIEWS < 0):\n",
    "    NUMB_OF_BAD_REVIEWS = bad_reviews_df.shape[0]"
   ]
  },
  {
   "cell_type": "code",
   "execution_count": 383,
   "metadata": {
    "execution": {
     "iopub.execute_input": "2020-11-08T21:44:11.582306Z",
     "iopub.status.busy": "2020-11-08T21:44:11.582156Z",
     "iopub.status.idle": "2020-11-08T21:44:11.587186Z",
     "shell.execute_reply": "2020-11-08T21:44:11.586604Z",
     "shell.execute_reply.started": "2020-11-08T21:44:11.582288Z"
    }
   },
   "outputs": [],
   "source": [
    "good_reviews_df = good_reviews_df[:(NUMB_OF_GOOD_REVIEWS + 1)]\n",
    "bad_reviews_df = bad_reviews_df[:(NUMB_OF_BAD_REVIEWS + 1)]"
   ]
  },
  {
   "cell_type": "code",
   "execution_count": 384,
   "metadata": {
    "execution": {
     "iopub.execute_input": "2020-11-08T21:44:11.588822Z",
     "iopub.status.busy": "2020-11-08T21:44:11.588678Z",
     "iopub.status.idle": "2020-11-08T21:44:11.595804Z",
     "shell.execute_reply": "2020-11-08T21:44:11.595191Z",
     "shell.execute_reply.started": "2020-11-08T21:44:11.588804Z"
    }
   },
   "outputs": [],
   "source": [
    "#stuff = list(good_reviews_df.Text.head(NUMB_OF_DOCS1))"
   ]
  },
  {
   "cell_type": "markdown",
   "metadata": {},
   "source": [
    "Thoughts on mispelled words and non English words:\n",
    "\n",
    "What I'm trying to do here (TODO describe this) is identify adjectives. So I will remove words that are not in nltk's corpus of words to hopefully remove misspelled words and non-English words."
   ]
  },
  {
   "cell_type": "code",
   "execution_count": 385,
   "metadata": {
    "execution": {
     "iopub.execute_input": "2020-11-08T21:44:11.596638Z",
     "iopub.status.busy": "2020-11-08T21:44:11.596498Z",
     "iopub.status.idle": "2020-11-08T21:44:11.606825Z",
     "shell.execute_reply": "2020-11-08T21:44:11.606138Z",
     "shell.execute_reply.started": "2020-11-08T21:44:11.596620Z"
    }
   },
   "outputs": [],
   "source": [
    "#Removing HTML from the text\n",
    "#stuff = [re.sub(\"<.*?>\",\"\",item) for item in stuff]\n",
    "\n",
    "def remove_html_punct(row):\n",
    "    \"\"\"This function removes HTML and punctuation and anything that is or contains a number from the Text\"\"\"\n",
    "    \n",
    "    NLTK_WORDS = set(nltk.corpus.words.words())\n",
    "    \n",
    "    text_to_process = row[\"Text\"]\n",
    "    text_to_process = text_to_process.lower()\n",
    "    text_to_process = re.sub(\"<.*?>\",\"\",text_to_process)\n",
    "    text_to_process = re.sub(\"[\\.|\\!|\\?|\\,|\\;|\\:|\\&|\\(|\\)|\\-|\\%|_]\",\"\",text_to_process)\n",
    "    text_to_process = re.sub(\"\\w*\\d+\\w*\",\"\",text_to_process)\n",
    "    text_to_process_list = text_to_process.split()\n",
    "    text_to_process_list = [review_word for review_word in text_to_process_list if review_word in NLTK_WORDS]\n",
    "    text_to_process = \" \".join(text_to_process_list)\n",
    "    return text_to_process\n",
    "\n"
   ]
  },
  {
   "cell_type": "code",
   "execution_count": 386,
   "metadata": {
    "execution": {
     "iopub.execute_input": "2020-11-08T21:44:11.607943Z",
     "iopub.status.busy": "2020-11-08T21:44:11.607744Z",
     "iopub.status.idle": "2020-11-08T21:44:11.618437Z",
     "shell.execute_reply": "2020-11-08T21:44:11.617687Z",
     "shell.execute_reply.started": "2020-11-08T21:44:11.607917Z"
    }
   },
   "outputs": [
    {
     "name": "stdout",
     "output_type": "stream",
     "text": [
      "skipping cleaning the data frame.\n"
     ]
    }
   ],
   "source": [
    "if CLEAN_DATAFRAME == 1:\n",
    "\n",
    "    #TODO If you have time - convert it to a SQL query\n",
    "    pandarallel.initialize()\n",
    "\n",
    "    start_time = datetime.datetime.now()\n",
    "\n",
    "    good_reviews_df[\"ProcessedText\"] = good_reviews_df.parallel_apply(remove_html_punct,axis=1)\n",
    "    bad_reviews_df[\"ProcessedText\"] = bad_reviews_df.parallel_apply(remove_html_punct,axis=1)\n",
    "    end_time = datetime.datetime.now()\n",
    "    print(\"time spent doing operation is {}\".format(end_time - start_time))\n",
    "else:\n",
    "    print(\"skipping cleaning the data frame.\")"
   ]
  },
  {
   "cell_type": "code",
   "execution_count": 387,
   "metadata": {
    "execution": {
     "iopub.execute_input": "2020-11-08T21:44:11.619515Z",
     "iopub.status.busy": "2020-11-08T21:44:11.619308Z",
     "iopub.status.idle": "2020-11-08T21:44:11.644088Z",
     "shell.execute_reply": "2020-11-08T21:44:11.643459Z",
     "shell.execute_reply.started": "2020-11-08T21:44:11.619488Z"
    }
   },
   "outputs": [
    {
     "data": {
      "text/html": [
       "<div>\n",
       "<style scoped>\n",
       "    .dataframe tbody tr th:only-of-type {\n",
       "        vertical-align: middle;\n",
       "    }\n",
       "\n",
       "    .dataframe tbody tr th {\n",
       "        vertical-align: top;\n",
       "    }\n",
       "\n",
       "    .dataframe thead th {\n",
       "        text-align: right;\n",
       "    }\n",
       "</style>\n",
       "<table border=\"1\" class=\"dataframe\">\n",
       "  <thead>\n",
       "    <tr style=\"text-align: right;\">\n",
       "      <th></th>\n",
       "      <th>Id</th>\n",
       "      <th>ProductId</th>\n",
       "      <th>UserId</th>\n",
       "      <th>ProfileName</th>\n",
       "      <th>HelpfulnessNumerator</th>\n",
       "      <th>HelpfulnessDenominator</th>\n",
       "      <th>Score</th>\n",
       "      <th>Time</th>\n",
       "      <th>Summary</th>\n",
       "      <th>Text</th>\n",
       "      <th>helpful_rating</th>\n",
       "    </tr>\n",
       "  </thead>\n",
       "  <tbody>\n",
       "    <tr>\n",
       "      <th>0</th>\n",
       "      <td>1</td>\n",
       "      <td>B001E4KFG0</td>\n",
       "      <td>A3SGXH7AUHU8GW</td>\n",
       "      <td>delmartian</td>\n",
       "      <td>1</td>\n",
       "      <td>1</td>\n",
       "      <td>5</td>\n",
       "      <td>1303862400</td>\n",
       "      <td>Good Quality Dog Food</td>\n",
       "      <td>I have bought several of the Vitality canned d...</td>\n",
       "      <td>1.0</td>\n",
       "    </tr>\n",
       "    <tr>\n",
       "      <th>2</th>\n",
       "      <td>3</td>\n",
       "      <td>B000LQOCH0</td>\n",
       "      <td>ABXLMWJIXXAIN</td>\n",
       "      <td>Natalia Corres \"Natalia Corres\"</td>\n",
       "      <td>1</td>\n",
       "      <td>1</td>\n",
       "      <td>4</td>\n",
       "      <td>1219017600</td>\n",
       "      <td>\"Delight\" says it all</td>\n",
       "      <td>This is a confection that has been around a fe...</td>\n",
       "      <td>1.0</td>\n",
       "    </tr>\n",
       "    <tr>\n",
       "      <th>8</th>\n",
       "      <td>9</td>\n",
       "      <td>B000E7L2R4</td>\n",
       "      <td>A1MZYO9TZK0BBI</td>\n",
       "      <td>R. James</td>\n",
       "      <td>1</td>\n",
       "      <td>1</td>\n",
       "      <td>5</td>\n",
       "      <td>1322006400</td>\n",
       "      <td>Yay Barley</td>\n",
       "      <td>Right now I'm mostly just sprouting this so my...</td>\n",
       "      <td>1.0</td>\n",
       "    </tr>\n",
       "    <tr>\n",
       "      <th>10</th>\n",
       "      <td>11</td>\n",
       "      <td>B0001PB9FE</td>\n",
       "      <td>A3HDKO7OW0QNK4</td>\n",
       "      <td>Canadian Fan</td>\n",
       "      <td>1</td>\n",
       "      <td>1</td>\n",
       "      <td>5</td>\n",
       "      <td>1107820800</td>\n",
       "      <td>The Best Hot Sauce in the World</td>\n",
       "      <td>I don't know if it's the cactus or the tequila...</td>\n",
       "      <td>1.0</td>\n",
       "    </tr>\n",
       "    <tr>\n",
       "      <th>11</th>\n",
       "      <td>12</td>\n",
       "      <td>B0009XLVG0</td>\n",
       "      <td>A2725IB4YY9JEB</td>\n",
       "      <td>A Poeng \"SparkyGoHome\"</td>\n",
       "      <td>4</td>\n",
       "      <td>4</td>\n",
       "      <td>5</td>\n",
       "      <td>1282867200</td>\n",
       "      <td>My cats LOVE this \"diet\" food better than thei...</td>\n",
       "      <td>One of my boys needed to lose some weight and ...</td>\n",
       "      <td>1.0</td>\n",
       "    </tr>\n",
       "  </tbody>\n",
       "</table>\n",
       "</div>"
      ],
      "text/plain": [
       "    Id   ProductId          UserId                      ProfileName  \\\n",
       "0    1  B001E4KFG0  A3SGXH7AUHU8GW                       delmartian   \n",
       "2    3  B000LQOCH0   ABXLMWJIXXAIN  Natalia Corres \"Natalia Corres\"   \n",
       "8    9  B000E7L2R4  A1MZYO9TZK0BBI                         R. James   \n",
       "10  11  B0001PB9FE  A3HDKO7OW0QNK4                     Canadian Fan   \n",
       "11  12  B0009XLVG0  A2725IB4YY9JEB           A Poeng \"SparkyGoHome\"   \n",
       "\n",
       "    HelpfulnessNumerator  HelpfulnessDenominator  Score        Time  \\\n",
       "0                      1                       1      5  1303862400   \n",
       "2                      1                       1      4  1219017600   \n",
       "8                      1                       1      5  1322006400   \n",
       "10                     1                       1      5  1107820800   \n",
       "11                     4                       4      5  1282867200   \n",
       "\n",
       "                                              Summary  \\\n",
       "0                               Good Quality Dog Food   \n",
       "2                               \"Delight\" says it all   \n",
       "8                                          Yay Barley   \n",
       "10                    The Best Hot Sauce in the World   \n",
       "11  My cats LOVE this \"diet\" food better than thei...   \n",
       "\n",
       "                                                 Text  helpful_rating  \n",
       "0   I have bought several of the Vitality canned d...             1.0  \n",
       "2   This is a confection that has been around a fe...             1.0  \n",
       "8   Right now I'm mostly just sprouting this so my...             1.0  \n",
       "10  I don't know if it's the cactus or the tequila...             1.0  \n",
       "11  One of my boys needed to lose some weight and ...             1.0  "
      ]
     },
     "execution_count": 387,
     "metadata": {},
     "output_type": "execute_result"
    }
   ],
   "source": [
    "good_reviews_df.head()"
   ]
  },
  {
   "cell_type": "code",
   "execution_count": 388,
   "metadata": {
    "execution": {
     "iopub.execute_input": "2020-11-08T21:44:11.645005Z",
     "iopub.status.busy": "2020-11-08T21:44:11.644855Z",
     "iopub.status.idle": "2020-11-08T21:44:11.664523Z",
     "shell.execute_reply": "2020-11-08T21:44:11.663880Z",
     "shell.execute_reply.started": "2020-11-08T21:44:11.644985Z"
    }
   },
   "outputs": [
    {
     "data": {
      "text/html": [
       "<div>\n",
       "<style scoped>\n",
       "    .dataframe tbody tr th:only-of-type {\n",
       "        vertical-align: middle;\n",
       "    }\n",
       "\n",
       "    .dataframe tbody tr th {\n",
       "        vertical-align: top;\n",
       "    }\n",
       "\n",
       "    .dataframe thead th {\n",
       "        text-align: right;\n",
       "    }\n",
       "</style>\n",
       "<table border=\"1\" class=\"dataframe\">\n",
       "  <thead>\n",
       "    <tr style=\"text-align: right;\">\n",
       "      <th></th>\n",
       "      <th>Id</th>\n",
       "      <th>ProductId</th>\n",
       "      <th>UserId</th>\n",
       "      <th>ProfileName</th>\n",
       "      <th>HelpfulnessNumerator</th>\n",
       "      <th>HelpfulnessDenominator</th>\n",
       "      <th>Score</th>\n",
       "      <th>Time</th>\n",
       "      <th>Summary</th>\n",
       "      <th>Text</th>\n",
       "      <th>helpful_rating</th>\n",
       "    </tr>\n",
       "  </thead>\n",
       "  <tbody>\n",
       "    <tr>\n",
       "      <th>3</th>\n",
       "      <td>4</td>\n",
       "      <td>B000UA0QIQ</td>\n",
       "      <td>A395BORC6FGVXV</td>\n",
       "      <td>Karl</td>\n",
       "      <td>3</td>\n",
       "      <td>3</td>\n",
       "      <td>2</td>\n",
       "      <td>1307923200</td>\n",
       "      <td>Cough Medicine</td>\n",
       "      <td>If you are looking for the secret ingredient i...</td>\n",
       "      <td>1.0</td>\n",
       "    </tr>\n",
       "    <tr>\n",
       "      <th>12</th>\n",
       "      <td>13</td>\n",
       "      <td>B0009XLVG0</td>\n",
       "      <td>A327PCT23YH90</td>\n",
       "      <td>LT</td>\n",
       "      <td>1</td>\n",
       "      <td>1</td>\n",
       "      <td>1</td>\n",
       "      <td>1339545600</td>\n",
       "      <td>My Cats Are Not Fans of the New Food</td>\n",
       "      <td>My cats have been happily eating Felidae Plati...</td>\n",
       "      <td>1.0</td>\n",
       "    </tr>\n",
       "    <tr>\n",
       "      <th>26</th>\n",
       "      <td>27</td>\n",
       "      <td>B001GVISJM</td>\n",
       "      <td>A3RXAU2N8KV45G</td>\n",
       "      <td>lady21</td>\n",
       "      <td>0</td>\n",
       "      <td>1</td>\n",
       "      <td>1</td>\n",
       "      <td>1332633600</td>\n",
       "      <td>Nasty No flavor</td>\n",
       "      <td>The candy is just red , No flavor . Just  plan...</td>\n",
       "      <td>0.0</td>\n",
       "    </tr>\n",
       "    <tr>\n",
       "      <th>50</th>\n",
       "      <td>51</td>\n",
       "      <td>B001EO5QW8</td>\n",
       "      <td>A108P30XVUFKXY</td>\n",
       "      <td>Roberto A</td>\n",
       "      <td>0</td>\n",
       "      <td>7</td>\n",
       "      <td>1</td>\n",
       "      <td>1203379200</td>\n",
       "      <td>Don't like it</td>\n",
       "      <td>This oatmeal is not good. Its mushy, soft, I d...</td>\n",
       "      <td>0.0</td>\n",
       "    </tr>\n",
       "    <tr>\n",
       "      <th>62</th>\n",
       "      <td>63</td>\n",
       "      <td>B001EO5TPM</td>\n",
       "      <td>A1E09XGZUR78C6</td>\n",
       "      <td>gary sturrock</td>\n",
       "      <td>2</td>\n",
       "      <td>2</td>\n",
       "      <td>1</td>\n",
       "      <td>1215302400</td>\n",
       "      <td>stale product.</td>\n",
       "      <td>Arrived in 6 days and were so stale i could no...</td>\n",
       "      <td>1.0</td>\n",
       "    </tr>\n",
       "  </tbody>\n",
       "</table>\n",
       "</div>"
      ],
      "text/plain": [
       "    Id   ProductId          UserId    ProfileName  HelpfulnessNumerator  \\\n",
       "3    4  B000UA0QIQ  A395BORC6FGVXV           Karl                     3   \n",
       "12  13  B0009XLVG0   A327PCT23YH90             LT                     1   \n",
       "26  27  B001GVISJM  A3RXAU2N8KV45G         lady21                     0   \n",
       "50  51  B001EO5QW8  A108P30XVUFKXY      Roberto A                     0   \n",
       "62  63  B001EO5TPM  A1E09XGZUR78C6  gary sturrock                     2   \n",
       "\n",
       "    HelpfulnessDenominator  Score        Time  \\\n",
       "3                        3      2  1307923200   \n",
       "12                       1      1  1339545600   \n",
       "26                       1      1  1332633600   \n",
       "50                       7      1  1203379200   \n",
       "62                       2      1  1215302400   \n",
       "\n",
       "                                 Summary  \\\n",
       "3                         Cough Medicine   \n",
       "12  My Cats Are Not Fans of the New Food   \n",
       "26                       Nasty No flavor   \n",
       "50                         Don't like it   \n",
       "62                        stale product.   \n",
       "\n",
       "                                                 Text  helpful_rating  \n",
       "3   If you are looking for the secret ingredient i...             1.0  \n",
       "12  My cats have been happily eating Felidae Plati...             1.0  \n",
       "26  The candy is just red , No flavor . Just  plan...             0.0  \n",
       "50  This oatmeal is not good. Its mushy, soft, I d...             0.0  \n",
       "62  Arrived in 6 days and were so stale i could no...             1.0  "
      ]
     },
     "execution_count": 388,
     "metadata": {},
     "output_type": "execute_result"
    }
   ],
   "source": [
    "bad_reviews_df.head()"
   ]
  },
  {
   "cell_type": "markdown",
   "metadata": {},
   "source": [
    "It takes a long time to perform this operation so going to save it to a pickle file if I ever need to rerun but don't need to do this cleaning step."
   ]
  },
  {
   "cell_type": "code",
   "execution_count": 389,
   "metadata": {
    "execution": {
     "iopub.execute_input": "2020-11-08T21:44:11.665458Z",
     "iopub.status.busy": "2020-11-08T21:44:11.665309Z",
     "iopub.status.idle": "2020-11-08T21:44:12.385025Z",
     "shell.execute_reply": "2020-11-08T21:44:12.384213Z",
     "shell.execute_reply.started": "2020-11-08T21:44:11.665438Z"
    }
   },
   "outputs": [],
   "source": [
    "if CLEAN_DATAFRAME == 1:\n",
    "    \n",
    "    GOOD_REVIEWS_FILE = open(\"../Data/good_reviews.pkl\",\"wb\")\n",
    "    BAD_REVIEWS_FILE = open(\"../Data/bad_reviews.pkl\",\"wb\")\n",
    "    pickle.dump(good_reviews_df, GOOD_REVIEWS_FILE)\n",
    "    pickle.dump(bad_reviews_df, BAD_REVIEWS_FILE)\n",
    "    BAD_REVIEWS_FILE.close()\n",
    "    GOOD_REVIEWS_FILE.close()\n",
    "    \n",
    "else:\n",
    "    \n",
    "    GOOD_REVIEWS_FILE = open(\"../Data/good_reviews.pkl\",\"rb\")\n",
    "    BAD_REVIEWS_FILE = open(\"../Data/bad_reviews.pkl\",\"rb\")\n",
    "    good_reviews_df = pickle.load(GOOD_REVIEWS_FILE)\n",
    "    bad_reviews_df = pickle.load(BAD_REVIEWS_FILE)\n",
    "    "
   ]
  },
  {
   "cell_type": "code",
   "execution_count": 390,
   "metadata": {
    "execution": {
     "iopub.execute_input": "2020-11-08T21:44:12.386174Z",
     "iopub.status.busy": "2020-11-08T21:44:12.385998Z",
     "iopub.status.idle": "2020-11-08T21:44:12.390407Z",
     "shell.execute_reply": "2020-11-08T21:44:12.389766Z",
     "shell.execute_reply.started": "2020-11-08T21:44:12.386153Z"
    }
   },
   "outputs": [],
   "source": [
    "good_reviews_df.reset_index(inplace=True)"
   ]
  },
  {
   "cell_type": "code",
   "execution_count": 391,
   "metadata": {
    "execution": {
     "iopub.execute_input": "2020-11-08T21:44:12.391342Z",
     "iopub.status.busy": "2020-11-08T21:44:12.391194Z",
     "iopub.status.idle": "2020-11-08T21:44:12.408554Z",
     "shell.execute_reply": "2020-11-08T21:44:12.407823Z",
     "shell.execute_reply.started": "2020-11-08T21:44:12.391322Z"
    }
   },
   "outputs": [
    {
     "data": {
      "text/plain": [
       "'I have bought several of the Vitality canned dog food products and have found them all to be of good quality. The product looks more like a stew than a processed meat and it smells better. My Labrador is finicky and she appreciates this product better than  most.'"
      ]
     },
     "execution_count": 391,
     "metadata": {},
     "output_type": "execute_result"
    }
   ],
   "source": [
    "good_reviews_df.loc[0,\"Text\"]"
   ]
  },
  {
   "cell_type": "code",
   "execution_count": 392,
   "metadata": {
    "execution": {
     "iopub.execute_input": "2020-11-08T21:44:12.409790Z",
     "iopub.status.busy": "2020-11-08T21:44:12.409584Z",
     "iopub.status.idle": "2020-11-08T21:44:12.419947Z",
     "shell.execute_reply": "2020-11-08T21:44:12.419248Z",
     "shell.execute_reply.started": "2020-11-08T21:44:12.409762Z"
    }
   },
   "outputs": [
    {
     "data": {
      "text/plain": [
       "'i have bought several of the vitality canned dog food and have found them all to be of good quality the product more like a stew than a meat and it better my is and she this product better than most'"
      ]
     },
     "execution_count": 392,
     "metadata": {},
     "output_type": "execute_result"
    }
   ],
   "source": [
    "good_reviews_df.loc[0,\"ProcessedText\"]"
   ]
  },
  {
   "cell_type": "code",
   "execution_count": 393,
   "metadata": {
    "execution": {
     "iopub.execute_input": "2020-11-08T21:44:12.421047Z",
     "iopub.status.busy": "2020-11-08T21:44:12.420852Z",
     "iopub.status.idle": "2020-11-08T21:44:12.435280Z",
     "shell.execute_reply": "2020-11-08T21:44:12.434451Z",
     "shell.execute_reply.started": "2020-11-08T21:44:12.421021Z"
    }
   },
   "outputs": [],
   "source": [
    "bad_reviews_df.reset_index(inplace=True)"
   ]
  },
  {
   "cell_type": "code",
   "execution_count": 394,
   "metadata": {
    "execution": {
     "iopub.execute_input": "2020-11-08T21:44:12.436415Z",
     "iopub.status.busy": "2020-11-08T21:44:12.436212Z",
     "iopub.status.idle": "2020-11-08T21:44:12.452203Z",
     "shell.execute_reply": "2020-11-08T21:44:12.451511Z",
     "shell.execute_reply.started": "2020-11-08T21:44:12.436387Z"
    }
   },
   "outputs": [
    {
     "data": {
      "text/plain": [
       "'If you are looking for the secret ingredient in Robitussin I believe I have found it.  I got this in addition to the Root Beer Extract I ordered (which was good) and made some cherry soda.  The flavor is very medicinal.'"
      ]
     },
     "execution_count": 394,
     "metadata": {},
     "output_type": "execute_result"
    }
   ],
   "source": [
    "bad_reviews_df.loc[0,\"Text\"]"
   ]
  },
  {
   "cell_type": "code",
   "execution_count": 395,
   "metadata": {
    "execution": {
     "iopub.execute_input": "2020-11-08T21:44:12.453392Z",
     "iopub.status.busy": "2020-11-08T21:44:12.453190Z",
     "iopub.status.idle": "2020-11-08T21:44:12.469303Z",
     "shell.execute_reply": "2020-11-08T21:44:12.468506Z",
     "shell.execute_reply.started": "2020-11-08T21:44:12.453365Z"
    }
   },
   "outputs": [
    {
     "data": {
      "text/plain": [
       "'if you are looking for the secret ingredient in i believe i have found it i got this in addition to the root beer extract i ordered which was good and made some cherry soda the flavor is very medicinal'"
      ]
     },
     "execution_count": 395,
     "metadata": {},
     "output_type": "execute_result"
    }
   ],
   "source": [
    "bad_reviews_df.loc[0,\"ProcessedText\"]"
   ]
  },
  {
   "cell_type": "markdown",
   "metadata": {},
   "source": [
    "**Tokenize**"
   ]
  },
  {
   "cell_type": "code",
   "execution_count": 396,
   "metadata": {
    "execution": {
     "iopub.execute_input": "2020-11-08T21:44:12.470412Z",
     "iopub.status.busy": "2020-11-08T21:44:12.470216Z",
     "iopub.status.idle": "2020-11-08T21:44:12.483272Z",
     "shell.execute_reply": "2020-11-08T21:44:12.482534Z",
     "shell.execute_reply.started": "2020-11-08T21:44:12.470385Z"
    }
   },
   "outputs": [],
   "source": [
    "#stuff_tokenized= []\n",
    "#stuff_tokenized = [word_tokenize(review) for review in stuff]\n",
    "\n",
    "def tokenize_text(row):\n",
    "    temp_tokenized_txt = word_tokenize(row[\"ProcessedText\"])\n",
    "    return temp_tokenized_txt\n"
   ]
  },
  {
   "cell_type": "code",
   "execution_count": 397,
   "metadata": {
    "execution": {
     "iopub.execute_input": "2020-11-08T21:44:12.484414Z",
     "iopub.status.busy": "2020-11-08T21:44:12.484215Z",
     "iopub.status.idle": "2020-11-08T21:46:20.853488Z",
     "shell.execute_reply": "2020-11-08T21:46:20.852621Z",
     "shell.execute_reply.started": "2020-11-08T21:44:12.484388Z"
    }
   },
   "outputs": [
    {
     "name": "stdout",
     "output_type": "stream",
     "text": [
      "INFO: Pandarallel will run on 64 workers.\n",
      "INFO: Pandarallel will use Memory file system to transfer data between the main process and workers.\n",
      "time spent doing operation is 0:02:08.343277\n"
     ]
    }
   ],
   "source": [
    "pandarallel.initialize()\n",
    "start_time = datetime.datetime.now()\n",
    "good_reviews_df[\"ProcessedText\"] = good_reviews_df.parallel_apply(tokenize_text,axis=1)\n",
    "bad_reviews_df[\"ProcessedText\"] = bad_reviews_df.parallel_apply(tokenize_text,axis=1)\n",
    "end_time = datetime.datetime.now()\n",
    "print(\"time spent doing operation is {}\".format(end_time - start_time))"
   ]
  },
  {
   "cell_type": "code",
   "execution_count": 398,
   "metadata": {
    "execution": {
     "iopub.execute_input": "2020-11-08T21:46:20.855753Z",
     "iopub.status.busy": "2020-11-08T21:46:20.855586Z",
     "iopub.status.idle": "2020-11-08T21:46:20.861856Z",
     "shell.execute_reply": "2020-11-08T21:46:20.861173Z",
     "shell.execute_reply.started": "2020-11-08T21:46:20.855731Z"
    }
   },
   "outputs": [
    {
     "data": {
      "text/plain": [
       "['i',\n",
       " 'have',\n",
       " 'bought',\n",
       " 'several',\n",
       " 'of',\n",
       " 'the',\n",
       " 'vitality',\n",
       " 'canned',\n",
       " 'dog',\n",
       " 'food',\n",
       " 'and',\n",
       " 'have',\n",
       " 'found',\n",
       " 'them',\n",
       " 'all',\n",
       " 'to',\n",
       " 'be',\n",
       " 'of',\n",
       " 'good',\n",
       " 'quality',\n",
       " 'the',\n",
       " 'product',\n",
       " 'more',\n",
       " 'like',\n",
       " 'a',\n",
       " 'stew',\n",
       " 'than',\n",
       " 'a',\n",
       " 'meat',\n",
       " 'and',\n",
       " 'it',\n",
       " 'better',\n",
       " 'my',\n",
       " 'is',\n",
       " 'and',\n",
       " 'she',\n",
       " 'this',\n",
       " 'product',\n",
       " 'better',\n",
       " 'than',\n",
       " 'most']"
      ]
     },
     "execution_count": 398,
     "metadata": {},
     "output_type": "execute_result"
    }
   ],
   "source": [
    "good_reviews_df.loc[0,\"ProcessedText\"]"
   ]
  },
  {
   "cell_type": "code",
   "execution_count": 399,
   "metadata": {
    "execution": {
     "iopub.execute_input": "2020-11-08T21:46:20.863066Z",
     "iopub.status.busy": "2020-11-08T21:46:20.862865Z",
     "iopub.status.idle": "2020-11-08T21:46:20.870245Z",
     "shell.execute_reply": "2020-11-08T21:46:20.869668Z",
     "shell.execute_reply.started": "2020-11-08T21:46:20.863040Z"
    }
   },
   "outputs": [
    {
     "data": {
      "text/plain": [
       "['if',\n",
       " 'you',\n",
       " 'are',\n",
       " 'looking',\n",
       " 'for',\n",
       " 'the',\n",
       " 'secret',\n",
       " 'ingredient',\n",
       " 'in',\n",
       " 'i',\n",
       " 'believe',\n",
       " 'i',\n",
       " 'have',\n",
       " 'found',\n",
       " 'it',\n",
       " 'i',\n",
       " 'got',\n",
       " 'this',\n",
       " 'in',\n",
       " 'addition',\n",
       " 'to',\n",
       " 'the',\n",
       " 'root',\n",
       " 'beer',\n",
       " 'extract',\n",
       " 'i',\n",
       " 'ordered',\n",
       " 'which',\n",
       " 'was',\n",
       " 'good',\n",
       " 'and',\n",
       " 'made',\n",
       " 'some',\n",
       " 'cherry',\n",
       " 'soda',\n",
       " 'the',\n",
       " 'flavor',\n",
       " 'is',\n",
       " 'very',\n",
       " 'medicinal']"
      ]
     },
     "execution_count": 399,
     "metadata": {},
     "output_type": "execute_result"
    }
   ],
   "source": [
    "bad_reviews_df.loc[0,\"ProcessedText\"]"
   ]
  },
  {
   "cell_type": "code",
   "execution_count": 400,
   "metadata": {
    "execution": {
     "iopub.execute_input": "2020-11-08T21:46:20.871102Z",
     "iopub.status.busy": "2020-11-08T21:46:20.870956Z",
     "iopub.status.idle": "2020-11-08T21:46:20.880527Z",
     "shell.execute_reply": "2020-11-08T21:46:20.879666Z",
     "shell.execute_reply.started": "2020-11-08T21:46:20.871082Z"
    }
   },
   "outputs": [],
   "source": [
    "#for i,item in enumerate(stuff_tokenized):\n",
    "#    if i == 10:\n",
    "#        break\n",
    "#    print(i,\"-->\",item,\"\\n\")"
   ]
  },
  {
   "cell_type": "code",
   "execution_count": 401,
   "metadata": {
    "execution": {
     "iopub.execute_input": "2020-11-08T21:46:20.881827Z",
     "iopub.status.busy": "2020-11-08T21:46:20.881609Z",
     "iopub.status.idle": "2020-11-08T21:46:20.888195Z",
     "shell.execute_reply": "2020-11-08T21:46:20.887459Z",
     "shell.execute_reply.started": "2020-11-08T21:46:20.881799Z"
    }
   },
   "outputs": [],
   "source": [
    "wordNetLemmatizer = WordNetLemmatizer()"
   ]
  },
  {
   "cell_type": "code",
   "execution_count": 402,
   "metadata": {
    "execution": {
     "iopub.execute_input": "2020-11-08T21:46:20.889437Z",
     "iopub.status.busy": "2020-11-08T21:46:20.889213Z",
     "iopub.status.idle": "2020-11-08T21:46:20.898119Z",
     "shell.execute_reply": "2020-11-08T21:46:20.897346Z",
     "shell.execute_reply.started": "2020-11-08T21:46:20.889411Z"
    }
   },
   "outputs": [],
   "source": [
    "#lemmatize each word in stuff\n",
    "def calc_partofspeech(raw_pos):\n",
    "    \"\"\"translates from POS generated by pos_tag() to a POS encoding that WordNetLemmatizer.lemmatize() understands\"\"\"\n",
    "    #print(\"word = \",word)\n",
    "    #[(output_word, output_pos)] = pos_tag(word_tokenize(word))\n",
    "    \n",
    "    #decode output_pos to the pos required by the lemmatizer\n",
    "    \n",
    "    if \"JJ\" in raw_pos:\n",
    "        pos = \"a\"\n",
    "    elif \"RB\" in raw_pos:\n",
    "        pos = \"r\"\n",
    "    elif \"VB\" in raw_pos:\n",
    "        pos = \"v\"\n",
    "    else:\n",
    "        pos = \"n\"\n",
    "    \n",
    "    return pos\n",
    "\n",
    "\n"
   ]
  },
  {
   "cell_type": "code",
   "execution_count": 403,
   "metadata": {
    "execution": {
     "iopub.execute_input": "2020-11-08T21:46:20.899386Z",
     "iopub.status.busy": "2020-11-08T21:46:20.899173Z",
     "iopub.status.idle": "2020-11-08T21:46:20.908776Z",
     "shell.execute_reply": "2020-11-08T21:46:20.908016Z",
     "shell.execute_reply.started": "2020-11-08T21:46:20.899360Z"
    }
   },
   "outputs": [],
   "source": [
    "#for i,item in enumerate(stuff):\n",
    "#   if i == 10:\n",
    "#        break\n",
    "#   print(i,\"-->\",item,\"\\n\")"
   ]
  },
  {
   "cell_type": "code",
   "execution_count": 404,
   "metadata": {
    "execution": {
     "iopub.execute_input": "2020-11-08T21:46:20.910058Z",
     "iopub.status.busy": "2020-11-08T21:46:20.909847Z",
     "iopub.status.idle": "2020-11-08T21:46:20.919700Z",
     "shell.execute_reply": "2020-11-08T21:46:20.918962Z",
     "shell.execute_reply.started": "2020-11-08T21:46:20.910031Z"
    }
   },
   "outputs": [],
   "source": [
    "#stuff_tokenized[0]"
   ]
  },
  {
   "cell_type": "code",
   "execution_count": 405,
   "metadata": {
    "execution": {
     "iopub.execute_input": "2020-11-08T21:46:20.921568Z",
     "iopub.status.busy": "2020-11-08T21:46:20.921291Z",
     "iopub.status.idle": "2020-11-08T21:46:20.939775Z",
     "shell.execute_reply": "2020-11-08T21:46:20.938896Z",
     "shell.execute_reply.started": "2020-11-08T21:46:20.921539Z"
    }
   },
   "outputs": [],
   "source": [
    "def lemmatize_it(row):\n",
    "    \n",
    "    pos_result = pos_tag(row[\"ProcessedText\"])\n",
    "    \n",
    "    temp_mydoc_lemmatized = []\n",
    "    \n",
    "    for myword,myPOS in pos_result:\n",
    "        temp_word_lemmatized = wordNetLemmatizer.lemmatize(myword,calc_partofspeech(myPOS))\n",
    "        temp_mydoc_lemmatized.append(temp_word_lemmatized)\n",
    "    \n",
    "    return temp_mydoc_lemmatized\n",
    "        \n"
   ]
  },
  {
   "cell_type": "code",
   "execution_count": 406,
   "metadata": {
    "execution": {
     "iopub.execute_input": "2020-11-08T21:46:20.941147Z",
     "iopub.status.busy": "2020-11-08T21:46:20.940935Z",
     "iopub.status.idle": "2020-11-08T21:56:54.132744Z",
     "shell.execute_reply": "2020-11-08T21:56:54.131959Z",
     "shell.execute_reply.started": "2020-11-08T21:46:20.941119Z"
    }
   },
   "outputs": [
    {
     "name": "stdout",
     "output_type": "stream",
     "text": [
      "INFO: Pandarallel will run on 64 workers.\n",
      "INFO: Pandarallel will use Memory file system to transfer data between the main process and workers.\n",
      "time spent doing operation is 0:10:33.158010\n"
     ]
    }
   ],
   "source": [
    "pandarallel.initialize()\n",
    "start_time = datetime.datetime.now()\n",
    "good_reviews_df[\"ProcessedText\"] = good_reviews_df.parallel_apply(lemmatize_it,axis=1)\n",
    "bad_reviews_df[\"ProcessedText\"] = bad_reviews_df.parallel_apply(lemmatize_it,axis=1)\n",
    "end_time = datetime.datetime.now()\n",
    "print(\"time spent doing operation is {}\".format(end_time - start_time))"
   ]
  },
  {
   "cell_type": "markdown",
   "metadata": {},
   "source": [
    "Lemmatization takes a while (~10min) on my desktop. To save time I will save it off and only regenerate when I need to:"
   ]
  },
  {
   "cell_type": "code",
   "execution_count": 472,
   "metadata": {
    "execution": {
     "iopub.execute_input": "2020-11-08T22:06:44.756056Z",
     "iopub.status.busy": "2020-11-08T22:06:44.755894Z",
     "iopub.status.idle": "2020-11-08T22:06:45.245381Z",
     "shell.execute_reply": "2020-11-08T22:06:45.244429Z",
     "shell.execute_reply.started": "2020-11-08T22:06:44.756034Z"
    }
   },
   "outputs": [],
   "source": [
    "if CLEAN_DATAFRAME == 1:\n",
    "    \n",
    "    GOOD_REVIEWS_FILE = open(\"../Data/good_reviews_lemmatized.pkl\",\"wb\")\n",
    "    BAD_REVIEWS_FILE = open(\"../Data/bad_reviews_lemmatized.pkl\",\"wb\")\n",
    "    pickle.dump(good_reviews_df, GOOD_REVIEWS_FILE)\n",
    "    pickle.dump(bad_reviews_df, BAD_REVIEWS_FILE)\n",
    "    BAD_REVIEWS_FILE.close()\n",
    "    GOOD_REVIEWS_FILE.close()\n",
    "    \n",
    "else:\n",
    "    \n",
    "    GOOD_REVIEWS_FILE = open(\"../Data/good_reviews_lemmatized.pkl\",\"rb\")\n",
    "    BAD_REVIEWS_FILE = open(\"../Data/bad_reviews_lemmatized.pkl\",\"rb\")\n",
    "    good_reviews_df = pickle.load(GOOD_REVIEWS_FILE)\n",
    "    bad_reviews_df = pickle.load(BAD_REVIEWS_FILE)"
   ]
  },
  {
   "cell_type": "markdown",
   "metadata": {},
   "source": [
    "lemmatizing to cut down on the size of the dimensions of the eventual vectorized word matrix without losing meaning of the text"
   ]
  },
  {
   "cell_type": "code",
   "execution_count": 407,
   "metadata": {
    "execution": {
     "iopub.execute_input": "2020-11-08T21:56:54.136858Z",
     "iopub.status.busy": "2020-11-08T21:56:54.136601Z",
     "iopub.status.idle": "2020-11-08T21:56:54.143692Z",
     "shell.execute_reply": "2020-11-08T21:56:54.143015Z",
     "shell.execute_reply.started": "2020-11-08T21:56:54.136825Z"
    }
   },
   "outputs": [
    {
     "data": {
      "text/plain": [
       "['i',\n",
       " 'have',\n",
       " 'buy',\n",
       " 'several',\n",
       " 'of',\n",
       " 'the',\n",
       " 'vitality',\n",
       " 'can',\n",
       " 'dog',\n",
       " 'food',\n",
       " 'and',\n",
       " 'have',\n",
       " 'find',\n",
       " 'them',\n",
       " 'all',\n",
       " 'to',\n",
       " 'be',\n",
       " 'of',\n",
       " 'good',\n",
       " 'quality',\n",
       " 'the',\n",
       " 'product',\n",
       " 'more',\n",
       " 'like',\n",
       " 'a',\n",
       " 'stew',\n",
       " 'than',\n",
       " 'a',\n",
       " 'meat',\n",
       " 'and',\n",
       " 'it',\n",
       " 'good',\n",
       " 'my',\n",
       " 'be',\n",
       " 'and',\n",
       " 'she',\n",
       " 'this',\n",
       " 'product',\n",
       " 'good',\n",
       " 'than',\n",
       " 'most']"
      ]
     },
     "execution_count": 407,
     "metadata": {},
     "output_type": "execute_result"
    }
   ],
   "source": [
    "good_reviews_df.loc[0,\"ProcessedText\"] "
   ]
  },
  {
   "cell_type": "code",
   "execution_count": 408,
   "metadata": {
    "execution": {
     "iopub.execute_input": "2020-11-08T21:56:54.147506Z",
     "iopub.status.busy": "2020-11-08T21:56:54.147250Z",
     "iopub.status.idle": "2020-11-08T21:56:54.179349Z",
     "shell.execute_reply": "2020-11-08T21:56:54.178667Z",
     "shell.execute_reply.started": "2020-11-08T21:56:54.147475Z"
    }
   },
   "outputs": [
    {
     "data": {
      "text/plain": [
       "['if',\n",
       " 'you',\n",
       " 'be',\n",
       " 'look',\n",
       " 'for',\n",
       " 'the',\n",
       " 'secret',\n",
       " 'ingredient',\n",
       " 'in',\n",
       " 'i',\n",
       " 'believe',\n",
       " 'i',\n",
       " 'have',\n",
       " 'find',\n",
       " 'it',\n",
       " 'i',\n",
       " 'get',\n",
       " 'this',\n",
       " 'in',\n",
       " 'addition',\n",
       " 'to',\n",
       " 'the',\n",
       " 'root',\n",
       " 'beer',\n",
       " 'extract',\n",
       " 'i',\n",
       " 'order',\n",
       " 'which',\n",
       " 'be',\n",
       " 'good',\n",
       " 'and',\n",
       " 'make',\n",
       " 'some',\n",
       " 'cherry',\n",
       " 'soda',\n",
       " 'the',\n",
       " 'flavor',\n",
       " 'be',\n",
       " 'very',\n",
       " 'medicinal']"
      ]
     },
     "execution_count": 408,
     "metadata": {},
     "output_type": "execute_result"
    }
   ],
   "source": [
    "bad_reviews_df.loc[0,\"ProcessedText\"] "
   ]
  },
  {
   "cell_type": "code",
   "execution_count": 409,
   "metadata": {
    "execution": {
     "iopub.execute_input": "2020-11-08T21:56:54.180630Z",
     "iopub.status.busy": "2020-11-08T21:56:54.180410Z",
     "iopub.status.idle": "2020-11-08T21:56:54.197673Z",
     "shell.execute_reply": "2020-11-08T21:56:54.197011Z",
     "shell.execute_reply.started": "2020-11-08T21:56:54.180600Z"
    }
   },
   "outputs": [],
   "source": [
    "#Test code doesn't need to be run\n",
    "#myword = \"running\"\n",
    "#myword_lemmed = wordNetLemmatizer.lemmatize(myword,calc_partofspeech(myword))\n",
    "#myword_lemmed = wordNetLemmatizer.lemmatize(myword,\"v\")\n",
    "\n",
    "#print(\"myword_lemmed = \",myword_lemmed)\n",
    "#print(\"POS for myword = \",calc_partofspeech(myword))"
   ]
  },
  {
   "cell_type": "code",
   "execution_count": 410,
   "metadata": {
    "execution": {
     "iopub.execute_input": "2020-11-08T21:56:54.198871Z",
     "iopub.status.busy": "2020-11-08T21:56:54.198663Z",
     "iopub.status.idle": "2020-11-08T21:56:54.232424Z",
     "shell.execute_reply": "2020-11-08T21:56:54.231699Z",
     "shell.execute_reply.started": "2020-11-08T21:56:54.198841Z"
    }
   },
   "outputs": [],
   "source": [
    "#stuff_lemmatized[0]"
   ]
  },
  {
   "cell_type": "code",
   "execution_count": 411,
   "metadata": {
    "execution": {
     "iopub.execute_input": "2020-11-08T21:56:54.233975Z",
     "iopub.status.busy": "2020-11-08T21:56:54.233660Z",
     "iopub.status.idle": "2020-11-08T21:56:54.271292Z",
     "shell.execute_reply": "2020-11-08T21:56:54.270768Z",
     "shell.execute_reply.started": "2020-11-08T21:56:54.233934Z"
    }
   },
   "outputs": [],
   "source": [
    "# I only want adjectives and adverbs sent to the vectorizer\n",
    "#stuff_pos_filtered = [mylemword for mylemdoc in stuff_lemmatized for mylemword in mylemdoc if (\"JJ\" in pos_tag(word_tokenize(mylemword))[0][1]) or (\"RB\" in pos_tag(word_tokenize(mylemword))[0][1])]"
   ]
  },
  {
   "cell_type": "code",
   "execution_count": 412,
   "metadata": {
    "execution": {
     "iopub.execute_input": "2020-11-08T21:56:54.272485Z",
     "iopub.status.busy": "2020-11-08T21:56:54.272264Z",
     "iopub.status.idle": "2020-11-08T21:56:54.309553Z",
     "shell.execute_reply": "2020-11-08T21:56:54.308906Z",
     "shell.execute_reply.started": "2020-11-08T21:56:54.272454Z"
    }
   },
   "outputs": [],
   "source": [
    "#stuff_pos_filtered[6]"
   ]
  },
  {
   "cell_type": "code",
   "execution_count": 413,
   "metadata": {
    "execution": {
     "iopub.execute_input": "2020-11-08T21:56:54.311082Z",
     "iopub.status.busy": "2020-11-08T21:56:54.310776Z",
     "iopub.status.idle": "2020-11-08T21:56:54.319387Z",
     "shell.execute_reply": "2020-11-08T21:56:54.318624Z",
     "shell.execute_reply.started": "2020-11-08T21:56:54.311041Z"
    }
   },
   "outputs": [],
   "source": [
    "# I only want adjectives and adverbs sent to the vectorizer\n",
    "\n",
    "def filter_pos(row,pos_abbrev=[\"JJ\"]):\n",
    "    \"\"\"\n",
    "    takes as input the following\n",
    "    processes the \"ProcessedText\" column of a review data frame (see definition above)\n",
    "    pos_abbrev = list of NLTK pos_tag() output parts of speech codes abbreviated to the first two characters\n",
    "    \n",
    "    \"\"\"\n",
    "#    print(\"pos_abbrev = \",pos_abbrev)\n",
    "\n",
    "    \n",
    "    if type(pos_abbrev) != type([]):\n",
    "        print(\"post_abbrev must be a list of POS codes (1st 2 characters of the code only)\")\n",
    "        return 1\n",
    "    \n",
    "    temp_pos_filtered_doc = \"\"\n",
    "    \n",
    "    #pos_tag() works better if you pass the entire document to it as a tokenized list\n",
    "    #it must be doing some sequence modeling under the hood to get the context of words so that it can\n",
    "    #better ID parts of speech\n",
    "        \n",
    "    pos_result = pos_tag(row[\"ProcessedText\"])\n",
    "    \n",
    "    for result_word, result_pos in pos_result:\n",
    "        #print(\"tokenized word = \", word_tokenize(mylemword))\n",
    "        #print(\"tokenized word pos = \", pos_tag(word_tokenize(mylemword))[0][1])\n",
    "        \n",
    "        for mypos in pos_abbrev:\n",
    "            if (mypos in result_pos) :\n",
    "                temp_pos_filtered_doc = temp_pos_filtered_doc + result_word + \" \"\n",
    "            \n",
    "    \n",
    "    return temp_pos_filtered_doc.rstrip()\n"
   ]
  },
  {
   "cell_type": "markdown",
   "metadata": {},
   "source": [
    "This cell edits each review removing all words except adjectives and adverbs"
   ]
  },
  {
   "cell_type": "markdown",
   "metadata": {},
   "source": [
    "Thoughts on removing adjectives: (TODO expand on it). Turns out just focusing on the adjectives makes the topics generated by LDA _less_ interpretable. So will be including the entire review in the LDA analysis. So now just running `join()` on the tokenized reviews."
   ]
  },
  {
   "cell_type": "code",
   "execution_count": 414,
   "metadata": {
    "execution": {
     "iopub.execute_input": "2020-11-08T21:56:54.320781Z",
     "iopub.status.busy": "2020-11-08T21:56:54.320534Z",
     "iopub.status.idle": "2020-11-08T21:58:49.696727Z",
     "shell.execute_reply": "2020-11-08T21:58:49.695746Z",
     "shell.execute_reply.started": "2020-11-08T21:56:54.320748Z"
    }
   },
   "outputs": [
    {
     "name": "stdout",
     "output_type": "stream",
     "text": [
      "INFO: Pandarallel will run on 64 workers.\n",
      "INFO: Pandarallel will use Memory file system to transfer data between the main process and workers.\n",
      "time spent doing operation is 0:01:55.357795\n"
     ]
    }
   ],
   "source": [
    "#stuff_pos_filtered = filter_pos(stuff_lemmatized,pos_abbrev=[\"JJ\",\"RB\"])\n",
    "#stuff_pos_filtered\n",
    "#stuff_pos_filtered = stuff_pos_filtered + filter_pos(stuff_lemmatized,\"RB\")\n",
    "\n",
    "#Not doing this to see how LDA works when it's given all of the words of  each reive.\n",
    "#pandarallel.initialize()\n",
    "#start_time = datetime.datetime.now()\n",
    "#good_reviews_df[\"ProcessedText\"] = good_reviews_df.parallel_apply(filter_pos,axis=1,pos_abbrev=[\"JJ\",\"RB\"])\n",
    "#end_time = datetime.datetime.now()\n",
    "#print(\"time spent doing operation is {}\".format(end_time - start_time))\n",
    "\n",
    "pandarallel.initialize()\n",
    "start_time = datetime.datetime.now()\n",
    "good_reviews_df[\"ProcessedText\"] = good_reviews_df.parallel_apply(lambda x : \" \".join(x[\"ProcessedText\"]),axis=1)\n",
    "bad_reviews_df[\"ProcessedText\"] = bad_reviews_df.parallel_apply(lambda x : \" \".join(x[\"ProcessedText\"]),axis=1)\n",
    "end_time = datetime.datetime.now()\n",
    "print(\"time spent doing operation is {}\".format(end_time - start_time))\n",
    "\n"
   ]
  },
  {
   "cell_type": "code",
   "execution_count": 415,
   "metadata": {
    "execution": {
     "iopub.execute_input": "2020-11-08T21:58:49.699561Z",
     "iopub.status.busy": "2020-11-08T21:58:49.699327Z",
     "iopub.status.idle": "2020-11-08T21:58:49.704769Z",
     "shell.execute_reply": "2020-11-08T21:58:49.704036Z",
     "shell.execute_reply.started": "2020-11-08T21:58:49.699531Z"
    }
   },
   "outputs": [
    {
     "data": {
      "text/plain": [
       "'i have buy several of the vitality can dog food and have find them all to be of good quality the product more like a stew than a meat and it good my be and she this product good than most'"
      ]
     },
     "execution_count": 415,
     "metadata": {},
     "output_type": "execute_result"
    }
   ],
   "source": [
    "good_reviews_df.loc[0,\"ProcessedText\"]"
   ]
  },
  {
   "cell_type": "code",
   "execution_count": 416,
   "metadata": {
    "execution": {
     "iopub.execute_input": "2020-11-08T21:58:49.705845Z",
     "iopub.status.busy": "2020-11-08T21:58:49.705696Z",
     "iopub.status.idle": "2020-11-08T21:58:49.744627Z",
     "shell.execute_reply": "2020-11-08T21:58:49.743985Z",
     "shell.execute_reply.started": "2020-11-08T21:58:49.705825Z"
    }
   },
   "outputs": [
    {
     "data": {
      "text/plain": [
       "'if you be look for the secret ingredient in i believe i have find it i get this in addition to the root beer extract i order which be good and make some cherry soda the flavor be very medicinal'"
      ]
     },
     "execution_count": 416,
     "metadata": {},
     "output_type": "execute_result"
    }
   ],
   "source": [
    "bad_reviews_df.loc[0,\"ProcessedText\"]"
   ]
  },
  {
   "cell_type": "code",
   "execution_count": 417,
   "metadata": {
    "execution": {
     "iopub.execute_input": "2020-11-08T21:58:49.745515Z",
     "iopub.status.busy": "2020-11-08T21:58:49.745370Z",
     "iopub.status.idle": "2020-11-08T21:58:49.764899Z",
     "shell.execute_reply": "2020-11-08T21:58:49.764142Z",
     "shell.execute_reply.started": "2020-11-08T21:58:49.745495Z"
    }
   },
   "outputs": [],
   "source": [
    "#stuff_lemmatized[0]"
   ]
  },
  {
   "cell_type": "code",
   "execution_count": 418,
   "metadata": {
    "execution": {
     "iopub.execute_input": "2020-11-08T21:58:49.766110Z",
     "iopub.status.busy": "2020-11-08T21:58:49.765911Z",
     "iopub.status.idle": "2020-11-08T21:58:49.773146Z",
     "shell.execute_reply": "2020-11-08T21:58:49.772432Z",
     "shell.execute_reply.started": "2020-11-08T21:58:49.766084Z"
    }
   },
   "outputs": [],
   "source": [
    "#stuff_nouns = filter_pos(stuff_lemmatized,pos_abbrev=[\"NN\"])"
   ]
  },
  {
   "cell_type": "code",
   "execution_count": 419,
   "metadata": {
    "execution": {
     "iopub.execute_input": "2020-11-08T21:58:49.774288Z",
     "iopub.status.busy": "2020-11-08T21:58:49.774087Z",
     "iopub.status.idle": "2020-11-08T21:58:49.780232Z",
     "shell.execute_reply": "2020-11-08T21:58:49.779516Z",
     "shell.execute_reply.started": "2020-11-08T21:58:49.774262Z"
    }
   },
   "outputs": [],
   "source": [
    "#stuff_nouns[0:3]"
   ]
  },
  {
   "cell_type": "code",
   "execution_count": 420,
   "metadata": {
    "execution": {
     "iopub.execute_input": "2020-11-08T21:58:49.783384Z",
     "iopub.status.busy": "2020-11-08T21:58:49.783166Z",
     "iopub.status.idle": "2020-11-08T21:58:49.788113Z",
     "shell.execute_reply": "2020-11-08T21:58:49.787215Z",
     "shell.execute_reply.started": "2020-11-08T21:58:49.783356Z"
    }
   },
   "outputs": [],
   "source": [
    "#stuff_pos_filtered[0:5]"
   ]
  },
  {
   "cell_type": "code",
   "execution_count": 421,
   "metadata": {
    "execution": {
     "iopub.execute_input": "2020-11-08T21:58:49.789261Z",
     "iopub.status.busy": "2020-11-08T21:58:49.789058Z",
     "iopub.status.idle": "2020-11-08T21:58:49.796092Z",
     "shell.execute_reply": "2020-11-08T21:58:49.795233Z",
     "shell.execute_reply.started": "2020-11-08T21:58:49.789234Z"
    }
   },
   "outputs": [],
   "source": [
    "#len(stuff_pos_filtered)"
   ]
  },
  {
   "cell_type": "markdown",
   "metadata": {},
   "source": [
    "Final shape of bad and good reviews dataframes"
   ]
  },
  {
   "cell_type": "code",
   "execution_count": 422,
   "metadata": {
    "execution": {
     "iopub.execute_input": "2020-11-08T21:58:49.803906Z",
     "iopub.status.busy": "2020-11-08T21:58:49.803691Z",
     "iopub.status.idle": "2020-11-08T21:58:49.808147Z",
     "shell.execute_reply": "2020-11-08T21:58:49.807557Z",
     "shell.execute_reply.started": "2020-11-08T21:58:49.803879Z"
    }
   },
   "outputs": [
    {
     "data": {
      "text/plain": [
       "(152586, 13)"
      ]
     },
     "execution_count": 422,
     "metadata": {},
     "output_type": "execute_result"
    }
   ],
   "source": [
    "good_reviews_df.shape"
   ]
  },
  {
   "cell_type": "code",
   "execution_count": 423,
   "metadata": {
    "execution": {
     "iopub.execute_input": "2020-11-08T21:58:49.809793Z",
     "iopub.status.busy": "2020-11-08T21:58:49.809643Z",
     "iopub.status.idle": "2020-11-08T21:58:49.815831Z",
     "shell.execute_reply": "2020-11-08T21:58:49.815158Z",
     "shell.execute_reply.started": "2020-11-08T21:58:49.809773Z"
    }
   },
   "outputs": [
    {
     "data": {
      "text/plain": [
       "(40420, 13)"
      ]
     },
     "execution_count": 423,
     "metadata": {},
     "output_type": "execute_result"
    }
   ],
   "source": [
    "bad_reviews_df.shape"
   ]
  },
  {
   "cell_type": "markdown",
   "metadata": {},
   "source": [
    "(TODO Think through the math and come up with a way to include the \"3\" reviews into the analysis in a way that improves the results or bottom out to a good mathematical rationale on why excluding them is the best approach)"
   ]
  },
  {
   "cell_type": "markdown",
   "metadata": {},
   "source": [
    "## Word Vectorization / Parsing\n",
    "\n",
    "Will do the following here:\n",
    "\n",
    "```\n",
    "\n",
    "(lemmatized text)-->[WordVectorization(dropping stop word)] --> [POS tagging] --> [collect Adjectives]\n",
    "\n",
    "\n",
    "```\n"
   ]
  },
  {
   "cell_type": "code",
   "execution_count": 424,
   "metadata": {
    "execution": {
     "iopub.execute_input": "2020-11-08T21:58:49.816956Z",
     "iopub.status.busy": "2020-11-08T21:58:49.816759Z",
     "iopub.status.idle": "2020-11-08T21:59:03.650439Z",
     "shell.execute_reply": "2020-11-08T21:59:03.649641Z",
     "shell.execute_reply.started": "2020-11-08T21:58:49.816931Z"
    }
   },
   "outputs": [],
   "source": [
    "vectorizer_gr = CountVectorizer(stop_words=\"english\")\n",
    "docTermMatrixCountVecGR = vectorizer_gr.fit_transform(good_reviews_df[\"ProcessedText\"])\n",
    "\n",
    "tfidfvectorizer_gr = TfidfVectorizer(stop_words='english')\n",
    "docTermMatrixTFIDFGR = tfidfvectorizer_gr.fit_transform(good_reviews_df[\"ProcessedText\"])\n"
   ]
  },
  {
   "cell_type": "code",
   "execution_count": 425,
   "metadata": {
    "execution": {
     "iopub.execute_input": "2020-11-08T21:59:03.651399Z",
     "iopub.status.busy": "2020-11-08T21:59:03.651244Z",
     "iopub.status.idle": "2020-11-08T21:59:07.330322Z",
     "shell.execute_reply": "2020-11-08T21:59:07.329607Z",
     "shell.execute_reply.started": "2020-11-08T21:59:03.651374Z"
    }
   },
   "outputs": [],
   "source": [
    "vectorizer_br = CountVectorizer(stop_words=\"english\")\n",
    "docTermMatrixCountVecBR = vectorizer_br.fit_transform(bad_reviews_df[\"ProcessedText\"])\n",
    "\n",
    "tfidfvectorizer_br = TfidfVectorizer(stop_words='english')\n",
    "docTermMatrixTFIDFBR = tfidfvectorizer_br.fit_transform(bad_reviews_df[\"ProcessedText\"])"
   ]
  },
  {
   "cell_type": "code",
   "execution_count": 426,
   "metadata": {
    "execution": {
     "iopub.execute_input": "2020-11-08T21:59:07.331339Z",
     "iopub.status.busy": "2020-11-08T21:59:07.331186Z",
     "iopub.status.idle": "2020-11-08T21:59:07.349129Z",
     "shell.execute_reply": "2020-11-08T21:59:07.348482Z",
     "shell.execute_reply.started": "2020-11-08T21:59:07.331319Z"
    }
   },
   "outputs": [
    {
     "data": {
      "text/plain": [
       "21926"
      ]
     },
     "execution_count": 426,
     "metadata": {},
     "output_type": "execute_result"
    }
   ],
   "source": [
    "len(vectorizer_gr.get_feature_names())"
   ]
  },
  {
   "cell_type": "code",
   "execution_count": 427,
   "metadata": {
    "execution": {
     "iopub.execute_input": "2020-11-08T21:59:07.350084Z",
     "iopub.status.busy": "2020-11-08T21:59:07.349933Z",
     "iopub.status.idle": "2020-11-08T21:59:07.367803Z",
     "shell.execute_reply": "2020-11-08T21:59:07.367143Z",
     "shell.execute_reply.started": "2020-11-08T21:59:07.350064Z"
    }
   },
   "outputs": [
    {
     "data": {
      "text/plain": [
       "(40420, 15183)"
      ]
     },
     "execution_count": 427,
     "metadata": {},
     "output_type": "execute_result"
    }
   ],
   "source": [
    "docTermMatrixTFIDFBR.shape"
   ]
  },
  {
   "cell_type": "code",
   "execution_count": 428,
   "metadata": {
    "execution": {
     "iopub.execute_input": "2020-11-08T21:59:07.368953Z",
     "iopub.status.busy": "2020-11-08T21:59:07.368747Z",
     "iopub.status.idle": "2020-11-08T21:59:07.390185Z",
     "shell.execute_reply": "2020-11-08T21:59:07.389517Z",
     "shell.execute_reply.started": "2020-11-08T21:59:07.368926Z"
    }
   },
   "outputs": [
    {
     "data": {
      "text/plain": [
       "(152586, 21926)"
      ]
     },
     "execution_count": 428,
     "metadata": {},
     "output_type": "execute_result"
    }
   ],
   "source": [
    "docTermMatrixTFIDFGR.shape"
   ]
  },
  {
   "cell_type": "code",
   "execution_count": 429,
   "metadata": {
    "execution": {
     "iopub.execute_input": "2020-11-08T21:59:07.391413Z",
     "iopub.status.busy": "2020-11-08T21:59:07.391205Z",
     "iopub.status.idle": "2020-11-08T21:59:07.434739Z",
     "shell.execute_reply": "2020-11-08T21:59:07.434108Z",
     "shell.execute_reply.started": "2020-11-08T21:59:07.391385Z"
    }
   },
   "outputs": [
    {
     "data": {
      "text/plain": [
       "15183"
      ]
     },
     "execution_count": 429,
     "metadata": {},
     "output_type": "execute_result"
    }
   ],
   "source": [
    "len(vectorizer_br.get_feature_names())"
   ]
  },
  {
   "cell_type": "code",
   "execution_count": 430,
   "metadata": {
    "execution": {
     "iopub.execute_input": "2020-11-08T21:59:07.435707Z",
     "iopub.status.busy": "2020-11-08T21:59:07.435555Z",
     "iopub.status.idle": "2020-11-08T21:59:09.975401Z",
     "shell.execute_reply": "2020-11-08T21:59:09.974773Z",
     "shell.execute_reply.started": "2020-11-08T21:59:07.435687Z"
    }
   },
   "outputs": [
    {
     "data": {
      "text/plain": [
       "array([[0, 0, 0, ..., 0, 0, 0],\n",
       "       [0, 0, 0, ..., 0, 0, 0],\n",
       "       [0, 0, 0, ..., 0, 0, 0],\n",
       "       ...,\n",
       "       [0, 0, 0, ..., 0, 0, 0],\n",
       "       [0, 0, 0, ..., 0, 0, 0],\n",
       "       [0, 0, 0, ..., 0, 0, 0]])"
      ]
     },
     "execution_count": 430,
     "metadata": {},
     "output_type": "execute_result"
    }
   ],
   "source": [
    "docTermMatrixCountVecGR.toarray()"
   ]
  },
  {
   "cell_type": "code",
   "execution_count": 431,
   "metadata": {
    "execution": {
     "iopub.execute_input": "2020-11-08T21:59:09.976319Z",
     "iopub.status.busy": "2020-11-08T21:59:09.976167Z",
     "iopub.status.idle": "2020-11-08T21:59:09.979819Z",
     "shell.execute_reply": "2020-11-08T21:59:09.979285Z",
     "shell.execute_reply.started": "2020-11-08T21:59:09.976298Z"
    }
   },
   "outputs": [
    {
     "data": {
      "text/plain": [
       "(152586, 21926)"
      ]
     },
     "execution_count": 431,
     "metadata": {},
     "output_type": "execute_result"
    }
   ],
   "source": [
    "docTermMatrixCountVecGR.shape"
   ]
  },
  {
   "cell_type": "code",
   "execution_count": 432,
   "metadata": {
    "execution": {
     "iopub.execute_input": "2020-11-08T21:59:09.980684Z",
     "iopub.status.busy": "2020-11-08T21:59:09.980536Z",
     "iopub.status.idle": "2020-11-08T21:59:10.551057Z",
     "shell.execute_reply": "2020-11-08T21:59:10.550425Z",
     "shell.execute_reply.started": "2020-11-08T21:59:09.980665Z"
    }
   },
   "outputs": [
    {
     "data": {
      "text/plain": [
       "array([[0, 0, 0, ..., 0, 0, 0],\n",
       "       [0, 0, 0, ..., 0, 0, 0],\n",
       "       [0, 0, 0, ..., 0, 0, 0],\n",
       "       ...,\n",
       "       [0, 0, 0, ..., 0, 0, 0],\n",
       "       [0, 0, 0, ..., 0, 0, 0],\n",
       "       [0, 0, 0, ..., 0, 0, 0]])"
      ]
     },
     "execution_count": 432,
     "metadata": {},
     "output_type": "execute_result"
    }
   ],
   "source": [
    "docTermMatrixCountVecBR.toarray()"
   ]
  },
  {
   "cell_type": "code",
   "execution_count": 433,
   "metadata": {
    "execution": {
     "iopub.execute_input": "2020-11-08T21:59:10.551999Z",
     "iopub.status.busy": "2020-11-08T21:59:10.551848Z",
     "iopub.status.idle": "2020-11-08T21:59:10.555396Z",
     "shell.execute_reply": "2020-11-08T21:59:10.554876Z",
     "shell.execute_reply.started": "2020-11-08T21:59:10.551979Z"
    }
   },
   "outputs": [
    {
     "data": {
      "text/plain": [
       "(40420, 15183)"
      ]
     },
     "execution_count": 433,
     "metadata": {},
     "output_type": "execute_result"
    }
   ],
   "source": [
    "docTermMatrixCountVecBR.shape"
   ]
  },
  {
   "cell_type": "code",
   "execution_count": 434,
   "metadata": {
    "execution": {
     "iopub.execute_input": "2020-11-08T21:59:10.556265Z",
     "iopub.status.busy": "2020-11-08T21:59:10.556119Z",
     "iopub.status.idle": "2020-11-08T21:59:13.524094Z",
     "shell.execute_reply": "2020-11-08T21:59:13.523372Z",
     "shell.execute_reply.started": "2020-11-08T21:59:10.556246Z"
    }
   },
   "outputs": [],
   "source": [
    "docTermMatrixTFIDFGR_df = pd.DataFrame(\n",
    "    docTermMatrixTFIDFGR.toarray(),\n",
    "    index=good_reviews_df[\"ProcessedText\"],\n",
    "    columns=tfidfvectorizer_gr.get_feature_names()\n",
    ")"
   ]
  },
  {
   "cell_type": "code",
   "execution_count": 435,
   "metadata": {
    "execution": {
     "iopub.execute_input": "2020-11-08T21:59:13.525099Z",
     "iopub.status.busy": "2020-11-08T21:59:13.524944Z",
     "iopub.status.idle": "2020-11-08T21:59:13.555525Z",
     "shell.execute_reply": "2020-11-08T21:59:13.554926Z",
     "shell.execute_reply.started": "2020-11-08T21:59:13.525079Z"
    }
   },
   "outputs": [
    {
     "data": {
      "text/html": [
       "<div>\n",
       "<style scoped>\n",
       "    .dataframe tbody tr th:only-of-type {\n",
       "        vertical-align: middle;\n",
       "    }\n",
       "\n",
       "    .dataframe tbody tr th {\n",
       "        vertical-align: top;\n",
       "    }\n",
       "\n",
       "    .dataframe thead th {\n",
       "        text-align: right;\n",
       "    }\n",
       "</style>\n",
       "<table border=\"1\" class=\"dataframe\">\n",
       "  <thead>\n",
       "    <tr style=\"text-align: right;\">\n",
       "      <th></th>\n",
       "      <th>aa</th>\n",
       "      <th>aardvark</th>\n",
       "      <th>aback</th>\n",
       "      <th>abandon</th>\n",
       "      <th>abandoned</th>\n",
       "      <th>abb</th>\n",
       "      <th>abbey</th>\n",
       "      <th>abbot</th>\n",
       "      <th>abbreviation</th>\n",
       "      <th>abdomen</th>\n",
       "      <th>...</th>\n",
       "      <th>zodiac</th>\n",
       "      <th>zombie</th>\n",
       "      <th>zone</th>\n",
       "      <th>zoo</th>\n",
       "      <th>zoom</th>\n",
       "      <th>zooplankton</th>\n",
       "      <th>zoster</th>\n",
       "      <th>zowie</th>\n",
       "      <th>zucchini</th>\n",
       "      <th>zwieback</th>\n",
       "    </tr>\n",
       "    <tr>\n",
       "      <th>ProcessedText</th>\n",
       "      <th></th>\n",
       "      <th></th>\n",
       "      <th></th>\n",
       "      <th></th>\n",
       "      <th></th>\n",
       "      <th></th>\n",
       "      <th></th>\n",
       "      <th></th>\n",
       "      <th></th>\n",
       "      <th></th>\n",
       "      <th></th>\n",
       "      <th></th>\n",
       "      <th></th>\n",
       "      <th></th>\n",
       "      <th></th>\n",
       "      <th></th>\n",
       "      <th></th>\n",
       "      <th></th>\n",
       "      <th></th>\n",
       "      <th></th>\n",
       "      <th></th>\n",
       "    </tr>\n",
       "  </thead>\n",
       "  <tbody>\n",
       "    <tr>\n",
       "      <th>i have buy several of the vitality can dog food and have find them all to be of good quality the product more like a stew than a meat and it good my be and she this product good than most</th>\n",
       "      <td>0.0</td>\n",
       "      <td>0.0</td>\n",
       "      <td>0.0</td>\n",
       "      <td>0.0</td>\n",
       "      <td>0.0</td>\n",
       "      <td>0.0</td>\n",
       "      <td>0.0</td>\n",
       "      <td>0.0</td>\n",
       "      <td>0.0</td>\n",
       "      <td>0.0</td>\n",
       "      <td>...</td>\n",
       "      <td>0.0</td>\n",
       "      <td>0.0</td>\n",
       "      <td>0.0</td>\n",
       "      <td>0.0</td>\n",
       "      <td>0.0</td>\n",
       "      <td>0.0</td>\n",
       "      <td>0.0</td>\n",
       "      <td>0.0</td>\n",
       "      <td>0.0</td>\n",
       "      <td>0.0</td>\n",
       "    </tr>\n",
       "    <tr>\n",
       "      <th>this be a confection that be around a few it be a light pillowy citrus gelatin with in this case and it be cut into tiny and then liberally coat with powdered sugar and it be a tiny mouthful of heaven not too chewy and very flavorful i highly recommend this yummy treat if you be familiar with the story of lion the witch and the this be the treat that into sell out his brother and to the witch</th>\n",
       "      <td>0.0</td>\n",
       "      <td>0.0</td>\n",
       "      <td>0.0</td>\n",
       "      <td>0.0</td>\n",
       "      <td>0.0</td>\n",
       "      <td>0.0</td>\n",
       "      <td>0.0</td>\n",
       "      <td>0.0</td>\n",
       "      <td>0.0</td>\n",
       "      <td>0.0</td>\n",
       "      <td>...</td>\n",
       "      <td>0.0</td>\n",
       "      <td>0.0</td>\n",
       "      <td>0.0</td>\n",
       "      <td>0.0</td>\n",
       "      <td>0.0</td>\n",
       "      <td>0.0</td>\n",
       "      <td>0.0</td>\n",
       "      <td>0.0</td>\n",
       "      <td>0.0</td>\n",
       "      <td>0.0</td>\n",
       "    </tr>\n",
       "    <tr>\n",
       "      <th>right now mostly just sprout this so my can eat the grass they love it i rotate it around with and rye too</th>\n",
       "      <td>0.0</td>\n",
       "      <td>0.0</td>\n",
       "      <td>0.0</td>\n",
       "      <td>0.0</td>\n",
       "      <td>0.0</td>\n",
       "      <td>0.0</td>\n",
       "      <td>0.0</td>\n",
       "      <td>0.0</td>\n",
       "      <td>0.0</td>\n",
       "      <td>0.0</td>\n",
       "      <td>...</td>\n",
       "      <td>0.0</td>\n",
       "      <td>0.0</td>\n",
       "      <td>0.0</td>\n",
       "      <td>0.0</td>\n",
       "      <td>0.0</td>\n",
       "      <td>0.0</td>\n",
       "      <td>0.0</td>\n",
       "      <td>0.0</td>\n",
       "      <td>0.0</td>\n",
       "      <td>0.0</td>\n",
       "    </tr>\n",
       "  </tbody>\n",
       "</table>\n",
       "<p>3 rows × 21926 columns</p>\n",
       "</div>"
      ],
      "text/plain": [
       "                                                     aa  aardvark  aback  \\\n",
       "ProcessedText                                                              \n",
       "i have buy several of the vitality can dog food...  0.0       0.0    0.0   \n",
       "this be a confection that be around a few it be...  0.0       0.0    0.0   \n",
       "right now mostly just sprout this so my can eat...  0.0       0.0    0.0   \n",
       "\n",
       "                                                    abandon  abandoned  abb  \\\n",
       "ProcessedText                                                                 \n",
       "i have buy several of the vitality can dog food...      0.0        0.0  0.0   \n",
       "this be a confection that be around a few it be...      0.0        0.0  0.0   \n",
       "right now mostly just sprout this so my can eat...      0.0        0.0  0.0   \n",
       "\n",
       "                                                    abbey  abbot  \\\n",
       "ProcessedText                                                      \n",
       "i have buy several of the vitality can dog food...    0.0    0.0   \n",
       "this be a confection that be around a few it be...    0.0    0.0   \n",
       "right now mostly just sprout this so my can eat...    0.0    0.0   \n",
       "\n",
       "                                                    abbreviation  abdomen  \\\n",
       "ProcessedText                                                               \n",
       "i have buy several of the vitality can dog food...           0.0      0.0   \n",
       "this be a confection that be around a few it be...           0.0      0.0   \n",
       "right now mostly just sprout this so my can eat...           0.0      0.0   \n",
       "\n",
       "                                                    ...  zodiac  zombie  zone  \\\n",
       "ProcessedText                                       ...                         \n",
       "i have buy several of the vitality can dog food...  ...     0.0     0.0   0.0   \n",
       "this be a confection that be around a few it be...  ...     0.0     0.0   0.0   \n",
       "right now mostly just sprout this so my can eat...  ...     0.0     0.0   0.0   \n",
       "\n",
       "                                                    zoo  zoom  zooplankton  \\\n",
       "ProcessedText                                                                \n",
       "i have buy several of the vitality can dog food...  0.0   0.0          0.0   \n",
       "this be a confection that be around a few it be...  0.0   0.0          0.0   \n",
       "right now mostly just sprout this so my can eat...  0.0   0.0          0.0   \n",
       "\n",
       "                                                    zoster  zowie  zucchini  \\\n",
       "ProcessedText                                                                 \n",
       "i have buy several of the vitality can dog food...     0.0    0.0       0.0   \n",
       "this be a confection that be around a few it be...     0.0    0.0       0.0   \n",
       "right now mostly just sprout this so my can eat...     0.0    0.0       0.0   \n",
       "\n",
       "                                                    zwieback  \n",
       "ProcessedText                                                 \n",
       "i have buy several of the vitality can dog food...       0.0  \n",
       "this be a confection that be around a few it be...       0.0  \n",
       "right now mostly just sprout this so my can eat...       0.0  \n",
       "\n",
       "[3 rows x 21926 columns]"
      ]
     },
     "execution_count": 435,
     "metadata": {},
     "output_type": "execute_result"
    }
   ],
   "source": [
    "#docTermMatrixTFIDFGR_df.head(3)"
   ]
  },
  {
   "cell_type": "code",
   "execution_count": 436,
   "metadata": {
    "execution": {
     "iopub.execute_input": "2020-11-08T21:59:13.556489Z",
     "iopub.status.busy": "2020-11-08T21:59:13.556333Z",
     "iopub.status.idle": "2020-11-08T21:59:16.186783Z",
     "shell.execute_reply": "2020-11-08T21:59:16.186057Z",
     "shell.execute_reply.started": "2020-11-08T21:59:13.556468Z"
    }
   },
   "outputs": [],
   "source": [
    "\n",
    "docTermMatrixCountVecGR_df = pd.DataFrame(docTermMatrixCountVecGR.toarray(), index=good_reviews_df[\"ProcessedText\"], columns=vectorizer_gr.get_feature_names())"
   ]
  },
  {
   "cell_type": "code",
   "execution_count": 437,
   "metadata": {
    "execution": {
     "iopub.execute_input": "2020-11-08T21:59:16.187750Z",
     "iopub.status.busy": "2020-11-08T21:59:16.187598Z",
     "iopub.status.idle": "2020-11-08T21:59:16.203227Z",
     "shell.execute_reply": "2020-11-08T21:59:16.202656Z",
     "shell.execute_reply.started": "2020-11-08T21:59:16.187730Z"
    }
   },
   "outputs": [
    {
     "data": {
      "text/html": [
       "<div>\n",
       "<style scoped>\n",
       "    .dataframe tbody tr th:only-of-type {\n",
       "        vertical-align: middle;\n",
       "    }\n",
       "\n",
       "    .dataframe tbody tr th {\n",
       "        vertical-align: top;\n",
       "    }\n",
       "\n",
       "    .dataframe thead th {\n",
       "        text-align: right;\n",
       "    }\n",
       "</style>\n",
       "<table border=\"1\" class=\"dataframe\">\n",
       "  <thead>\n",
       "    <tr style=\"text-align: right;\">\n",
       "      <th></th>\n",
       "      <th>aa</th>\n",
       "      <th>aardvark</th>\n",
       "      <th>aback</th>\n",
       "      <th>abandon</th>\n",
       "      <th>abandoned</th>\n",
       "      <th>abb</th>\n",
       "      <th>abbey</th>\n",
       "      <th>abbot</th>\n",
       "      <th>abbreviation</th>\n",
       "      <th>abdomen</th>\n",
       "      <th>...</th>\n",
       "      <th>zodiac</th>\n",
       "      <th>zombie</th>\n",
       "      <th>zone</th>\n",
       "      <th>zoo</th>\n",
       "      <th>zoom</th>\n",
       "      <th>zooplankton</th>\n",
       "      <th>zoster</th>\n",
       "      <th>zowie</th>\n",
       "      <th>zucchini</th>\n",
       "      <th>zwieback</th>\n",
       "    </tr>\n",
       "    <tr>\n",
       "      <th>ProcessedText</th>\n",
       "      <th></th>\n",
       "      <th></th>\n",
       "      <th></th>\n",
       "      <th></th>\n",
       "      <th></th>\n",
       "      <th></th>\n",
       "      <th></th>\n",
       "      <th></th>\n",
       "      <th></th>\n",
       "      <th></th>\n",
       "      <th></th>\n",
       "      <th></th>\n",
       "      <th></th>\n",
       "      <th></th>\n",
       "      <th></th>\n",
       "      <th></th>\n",
       "      <th></th>\n",
       "      <th></th>\n",
       "      <th></th>\n",
       "      <th></th>\n",
       "      <th></th>\n",
       "    </tr>\n",
       "  </thead>\n",
       "  <tbody>\n",
       "    <tr>\n",
       "      <th>i have buy several of the vitality can dog food and have find them all to be of good quality the product more like a stew than a meat and it good my be and she this product good than most</th>\n",
       "      <td>0</td>\n",
       "      <td>0</td>\n",
       "      <td>0</td>\n",
       "      <td>0</td>\n",
       "      <td>0</td>\n",
       "      <td>0</td>\n",
       "      <td>0</td>\n",
       "      <td>0</td>\n",
       "      <td>0</td>\n",
       "      <td>0</td>\n",
       "      <td>...</td>\n",
       "      <td>0</td>\n",
       "      <td>0</td>\n",
       "      <td>0</td>\n",
       "      <td>0</td>\n",
       "      <td>0</td>\n",
       "      <td>0</td>\n",
       "      <td>0</td>\n",
       "      <td>0</td>\n",
       "      <td>0</td>\n",
       "      <td>0</td>\n",
       "    </tr>\n",
       "    <tr>\n",
       "      <th>this be a confection that be around a few it be a light pillowy citrus gelatin with in this case and it be cut into tiny and then liberally coat with powdered sugar and it be a tiny mouthful of heaven not too chewy and very flavorful i highly recommend this yummy treat if you be familiar with the story of lion the witch and the this be the treat that into sell out his brother and to the witch</th>\n",
       "      <td>0</td>\n",
       "      <td>0</td>\n",
       "      <td>0</td>\n",
       "      <td>0</td>\n",
       "      <td>0</td>\n",
       "      <td>0</td>\n",
       "      <td>0</td>\n",
       "      <td>0</td>\n",
       "      <td>0</td>\n",
       "      <td>0</td>\n",
       "      <td>...</td>\n",
       "      <td>0</td>\n",
       "      <td>0</td>\n",
       "      <td>0</td>\n",
       "      <td>0</td>\n",
       "      <td>0</td>\n",
       "      <td>0</td>\n",
       "      <td>0</td>\n",
       "      <td>0</td>\n",
       "      <td>0</td>\n",
       "      <td>0</td>\n",
       "    </tr>\n",
       "  </tbody>\n",
       "</table>\n",
       "<p>2 rows × 21926 columns</p>\n",
       "</div>"
      ],
      "text/plain": [
       "                                                    aa  aardvark  aback  \\\n",
       "ProcessedText                                                             \n",
       "i have buy several of the vitality can dog food...   0         0      0   \n",
       "this be a confection that be around a few it be...   0         0      0   \n",
       "\n",
       "                                                    abandon  abandoned  abb  \\\n",
       "ProcessedText                                                                 \n",
       "i have buy several of the vitality can dog food...        0          0    0   \n",
       "this be a confection that be around a few it be...        0          0    0   \n",
       "\n",
       "                                                    abbey  abbot  \\\n",
       "ProcessedText                                                      \n",
       "i have buy several of the vitality can dog food...      0      0   \n",
       "this be a confection that be around a few it be...      0      0   \n",
       "\n",
       "                                                    abbreviation  abdomen  \\\n",
       "ProcessedText                                                               \n",
       "i have buy several of the vitality can dog food...             0        0   \n",
       "this be a confection that be around a few it be...             0        0   \n",
       "\n",
       "                                                    ...  zodiac  zombie  zone  \\\n",
       "ProcessedText                                       ...                         \n",
       "i have buy several of the vitality can dog food...  ...       0       0     0   \n",
       "this be a confection that be around a few it be...  ...       0       0     0   \n",
       "\n",
       "                                                    zoo  zoom  zooplankton  \\\n",
       "ProcessedText                                                                \n",
       "i have buy several of the vitality can dog food...    0     0            0   \n",
       "this be a confection that be around a few it be...    0     0            0   \n",
       "\n",
       "                                                    zoster  zowie  zucchini  \\\n",
       "ProcessedText                                                                 \n",
       "i have buy several of the vitality can dog food...       0      0         0   \n",
       "this be a confection that be around a few it be...       0      0         0   \n",
       "\n",
       "                                                    zwieback  \n",
       "ProcessedText                                                 \n",
       "i have buy several of the vitality can dog food...         0  \n",
       "this be a confection that be around a few it be...         0  \n",
       "\n",
       "[2 rows x 21926 columns]"
      ]
     },
     "execution_count": 437,
     "metadata": {},
     "output_type": "execute_result"
    }
   ],
   "source": [
    "#docTermMatrixCountVecGR_df.head(2)"
   ]
  },
  {
   "cell_type": "code",
   "execution_count": 438,
   "metadata": {
    "execution": {
     "iopub.execute_input": "2020-11-08T21:59:16.204190Z",
     "iopub.status.busy": "2020-11-08T21:59:16.204035Z",
     "iopub.status.idle": "2020-11-08T21:59:17.034895Z",
     "shell.execute_reply": "2020-11-08T21:59:17.034194Z",
     "shell.execute_reply.started": "2020-11-08T21:59:16.204169Z"
    }
   },
   "outputs": [],
   "source": [
    "#docTermMatrixCountVecBR_df = pd.DataFrame(docTermMatrixCountVecBR.toarray(), index=bad_reviews_df[\"ProcessedText\"], columns=vectorizer_br.get_feature_names())"
   ]
  },
  {
   "cell_type": "code",
   "execution_count": 439,
   "metadata": {
    "execution": {
     "iopub.execute_input": "2020-11-08T21:59:17.039766Z",
     "iopub.status.busy": "2020-11-08T21:59:17.039605Z",
     "iopub.status.idle": "2020-11-08T21:59:17.055403Z",
     "shell.execute_reply": "2020-11-08T21:59:17.054822Z",
     "shell.execute_reply.started": "2020-11-08T21:59:17.039746Z"
    }
   },
   "outputs": [
    {
     "data": {
      "text/html": [
       "<div>\n",
       "<style scoped>\n",
       "    .dataframe tbody tr th:only-of-type {\n",
       "        vertical-align: middle;\n",
       "    }\n",
       "\n",
       "    .dataframe tbody tr th {\n",
       "        vertical-align: top;\n",
       "    }\n",
       "\n",
       "    .dataframe thead th {\n",
       "        text-align: right;\n",
       "    }\n",
       "</style>\n",
       "<table border=\"1\" class=\"dataframe\">\n",
       "  <thead>\n",
       "    <tr style=\"text-align: right;\">\n",
       "      <th></th>\n",
       "      <th>aa</th>\n",
       "      <th>aback</th>\n",
       "      <th>abalone</th>\n",
       "      <th>abandon</th>\n",
       "      <th>abandoned</th>\n",
       "      <th>abandonment</th>\n",
       "      <th>abbey</th>\n",
       "      <th>abdomen</th>\n",
       "      <th>abdominal</th>\n",
       "      <th>aberrant</th>\n",
       "      <th>...</th>\n",
       "      <th>zipper</th>\n",
       "      <th>zippy</th>\n",
       "      <th>zombie</th>\n",
       "      <th>zone</th>\n",
       "      <th>zoo</th>\n",
       "      <th>zoology</th>\n",
       "      <th>zoom</th>\n",
       "      <th>zoonotic</th>\n",
       "      <th>zucchini</th>\n",
       "      <th>zwieback</th>\n",
       "    </tr>\n",
       "    <tr>\n",
       "      <th>ProcessedText</th>\n",
       "      <th></th>\n",
       "      <th></th>\n",
       "      <th></th>\n",
       "      <th></th>\n",
       "      <th></th>\n",
       "      <th></th>\n",
       "      <th></th>\n",
       "      <th></th>\n",
       "      <th></th>\n",
       "      <th></th>\n",
       "      <th></th>\n",
       "      <th></th>\n",
       "      <th></th>\n",
       "      <th></th>\n",
       "      <th></th>\n",
       "      <th></th>\n",
       "      <th></th>\n",
       "      <th></th>\n",
       "      <th></th>\n",
       "      <th></th>\n",
       "      <th></th>\n",
       "    </tr>\n",
       "  </thead>\n",
       "  <tbody>\n",
       "    <tr>\n",
       "      <th>if you be look for the secret ingredient in i believe i have find it i get this in addition to the root beer extract i order which be good and make some cherry soda the flavor be very medicinal</th>\n",
       "      <td>0</td>\n",
       "      <td>0</td>\n",
       "      <td>0</td>\n",
       "      <td>0</td>\n",
       "      <td>0</td>\n",
       "      <td>0</td>\n",
       "      <td>0</td>\n",
       "      <td>0</td>\n",
       "      <td>0</td>\n",
       "      <td>0</td>\n",
       "      <td>...</td>\n",
       "      <td>0</td>\n",
       "      <td>0</td>\n",
       "      <td>0</td>\n",
       "      <td>0</td>\n",
       "      <td>0</td>\n",
       "      <td>0</td>\n",
       "      <td>0</td>\n",
       "      <td>0</td>\n",
       "      <td>0</td>\n",
       "      <td>0</td>\n",
       "    </tr>\n",
       "    <tr>\n",
       "      <th>my have be happily eat platinum for more than two i just get a new bag and the shape of the food be different they try the new food when i first put it in their bowl and now the bowl sit full and the will not touch the food similar relate to formula in the past unfortunately i now need to find a new food that my will eat</th>\n",
       "      <td>0</td>\n",
       "      <td>0</td>\n",
       "      <td>0</td>\n",
       "      <td>0</td>\n",
       "      <td>0</td>\n",
       "      <td>0</td>\n",
       "      <td>0</td>\n",
       "      <td>0</td>\n",
       "      <td>0</td>\n",
       "      <td>0</td>\n",
       "      <td>...</td>\n",
       "      <td>0</td>\n",
       "      <td>0</td>\n",
       "      <td>0</td>\n",
       "      <td>0</td>\n",
       "      <td>0</td>\n",
       "      <td>0</td>\n",
       "      <td>0</td>\n",
       "      <td>0</td>\n",
       "      <td>0</td>\n",
       "      <td>0</td>\n",
       "    </tr>\n",
       "  </tbody>\n",
       "</table>\n",
       "<p>2 rows × 15183 columns</p>\n",
       "</div>"
      ],
      "text/plain": [
       "                                                    aa  aback  abalone  \\\n",
       "ProcessedText                                                            \n",
       "if you be look for the secret ingredient in i b...   0      0        0   \n",
       "my have be happily eat platinum for more than t...   0      0        0   \n",
       "\n",
       "                                                    abandon  abandoned  \\\n",
       "ProcessedText                                                            \n",
       "if you be look for the secret ingredient in i b...        0          0   \n",
       "my have be happily eat platinum for more than t...        0          0   \n",
       "\n",
       "                                                    abandonment  abbey  \\\n",
       "ProcessedText                                                            \n",
       "if you be look for the secret ingredient in i b...            0      0   \n",
       "my have be happily eat platinum for more than t...            0      0   \n",
       "\n",
       "                                                    abdomen  abdominal  \\\n",
       "ProcessedText                                                            \n",
       "if you be look for the secret ingredient in i b...        0          0   \n",
       "my have be happily eat platinum for more than t...        0          0   \n",
       "\n",
       "                                                    aberrant  ...  zipper  \\\n",
       "ProcessedText                                                 ...           \n",
       "if you be look for the secret ingredient in i b...         0  ...       0   \n",
       "my have be happily eat platinum for more than t...         0  ...       0   \n",
       "\n",
       "                                                    zippy  zombie  zone  zoo  \\\n",
       "ProcessedText                                                                  \n",
       "if you be look for the secret ingredient in i b...      0       0     0    0   \n",
       "my have be happily eat platinum for more than t...      0       0     0    0   \n",
       "\n",
       "                                                    zoology  zoom  zoonotic  \\\n",
       "ProcessedText                                                                 \n",
       "if you be look for the secret ingredient in i b...        0     0         0   \n",
       "my have be happily eat platinum for more than t...        0     0         0   \n",
       "\n",
       "                                                    zucchini  zwieback  \n",
       "ProcessedText                                                           \n",
       "if you be look for the secret ingredient in i b...         0         0  \n",
       "my have be happily eat platinum for more than t...         0         0  \n",
       "\n",
       "[2 rows x 15183 columns]"
      ]
     },
     "execution_count": 439,
     "metadata": {},
     "output_type": "execute_result"
    }
   ],
   "source": [
    "#docTermMatrixCountVecBR_df.head(2)"
   ]
  },
  {
   "cell_type": "code",
   "execution_count": 440,
   "metadata": {
    "execution": {
     "iopub.execute_input": "2020-11-08T21:59:17.057743Z",
     "iopub.status.busy": "2020-11-08T21:59:17.057584Z",
     "iopub.status.idle": "2020-11-08T21:59:17.985086Z",
     "shell.execute_reply": "2020-11-08T21:59:17.984389Z",
     "shell.execute_reply.started": "2020-11-08T21:59:17.057723Z"
    }
   },
   "outputs": [],
   "source": [
    "docTermMatrixTFIDFBR_df = pd.DataFrame(\n",
    "    docTermMatrixTFIDFBR.toarray(),\n",
    "    index=bad_reviews_df[\"ProcessedText\"],\n",
    "    columns=tfidfvectorizer_br.get_feature_names()\n",
    ")"
   ]
  },
  {
   "cell_type": "code",
   "execution_count": 441,
   "metadata": {
    "execution": {
     "iopub.execute_input": "2020-11-08T21:59:17.986029Z",
     "iopub.status.busy": "2020-11-08T21:59:17.985880Z",
     "iopub.status.idle": "2020-11-08T21:59:18.008603Z",
     "shell.execute_reply": "2020-11-08T21:59:18.008026Z",
     "shell.execute_reply.started": "2020-11-08T21:59:17.986009Z"
    }
   },
   "outputs": [
    {
     "data": {
      "text/html": [
       "<div>\n",
       "<style scoped>\n",
       "    .dataframe tbody tr th:only-of-type {\n",
       "        vertical-align: middle;\n",
       "    }\n",
       "\n",
       "    .dataframe tbody tr th {\n",
       "        vertical-align: top;\n",
       "    }\n",
       "\n",
       "    .dataframe thead th {\n",
       "        text-align: right;\n",
       "    }\n",
       "</style>\n",
       "<table border=\"1\" class=\"dataframe\">\n",
       "  <thead>\n",
       "    <tr style=\"text-align: right;\">\n",
       "      <th></th>\n",
       "      <th>aa</th>\n",
       "      <th>aback</th>\n",
       "      <th>abalone</th>\n",
       "      <th>abandon</th>\n",
       "      <th>abandoned</th>\n",
       "      <th>abandonment</th>\n",
       "      <th>abbey</th>\n",
       "      <th>abdomen</th>\n",
       "      <th>abdominal</th>\n",
       "      <th>aberrant</th>\n",
       "      <th>...</th>\n",
       "      <th>zipper</th>\n",
       "      <th>zippy</th>\n",
       "      <th>zombie</th>\n",
       "      <th>zone</th>\n",
       "      <th>zoo</th>\n",
       "      <th>zoology</th>\n",
       "      <th>zoom</th>\n",
       "      <th>zoonotic</th>\n",
       "      <th>zucchini</th>\n",
       "      <th>zwieback</th>\n",
       "    </tr>\n",
       "    <tr>\n",
       "      <th>ProcessedText</th>\n",
       "      <th></th>\n",
       "      <th></th>\n",
       "      <th></th>\n",
       "      <th></th>\n",
       "      <th></th>\n",
       "      <th></th>\n",
       "      <th></th>\n",
       "      <th></th>\n",
       "      <th></th>\n",
       "      <th></th>\n",
       "      <th></th>\n",
       "      <th></th>\n",
       "      <th></th>\n",
       "      <th></th>\n",
       "      <th></th>\n",
       "      <th></th>\n",
       "      <th></th>\n",
       "      <th></th>\n",
       "      <th></th>\n",
       "      <th></th>\n",
       "      <th></th>\n",
       "    </tr>\n",
       "  </thead>\n",
       "  <tbody>\n",
       "    <tr>\n",
       "      <th>if you be look for the secret ingredient in i believe i have find it i get this in addition to the root beer extract i order which be good and make some cherry soda the flavor be very medicinal</th>\n",
       "      <td>0.0</td>\n",
       "      <td>0.0</td>\n",
       "      <td>0.0</td>\n",
       "      <td>0.0</td>\n",
       "      <td>0.0</td>\n",
       "      <td>0.0</td>\n",
       "      <td>0.0</td>\n",
       "      <td>0.0</td>\n",
       "      <td>0.0</td>\n",
       "      <td>0.0</td>\n",
       "      <td>...</td>\n",
       "      <td>0.0</td>\n",
       "      <td>0.0</td>\n",
       "      <td>0.0</td>\n",
       "      <td>0.0</td>\n",
       "      <td>0.0</td>\n",
       "      <td>0.0</td>\n",
       "      <td>0.0</td>\n",
       "      <td>0.0</td>\n",
       "      <td>0.0</td>\n",
       "      <td>0.0</td>\n",
       "    </tr>\n",
       "    <tr>\n",
       "      <th>my have be happily eat platinum for more than two i just get a new bag and the shape of the food be different they try the new food when i first put it in their bowl and now the bowl sit full and the will not touch the food similar relate to formula in the past unfortunately i now need to find a new food that my will eat</th>\n",
       "      <td>0.0</td>\n",
       "      <td>0.0</td>\n",
       "      <td>0.0</td>\n",
       "      <td>0.0</td>\n",
       "      <td>0.0</td>\n",
       "      <td>0.0</td>\n",
       "      <td>0.0</td>\n",
       "      <td>0.0</td>\n",
       "      <td>0.0</td>\n",
       "      <td>0.0</td>\n",
       "      <td>...</td>\n",
       "      <td>0.0</td>\n",
       "      <td>0.0</td>\n",
       "      <td>0.0</td>\n",
       "      <td>0.0</td>\n",
       "      <td>0.0</td>\n",
       "      <td>0.0</td>\n",
       "      <td>0.0</td>\n",
       "      <td>0.0</td>\n",
       "      <td>0.0</td>\n",
       "      <td>0.0</td>\n",
       "    </tr>\n",
       "    <tr>\n",
       "      <th>the candy be just red no flavor just plan and chewy i would never buy them again</th>\n",
       "      <td>0.0</td>\n",
       "      <td>0.0</td>\n",
       "      <td>0.0</td>\n",
       "      <td>0.0</td>\n",
       "      <td>0.0</td>\n",
       "      <td>0.0</td>\n",
       "      <td>0.0</td>\n",
       "      <td>0.0</td>\n",
       "      <td>0.0</td>\n",
       "      <td>0.0</td>\n",
       "      <td>...</td>\n",
       "      <td>0.0</td>\n",
       "      <td>0.0</td>\n",
       "      <td>0.0</td>\n",
       "      <td>0.0</td>\n",
       "      <td>0.0</td>\n",
       "      <td>0.0</td>\n",
       "      <td>0.0</td>\n",
       "      <td>0.0</td>\n",
       "      <td>0.0</td>\n",
       "      <td>0.0</td>\n",
       "    </tr>\n",
       "  </tbody>\n",
       "</table>\n",
       "<p>3 rows × 15183 columns</p>\n",
       "</div>"
      ],
      "text/plain": [
       "                                                     aa  aback  abalone  \\\n",
       "ProcessedText                                                             \n",
       "if you be look for the secret ingredient in i b...  0.0    0.0      0.0   \n",
       "my have be happily eat platinum for more than t...  0.0    0.0      0.0   \n",
       "the candy be just red no flavor just plan and c...  0.0    0.0      0.0   \n",
       "\n",
       "                                                    abandon  abandoned  \\\n",
       "ProcessedText                                                            \n",
       "if you be look for the secret ingredient in i b...      0.0        0.0   \n",
       "my have be happily eat platinum for more than t...      0.0        0.0   \n",
       "the candy be just red no flavor just plan and c...      0.0        0.0   \n",
       "\n",
       "                                                    abandonment  abbey  \\\n",
       "ProcessedText                                                            \n",
       "if you be look for the secret ingredient in i b...          0.0    0.0   \n",
       "my have be happily eat platinum for more than t...          0.0    0.0   \n",
       "the candy be just red no flavor just plan and c...          0.0    0.0   \n",
       "\n",
       "                                                    abdomen  abdominal  \\\n",
       "ProcessedText                                                            \n",
       "if you be look for the secret ingredient in i b...      0.0        0.0   \n",
       "my have be happily eat platinum for more than t...      0.0        0.0   \n",
       "the candy be just red no flavor just plan and c...      0.0        0.0   \n",
       "\n",
       "                                                    aberrant  ...  zipper  \\\n",
       "ProcessedText                                                 ...           \n",
       "if you be look for the secret ingredient in i b...       0.0  ...     0.0   \n",
       "my have be happily eat platinum for more than t...       0.0  ...     0.0   \n",
       "the candy be just red no flavor just plan and c...       0.0  ...     0.0   \n",
       "\n",
       "                                                    zippy  zombie  zone  zoo  \\\n",
       "ProcessedText                                                                  \n",
       "if you be look for the secret ingredient in i b...    0.0     0.0   0.0  0.0   \n",
       "my have be happily eat platinum for more than t...    0.0     0.0   0.0  0.0   \n",
       "the candy be just red no flavor just plan and c...    0.0     0.0   0.0  0.0   \n",
       "\n",
       "                                                    zoology  zoom  zoonotic  \\\n",
       "ProcessedText                                                                 \n",
       "if you be look for the secret ingredient in i b...      0.0   0.0       0.0   \n",
       "my have be happily eat platinum for more than t...      0.0   0.0       0.0   \n",
       "the candy be just red no flavor just plan and c...      0.0   0.0       0.0   \n",
       "\n",
       "                                                    zucchini  zwieback  \n",
       "ProcessedText                                                           \n",
       "if you be look for the secret ingredient in i b...       0.0       0.0  \n",
       "my have be happily eat platinum for more than t...       0.0       0.0  \n",
       "the candy be just red no flavor just plan and c...       0.0       0.0  \n",
       "\n",
       "[3 rows x 15183 columns]"
      ]
     },
     "execution_count": 441,
     "metadata": {},
     "output_type": "execute_result"
    }
   ],
   "source": [
    "docTermMatrixTFIDFBR_df.head(3)"
   ]
  },
  {
   "cell_type": "code",
   "execution_count": 442,
   "metadata": {
    "execution": {
     "iopub.execute_input": "2020-11-08T21:59:18.009565Z",
     "iopub.status.busy": "2020-11-08T21:59:18.009411Z",
     "iopub.status.idle": "2020-11-08T21:59:18.017507Z",
     "shell.execute_reply": "2020-11-08T21:59:18.016911Z",
     "shell.execute_reply.started": "2020-11-08T21:59:18.009544Z"
    }
   },
   "outputs": [
    {
     "data": {
      "text/plain": [
       "Index(['aa', 'aardvark', 'aback', 'abandon', 'abandoned', 'abb', 'abbey',\n",
       "       'abbot', 'abbreviation', 'abdomen',\n",
       "       ...\n",
       "       'zodiac', 'zombie', 'zone', 'zoo', 'zoom', 'zooplankton', 'zoster',\n",
       "       'zowie', 'zucchini', 'zwieback'],\n",
       "      dtype='object', length=21926)"
      ]
     },
     "execution_count": 442,
     "metadata": {},
     "output_type": "execute_result"
    }
   ],
   "source": [
    "#docTermMatrixCountVecGR_df.columns"
   ]
  },
  {
   "cell_type": "code",
   "execution_count": 443,
   "metadata": {
    "execution": {
     "iopub.execute_input": "2020-11-08T21:59:18.018453Z",
     "iopub.status.busy": "2020-11-08T21:59:18.018304Z",
     "iopub.status.idle": "2020-11-08T21:59:18.035081Z",
     "shell.execute_reply": "2020-11-08T21:59:18.034447Z",
     "shell.execute_reply.started": "2020-11-08T21:59:18.018433Z"
    }
   },
   "outputs": [
    {
     "data": {
      "text/plain": [
       "Index(['aa', 'aback', 'abalone', 'abandon', 'abandoned', 'abandonment',\n",
       "       'abbey', 'abdomen', 'abdominal', 'aberrant',\n",
       "       ...\n",
       "       'zipper', 'zippy', 'zombie', 'zone', 'zoo', 'zoology', 'zoom',\n",
       "       'zoonotic', 'zucchini', 'zwieback'],\n",
       "      dtype='object', length=15183)"
      ]
     },
     "execution_count": 443,
     "metadata": {},
     "output_type": "execute_result"
    }
   ],
   "source": [
    "#docTermMatrixCountVecBR_df.columns"
   ]
  },
  {
   "cell_type": "code",
   "execution_count": 444,
   "metadata": {
    "execution": {
     "iopub.execute_input": "2020-11-08T21:59:18.036278Z",
     "iopub.status.busy": "2020-11-08T21:59:18.036070Z",
     "iopub.status.idle": "2020-11-08T21:59:18.057045Z",
     "shell.execute_reply": "2020-11-08T21:59:18.056326Z",
     "shell.execute_reply.started": "2020-11-08T21:59:18.036249Z"
    }
   },
   "outputs": [],
   "source": [
    "LD_AllocatorGR = LatentDirichletAllocation(n_components=20, random_state=0,n_jobs=8)\n",
    "LD_AllocatorBR = LatentDirichletAllocation(n_components=20, random_state=0,n_jobs=8)\n",
    "LD_AllocatorTFIDFGR = LatentDirichletAllocation(n_components=20, random_state=0,n_jobs=8)\n",
    "LD_AllocatorTFIDFBR = LatentDirichletAllocation(n_components=20, random_state=0,n_jobs=8)\n"
   ]
  },
  {
   "cell_type": "code",
   "execution_count": 445,
   "metadata": {
    "execution": {
     "iopub.execute_input": "2020-11-08T21:59:18.058257Z",
     "iopub.status.busy": "2020-11-08T21:59:18.058056Z",
     "iopub.status.idle": "2020-11-08T22:02:02.488032Z",
     "shell.execute_reply": "2020-11-08T22:02:02.487160Z",
     "shell.execute_reply.started": "2020-11-08T21:59:18.058230Z"
    }
   },
   "outputs": [
    {
     "name": "stdout",
     "output_type": "stream",
     "text": [
      "time spent doing operation is 0:02:44.411547\n"
     ]
    }
   ],
   "source": [
    "start_time = datetime.datetime.now()\n",
    "LD_AllocatorGR.fit(docTermMatrixCountVecGR)\n",
    "end_time = datetime.datetime.now()\n",
    "print(\"time spent doing operation is {}\".format(end_time - start_time))"
   ]
  },
  {
   "cell_type": "code",
   "execution_count": 446,
   "metadata": {
    "execution": {
     "iopub.execute_input": "2020-11-08T22:02:02.489487Z",
     "iopub.status.busy": "2020-11-08T22:02:02.489258Z",
     "iopub.status.idle": "2020-11-08T22:02:29.431442Z",
     "shell.execute_reply": "2020-11-08T22:02:29.430537Z",
     "shell.execute_reply.started": "2020-11-08T22:02:02.489458Z"
    }
   },
   "outputs": [
    {
     "name": "stdout",
     "output_type": "stream",
     "text": [
      "time spent doing operation is 0:00:26.937018\n"
     ]
    }
   ],
   "source": [
    "start_time = datetime.datetime.now()\n",
    "LD_AllocatorBR.fit(docTermMatrixCountVecBR)\n",
    "end_time = datetime.datetime.now()\n",
    "print(\"time spent doing operation is {}\".format(end_time - start_time))"
   ]
  },
  {
   "cell_type": "code",
   "execution_count": 447,
   "metadata": {
    "execution": {
     "iopub.execute_input": "2020-11-08T22:02:29.432587Z",
     "iopub.status.busy": "2020-11-08T22:02:29.432418Z",
     "iopub.status.idle": "2020-11-08T22:03:48.827023Z",
     "shell.execute_reply": "2020-11-08T22:03:48.826401Z",
     "shell.execute_reply.started": "2020-11-08T22:02:29.432566Z"
    }
   },
   "outputs": [
    {
     "name": "stdout",
     "output_type": "stream",
     "text": [
      "time spent doing operation is 0:01:19.389503\n"
     ]
    }
   ],
   "source": [
    "start_time = datetime.datetime.now()\n",
    "LD_AllocatorTFIDFGR.fit(docTermMatrixTFIDFGR)\n",
    "end_time = datetime.datetime.now()\n",
    "print(\"time spent doing operation is {}\".format(end_time - start_time))"
   ]
  },
  {
   "cell_type": "code",
   "execution_count": 448,
   "metadata": {
    "execution": {
     "iopub.execute_input": "2020-11-08T22:03:48.828159Z",
     "iopub.status.busy": "2020-11-08T22:03:48.827998Z",
     "iopub.status.idle": "2020-11-08T22:04:03.699352Z",
     "shell.execute_reply": "2020-11-08T22:04:03.698834Z",
     "shell.execute_reply.started": "2020-11-08T22:03:48.828138Z"
    }
   },
   "outputs": [
    {
     "name": "stdout",
     "output_type": "stream",
     "text": [
      "time spent doing operation is 0:00:14.867405\n"
     ]
    }
   ],
   "source": [
    "start_time = datetime.datetime.now()\n",
    "LD_AllocatorTFIDFBR.fit(docTermMatrixTFIDFBR)\n",
    "end_time = datetime.datetime.now()\n",
    "print(\"time spent doing operation is {}\".format(end_time - start_time))"
   ]
  },
  {
   "cell_type": "markdown",
   "metadata": {
    "execution": {
     "iopub.execute_input": "2020-11-07T20:14:14.762160Z",
     "iopub.status.busy": "2020-11-07T20:14:14.761860Z",
     "iopub.status.idle": "2020-11-07T20:14:14.765099Z",
     "shell.execute_reply": "2020-11-07T20:14:14.764481Z",
     "shell.execute_reply.started": "2020-11-07T20:14:14.762129Z"
    }
   },
   "source": [
    "# Analysis of Reviews\n",
    "\n",
    "We have vectorized and run it through LDA"
   ]
  },
  {
   "cell_type": "markdown",
   "metadata": {},
   "source": [
    "## Topics via LDA"
   ]
  },
  {
   "cell_type": "markdown",
   "metadata": {
    "execution": {
     "iopub.execute_input": "2020-11-03T22:20:31.145738Z",
     "iopub.status.busy": "2020-11-03T22:20:31.145545Z",
     "iopub.status.idle": "2020-11-03T22:20:31.162025Z",
     "shell.execute_reply": "2020-11-03T22:20:31.161379Z",
     "shell.execute_reply.started": "2020-11-03T22:20:31.145719Z"
    }
   },
   "source": [
    "## LDA on \"Good\" Reviews"
   ]
  },
  {
   "cell_type": "code",
   "execution_count": 449,
   "metadata": {
    "execution": {
     "iopub.execute_input": "2020-11-08T22:04:03.700326Z",
     "iopub.status.busy": "2020-11-08T22:04:03.700175Z",
     "iopub.status.idle": "2020-11-08T22:04:03.702660Z",
     "shell.execute_reply": "2020-11-08T22:04:03.702195Z",
     "shell.execute_reply.started": "2020-11-08T22:04:03.700306Z"
    }
   },
   "outputs": [],
   "source": [
    "#import pyLDAvis\n",
    "#import pyLDAvis.sklearn"
   ]
  },
  {
   "cell_type": "code",
   "execution_count": 450,
   "metadata": {
    "execution": {
     "iopub.execute_input": "2020-11-08T22:04:03.703605Z",
     "iopub.status.busy": "2020-11-08T22:04:03.703458Z",
     "iopub.status.idle": "2020-11-08T22:04:03.723522Z",
     "shell.execute_reply": "2020-11-08T22:04:03.722825Z",
     "shell.execute_reply.started": "2020-11-08T22:04:03.703586Z"
    }
   },
   "outputs": [],
   "source": [
    "#pyLDAvis.enable_notebook()\n",
    "#pyLDAvis.sklearn.prepare(LD_AllocatorGR, docTermMatrixCountVecGR, vectorizer_gr)"
   ]
  },
  {
   "cell_type": "code",
   "execution_count": 451,
   "metadata": {
    "execution": {
     "iopub.execute_input": "2020-11-08T22:04:03.724768Z",
     "iopub.status.busy": "2020-11-08T22:04:03.724558Z",
     "iopub.status.idle": "2020-11-08T22:04:03.732685Z",
     "shell.execute_reply": "2020-11-08T22:04:03.732053Z",
     "shell.execute_reply.started": "2020-11-08T22:04:03.724740Z"
    }
   },
   "outputs": [],
   "source": [
    "#pyLDAvis.enable_notebook()\n",
    "#pyLDAvis.sklearn.prepare(LD_AllocatorBR, docTermMatrixCountVecBR, vectorizer_br)"
   ]
  },
  {
   "cell_type": "markdown",
   "metadata": {},
   "source": [
    "Looking at these results (especially topic2 in the BR) that analyzing bi-grams would yields even more interpretable results. If I can get visualizations down I may opt to do bi=gram analysis or just put it in the to-do list"
   ]
  },
  {
   "cell_type": "code",
   "execution_count": 452,
   "metadata": {
    "execution": {
     "iopub.execute_input": "2020-11-08T22:04:03.733847Z",
     "iopub.status.busy": "2020-11-08T22:04:03.733643Z",
     "iopub.status.idle": "2020-11-08T22:04:03.764242Z",
     "shell.execute_reply": "2020-11-08T22:04:03.763580Z",
     "shell.execute_reply.started": "2020-11-08T22:04:03.733821Z"
    }
   },
   "outputs": [],
   "source": [
    "def display_topics(model, feature_names, no_top_words, topic_names=None):\n",
    "    for ix, topic in enumerate(model.components_):\n",
    "        if not topic_names or not topic_names[ix]:\n",
    "            print(\"\\nTopic \", ix)\n",
    "        else:\n",
    "            print(\"\\nTopic: '\",topic_names[ix],\"'\")\n",
    "        print(\", \".join([feature_names[i]\n",
    "                        for i in topic.argsort()[:-no_top_words - 1:-1]]))"
   ]
  },
  {
   "cell_type": "markdown",
   "metadata": {},
   "source": [
    "**TODO** You are picking the TFIDF vectorizer over the countvectorizer. Talk about why you are doing that."
   ]
  },
  {
   "cell_type": "code",
   "execution_count": 474,
   "metadata": {
    "execution": {
     "iopub.execute_input": "2020-11-08T23:26:07.736558Z",
     "iopub.status.busy": "2020-11-08T23:26:07.736255Z",
     "iopub.status.idle": "2020-11-08T23:26:07.740065Z",
     "shell.execute_reply": "2020-11-08T23:26:07.739126Z",
     "shell.execute_reply.started": "2020-11-08T23:26:07.736529Z"
    }
   },
   "outputs": [],
   "source": [
    "#display_topics(LD_AllocatorGR, vectorizer_gr.get_feature_names(),10)"
   ]
  },
  {
   "cell_type": "markdown",
   "metadata": {},
   "source": [
    "```\n",
    "Topic  0\n",
    "candy, like, taste, ginger, flavor, color, organic, good, product, licorice\n",
    "\n",
    "Topic  1\n",
    "tea, green, flavor, drink, taste, like, good, black, try, cup\n",
    "\n",
    "Topic  2\n",
    "oil, coconut, product, use, great, olive, good, quality, price, taste\n",
    "\n",
    "Topic  3\n",
    "food, cat, eat, dry, like, try, diet, good, weight, just\n",
    "\n",
    "Topic  4\n",
    "sugar, honey, like, taste, oatmeal, cinnamon, cracker, flavor, use, sweet\n",
    "\n",
    "Topic  5\n",
    "make, mix, free, gluten, use, bread, flour, bake, good, great\n",
    "\n",
    "Topic  6\n",
    "dog, food, treat, love, old, formula, good, like, small, eat\n",
    "\n",
    "Topic  7\n",
    "coffee, cup, good, like, taste, flavor, roast, try, strong, blend\n",
    "\n",
    "Topic  8\n",
    "sauce, like, good, flavor, use, hot, chicken, taste, make, try\n",
    "\n",
    "Topic  9\n",
    "use, work, make, hair, product, just, easy, plastic, time, like\n",
    "\n",
    "Topic  10\n",
    "butter, peanut, like, taste, powder, protein, bread, good, just, try\n",
    "\n",
    "Topic  11\n",
    "store, buy, local, day, price, time, grocery, try, just, work\n",
    "\n",
    "Topic  12\n",
    "flavor, love, coffee, try, great, vanilla, like, good, taste, best\n",
    "\n",
    "Topic  13\n",
    "rice, fat, low, high, protein, fiber, good, organic, sugar, product\n",
    "\n",
    "Topic  14\n",
    "water, add, make, use, little, just, cook, mix, cup, time\n",
    "\n",
    "Topic  15\n",
    "drink, water, taste, like, good, juice, try, flavor, energy, just\n",
    "\n",
    "Topic  16\n",
    "order, product, price, great, buy, good, box, time, shipping, ship\n",
    "\n",
    "Topic  17\n",
    "like, eat, just, good, taste, chip, bag, snack, popcorn, love\n",
    "\n",
    "Topic  18\n",
    "chocolate, bar, like, dark, taste, sweet, milk, gum, flavor, cocoa\n",
    "\n",
    "Topic  19\n",
    "eat, cereal, salt, good, great, love, breakfast, fruit, taste, healthy\n",
    "```"
   ]
  },
  {
   "cell_type": "code",
   "execution_count": 473,
   "metadata": {
    "execution": {
     "iopub.execute_input": "2020-11-08T23:24:50.688019Z",
     "iopub.status.busy": "2020-11-08T23:24:50.687694Z",
     "iopub.status.idle": "2020-11-08T23:24:50.745884Z",
     "shell.execute_reply": "2020-11-08T23:24:50.745025Z",
     "shell.execute_reply.started": "2020-11-08T23:24:50.687987Z"
    }
   },
   "outputs": [
    {
     "name": "stdout",
     "output_type": "stream",
     "text": [
      "\n",
      "Topic  0\n",
      "candy, ginger, licorice, like, good, taste, flavor, love, just, great\n",
      "\n",
      "Topic  1\n",
      "tea, green, drink, flavor, taste, good, like, chai, great, love\n",
      "\n",
      "Topic  2\n",
      "salt, oil, olive, formula, use, baby, good, sea, great, product\n",
      "\n",
      "Topic  3\n",
      "food, cat, dog, eat, dry, love, pet, old, feed, like\n",
      "\n",
      "Topic  4\n",
      "cracker, cheese, oatmeal, soup, good, like, great, eat, taste, honey\n",
      "\n",
      "Topic  5\n",
      "gluten, free, make, mix, cake, use, good, syrup, vanilla, great\n",
      "\n",
      "Topic  6\n",
      "dog, food, treat, love, eat, small, teeth, chew, old, good\n",
      "\n",
      "Topic  7\n",
      "coffee, cup, good, flavor, taste, try, best, roast, great, like\n",
      "\n",
      "Topic  8\n",
      "sauce, use, chicken, add, make, hot, good, like, flavor, great\n",
      "\n",
      "Topic  9\n",
      "hair, coconut, oil, use, skin, product, work, shampoo, smell, great\n",
      "\n",
      "Topic  10\n",
      "butter, peanut, bread, flour, wheat, good, great, use, make, like\n",
      "\n",
      "Topic  11\n",
      "coffee, use, cup, plastic, good, bag, great, machine, price, work\n",
      "\n",
      "Topic  12\n",
      "protein, milk, raw, hemp, powder, almond, seed, great, flax, good\n",
      "\n",
      "Topic  13\n",
      "cereal, snack, eat, good, great, rice, like, taste, healthy, sugar\n",
      "\n",
      "Topic  14\n",
      "plant, grow, tree, bonsai, kit, beer, grass, come, great, good\n",
      "\n",
      "Topic  15\n",
      "drink, water, taste, like, sugar, energy, juice, good, product, try\n",
      "\n",
      "Topic  16\n",
      "order, product, price, great, buy, good, gift, shipping, time, ship\n",
      "\n",
      "Topic  17\n",
      "popcorn, chip, like, good, bag, salt, great, taste, eat, potato\n",
      "\n",
      "Topic  18\n",
      "chocolate, dark, gum, flavor, cocoa, coffee, like, taste, good, try\n",
      "\n",
      "Topic  19\n",
      "tuna, salmon, good, great, like, eat, fish, noodle, taste, just\n"
     ]
    }
   ],
   "source": [
    "display_topics(LD_AllocatorTFIDFGR, tfidfvectorizer_gr.get_feature_names(),10)"
   ]
  },
  {
   "cell_type": "code",
   "execution_count": 483,
   "metadata": {
    "execution": {
     "iopub.execute_input": "2020-11-08T23:41:49.079706Z",
     "iopub.status.busy": "2020-11-08T23:41:49.079423Z",
     "iopub.status.idle": "2020-11-08T23:41:49.082930Z",
     "shell.execute_reply": "2020-11-08T23:41:49.082204Z",
     "shell.execute_reply.started": "2020-11-08T23:41:49.079676Z"
    }
   },
   "outputs": [],
   "source": [
    "#display_topics(LD_AllocatorBR, vectorizer_br.get_feature_names(),10)"
   ]
  },
  {
   "cell_type": "markdown",
   "metadata": {},
   "source": [
    "```\n",
    "Topic  0\n",
    "price, buy, store, food, local, product, good, grocery, old, pay\n",
    "\n",
    "Topic  1\n",
    "chocolate, butter, bar, peanut, like, syrup, taste, cocoa, milk, flavor\n",
    "\n",
    "Topic  2\n",
    "bag, popcorn, day, just, come, plant, good, plastic, think, grow\n",
    "\n",
    "Topic  3\n",
    "eat, food, cat, just, tuna, litter, fish, try, salmon, good\n",
    "\n",
    "Topic  4\n",
    "order, product, company, receive, send, customer, time, service, say, use\n",
    "\n",
    "Topic  5\n",
    "product, list, organic, sugar, make, ingredient, corn, fat, high, label\n",
    "\n",
    "Topic  6\n",
    "drink, use, product, hair, try, work, energy, time, day, just\n",
    "\n",
    "Topic  7\n",
    "money, waste, use, make, try, buy, mix, like, bread, product\n",
    "\n",
    "Topic  8\n",
    "taste, like, flavor, water, drink, juice, try, just, coconut, artificial\n",
    "\n",
    "Topic  9\n",
    "sauce, taste, like, rice, good, just, flavor, try, hot, make\n",
    "\n",
    "Topic  10\n",
    "tea, green, flavor, taste, like, drink, vanilla, good, try, just\n",
    "\n",
    "Topic  11\n",
    "oil, gift, red, olive, basket, use, buy, make, good, just\n",
    "\n",
    "Topic  12\n",
    "coffee, cup, like, taste, good, flavor, try, just, buy, make\n",
    "\n",
    "Topic  13\n",
    "dog, food, make, chicken, eat, jerky, product, treat, meat, pet\n",
    "\n",
    "Topic  14\n",
    "salt, soup, candy, like, just, salty, box, eat, buy, taste\n",
    "\n",
    "Topic  15\n",
    "taste, like, sugar, good, sweet, just, buy, product, try, cereal\n",
    "\n",
    "Topic  16\n",
    "order, box, product, receive, item, ship, package, return, date, buy\n",
    "\n",
    "Topic  17\n",
    "like, taste, try, bad, smell, eat, just, good, chip, really\n",
    "\n",
    "Topic  18\n",
    "flavor, gum, like, product, just, cinnamon, good, chew, try, really\n",
    "\n",
    "Topic  19\n",
    "water, bottle, free, gluten, product, use, flour, milk, wheat, make\n",
    "```"
   ]
  },
  {
   "cell_type": "code",
   "execution_count": 484,
   "metadata": {
    "execution": {
     "iopub.execute_input": "2020-11-08T23:42:43.239730Z",
     "iopub.status.busy": "2020-11-08T23:42:43.239428Z",
     "iopub.status.idle": "2020-11-08T23:42:43.278414Z",
     "shell.execute_reply": "2020-11-08T23:42:43.277690Z",
     "shell.execute_reply.started": "2020-11-08T23:42:43.239700Z"
    }
   },
   "outputs": [
    {
     "name": "stdout",
     "output_type": "stream",
     "text": [
      "\n",
      "Topic  0\n",
      "price, store, buy, local, product, grocery, pay, good, just, food\n",
      "\n",
      "Topic  1\n",
      "chocolate, peanut, butter, cocoa, taste, like, bar, hot, dark, flavor\n",
      "\n",
      "Topic  2\n",
      "popcorn, gas, vita, coco, pop, station, mate, taste, like, good\n",
      "\n",
      "Topic  3\n",
      "gum, xylitol, rip, product, jasmine, pack, good, flavor, tea, buy\n",
      "\n",
      "Topic  4\n",
      "garlic, salt, product, color, yeast, use, buy, good, like, powder\n",
      "\n",
      "Topic  5\n",
      "taste, like, sugar, product, good, eat, make, salt, try, just\n",
      "\n",
      "Topic  6\n",
      "tea, chai, hair, taste, like, pumpkin, spice, cinnamon, flavor, use\n",
      "\n",
      "Topic  7\n",
      "bully, tree, club, stick, sprout, plant, kit, chia, tall, cow\n",
      "\n",
      "Topic  8\n",
      "juice, taste, like, drink, flavor, water, product, fruit, oil, good\n",
      "\n",
      "Topic  9\n",
      "rice, food, eat, formula, like, dog, product, try, just, good\n",
      "\n",
      "Topic  10\n",
      "taste, like, flavor, coconut, tea, vanilla, try, water, just, bad\n",
      "\n",
      "Topic  11\n",
      "tea, green, licorice, grey, leaf, earl, taste, like, loose, flavor\n",
      "\n",
      "Topic  12\n",
      "coffee, cup, taste, like, flavor, good, try, roast, buy, just\n",
      "\n",
      "Topic  13\n",
      "dog, china, jerky, make, food, product, chicken, beef, buy, eat\n",
      "\n",
      "Topic  14\n",
      "taste, like, ginger, eat, try, buy, just, beer, flavor, root\n",
      "\n",
      "Topic  15\n",
      "taste, like, flavor, try, good, fruit, just, honey, buy, sweet\n",
      "\n",
      "Topic  16\n",
      "order, product, receive, box, item, ship, send, date, buy, time\n",
      "\n",
      "Topic  17\n",
      "like, dog, taste, sauce, try, eat, just, soup, good, buy\n",
      "\n",
      "Topic  18\n",
      "pill, work, gusto, fondant, spray, liking, hose, product, candle, detect\n",
      "\n",
      "Topic  19\n",
      "food, dog, eat, day, product, gluten, time, free, cat, make\n"
     ]
    }
   ],
   "source": [
    "display_topics(LD_AllocatorTFIDFBR, tfidfvectorizer_br.get_feature_names(),10)"
   ]
  },
  {
   "cell_type": "markdown",
   "metadata": {
    "execution": {
     "iopub.execute_input": "2020-11-08T01:28:37.462083Z",
     "iopub.status.busy": "2020-11-08T01:28:37.461811Z",
     "iopub.status.idle": "2020-11-08T01:28:37.465299Z",
     "shell.execute_reply": "2020-11-08T01:28:37.464550Z",
     "shell.execute_reply.started": "2020-11-08T01:28:37.462055Z"
    }
   },
   "source": [
    "## Visualization of Reviews"
   ]
  },
  {
   "cell_type": "markdown",
   "metadata": {
    "execution": {
     "iopub.execute_input": "2020-11-08T01:28:45.255341Z",
     "iopub.status.busy": "2020-11-08T01:28:45.255068Z",
     "iopub.status.idle": "2020-11-08T01:28:45.258458Z",
     "shell.execute_reply": "2020-11-08T01:28:45.257727Z",
     "shell.execute_reply.started": "2020-11-08T01:28:45.255312Z"
    }
   },
   "source": [
    "### PCA"
   ]
  },
  {
   "cell_type": "markdown",
   "metadata": {
    "execution": {
     "iopub.execute_input": "2020-11-08T01:30:59.852266Z",
     "iopub.status.busy": "2020-11-08T01:30:59.851997Z",
     "iopub.status.idle": "2020-11-08T01:30:59.855476Z",
     "shell.execute_reply": "2020-11-08T01:30:59.854681Z",
     "shell.execute_reply.started": "2020-11-08T01:30:59.852238Z"
    }
   },
   "source": [
    "#### Good Reviews\n",
    "First let's check the quality of results of the topic generation by finding the reviews that scored best in the `docTopicMatrixGF_df`"
   ]
  },
  {
   "cell_type": "code",
   "execution_count": null,
   "metadata": {},
   "outputs": [],
   "source": []
  },
  {
   "cell_type": "code",
   "execution_count": 476,
   "metadata": {
    "execution": {
     "iopub.execute_input": "2020-11-08T23:37:27.328444Z",
     "iopub.status.busy": "2020-11-08T23:37:27.328161Z",
     "iopub.status.idle": "2020-11-08T23:37:27.331642Z",
     "shell.execute_reply": "2020-11-08T23:37:27.330876Z",
     "shell.execute_reply.started": "2020-11-08T23:37:27.328414Z"
    }
   },
   "outputs": [],
   "source": [
    "#docTopicMatrixGR = LD_AllocatorGR.transform(docTermMatrixCountVecGR)"
   ]
  },
  {
   "cell_type": "code",
   "execution_count": 477,
   "metadata": {
    "execution": {
     "iopub.execute_input": "2020-11-08T23:37:27.928498Z",
     "iopub.status.busy": "2020-11-08T23:37:27.928212Z",
     "iopub.status.idle": "2020-11-08T23:37:45.245536Z",
     "shell.execute_reply": "2020-11-08T23:37:45.244660Z",
     "shell.execute_reply.started": "2020-11-08T23:37:27.928469Z"
    }
   },
   "outputs": [],
   "source": [
    "docTopicMatrixGR = LD_AllocatorTFIDFGR.transform(docTermMatrixTFIDFGR)\n",
    "\n",
    "#LD_AllocatorTFIDFGR = LatentDirichletAllocation(n_components=20, random_state=0,n_jobs=8)\n",
    "#LD_AllocatorTFIDFBR = LatentDirichletAllocation(n_components=20, random_state=0,n_jobs=8)"
   ]
  },
  {
   "cell_type": "code",
   "execution_count": 478,
   "metadata": {
    "execution": {
     "iopub.execute_input": "2020-11-08T23:37:47.436277Z",
     "iopub.status.busy": "2020-11-08T23:37:47.435988Z",
     "iopub.status.idle": "2020-11-08T23:37:47.499052Z",
     "shell.execute_reply": "2020-11-08T23:37:47.498406Z",
     "shell.execute_reply.started": "2020-11-08T23:37:47.436246Z"
    }
   },
   "outputs": [
    {
     "data": {
      "text/plain": [
       "(152586, 20)"
      ]
     },
     "execution_count": 478,
     "metadata": {},
     "output_type": "execute_result"
    }
   ],
   "source": [
    "docTopicMatrixGR_df = pd.DataFrame(docTopicMatrixGR).add_prefix(\"topic_\")\n",
    "docTopicMatrixGR_df.shape"
   ]
  },
  {
   "cell_type": "code",
   "execution_count": 577,
   "metadata": {
    "execution": {
     "iopub.execute_input": "2020-11-09T04:43:13.799109Z",
     "iopub.status.busy": "2020-11-09T04:43:13.798841Z",
     "iopub.status.idle": "2020-11-09T04:43:13.903107Z",
     "shell.execute_reply": "2020-11-09T04:43:13.902407Z",
     "shell.execute_reply.started": "2020-11-09T04:43:13.799080Z"
    }
   },
   "outputs": [
    {
     "data": {
      "text/html": [
       "<div>\n",
       "<style scoped>\n",
       "    .dataframe tbody tr th:only-of-type {\n",
       "        vertical-align: middle;\n",
       "    }\n",
       "\n",
       "    .dataframe tbody tr th {\n",
       "        vertical-align: top;\n",
       "    }\n",
       "\n",
       "    .dataframe thead th {\n",
       "        text-align: right;\n",
       "    }\n",
       "</style>\n",
       "<table border=\"1\" class=\"dataframe\">\n",
       "  <thead>\n",
       "    <tr style=\"text-align: right;\">\n",
       "      <th></th>\n",
       "      <th>topic_0</th>\n",
       "      <th>topic_1</th>\n",
       "      <th>topic_2</th>\n",
       "      <th>topic_3</th>\n",
       "      <th>topic_4</th>\n",
       "      <th>topic_5</th>\n",
       "      <th>topic_6</th>\n",
       "      <th>topic_7</th>\n",
       "      <th>topic_8</th>\n",
       "      <th>topic_9</th>\n",
       "      <th>...</th>\n",
       "      <th>topic_14</th>\n",
       "      <th>topic_15</th>\n",
       "      <th>topic_16</th>\n",
       "      <th>topic_17</th>\n",
       "      <th>topic_18</th>\n",
       "      <th>topic_19</th>\n",
       "      <th>Summary</th>\n",
       "      <th>ProcessedText</th>\n",
       "      <th>Text</th>\n",
       "      <th>Score</th>\n",
       "    </tr>\n",
       "  </thead>\n",
       "  <tbody>\n",
       "    <tr>\n",
       "      <th>0</th>\n",
       "      <td>0.012708</td>\n",
       "      <td>0.012708</td>\n",
       "      <td>0.012708</td>\n",
       "      <td>0.012708</td>\n",
       "      <td>0.012708</td>\n",
       "      <td>0.012708</td>\n",
       "      <td>0.758557</td>\n",
       "      <td>0.012708</td>\n",
       "      <td>0.012708</td>\n",
       "      <td>0.012708</td>\n",
       "      <td>...</td>\n",
       "      <td>0.012708</td>\n",
       "      <td>0.012708</td>\n",
       "      <td>0.012708</td>\n",
       "      <td>0.012708</td>\n",
       "      <td>0.012708</td>\n",
       "      <td>0.012708</td>\n",
       "      <td>Good Quality Dog Food</td>\n",
       "      <td>i have buy several of the vitality can dog foo...</td>\n",
       "      <td>I have bought several of the Vitality canned d...</td>\n",
       "      <td>5</td>\n",
       "    </tr>\n",
       "    <tr>\n",
       "      <th>1</th>\n",
       "      <td>0.008879</td>\n",
       "      <td>0.008879</td>\n",
       "      <td>0.008879</td>\n",
       "      <td>0.008879</td>\n",
       "      <td>0.008879</td>\n",
       "      <td>0.008879</td>\n",
       "      <td>0.008879</td>\n",
       "      <td>0.008879</td>\n",
       "      <td>0.245872</td>\n",
       "      <td>0.008879</td>\n",
       "      <td>...</td>\n",
       "      <td>0.008879</td>\n",
       "      <td>0.008879</td>\n",
       "      <td>0.254062</td>\n",
       "      <td>0.008879</td>\n",
       "      <td>0.349117</td>\n",
       "      <td>0.008879</td>\n",
       "      <td>\"Delight\" says it all</td>\n",
       "      <td>this be a confection that be around a few it b...</td>\n",
       "      <td>This is a confection that has been around a fe...</td>\n",
       "      <td>4</td>\n",
       "    </tr>\n",
       "    <tr>\n",
       "      <th>2</th>\n",
       "      <td>0.013927</td>\n",
       "      <td>0.013927</td>\n",
       "      <td>0.013927</td>\n",
       "      <td>0.013927</td>\n",
       "      <td>0.013927</td>\n",
       "      <td>0.013927</td>\n",
       "      <td>0.013927</td>\n",
       "      <td>0.013927</td>\n",
       "      <td>0.013927</td>\n",
       "      <td>0.013927</td>\n",
       "      <td>...</td>\n",
       "      <td>0.523843</td>\n",
       "      <td>0.013927</td>\n",
       "      <td>0.013927</td>\n",
       "      <td>0.013927</td>\n",
       "      <td>0.013927</td>\n",
       "      <td>0.013927</td>\n",
       "      <td>Yay Barley</td>\n",
       "      <td>right now mostly just sprout this so my can ea...</td>\n",
       "      <td>Right now I'm mostly just sprouting this so my...</td>\n",
       "      <td>5</td>\n",
       "    </tr>\n",
       "    <tr>\n",
       "      <th>3</th>\n",
       "      <td>0.007859</td>\n",
       "      <td>0.070167</td>\n",
       "      <td>0.007859</td>\n",
       "      <td>0.007859</td>\n",
       "      <td>0.007859</td>\n",
       "      <td>0.007859</td>\n",
       "      <td>0.007859</td>\n",
       "      <td>0.007859</td>\n",
       "      <td>0.514030</td>\n",
       "      <td>0.007859</td>\n",
       "      <td>...</td>\n",
       "      <td>0.007859</td>\n",
       "      <td>0.282195</td>\n",
       "      <td>0.007859</td>\n",
       "      <td>0.007859</td>\n",
       "      <td>0.007859</td>\n",
       "      <td>0.007859</td>\n",
       "      <td>The Best Hot Sauce in the World</td>\n",
       "      <td>i know if the or the tequila or just the uniqu...</td>\n",
       "      <td>I don't know if it's the cactus or the tequila...</td>\n",
       "      <td>5</td>\n",
       "    </tr>\n",
       "    <tr>\n",
       "      <th>4</th>\n",
       "      <td>0.011442</td>\n",
       "      <td>0.011442</td>\n",
       "      <td>0.011442</td>\n",
       "      <td>0.782595</td>\n",
       "      <td>0.011442</td>\n",
       "      <td>0.011442</td>\n",
       "      <td>0.011442</td>\n",
       "      <td>0.011442</td>\n",
       "      <td>0.011442</td>\n",
       "      <td>0.011442</td>\n",
       "      <td>...</td>\n",
       "      <td>0.011442</td>\n",
       "      <td>0.011442</td>\n",
       "      <td>0.011442</td>\n",
       "      <td>0.011442</td>\n",
       "      <td>0.011442</td>\n",
       "      <td>0.011442</td>\n",
       "      <td>My cats LOVE this \"diet\" food better than thei...</td>\n",
       "      <td>one of my to lose some weight and the other i ...</td>\n",
       "      <td>One of my boys needed to lose some weight and ...</td>\n",
       "      <td>5</td>\n",
       "    </tr>\n",
       "  </tbody>\n",
       "</table>\n",
       "<p>5 rows × 24 columns</p>\n",
       "</div>"
      ],
      "text/plain": [
       "    topic_0   topic_1   topic_2   topic_3   topic_4   topic_5   topic_6  \\\n",
       "0  0.012708  0.012708  0.012708  0.012708  0.012708  0.012708  0.758557   \n",
       "1  0.008879  0.008879  0.008879  0.008879  0.008879  0.008879  0.008879   \n",
       "2  0.013927  0.013927  0.013927  0.013927  0.013927  0.013927  0.013927   \n",
       "3  0.007859  0.070167  0.007859  0.007859  0.007859  0.007859  0.007859   \n",
       "4  0.011442  0.011442  0.011442  0.782595  0.011442  0.011442  0.011442   \n",
       "\n",
       "    topic_7   topic_8   topic_9  ...  topic_14  topic_15  topic_16  topic_17  \\\n",
       "0  0.012708  0.012708  0.012708  ...  0.012708  0.012708  0.012708  0.012708   \n",
       "1  0.008879  0.245872  0.008879  ...  0.008879  0.008879  0.254062  0.008879   \n",
       "2  0.013927  0.013927  0.013927  ...  0.523843  0.013927  0.013927  0.013927   \n",
       "3  0.007859  0.514030  0.007859  ...  0.007859  0.282195  0.007859  0.007859   \n",
       "4  0.011442  0.011442  0.011442  ...  0.011442  0.011442  0.011442  0.011442   \n",
       "\n",
       "   topic_18  topic_19                                            Summary  \\\n",
       "0  0.012708  0.012708                              Good Quality Dog Food   \n",
       "1  0.349117  0.008879                              \"Delight\" says it all   \n",
       "2  0.013927  0.013927                                         Yay Barley   \n",
       "3  0.007859  0.007859                    The Best Hot Sauce in the World   \n",
       "4  0.011442  0.011442  My cats LOVE this \"diet\" food better than thei...   \n",
       "\n",
       "                                       ProcessedText  \\\n",
       "0  i have buy several of the vitality can dog foo...   \n",
       "1  this be a confection that be around a few it b...   \n",
       "2  right now mostly just sprout this so my can ea...   \n",
       "3  i know if the or the tequila or just the uniqu...   \n",
       "4  one of my to lose some weight and the other i ...   \n",
       "\n",
       "                                                Text  Score  \n",
       "0  I have bought several of the Vitality canned d...      5  \n",
       "1  This is a confection that has been around a fe...      4  \n",
       "2  Right now I'm mostly just sprouting this so my...      5  \n",
       "3  I don't know if it's the cactus or the tequila...      5  \n",
       "4  One of my boys needed to lose some weight and ...      5  \n",
       "\n",
       "[5 rows x 24 columns]"
      ]
     },
     "execution_count": 577,
     "metadata": {},
     "output_type": "execute_result"
    }
   ],
   "source": [
    "docTopicMatrixGR_df[[\"Summary\",\"ProcessedText\",\"Text\",\"Score\"]] = good_reviews_df[[\"Summary\",\"ProcessedText\",\"Text\",\"Score\"]]\n",
    "docTopicMatrixGR_df.head()"
   ]
  },
  {
   "cell_type": "code",
   "execution_count": 598,
   "metadata": {
    "execution": {
     "iopub.execute_input": "2020-11-09T05:42:54.710523Z",
     "iopub.status.busy": "2020-11-09T05:42:54.710257Z",
     "iopub.status.idle": "2020-11-09T05:42:54.774049Z",
     "shell.execute_reply": "2020-11-09T05:42:54.773486Z",
     "shell.execute_reply.started": "2020-11-09T05:42:54.710495Z"
    }
   },
   "outputs": [
    {
     "name": "stdout",
     "output_type": "stream",
     "text": [
      "['I Absolutely Love It' 5\n",
      " 'This is most definitely my favorite regular coffee K-cup (at this time).  I would agree with their text that states complex and perfectly blended.  The claim is that this is a premium line for those who expect a premium coffee more like a coffee shop.  I tend to agree, except you just don\\'t get as much per cup.  I absolutely love the house blend, which matches my preference for medium or medium-dark house blend roasts from coffee shops, but not the very dark roast of Starbucks.  I really feel this is a complex blend that has well more than one note.  Most importantly, it doesn\\'t taste burnt like a dark french roast.<br /><br />I have tried so many K-cup flavors, most of which I liked at varied degrees with a few exceptions, but this one is currently my favorite.  What is nice about K-cups is you can easy switch blends per cup or over time without having to exhaust a whole bag of beans or grounds before moving on.  And preferences change as you have the same day in and day out.  So I can say that at present, I absolutely love it over previous favorites (of non-flavored) which in descending order of current preference are: <a href=\"http://www.amazon.com/gp/product/B003VXHGPK\">Wolfgang Puck Chef\\'s Reserve Colombian</a>, <a href=\"http://www.amazon.com/gp/product/B001CHFUDC\">Coffee People Donut Shop Medium Roast</a>, <a href=\"http://www.amazon.com/gp/product/B004779XNW\">Green Mountain Dark Magic</a>, <a href=\"http://www.amazon.com/gp/product/B0045IO37Y\">Emeril\\'s Big Easy Bold</a>, <a href=\"http://www.amazon.com/gp/product/B000X1GFN2\">Caribou</a>, and a number of other decent ones.  I am just saying I prefer this over those right now.  But I will still have the others for variety.  Within this variety, I really like the <a href=\"http://www.amazon.com/gp/product/B004OLIL6Q\">Barista Prima Colombia</a> second and ahead of the rest.<br /><br />The Barista Prima tends to be more expensive, and depending on the sale price, can be only a little more expensive than other varieties.  For a little bit more, it is worth it to me.  For a lot more, maybe not.  Paying about 12% more yields about 30% more in value in flavor to me.  But paying 50% more is costly when there other flavors are plenty good too.'] \n",
      "\n",
      "['Best all-around bean' 5\n",
      " \"This is an exceptional bean for any coffee drinker. It is easily the best price fair trade and organic option on the market, unless you want something flavorless.<br /><br />I primarily make espresso and this bean puts all others to shame. It takes an average-fineness grind, fine but not powdery, and preferably a HOT portafilter. Double shots are best, as it really needs to heat up to get a fine emulsion and delivers excellent crema. Fantastic as espresso, with rich chocolatey notes and a superbly smooth feel. My wife, who enjoys cream and sugar with a bit of coffee, loves this in a latte with 1 part espresso and only 2 parts milk (usual latte is about 1 to 6). After using this for the past few months, when travelling and stopping at Starbucks or Caribou, it's disgusting to drink what used to pass for good coffee. This is the best bean you could ever want.<br /><br />On occassion, I've also brewed using a French press and, naturally, the result was fabulous. I usually find brewed coffee quite lacking in body and flavor, but this was rich, flavorful, and absent of acidity. I actually found it to taste best after steeping for 10-15 minutes, much longer than called for.<br /><br />Obviously this is for people who really love strong coffee. It is a dark, dark roast but the balance of body and acidity makes it a versatile option for the skilled barista.<br /><br />Still yet to check out the 454 Horespower roast, could be even better, but can't compare to the great value of Kick Ass. If you're bothering to look at this bean, then go ahead and buy it. You won't be disapointed.\"] \n",
      "\n",
      "['Love this coffee, and ordering it on Amazon is a blast!' 5\n",
      " 'I originally left this review on the 3-pack of the larger tubs, but I didn\\'t order since it was so pricey here on Amazon. Well, I did a price comparison with this pack, and this turned out to be a much better deal per ounce, so I went ahead and ordered it. I love having it delivered straight to the house!<br /><br />I have to say, Folgers Simply Smooth has been the ideal coffee for me. For starters, it does seem to be far easier on my stomach; many other coffees leave my stomach growling/turning, and other undesireable effects. For many, its not the caffeine that causes upset stomachs, but rather just many of the other irritants associated with coffee. For those that don\\'t have those issues, kudos, you can probably buy similar coffee a lot cheaper.<br /><br />As for the taste, I personally think its great. Its not \"bold\", but just right. It doesn\\'t have high hints of bitterness, which I personally associate with bad coffee, others may think is good. I\\'d say if you\\'re looking for a taste comparison, its close to McDonalds. Then again, I prefer my coffee on the sweet side, and this I don\\'t have to drown out with creamer, but its also not as watery tasting as many of the \"mild\" brands. Again, just right for my tastes. I personally recommend combining it with International Delight\\'s Carmel Macchiato, it really tastes like a coffee house drink, with a fraction of the calories and cost.<br /><br />Now the one downside is the cost/availability. Often, this is double the cost of the regular brew. They also tend to only stock the smaller bins in many retail stores. So, its up to you if its worth the cost. Here on Amazon I think the six pack is a pretty good deal at the moment, better than what I would pay in stores.<br /><br />So, if you\\'re like me, and have any sort of stomach issues associated with coffee, but love coffee, this is probably the product for you. If you\\'re merely looking for a mild coffee, this one has a great taste, better than most mild blends, but the cost probably isn\\'t justified. Keep in mind, this is not decaffinated, they sell a version of simply smooth that is, but I personally like the caffeine to get me going, which is not what upsets my stomach.'] \n",
      "\n",
      "['Top of the Line K-Cup' 5\n",
      " 'I really love this k-cup.  It is my second favorite regular coffee K-cup (at this time), second only to the <a href=\"http://www.amazon.com/gp/product/B004OLILAW\">Barista Prima House Blend</a>.  I agree with their text that states a more complex flavor.  The claim is that this is a premium line for those who expect a premium coffee more like a coffee shop.  I tend to agree, except you just don\\'t get as much per cup.  I love the colombian blend flavor as variety to mix in between the house blend, which I absolutely love most.  The house blend is a very blended flavor without one note overpowering the others.  For a change, I like the stronger note that the colombia blend offers.  Both match my preference for medium or medium-dark house blend roasts from coffee shops, but not the very dark roast of Starbucks.  I really feel this is a complex blend that has well more than one note, but a slightly stronger note associate with colombia blends.  Most importantly, it doesn\\'t taste burnt like a dark french roast.<br /><br />I have tried so many K-cup flavors, most of which I liked at varied degrees with a few exceptions, but this one is currently my second favorite (second to the <a href=\"http://www.amazon.com/gp/product/B004OLILAW\">Barista Prima House Blend</a> in the same variety).  What is nice about K-cups is you can easy switch blends per cup or over time without having to exhaust a whole bag of beans or grounds before moving on.  And preferences change as you have the same day in and day out.  So I can say that at present, I love it over previous favorites (of non-flavored) which in descending order of current preference are: <a href=\"http://www.amazon.com/gp/product/B003VXHGPK\">Wolfgang Puck Chef\\'s Reserve Colombian</a>, <a href=\"http://www.amazon.com/gp/product/B001CHFUDC\">Coffee People Donut Shop Medium Roast</a>, <a href=\"http://www.amazon.com/gp/product/B004779XNW\">Green Mountain Dark Magic</a>, <a href=\"http://www.amazon.com/gp/product/B0045IO37Y\">Emeril\\'s Big Easy Bold</a>, <a href=\"http://www.amazon.com/gp/product/B000X1GFN2\">Caribou</a>, and a number of other decent ones.  I am just saying I prefer this over those right now.  But I will still have the others for variety.  Within this variety, I really like the house blend best.  But I prefer variety and usually have House Blend in the morning, and a Colombia blend in the afternoon.  On more rare occasions, I\\'ll have the <a href=\"http://www.amazon.com/gp/product/B004OLKF6K\">Barista Prima Italian Roast</a> when I feel like a dark french roast with very strong flavor.<br /><br />The Barista Prima tends to be more expensive, and depending on the sale price, can be only a little more expensive than other varieties.  For a little bit more, it is worth it to me.  For a lot more, maybe not.  Paying about 12% more yields about 30% more in value in flavor to me.  But paying 50% more is costly when there other flavors are plenty good too.'] \n",
      "\n",
      "['A cut above your average K-cup' 5\n",
      " 'Yes, they cost more but they\\'re worth it. I\\'ve had a Keurig for 4 years now and have tried just about everything in a quest to find a k cup that would deliver an experience on par with freshly ground and brewed coffee.  These may not be 100% of the way there but they\\'re very close and nothing else is even in the same ballpark.  I\\'ve tried both the Italian blend and the House Blend and really like both.  My coffee tastes run toward the Extra Bold and Dark end of the spectrum and I\\'ve tried, Jet Fuel, Black Tiger and any number of the other cups that have a reputation for strong, bold flavor.  While I\\'ve found a few that I like, the Barista Prima is ahead of them all by a fairly large margin.  This tastes like coffee is supposed to taste and has the mouth feel to go along with it for a change.  I had resigned myself to the fact that I was never going to get a cup from my Keurig that went beyond \"decent\".  I\\'m happy to report that I find the the Barista Prima Kcups falling somewhere between  good plus and great minus.<br /><br />These are worth your time and money if you\\'ve found yourself longing for something a bit more out of your keurig machine. I hope they expand their selection because I would love to taste what else these guys can come up with.  Premium product all the way.<br /><br />As a general cup of coffee I\\'d give these 4 stars. For a Keuring cup of coffee, these are a 5 star product.'] \n",
      "\n"
     ]
    }
   ],
   "source": [
    "#find 5 reviews that score highest in topic_7\n",
    "for review in docTopicMatrixGR_df.sort_values(by=\"topic_7\",ascending=False).head(5)[[\"Summary\",\"Score\",\"Text\"]].values:\n",
    "    print(review,\"\\n\")"
   ]
  },
  {
   "cell_type": "markdown",
   "metadata": {},
   "source": [
    "From reading these 5 reviews they all seem to be discussion coffee either as a products that are very closely related to coffee.\n",
    "So `topic_7` is the **coffee**."
   ]
  },
  {
   "cell_type": "code",
   "execution_count": 487,
   "metadata": {
    "execution": {
     "iopub.execute_input": "2020-11-08T23:45:28.309426Z",
     "iopub.status.busy": "2020-11-08T23:45:28.309154Z",
     "iopub.status.idle": "2020-11-08T23:45:28.354165Z",
     "shell.execute_reply": "2020-11-08T23:45:28.353447Z",
     "shell.execute_reply.started": "2020-11-08T23:45:28.309396Z"
    }
   },
   "outputs": [
    {
     "data": {
      "text/html": [
       "<div>\n",
       "<style scoped>\n",
       "    .dataframe tbody tr th:only-of-type {\n",
       "        vertical-align: middle;\n",
       "    }\n",
       "\n",
       "    .dataframe tbody tr th {\n",
       "        vertical-align: top;\n",
       "    }\n",
       "\n",
       "    .dataframe thead th {\n",
       "        text-align: right;\n",
       "    }\n",
       "</style>\n",
       "<table border=\"1\" class=\"dataframe\">\n",
       "  <thead>\n",
       "    <tr style=\"text-align: right;\">\n",
       "      <th></th>\n",
       "      <th>topic_0</th>\n",
       "      <th>topic_1</th>\n",
       "      <th>topic_2</th>\n",
       "      <th>topic_3</th>\n",
       "      <th>topic_4</th>\n",
       "      <th>topic_5</th>\n",
       "      <th>topic_6</th>\n",
       "      <th>topic_7</th>\n",
       "      <th>topic_8</th>\n",
       "      <th>topic_9</th>\n",
       "      <th>topic_10</th>\n",
       "      <th>topic_11</th>\n",
       "      <th>topic_12</th>\n",
       "      <th>topic_13</th>\n",
       "      <th>topic_14</th>\n",
       "      <th>topic_15</th>\n",
       "      <th>topic_16</th>\n",
       "      <th>topic_17</th>\n",
       "      <th>topic_18</th>\n",
       "      <th>topic_19</th>\n",
       "    </tr>\n",
       "  </thead>\n",
       "  <tbody>\n",
       "    <tr>\n",
       "      <th>aa</th>\n",
       "      <td>0.05</td>\n",
       "      <td>0.050000</td>\n",
       "      <td>0.050000</td>\n",
       "      <td>0.050000</td>\n",
       "      <td>0.05</td>\n",
       "      <td>0.050000</td>\n",
       "      <td>0.061628</td>\n",
       "      <td>0.050000</td>\n",
       "      <td>0.050000</td>\n",
       "      <td>0.369856</td>\n",
       "      <td>0.050000</td>\n",
       "      <td>0.050000</td>\n",
       "      <td>0.05</td>\n",
       "      <td>0.050000</td>\n",
       "      <td>0.050000</td>\n",
       "      <td>0.050000</td>\n",
       "      <td>0.050000</td>\n",
       "      <td>0.050000</td>\n",
       "      <td>9.228706</td>\n",
       "      <td>0.050000</td>\n",
       "    </tr>\n",
       "    <tr>\n",
       "      <th>aardvark</th>\n",
       "      <td>0.05</td>\n",
       "      <td>0.050000</td>\n",
       "      <td>0.050000</td>\n",
       "      <td>0.050000</td>\n",
       "      <td>0.05</td>\n",
       "      <td>0.050000</td>\n",
       "      <td>0.050000</td>\n",
       "      <td>0.050000</td>\n",
       "      <td>0.050000</td>\n",
       "      <td>0.050000</td>\n",
       "      <td>0.050000</td>\n",
       "      <td>0.357429</td>\n",
       "      <td>0.05</td>\n",
       "      <td>0.050000</td>\n",
       "      <td>0.050000</td>\n",
       "      <td>0.050000</td>\n",
       "      <td>0.050000</td>\n",
       "      <td>0.050000</td>\n",
       "      <td>0.050000</td>\n",
       "      <td>0.050000</td>\n",
       "    </tr>\n",
       "    <tr>\n",
       "      <th>aback</th>\n",
       "      <td>0.05</td>\n",
       "      <td>0.050000</td>\n",
       "      <td>0.217162</td>\n",
       "      <td>0.050000</td>\n",
       "      <td>0.05</td>\n",
       "      <td>0.050000</td>\n",
       "      <td>0.050000</td>\n",
       "      <td>0.913919</td>\n",
       "      <td>1.557163</td>\n",
       "      <td>0.050000</td>\n",
       "      <td>0.050000</td>\n",
       "      <td>0.050000</td>\n",
       "      <td>0.05</td>\n",
       "      <td>0.050000</td>\n",
       "      <td>0.050000</td>\n",
       "      <td>0.435088</td>\n",
       "      <td>0.693757</td>\n",
       "      <td>0.050000</td>\n",
       "      <td>0.050000</td>\n",
       "      <td>2.487166</td>\n",
       "    </tr>\n",
       "    <tr>\n",
       "      <th>abandon</th>\n",
       "      <td>0.05</td>\n",
       "      <td>0.050003</td>\n",
       "      <td>0.050000</td>\n",
       "      <td>5.395331</td>\n",
       "      <td>0.05</td>\n",
       "      <td>0.050008</td>\n",
       "      <td>0.050000</td>\n",
       "      <td>0.050000</td>\n",
       "      <td>1.203007</td>\n",
       "      <td>0.541154</td>\n",
       "      <td>2.090728</td>\n",
       "      <td>0.050000</td>\n",
       "      <td>0.05</td>\n",
       "      <td>0.188073</td>\n",
       "      <td>0.050004</td>\n",
       "      <td>1.141053</td>\n",
       "      <td>0.050000</td>\n",
       "      <td>0.631618</td>\n",
       "      <td>0.050020</td>\n",
       "      <td>0.050000</td>\n",
       "    </tr>\n",
       "    <tr>\n",
       "      <th>abandoned</th>\n",
       "      <td>0.05</td>\n",
       "      <td>0.050000</td>\n",
       "      <td>0.355548</td>\n",
       "      <td>0.050000</td>\n",
       "      <td>0.05</td>\n",
       "      <td>0.050000</td>\n",
       "      <td>0.050000</td>\n",
       "      <td>0.050000</td>\n",
       "      <td>0.050000</td>\n",
       "      <td>0.050000</td>\n",
       "      <td>0.050000</td>\n",
       "      <td>0.050000</td>\n",
       "      <td>0.05</td>\n",
       "      <td>0.050000</td>\n",
       "      <td>0.050000</td>\n",
       "      <td>0.050000</td>\n",
       "      <td>0.050000</td>\n",
       "      <td>0.050000</td>\n",
       "      <td>0.050000</td>\n",
       "      <td>0.050000</td>\n",
       "    </tr>\n",
       "  </tbody>\n",
       "</table>\n",
       "</div>"
      ],
      "text/plain": [
       "           topic_0   topic_1   topic_2   topic_3  topic_4   topic_5   topic_6  \\\n",
       "aa            0.05  0.050000  0.050000  0.050000     0.05  0.050000  0.061628   \n",
       "aardvark      0.05  0.050000  0.050000  0.050000     0.05  0.050000  0.050000   \n",
       "aback         0.05  0.050000  0.217162  0.050000     0.05  0.050000  0.050000   \n",
       "abandon       0.05  0.050003  0.050000  5.395331     0.05  0.050008  0.050000   \n",
       "abandoned     0.05  0.050000  0.355548  0.050000     0.05  0.050000  0.050000   \n",
       "\n",
       "            topic_7   topic_8   topic_9  topic_10  topic_11  topic_12  \\\n",
       "aa         0.050000  0.050000  0.369856  0.050000  0.050000      0.05   \n",
       "aardvark   0.050000  0.050000  0.050000  0.050000  0.357429      0.05   \n",
       "aback      0.913919  1.557163  0.050000  0.050000  0.050000      0.05   \n",
       "abandon    0.050000  1.203007  0.541154  2.090728  0.050000      0.05   \n",
       "abandoned  0.050000  0.050000  0.050000  0.050000  0.050000      0.05   \n",
       "\n",
       "           topic_13  topic_14  topic_15  topic_16  topic_17  topic_18  \\\n",
       "aa         0.050000  0.050000  0.050000  0.050000  0.050000  9.228706   \n",
       "aardvark   0.050000  0.050000  0.050000  0.050000  0.050000  0.050000   \n",
       "aback      0.050000  0.050000  0.435088  0.693757  0.050000  0.050000   \n",
       "abandon    0.188073  0.050004  1.141053  0.050000  0.631618  0.050020   \n",
       "abandoned  0.050000  0.050000  0.050000  0.050000  0.050000  0.050000   \n",
       "\n",
       "           topic_19  \n",
       "aa         0.050000  \n",
       "aardvark   0.050000  \n",
       "aback      2.487166  \n",
       "abandon    0.050000  \n",
       "abandoned  0.050000  "
      ]
     },
     "execution_count": 487,
     "metadata": {},
     "output_type": "execute_result"
    }
   ],
   "source": [
    "good_review_vocab = tfidfvectorizer_gr.get_feature_names()\n",
    "wordTopicmatrixGR_df = pd.DataFrame(LD_AllocatorTFIDFGR.components_,columns=good_review_vocab).T.add_prefix(\"topic_\")\n",
    "wordTopicmatrixGR_df.head()"
   ]
  },
  {
   "cell_type": "code",
   "execution_count": 515,
   "metadata": {
    "execution": {
     "iopub.execute_input": "2020-11-09T00:03:45.455391Z",
     "iopub.status.busy": "2020-11-09T00:03:45.455114Z",
     "iopub.status.idle": "2020-11-09T00:03:45.477220Z",
     "shell.execute_reply": "2020-11-09T00:03:45.476610Z",
     "shell.execute_reply.started": "2020-11-09T00:03:45.455362Z"
    }
   },
   "outputs": [
    {
     "data": {
      "text/plain": [
       "coffee    2751.147246\n",
       "cup        487.335557\n",
       "good       477.461340\n",
       "flavor     455.974054\n",
       "taste      429.162450\n",
       "Name: topic_7, dtype: float64"
      ]
     },
     "execution_count": 515,
     "metadata": {},
     "output_type": "execute_result"
    }
   ],
   "source": [
    "(wordTopicmatrixGR_df.sort_values(by=\"topic_7\",ascending=False).head(5))[\"topic_7\"]"
   ]
  },
  {
   "cell_type": "code",
   "execution_count": 496,
   "metadata": {
    "execution": {
     "iopub.execute_input": "2020-11-08T23:47:18.030464Z",
     "iopub.status.busy": "2020-11-08T23:47:18.030176Z",
     "iopub.status.idle": "2020-11-08T23:47:18.033289Z",
     "shell.execute_reply": "2020-11-08T23:47:18.032708Z",
     "shell.execute_reply.started": "2020-11-08T23:47:18.030433Z"
    }
   },
   "outputs": [],
   "source": [
    "#LD_AllocatorTFIDFGR.components_.shape"
   ]
  },
  {
   "cell_type": "code",
   "execution_count": 497,
   "metadata": {
    "execution": {
     "iopub.execute_input": "2020-11-08T23:47:18.686140Z",
     "iopub.status.busy": "2020-11-08T23:47:18.685852Z",
     "iopub.status.idle": "2020-11-08T23:47:18.688838Z",
     "shell.execute_reply": "2020-11-08T23:47:18.688280Z",
     "shell.execute_reply.started": "2020-11-08T23:47:18.686111Z"
    }
   },
   "outputs": [],
   "source": [
    "#topicXwordGBMatrix = LD_AllocatorTFIDFGR.components_"
   ]
  },
  {
   "cell_type": "code",
   "execution_count": 498,
   "metadata": {
    "execution": {
     "iopub.execute_input": "2020-11-08T23:47:19.585908Z",
     "iopub.status.busy": "2020-11-08T23:47:19.585624Z",
     "iopub.status.idle": "2020-11-08T23:47:19.588672Z",
     "shell.execute_reply": "2020-11-08T23:47:19.588094Z",
     "shell.execute_reply.started": "2020-11-08T23:47:19.585878Z"
    }
   },
   "outputs": [],
   "source": [
    "#topicXwordGBMatrix"
   ]
  },
  {
   "cell_type": "code",
   "execution_count": 499,
   "metadata": {
    "execution": {
     "iopub.execute_input": "2020-11-08T23:47:21.110734Z",
     "iopub.status.busy": "2020-11-08T23:47:21.110435Z",
     "iopub.status.idle": "2020-11-08T23:47:21.488696Z",
     "shell.execute_reply": "2020-11-08T23:47:21.488052Z",
     "shell.execute_reply.started": "2020-11-08T23:47:21.110705Z"
    }
   },
   "outputs": [],
   "source": [
    "pcaGR = PCA(n_components=2)\n",
    "pcaGR.fit(docTopicMatrixGR)\n",
    "docReducedTopicMatrixGR = pcaGR.transform(docTopicMatrixGR)"
   ]
  },
  {
   "cell_type": "code",
   "execution_count": 500,
   "metadata": {
    "execution": {
     "iopub.execute_input": "2020-11-08T23:47:22.066228Z",
     "iopub.status.busy": "2020-11-08T23:47:22.066009Z",
     "iopub.status.idle": "2020-11-08T23:47:22.070158Z",
     "shell.execute_reply": "2020-11-08T23:47:22.069571Z",
     "shell.execute_reply.started": "2020-11-08T23:47:22.066206Z"
    }
   },
   "outputs": [
    {
     "data": {
      "text/plain": [
       "(152586, 2)"
      ]
     },
     "execution_count": 500,
     "metadata": {},
     "output_type": "execute_result"
    }
   ],
   "source": [
    "docReducedTopicMatrixGR.shape"
   ]
  },
  {
   "cell_type": "code",
   "execution_count": 501,
   "metadata": {
    "execution": {
     "iopub.execute_input": "2020-11-08T23:47:30.497388Z",
     "iopub.status.busy": "2020-11-08T23:47:30.497112Z",
     "iopub.status.idle": "2020-11-08T23:47:30.502065Z",
     "shell.execute_reply": "2020-11-08T23:47:30.501468Z",
     "shell.execute_reply.started": "2020-11-08T23:47:30.497358Z"
    }
   },
   "outputs": [
    {
     "data": {
      "text/plain": [
       "(-0.04751993722463739, -0.06385988249983811)"
      ]
     },
     "execution_count": 501,
     "metadata": {},
     "output_type": "execute_result"
    }
   ],
   "source": [
    "docReducedTopicMatrixGR[0][0],docReducedTopicMatrixGR[0][1]"
   ]
  },
  {
   "cell_type": "code",
   "execution_count": 502,
   "metadata": {
    "execution": {
     "iopub.execute_input": "2020-11-08T23:47:35.658309Z",
     "iopub.status.busy": "2020-11-08T23:47:35.658020Z",
     "iopub.status.idle": "2020-11-08T23:47:35.663495Z",
     "shell.execute_reply": "2020-11-08T23:47:35.662866Z",
     "shell.execute_reply.started": "2020-11-08T23:47:35.658278Z"
    }
   },
   "outputs": [],
   "source": [
    "#Color map used to color each document in the plot\n",
    "TOPIC_COLORS={\"topic_0\":\"red\",\n",
    "                 \"topic_1\":\"orange\",\n",
    "                 \"topic_2\":\"yellow\",\n",
    "                 \"topic_3\":\"green\",\n",
    "                 \"topic_4\":\"blue\",\n",
    "                 \"topic_5\":\"indigo\",\n",
    "                 \"topic_6\":\"violet\",\n",
    "                 \"topic_7\":\"cyan\",\n",
    "                 \"topic_8\":\"brown\",\n",
    "                 \"topic_9\":\"white\",\n",
    "                 \"topic_10\":\"gray\",\n",
    "                 \"topic_11\":\"yellowgreen\",\n",
    "                 \"topic_12\":\"skyblue\",\n",
    "                 \"topic_13\":\"chartreuse\",\n",
    "                 \"topic_14\":\"goldenrod\",\n",
    "                 \"topic_15\":\"salmon\",\n",
    "                 \"topic_16\":\"magenta\",\n",
    "                 \"topic_17\":\"cornflowerblue\",\n",
    "                 \"topic_18\":\"ivory\",\n",
    "                 \"topic_19\":\"black\"}"
   ]
  },
  {
   "cell_type": "code",
   "execution_count": 503,
   "metadata": {
    "execution": {
     "iopub.execute_input": "2020-11-08T23:47:36.351560Z",
     "iopub.status.busy": "2020-11-08T23:47:36.351263Z",
     "iopub.status.idle": "2020-11-08T23:47:36.356591Z",
     "shell.execute_reply": "2020-11-08T23:47:36.355964Z",
     "shell.execute_reply.started": "2020-11-08T23:47:36.351531Z"
    }
   },
   "outputs": [],
   "source": [
    "def getcolor(row_index,basecolor,doc_topic_matrix_df):\n",
    "    \"\"\"\n",
    "    This function takes a document located at `row_index` in the `doc_topic_matrix_df` and determines\n",
    "    to which topic it belongs by finding the column with the max value at `row_index` in `doc_topic_matrix_df`\n",
    "    It then uses `TOPIC_COLORS` to return the color associated with that topic\n",
    "    \"\"\"\n",
    "    #assuming the first 20 columns are the topic weights\n",
    "    global TOPIC_COLORS\n",
    "    max_topic_name = doc_topic_matrix_df.iloc[:,:20].iloc[row_index].idxmax()\n",
    "    \n",
    "    if max_topic_name in TOPIC_COLORS.keys():\n",
    "        return TOPIC_COLORS[max_topic_name]\n",
    "    else:\n",
    "        print(\"WARNING: Say topic = {} and did not expect to!\".format(max_topic_name))\n",
    "        return \"black\"\n",
    "    "
   ]
  },
  {
   "cell_type": "code",
   "execution_count": 524,
   "metadata": {
    "execution": {
     "iopub.execute_input": "2020-11-09T00:20:18.802310Z",
     "iopub.status.busy": "2020-11-09T00:20:18.801882Z",
     "iopub.status.idle": "2020-11-09T00:20:18.816500Z",
     "shell.execute_reply": "2020-11-09T00:20:18.815722Z",
     "shell.execute_reply.started": "2020-11-09T00:20:18.802198Z"
    }
   },
   "outputs": [],
   "source": [
    "def plot_PCA_2D2(DocTopic2DMatrix,DocTopicMatrix_df, plot_name=\"pca_scatter_plot.png\"):\n",
    "    \"\"\"\n",
    "    Generates a 2-D scatter plot of the reviews.\n",
    "    \n",
    "    `DoctTopic2DMatrix` is an array of N documents where the columns in row i represent the (x,y) coordinates for that document (document i)\n",
    "    \n",
    "    Each plotted document is colored according to the topic (out of 20) to which it belongs and is\n",
    "    colored according to the topic-to-color map defined in TOPIC_COLORS\n",
    "    \n",
    "    `plot_name`: file name of the plot (must end in png)\n",
    "    \n",
    "    \"\"\"\n",
    "    #TODO: Get it to work for any number of topics (mostly calc colors using the topic as the offset from a base color)\n",
    "    global TOPIC_COLORS\n",
    "    review_names = [\"r\"+str(numb) for numb in range(len(DocTopic2DMatrix))]\n",
    "    review_ids = range(len(review_names))\n",
    "    plotted_topics = []\n",
    "    plt.figure(figsize=(20,20))\n",
    "    for id in review_ids:\n",
    "        color = getcolor(id,\"#000000\",DocTopicMatrix_df)\n",
    "        for mykey in TOPIC_COLORS.keys():\n",
    "            if color == TOPIC_COLORS[mykey]:\n",
    "                name = mykey\n",
    "        plt.scatter(DocTopic2DMatrix[id][0],DocTopic2DMatrix[id][1],c=color,label=name,edgecolors=\"gray\",alpha=0.8)\n",
    "        plotted_topics.append(name)\n",
    "    \n",
    "    plotted_topics = set(plotted_topics)\n",
    "    plotted_topics = list(plotted_topics)\n",
    "    plotted_topics.sort(key=lambda x: int(x.split(\"_\")[1]))\n",
    "    plt.legend(plotted_topics)\n",
    "    plt.savefig(\"../Documents/Images/{}\".format(plot_name),dpi=400)\n"
   ]
  },
  {
   "cell_type": "code",
   "execution_count": 525,
   "metadata": {
    "execution": {
     "iopub.execute_input": "2020-11-09T00:20:19.351657Z",
     "iopub.status.busy": "2020-11-09T00:20:19.351466Z",
     "iopub.status.idle": "2020-11-09T00:20:19.356397Z",
     "shell.execute_reply": "2020-11-09T00:20:19.355720Z",
     "shell.execute_reply.started": "2020-11-09T00:20:19.351636Z"
    }
   },
   "outputs": [],
   "source": [
    "review_subset_size = 7000\n",
    "\n",
    "numb_of_good_reviews = docReducedTopicMatrixGR.shape[0]\n",
    "selected_reviews = np.random.choice(numb_of_good_reviews,\n",
    "                                   size=review_subset_size,\n",
    "                                   replace=True)\n",
    "\n",
    "\n",
    "docReducedTopicMatrixGR_sub = docReducedTopicMatrixGR[selected_reviews,:]\n"
   ]
  },
  {
   "cell_type": "code",
   "execution_count": 539,
   "metadata": {
    "execution": {
     "iopub.execute_input": "2020-11-09T00:25:15.756840Z",
     "iopub.status.busy": "2020-11-09T00:25:15.756414Z",
     "iopub.status.idle": "2020-11-09T00:27:40.642756Z",
     "shell.execute_reply": "2020-11-09T00:27:40.641864Z",
     "shell.execute_reply.started": "2020-11-09T00:25:15.756802Z"
    }
   },
   "outputs": [
    {
     "name": "stdout",
     "output_type": "stream",
     "text": [
      "time spent doing operation is 0:02:17.676488\n"
     ]
    },
    {
     "data": {
      "image/png": "[encoded data removed]",
      "text/plain": [
       "<Figure size 1440x1440 with 1 Axes>"
      ]
     },
     "metadata": {
      "needs_background": "light"
     },
     "output_type": "display_data"
    }
   ],
   "source": [
    "#It takes 11 hours to generate the scatter plot for the full population of good reviews\n",
    "#just doing a random subset here\n",
    "\n",
    "start_time = datetime.datetime.now()\n",
    "plot_PCA_2D2(docReducedTopicMatrixGR_sub, docTopicMatrixGR_df,\"good_reviews_subset.png\")\n",
    "end_time = datetime.datetime.now()\n",
    "print(\"time spent doing operation is {}\".format(end_time - start_time))"
   ]
  },
  {
   "cell_type": "markdown",
   "metadata": {},
   "source": [
    "**TODO**\n",
    "You ran the cluster on the whole set of bad reviews. Include that here and add some narration to it."
   ]
  },
  {
   "cell_type": "markdown",
   "metadata": {
    "execution": {
     "iopub.execute_input": "2020-11-08T21:28:05.897785Z",
     "iopub.status.busy": "2020-11-08T21:28:05.897489Z",
     "iopub.status.idle": "2020-11-08T21:28:05.903130Z",
     "shell.execute_reply": "2020-11-08T21:28:05.902146Z",
     "shell.execute_reply.started": "2020-11-08T21:28:05.897756Z"
    }
   },
   "source": [
    "#### Bad Reviews\n",
    "Now let's check the quality of results of the topic generation by finding the reviews that scored best in the `docTopicMatrixBR_df`"
   ]
  },
  {
   "cell_type": "code",
   "execution_count": 540,
   "metadata": {
    "execution": {
     "iopub.execute_input": "2020-11-09T00:27:40.644616Z",
     "iopub.status.busy": "2020-11-09T00:27:40.644373Z",
     "iopub.status.idle": "2020-11-09T00:27:53.097134Z",
     "shell.execute_reply": "2020-11-09T00:27:53.096233Z",
     "shell.execute_reply.started": "2020-11-09T00:27:40.644585Z"
    }
   },
   "outputs": [],
   "source": [
    "docTopicMatrixBR = LD_AllocatorTFIDFBR.transform(docTermMatrixTFIDFBR)"
   ]
  },
  {
   "cell_type": "code",
   "execution_count": 541,
   "metadata": {
    "execution": {
     "iopub.execute_input": "2020-11-09T00:27:53.098998Z",
     "iopub.status.busy": "2020-11-09T00:27:53.098776Z",
     "iopub.status.idle": "2020-11-09T00:27:53.152744Z",
     "shell.execute_reply": "2020-11-09T00:27:53.152094Z",
     "shell.execute_reply.started": "2020-11-09T00:27:53.098969Z"
    }
   },
   "outputs": [
    {
     "data": {
      "text/html": [
       "<div>\n",
       "<style scoped>\n",
       "    .dataframe tbody tr th:only-of-type {\n",
       "        vertical-align: middle;\n",
       "    }\n",
       "\n",
       "    .dataframe tbody tr th {\n",
       "        vertical-align: top;\n",
       "    }\n",
       "\n",
       "    .dataframe thead th {\n",
       "        text-align: right;\n",
       "    }\n",
       "</style>\n",
       "<table border=\"1\" class=\"dataframe\">\n",
       "  <thead>\n",
       "    <tr style=\"text-align: right;\">\n",
       "      <th></th>\n",
       "      <th>topic_0</th>\n",
       "      <th>topic_1</th>\n",
       "      <th>topic_2</th>\n",
       "      <th>topic_3</th>\n",
       "      <th>topic_4</th>\n",
       "      <th>topic_5</th>\n",
       "      <th>topic_6</th>\n",
       "      <th>topic_7</th>\n",
       "      <th>topic_8</th>\n",
       "      <th>topic_9</th>\n",
       "      <th>...</th>\n",
       "      <th>topic_14</th>\n",
       "      <th>topic_15</th>\n",
       "      <th>topic_16</th>\n",
       "      <th>topic_17</th>\n",
       "      <th>topic_18</th>\n",
       "      <th>topic_19</th>\n",
       "      <th>Summary</th>\n",
       "      <th>ProcessedText</th>\n",
       "      <th>Text</th>\n",
       "      <th>Score</th>\n",
       "    </tr>\n",
       "  </thead>\n",
       "  <tbody>\n",
       "    <tr>\n",
       "      <th>0</th>\n",
       "      <td>0.010744</td>\n",
       "      <td>0.010744</td>\n",
       "      <td>0.010744</td>\n",
       "      <td>0.010744</td>\n",
       "      <td>0.010744</td>\n",
       "      <td>0.010744</td>\n",
       "      <td>0.010744</td>\n",
       "      <td>0.010744</td>\n",
       "      <td>0.010744</td>\n",
       "      <td>0.010744</td>\n",
       "      <td>...</td>\n",
       "      <td>0.795871</td>\n",
       "      <td>0.010744</td>\n",
       "      <td>0.010744</td>\n",
       "      <td>0.010744</td>\n",
       "      <td>0.010744</td>\n",
       "      <td>0.010744</td>\n",
       "      <td>Cough Medicine</td>\n",
       "      <td>if you be look for the secret ingredient in i ...</td>\n",
       "      <td>If you are looking for the secret ingredient i...</td>\n",
       "      <td>2</td>\n",
       "    </tr>\n",
       "    <tr>\n",
       "      <th>1</th>\n",
       "      <td>0.010138</td>\n",
       "      <td>0.010138</td>\n",
       "      <td>0.010138</td>\n",
       "      <td>0.010138</td>\n",
       "      <td>0.010138</td>\n",
       "      <td>0.010138</td>\n",
       "      <td>0.010138</td>\n",
       "      <td>0.010138</td>\n",
       "      <td>0.010138</td>\n",
       "      <td>0.581486</td>\n",
       "      <td>...</td>\n",
       "      <td>0.010138</td>\n",
       "      <td>0.010138</td>\n",
       "      <td>0.010138</td>\n",
       "      <td>0.010138</td>\n",
       "      <td>0.010138</td>\n",
       "      <td>0.010138</td>\n",
       "      <td>My Cats Are Not Fans of the New Food</td>\n",
       "      <td>my have be happily eat platinum for more than ...</td>\n",
       "      <td>My cats have been happily eating Felidae Plati...</td>\n",
       "      <td>1</td>\n",
       "    </tr>\n",
       "    <tr>\n",
       "      <th>2</th>\n",
       "      <td>0.014124</td>\n",
       "      <td>0.014124</td>\n",
       "      <td>0.014124</td>\n",
       "      <td>0.014124</td>\n",
       "      <td>0.014124</td>\n",
       "      <td>0.014124</td>\n",
       "      <td>0.014124</td>\n",
       "      <td>0.014124</td>\n",
       "      <td>0.014124</td>\n",
       "      <td>0.014124</td>\n",
       "      <td>...</td>\n",
       "      <td>0.014124</td>\n",
       "      <td>0.014124</td>\n",
       "      <td>0.731645</td>\n",
       "      <td>0.014124</td>\n",
       "      <td>0.014124</td>\n",
       "      <td>0.014124</td>\n",
       "      <td>Nasty No flavor</td>\n",
       "      <td>the candy be just red no flavor just plan and ...</td>\n",
       "      <td>The candy is just red , No flavor . Just  plan...</td>\n",
       "      <td>1</td>\n",
       "    </tr>\n",
       "    <tr>\n",
       "      <th>3</th>\n",
       "      <td>0.014473</td>\n",
       "      <td>0.014473</td>\n",
       "      <td>0.014473</td>\n",
       "      <td>0.014473</td>\n",
       "      <td>0.014473</td>\n",
       "      <td>0.014473</td>\n",
       "      <td>0.014473</td>\n",
       "      <td>0.014473</td>\n",
       "      <td>0.014473</td>\n",
       "      <td>0.725015</td>\n",
       "      <td>...</td>\n",
       "      <td>0.014473</td>\n",
       "      <td>0.014473</td>\n",
       "      <td>0.014473</td>\n",
       "      <td>0.014473</td>\n",
       "      <td>0.014473</td>\n",
       "      <td>0.014473</td>\n",
       "      <td>Don't like it</td>\n",
       "      <td>this oatmeal be not good it mushy soft i like ...</td>\n",
       "      <td>This oatmeal is not good. Its mushy, soft, I d...</td>\n",
       "      <td>1</td>\n",
       "    </tr>\n",
       "    <tr>\n",
       "      <th>4</th>\n",
       "      <td>0.018488</td>\n",
       "      <td>0.018488</td>\n",
       "      <td>0.018488</td>\n",
       "      <td>0.018488</td>\n",
       "      <td>0.018488</td>\n",
       "      <td>0.018488</td>\n",
       "      <td>0.018488</td>\n",
       "      <td>0.018488</td>\n",
       "      <td>0.018488</td>\n",
       "      <td>0.018488</td>\n",
       "      <td>...</td>\n",
       "      <td>0.018488</td>\n",
       "      <td>0.018488</td>\n",
       "      <td>0.648735</td>\n",
       "      <td>0.018488</td>\n",
       "      <td>0.018488</td>\n",
       "      <td>0.018488</td>\n",
       "      <td>stale product.</td>\n",
       "      <td>in day and be so stale i could not eat any of the</td>\n",
       "      <td>Arrived in 6 days and were so stale i could no...</td>\n",
       "      <td>1</td>\n",
       "    </tr>\n",
       "  </tbody>\n",
       "</table>\n",
       "<p>5 rows × 24 columns</p>\n",
       "</div>"
      ],
      "text/plain": [
       "    topic_0   topic_1   topic_2   topic_3   topic_4   topic_5   topic_6  \\\n",
       "0  0.010744  0.010744  0.010744  0.010744  0.010744  0.010744  0.010744   \n",
       "1  0.010138  0.010138  0.010138  0.010138  0.010138  0.010138  0.010138   \n",
       "2  0.014124  0.014124  0.014124  0.014124  0.014124  0.014124  0.014124   \n",
       "3  0.014473  0.014473  0.014473  0.014473  0.014473  0.014473  0.014473   \n",
       "4  0.018488  0.018488  0.018488  0.018488  0.018488  0.018488  0.018488   \n",
       "\n",
       "    topic_7   topic_8   topic_9  ...  topic_14  topic_15  topic_16  topic_17  \\\n",
       "0  0.010744  0.010744  0.010744  ...  0.795871  0.010744  0.010744  0.010744   \n",
       "1  0.010138  0.010138  0.581486  ...  0.010138  0.010138  0.010138  0.010138   \n",
       "2  0.014124  0.014124  0.014124  ...  0.014124  0.014124  0.731645  0.014124   \n",
       "3  0.014473  0.014473  0.725015  ...  0.014473  0.014473  0.014473  0.014473   \n",
       "4  0.018488  0.018488  0.018488  ...  0.018488  0.018488  0.648735  0.018488   \n",
       "\n",
       "   topic_18  topic_19                               Summary  \\\n",
       "0  0.010744  0.010744                        Cough Medicine   \n",
       "1  0.010138  0.010138  My Cats Are Not Fans of the New Food   \n",
       "2  0.014124  0.014124                       Nasty No flavor   \n",
       "3  0.014473  0.014473                         Don't like it   \n",
       "4  0.018488  0.018488                        stale product.   \n",
       "\n",
       "                                       ProcessedText  \\\n",
       "0  if you be look for the secret ingredient in i ...   \n",
       "1  my have be happily eat platinum for more than ...   \n",
       "2  the candy be just red no flavor just plan and ...   \n",
       "3  this oatmeal be not good it mushy soft i like ...   \n",
       "4  in day and be so stale i could not eat any of the   \n",
       "\n",
       "                                                Text  Score  \n",
       "0  If you are looking for the secret ingredient i...      2  \n",
       "1  My cats have been happily eating Felidae Plati...      1  \n",
       "2  The candy is just red , No flavor . Just  plan...      1  \n",
       "3  This oatmeal is not good. Its mushy, soft, I d...      1  \n",
       "4  Arrived in 6 days and were so stale i could no...      1  \n",
       "\n",
       "[5 rows x 24 columns]"
      ]
     },
     "execution_count": 541,
     "metadata": {},
     "output_type": "execute_result"
    }
   ],
   "source": [
    "docTopicMatrixBR_df = pd.DataFrame(docTopicMatrixBR).add_prefix(\"topic_\")\n",
    "docTopicMatrixBR_df[[\"Summary\",\"ProcessedText\",\"Text\",\"Score\"]] = bad_reviews_df[[\"Summary\",\"ProcessedText\",\"Text\",\"Score\"]]\n",
    "docTopicMatrixBR_df.head()"
   ]
  },
  {
   "cell_type": "code",
   "execution_count": 542,
   "metadata": {
    "execution": {
     "iopub.execute_input": "2020-11-09T00:27:53.154040Z",
     "iopub.status.busy": "2020-11-09T00:27:53.153865Z",
     "iopub.status.idle": "2020-11-09T00:27:53.189933Z",
     "shell.execute_reply": "2020-11-09T00:27:53.189231Z",
     "shell.execute_reply.started": "2020-11-09T00:27:53.154018Z"
    }
   },
   "outputs": [
    {
     "name": "stdout",
     "output_type": "stream",
     "text": [
      "[\"taster's choice is far superior (but clasico is still commendable!)\" 1\n",
      " \"if you just need to save money and need a good quick cup of coffee, this will be fine. but if you need a GREAT quick cuppa joe, go with the Gourmet Supreme TASTER'S CHOICE. worth the extra little bit of money.<br /><br />EDIT:<br /><br />when i reTaste the Clasico this weekend, i might just change the rating (if allowed).<br /><br />the reviewer, suman, made a disparaging comment about Taster's Choice...hence, my review was reactionary. ah, the power of one's words can bite back! anyways, i hope to be back with a more laudatory review. i like all nescafe products thus far. none are JUNK in my book.<br /><br />LAST EDIT (i finally retasted the Clasico to truly compare it with TC, side by side)!<br /><br />ok...Taster's Choice in a 5.3oz jar cost over $8...almost $9.<br /><br />the Clasico was in a 7 oz. jar and cost right at $5...so there is a big difference in price...and taste.<br /><br />QUALITY always beats QUANTITY!<br /><br />i am a BIG nescafe fan. another reviewer obviously took issue with the fact i took issue with their derogatory comment on TC.<br /><br />anyways, i can still recommend Clasico; if you are on a budget but want a high quality coffee, Clasico is the answer! BUT if you want a little MORE unique taste and have the extra $$$, go for any of the TASTER'S CHOICE (i guess that's the premium u.s. nescafe...).<br /><br />the Clasico will be great with milk (my only everyday additive) but i plan to make some cold weather mixes with nestle hot cocoa! i think it will make a great base for various coffee 'cocktails' !<br /><br />sorry that my one star rating can't be changed to what i would update to a strong 2-3 stars. it is recommended. but not above TC. not by a long shot.<br /><br />thanks suman for the challenge! :)\"] \n",
      "\n",
      "['Absolutely horrible quality' 1\n",
      " \"I recently switched to the Lavazza pods after trying the Starbucks pods for a month. The difference is like night and day: the Lavazza pods are disgusting! Compared to the espresso I can get from a Starbucks pod, and also compared to the espresso I can get in any coffee shop in town, the shots produced by the Lavazza pods are watery and tasteless. They're not simply 'marginally' worse than the Starbucks pods. The espresso produced by the Lavazza pods has a hideously bland taste, to the extent that it pains both me and my wife to drink them (which is surprising, because neither she nor I have particularly demanding taste buds).<br /><br />The first problem with the Lavazza pods is that they include a LOT of excess filter material around the pod, which prevents the espresso machine from making a good, water-tight seal and results in water dripping out of the brewing chamber.  We experimented at great length with trimming away the excess material on these pods to try to get a better espresso.  With some finesse (by trimming excess filter and carefully positioning the ESE pod in just-the-right spot), it is possible to get a good seal.  Once my wife and I accomplished this, the quality of our Lavazza espressos improved dramatically...but was still light-years behind what we expected.  No matter how hard we've tried, we can't get a good shot of espresso from these pods (and we've tried manually tamping them, trimming excess filter material, making sacrifices to various caffeine-related deities, and even performing special brewing dances to appease the coffee gods).<br /><br />Our advice:  AVOID LAVAZZA ESE PODS AT ALL COSTS!!!!!!  You can find incredibly better alternatives at a 10-20% higher price point!\"] \n",
      "\n",
      "['I REALLY wanted this to work. I REALLY wanted to give them ANOTHER try.'\n",
      " 1\n",
      " \"First thing I must say is the cutover service is great. Lillianna and Nancy are very nice (the fact that I know there names is redic). However, as much as I wanted this product to work! After my 2nd machine and my 3rd bowl I'm giving up. Nancy asked for another shot (this is not the first time she's asked) but this time I declined. I wanted to give them a shot I really did but there have been way to many errors, so I thought you all should know. I am a big review person so I had to put this out there.<br /><br />We bought our machine directly from their site. First machine out of the box tiny plastic piece on bowl lid BROKEN. Get a new bowl. Finally get to use the machine, water leaks EVERYWHERE and after steaming no blending happening. A new machine arrived. 1st use - steam but no blend again, but no water yay lol. I gave it another shot, worked good. Yesterday, couldn't get my blade off and drive shaft was stuck. Now, at this point i have 3 bowls sitting around - but I was just TIRED of this machine.<br /><br />READ THIS PART @ LEAST:<br />This machine has a great concept, steam and blend all in one without going back to hit another button - perfect, I thought, until I got the manual. There is actually only about 5 foods that you can actually do this with!!! (i wish i would have known this) All the others have water issues. So for instance, I think it was apples, they have too much water after steaming so you have to go and strain the water before blending...so whats the point? Along with this when you blend manually you have to stand there and hold the button in! I've decided I'm not that lazy and I can go back and hit a steam button - but I am a multitasked so standing over the machine to hold the button in, well, sucks!<br /><br />Taking it apart and getting the blade out is rather difficult (and as u can see from above sometimes the darn thing doesn't even come out). My mind always slipped and i wanted to get my food out of the bowl - but to take the blade out it needs to be attached to the base, so I would have to put it back on and get the blade out.<br /><br />Also, difficult to put the bowl back on the base @ times. The gaskets have to be lined up or there is no luck.<br /><br /> I am using filtered water and I am still getting mineral deposits in the water tank after first use, hmmm?<br /><br />Overall, too many flaws, too many manufacturing errors, time to buy a beaba. Sorry Breeza, I wanted to love you.\"] \n",
      "\n",
      "[\"Ito En Tea's Tea Jasmine Green Tea, Unsweetened\" 2\n",
      " 'Bought this item 4/11 which was made in Japan. Simply Extraordinary. My wife and I liked it so much I bought 6 more cases (8/11) but this batch is made in Thaland. The bottle is slightly diferrent, without the green leaf emblem on the front as pictured. This new version is absolutely inferior to the original ones I had. Don\\'t get me wrong, it is still good but I would not buy it even at the discounted price currently offered on Amazon. I have read other reviewers who suggested they changed the formula. Whatever it is, it tastes  strong like the regular cheap tea I usually get at the Chinese restaurants and the after taste is completely different. I almost wanted to return the shipment but didn\\'t want to go through the hassles. Buyers beware<br /><br />Update 7/14/12:<br />I saw a comment from other buyer that he/she received a Japan made batch. I went ahead and ordered 2 cases. Sure enough, they are now Made in Japan. The interesting thing is this batch tasted \"watered down\", exactly like another reviewer said!!! I now understand what he/she meant. Bottom line: there is definitely some quality consistency issue here (at least post Tsunami time). It is batch dependent, facility dependent ( have seen Thailand made, Japan Made, and have seen comments about Hawaii Made!). Good luck to all who seek good tea. I have switched to brewing my own tea and bought the tea from Eto En directly.'] \n",
      "\n",
      "['Not at all what I expected' 2\n",
      " 'I got a free sample of the mocha flavor at Starbucks. The employee told me it was quite sweet and I probably wouldn\\'t need any additional sweetener. When I tried this at home, I got quite a surprise and not in a good way. I love bold, rich coffee and this was NOT pleasant. It tasted watered down and weak. The \"mocha\" flavor was artificial and barely palatable. I added cream, thinking it might make things better but it only marginally helped. I added a tiny bit of simple syrup and that made it drinkable. All in all, I was disappointed and would not purchase this. I have had the original VIA (Columbia and Italian Roast) and they were far superior to the flavored stuff. If you already drink flavored coffee, maybe this will appeal to you. Otherwise, save your money! You can get instant coffee granules from Trader Joe\\'s and their sipping chocolate for a better instant mocha coffee. Just make the hot chocolate (instructions on the tin of sipping chocolate) and add some instant coffee to taste. Ta-da!'] \n",
      "\n"
     ]
    }
   ],
   "source": [
    "#find 5 reviews that score highest in topic_7\n",
    "for review in docTopicMatrixBR_df.sort_values(by=\"topic_12\",ascending=False).head(5)[[\"Summary\",\"Score\",\"Text\"]].values:\n",
    "    print(review,\"\\n\")"
   ]
  },
  {
   "cell_type": "code",
   "execution_count": 543,
   "metadata": {
    "execution": {
     "iopub.execute_input": "2020-11-09T00:27:53.191278Z",
     "iopub.status.busy": "2020-11-09T00:27:53.190995Z",
     "iopub.status.idle": "2020-11-09T00:27:53.236944Z",
     "shell.execute_reply": "2020-11-09T00:27:53.236225Z",
     "shell.execute_reply.started": "2020-11-09T00:27:53.191252Z"
    }
   },
   "outputs": [
    {
     "data": {
      "text/html": [
       "<div>\n",
       "<style scoped>\n",
       "    .dataframe tbody tr th:only-of-type {\n",
       "        vertical-align: middle;\n",
       "    }\n",
       "\n",
       "    .dataframe tbody tr th {\n",
       "        vertical-align: top;\n",
       "    }\n",
       "\n",
       "    .dataframe thead th {\n",
       "        text-align: right;\n",
       "    }\n",
       "</style>\n",
       "<table border=\"1\" class=\"dataframe\">\n",
       "  <thead>\n",
       "    <tr style=\"text-align: right;\">\n",
       "      <th></th>\n",
       "      <th>topic_0</th>\n",
       "      <th>topic_1</th>\n",
       "      <th>topic_2</th>\n",
       "      <th>topic_3</th>\n",
       "      <th>topic_4</th>\n",
       "      <th>topic_5</th>\n",
       "      <th>topic_6</th>\n",
       "      <th>topic_7</th>\n",
       "      <th>topic_8</th>\n",
       "      <th>topic_9</th>\n",
       "      <th>topic_10</th>\n",
       "      <th>topic_11</th>\n",
       "      <th>topic_12</th>\n",
       "      <th>topic_13</th>\n",
       "      <th>topic_14</th>\n",
       "      <th>topic_15</th>\n",
       "      <th>topic_16</th>\n",
       "      <th>topic_17</th>\n",
       "      <th>topic_18</th>\n",
       "      <th>topic_19</th>\n",
       "    </tr>\n",
       "  </thead>\n",
       "  <tbody>\n",
       "    <tr>\n",
       "      <th>aa</th>\n",
       "      <td>0.526437</td>\n",
       "      <td>0.050000</td>\n",
       "      <td>0.05</td>\n",
       "      <td>0.05</td>\n",
       "      <td>0.236483</td>\n",
       "      <td>0.05</td>\n",
       "      <td>0.05</td>\n",
       "      <td>0.050000</td>\n",
       "      <td>0.05</td>\n",
       "      <td>0.050000</td>\n",
       "      <td>0.05</td>\n",
       "      <td>0.05</td>\n",
       "      <td>1.563773</td>\n",
       "      <td>0.05</td>\n",
       "      <td>0.05</td>\n",
       "      <td>0.05</td>\n",
       "      <td>0.05</td>\n",
       "      <td>0.05</td>\n",
       "      <td>0.05</td>\n",
       "      <td>0.050000</td>\n",
       "    </tr>\n",
       "    <tr>\n",
       "      <th>aback</th>\n",
       "      <td>0.050000</td>\n",
       "      <td>0.050000</td>\n",
       "      <td>0.05</td>\n",
       "      <td>0.05</td>\n",
       "      <td>0.050000</td>\n",
       "      <td>0.05</td>\n",
       "      <td>0.05</td>\n",
       "      <td>1.317767</td>\n",
       "      <td>0.05</td>\n",
       "      <td>0.050000</td>\n",
       "      <td>0.05</td>\n",
       "      <td>0.05</td>\n",
       "      <td>0.050000</td>\n",
       "      <td>0.05</td>\n",
       "      <td>0.05</td>\n",
       "      <td>0.05</td>\n",
       "      <td>0.05</td>\n",
       "      <td>0.05</td>\n",
       "      <td>0.05</td>\n",
       "      <td>0.050000</td>\n",
       "    </tr>\n",
       "    <tr>\n",
       "      <th>abalone</th>\n",
       "      <td>0.667993</td>\n",
       "      <td>0.050000</td>\n",
       "      <td>0.05</td>\n",
       "      <td>0.05</td>\n",
       "      <td>0.050000</td>\n",
       "      <td>0.05</td>\n",
       "      <td>0.05</td>\n",
       "      <td>0.050000</td>\n",
       "      <td>0.05</td>\n",
       "      <td>0.050000</td>\n",
       "      <td>0.05</td>\n",
       "      <td>0.05</td>\n",
       "      <td>0.050000</td>\n",
       "      <td>0.05</td>\n",
       "      <td>0.05</td>\n",
       "      <td>0.05</td>\n",
       "      <td>0.05</td>\n",
       "      <td>0.05</td>\n",
       "      <td>0.05</td>\n",
       "      <td>0.050000</td>\n",
       "    </tr>\n",
       "    <tr>\n",
       "      <th>abandon</th>\n",
       "      <td>0.050000</td>\n",
       "      <td>1.554886</td>\n",
       "      <td>0.05</td>\n",
       "      <td>0.05</td>\n",
       "      <td>0.050000</td>\n",
       "      <td>0.05</td>\n",
       "      <td>0.05</td>\n",
       "      <td>0.050000</td>\n",
       "      <td>0.05</td>\n",
       "      <td>0.050000</td>\n",
       "      <td>0.05</td>\n",
       "      <td>0.05</td>\n",
       "      <td>0.885774</td>\n",
       "      <td>0.05</td>\n",
       "      <td>0.05</td>\n",
       "      <td>0.05</td>\n",
       "      <td>0.05</td>\n",
       "      <td>0.05</td>\n",
       "      <td>0.05</td>\n",
       "      <td>1.829844</td>\n",
       "    </tr>\n",
       "    <tr>\n",
       "      <th>abandoned</th>\n",
       "      <td>0.050000</td>\n",
       "      <td>0.050000</td>\n",
       "      <td>0.05</td>\n",
       "      <td>0.05</td>\n",
       "      <td>0.050000</td>\n",
       "      <td>0.05</td>\n",
       "      <td>0.05</td>\n",
       "      <td>0.050000</td>\n",
       "      <td>0.05</td>\n",
       "      <td>0.207618</td>\n",
       "      <td>0.05</td>\n",
       "      <td>0.05</td>\n",
       "      <td>0.050000</td>\n",
       "      <td>0.05</td>\n",
       "      <td>0.05</td>\n",
       "      <td>0.05</td>\n",
       "      <td>0.05</td>\n",
       "      <td>0.05</td>\n",
       "      <td>0.05</td>\n",
       "      <td>0.050000</td>\n",
       "    </tr>\n",
       "  </tbody>\n",
       "</table>\n",
       "</div>"
      ],
      "text/plain": [
       "            topic_0   topic_1  topic_2  topic_3   topic_4  topic_5  topic_6  \\\n",
       "aa         0.526437  0.050000     0.05     0.05  0.236483     0.05     0.05   \n",
       "aback      0.050000  0.050000     0.05     0.05  0.050000     0.05     0.05   \n",
       "abalone    0.667993  0.050000     0.05     0.05  0.050000     0.05     0.05   \n",
       "abandon    0.050000  1.554886     0.05     0.05  0.050000     0.05     0.05   \n",
       "abandoned  0.050000  0.050000     0.05     0.05  0.050000     0.05     0.05   \n",
       "\n",
       "            topic_7  topic_8   topic_9  topic_10  topic_11  topic_12  \\\n",
       "aa         0.050000     0.05  0.050000      0.05      0.05  1.563773   \n",
       "aback      1.317767     0.05  0.050000      0.05      0.05  0.050000   \n",
       "abalone    0.050000     0.05  0.050000      0.05      0.05  0.050000   \n",
       "abandon    0.050000     0.05  0.050000      0.05      0.05  0.885774   \n",
       "abandoned  0.050000     0.05  0.207618      0.05      0.05  0.050000   \n",
       "\n",
       "           topic_13  topic_14  topic_15  topic_16  topic_17  topic_18  \\\n",
       "aa             0.05      0.05      0.05      0.05      0.05      0.05   \n",
       "aback          0.05      0.05      0.05      0.05      0.05      0.05   \n",
       "abalone        0.05      0.05      0.05      0.05      0.05      0.05   \n",
       "abandon        0.05      0.05      0.05      0.05      0.05      0.05   \n",
       "abandoned      0.05      0.05      0.05      0.05      0.05      0.05   \n",
       "\n",
       "           topic_19  \n",
       "aa         0.050000  \n",
       "aback      0.050000  \n",
       "abalone    0.050000  \n",
       "abandon    1.829844  \n",
       "abandoned  0.050000  "
      ]
     },
     "execution_count": 543,
     "metadata": {},
     "output_type": "execute_result"
    }
   ],
   "source": [
    "bad_review_vocab = tfidfvectorizer_br.get_feature_names()\n",
    "wordTopicmatrixBR_df = pd.DataFrame(LD_AllocatorTFIDFBR.components_,columns=bad_review_vocab).T.add_prefix(\"topic_\")\n",
    "wordTopicmatrixBR_df.head()"
   ]
  },
  {
   "cell_type": "code",
   "execution_count": 544,
   "metadata": {
    "execution": {
     "iopub.execute_input": "2020-11-09T00:27:53.238042Z",
     "iopub.status.busy": "2020-11-09T00:27:53.237861Z",
     "iopub.status.idle": "2020-11-09T00:27:53.250314Z",
     "shell.execute_reply": "2020-11-09T00:27:53.249609Z",
     "shell.execute_reply.started": "2020-11-09T00:27:53.238018Z"
    }
   },
   "outputs": [
    {
     "data": {
      "text/plain": [
       "coffee    885.851989\n",
       "cup       233.281408\n",
       "taste     188.419463\n",
       "like      178.017618\n",
       "flavor    142.250258\n",
       "Name: topic_12, dtype: float64"
      ]
     },
     "execution_count": 544,
     "metadata": {},
     "output_type": "execute_result"
    }
   ],
   "source": [
    "(wordTopicmatrixBR_df.sort_values(by=\"topic_12\",ascending=False).head(5))[\"topic_12\"]"
   ]
  },
  {
   "cell_type": "code",
   "execution_count": 545,
   "metadata": {
    "execution": {
     "iopub.execute_input": "2020-11-09T00:27:53.251416Z",
     "iopub.status.busy": "2020-11-09T00:27:53.251239Z",
     "iopub.status.idle": "2020-11-09T00:27:53.452940Z",
     "shell.execute_reply": "2020-11-09T00:27:53.452302Z",
     "shell.execute_reply.started": "2020-11-09T00:27:53.251392Z"
    }
   },
   "outputs": [],
   "source": [
    "pcaBR = PCA(n_components=2)\n",
    "pcaBR.fit(docTopicMatrixBR)\n",
    "docReducedTopicMatrixBR = pcaBR.transform(docTopicMatrixBR)"
   ]
  },
  {
   "cell_type": "code",
   "execution_count": 546,
   "metadata": {
    "execution": {
     "iopub.execute_input": "2020-11-09T00:27:53.457988Z",
     "iopub.status.busy": "2020-11-09T00:27:53.454909Z",
     "iopub.status.idle": "2020-11-09T00:27:53.467292Z",
     "shell.execute_reply": "2020-11-09T00:27:53.466747Z",
     "shell.execute_reply.started": "2020-11-09T00:27:53.457959Z"
    }
   },
   "outputs": [],
   "source": [
    "review_subset_size = 7000\n",
    "\n",
    "numb_of_bad_reviews = docReducedTopicMatrixBR.shape[0]\n",
    "selected_reviews = np.random.choice(numb_of_bad_reviews,\n",
    "                                   size=review_subset_size,\n",
    "                                   replace=True)\n",
    "\n",
    "\n",
    "docReducedTopicMatrixBR_sub = docReducedTopicMatrixBR[selected_reviews,:]\n"
   ]
  },
  {
   "cell_type": "code",
   "execution_count": 547,
   "metadata": {
    "execution": {
     "iopub.execute_input": "2020-11-09T00:27:53.472532Z",
     "iopub.status.busy": "2020-11-09T00:27:53.470296Z",
     "iopub.status.idle": "2020-11-09T00:29:58.062390Z",
     "shell.execute_reply": "2020-11-09T00:29:58.061705Z",
     "shell.execute_reply.started": "2020-11-09T00:27:53.472502Z"
    }
   },
   "outputs": [
    {
     "name": "stdout",
     "output_type": "stream",
     "text": [
      "time spent doing operation is 0:01:57.416147\n"
     ]
    },
    {
     "data": {
      "image/png": "[encoded data removed]",
      "text/plain": [
       "<Figure size 1440x1440 with 1 Axes>"
      ]
     },
     "metadata": {
      "needs_background": "light"
     },
     "output_type": "display_data"
    }
   ],
   "source": [
    "#It takes 11 hours to generate the scatter plot for the full population of good reviews\n",
    "#just doing a random subset here\n",
    "\n",
    "start_time = datetime.datetime.now()\n",
    "plot_PCA_2D2(docReducedTopicMatrixBR_sub, docTopicMatrixBR_df,\"bad_reviews_subset.png\")\n",
    "end_time = datetime.datetime.now()\n",
    "print(\"time spent doing operation is {}\".format(end_time - start_time))"
   ]
  },
  {
   "cell_type": "markdown",
   "metadata": {},
   "source": [
    "**Caution**: Running the two cells below can take up to 12 hours to run. I'm protecting them with a option variable below."
   ]
  },
  {
   "cell_type": "code",
   "execution_count": 601,
   "metadata": {
    "execution": {
     "iopub.execute_input": "2020-11-09T05:57:16.433367Z",
     "iopub.status.busy": "2020-11-09T05:57:16.433091Z",
     "iopub.status.idle": "2020-11-09T05:57:16.436372Z",
     "shell.execute_reply": "2020-11-09T05:57:16.435740Z",
     "shell.execute_reply.started": "2020-11-09T05:57:16.433338Z"
    }
   },
   "outputs": [],
   "source": [
    "GENERATE_FULL_SCATTER_PLOT = 1"
   ]
  },
  {
   "cell_type": "code",
   "execution_count": null,
   "metadata": {
    "execution": {
     "iopub.execute_input": "2020-11-09T05:57:16.437616Z",
     "iopub.status.busy": "2020-11-09T05:57:16.437412Z"
    }
   },
   "outputs": [],
   "source": [
    "if GENERATE_FULL_SCATTER_PLOT:\n",
    "    start_time = datetime.datetime.now()\n",
    "    plot_PCA_2D2(docReducedTopicMatrixBR, docTopicMatrixBR_df,\"bad_reviews_full.png\")\n",
    "    end_time = datetime.datetime.now()\n",
    "    print(\"time spent doing operation is {}\".format(end_time - start_time))"
   ]
  },
  {
   "cell_type": "code",
   "execution_count": null,
   "metadata": {},
   "outputs": [],
   "source": [
    "if GENERATE_FULL_SCATTER_PLOT:\n",
    "\n",
    "    start_time = datetime.datetime.now()\n",
    "    plot_PCA_2D2(docReducedTopicMatrixGR, docTopicMatrixGR_df,\"good_reviews_full.png\")\n",
    "    end_time = datetime.datetime.now()\n",
    "    print(\"time spent doing operation is {}\".format(end_time - start_time))"
   ]
  },
  {
   "cell_type": "markdown",
   "metadata": {
    "execution": {
     "iopub.execute_input": "2020-11-09T01:26:40.114572Z",
     "iopub.status.busy": "2020-11-09T01:26:40.114299Z",
     "iopub.status.idle": "2020-11-09T01:26:40.117285Z",
     "shell.execute_reply": "2020-11-09T01:26:40.116727Z",
     "shell.execute_reply.started": "2020-11-09T01:26:40.114544Z"
    }
   },
   "source": [
    "## Component Selection Evaluation\n",
    "In this section I will perform KMeans clustering of the good and bad reviews and generate a [scree plot](https://en.wikipedia.org/wiki/Scree_plot). The purpose of the scree plotting will be to determine if the number of topics chosen in the PCA analysis performed above explains an adequate amount of variance in the respective reviews."
   ]
  },
  {
   "cell_type": "markdown",
   "metadata": {
    "execution": {
     "iopub.execute_input": "2020-11-09T01:30:01.796217Z",
     "iopub.status.busy": "2020-11-09T01:30:01.795947Z",
     "iopub.status.idle": "2020-11-09T01:30:01.799182Z",
     "shell.execute_reply": "2020-11-09T01:30:01.798390Z",
     "shell.execute_reply.started": "2020-11-09T01:30:01.796188Z"
    }
   },
   "source": [
    "### Good Review Scree Plot Analysis"
   ]
  },
  {
   "cell_type": "code",
   "execution_count": null,
   "metadata": {},
   "outputs": [],
   "source": [
    "docTermMatrixTFIDFBR.shape"
   ]
  },
  {
   "cell_type": "code",
   "execution_count": null,
   "metadata": {},
   "outputs": [],
   "source": [
    "#Using the TFIDF vectorized document term matrix as the data set\n",
    "pcaGR40 = TruncatedSVD(n_components=500)\n",
    "pcaGR40.fit(docTermMatrixTFIDFGR)\n",
    "plt.figure(figsize=(20,20))\n",
    "plt.plot(pcaGR40.explained_variance_ratio_)\n",
    "plt.xlabel(\"Topic Number\",fontsize=16)\n",
    "plt.ylabel(\"Percent Explained Variance\",fontsize=16)\n",
    "plt.show();"
   ]
  },
  {
   "cell_type": "code",
   "execution_count": null,
   "metadata": {},
   "outputs": [],
   "source": [
    "plt.figure(figsize=(20,20))\n",
    "plt.plot(np.cumsum(pcaGR40.explained_variance_ratio_))\n",
    "plt.xlabel(\"Number of Topics\",fontsize=16)\n",
    "plt.ylabel(\"Cumulative Percent of Explained Variance\",fontsize=16)\n",
    "plt.show();"
   ]
  },
  {
   "cell_type": "markdown",
   "metadata": {},
   "source": [
    "The \"knee\" of the scree plot is at around 5 topics. The biggest reduction in explained variance occured up until the number of topics is 5. There is an improvement beyond topic 5, but the amount of improvement per added topic descreases."
   ]
  },
  {
   "cell_type": "markdown",
   "metadata": {},
   "source": [
    "### Bad Review Scree Plot Analysis"
   ]
  },
  {
   "cell_type": "code",
   "execution_count": null,
   "metadata": {},
   "outputs": [],
   "source": [
    "#Using the TFIDF vectorized document term matrix as the data set\n",
    "pcaBR40 = TruncatedSVD(n_components=40)\n",
    "pcaBR40.fit(docTermMatrixTFIDFBR)\n",
    "plt.figure(figsize=(20,20))\n",
    "plt.plot(pcaBR40.explained_variance_ratio_)\n",
    "plt.xlabel(\"Topic Number\",fontsize=16)\n",
    "plt.ylabel(\"Explained Variance\",fontsize=16)\n",
    "plt.show();"
   ]
  },
  {
   "cell_type": "code",
   "execution_count": null,
   "metadata": {},
   "outputs": [],
   "source": [
    "plt.figure(figsize=(20,20))\n",
    "plt.plot(np.cumsum(pcaBR40.explained_variance_ratio_))\n",
    "plt.xlabel(\"Number of Topics\",fontsize=16)\n",
    "plt.ylabel(\"Percent of Explained Variance\",fontsize=16)\n",
    "plt.show();"
   ]
  },
  {
   "cell_type": "code",
   "execution_count": null,
   "metadata": {},
   "outputs": [],
   "source": []
  }
 ],
 "metadata": {
  "kernelspec": {
   "display_name": "Python 3",
   "language": "python",
   "name": "python3"
  },
  "language_info": {
   "codemirror_mode": {
    "name": "ipython",
    "version": 3
   },
   "file_extension": ".py",
   "mimetype": "text/x-python",
   "name": "python",
   "nbconvert_exporter": "python",
   "pygments_lexer": "ipython3",
   "version": "3.8.3"
  }
 },
 "nbformat": 4,
 "nbformat_minor": 4
}
