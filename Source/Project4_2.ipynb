{
 "cells": [
  {
   "cell_type": "code",
   "execution_count": 11,
   "metadata": {
    "execution": {
     "iopub.execute_input": "2020-11-06T21:20:17.981617Z",
     "iopub.status.busy": "2020-11-06T21:20:17.981354Z",
     "iopub.status.idle": "2020-11-06T21:20:17.984858Z",
     "shell.execute_reply": "2020-11-06T21:20:17.984135Z",
     "shell.execute_reply.started": "2020-11-06T21:20:17.981584Z"
    }
   },
   "outputs": [],
   "source": [
    "#disable warnings\n",
    "import warnings\n",
    "warnings.filterwarnings(\"ignore\") "
   ]
  },
  {
   "cell_type": "code",
   "execution_count": 12,
   "metadata": {
    "execution": {
     "iopub.execute_input": "2020-11-06T21:20:17.986200Z",
     "iopub.status.busy": "2020-11-06T21:20:17.985998Z",
     "iopub.status.idle": "2020-11-06T21:20:17.994073Z",
     "shell.execute_reply": "2020-11-06T21:20:17.993463Z",
     "shell.execute_reply.started": "2020-11-06T21:20:17.986173Z"
    }
   },
   "outputs": [],
   "source": [
    "#stuff"
   ]
  },
  {
   "cell_type": "markdown",
   "metadata": {},
   "source": [
    "# Purpose of this Notebook"
   ]
  },
  {
   "cell_type": "code",
   "execution_count": 38,
   "metadata": {
    "execution": {
     "iopub.execute_input": "2020-11-06T21:58:48.096559Z",
     "iopub.status.busy": "2020-11-06T21:58:48.096286Z",
     "iopub.status.idle": "2020-11-06T21:58:48.099843Z",
     "shell.execute_reply": "2020-11-06T21:58:48.099190Z",
     "shell.execute_reply.started": "2020-11-06T21:58:48.096530Z"
    }
   },
   "outputs": [],
   "source": [
    "#Number of reviews to put into data frame of good reviews. Set it to less than 0 if you want all of the good reviews to be processed\n",
    "NUMB_OF_DOCS1 = -1\n",
    "\n",
    "#Number of reviews to put into data frame of bad reviews\n",
    "NUMB_OF_DOCS2=100\n",
    "\n",
    "#set to 1 if you want to reclean the dataframes, otherwise it will load data from a previous clean\n",
    "#note cleaning takes 30 minutes on a pretty fast machine\n",
    "CLEAN_DATAFRAME = 0"
   ]
  },
  {
   "cell_type": "markdown",
   "metadata": {},
   "source": [
    "## Problem Statement"
   ]
  },
  {
   "cell_type": "markdown",
   "metadata": {},
   "source": [
    "Product developers often want to know this about their products:\n",
    "\n",
    "* For products that people don't like, what is it about the products they don't like? Maybe if we know this we could improve the product by fixing this unliked product features\n",
    "* For products that people love, what is it about the products that result in people loving them? Maybe if we expanded on these loved features, we could get new customers or better retain current customers"
   ]
  },
  {
   "cell_type": "markdown",
   "metadata": {},
   "source": [
    "## Proposed Solution"
   ]
  },
  {
   "cell_type": "markdown",
   "metadata": {},
   "source": [
    "Topic modeling and clustering(?) that identifies the features of products that people love and somehow rank them so that a product manaer can have a priority list of things that could be addressed to get more love\n",
    "Topic modeling and clustering(?) that identifies the features of products that people don't like and somehow rank them so that a product manaer can have a priority list of things that could be fixed to hopefully turn the disliked product into a liked product.\n"
   ]
  },
  {
   "cell_type": "markdown",
   "metadata": {
    "execution": {
     "iopub.execute_input": "2020-11-04T21:11:05.576479Z",
     "iopub.status.busy": "2020-11-04T21:11:05.576164Z",
     "iopub.status.idle": "2020-11-04T21:11:05.580086Z",
     "shell.execute_reply": "2020-11-04T21:11:05.579426Z",
     "shell.execute_reply.started": "2020-11-04T21:11:05.576406Z"
    }
   },
   "source": [
    "# Module Import"
   ]
  },
  {
   "cell_type": "code",
   "execution_count": 66,
   "metadata": {
    "execution": {
     "iopub.execute_input": "2020-11-06T22:01:36.728414Z",
     "iopub.status.busy": "2020-11-06T22:01:36.728148Z",
     "iopub.status.idle": "2020-11-06T22:01:36.789740Z",
     "shell.execute_reply": "2020-11-06T22:01:36.789136Z",
     "shell.execute_reply.started": "2020-11-06T22:01:36.728386Z"
    }
   },
   "outputs": [],
   "source": [
    "\n",
    "\n",
    "\n",
    "import datetime\n",
    "from collections import Counter\n",
    "import pickle\n",
    "\n",
    "import pandas as pd\n",
    "import numpy as np\n",
    "import matplotlib.pyplot as plt\n",
    "\n",
    "\n",
    "\n",
    "import re\n",
    "\n",
    "#to speed up pandas operands\n",
    "from pandarallel import pandarallel\n",
    "\n",
    "from sklearn.feature_extraction.text import CountVectorizer, TfidfVectorizer\n",
    "from sklearn.decomposition import LatentDirichletAllocation\n",
    "\n",
    "import nltk\n",
    "from nltk.corpus import wordnet\n",
    "from nltk.tag import pos_tag\n",
    "from nltk.tokenize import word_tokenize\n",
    "from nltk.stem import WordNetLemmatizer\n",
    "\n",
    "import pyLDAvis\n",
    "import pyLDAvis.sklearn\n",
    "\n",
    "#gensim\n",
    "from gensim import corpora, models, similarities, matutils\n",
    "\n"
   ]
  },
  {
   "cell_type": "markdown",
   "metadata": {},
   "source": [
    "# NLP Pipeline\n",
    "\n"
   ]
  },
  {
   "cell_type": "markdown",
   "metadata": {},
   "source": [
    "## Text Preprocessing\n",
    "Essentially will do this:\n",
    "\n",
    "```\n",
    "\n",
    "(input text) -->[clean(remove text I don't want)]--> [tokenization] --> [lemmatization] --> [Next_Stages]\n",
    "\n",
    "```"
   ]
  },
  {
   "cell_type": "code",
   "execution_count": 15,
   "metadata": {
    "execution": {
     "iopub.execute_input": "2020-11-06T21:20:18.008214Z",
     "iopub.status.busy": "2020-11-06T21:20:18.008064Z",
     "iopub.status.idle": "2020-11-06T21:20:21.031911Z",
     "shell.execute_reply": "2020-11-06T21:20:21.031192Z",
     "shell.execute_reply.started": "2020-11-06T21:20:18.008194Z"
    }
   },
   "outputs": [],
   "source": [
    "reviews_df = pd.read_csv(\"../Data/Reviews.csv\")"
   ]
  },
  {
   "cell_type": "code",
   "execution_count": 16,
   "metadata": {
    "execution": {
     "iopub.execute_input": "2020-11-06T21:20:21.032920Z",
     "iopub.status.busy": "2020-11-06T21:20:21.032765Z",
     "iopub.status.idle": "2020-11-06T21:20:21.047374Z",
     "shell.execute_reply": "2020-11-06T21:20:21.046809Z",
     "shell.execute_reply.started": "2020-11-06T21:20:21.032899Z"
    }
   },
   "outputs": [
    {
     "data": {
      "text/html": [
       "<div>\n",
       "<style scoped>\n",
       "    .dataframe tbody tr th:only-of-type {\n",
       "        vertical-align: middle;\n",
       "    }\n",
       "\n",
       "    .dataframe tbody tr th {\n",
       "        vertical-align: top;\n",
       "    }\n",
       "\n",
       "    .dataframe thead th {\n",
       "        text-align: right;\n",
       "    }\n",
       "</style>\n",
       "<table border=\"1\" class=\"dataframe\">\n",
       "  <thead>\n",
       "    <tr style=\"text-align: right;\">\n",
       "      <th></th>\n",
       "      <th>Id</th>\n",
       "      <th>ProductId</th>\n",
       "      <th>UserId</th>\n",
       "      <th>ProfileName</th>\n",
       "      <th>HelpfulnessNumerator</th>\n",
       "      <th>HelpfulnessDenominator</th>\n",
       "      <th>Score</th>\n",
       "      <th>Time</th>\n",
       "      <th>Summary</th>\n",
       "      <th>Text</th>\n",
       "    </tr>\n",
       "  </thead>\n",
       "  <tbody>\n",
       "    <tr>\n",
       "      <th>0</th>\n",
       "      <td>1</td>\n",
       "      <td>B001E4KFG0</td>\n",
       "      <td>A3SGXH7AUHU8GW</td>\n",
       "      <td>delmartian</td>\n",
       "      <td>1</td>\n",
       "      <td>1</td>\n",
       "      <td>5</td>\n",
       "      <td>1303862400</td>\n",
       "      <td>Good Quality Dog Food</td>\n",
       "      <td>I have bought several of the Vitality canned d...</td>\n",
       "    </tr>\n",
       "    <tr>\n",
       "      <th>1</th>\n",
       "      <td>2</td>\n",
       "      <td>B00813GRG4</td>\n",
       "      <td>A1D87F6ZCVE5NK</td>\n",
       "      <td>dll pa</td>\n",
       "      <td>0</td>\n",
       "      <td>0</td>\n",
       "      <td>1</td>\n",
       "      <td>1346976000</td>\n",
       "      <td>Not as Advertised</td>\n",
       "      <td>Product arrived labeled as Jumbo Salted Peanut...</td>\n",
       "    </tr>\n",
       "    <tr>\n",
       "      <th>2</th>\n",
       "      <td>3</td>\n",
       "      <td>B000LQOCH0</td>\n",
       "      <td>ABXLMWJIXXAIN</td>\n",
       "      <td>Natalia Corres \"Natalia Corres\"</td>\n",
       "      <td>1</td>\n",
       "      <td>1</td>\n",
       "      <td>4</td>\n",
       "      <td>1219017600</td>\n",
       "      <td>\"Delight\" says it all</td>\n",
       "      <td>This is a confection that has been around a fe...</td>\n",
       "    </tr>\n",
       "    <tr>\n",
       "      <th>3</th>\n",
       "      <td>4</td>\n",
       "      <td>B000UA0QIQ</td>\n",
       "      <td>A395BORC6FGVXV</td>\n",
       "      <td>Karl</td>\n",
       "      <td>3</td>\n",
       "      <td>3</td>\n",
       "      <td>2</td>\n",
       "      <td>1307923200</td>\n",
       "      <td>Cough Medicine</td>\n",
       "      <td>If you are looking for the secret ingredient i...</td>\n",
       "    </tr>\n",
       "    <tr>\n",
       "      <th>4</th>\n",
       "      <td>5</td>\n",
       "      <td>B006K2ZZ7K</td>\n",
       "      <td>A1UQRSCLF8GW1T</td>\n",
       "      <td>Michael D. Bigham \"M. Wassir\"</td>\n",
       "      <td>0</td>\n",
       "      <td>0</td>\n",
       "      <td>5</td>\n",
       "      <td>1350777600</td>\n",
       "      <td>Great taffy</td>\n",
       "      <td>Great taffy at a great price.  There was a wid...</td>\n",
       "    </tr>\n",
       "  </tbody>\n",
       "</table>\n",
       "</div>"
      ],
      "text/plain": [
       "   Id   ProductId          UserId                      ProfileName  \\\n",
       "0   1  B001E4KFG0  A3SGXH7AUHU8GW                       delmartian   \n",
       "1   2  B00813GRG4  A1D87F6ZCVE5NK                           dll pa   \n",
       "2   3  B000LQOCH0   ABXLMWJIXXAIN  Natalia Corres \"Natalia Corres\"   \n",
       "3   4  B000UA0QIQ  A395BORC6FGVXV                             Karl   \n",
       "4   5  B006K2ZZ7K  A1UQRSCLF8GW1T    Michael D. Bigham \"M. Wassir\"   \n",
       "\n",
       "   HelpfulnessNumerator  HelpfulnessDenominator  Score        Time  \\\n",
       "0                     1                       1      5  1303862400   \n",
       "1                     0                       0      1  1346976000   \n",
       "2                     1                       1      4  1219017600   \n",
       "3                     3                       3      2  1307923200   \n",
       "4                     0                       0      5  1350777600   \n",
       "\n",
       "                 Summary                                               Text  \n",
       "0  Good Quality Dog Food  I have bought several of the Vitality canned d...  \n",
       "1      Not as Advertised  Product arrived labeled as Jumbo Salted Peanut...  \n",
       "2  \"Delight\" says it all  This is a confection that has been around a fe...  \n",
       "3         Cough Medicine  If you are looking for the secret ingredient i...  \n",
       "4            Great taffy  Great taffy at a great price.  There was a wid...  "
      ]
     },
     "execution_count": 16,
     "metadata": {},
     "output_type": "execute_result"
    }
   ],
   "source": [
    "reviews_df.head()"
   ]
  },
  {
   "cell_type": "code",
   "execution_count": 17,
   "metadata": {
    "execution": {
     "iopub.execute_input": "2020-11-06T21:20:21.048223Z",
     "iopub.status.busy": "2020-11-06T21:20:21.048078Z",
     "iopub.status.idle": "2020-11-06T21:20:21.132440Z",
     "shell.execute_reply": "2020-11-06T21:20:21.131884Z",
     "shell.execute_reply.started": "2020-11-06T21:20:21.048203Z"
    }
   },
   "outputs": [
    {
     "data": {
      "text/html": [
       "<div>\n",
       "<style scoped>\n",
       "    .dataframe tbody tr th:only-of-type {\n",
       "        vertical-align: middle;\n",
       "    }\n",
       "\n",
       "    .dataframe tbody tr th {\n",
       "        vertical-align: top;\n",
       "    }\n",
       "\n",
       "    .dataframe thead th {\n",
       "        text-align: right;\n",
       "    }\n",
       "</style>\n",
       "<table border=\"1\" class=\"dataframe\">\n",
       "  <thead>\n",
       "    <tr style=\"text-align: right;\">\n",
       "      <th></th>\n",
       "      <th>Id</th>\n",
       "      <th>HelpfulnessNumerator</th>\n",
       "      <th>HelpfulnessDenominator</th>\n",
       "      <th>Score</th>\n",
       "      <th>Time</th>\n",
       "    </tr>\n",
       "  </thead>\n",
       "  <tbody>\n",
       "    <tr>\n",
       "      <th>count</th>\n",
       "      <td>568454.000000</td>\n",
       "      <td>568454.000000</td>\n",
       "      <td>568454.00000</td>\n",
       "      <td>568454.000000</td>\n",
       "      <td>5.684540e+05</td>\n",
       "    </tr>\n",
       "    <tr>\n",
       "      <th>mean</th>\n",
       "      <td>284227.500000</td>\n",
       "      <td>1.743817</td>\n",
       "      <td>2.22881</td>\n",
       "      <td>4.183199</td>\n",
       "      <td>1.296257e+09</td>\n",
       "    </tr>\n",
       "    <tr>\n",
       "      <th>std</th>\n",
       "      <td>164098.679298</td>\n",
       "      <td>7.636513</td>\n",
       "      <td>8.28974</td>\n",
       "      <td>1.310436</td>\n",
       "      <td>4.804331e+07</td>\n",
       "    </tr>\n",
       "    <tr>\n",
       "      <th>min</th>\n",
       "      <td>1.000000</td>\n",
       "      <td>0.000000</td>\n",
       "      <td>0.00000</td>\n",
       "      <td>1.000000</td>\n",
       "      <td>9.393408e+08</td>\n",
       "    </tr>\n",
       "    <tr>\n",
       "      <th>25%</th>\n",
       "      <td>142114.250000</td>\n",
       "      <td>0.000000</td>\n",
       "      <td>0.00000</td>\n",
       "      <td>4.000000</td>\n",
       "      <td>1.271290e+09</td>\n",
       "    </tr>\n",
       "    <tr>\n",
       "      <th>50%</th>\n",
       "      <td>284227.500000</td>\n",
       "      <td>0.000000</td>\n",
       "      <td>1.00000</td>\n",
       "      <td>5.000000</td>\n",
       "      <td>1.311120e+09</td>\n",
       "    </tr>\n",
       "    <tr>\n",
       "      <th>75%</th>\n",
       "      <td>426340.750000</td>\n",
       "      <td>2.000000</td>\n",
       "      <td>2.00000</td>\n",
       "      <td>5.000000</td>\n",
       "      <td>1.332720e+09</td>\n",
       "    </tr>\n",
       "    <tr>\n",
       "      <th>max</th>\n",
       "      <td>568454.000000</td>\n",
       "      <td>866.000000</td>\n",
       "      <td>923.00000</td>\n",
       "      <td>5.000000</td>\n",
       "      <td>1.351210e+09</td>\n",
       "    </tr>\n",
       "  </tbody>\n",
       "</table>\n",
       "</div>"
      ],
      "text/plain": [
       "                  Id  HelpfulnessNumerator  HelpfulnessDenominator  \\\n",
       "count  568454.000000         568454.000000            568454.00000   \n",
       "mean   284227.500000              1.743817                 2.22881   \n",
       "std    164098.679298              7.636513                 8.28974   \n",
       "min         1.000000              0.000000                 0.00000   \n",
       "25%    142114.250000              0.000000                 0.00000   \n",
       "50%    284227.500000              0.000000                 1.00000   \n",
       "75%    426340.750000              2.000000                 2.00000   \n",
       "max    568454.000000            866.000000               923.00000   \n",
       "\n",
       "               Score          Time  \n",
       "count  568454.000000  5.684540e+05  \n",
       "mean        4.183199  1.296257e+09  \n",
       "std         1.310436  4.804331e+07  \n",
       "min         1.000000  9.393408e+08  \n",
       "25%         4.000000  1.271290e+09  \n",
       "50%         5.000000  1.311120e+09  \n",
       "75%         5.000000  1.332720e+09  \n",
       "max         5.000000  1.351210e+09  "
      ]
     },
     "execution_count": 17,
     "metadata": {},
     "output_type": "execute_result"
    }
   ],
   "source": [
    "reviews_df.describe()"
   ]
  },
  {
   "cell_type": "code",
   "execution_count": 18,
   "metadata": {
    "execution": {
     "iopub.execute_input": "2020-11-06T21:20:21.133534Z",
     "iopub.status.busy": "2020-11-06T21:20:21.133366Z",
     "iopub.status.idle": "2020-11-06T21:20:21.146080Z",
     "shell.execute_reply": "2020-11-06T21:20:21.145624Z",
     "shell.execute_reply.started": "2020-11-06T21:20:21.133513Z"
    }
   },
   "outputs": [
    {
     "data": {
      "text/plain": [
       "'I have bought several of the Vitality canned dog food products and have found them all to be of good quality. The product looks more like a stew than a processed meat and it smells better. My Labrador is finicky and she appreciates this product better than  most.'"
      ]
     },
     "execution_count": 18,
     "metadata": {},
     "output_type": "execute_result"
    }
   ],
   "source": [
    "reviews_df.loc[0,\"Text\"]"
   ]
  },
  {
   "cell_type": "code",
   "execution_count": 19,
   "metadata": {
    "execution": {
     "iopub.execute_input": "2020-11-06T21:20:21.147780Z",
     "iopub.status.busy": "2020-11-06T21:20:21.147620Z",
     "iopub.status.idle": "2020-11-06T21:20:21.155784Z",
     "shell.execute_reply": "2020-11-06T21:20:21.155230Z",
     "shell.execute_reply.started": "2020-11-06T21:20:21.147760Z"
    }
   },
   "outputs": [
    {
     "data": {
      "text/plain": [
       "5    363122\n",
       "4     80655\n",
       "1     52268\n",
       "3     42640\n",
       "2     29769\n",
       "Name: Score, dtype: int64"
      ]
     },
     "execution_count": 19,
     "metadata": {},
     "output_type": "execute_result"
    }
   ],
   "source": [
    "reviews_df[\"Score\"].value_counts()"
   ]
  },
  {
   "cell_type": "markdown",
   "metadata": {},
   "source": [
    "According to the Kaggle description `HelpfulnessNumerator` should be less than or equal to `HelpfulnessDenominator`. So I will filter out any reviews that do not meet this specification.  Also, removing reviews where `HelpfulnessDenominator` is zero as this indicates a review that is not useful:"
   ]
  },
  {
   "cell_type": "code",
   "execution_count": 20,
   "metadata": {
    "execution": {
     "iopub.execute_input": "2020-11-06T21:20:21.156712Z",
     "iopub.status.busy": "2020-11-06T21:20:21.156566Z",
     "iopub.status.idle": "2020-11-06T21:20:21.212330Z",
     "shell.execute_reply": "2020-11-06T21:20:21.211829Z",
     "shell.execute_reply.started": "2020-11-06T21:20:21.156692Z"
    }
   },
   "outputs": [
    {
     "data": {
      "text/plain": [
       "(270054, 10)"
      ]
     },
     "execution_count": 20,
     "metadata": {},
     "output_type": "execute_result"
    }
   ],
   "source": [
    "mask = (reviews_df[\"HelpfulnessNumerator\"] <=  reviews_df[\"HelpfulnessDenominator\"]) & (reviews_df[\"HelpfulnessDenominator\"]!=0)\n",
    "reviews_df[~mask].shape"
   ]
  },
  {
   "cell_type": "markdown",
   "metadata": {},
   "source": [
    "There are few to remove so doing that now:"
   ]
  },
  {
   "cell_type": "code",
   "execution_count": 21,
   "metadata": {
    "execution": {
     "iopub.execute_input": "2020-11-06T21:20:21.213377Z",
     "iopub.status.busy": "2020-11-06T21:20:21.213231Z",
     "iopub.status.idle": "2020-11-06T21:20:21.252298Z",
     "shell.execute_reply": "2020-11-06T21:20:21.251541Z",
     "shell.execute_reply.started": "2020-11-06T21:20:21.213357Z"
    }
   },
   "outputs": [],
   "source": [
    "reviews_df = reviews_df[mask]"
   ]
  },
  {
   "cell_type": "markdown",
   "metadata": {},
   "source": [
    "Are there any duplicate entries?"
   ]
  },
  {
   "cell_type": "code",
   "execution_count": 22,
   "metadata": {
    "execution": {
     "iopub.execute_input": "2020-11-06T21:20:21.253561Z",
     "iopub.status.busy": "2020-11-06T21:20:21.253376Z",
     "iopub.status.idle": "2020-11-06T21:20:21.744759Z",
     "shell.execute_reply": "2020-11-06T21:20:21.744211Z",
     "shell.execute_reply.started": "2020-11-06T21:20:21.253540Z"
    }
   },
   "outputs": [
    {
     "data": {
      "text/plain": [
       "False    209681\n",
       "True      88719\n",
       "dtype: int64"
      ]
     },
     "execution_count": 22,
     "metadata": {},
     "output_type": "execute_result"
    }
   ],
   "source": [
    "reviews_df.duplicated(subset=[\"UserId\",\"ProfileName\",\"Time\",\"Text\"],keep=\"first\").value_counts()"
   ]
  },
  {
   "cell_type": "code",
   "execution_count": 23,
   "metadata": {
    "execution": {
     "iopub.execute_input": "2020-11-06T21:20:21.745600Z",
     "iopub.status.busy": "2020-11-06T21:20:21.745452Z",
     "iopub.status.idle": "2020-11-06T21:20:22.248906Z",
     "shell.execute_reply": "2020-11-06T21:20:22.248276Z",
     "shell.execute_reply.started": "2020-11-06T21:20:21.745581Z"
    }
   },
   "outputs": [],
   "source": [
    "reviews_df.drop_duplicates(subset=[\"UserId\",\"ProfileName\",\"Time\",\"Text\"],keep=\"first\",inplace=True)"
   ]
  },
  {
   "cell_type": "code",
   "execution_count": 24,
   "metadata": {
    "execution": {
     "iopub.execute_input": "2020-11-06T21:20:22.249766Z",
     "iopub.status.busy": "2020-11-06T21:20:22.249621Z",
     "iopub.status.idle": "2020-11-06T21:20:22.357525Z",
     "shell.execute_reply": "2020-11-06T21:20:22.356920Z",
     "shell.execute_reply.started": "2020-11-06T21:20:22.249747Z"
    }
   },
   "outputs": [],
   "source": [
    "reviews_df.dropna(inplace=True)"
   ]
  },
  {
   "cell_type": "markdown",
   "metadata": {},
   "source": [
    "calculating a helpfulness metric in the hopes that it helps separate reviews."
   ]
  },
  {
   "cell_type": "code",
   "execution_count": 25,
   "metadata": {
    "execution": {
     "iopub.execute_input": "2020-11-06T21:20:26.881730Z",
     "iopub.status.busy": "2020-11-06T21:20:26.881466Z",
     "iopub.status.idle": "2020-11-06T21:20:26.887382Z",
     "shell.execute_reply": "2020-11-06T21:20:26.886715Z",
     "shell.execute_reply.started": "2020-11-06T21:20:26.881701Z"
    }
   },
   "outputs": [],
   "source": [
    "reviews_df[\"helpful_rating\"] = reviews_df[\"HelpfulnessNumerator\"] / reviews_df[\"HelpfulnessDenominator\"]"
   ]
  },
  {
   "cell_type": "code",
   "execution_count": 26,
   "metadata": {
    "execution": {
     "iopub.execute_input": "2020-11-06T21:20:27.966503Z",
     "iopub.status.busy": "2020-11-06T21:20:27.966240Z",
     "iopub.status.idle": "2020-11-06T21:20:27.969273Z",
     "shell.execute_reply": "2020-11-06T21:20:27.968624Z",
     "shell.execute_reply.started": "2020-11-06T21:20:27.966475Z"
    }
   },
   "outputs": [],
   "source": [
    "# Not helpful\n",
    "# TODO: Delete\n",
    "#plt.figure(figsize=(40,40))\n",
    "#plt.scatter(reviews_df[\"Score\"],reviews_df[\"helpful_rating\"],alpha=0.5)\n",
    "#plt.xlabel(\"Score\")\n",
    "#plt.ylabel(\"helpful rating\")\n",
    "#plt.show();"
   ]
  },
  {
   "cell_type": "markdown",
   "metadata": {},
   "source": [
    "Going to create a dataframe of bad reviews and one of good reviews to process separately. I remove reviews where \"Score\" == 3 because do not indicate a call to action to either improve a bad product or point out a product that likely has nice features."
   ]
  },
  {
   "cell_type": "code",
   "execution_count": 27,
   "metadata": {
    "execution": {
     "iopub.execute_input": "2020-11-06T21:20:28.630858Z",
     "iopub.status.busy": "2020-11-06T21:20:28.630594Z",
     "iopub.status.idle": "2020-11-06T21:20:28.634820Z",
     "shell.execute_reply": "2020-11-06T21:20:28.634245Z",
     "shell.execute_reply.started": "2020-11-06T21:20:28.630830Z"
    }
   },
   "outputs": [
    {
     "data": {
      "text/plain": [
       "(209675, 11)"
      ]
     },
     "execution_count": 27,
     "metadata": {},
     "output_type": "execute_result"
    }
   ],
   "source": [
    "reviews_df.shape"
   ]
  },
  {
   "cell_type": "code",
   "execution_count": 28,
   "metadata": {
    "execution": {
     "iopub.execute_input": "2020-11-06T21:20:34.304650Z",
     "iopub.status.busy": "2020-11-06T21:20:34.304369Z",
     "iopub.status.idle": "2020-11-06T21:20:34.336842Z",
     "shell.execute_reply": "2020-11-06T21:20:34.336254Z",
     "shell.execute_reply.started": "2020-11-06T21:20:34.304621Z"
    }
   },
   "outputs": [],
   "source": [
    "good_reviews_df = reviews_df[ reviews_df[\"Score\"] >= 4 ]\n",
    "bad_reviews_df = reviews_df[ reviews_df[\"Score\"] <= 2 ]"
   ]
  },
  {
   "cell_type": "code",
   "execution_count": 29,
   "metadata": {
    "execution": {
     "iopub.execute_input": "2020-11-06T21:20:34.804200Z",
     "iopub.status.busy": "2020-11-06T21:20:34.803934Z",
     "iopub.status.idle": "2020-11-06T21:20:34.808212Z",
     "shell.execute_reply": "2020-11-06T21:20:34.807647Z",
     "shell.execute_reply.started": "2020-11-06T21:20:34.804172Z"
    }
   },
   "outputs": [],
   "source": [
    "if (NUMB_OF_DOCS1 > good_reviews_df.shape[0]) or (NUMB_OF_DOCS1 < 0):\n",
    "    NUMB_OF_DOCS1 = good_reviews_df.shape[0]\n",
    "\n",
    "\n",
    "if (NUMB_OF_DOCS2 > bad_reviews_df.shape[0]) or (NUMB_OF_DOCS2 < 0):\n",
    "    NUMB_OF_DOCS2 = bad_reviews_df.shape[0]"
   ]
  },
  {
   "cell_type": "code",
   "execution_count": 30,
   "metadata": {
    "execution": {
     "iopub.execute_input": "2020-11-06T21:20:42.392974Z",
     "iopub.status.busy": "2020-11-06T21:20:42.392708Z",
     "iopub.status.idle": "2020-11-06T21:20:42.395742Z",
     "shell.execute_reply": "2020-11-06T21:20:42.395070Z",
     "shell.execute_reply.started": "2020-11-06T21:20:42.392946Z"
    }
   },
   "outputs": [],
   "source": [
    "#stuff = list(good_reviews_df.Text.head(NUMB_OF_DOCS1))"
   ]
  },
  {
   "cell_type": "markdown",
   "metadata": {},
   "source": [
    "Thoughts on mispelled words and non English words:\n",
    "\n",
    "What I'm trying to do here (TODO describe this) is identify adjectives. So I will remove words that are not in nltk's corpus of words to hopefully remove misspelled words and non-English words."
   ]
  },
  {
   "cell_type": "code",
   "execution_count": 31,
   "metadata": {
    "execution": {
     "iopub.execute_input": "2020-11-06T21:20:43.200137Z",
     "iopub.status.busy": "2020-11-06T21:20:43.199869Z",
     "iopub.status.idle": "2020-11-06T21:20:43.206423Z",
     "shell.execute_reply": "2020-11-06T21:20:43.205760Z",
     "shell.execute_reply.started": "2020-11-06T21:20:43.200108Z"
    }
   },
   "outputs": [],
   "source": [
    "#Removing HTML from the text\n",
    "#stuff = [re.sub(\"<.*?>\",\"\",item) for item in stuff]\n",
    "\n",
    "def remove_html_punct(row):\n",
    "    \"\"\"This function removes HTML and punctuation and anything that is or contains a number from the Text\"\"\"\n",
    "    \n",
    "    NLTK_WORDS = set(nltk.corpus.words.words())\n",
    "    \n",
    "    text_to_process = row[\"Text\"]\n",
    "    text_to_process = text_to_process.lower()\n",
    "    text_to_process = re.sub(\"<.*?>\",\"\",text_to_process)\n",
    "    text_to_process = re.sub(\"[\\.|\\!|\\?|\\,|\\;|\\:|\\&|\\(|\\)|\\-|\\%|_]\",\"\",text_to_process)\n",
    "    text_to_process = re.sub(\"\\d+\\w+\",\"\",text_to_process)\n",
    "    text_to_process_list = text_to_process.split()\n",
    "    text_to_process_list = [review_word for review_word in text_to_process_list if review_word in NLTK_WORDS]\n",
    "    text_to_process = \" \".join(text_to_process_list)\n",
    "    return text_to_process\n",
    "\n"
   ]
  },
  {
   "cell_type": "code",
   "execution_count": 33,
   "metadata": {
    "execution": {
     "iopub.execute_input": "2020-11-06T21:21:10.758038Z",
     "iopub.status.busy": "2020-11-06T21:21:10.757763Z",
     "iopub.status.idle": "2020-11-06T21:51:17.035104Z",
     "shell.execute_reply": "2020-11-06T21:51:17.034377Z",
     "shell.execute_reply.started": "2020-11-06T21:21:10.758008Z"
    }
   },
   "outputs": [
    {
     "name": "stdout",
     "output_type": "stream",
     "text": [
      "INFO: Pandarallel will run on 64 workers.\n",
      "INFO: Pandarallel will use Memory file system to transfer data between the main process and workers.\n",
      "time spent doing operation is 0:30:06.271101\n"
     ]
    }
   ],
   "source": [
    "if CLEAN_DATAFRAME == 1:\n",
    "\n",
    "    #TODO If you have time - convert it to a SQL query\n",
    "    pandarallel.initialize()\n",
    "\n",
    "    start_time = datetime.datetime.now()\n",
    "\n",
    "    good_reviews_df[\"ProcessedText\"] = good_reviews_df.parallel_apply(remove_html_punct,axis=1)\n",
    "\n",
    "    end_time = datetime.datetime.now()\n",
    "    print(\"time spent doing operation is {}\".format(end_time - start_time))\n",
    "else:\n",
    "    print(\"skipping cleaning the data frame.\")"
   ]
  },
  {
   "cell_type": "code",
   "execution_count": 34,
   "metadata": {
    "execution": {
     "iopub.execute_input": "2020-11-06T21:57:51.325279Z",
     "iopub.status.busy": "2020-11-06T21:57:51.325007Z",
     "iopub.status.idle": "2020-11-06T21:57:51.342351Z",
     "shell.execute_reply": "2020-11-06T21:57:51.341795Z",
     "shell.execute_reply.started": "2020-11-06T21:57:51.325248Z"
    }
   },
   "outputs": [
    {
     "data": {
      "text/html": [
       "<div>\n",
       "<style scoped>\n",
       "    .dataframe tbody tr th:only-of-type {\n",
       "        vertical-align: middle;\n",
       "    }\n",
       "\n",
       "    .dataframe tbody tr th {\n",
       "        vertical-align: top;\n",
       "    }\n",
       "\n",
       "    .dataframe thead th {\n",
       "        text-align: right;\n",
       "    }\n",
       "</style>\n",
       "<table border=\"1\" class=\"dataframe\">\n",
       "  <thead>\n",
       "    <tr style=\"text-align: right;\">\n",
       "      <th></th>\n",
       "      <th>Id</th>\n",
       "      <th>ProductId</th>\n",
       "      <th>UserId</th>\n",
       "      <th>ProfileName</th>\n",
       "      <th>HelpfulnessNumerator</th>\n",
       "      <th>HelpfulnessDenominator</th>\n",
       "      <th>Score</th>\n",
       "      <th>Time</th>\n",
       "      <th>Summary</th>\n",
       "      <th>Text</th>\n",
       "      <th>helpful_rating</th>\n",
       "      <th>ProcessedText</th>\n",
       "    </tr>\n",
       "  </thead>\n",
       "  <tbody>\n",
       "    <tr>\n",
       "      <th>0</th>\n",
       "      <td>1</td>\n",
       "      <td>B001E4KFG0</td>\n",
       "      <td>A3SGXH7AUHU8GW</td>\n",
       "      <td>delmartian</td>\n",
       "      <td>1</td>\n",
       "      <td>1</td>\n",
       "      <td>5</td>\n",
       "      <td>1303862400</td>\n",
       "      <td>Good Quality Dog Food</td>\n",
       "      <td>I have bought several of the Vitality canned d...</td>\n",
       "      <td>1.0</td>\n",
       "      <td>i have bought several of the vitality canned d...</td>\n",
       "    </tr>\n",
       "    <tr>\n",
       "      <th>2</th>\n",
       "      <td>3</td>\n",
       "      <td>B000LQOCH0</td>\n",
       "      <td>ABXLMWJIXXAIN</td>\n",
       "      <td>Natalia Corres \"Natalia Corres\"</td>\n",
       "      <td>1</td>\n",
       "      <td>1</td>\n",
       "      <td>4</td>\n",
       "      <td>1219017600</td>\n",
       "      <td>\"Delight\" says it all</td>\n",
       "      <td>This is a confection that has been around a fe...</td>\n",
       "      <td>1.0</td>\n",
       "      <td>this is a confection that been around a few it...</td>\n",
       "    </tr>\n",
       "    <tr>\n",
       "      <th>8</th>\n",
       "      <td>9</td>\n",
       "      <td>B000E7L2R4</td>\n",
       "      <td>A1MZYO9TZK0BBI</td>\n",
       "      <td>R. James</td>\n",
       "      <td>1</td>\n",
       "      <td>1</td>\n",
       "      <td>5</td>\n",
       "      <td>1322006400</td>\n",
       "      <td>Yay Barley</td>\n",
       "      <td>Right now I'm mostly just sprouting this so my...</td>\n",
       "      <td>1.0</td>\n",
       "      <td>right now mostly just sprouting this so my can...</td>\n",
       "    </tr>\n",
       "    <tr>\n",
       "      <th>10</th>\n",
       "      <td>11</td>\n",
       "      <td>B0001PB9FE</td>\n",
       "      <td>A3HDKO7OW0QNK4</td>\n",
       "      <td>Canadian Fan</td>\n",
       "      <td>1</td>\n",
       "      <td>1</td>\n",
       "      <td>5</td>\n",
       "      <td>1107820800</td>\n",
       "      <td>The Best Hot Sauce in the World</td>\n",
       "      <td>I don't know if it's the cactus or the tequila...</td>\n",
       "      <td>1.0</td>\n",
       "      <td>i know if the or the tequila or just the uniqu...</td>\n",
       "    </tr>\n",
       "    <tr>\n",
       "      <th>11</th>\n",
       "      <td>12</td>\n",
       "      <td>B0009XLVG0</td>\n",
       "      <td>A2725IB4YY9JEB</td>\n",
       "      <td>A Poeng \"SparkyGoHome\"</td>\n",
       "      <td>4</td>\n",
       "      <td>4</td>\n",
       "      <td>5</td>\n",
       "      <td>1282867200</td>\n",
       "      <td>My cats LOVE this \"diet\" food better than thei...</td>\n",
       "      <td>One of my boys needed to lose some weight and ...</td>\n",
       "      <td>1.0</td>\n",
       "      <td>one of my to lose some weight and the other i ...</td>\n",
       "    </tr>\n",
       "  </tbody>\n",
       "</table>\n",
       "</div>"
      ],
      "text/plain": [
       "    Id   ProductId          UserId                      ProfileName  \\\n",
       "0    1  B001E4KFG0  A3SGXH7AUHU8GW                       delmartian   \n",
       "2    3  B000LQOCH0   ABXLMWJIXXAIN  Natalia Corres \"Natalia Corres\"   \n",
       "8    9  B000E7L2R4  A1MZYO9TZK0BBI                         R. James   \n",
       "10  11  B0001PB9FE  A3HDKO7OW0QNK4                     Canadian Fan   \n",
       "11  12  B0009XLVG0  A2725IB4YY9JEB           A Poeng \"SparkyGoHome\"   \n",
       "\n",
       "    HelpfulnessNumerator  HelpfulnessDenominator  Score        Time  \\\n",
       "0                      1                       1      5  1303862400   \n",
       "2                      1                       1      4  1219017600   \n",
       "8                      1                       1      5  1322006400   \n",
       "10                     1                       1      5  1107820800   \n",
       "11                     4                       4      5  1282867200   \n",
       "\n",
       "                                              Summary  \\\n",
       "0                               Good Quality Dog Food   \n",
       "2                               \"Delight\" says it all   \n",
       "8                                          Yay Barley   \n",
       "10                    The Best Hot Sauce in the World   \n",
       "11  My cats LOVE this \"diet\" food better than thei...   \n",
       "\n",
       "                                                 Text  helpful_rating  \\\n",
       "0   I have bought several of the Vitality canned d...             1.0   \n",
       "2   This is a confection that has been around a fe...             1.0   \n",
       "8   Right now I'm mostly just sprouting this so my...             1.0   \n",
       "10  I don't know if it's the cactus or the tequila...             1.0   \n",
       "11  One of my boys needed to lose some weight and ...             1.0   \n",
       "\n",
       "                                        ProcessedText  \n",
       "0   i have bought several of the vitality canned d...  \n",
       "2   this is a confection that been around a few it...  \n",
       "8   right now mostly just sprouting this so my can...  \n",
       "10  i know if the or the tequila or just the uniqu...  \n",
       "11  one of my to lose some weight and the other i ...  "
      ]
     },
     "execution_count": 34,
     "metadata": {},
     "output_type": "execute_result"
    }
   ],
   "source": [
    "good_reviews_df.head()"
   ]
  },
  {
   "cell_type": "markdown",
   "metadata": {},
   "source": [
    "It takes a long time to perform this operation so going to save it to a pickle file if I ever need to rerun but don't need to do this cleaning step."
   ]
  },
  {
   "cell_type": "code",
   "execution_count": 37,
   "metadata": {
    "execution": {
     "iopub.execute_input": "2020-11-06T21:58:23.683508Z",
     "iopub.status.busy": "2020-11-06T21:58:23.683221Z",
     "iopub.status.idle": "2020-11-06T21:58:24.076297Z",
     "shell.execute_reply": "2020-11-06T21:58:24.075747Z",
     "shell.execute_reply.started": "2020-11-06T21:58:23.683479Z"
    }
   },
   "outputs": [],
   "source": [
    "if CLEAN_DATAFRAME == 1:\n",
    "    GOOD_REVIEWS_FILE = open(\"../Data/good_reviews.pkl\",\"wb\")\n",
    "    pickle.dump(good_reviews_df,GOOD_REVIEWS_FILE)\n",
    "    GOOD_REVIEWS_FILE.close()\n",
    "else:\n",
    "    GOOD_REVIEWS_FILE = open(\"../Data/good_reviews.pkl\",\"rb\")\n",
    "    good_reviews_df = pickle.load(GOOD_REVIEWS_FILE)"
   ]
  },
  {
   "cell_type": "code",
   "execution_count": null,
   "metadata": {},
   "outputs": [],
   "source": []
  },
  {
   "cell_type": "code",
   "execution_count": null,
   "metadata": {},
   "outputs": [],
   "source": [
    "good_reviews_df.loc[0,\"Text\"]"
   ]
  },
  {
   "cell_type": "code",
   "execution_count": null,
   "metadata": {},
   "outputs": [],
   "source": [
    "good_reviews_df.loc[0,\"ProcessedText\"]"
   ]
  },
  {
   "cell_type": "markdown",
   "metadata": {},
   "source": [
    "**Tokenize**"
   ]
  },
  {
   "cell_type": "code",
   "execution_count": 40,
   "metadata": {
    "execution": {
     "iopub.execute_input": "2020-11-06T21:59:16.376092Z",
     "iopub.status.busy": "2020-11-06T21:59:16.375823Z",
     "iopub.status.idle": "2020-11-06T21:59:16.379432Z",
     "shell.execute_reply": "2020-11-06T21:59:16.378807Z",
     "shell.execute_reply.started": "2020-11-06T21:59:16.376063Z"
    }
   },
   "outputs": [],
   "source": [
    "#stuff_tokenized= []\n",
    "#stuff_tokenized = [word_tokenize(review) for review in stuff]\n",
    "\n",
    "def tokenize_text(row):\n",
    "    temp_tokenized_txt = word_tokenize(row[\"ProcessedText\"])\n",
    "    return temp_tokenized_txt\n"
   ]
  },
  {
   "cell_type": "code",
   "execution_count": 41,
   "metadata": {
    "execution": {
     "iopub.execute_input": "2020-11-06T21:59:17.499333Z",
     "iopub.status.busy": "2020-11-06T21:59:17.499047Z",
     "iopub.status.idle": "2020-11-06T21:59:22.639650Z",
     "shell.execute_reply": "2020-11-06T21:59:22.638919Z",
     "shell.execute_reply.started": "2020-11-06T21:59:17.499301Z"
    }
   },
   "outputs": [
    {
     "name": "stdout",
     "output_type": "stream",
     "text": [
      "INFO: Pandarallel will run on 64 workers.\n",
      "INFO: Pandarallel will use Memory file system to transfer data between the main process and workers.\n",
      "time spent doing operation is 0:00:05.134558\n"
     ]
    }
   ],
   "source": [
    "pandarallel.initialize()\n",
    "start_time = datetime.datetime.now()\n",
    "good_reviews_df[\"ProcessedText\"] = good_reviews_df.parallel_apply(tokenize_text,axis=1)\n",
    "end_time = datetime.datetime.now()\n",
    "print(\"time spent doing operation is {}\".format(end_time - start_time))"
   ]
  },
  {
   "cell_type": "code",
   "execution_count": 42,
   "metadata": {
    "execution": {
     "iopub.execute_input": "2020-11-06T21:59:26.822443Z",
     "iopub.status.busy": "2020-11-06T21:59:26.822174Z",
     "iopub.status.idle": "2020-11-06T21:59:26.831700Z",
     "shell.execute_reply": "2020-11-06T21:59:26.831046Z",
     "shell.execute_reply.started": "2020-11-06T21:59:26.822414Z"
    }
   },
   "outputs": [
    {
     "data": {
      "text/plain": [
       "['i',\n",
       " 'have',\n",
       " 'bought',\n",
       " 'several',\n",
       " 'of',\n",
       " 'the',\n",
       " 'vitality',\n",
       " 'canned',\n",
       " 'dog',\n",
       " 'food',\n",
       " 'and',\n",
       " 'have',\n",
       " 'found',\n",
       " 'them',\n",
       " 'all',\n",
       " 'to',\n",
       " 'be',\n",
       " 'of',\n",
       " 'good',\n",
       " 'quality',\n",
       " 'the',\n",
       " 'product',\n",
       " 'more',\n",
       " 'like',\n",
       " 'a',\n",
       " 'stew',\n",
       " 'than',\n",
       " 'a',\n",
       " 'meat',\n",
       " 'and',\n",
       " 'it',\n",
       " 'better',\n",
       " 'my',\n",
       " 'is',\n",
       " 'and',\n",
       " 'she',\n",
       " 'this',\n",
       " 'product',\n",
       " 'better',\n",
       " 'than',\n",
       " 'most']"
      ]
     },
     "execution_count": 42,
     "metadata": {},
     "output_type": "execute_result"
    }
   ],
   "source": [
    "good_reviews_df.loc[0,\"ProcessedText\"]"
   ]
  },
  {
   "cell_type": "code",
   "execution_count": 43,
   "metadata": {
    "execution": {
     "iopub.execute_input": "2020-11-06T21:59:33.132768Z",
     "iopub.status.busy": "2020-11-06T21:59:33.132511Z",
     "iopub.status.idle": "2020-11-06T21:59:33.135630Z",
     "shell.execute_reply": "2020-11-06T21:59:33.134899Z",
     "shell.execute_reply.started": "2020-11-06T21:59:33.132740Z"
    }
   },
   "outputs": [],
   "source": [
    "#for i,item in enumerate(stuff_tokenized):\n",
    "#    if i == 10:\n",
    "#        break\n",
    "#    print(i,\"-->\",item,\"\\n\")"
   ]
  },
  {
   "cell_type": "code",
   "execution_count": 44,
   "metadata": {
    "execution": {
     "iopub.execute_input": "2020-11-06T21:59:33.389864Z",
     "iopub.status.busy": "2020-11-06T21:59:33.389603Z",
     "iopub.status.idle": "2020-11-06T21:59:33.393045Z",
     "shell.execute_reply": "2020-11-06T21:59:33.392329Z",
     "shell.execute_reply.started": "2020-11-06T21:59:33.389836Z"
    }
   },
   "outputs": [],
   "source": [
    "wordNetLemmatizer = WordNetLemmatizer()"
   ]
  },
  {
   "cell_type": "code",
   "execution_count": 45,
   "metadata": {
    "execution": {
     "iopub.execute_input": "2020-11-06T21:59:36.401275Z",
     "iopub.status.busy": "2020-11-06T21:59:36.401011Z",
     "iopub.status.idle": "2020-11-06T21:59:36.405796Z",
     "shell.execute_reply": "2020-11-06T21:59:36.405103Z",
     "shell.execute_reply.started": "2020-11-06T21:59:36.401247Z"
    }
   },
   "outputs": [],
   "source": [
    "#lemmatize each word in stuff\n",
    "def calc_partofspeech(raw_pos):\n",
    "    \"\"\"translates from POS generated by pos_tag() to a POS encoding that WordNetLemmatizer.lemmatize() understands\"\"\"\n",
    "    #print(\"word = \",word)\n",
    "    #[(output_word, output_pos)] = pos_tag(word_tokenize(word))\n",
    "    \n",
    "    #decode output_pos to the pos required by the lemmatizer\n",
    "    \n",
    "    if \"JJ\" in raw_pos:\n",
    "        pos = \"a\"\n",
    "    elif \"RB\" in raw_pos:\n",
    "        pos = \"r\"\n",
    "    elif \"VB\" in raw_pos:\n",
    "        pos = \"v\"\n",
    "    else:\n",
    "        pos = \"n\"\n",
    "    \n",
    "    return pos\n",
    "\n",
    "\n"
   ]
  },
  {
   "cell_type": "code",
   "execution_count": 46,
   "metadata": {
    "execution": {
     "iopub.execute_input": "2020-11-06T21:59:36.946644Z",
     "iopub.status.busy": "2020-11-06T21:59:36.946382Z",
     "iopub.status.idle": "2020-11-06T21:59:36.949549Z",
     "shell.execute_reply": "2020-11-06T21:59:36.948843Z",
     "shell.execute_reply.started": "2020-11-06T21:59:36.946616Z"
    }
   },
   "outputs": [],
   "source": [
    "#for i,item in enumerate(stuff):\n",
    "#   if i == 10:\n",
    "#        break\n",
    "#   print(i,\"-->\",item,\"\\n\")"
   ]
  },
  {
   "cell_type": "code",
   "execution_count": 47,
   "metadata": {
    "execution": {
     "iopub.execute_input": "2020-11-06T21:59:37.155975Z",
     "iopub.status.busy": "2020-11-06T21:59:37.155713Z",
     "iopub.status.idle": "2020-11-06T21:59:37.158902Z",
     "shell.execute_reply": "2020-11-06T21:59:37.158191Z",
     "shell.execute_reply.started": "2020-11-06T21:59:37.155947Z"
    }
   },
   "outputs": [],
   "source": [
    "#stuff_tokenized[0]"
   ]
  },
  {
   "cell_type": "code",
   "execution_count": 48,
   "metadata": {
    "execution": {
     "iopub.execute_input": "2020-11-06T21:59:38.021881Z",
     "iopub.status.busy": "2020-11-06T21:59:38.021614Z",
     "iopub.status.idle": "2020-11-06T21:59:38.028733Z",
     "shell.execute_reply": "2020-11-06T21:59:38.028025Z",
     "shell.execute_reply.started": "2020-11-06T21:59:38.021852Z"
    }
   },
   "outputs": [],
   "source": [
    "def lemmatize_it(row):\n",
    "    \n",
    "    pos_result = pos_tag(row[\"ProcessedText\"])\n",
    "    \n",
    "    temp_mydoc_lemmatized = []\n",
    "    \n",
    "    for myword,myPOS in pos_result:\n",
    "        temp_word_lemmatized = wordNetLemmatizer.lemmatize(myword,calc_partofspeech(myPOS))\n",
    "        temp_mydoc_lemmatized.append(temp_word_lemmatized)\n",
    "    \n",
    "    return temp_mydoc_lemmatized\n",
    "        \n"
   ]
  },
  {
   "cell_type": "code",
   "execution_count": 49,
   "metadata": {
    "execution": {
     "iopub.execute_input": "2020-11-06T21:59:42.093191Z",
     "iopub.status.busy": "2020-11-06T21:59:42.092930Z",
     "iopub.status.idle": "2020-11-06T22:00:23.165577Z",
     "shell.execute_reply": "2020-11-06T22:00:23.164857Z",
     "shell.execute_reply.started": "2020-11-06T21:59:42.093163Z"
    }
   },
   "outputs": [
    {
     "name": "stdout",
     "output_type": "stream",
     "text": [
      "INFO: Pandarallel will run on 64 workers.\n",
      "INFO: Pandarallel will use Memory file system to transfer data between the main process and workers.\n",
      "time spent doing operation is 0:00:41.067128\n"
     ]
    }
   ],
   "source": [
    "pandarallel.initialize()\n",
    "start_time = datetime.datetime.now()\n",
    "good_reviews_df[\"ProcessedText\"] = good_reviews_df.parallel_apply(lemmatize_it,axis=1)\n",
    "end_time = datetime.datetime.now()\n",
    "print(\"time spent doing operation is {}\".format(end_time - start_time))"
   ]
  },
  {
   "cell_type": "markdown",
   "metadata": {},
   "source": [
    "lemmatizing to cut down on the size of the dimensions of the eventual vectorized word matrix without losing meaning of the text"
   ]
  },
  {
   "cell_type": "code",
   "execution_count": 50,
   "metadata": {
    "execution": {
     "iopub.execute_input": "2020-11-06T22:00:26.836964Z",
     "iopub.status.busy": "2020-11-06T22:00:26.836697Z",
     "iopub.status.idle": "2020-11-06T22:00:26.842870Z",
     "shell.execute_reply": "2020-11-06T22:00:26.842169Z",
     "shell.execute_reply.started": "2020-11-06T22:00:26.836936Z"
    }
   },
   "outputs": [
    {
     "data": {
      "text/plain": [
       "['i',\n",
       " 'have',\n",
       " 'buy',\n",
       " 'several',\n",
       " 'of',\n",
       " 'the',\n",
       " 'vitality',\n",
       " 'can',\n",
       " 'dog',\n",
       " 'food',\n",
       " 'and',\n",
       " 'have',\n",
       " 'find',\n",
       " 'them',\n",
       " 'all',\n",
       " 'to',\n",
       " 'be',\n",
       " 'of',\n",
       " 'good',\n",
       " 'quality',\n",
       " 'the',\n",
       " 'product',\n",
       " 'more',\n",
       " 'like',\n",
       " 'a',\n",
       " 'stew',\n",
       " 'than',\n",
       " 'a',\n",
       " 'meat',\n",
       " 'and',\n",
       " 'it',\n",
       " 'good',\n",
       " 'my',\n",
       " 'be',\n",
       " 'and',\n",
       " 'she',\n",
       " 'this',\n",
       " 'product',\n",
       " 'good',\n",
       " 'than',\n",
       " 'most']"
      ]
     },
     "execution_count": 50,
     "metadata": {},
     "output_type": "execute_result"
    }
   ],
   "source": [
    "good_reviews_df.loc[0,\"ProcessedText\"] "
   ]
  },
  {
   "cell_type": "code",
   "execution_count": 51,
   "metadata": {
    "execution": {
     "iopub.execute_input": "2020-11-06T22:00:36.501921Z",
     "iopub.status.busy": "2020-11-06T22:00:36.501668Z",
     "iopub.status.idle": "2020-11-06T22:00:36.504840Z",
     "shell.execute_reply": "2020-11-06T22:00:36.504078Z",
     "shell.execute_reply.started": "2020-11-06T22:00:36.501893Z"
    }
   },
   "outputs": [],
   "source": [
    "#Test code doesn't need to be run\n",
    "#myword = \"running\"\n",
    "#myword_lemmed = wordNetLemmatizer.lemmatize(myword,calc_partofspeech(myword))\n",
    "#myword_lemmed = wordNetLemmatizer.lemmatize(myword,\"v\")\n",
    "\n",
    "#print(\"myword_lemmed = \",myword_lemmed)\n",
    "#print(\"POS for myword = \",calc_partofspeech(myword))"
   ]
  },
  {
   "cell_type": "code",
   "execution_count": 52,
   "metadata": {
    "execution": {
     "iopub.execute_input": "2020-11-06T22:00:36.728027Z",
     "iopub.status.busy": "2020-11-06T22:00:36.727780Z",
     "iopub.status.idle": "2020-11-06T22:00:36.730840Z",
     "shell.execute_reply": "2020-11-06T22:00:36.730148Z",
     "shell.execute_reply.started": "2020-11-06T22:00:36.728000Z"
    }
   },
   "outputs": [],
   "source": [
    "#stuff_lemmatized[0]"
   ]
  },
  {
   "cell_type": "code",
   "execution_count": 53,
   "metadata": {
    "execution": {
     "iopub.execute_input": "2020-11-06T22:00:36.948106Z",
     "iopub.status.busy": "2020-11-06T22:00:36.947849Z",
     "iopub.status.idle": "2020-11-06T22:00:36.950942Z",
     "shell.execute_reply": "2020-11-06T22:00:36.950191Z",
     "shell.execute_reply.started": "2020-11-06T22:00:36.948077Z"
    }
   },
   "outputs": [],
   "source": [
    "# I only want adjectives and adverbs sent to the vectorizer\n",
    "#stuff_pos_filtered = [mylemword for mylemdoc in stuff_lemmatized for mylemword in mylemdoc if (\"JJ\" in pos_tag(word_tokenize(mylemword))[0][1]) or (\"RB\" in pos_tag(word_tokenize(mylemword))[0][1])]"
   ]
  },
  {
   "cell_type": "code",
   "execution_count": 54,
   "metadata": {
    "execution": {
     "iopub.execute_input": "2020-11-06T22:00:37.244160Z",
     "iopub.status.busy": "2020-11-06T22:00:37.243884Z",
     "iopub.status.idle": "2020-11-06T22:00:37.247071Z",
     "shell.execute_reply": "2020-11-06T22:00:37.246327Z",
     "shell.execute_reply.started": "2020-11-06T22:00:37.244131Z"
    }
   },
   "outputs": [],
   "source": [
    "#stuff_pos_filtered[6]"
   ]
  },
  {
   "cell_type": "code",
   "execution_count": 55,
   "metadata": {
    "execution": {
     "iopub.execute_input": "2020-11-06T22:00:37.472950Z",
     "iopub.status.busy": "2020-11-06T22:00:37.472706Z",
     "iopub.status.idle": "2020-11-06T22:00:37.478498Z",
     "shell.execute_reply": "2020-11-06T22:00:37.477733Z",
     "shell.execute_reply.started": "2020-11-06T22:00:37.472922Z"
    }
   },
   "outputs": [],
   "source": [
    "# I only want adjectives and adverbs sent to the vectorizer\n",
    "\n",
    "def filter_pos(row,pos_abbrev=[\"JJ\"]):\n",
    "    \"\"\"\n",
    "    takes as input the following\n",
    "    processes the \"ProcessedText\" column of a review data frame (see definition above)\n",
    "    pos_abbrev = list of NLTK pos_tag() output parts of speech codes abbreviated to the first two characters\n",
    "    \n",
    "    \"\"\"\n",
    "#    print(\"pos_abbrev = \",pos_abbrev)\n",
    "\n",
    "    \n",
    "    if type(pos_abbrev) != type([]):\n",
    "        print(\"post_abbrev must be a list of POS codes (1st 2 characters of the code only)\")\n",
    "        return 1\n",
    "    \n",
    "    temp_pos_filtered_doc = \"\"\n",
    "    \n",
    "    #pos_tag() works better if you pass the entire document to it as a tokenized list\n",
    "    #it must be doing some sequence modeling under the hood to get the context of words so that it can\n",
    "    #better ID parts of speech\n",
    "        \n",
    "    pos_result = pos_tag(row[\"ProcessedText\"])\n",
    "    \n",
    "    for result_word, result_pos in pos_result:\n",
    "        #print(\"tokenized word = \", word_tokenize(mylemword))\n",
    "        #print(\"tokenized word pos = \", pos_tag(word_tokenize(mylemword))[0][1])\n",
    "        \n",
    "        for mypos in pos_abbrev:\n",
    "            if (mypos in result_pos) :\n",
    "                temp_pos_filtered_doc = temp_pos_filtered_doc + result_word + \" \"\n",
    "            \n",
    "    \n",
    "    return temp_pos_filtered_doc.rstrip()\n"
   ]
  },
  {
   "cell_type": "code",
   "execution_count": 56,
   "metadata": {
    "execution": {
     "iopub.execute_input": "2020-11-06T22:00:38.772994Z",
     "iopub.status.busy": "2020-11-06T22:00:38.772734Z",
     "iopub.status.idle": "2020-11-06T22:00:57.745113Z",
     "shell.execute_reply": "2020-11-06T22:00:57.744235Z",
     "shell.execute_reply.started": "2020-11-06T22:00:38.772966Z"
    }
   },
   "outputs": [
    {
     "name": "stdout",
     "output_type": "stream",
     "text": [
      "INFO: Pandarallel will run on 64 workers.\n",
      "INFO: Pandarallel will use Memory file system to transfer data between the main process and workers.\n",
      "time spent doing operation is 0:00:18.966132\n"
     ]
    }
   ],
   "source": [
    "#stuff_pos_filtered = filter_pos(stuff_lemmatized,pos_abbrev=[\"JJ\",\"RB\"])\n",
    "#stuff_pos_filtered\n",
    "#stuff_pos_filtered = stuff_pos_filtered + filter_pos(stuff_lemmatized,\"RB\")\n",
    "pandarallel.initialize()\n",
    "start_time = datetime.datetime.now()\n",
    "good_reviews_df[\"ProcessedText\"] = good_reviews_df.parallel_apply(filter_pos,axis=1,pos_abbrev=[\"JJ\",\"RB\"])\n",
    "end_time = datetime.datetime.now()\n",
    "print(\"time spent doing operation is {}\".format(end_time - start_time))\n"
   ]
  },
  {
   "cell_type": "code",
   "execution_count": 57,
   "metadata": {
    "execution": {
     "iopub.execute_input": "2020-11-06T22:01:04.024218Z",
     "iopub.status.busy": "2020-11-06T22:01:04.023925Z",
     "iopub.status.idle": "2020-11-06T22:01:04.029637Z",
     "shell.execute_reply": "2020-11-06T22:01:04.028933Z",
     "shell.execute_reply.started": "2020-11-06T22:01:04.024186Z"
    }
   },
   "outputs": [
    {
     "data": {
      "text/plain": [
       "'several good more good good most'"
      ]
     },
     "execution_count": 57,
     "metadata": {},
     "output_type": "execute_result"
    }
   ],
   "source": [
    "good_reviews_df.loc[0,\"ProcessedText\"]"
   ]
  },
  {
   "cell_type": "code",
   "execution_count": 58,
   "metadata": {
    "execution": {
     "iopub.execute_input": "2020-11-06T22:01:07.622179Z",
     "iopub.status.busy": "2020-11-06T22:01:07.621869Z",
     "iopub.status.idle": "2020-11-06T22:01:07.625409Z",
     "shell.execute_reply": "2020-11-06T22:01:07.624682Z",
     "shell.execute_reply.started": "2020-11-06T22:01:07.622148Z"
    }
   },
   "outputs": [],
   "source": [
    "#stuff_lemmatized[0]"
   ]
  },
  {
   "cell_type": "markdown",
   "metadata": {},
   "source": [
    "Get the nouns"
   ]
  },
  {
   "cell_type": "code",
   "execution_count": 59,
   "metadata": {
    "execution": {
     "iopub.execute_input": "2020-11-06T22:01:08.373656Z",
     "iopub.status.busy": "2020-11-06T22:01:08.373351Z",
     "iopub.status.idle": "2020-11-06T22:01:08.376928Z",
     "shell.execute_reply": "2020-11-06T22:01:08.376149Z",
     "shell.execute_reply.started": "2020-11-06T22:01:08.373625Z"
    }
   },
   "outputs": [],
   "source": [
    "#stuff_nouns = filter_pos(stuff_lemmatized,pos_abbrev=[\"NN\"])"
   ]
  },
  {
   "cell_type": "code",
   "execution_count": 60,
   "metadata": {
    "execution": {
     "iopub.execute_input": "2020-11-06T22:01:08.603446Z",
     "iopub.status.busy": "2020-11-06T22:01:08.603176Z",
     "iopub.status.idle": "2020-11-06T22:01:08.606118Z",
     "shell.execute_reply": "2020-11-06T22:01:08.605587Z",
     "shell.execute_reply.started": "2020-11-06T22:01:08.603417Z"
    }
   },
   "outputs": [],
   "source": [
    "#stuff_nouns[0:3]"
   ]
  },
  {
   "cell_type": "code",
   "execution_count": 61,
   "metadata": {
    "execution": {
     "iopub.execute_input": "2020-11-06T22:01:08.781207Z",
     "iopub.status.busy": "2020-11-06T22:01:08.780938Z",
     "iopub.status.idle": "2020-11-06T22:01:08.784003Z",
     "shell.execute_reply": "2020-11-06T22:01:08.783376Z",
     "shell.execute_reply.started": "2020-11-06T22:01:08.781177Z"
    }
   },
   "outputs": [],
   "source": [
    "#stuff_pos_filtered[0:5]"
   ]
  },
  {
   "cell_type": "code",
   "execution_count": 62,
   "metadata": {
    "execution": {
     "iopub.execute_input": "2020-11-06T22:01:09.001555Z",
     "iopub.status.busy": "2020-11-06T22:01:09.001281Z",
     "iopub.status.idle": "2020-11-06T22:01:09.004365Z",
     "shell.execute_reply": "2020-11-06T22:01:09.003733Z",
     "shell.execute_reply.started": "2020-11-06T22:01:09.001526Z"
    }
   },
   "outputs": [],
   "source": [
    "#len(stuff_pos_filtered)"
   ]
  },
  {
   "cell_type": "code",
   "execution_count": 63,
   "metadata": {
    "execution": {
     "iopub.execute_input": "2020-11-06T22:01:09.203905Z",
     "iopub.status.busy": "2020-11-06T22:01:09.203620Z",
     "iopub.status.idle": "2020-11-06T22:01:09.208179Z",
     "shell.execute_reply": "2020-11-06T22:01:09.207523Z",
     "shell.execute_reply.started": "2020-11-06T22:01:09.203876Z"
    }
   },
   "outputs": [
    {
     "data": {
      "text/plain": [
       "(152586, 12)"
      ]
     },
     "execution_count": 63,
     "metadata": {},
     "output_type": "execute_result"
    }
   ],
   "source": [
    "good_reviews_df.shape"
   ]
  },
  {
   "cell_type": "markdown",
   "metadata": {},
   "source": [
    "## Word Vectorization / Parsing\n",
    "\n",
    "Will do the following here:\n",
    "\n",
    "```\n",
    "\n",
    "(lemmatized text)-->[WordVectorization(dropping stop word)] --> [POS tagging] --> [collect Adjectives]\n",
    "\n",
    "\n",
    "```\n"
   ]
  },
  {
   "cell_type": "code",
   "execution_count": 64,
   "metadata": {
    "execution": {
     "iopub.execute_input": "2020-11-06T22:01:17.980524Z",
     "iopub.status.busy": "2020-11-06T22:01:17.980247Z",
     "iopub.status.idle": "2020-11-06T22:01:19.927074Z",
     "shell.execute_reply": "2020-11-06T22:01:19.926325Z",
     "shell.execute_reply.started": "2020-11-06T22:01:17.980493Z"
    }
   },
   "outputs": [],
   "source": [
    "vectorizer = CountVectorizer(stop_words=\"english\")\n",
    "docTermMatrixCountVec = vectorizer.fit_transform(good_reviews_df[\"ProcessedText\"])"
   ]
  },
  {
   "cell_type": "code",
   "execution_count": 65,
   "metadata": {
    "execution": {
     "iopub.execute_input": "2020-11-06T22:01:21.790855Z",
     "iopub.status.busy": "2020-11-06T22:01:21.790572Z",
     "iopub.status.idle": "2020-11-06T22:01:21.801617Z",
     "shell.execute_reply": "2020-11-06T22:01:21.801130Z",
     "shell.execute_reply.started": "2020-11-06T22:01:21.790824Z"
    }
   },
   "outputs": [
    {
     "data": {
      "text/plain": [
       "12149"
      ]
     },
     "execution_count": 65,
     "metadata": {},
     "output_type": "execute_result"
    }
   ],
   "source": [
    "len(vectorizer.get_feature_names())"
   ]
  },
  {
   "cell_type": "code",
   "execution_count": 67,
   "metadata": {
    "execution": {
     "iopub.execute_input": "2020-11-06T22:01:56.574006Z",
     "iopub.status.busy": "2020-11-06T22:01:56.573742Z",
     "iopub.status.idle": "2020-11-06T22:01:57.504778Z",
     "shell.execute_reply": "2020-11-06T22:01:57.504227Z",
     "shell.execute_reply.started": "2020-11-06T22:01:56.573977Z"
    }
   },
   "outputs": [
    {
     "name": "stderr",
     "output_type": "stream",
     "text": [
      "/home/magreen/anaconda3_2020_07/envs/metis_linux_venv/lib/python3.8/site-packages/ipykernel/ipkernel.py:287: DeprecationWarning: `should_run_async` will not call `transform_cell` automatically in the future. Please pass the result to `transformed_cell` argument and any exception that happen during thetransform in `preprocessing_exc_tuple` in IPython 7.17 and above.\n",
      "  and should_run_async(code)\n"
     ]
    },
    {
     "data": {
      "text/plain": [
       "array([[0, 0, 0, ..., 0, 0, 0],\n",
       "       [0, 0, 0, ..., 0, 0, 0],\n",
       "       [0, 0, 0, ..., 0, 0, 0],\n",
       "       ...,\n",
       "       [0, 0, 0, ..., 0, 0, 0],\n",
       "       [0, 0, 0, ..., 0, 0, 0],\n",
       "       [0, 0, 0, ..., 0, 0, 0]])"
      ]
     },
     "execution_count": 67,
     "metadata": {},
     "output_type": "execute_result"
    }
   ],
   "source": [
    "docTermMatrixCountVec.toarray()"
   ]
  },
  {
   "cell_type": "code",
   "execution_count": 68,
   "metadata": {
    "execution": {
     "iopub.execute_input": "2020-11-06T22:02:00.596671Z",
     "iopub.status.busy": "2020-11-06T22:02:00.596400Z",
     "iopub.status.idle": "2020-11-06T22:02:00.601342Z",
     "shell.execute_reply": "2020-11-06T22:02:00.600723Z",
     "shell.execute_reply.started": "2020-11-06T22:02:00.596642Z"
    }
   },
   "outputs": [
    {
     "name": "stderr",
     "output_type": "stream",
     "text": [
      "/home/magreen/anaconda3_2020_07/envs/metis_linux_venv/lib/python3.8/site-packages/ipykernel/ipkernel.py:287: DeprecationWarning: `should_run_async` will not call `transform_cell` automatically in the future. Please pass the result to `transformed_cell` argument and any exception that happen during thetransform in `preprocessing_exc_tuple` in IPython 7.17 and above.\n",
      "  and should_run_async(code)\n"
     ]
    },
    {
     "data": {
      "text/plain": [
       "(152586, 12149)"
      ]
     },
     "execution_count": 68,
     "metadata": {},
     "output_type": "execute_result"
    }
   ],
   "source": [
    "docTermMatrixCountVec.shape"
   ]
  },
  {
   "cell_type": "code",
   "execution_count": 69,
   "metadata": {
    "execution": {
     "iopub.execute_input": "2020-11-06T22:02:12.673126Z",
     "iopub.status.busy": "2020-11-06T22:02:12.672860Z",
     "iopub.status.idle": "2020-11-06T22:02:13.587289Z",
     "shell.execute_reply": "2020-11-06T22:02:13.586714Z",
     "shell.execute_reply.started": "2020-11-06T22:02:12.673098Z"
    }
   },
   "outputs": [
    {
     "name": "stderr",
     "output_type": "stream",
     "text": [
      "/home/magreen/anaconda3_2020_07/envs/metis_linux_venv/lib/python3.8/site-packages/ipykernel/ipkernel.py:287: DeprecationWarning: `should_run_async` will not call `transform_cell` automatically in the future. Please pass the result to `transformed_cell` argument and any exception that happen during thetransform in `preprocessing_exc_tuple` in IPython 7.17 and above.\n",
      "  and should_run_async(code)\n"
     ]
    }
   ],
   "source": [
    "\n",
    "docTermMatrixCountVec_df = pd.DataFrame(docTermMatrixCountVec.toarray(), index=good_reviews_df[\"ProcessedText\"], columns=vectorizer.get_feature_names())"
   ]
  },
  {
   "cell_type": "code",
   "execution_count": 70,
   "metadata": {
    "execution": {
     "iopub.execute_input": "2020-11-06T22:02:16.804695Z",
     "iopub.status.busy": "2020-11-06T22:02:16.804437Z",
     "iopub.status.idle": "2020-11-06T22:02:16.826335Z",
     "shell.execute_reply": "2020-11-06T22:02:16.825858Z",
     "shell.execute_reply.started": "2020-11-06T22:02:16.804667Z"
    }
   },
   "outputs": [
    {
     "name": "stderr",
     "output_type": "stream",
     "text": [
      "/home/magreen/anaconda3_2020_07/envs/metis_linux_venv/lib/python3.8/site-packages/ipykernel/ipkernel.py:287: DeprecationWarning: `should_run_async` will not call `transform_cell` automatically in the future. Please pass the result to `transformed_cell` argument and any exception that happen during thetransform in `preprocessing_exc_tuple` in IPython 7.17 and above.\n",
      "  and should_run_async(code)\n"
     ]
    },
    {
     "data": {
      "text/html": [
       "<div>\n",
       "<style scoped>\n",
       "    .dataframe tbody tr th:only-of-type {\n",
       "        vertical-align: middle;\n",
       "    }\n",
       "\n",
       "    .dataframe tbody tr th {\n",
       "        vertical-align: top;\n",
       "    }\n",
       "\n",
       "    .dataframe thead th {\n",
       "        text-align: right;\n",
       "    }\n",
       "</style>\n",
       "<table border=\"1\" class=\"dataframe\">\n",
       "  <thead>\n",
       "    <tr style=\"text-align: right;\">\n",
       "      <th></th>\n",
       "      <th>aa</th>\n",
       "      <th>abandon</th>\n",
       "      <th>abandoned</th>\n",
       "      <th>abb</th>\n",
       "      <th>abbey</th>\n",
       "      <th>abdominal</th>\n",
       "      <th>abhor</th>\n",
       "      <th>abide</th>\n",
       "      <th>abiding</th>\n",
       "      <th>abject</th>\n",
       "      <th>...</th>\n",
       "      <th>zero</th>\n",
       "      <th>zest</th>\n",
       "      <th>zestful</th>\n",
       "      <th>zesty</th>\n",
       "      <th>zinc</th>\n",
       "      <th>zip</th>\n",
       "      <th>zipper</th>\n",
       "      <th>zippy</th>\n",
       "      <th>zombie</th>\n",
       "      <th>zucchini</th>\n",
       "    </tr>\n",
       "    <tr>\n",
       "      <th>ProcessedText</th>\n",
       "      <th></th>\n",
       "      <th></th>\n",
       "      <th></th>\n",
       "      <th></th>\n",
       "      <th></th>\n",
       "      <th></th>\n",
       "      <th></th>\n",
       "      <th></th>\n",
       "      <th></th>\n",
       "      <th></th>\n",
       "      <th></th>\n",
       "      <th></th>\n",
       "      <th></th>\n",
       "      <th></th>\n",
       "      <th></th>\n",
       "      <th></th>\n",
       "      <th></th>\n",
       "      <th></th>\n",
       "      <th></th>\n",
       "      <th></th>\n",
       "      <th></th>\n",
       "    </tr>\n",
       "  </thead>\n",
       "  <tbody>\n",
       "    <tr>\n",
       "      <th>several good more good good most</th>\n",
       "      <td>0</td>\n",
       "      <td>0</td>\n",
       "      <td>0</td>\n",
       "      <td>0</td>\n",
       "      <td>0</td>\n",
       "      <td>0</td>\n",
       "      <td>0</td>\n",
       "      <td>0</td>\n",
       "      <td>0</td>\n",
       "      <td>0</td>\n",
       "      <td>...</td>\n",
       "      <td>0</td>\n",
       "      <td>0</td>\n",
       "      <td>0</td>\n",
       "      <td>0</td>\n",
       "      <td>0</td>\n",
       "      <td>0</td>\n",
       "      <td>0</td>\n",
       "      <td>0</td>\n",
       "      <td>0</td>\n",
       "      <td>0</td>\n",
       "    </tr>\n",
       "    <tr>\n",
       "      <th>few light tiny then liberally powdered tiny not too chewy very flavorful highly familiar</th>\n",
       "      <td>0</td>\n",
       "      <td>0</td>\n",
       "      <td>0</td>\n",
       "      <td>0</td>\n",
       "      <td>0</td>\n",
       "      <td>0</td>\n",
       "      <td>0</td>\n",
       "      <td>0</td>\n",
       "      <td>0</td>\n",
       "      <td>0</td>\n",
       "      <td>...</td>\n",
       "      <td>0</td>\n",
       "      <td>0</td>\n",
       "      <td>0</td>\n",
       "      <td>0</td>\n",
       "      <td>0</td>\n",
       "      <td>0</td>\n",
       "      <td>0</td>\n",
       "      <td>0</td>\n",
       "      <td>0</td>\n",
       "      <td>0</td>\n",
       "    </tr>\n",
       "    <tr>\n",
       "      <th>right now mostly just i too</th>\n",
       "      <td>0</td>\n",
       "      <td>0</td>\n",
       "      <td>0</td>\n",
       "      <td>0</td>\n",
       "      <td>0</td>\n",
       "      <td>0</td>\n",
       "      <td>0</td>\n",
       "      <td>0</td>\n",
       "      <td>0</td>\n",
       "      <td>0</td>\n",
       "      <td>...</td>\n",
       "      <td>0</td>\n",
       "      <td>0</td>\n",
       "      <td>0</td>\n",
       "      <td>0</td>\n",
       "      <td>0</td>\n",
       "      <td>0</td>\n",
       "      <td>0</td>\n",
       "      <td>0</td>\n",
       "      <td>0</td>\n",
       "      <td>0</td>\n",
       "    </tr>\n",
       "    <tr>\n",
       "      <th>just unique hot once u totally when simply anywhere ecstatic hot really hot tastelessly tequila just once never other personal incredible</th>\n",
       "      <td>0</td>\n",
       "      <td>0</td>\n",
       "      <td>0</td>\n",
       "      <td>0</td>\n",
       "      <td>0</td>\n",
       "      <td>0</td>\n",
       "      <td>0</td>\n",
       "      <td>0</td>\n",
       "      <td>0</td>\n",
       "      <td>0</td>\n",
       "      <td>...</td>\n",
       "      <td>0</td>\n",
       "      <td>0</td>\n",
       "      <td>0</td>\n",
       "      <td>0</td>\n",
       "      <td>0</td>\n",
       "      <td>0</td>\n",
       "      <td>0</td>\n",
       "      <td>0</td>\n",
       "      <td>0</td>\n",
       "      <td>0</td>\n",
       "    </tr>\n",
       "    <tr>\n",
       "      <th>other up high where only skinny high really</th>\n",
       "      <td>0</td>\n",
       "      <td>0</td>\n",
       "      <td>0</td>\n",
       "      <td>0</td>\n",
       "      <td>0</td>\n",
       "      <td>0</td>\n",
       "      <td>0</td>\n",
       "      <td>0</td>\n",
       "      <td>0</td>\n",
       "      <td>0</td>\n",
       "      <td>...</td>\n",
       "      <td>0</td>\n",
       "      <td>0</td>\n",
       "      <td>0</td>\n",
       "      <td>0</td>\n",
       "      <td>0</td>\n",
       "      <td>0</td>\n",
       "      <td>0</td>\n",
       "      <td>0</td>\n",
       "      <td>0</td>\n",
       "      <td>0</td>\n",
       "    </tr>\n",
       "  </tbody>\n",
       "</table>\n",
       "<p>5 rows × 12149 columns</p>\n",
       "</div>"
      ],
      "text/plain": [
       "                                                    aa  abandon  abandoned  \\\n",
       "ProcessedText                                                                \n",
       "several good more good good most                     0        0          0   \n",
       "few light tiny then liberally powdered tiny not...   0        0          0   \n",
       "right now mostly just i too                          0        0          0   \n",
       "just unique hot once u totally when simply anyw...   0        0          0   \n",
       "other up high where only skinny high really          0        0          0   \n",
       "\n",
       "                                                    abb  abbey  abdominal  \\\n",
       "ProcessedText                                                               \n",
       "several good more good good most                      0      0          0   \n",
       "few light tiny then liberally powdered tiny not...    0      0          0   \n",
       "right now mostly just i too                           0      0          0   \n",
       "just unique hot once u totally when simply anyw...    0      0          0   \n",
       "other up high where only skinny high really           0      0          0   \n",
       "\n",
       "                                                    abhor  abide  abiding  \\\n",
       "ProcessedText                                                               \n",
       "several good more good good most                        0      0        0   \n",
       "few light tiny then liberally powdered tiny not...      0      0        0   \n",
       "right now mostly just i too                             0      0        0   \n",
       "just unique hot once u totally when simply anyw...      0      0        0   \n",
       "other up high where only skinny high really             0      0        0   \n",
       "\n",
       "                                                    abject  ...  zero  zest  \\\n",
       "ProcessedText                                               ...               \n",
       "several good more good good most                         0  ...     0     0   \n",
       "few light tiny then liberally powdered tiny not...       0  ...     0     0   \n",
       "right now mostly just i too                              0  ...     0     0   \n",
       "just unique hot once u totally when simply anyw...       0  ...     0     0   \n",
       "other up high where only skinny high really              0  ...     0     0   \n",
       "\n",
       "                                                    zestful  zesty  zinc  zip  \\\n",
       "ProcessedText                                                                   \n",
       "several good more good good most                          0      0     0    0   \n",
       "few light tiny then liberally powdered tiny not...        0      0     0    0   \n",
       "right now mostly just i too                               0      0     0    0   \n",
       "just unique hot once u totally when simply anyw...        0      0     0    0   \n",
       "other up high where only skinny high really               0      0     0    0   \n",
       "\n",
       "                                                    zipper  zippy  zombie  \\\n",
       "ProcessedText                                                               \n",
       "several good more good good most                         0      0       0   \n",
       "few light tiny then liberally powdered tiny not...       0      0       0   \n",
       "right now mostly just i too                              0      0       0   \n",
       "just unique hot once u totally when simply anyw...       0      0       0   \n",
       "other up high where only skinny high really              0      0       0   \n",
       "\n",
       "                                                    zucchini  \n",
       "ProcessedText                                                 \n",
       "several good more good good most                           0  \n",
       "few light tiny then liberally powdered tiny not...         0  \n",
       "right now mostly just i too                                0  \n",
       "just unique hot once u totally when simply anyw...         0  \n",
       "other up high where only skinny high really                0  \n",
       "\n",
       "[5 rows x 12149 columns]"
      ]
     },
     "execution_count": 70,
     "metadata": {},
     "output_type": "execute_result"
    }
   ],
   "source": [
    "docTermMatrixCountVec_df.head()"
   ]
  },
  {
   "cell_type": "code",
   "execution_count": 71,
   "metadata": {
    "execution": {
     "iopub.execute_input": "2020-11-06T22:02:40.322508Z",
     "iopub.status.busy": "2020-11-06T22:02:40.322245Z",
     "iopub.status.idle": "2020-11-06T22:02:40.328300Z",
     "shell.execute_reply": "2020-11-06T22:02:40.327725Z",
     "shell.execute_reply.started": "2020-11-06T22:02:40.322479Z"
    }
   },
   "outputs": [
    {
     "name": "stderr",
     "output_type": "stream",
     "text": [
      "/home/magreen/anaconda3_2020_07/envs/metis_linux_venv/lib/python3.8/site-packages/ipykernel/ipkernel.py:287: DeprecationWarning: `should_run_async` will not call `transform_cell` automatically in the future. Please pass the result to `transformed_cell` argument and any exception that happen during thetransform in `preprocessing_exc_tuple` in IPython 7.17 and above.\n",
      "  and should_run_async(code)\n"
     ]
    },
    {
     "data": {
      "text/plain": [
       "Index(['aa', 'abandon', 'abandoned', 'abb', 'abbey', 'abdominal', 'abhor',\n",
       "       'abide', 'abiding', 'abject',\n",
       "       ...\n",
       "       'zero', 'zest', 'zestful', 'zesty', 'zinc', 'zip', 'zipper', 'zippy',\n",
       "       'zombie', 'zucchini'],\n",
       "      dtype='object', length=12149)"
      ]
     },
     "execution_count": 71,
     "metadata": {},
     "output_type": "execute_result"
    }
   ],
   "source": [
    "docTermMatrixCountVec_df.columns"
   ]
  },
  {
   "cell_type": "code",
   "execution_count": 77,
   "metadata": {
    "execution": {
     "iopub.execute_input": "2020-11-06T22:44:54.861586Z",
     "iopub.status.busy": "2020-11-06T22:44:54.861313Z",
     "iopub.status.idle": "2020-11-06T22:44:54.865454Z",
     "shell.execute_reply": "2020-11-06T22:44:54.864838Z",
     "shell.execute_reply.started": "2020-11-06T22:44:54.861555Z"
    }
   },
   "outputs": [
    {
     "name": "stderr",
     "output_type": "stream",
     "text": [
      "/home/magreen/anaconda3_2020_07/envs/metis_linux_venv/lib/python3.8/site-packages/ipykernel/ipkernel.py:287: DeprecationWarning: `should_run_async` will not call `transform_cell` automatically in the future. Please pass the result to `transformed_cell` argument and any exception that happen during thetransform in `preprocessing_exc_tuple` in IPython 7.17 and above.\n",
      "  and should_run_async(code)\n"
     ]
    }
   ],
   "source": [
    "LD_Allocator = LatentDirichletAllocation(n_components=20, random_state=0,n_jobs=8)\n"
   ]
  },
  {
   "cell_type": "code",
   "execution_count": 78,
   "metadata": {
    "execution": {
     "iopub.execute_input": "2020-11-06T22:44:56.230217Z",
     "iopub.status.busy": "2020-11-06T22:44:56.229956Z",
     "iopub.status.idle": "2020-11-06T22:46:25.842938Z",
     "shell.execute_reply": "2020-11-06T22:46:25.842308Z",
     "shell.execute_reply.started": "2020-11-06T22:44:56.230189Z"
    }
   },
   "outputs": [
    {
     "name": "stderr",
     "output_type": "stream",
     "text": [
      "/home/magreen/anaconda3_2020_07/envs/metis_linux_venv/lib/python3.8/site-packages/ipykernel/ipkernel.py:287: DeprecationWarning: `should_run_async` will not call `transform_cell` automatically in the future. Please pass the result to `transformed_cell` argument and any exception that happen during thetransform in `preprocessing_exc_tuple` in IPython 7.17 and above.\n",
      "  and should_run_async(code)\n"
     ]
    },
    {
     "name": "stdout",
     "output_type": "stream",
     "text": [
      "time spent doing operation is 0:01:29.608129\n"
     ]
    }
   ],
   "source": [
    "start_time = datetime.datetime.now()\n",
    "LD_Allocator.fit(docTermMatrixCountVec)\n",
    "end_time = datetime.datetime.now()\n",
    "print(\"time spent doing operation is {}\".format(end_time - start_time))"
   ]
  },
  {
   "cell_type": "markdown",
   "metadata": {},
   "source": [
    "## Topics via LDA"
   ]
  },
  {
   "cell_type": "markdown",
   "metadata": {
    "execution": {
     "iopub.execute_input": "2020-11-03T22:20:31.145738Z",
     "iopub.status.busy": "2020-11-03T22:20:31.145545Z",
     "iopub.status.idle": "2020-11-03T22:20:31.162025Z",
     "shell.execute_reply": "2020-11-03T22:20:31.161379Z",
     "shell.execute_reply.started": "2020-11-03T22:20:31.145719Z"
    }
   },
   "source": [
    "## LDA on \"Good\" Reviews"
   ]
  },
  {
   "cell_type": "code",
   "execution_count": 79,
   "metadata": {
    "execution": {
     "iopub.execute_input": "2020-11-06T22:48:03.626753Z",
     "iopub.status.busy": "2020-11-06T22:48:03.626477Z",
     "iopub.status.idle": "2020-11-06T22:48:20.651143Z",
     "shell.execute_reply": "2020-11-06T22:48:20.650584Z",
     "shell.execute_reply.started": "2020-11-06T22:48:03.626723Z"
    }
   },
   "outputs": [
    {
     "name": "stderr",
     "output_type": "stream",
     "text": [
      "/home/magreen/anaconda3_2020_07/envs/metis_linux_venv/lib/python3.8/site-packages/ipykernel/ipkernel.py:287: DeprecationWarning: `should_run_async` will not call `transform_cell` automatically in the future. Please pass the result to `transformed_cell` argument and any exception that happen during thetransform in `preprocessing_exc_tuple` in IPython 7.17 and above.\n",
      "  and should_run_async(code)\n"
     ]
    },
    {
     "data": {
      "text/html": [
       "\n",
       "<link rel=\"stylesheet\" type=\"text/css\" href=\"https://cdn.rawgit.com/bmabey/pyLDAvis/files/ldavis.v1.0.0.css\">\n",
       "\n",
       "\n",
       "<div id=\"ldavis_el6261139674156962416183716338\"></div>\n",
       "<script type=\"text/javascript\">\n",
       "\n",
       "var ldavis_el6261139674156962416183716338_data = {\"mdsDat\": {\"x\": [0.11195449407283486, 0.16661920919810508, -0.09991079416077812, 0.027603117661567794, -0.12232966542553661, 0.12605648100095784, -0.0365839402477222, -0.05469006163615861, 0.07079507534399397, -0.009837321812849761, -0.08563338219046714, -0.09658699683666695, 0.04601965216968128, 0.033299953804674334, 0.08173231696098669, -0.044998188275626835, 0.10461322509932948, 0.16568584283484336, -0.25733882882253817, -0.12647018873863072], \"y\": [0.0659564182876591, 0.01763796989558398, 0.2043822089901812, -0.16586531903323673, 0.15182596857700406, -0.07349068536829127, 0.13046266006622698, -0.03974762412000958, 0.08470981788259625, -0.05164709417878521, -0.041034589477737984, -0.052368720963579564, -0.05317660009277089, 0.02863876432332981, -0.03683061257495099, -0.004097281387389939, 0.16445218549727986, -0.14813246945440847, -0.14301818479309394, -0.03865681207560821], \"topics\": [1, 2, 3, 4, 5, 6, 7, 8, 9, 10, 11, 12, 13, 14, 15, 16, 17, 18, 19, 20], \"cluster\": [1, 1, 1, 1, 1, 1, 1, 1, 1, 1, 1, 1, 1, 1, 1, 1, 1, 1, 1, 1], \"Freq\": [10.319324740345257, 7.346108404021212, 6.268371328745767, 5.442902913127117, 5.234767822344904, 5.229526458923144, 4.970452229872497, 4.7818724829865396, 4.731424037237001, 4.611747394977437, 4.51179533624809, 4.481415031096112, 4.460601376540485, 4.356291329530771, 4.1681989208265255, 4.12916291722627, 3.949396817876135, 3.7411903979094796, 3.699390983138731, 3.56605907702654]}, \"tinfo\": {\"Term\": [\"great\", \"good\", \"hot\", \"organic\", \"free\", \"really\", \"healthy\", \"sweet\", \"happy\", \"favorite\", \"green\", \"best\", \"wonderful\", \"low\", \"sure\", \"hard\", \"excellent\", \"easy\", \"delicious\", \"natural\", \"tasty\", \"perfect\", \"white\", \"dry\", \"new\", \"old\", \"nice\", \"strong\", \"far\", \"small\", \"sleep\", \"asleep\", \"flimsy\", \"cosmic\", \"dive\", \"feast\", \"odor\", \"relieved\", \"oral\", \"laundry\", \"trap\", \"blow\", \"poodle\", \"dependent\", \"sonic\", \"whitefish\", \"athletic\", \"pest\", \"understandable\", \"leg\", \"left\", \"gal\", \"valerian\", \"adhesive\", \"enzymatic\", \"nonstop\", \"uneaten\", \"leak\", \"pickle\", \"nipple\", \"yeah\", \"away\", \"dead\", \"severely\", \"painful\", \"disgust\", \"miserable\", \"gross\", \"rid\", \"worried\", \"literally\", \"sticky\", \"right\", \"awful\", \"fancy\", \"horrible\", \"terrible\", \"nose\", \"immediate\", \"ill\", \"long\", \"accidentally\", \"little\", \"just\", \"tiny\", \"completely\", \"minor\", \"maybe\", \"constantly\", \"small\", \"apart\", \"big\", \"actually\", \"fine\", \"probably\", \"normal\", \"bad\", \"later\", \"usually\", \"immediately\", \"pretty\", \"really\", \"instead\", \"new\", \"finally\", \"large\", \"good\", \"old\", \"sure\", \"definitely\", \"far\", \"quite\", \"easy\", \"dry\", \"expensive\", \"mastic\", \"consciously\", \"ludicrous\", \"fro\", \"breath\", \"vive\", \"leading\", \"inspirational\", \"port\", \"readable\", \"phony\", \"whirley\", \"corgi\", \"lot\", \"tolerate\", \"dole\", \"degradable\", \"taro\", \"defined\", \"laughable\", \"soso\", \"shape\", \"gristle\", \"cent\", \"silex\", \"congressional\", \"endure\", \"envelope\", \"sago\", \"dial\", \"damn\", \"bought\", \"good\", \"preventative\", \"collard\", \"prefect\", \"cloud\", \"aka\", \"resemble\", \"funky\", \"pretty\", \"couple\", \"different\", \"weird\", \"hickory\", \"al\", \"baked\", \"coconut\", \"plain\", \"um\", \"just\", \"overall\", \"expensive\", \"lazy\", \"really\", \"decent\", \"regular\", \"little\", \"quite\", \"probably\", \"actually\", \"nice\", \"cheap\", \"local\", \"jolly\", \"surprisingly\", \"quick\", \"instead\", \"big\", \"best\", \"especially\", \"fine\", \"usually\", \"bad\", \"definitely\", \"right\", \"diet\", \"long\", \"high\", \"easy\", \"puppy\", \"wellness\", \"urinary\", \"holistic\", \"senior\", \"indoor\", \"renal\", \"lactobacillus\", \"female\", \"veterinarian\", \"yr\", \"pedigree\", \"fondue\", \"playful\", \"eagle\", \"digest\", \"underweight\", \"ferrous\", \"marzipan\", \"instinct\", \"fixed\", \"fee\", \"selenite\", \"manganous\", \"geriatric\", \"expense\", \"acana\", \"pet\", \"neo\", \"kitten\", \"kibble\", \"dry\", \"male\", \"shiny\", \"young\", \"old\", \"canned\", \"wet\", \"elderly\", \"dog\", \"picky\", \"royal\", \"allergy\", \"digestive\", \"best\", \"salmon\", \"locally\", \"rosemary\", \"unable\", \"able\", \"available\", \"active\", \"special\", \"past\", \"blue\", \"expensive\", \"high\", \"recently\", \"highly\", \"diet\", \"different\", \"just\", \"far\", \"local\", \"simply\", \"little\", \"finally\", \"acne\", \"antiviral\", \"tasting\", \"halo\", \"charge\", \"removable\", \"mold\", \"veal\", \"gym\", \"inexplicable\", \"sizeable\", \"shea\", \"fecal\", \"alba\", \"everlasting\", \"bloat\", \"librarian\", \"amiss\", \"underbelly\", \"exhaustive\", \"commissary\", \"fungal\", \"great\", \"arsenal\", \"cranky\", \"window\", \"sec\", \"chase\", \"mat\", \"unblended\", \"carafe\", \"club\", \"cost\", \"nourish\", \"waste\", \"alternative\", \"quick\", \"blue\", \"busy\", \"buffalo\", \"pike\", \"sooner\", \"handy\", \"scalp\", \"effective\", \"skin\", \"easy\", \"just\", \"manageable\", \"everyday\", \"little\", \"long\", \"highly\", \"hair\", \"antibacterial\", \"especially\", \"large\", \"northern\", \"coconut\", \"right\", \"expensive\", \"regular\", \"daily\", \"usually\", \"able\", \"clear\", \"fast\", \"crazy\", \"perfectly\", \"reasonable\", \"different\", \"super\", \"local\", \"definitely\", \"instead\", \"small\", \"promptly\", \"balsamic\", \"outstanding\", \"professionally\", \"unfrosted\", \"spoil\", \"east\", \"upstate\", \"favorite\", \"outrageous\", \"mandarin\", \"tic\", \"unforgettable\", \"bust\", \"dop\", \"penta\", \"cleaner\", \"memorial\", \"distil\", \"panda\", \"faithfully\", \"elate\", \"nicotine\", \"la\", \"thee\", \"loyal\", \"devour\", \"delighted\", \"orchid\", \"nonprofit\", \"ranch\", \"anxiously\", \"glad\", \"new\", \"affordable\", \"satisfied\", \"remote\", \"shop\", \"absolute\", \"fresh\", \"unique\", \"salad\", \"disappoint\", \"local\", \"dirty\", \"fabulous\", \"incredible\", \"longer\", \"lucky\", \"waffle\", \"available\", \"monthly\", \"superior\", \"excited\", \"future\", \"unfortunately\", \"far\", \"ago\", \"excellent\", \"original\", \"delicious\", \"truly\", \"just\", \"highly\", \"able\", \"best\", \"second\", \"definitely\", \"expensive\", \"long\", \"different\", \"popcorn\", \"peanut\", \"bully\", \"hamburger\", \"milky\", \"cheesy\", \"nirvana\", \"amy\", \"mac\", \"caribou\", \"cheese\", \"macaroni\", \"rum\", \"fizzy\", \"listen\", \"eggnog\", \"helper\", \"loma\", \"ski\", \"healthfully\", \"restrictive\", \"pinhead\", \"buttermilk\", \"demi\", \"bye\", \"nonnatural\", \"annatto\", \"childhood\", \"amaze\", \"waistline\", \"stick\", \"gravy\", \"hidden\", \"flavored\", \"fake\", \"creamy\", \"butter\", \"receive\", \"taste\", \"worth\", \"extra\", \"artificial\", \"really\", \"guilty\", \"teen\", \"real\", \"costly\", \"special\", \"strawberry\", \"totally\", \"good\", \"regular\", \"huge\", \"just\", \"usually\", \"actually\", \"skeptical\", \"definitely\", \"big\", \"great\", \"little\", \"instead\", \"delicious\", \"like\", \"different\", \"highly\", \"raw\", \"steak\", \"swiss\", \"unfiltered\", \"bumble\", \"dutch\", \"global\", \"erythritol\", \"unfair\", \"lobster\", \"switch\", \"competitively\", \"aged\", \"seasoning\", \"postal\", \"stevia\", \"extract\", \"ala\", \"adrenal\", \"peel\", \"unheated\", \"cardamom\", \"infant\", \"saffron\", \"indigestible\", \"moral\", \"insoluble\", \"definitive\", \"frontier\", \"unpredictable\", \"tried\", \"wild\", \"licorice\", \"mineral\", \"black\", \"turmeric\", \"agree\", \"granulated\", \"northwest\", \"far\", \"responsible\", \"immune\", \"superior\", \"eastern\", \"chai\", \"generic\", \"vast\", \"freshly\", \"total\", \"best\", \"acid\", \"original\", \"consistent\", \"inferior\", \"clearly\", \"various\", \"wrong\", \"natural\", \"good\", \"simply\", \"probably\", \"different\", \"certainly\", \"tea\", \"high\", \"regular\", \"expensive\", \"particular\", \"strong\", \"really\", \"fresh\", \"usually\", \"definitely\", \"available\", \"gluten\", \"diabetic\", \"free\", \"cal\", \"fat\", \"guilt\", \"celiac\", \"dairy\", \"chia\", \"caffeine\", \"autistic\", \"lactose\", \"casein\", \"puffed\", \"ale\", \"low\", \"glutamic\", \"allergen\", \"wheat\", \"dietetic\", \"crown\", \"intolerant\", \"saturated\", \"braided\", \"linolenic\", \"cereal\", \"tartar\", \"pesticide\", \"assort\", \"harmony\", \"olive\", \"smoked\", \"min\", \"dietary\", \"shorten\", \"sodium\", \"glucose\", \"sugar\", \"lower\", \"ginger\", \"calorie\", \"diet\", \"baked\", \"lean\", \"high\", \"total\", \"flour\", \"regular\", \"fiber\", \"oven\", \"nutritional\", \"good\", \"oatmeal\", \"best\", \"instead\", \"just\", \"extra\", \"little\", \"highly\", \"great\", \"especially\", \"light\", \"daily\", \"brown\", \"delicious\", \"jelly\", \"green\", \"oolong\", \"belly\", \"yerba\", \"mangosteen\", \"aspen\", \"passable\", \"elaborate\", \"sheep\", \"subdue\", \"kava\", \"universally\", \"oxidative\", \"dong\", \"muir\", \"pepperoni\", \"oversized\", \"immense\", \"sockeye\", \"nonperishable\", \"bone\", \"herby\", \"cellular\", \"liberal\", \"pistachio\", \"maiden\", \"potatoes\", \"ceremonial\", \"leafy\", \"darn\", \"environmentally\", \"yogi\", \"tonic\", \"equal\", \"jasmine\", \"quinoa\", \"teathe\", \"beneficial\", \"capable\", \"small\", \"web\", \"valuable\", \"cracker\", \"antioxidant\", \"grassy\", \"design\", \"medicinal\", \"pretty\", \"associate\", \"sustainable\", \"quite\", \"healthful\", \"trail\", \"traditional\", \"pear\", \"fairly\", \"large\", \"good\", \"slightly\", \"friendly\", \"expensive\", \"actually\", \"inexpensive\", \"noticeable\", \"similar\", \"usually\", \"bitter\", \"mild\", \"high\", \"positive\", \"especially\", \"maybe\", \"available\", \"long\", \"big\", \"just\", \"little\", \"daily\", \"strong\", \"probably\", \"healthy\", \"noodle\", \"evidently\", \"nutritionist\", \"hydrate\", \"mum\", \"dad\", \"fe\", \"addict\", \"logic\", \"appreciate\", \"loaded\", \"perforated\", \"enjoyment\", \"watcher\", \"ceral\", \"ignorant\", \"unhealthy\", \"exercise\", \"lined\", \"pick\", \"fantastically\", \"undamaged\", \"shin\", \"atrocious\", \"run\", \"pyrex\", \"pate\", \"dissatisfy\", \"notoriously\", \"curry\", \"conveniently\", \"filling\", \"easy\", \"equivalent\", \"hungry\", \"table\", \"pregnant\", \"hunger\", \"pouch\", \"pita\", \"entire\", \"eating\", \"separate\", \"lunch\", \"negative\", \"quick\", \"slim\", \"weight\", \"impossible\", \"second\", \"relatively\", \"prior\", \"vegetarian\", \"daily\", \"delicious\", \"high\", \"actually\", \"small\", \"simple\", \"highly\", \"nutritious\", \"just\", \"good\", \"big\", \"natural\", \"tasty\", \"low\", \"quite\", \"easily\", \"real\", \"regular\", \"little\", \"awesome\", \"dark\", \"bold\", \"rich\", \"burnt\", \"kona\", \"thank\", \"birthday\", \"candied\", \"buttery\", \"whirly\", \"smooth\", \"gain\", \"thoughtful\", \"froth\", \"nib\", \"primal\", \"creamer\", \"destiny\", \"fist\", \"pleasingly\", \"tang\", \"chaser\", \"jean\", \"commendable\", \"nabob\", \"conical\", \"genius\", \"canister\", \"dinosaur\", \"deep\", \"oily\", \"acidic\", \"robust\", \"bitter\", \"perfect\", \"blend\", \"mellow\", \"classic\", \"real\", \"flavorful\", \"harsh\", \"exceptional\", \"decadent\", \"true\", \"salt\", \"strong\", \"intense\", \"complex\", \"perfectly\", \"best\", \"just\", \"creamy\", \"nice\", \"light\", \"good\", \"fine\", \"right\", \"weak\", \"highly\", \"special\", \"great\", \"extra\", \"delicious\", \"timely\", \"scrumptious\", \"fig\", \"dandy\", \"salty\", \"delightfully\", \"bitterness\", \"creek\", \"fry\", \"upscale\", \"twin\", \"caraway\", \"sweetleaf\", \"wonderful\", \"plum\", \"deliciousness\", \"diehard\", \"splash\", \"wrapped\", \"valentine\", \"multidimensional\", \"buckwheat\", \"absolutely\", \"gift\", \"guest\", \"delicately\", \"winner\", \"systolic\", \"outstandingly\", \"brisk\", \"gingerbread\", \"bear\", \"delectable\", \"roast\", \"poppy\", \"fish\", \"strong\", \"fishy\", \"stir\", \"delicious\", \"deliciously\", \"weak\", \"crunchy\", \"lover\", \"elegant\", \"unsalted\", \"subtle\", \"slightly\", \"satisfy\", \"generous\", \"little\", \"just\", \"perfect\", \"grilled\", \"right\", \"usually\", \"highly\", \"definitely\", \"terrific\", \"regular\", \"local\", \"long\", \"nice\", \"different\", \"flavorful\", \"available\", \"mild\", \"big\", \"simply\", \"quite\", \"light\", \"instant\", \"fructose\", \"pumpkin\", \"crystal\", \"lite\", \"sickly\", \"pomegranate\", \"sparkling\", \"tart\", \"cloyingly\", \"sickeningly\", \"dinner\", \"counter\", \"sugared\", \"concentrate\", \"sweet\", \"overpoweringly\", \"sat\", \"syrupy\", \"sugary\", \"weirdly\", \"sucrose\", \"gingery\", \"capsaicin\", \"unauthorized\", \"sicken\", \"priority\", \"berry\", \"spinal\", \"instantaneous\", \"fog\", \"stayed\", \"hazelnut\", \"overly\", \"overwhelmingly\", \"tooth\", \"southern\", \"stuffed\", \"prime\", \"quality\", \"candy\", \"eligible\", \"reasonably\", \"bay\", \"slight\", \"grainy\", \"overpower\", \"attractive\", \"high\", \"san\", \"nice\", \"refresh\", \"ready\", \"pleasant\", \"slightly\", \"mild\", \"mildly\", \"tiny\", \"definitely\", \"quite\", \"little\", \"light\", \"pleasantly\", \"really\", \"probably\", \"actually\", \"certainly\", \"great\", \"different\", \"easily\", \"perfect\", \"cute\", \"skippy\", \"starter\", \"goldfish\", \"insulated\", \"bed\", \"crust\", \"pocky\", \"defiantly\", \"nuke\", \"single\", \"easter\", \"groggy\", \"peter\", \"indirect\", \"electrolyte\", \"marble\", \"durian\", \"pretentious\", \"tho\", \"earthborn\", \"appreciable\", \"plastic\", \"filter\", \"bitty\", \"venison\", \"wasnt\", \"handily\", \"til\", \"double\", \"airtight\", \"sure\", \"stale\", \"metal\", \"cayenne\", \"funny\", \"frozen\", \"south\", \"serving\", \"tight\", \"loosely\", \"memorable\", \"productive\", \"broken\", \"vita\", \"pecan\", \"lid\", \"warm\", \"xylitol\", \"familiar\", \"careful\", \"alive\", \"suppose\", \"later\", \"open\", \"concerned\", \"sharp\", \"sturdy\", \"little\", \"fresh\", \"just\", \"seal\", \"perfect\", \"big\", \"different\", \"small\", \"certain\", \"similar\", \"quickly\", \"best\", \"probably\", \"actually\", \"highly\", \"good\", \"great\", \"sour\", \"soft\", \"garlic\", \"diaper\", \"leather\", \"lime\", \"blank\", \"snap\", \"junior\", \"slippery\", \"watermelon\", \"tasty\", \"ham\", \"bothersome\", \"cassia\", \"beige\", \"serrated\", \"intentional\", \"undiluted\", \"toothless\", \"eve\", \"fiesta\", \"neon\", \"dress\", \"opaque\", \"radial\", \"withdraw\", \"rubber\", \"slide\", \"classical\", \"key\", \"hard\", \"horizontally\", \"exactly\", \"unavailable\", \"nut\", \"delight\", \"lemon\", \"chewy\", \"crumbly\", \"opposite\", \"raspberry\", \"halfway\", \"alright\", \"seasoned\", \"overbear\", \"crush\", \"corporate\", \"jolly\", \"recognizable\", \"sprinkle\", \"nonetheless\", \"citric\", \"slice\", \"welcome\", \"gently\", \"actual\", \"flat\", \"chicken\", \"heavy\", \"just\", \"fresh\", \"little\", \"really\", \"close\", \"extremely\", \"nice\", \"right\", \"quite\", \"particular\", \"easily\", \"probably\", \"perfectly\", \"vegetable\", \"especially\", \"pretty\", \"instead\", \"simply\", \"white\", \"red\", \"tropical\", \"truffle\", \"pale\", \"souchong\", \"sloppy\", \"tasteful\", \"snappy\", \"yellow\", \"queen\", \"artichoke\", \"adore\", \"mae\", \"fluffy\", \"oak\", \"spelt\", \"airy\", \"chrysanthemum\", \"sensual\", \"semolina\", \"vegetal\", \"bleached\", \"mango\", \"rosy\", \"chick\", \"egg\", \"historical\", \"distinctively\", \"purple\", \"herbal\", \"brown\", \"bread\", \"stash\", \"floral\", \"trident\", \"earl\", \"subtly\", \"flower\", \"leaf\", \"tea\", \"loose\", \"chopped\", \"bright\", \"delicate\", \"dough\", \"moist\", \"grey\", \"light\", \"flour\", \"lovely\", \"refined\", \"fragrant\", \"aromatic\", \"black\", \"beautifully\", \"beautiful\", \"distinctive\", \"celestial\", \"just\", \"different\", \"nice\", \"popular\", \"long\", \"instead\", \"fresh\", \"delicious\", \"good\", \"clear\", \"little\", \"wonderful\", \"happy\", \"illy\", \"lo\", \"sugarless\", \"genuine\", \"essentia\", \"stopped\", \"zippy\", \"hardly\", \"bring\", \"obsidian\", \"unwrapped\", \"maple\", \"teeth\", \"frisky\", \"nip\", \"gum\", \"plump\", \"hysterical\", \"dental\", \"bush\", \"dizzy\", \"fop\", \"dandruff\", \"dietitian\", \"ornamental\", \"kettle\", \"aluminum\", \"rubbery\", \"inflated\", \"wish\", \"satisfactory\", \"retail\", \"sell\", \"direct\", \"convenient\", \"clean\", \"soon\", \"rapidly\", \"tree\", \"automatically\", \"ago\", \"dear\", \"competitive\", \"bottled\", \"decent\", \"nice\", \"lately\", \"large\", \"able\", \"finally\", \"discover\", \"available\", \"local\", \"long\", \"longer\", \"really\", \"locally\", \"clear\", \"individual\", \"quickly\", \"different\", \"regular\", \"big\", \"reasonable\", \"expensive\", \"good\", \"little\", \"small\", \"wrap\", \"prompt\", \"overseas\", \"fondant\", \"unbelievable\", \"better\", \"nostalgic\", \"speedy\", \"chest\", \"hectic\", \"soy\", \"timothy\", \"guava\", \"abroad\", \"pictured\", \"mind\", \"silk\", \"wired\", \"drippy\", \"individually\", \"bodied\", \"breathe\", \"soggy\", \"pack\", \"rogan\", \"watching\", \"teenage\", \"custard\", \"unknowingly\", \"kale\", \"bubble\", \"securely\", \"minty\", \"fast\", \"yummy\", \"vaguely\", \"enjoyable\", \"miss\", \"usual\", \"bad\", \"edible\", \"helpful\", \"nicely\", \"like\", \"early\", \"nervous\", \"definitely\", \"grand\", \"soothe\", \"vegetarian\", \"really\", \"nice\", \"cinnamon\", \"typically\", \"beautiful\", \"general\", \"great\", \"make\", \"easy\", \"similar\", \"big\", \"super\", \"lovely\", \"fresh\", \"little\", \"especially\", \"good\", \"best\", \"hard\", \"couscous\", \"fantastic\", \"hemp\", \"organic\", \"prominent\", \"conventional\", \"lactic\", \"nonorganic\", \"navy\", \"silken\", \"tapioca\", \"walnut\", \"cliff\", \"gluttonous\", \"organically\", \"arctic\", \"carrot\", \"lard\", \"ambrosial\", \"exponentially\", \"tortilla\", \"precut\", \"peaked\", \"synthetic\", \"stingy\", \"awesomely\", \"sorbic\", \"inspiring\", \"exposed\", \"extractive\", \"wholesome\", \"certified\", \"harvest\", \"puree\", \"flax\", \"natural\", \"unbelievably\", \"nutritious\", \"golden\", \"flaxseed\", \"arrowhead\", \"fair\", \"genetically\", \"greatly\", \"recommend\", \"vegetable\", \"nutritional\", \"added\", \"sunflower\", \"highly\", \"artificial\", \"delicious\", \"naturally\", \"super\", \"pure\", \"soup\", \"coconut\", \"essential\", \"nutty\", \"high\", \"great\", \"best\", \"truly\", \"just\", \"important\", \"perfect\", \"hot\", \"spicy\", \"chilly\", \"fashioned\", \"hotter\", \"prickly\", \"liberally\", \"ant\", \"reliable\", \"southwest\", \"cold\", \"dha\", \"alpine\", \"cavalier\", \"oriental\", \"openly\", \"profusely\", \"mary\", \"itching\", \"tastefully\", \"itch\", \"crawfish\", \"rhubarb\", \"multinational\", \"tupelo\", \"finding\", \"iced\", \"clown\", \"recurring\", \"dagoba\", \"excellent\", \"deviled\", \"ultimate\", \"shipment\", \"sauce\", \"german\", \"el\", \"vinegary\", \"marmite\", \"intact\", \"ship\", \"quickly\", \"mad\", \"usable\", \"easier\", \"permanent\", \"amazing\", \"sparingly\", \"skim\", \"pepper\", \"forward\", \"refreshing\", \"skeptical\", \"just\", \"delicious\", \"warm\", \"especially\", \"best\", \"liquid\", \"thoroughly\", \"flavorful\", \"use\", \"mild\", \"old\", \"big\", \"good\", \"perfect\", \"great\", \"instead\", \"actually\", \"really\"], \"Freq\": [48017.0, 64737.0, 11042.0, 10273.0, 10990.0, 27728.0, 9763.0, 10098.0, 8632.0, 9664.0, 8046.0, 24327.0, 7656.0, 7603.0, 7407.0, 8113.0, 7454.0, 11124.0, 13478.0, 7761.0, 6145.0, 8136.0, 4864.0, 6609.0, 7016.0, 7767.0, 11863.0, 6842.0, 8731.0, 11831.0, 223.2393024607143, 135.1467680772587, 60.73341194421608, 47.03949442901642, 42.14464589020545, 42.144641575829276, 45.9235954771605, 36.270827645295725, 121.12685565228612, 33.333918527085736, 32.354948820734386, 31.375979111243478, 30.39700940460893, 33.211339816596606, 31.30615314415257, 26.48113057379586, 25.502160867497846, 25.501322386550033, 34.89990933569738, 22.565251748117017, 96.64346411817361, 19.628342624506793, 61.751226128811425, 21.468152821527422, 18.649140307021018, 21.42183009101285, 17.670403211924658, 17.67040320940585, 23.201815366760567, 16.69143350528676, 58.408917330777435, 3057.79631804879, 293.70500285822436, 86.21023986524935, 111.71001930551618, 79.12949792090326, 65.99675016451656, 296.673079386789, 295.3204653216091, 172.06339515587263, 561.4185742630582, 540.4822589338639, 4400.0337998312725, 324.32295151364656, 447.8237578861901, 401.73487846136294, 383.7954428011748, 221.96229753767926, 147.62216132558723, 123.82179000500943, 4503.513604392196, 138.8871552928834, 7863.399676967462, 12717.946141022952, 738.1292372644904, 915.9704290178026, 213.11935940285304, 1315.2269281276124, 277.7535402001233, 3163.3363290554316, 332.1168117480964, 2178.257748899166, 1984.8689480160829, 1078.0765354485306, 1497.4567968428098, 615.645096958512, 1415.4952228146155, 656.856635629903, 1220.1423402820808, 572.9480513000402, 1209.2330681524904, 2399.4974310076204, 945.744529617376, 945.6790959854703, 632.1225722799435, 806.5736808210798, 2042.4395237903225, 851.5622564707843, 835.1176649319191, 855.4776357195442, 813.623047573714, 725.4270948351043, 744.9363563200279, 700.8623042048372, 677.9030082404246, 20.056805319211982, 12.434266478488082, 11.481449118613687, 7.670179705212552, 7.670179702821268, 7.670179702777224, 14.316776368538354, 6.7173623499943345, 6.71736234865023, 6.7173623481990985, 6.717362346376659, 6.717362343802075, 5.764544990634744, 25.870728584983084, 7.260206368283519, 4.811727642441576, 4.811727639566863, 4.811727637060246, 4.811727633699099, 4.811727632708187, 14.894260284460282, 9.422039422291926, 3.8589102861975655, 3.8589102854556754, 3.8589102846427448, 3.8589102836038234, 3.8589102830383943, 3.858910282987606, 3.8589102828454283, 3.85891028199651, 47.64213144992502, 64.65313181030962, 45411.13627202593, 12.15079338469528, 7.649919389546381, 16.690284131559668, 8.091720312866384, 21.243747107500006, 22.154643027553277, 52.10729765132995, 2532.0747945629487, 144.67929361646765, 2915.070502840454, 223.41439053989282, 18.969262279275053, 39.59105944533402, 214.46665924096507, 412.970573026177, 206.57657918632637, 22.882255703567207, 6293.318434607516, 488.40697059470307, 1139.185917038762, 93.24230133958763, 3112.429626744592, 299.1359236478052, 1105.1100672267403, 2561.0657243357477, 997.1797103541626, 799.2801472695977, 984.2609195567787, 1344.4684981105174, 285.3852051129416, 1009.5761512663379, 64.55932831588343, 159.8668922671876, 467.8500232017912, 553.9120762258017, 706.3679526195596, 1298.3711626191284, 517.2985946721797, 367.0469522772533, 414.0482563707018, 422.2079356978038, 451.99179313763165, 423.16708665752674, 295.2806682874763, 325.5111521695288, 299.3944059332141, 300.93312669363524, 965.804132360677, 170.47567083646473, 167.58706867566787, 209.49724375135114, 266.88795449492085, 130.03524058850863, 58.65193447643747, 42.40989041834462, 110.07500449884364, 48.89002936412901, 53.56488924966586, 36.63692567351577, 28.934164968340696, 60.453249038228144, 26.045562811825835, 83.56172076853969, 31.480473306895885, 21.231225873453422, 18.342623714202787, 52.24881556078206, 17.379756325896643, 36.56893916801124, 16.416888942964828, 14.491154170220184, 13.528286783118403, 12.565419394141609, 12.565408730205638, 448.1812801952952, 11.60255200955608, 57.802165904382726, 596.932507123379, 5756.463833468882, 74.13118826701213, 359.4114174326721, 879.2543473979273, 6112.099793980727, 671.7252906969808, 440.5968976197374, 134.58036656843475, 411.29335049162813, 1203.7069128528271, 107.58204061941865, 107.8821464861322, 436.44166572983215, 11011.419438854247, 213.19114370386728, 977.0136014748807, 133.46580425870422, 329.758949529389, 1906.9127627879213, 1987.9539892106843, 336.67199247199517, 1002.822480765102, 650.4272372730425, 615.1566420783812, 1443.9908375444527, 1656.3849233779367, 676.4789650397007, 1141.7541072521665, 677.470332376928, 889.8560505009302, 1529.1535024542943, 765.7999565096828, 604.9648863599641, 431.9022872347913, 484.61477198735116, 385.2488560475064, 33.936511931660014, 25.464151112776634, 158.14743460579194, 12.284923175112281, 11.34354975223883, 11.343549751105842, 23.32786813983555, 8.5194294789906, 8.519429475897697, 7.578056050991302, 7.547317289125963, 27.482217973995382, 14.123416054847027, 6.636682638255707, 6.636682637619125, 6.636682635263551, 5.695309212378736, 5.695309209699198, 5.695309208820085, 5.695309200518146, 12.176941442862269, 11.343549756202496, 40540.75711645894, 10.402176326477274, 4.753935788016542, 4.753935786448613, 4.753935786074166, 4.7539357837767575, 4.753935783394924, 4.753935783025325, 8.667714960908523, 11.706133566590884, 44.78456457147684, 77.86215801680893, 10.374480810697229, 625.2945600126376, 1349.3259966285505, 616.7186255654494, 281.41636391250364, 48.49377612836388, 18.564678756176757, 64.72579537421927, 262.4354321259058, 46.679626745680075, 256.2095649366358, 118.25345940335237, 1527.2079108779324, 3604.00028881323, 41.505714129034715, 202.38789011668814, 1883.2415854133624, 1054.2587231298753, 807.3710443679652, 40.113614499266305, 33.179367540177886, 457.23563852100784, 407.5266245654437, 55.81593631488088, 175.68513395976814, 412.89044820505745, 351.1881703038929, 367.97566239609614, 213.36086516014095, 288.6285825912419, 274.906436209259, 152.73306114132694, 202.84186306554682, 118.5241362014542, 156.29918094234372, 152.56720087890326, 246.48586969167624, 160.3874014561719, 209.29681566120536, 199.14938700902977, 163.5955144578935, 168.11665810074004, 630.043231031866, 299.9806851067763, 820.8055871163386, 39.84624746654684, 37.906426552443904, 35.9650284383377, 132.3576205098524, 21.40428818069634, 9230.212770543558, 169.53941597714342, 13.638560013062023, 32.6898518404016, 12.667844021561018, 12.667844021536109, 11.697128006066684, 9.755695972649573, 8.784979952431303, 8.78497995177397, 8.784979608513604, 8.779177336630674, 17.41081690036207, 37.52808346080128, 9.592420940742246, 41.73566159291874, 7.814263933054976, 97.46419661691567, 6.843547025003829, 84.16401547092597, 5.8728319035827345, 5.872831903297311, 53.338354877295316, 25.847769291900363, 1962.371800521206, 5405.733133368985, 547.5780672468381, 565.7177109836896, 45.41195650591527, 31.19787387281587, 308.7231382182197, 5388.518797496114, 787.7932190025681, 352.48436179582, 127.89447577110542, 4380.187231520099, 80.5717248512951, 497.3973684588257, 409.31123175454763, 1094.728436610559, 237.09299036008375, 87.03251105639102, 1455.1882260904572, 177.05094868728477, 355.73654407754475, 255.84035334005313, 120.49529241890471, 388.50336988031654, 1143.1967058013433, 504.2774103650662, 914.4643430614684, 449.0222922188242, 1116.331469996625, 396.20634089055625, 1857.14443825211, 775.4575030229566, 621.9117096591441, 1058.3539670987363, 387.2593933301761, 447.0227200815406, 429.6770505174336, 455.67535696480644, 395.7322093807315, 1143.0009455417985, 597.945051719382, 233.26524673520913, 74.24776275741927, 66.2263974329989, 63.21838543835004, 57.20236144596106, 40.14861746165046, 35.14356801666739, 40.61309943678777, 2234.4261082059825, 21.929483974080597, 18.098205464985075, 68.1642949887177, 15.065643850073084, 14.087522843045658, 12.082181513809157, 12.082181512060936, 11.079510845771654, 11.069176055707988, 24.613536913575796, 9.074169513022097, 9.074113365206426, 10.76079877334949, 8.071498849184248, 8.071498848037669, 8.055968903717119, 8.0380716973661, 691.5635365070245, 7.068828188799144, 588.2618251974824, 219.83436974321629, 62.11621475583267, 830.1262368255542, 152.3165171959257, 1232.5177433116176, 164.99562996183883, 300.6549714986944, 422.97037925062506, 1203.2020773278018, 2606.964279766668, 1236.0644930068208, 11939.728886002402, 270.1809399126562, 49.812611706763285, 1805.7387015517127, 140.0375076812583, 733.1233845628354, 109.61542978106455, 478.21595598157336, 4823.796469656194, 1152.231821976901, 563.9934691555263, 3207.5753349786987, 844.1561995756571, 874.7675536963642, 243.47533154254555, 776.6809239669692, 734.3787346491852, 1411.1401939387733, 801.181960079755, 448.8518966686222, 629.930971996798, 323.47596374889497, 398.0067050723951, 389.4415254934026, 2466.526387964509, 54.0949145509637, 324.25315926950657, 46.02769461970527, 60.01534715367953, 82.86834401660421, 44.91447249594505, 39.86247220898185, 36.83237271945707, 34.788967851447964, 33.76714773817682, 36.66682804447153, 31.68012503245207, 27.637050818416775, 26.61534838509637, 346.19432441418195, 270.4354935451626, 16.398324051279168, 15.376308098206549, 14.354919187030283, 14.354918411511806, 14.32774886993433, 57.26603529466977, 13.333216752195188, 13.333216749375609, 19.047998465685982, 24.63893544295715, 20.82700390450892, 104.76709193582967, 11.289811884839974, 1126.484077239583, 923.6501134581849, 148.4553667113275, 118.11657077321243, 4237.680445525505, 89.44318639489752, 77.1540339167858, 45.16529331770583, 43.302106937324396, 5104.906030593209, 140.73487757350762, 104.59409854149244, 543.4767861440833, 88.69772942052991, 108.56359811678757, 160.56038865278026, 61.38929557589842, 288.4667559362019, 448.8968327076641, 4873.930723439679, 159.9585187125736, 745.1814057898861, 235.4998320046345, 102.02817183352006, 221.6665007964521, 370.22584520459304, 442.9352804700468, 1007.6865295399049, 2855.198466816766, 445.97959640201884, 587.3913440448104, 666.8572594812276, 329.1033819791036, 254.25104050977973, 495.1523248756122, 442.960847237988, 379.9257417509885, 262.5875610081143, 381.15457091042435, 533.9747188623998, 405.9497752584349, 339.97964006000126, 349.4974386836683, 277.1632712465697, 2362.6946364663677, 826.1424931010047, 10962.601735477498, 245.7267476597704, 3135.255663867619, 88.25232581735781, 273.1180686862329, 57.5300113820128, 41.53143244584428, 353.8684903638701, 26.80769694728357, 227.3738584966573, 17.888315338789496, 61.06708410556569, 50.591648013882086, 7146.6660707911515, 13.924145731354749, 12.933103331222682, 124.35248899872319, 16.41197325932177, 101.987228008387, 184.4162081170206, 139.45148791734624, 7.977891325129786, 7.977891322732937, 44.8232576389068, 8.75370171303904, 6.986848923262521, 6.9868489211552856, 6.986848919590478, 2532.507992538518, 206.11347394426272, 33.002182146147376, 363.87472200889005, 16.331199221365882, 102.4627122971872, 82.58292484068804, 607.2131709227981, 153.82966041479227, 167.26540964814436, 108.17127975172099, 1513.679108219322, 300.0651191955848, 160.7599090217272, 2123.761232767043, 378.85791308711606, 282.5328614782869, 1182.7964211351205, 143.35744950312457, 189.13809138485755, 348.192167471175, 1819.280826181061, 224.4507529131526, 935.2985927239113, 384.62825841153943, 732.2365687303624, 355.40747419219576, 532.6596663339207, 331.06521059802185, 459.3689853967858, 302.5512236226545, 279.1630456010114, 262.9328895465717, 241.998894096156, 243.1059538061319, 1004.2896452771453, 8029.920266372556, 277.3293592996147, 359.0545765305072, 52.620939569741765, 42.313213873876656, 37.15934298402156, 24.778254217811256, 20.666989976460172, 20.65269827465977, 19.634778574936476, 18.60544484199084, 18.605444838952213, 16.54389970744665, 16.543899706524396, 16.543899704264323, 15.507049349615803, 16.427756585862824, 22.224773590289917, 13.45158200063404, 13.448521642884064, 13.427741809813208, 12.420809435859688, 12.420809435231387, 24.80027904391099, 12.374026809948026, 11.390036869735644, 11.390036867930732, 10.35926430178185, 10.35926429985923, 196.76973300713473, 126.29660079031905, 165.55144873857193, 111.73218352031769, 514.1977862437569, 66.23516110162178, 194.6730004028355, 21.42571116163938, 180.98367293745775, 33.430370359822874, 5176.23892093906, 92.85310614219027, 64.91460563298365, 40.829693403922036, 109.0832466507438, 63.01261490946602, 33.365457579538514, 94.33605556593214, 1774.8884466700122, 66.26464931068953, 80.98565656227885, 1627.3347683117793, 135.3159852490147, 79.2275975431586, 431.9672182602003, 87.01343854580286, 336.869005835012, 682.6441566070943, 2698.7117964648037, 426.4356942361119, 142.78405446376806, 524.2334455687801, 567.5480924746636, 159.45781183994166, 141.5315487370768, 326.981997441427, 465.56227381575815, 338.24094614020186, 272.9679700786847, 471.63449404748184, 163.49172934223535, 349.62410996621594, 284.33545273486646, 334.92604694223957, 383.2098393254681, 357.2702298620927, 505.0405185503793, 394.1107161879332, 244.23797049545828, 269.02006853100204, 254.188956838356, 9740.887396533797, 683.1772680408372, 37.094509497442715, 33.08362449279995, 37.94455337276575, 26.081294803725758, 26.081294801796886, 25.08009346644864, 340.6097551820257, 23.0776907931989, 47.012014135236114, 19.072885448529895, 18.046935392706267, 17.07048277504098, 15.068080103690182, 14.066878770303788, 14.066519238387949, 331.682433710814, 12.064476096314115, 11.063273352845954, 59.71377043986151, 33.14280419783242, 48.58929240480928, 43.7576444934936, 9.060872087898069, 9.06087208657809, 18.93310531241112, 18.860890859143108, 8.059670750735133, 32.96801587062766, 68.30854730642437, 96.60010981935454, 305.6540537047953, 6987.108711823683, 123.11594701689765, 511.0569691325936, 303.83706755979057, 157.35612688879309, 34.6492823402139, 388.8258781942289, 45.39020753308779, 931.25270885403, 91.98703994378155, 251.21092716750235, 83.06729231438594, 408.6491932089576, 923.3163621430588, 78.39678820690986, 258.7911505890052, 258.6641967032335, 710.8619850545524, 255.60423345045376, 175.94214143423036, 256.49711224954484, 503.7521321944609, 1154.569182019036, 938.1842350538432, 773.7768909585872, 968.7334688306378, 321.69766610454974, 657.3935093737153, 237.49825282680783, 1311.172569434521, 1183.8555455829971, 529.9447243023043, 469.6089656067653, 411.54948541843964, 419.5405107314919, 408.17970273548383, 331.0334665429433, 348.2390532154547, 329.13084744328006, 362.1420984217136, 2033.0878016671302, 3396.9547034283564, 1270.266062552308, 4214.488569631002, 160.8389713084774, 134.2051030155001, 164.48322408050652, 180.40688887186914, 61.208575093529895, 70.38307724595133, 26.683190265909534, 2898.5840332069965, 16.81879459295939, 35.22462358781007, 13.859271656565847, 35.00695705868035, 43.784817446973925, 39.21184095657181, 10.900157207235951, 10.900157205644009, 9.913713586679307, 8.924616046162427, 8.915743968148064, 30.091568541302745, 7.940838505099673, 7.940838503910128, 14.768476183265884, 6.954398938742779, 5.967959375089546, 5.967959372491938, 800.1905347621104, 471.86681213218657, 331.5114740208718, 503.1081524968563, 2147.7161806031063, 5436.731584989959, 99.19731684283201, 241.8160204808995, 430.60864958106134, 3088.2809796222505, 1148.9496065083001, 120.88516674619356, 198.15495000202495, 66.07877199249887, 662.2530680154954, 206.7977165119262, 1304.031865376084, 279.3177442803734, 211.20717133719396, 389.18002584104147, 1837.935041699851, 2541.4748204969383, 354.9544583856629, 999.5262618830449, 553.585868563528, 1027.793096160238, 369.68825834784616, 441.810784285287, 253.12386154193615, 393.8975956233059, 268.612387627519, 340.43588663797186, 276.57816111038943, 274.6544489068189, 546.8291255603912, 136.75476498482664, 82.35998208216574, 64.7219133432149, 466.51763815271937, 107.60774771132374, 33.365333958548376, 29.44577586421217, 144.26801459652157, 60.43999853525601, 16.707170663248085, 15.727277953280426, 15.727277952203856, 7184.242778763854, 10.827814414585598, 9.846934900017278, 25.59028174792575, 7.888136294345013, 52.884727036256564, 6.908243586950615, 6.908191793049245, 6.890126199090474, 3895.71158354505, 10.300795953898078, 28.250647045609984, 39.34020105723459, 5.928350879094885, 5.928350878667864, 5.928350878198073, 12.691492031035452, 53.6160207863412, 171.51112907806464, 150.49837572283954, 104.39596782766046, 62.539021570487996, 1021.5717061409846, 4539.840894319997, 159.42378260654016, 159.7431678739356, 6858.319481437142, 119.07698143131128, 567.0348940583383, 440.4418376644167, 38.01943822744418, 85.3979513517787, 106.44043161980744, 422.5776835895645, 918.7056884841114, 210.17809325132197, 177.36619901590615, 2160.8745470298395, 2801.6554083112733, 990.976287964709, 114.56223172695366, 656.0642832045032, 549.4314133048456, 598.0548578521746, 596.6371017542068, 171.14393405802002, 434.9828315391659, 433.59298026238923, 455.00261915556115, 413.44885793307685, 341.2639492483945, 247.90075376456878, 278.02787566251686, 223.8821237799489, 250.16170744645416, 215.68743301871567, 226.65281856661605, 216.02211267617142, 1944.1609717493166, 637.452985329419, 450.4273690450357, 376.8758693456246, 122.97206216216983, 68.56410347973528, 59.49611036855898, 165.61287892153607, 373.45324800673103, 57.427040147193125, 47.405452884352286, 39.344926316613076, 40.319438276682845, 34.2830170985157, 50.63239589027658, 9729.52676193223, 28.067141485666962, 16.07870088453259, 63.30743841919942, 622.2401463321759, 14.92108547330585, 35.38517770271445, 26.776277883309948, 9.118370852070068, 9.118370851407866, 9.118370848899069, 9.118370844807004, 74.39420729680182, 8.110816059133834, 8.110816058434796, 17.93875712559428, 17.94109592984246, 47.74289027285687, 952.6719520218275, 97.41598332410503, 89.21350220197489, 271.60596399252415, 41.80761388988565, 769.6976308934974, 196.55421223291057, 145.52846873110627, 81.93011586879226, 415.06126816529513, 81.08094714880554, 576.0761745547534, 151.994096891489, 299.90753759323815, 181.42028859854395, 2852.698940786136, 208.28426216236264, 2302.8845863459414, 306.33254055135126, 523.7415647694176, 450.1149955825102, 757.1805228204432, 486.7325120620765, 148.91560871111787, 366.7144694700426, 912.1604280816936, 758.1149164930398, 1319.3215865079187, 543.0048069935502, 311.7234479423844, 959.7202628446437, 461.3210982499916, 504.6966209167864, 333.0201574210032, 596.9610327266755, 413.8013519227831, 351.4870436882739, 360.78215218805224, 325.9539478297603, 171.20142609527593, 105.40619011662456, 70.76598905409976, 43.09500129550883, 36.94589290753073, 33.87133871168879, 28.747081723142934, 36.24695788211085, 20.47930189799606, 2345.3457072430283, 18.498567737720336, 18.45869674229031, 17.473716339691855, 16.448864940021508, 16.448864938911846, 40.53125451611099, 15.424013544056915, 15.424013542279514, 15.424013540223308, 15.424013539715938, 14.39916214235064, 791.1907861978632, 48.909627468963485, 13.374310744574727, 13.374310742615611, 12.34945934611604, 12.349459343026542, 12.340539799396772, 1099.7976218841095, 216.05318838980136, 6492.93612485098, 471.34103218176676, 46.77896432581142, 58.591833456536335, 327.31686386282394, 771.2401159017111, 340.4881480396588, 32.33530799015036, 245.01763470413104, 45.707310786861306, 42.12098416164271, 29.330976531072864, 164.89574665681303, 92.7715089986281, 190.15218744826382, 184.76105629999827, 722.8710769885463, 86.16392241717745, 283.8174767689122, 504.4469466636186, 126.60150206663653, 304.9487137630618, 746.3824224035017, 733.4541749140949, 147.48762653220209, 240.61313685150634, 154.99368899199544, 2181.6621368863375, 1102.2384536747154, 2373.056717981675, 171.45101062877293, 837.0023583837383, 734.9588229365525, 570.0984421920524, 630.6587266025667, 228.96147626346763, 328.2397301957416, 359.07884556816276, 541.4200201070155, 369.58010914946567, 330.25052307665953, 327.2118182521655, 381.76384225467507, 362.8459501355304, 1401.209681530909, 3433.6176463706324, 1348.3394966540463, 26.953121224747527, 18.981772987555075, 348.24111110008056, 14.91499346077842, 70.54456808760726, 12.00684327888359, 12.006843277748569, 11.01042475133772, 5655.9227887931675, 27.445378903823165, 10.014006220773018, 10.014006219575174, 10.014006218195616, 9.017587692460294, 9.017587690517347, 9.017568210133028, 9.017515274136834, 8.02116916139299, 8.02116916074914, 7.985003113939914, 16.731889785451365, 15.887350355852192, 7.0247506330592335, 7.02475063252735, 7.024750630723942, 7.0247506266018815, 14.908081662914213, 257.86996452407175, 6770.75227919623, 11.366023578366537, 2365.9064642338785, 108.84296698411445, 430.16139545821835, 61.82760718871629, 938.998665143294, 442.46468809058126, 184.1303731487118, 64.23213966804003, 46.99278267959312, 44.09209457332637, 33.09666897839461, 79.56356133401893, 48.86475086647573, 46.54755917590275, 51.00585351675303, 89.49431985777356, 38.71817258439761, 43.48208586400003, 66.35527225378402, 132.1886828826683, 56.68259527467009, 93.99401069914205, 115.06094343432068, 271.2369320990569, 168.2153029575781, 159.13361048999073, 285.5761469676312, 2264.7515157808793, 845.5889769932896, 1370.1973574286671, 1370.9715916833538, 326.52309382306055, 290.8325288676759, 653.0256873416481, 531.61834754342, 450.3380043591453, 235.83734109787758, 292.2390957223517, 337.3023274180442, 224.01573873234102, 182.65121315144, 257.0905369147985, 242.92697644716569, 221.89590803195438, 197.6897928611825, 4863.733989394433, 4187.006415269861, 375.10456580952, 143.13065531976815, 84.87683630057555, 68.52488710490397, 80.53401516655808, 62.392906153420824, 53.19493472923782, 784.1936661450117, 29.68900775803202, 28.6670109335572, 26.520443053337587, 22.535029501780542, 256.5809870110869, 23.31049642584468, 18.447042683763414, 64.97984845323882, 17.425045861184376, 17.425045859797503, 16.40304903546939, 16.403049035323352, 16.40304893038846, 83.01032038226057, 14.359055386937591, 14.359055134139886, 35.33212545345574, 13.298144871611301, 12.315061734469525, 101.08054867610718, 674.4907867298409, 1989.2886679057785, 710.9305986515969, 66.66639378712549, 253.26890055435834, 45.09835337170807, 166.58287104882115, 44.096481294904244, 66.98156050784578, 271.9570228625586, 929.9388173576353, 948.7086121460468, 149.08712313564806, 313.0468557696461, 426.16050946073454, 77.75868639643417, 429.91792088269193, 103.0997538851634, 1630.8742327518635, 387.6902425239678, 467.320970181114, 116.55846568434961, 182.31986270364212, 228.29275536914176, 958.2163625112202, 205.94012196268872, 324.1499367404572, 153.07979455840206, 154.86692277435688, 1347.3892715553613, 661.9491010251444, 542.3937064835881, 221.55536492721757, 440.6426493544308, 331.23483082985837, 379.3681902143022, 392.7011424565706, 517.5076532873011, 240.7024659129312, 280.2644369479942, 245.86702264194608, 8628.27492392513, 524.5161804805533, 34.74326610785524, 35.683038144058315, 126.75567601614885, 25.560023967069956, 25.403823001671384, 21.47858300936399, 483.8953204917513, 18.41750229339193, 14.336061342182989, 13.315701106331618, 427.3316045369093, 164.42932252372128, 11.27498062724801, 10.254620389554319, 162.0251735833037, 43.52470195962132, 9.234260154434885, 285.8090327841266, 7.193539676309749, 7.193539673294908, 7.193539656893853, 17.87835072813014, 18.804872744754295, 6.173179438072732, 63.58512736044586, 12.2953408717971, 24.090631918036372, 23.17308497608401, 1137.4366352772429, 75.00358005681831, 386.444759349667, 71.14492222369955, 360.2392788070156, 980.418285547395, 1111.7159839801654, 1352.5175461349543, 81.2722655489381, 172.66862628930392, 116.1608196064806, 1123.9410130468773, 55.728929944816684, 151.4241863012824, 163.20373850639487, 498.13940874983376, 2797.319597285241, 190.34734977423307, 1306.8656745723897, 1107.458670645666, 661.4960534898562, 127.54324236741535, 889.694436839976, 1137.2112942606898, 1051.6651829161417, 430.0989132521741, 1540.2755259136616, 359.84893622658007, 323.6896048986181, 267.7920301436607, 470.82988778548656, 598.204751747967, 554.2389711382652, 558.4160919957566, 299.67455442853577, 405.2817470429668, 573.1917508049221, 478.3806471385756, 372.04355886275005, 250.66758776657846, 269.81033814704216, 141.70321450053788, 83.25726537558134, 168.92934558298242, 50.56937492874564, 44.62586377226275, 35.71059687062922, 36.64907328217763, 34.61783436450769, 786.350481815484, 22.818456246682526, 15.89889263920168, 34.219367743631416, 26.673001032698117, 11.920218706770903, 14.455043356992757, 8.964796159075062, 8.964796158154387, 814.8306796591955, 35.80988648463007, 16.74526681159813, 232.16498130049203, 38.5712494280637, 6.983625739302621, 6.983625736426531, 6.983625730496086, 13.917722219881869, 10.401126828078318, 35.39748789690762, 393.7671940379425, 99.96296158311914, 40.96379128264286, 2414.308863387716, 959.4138021151747, 32.79409286683566, 438.3433404157072, 211.94876555690266, 804.5284654134525, 3479.238718056081, 221.04940086674722, 401.5659828395442, 762.4598615435332, 898.9951902465862, 457.701615143557, 160.20482346709673, 2801.2654298130165, 120.25513061948519, 72.0574474473125, 397.08129711542273, 4418.812433592691, 2324.1360862411043, 225.39013956990343, 268.10724309802987, 376.5894627967899, 329.84565073757904, 2472.1920860383266, 189.3536011050702, 907.1258621262782, 460.2608661485284, 765.2699927296186, 401.83642705222877, 293.80244246665586, 504.16792811528467, 558.374620699053, 404.5950492948247, 567.4560949022065, 315.6846047946817, 277.5408233538962, 309.1693684772263, 2696.8711072026686, 166.4041782287993, 10151.104009156139, 55.75278245941428, 164.9783477325569, 37.54999600542838, 157.16865905206774, 26.401776912838915, 21.334257352406894, 20.320045884063397, 40.25740493887362, 12.212722139426685, 9.172210396380237, 70.74076583292457, 74.48083819378317, 8.158706489625029, 15.237591244958653, 7.145202575652703, 7.139102357139611, 14.239729965810211, 6.131698665598763, 6.131698663441299, 130.08865851164134, 11.19921822953814, 17.133816437726374, 11.098029030147725, 5.118194756390625, 5.118194754548962, 5.118194753718959, 223.58829605903676, 64.91370399654033, 57.99346971226935, 71.52884063867157, 227.98165955024612, 5614.226506649624, 98.1445721049337, 760.8991425935463, 683.8105765216135, 35.95448204735945, 53.075478130347115, 733.3615455723265, 86.4855749669261, 288.3542634515937, 212.36800669896147, 473.99512021658114, 593.8633920884402, 655.3130281251778, 186.02210087002263, 1745.395550033061, 558.5940619547289, 1700.063916994718, 280.9290076713407, 486.1654752603578, 284.380473860192, 138.19241999132842, 279.63450042131456, 154.13733736448606, 212.39133872102167, 514.5039639301444, 903.1563473069514, 668.0562099729126, 206.54101732948942, 256.72447686976335, 188.65088459890262, 207.61143427919382, 11040.288280264396, 481.1605074955275, 55.232801632460436, 53.22616033691678, 42.18963321775409, 40.18299192526028, 60.530909643429176, 32.15642674387139, 219.36152237839585, 19.11325832807483, 2447.4460853702963, 14.096655087491378, 13.093334444894575, 15.856497202682219, 88.56308869165434, 12.090013794859406, 12.090013793456539, 107.44639520188929, 9.080051855745326, 8.048861443672116, 9.793844695945976, 18.703447028692384, 7.07341056092013, 7.073410554889427, 7.073410550018726, 7.058022414189441, 1374.497332087657, 6.070089913931064, 6.070089912402519, 6.070089911696579, 6038.137665785595, 13.721393593053753, 230.1452741218393, 126.67518169260995, 111.39790367515417, 386.7880594219538, 27.918145947583277, 45.9936441493756, 49.2617381102999, 177.88143705222316, 462.6142531718398, 1905.0252606377621, 62.85649482635004, 33.138430882831976, 55.096186420896615, 73.16193462367646, 552.2208938692058, 99.72511076703901, 87.0626697560156, 109.40648936132492, 275.69940442948996, 139.98131251864476, 210.80206215857748, 2024.004705826799, 838.1970296617368, 221.69361429534024, 423.4956907346232, 844.3251081482613, 156.14486065386197, 119.1701393929529, 218.9545860941503, 151.9154078870273, 173.45754966076348, 222.42533467675023, 219.5422686575792, 313.5492811026327, 200.25810449151624, 247.95005235205736, 179.41012048218633, 163.46248446401367, 169.231590023327], \"Total\": [48017.0, 64737.0, 11042.0, 10273.0, 10990.0, 27728.0, 9763.0, 10098.0, 8632.0, 9664.0, 8046.0, 24327.0, 7656.0, 7603.0, 7407.0, 8113.0, 7454.0, 11124.0, 13478.0, 7761.0, 6145.0, 8136.0, 4864.0, 6609.0, 7016.0, 7767.0, 11863.0, 6842.0, 8731.0, 11831.0, 224.19948005409677, 136.09277245090752, 61.69128895332425, 47.98549880210015, 43.09065026602178, 43.09065044844461, 47.008836698307164, 37.216832022821634, 124.46499473264748, 34.279922901151465, 33.30095319395628, 32.321983486730815, 31.343013779489056, 34.279863416382554, 32.32367291643622, 27.427134950665977, 26.44816524346485, 26.44815145191297, 36.24085301168072, 23.511256121867188, 100.97472064269056, 20.574347000232827, 64.73015097124305, 22.534391909640593, 19.595387516584132, 22.539993837339907, 18.61640758578872, 18.616407585861428, 24.493872411144597, 17.637437878596575, 62.78339098979993, 3716.695616745745, 334.8151345564299, 95.02713366909859, 126.36978387536529, 89.28087962960772, 73.71225429843639, 368.0157573414926, 367.84985517467356, 206.82715730409538, 766.5128080614103, 753.0158644694123, 7667.887568642288, 443.8148932621357, 643.1826661678923, 569.3802010221997, 540.8922958807639, 291.56037385749323, 186.3973158268983, 153.4445879348078, 10459.054913751732, 176.74500205970216, 23995.819694442154, 46258.488969007376, 1430.377966433838, 1933.5523550203425, 312.52260075883095, 3130.16452589162, 458.1806684383349, 11831.728362555916, 583.9577850630561, 8498.802741222076, 7507.607496824643, 3304.327117827064, 5339.573219029338, 1622.2862669052595, 6518.29724779728, 1912.348084405449, 5750.673890383229, 1675.4808673229236, 6756.261303133394, 27728.976851151358, 4555.258638560068, 7016.519604986372, 2588.4254885278024, 4980.215532679213, 64737.496911301954, 7767.262033222407, 7407.430838572025, 8104.795300005728, 8731.363220366045, 6959.046933200555, 11124.407577705668, 6609.732211717596, 6088.903147164807, 21.004117312237977, 13.381578471826076, 12.428761116946626, 8.617491696501775, 8.617491696514229, 8.617491696690132, 16.289588794264535, 7.664674341490258, 7.664674341469062, 7.664674341530259, 7.664674341596603, 7.664674341681312, 6.711856986514795, 30.6992889367454, 8.625193040632373, 5.759039631277321, 5.759039631390195, 5.759039631455445, 5.75903963167858, 5.759039631513067, 18.169968129004058, 11.556288091392267, 4.80622227627367, 4.806222276338368, 4.806222276384617, 4.806222276364173, 4.806222276447575, 4.806222276428304, 4.806222276362827, 4.806222276355894, 59.70931670303264, 82.49866290599735, 64737.496911301954, 15.330422480354981, 9.640658873181597, 22.198925747339082, 10.634155391176527, 30.113627826243224, 31.76432881355408, 82.66050705302688, 6756.261303133394, 277.8469762026534, 9027.11470179747, 489.90036992604564, 28.020251959708336, 68.9983096884312, 543.2245286760623, 1366.484657971423, 574.9326655626003, 35.69705441144488, 46258.488969007376, 1823.0044678480133, 6088.903147164807, 232.17064993151496, 27728.976851151358, 1210.4806709555626, 7388.954197510124, 23995.819694442154, 6959.046933200555, 5339.573219029338, 7507.607496824643, 11863.944769602165, 1299.0342610181747, 8694.323792987474, 155.47417134115585, 619.2818517518671, 3296.154820574207, 4555.258638560068, 8498.802741222076, 24327.832072408863, 5256.043972529215, 3304.327117827064, 5750.673890383229, 6518.29724779728, 8104.795300005728, 7667.887568642288, 3585.345329999098, 10459.054913751732, 10159.688580702239, 11124.407577705668, 966.7509418523418, 171.42248032602257, 168.53387816552802, 210.9181165603696, 268.72208293989365, 130.98205007894785, 59.73264359240191, 43.361387832490756, 112.71542666251369, 50.10561040269194, 54.932492666665226, 37.58392410454853, 29.88097446122136, 62.638841401066905, 26.99237230063871, 86.7539879180862, 32.77530091630952, 22.178035366636475, 19.28943320602662, 55.018429223862846, 18.326565819206557, 38.601002212711, 17.363698432351494, 15.437963658642252, 14.47509627180548, 13.512228885005001, 13.512229379953654, 482.9855414784167, 12.54936149810614, 62.68317626019452, 650.7055265110452, 6609.732211717596, 81.32420110469766, 407.9679735828701, 1031.8101844348587, 7767.262033222407, 821.7927957912603, 542.8489031028462, 155.92939688553852, 514.0114009785948, 1737.4778252018793, 125.10500829792866, 125.90803975491117, 594.6915008093928, 24327.832072408863, 289.26400067573564, 1748.494565468411, 166.8451701861496, 499.7465927987031, 5192.413428192101, 5619.314247080266, 575.6628291644461, 2522.368603047197, 1417.5799088027056, 1407.764791879383, 6088.903147164807, 10159.688580702239, 2918.5466182523596, 7686.213652633187, 3585.345329999098, 9027.11470179747, 46258.488969007376, 8731.363220366045, 8694.323792987474, 2871.9869703511354, 23995.819694442154, 2588.4254885278024, 34.884396125259215, 26.412035308238416, 165.19247032893492, 13.232807370149658, 12.291433946119543, 12.291433946208976, 25.584138520849002, 9.467313673655791, 9.467313673719982, 8.525940249880719, 8.52631392965983, 31.226286908925, 16.114560418728356, 7.58456682506278, 7.584566825055854, 7.584566825293429, 6.643193401032015, 6.643193401115826, 6.643193401132789, 6.643193401292313, 14.21711849346554, 13.294104611079145, 48017.30177319013, 12.329953229864573, 5.701819976854885, 5.7018199768977444, 5.701819976945453, 5.701819977023773, 5.701819977072765, 5.70181997711118, 10.44036120083379, 14.273165742985151, 58.457304972192276, 106.55283518571875, 13.358524324458472, 1216.2217272285197, 3296.154820574207, 1407.764791879383, 573.6876868594579, 79.23157234527055, 25.980939936875508, 113.59621938768838, 659.9107297378365, 82.76359483287632, 708.1604046824788, 276.95534542118696, 11124.407577705668, 46258.488969007376, 86.56030309204485, 813.6787181674854, 23995.819694442154, 10459.054913751732, 7686.213652633187, 86.12398583805867, 66.4862642367136, 5256.043972529215, 4980.215532679213, 175.52904349796313, 1366.484657971423, 7667.887568642288, 6088.903147164807, 7388.954197510124, 2673.0684706123975, 5750.673890383229, 5192.413428192101, 1470.283320770892, 3082.0283173274233, 814.8615907594824, 1723.2237561036004, 1658.4746286288964, 9027.11470179747, 2301.8832258224106, 8694.323792987474, 8104.795300005728, 4555.258638560068, 11831.728362555916, 630.9896481545986, 300.94585005510345, 829.2352967628818, 40.79432356259531, 38.85287824517365, 36.911445500034795, 136.07280858470452, 22.35070523898437, 9664.018302440561, 180.33665073921358, 14.584977101441769, 35.04439440557415, 13.614261082408031, 13.614261082393012, 12.64354506496396, 10.702113030128691, 9.731397012717666, 9.731397012815064, 9.731397018967764, 9.731756010808544, 19.405871182887402, 41.89140479857937, 10.712214578686508, 46.73532392825746, 8.760680995370507, 110.33306027440143, 7.7899649854969155, 97.47024097428164, 6.819248960506637, 6.819248960507259, 62.00503687033173, 30.15756910405999, 2398.3895538678894, 7016.519604986372, 734.5100217142133, 760.5496247881143, 54.880886332699276, 37.09213272728443, 431.12280800480374, 9524.204214431007, 1249.3685430619273, 520.8774639965253, 172.24899425379968, 8694.323792987474, 106.13683147376734, 917.0099770118603, 742.6992255251638, 2393.610743709306, 395.23472185730407, 127.50239642182699, 5619.314247080266, 343.7422340108617, 919.9205525214161, 583.8585836936251, 206.79886122463313, 1184.5172380975341, 8731.363220366045, 2520.0027951801267, 7454.894727534689, 2300.255408100274, 13478.472532357271, 1833.0294240149206, 46258.488969007376, 7686.213652633187, 5192.413428192101, 24327.832072408863, 2797.7532877327726, 8104.795300005728, 6088.903147164807, 10459.054913751732, 9027.11470179747, 1144.033843187771, 599.5968979665623, 235.56392243159354, 75.19258208330392, 67.17121676140655, 64.16320476570834, 58.147180774290746, 41.10193781818126, 36.088427226533426, 42.114092286005466, 2320.5242494854533, 23.057275985009838, 19.043024829952703, 72.19622426130776, 16.03498549762512, 15.03234216927764, 13.027000838784353, 13.02700083875136, 12.024330173496786, 12.024619827263411, 27.00471318280752, 10.018988842963275, 10.018988492923336, 12.008483642464551, 9.016318177718412, 9.01631817792228, 9.016221341179264, 9.014991211366215, 781.2616332674814, 8.013647512665106, 692.2926340846603, 261.0307812669144, 72.12866053071323, 1026.5177086673255, 181.1035370208975, 1608.6442360737153, 201.67840271379242, 385.1541706907475, 576.8201824025654, 1857.2543430050646, 4510.5501351938765, 2173.315010887645, 27728.976851151358, 415.5671536656376, 64.12571621944386, 6661.798129763553, 256.0564268321119, 2522.368603047197, 188.46346715777324, 1652.294063003392, 64737.496911301954, 7388.954197510124, 2567.1544248881114, 46258.488969007376, 5750.673890383229, 7507.607496824643, 817.6988288344028, 8104.795300005728, 8498.802741222076, 48017.30177319013, 23995.819694442154, 4555.258638560068, 13478.472532357271, 1717.3850456179384, 9027.11470179747, 7686.213652633187, 2468.3987965625743, 55.140211241790894, 330.80944667154887, 46.971562358454484, 61.254078878842975, 84.76157269290718, 45.94565385752953, 40.841073449429786, 37.77624045794531, 35.73283559111958, 34.711133189868306, 37.76322939572424, 32.66589905190903, 28.58091855740387, 27.559216124007428, 360.30256156410604, 282.0232268617726, 17.34219179012661, 16.32047853589101, 15.298786923425029, 15.298786908920109, 15.298298093293488, 61.290314726045665, 14.277084490000107, 14.27708448986994, 20.39956061169528, 26.508834704343837, 22.45673914207161, 113.18263442252139, 12.233679623182692, 1236.7726237770933, 1066.2139440093902, 165.1594306983486, 134.17499798249446, 5565.541099337186, 102.04438526411425, 89.37484141062671, 50.84250201488183, 49.057303820121845, 8731.363220366045, 180.83857707784068, 130.86839239125956, 919.9205525214161, 112.94776990076674, 144.44435688648335, 238.8912417885746, 73.97031387736912, 528.0597028416371, 939.8002152411707, 24327.832072408863, 272.43326083159303, 2300.255408100274, 546.0678793908642, 160.79134296392522, 548.5165430928013, 1330.9228882176424, 1912.4346239825309, 7761.622219509888, 64737.496911301954, 2871.9869703511354, 5339.573219029338, 9027.11470179747, 1845.8692404148123, 1403.4411778628946, 10159.688580702239, 7388.954197510124, 6088.903147164807, 1707.744731653975, 6842.8216867164865, 27728.976851151358, 9524.204214431007, 5750.673890383229, 8104.795300005728, 5619.314247080266, 2363.6400372046623, 827.511947348216, 10990.108478394977, 246.7695618584637, 3157.797129164491, 89.19772655863875, 276.4795048641014, 58.47541212289672, 42.61700509876731, 365.0165335491729, 27.753097687130246, 238.8402741644815, 18.833716076791745, 64.42688637764522, 53.54321700177008, 7603.293502189803, 14.869546472203869, 13.878504070963741, 135.05752306252327, 17.84836787472545, 110.99693742407129, 201.1768117414336, 152.68611874008462, 8.923292065178208, 8.92329206514972, 50.488863157798555, 9.909920035421008, 7.932249664116513, 7.932249664089637, 7.9322496639807065, 2952.35942638206, 242.5342341966824, 38.42879479986147, 449.41257375229725, 18.81474757827453, 129.23454388084457, 104.65909257144725, 875.7109132853753, 211.05366844281676, 250.69247417914465, 155.22868570529434, 3585.345329999098, 543.2245286760623, 262.61674371162195, 10159.688580702239, 939.8002152411707, 677.8714809015488, 7388.954197510124, 257.6886020806762, 411.1114783166924, 1408.2395979454973, 64737.496911301954, 741.081616389313, 24327.832072408863, 4555.258638560068, 46258.488969007376, 4510.5501351938765, 23995.819694442154, 7686.213652633187, 48017.30177319013, 5256.043972529215, 3821.2968967984934, 2673.0684706123975, 2243.753877052398, 13478.472532357271, 1005.993810920162, 8046.044487216583, 278.27277352998567, 362.65553536679323, 53.56435380150655, 43.25662812576991, 38.102764940911804, 25.733038654076292, 21.61040420715501, 21.60989893350349, 20.57960525887228, 19.548859072057777, 19.548859071918297, 17.487313936961286, 17.487313936900378, 17.487313936771834, 16.456235921881085, 17.483871526476097, 23.66751656528142, 14.394996234061013, 14.394894237116237, 14.394755412777393, 13.364223666647046, 13.364223666586334, 26.719860186314683, 13.361495721292862, 12.33345109914137, 12.333451099106199, 11.302678531563405, 11.302678531503199, 216.5837459467126, 143.37146416512732, 189.42930011505277, 127.394801861284, 626.8836499397179, 75.72975672642015, 234.59646414105453, 23.66085742120684, 248.31106405491096, 38.873721645654086, 11831.728362555916, 124.97853411422763, 83.70784863929089, 49.22809899086672, 153.88886150618157, 83.20990360693938, 40.11445612271197, 151.01160290152268, 6756.261303133394, 99.25966225137934, 130.30898848410868, 6959.046933200555, 266.1635154396099, 129.7250198755224, 1370.1396975057037, 163.18418850240113, 1339.6619294056152, 4980.215532679213, 64737.496911301954, 3217.554591566647, 414.17018351633254, 6088.903147164807, 7507.607496824643, 555.8469200355785, 433.0545892670482, 2636.0293228140954, 5750.673890383229, 2876.7059991270776, 1883.0357728587014, 10159.688580702239, 595.2135910388063, 5256.043972529215, 3130.16452589162, 5619.314247080266, 10459.054913751732, 8498.802741222076, 46258.488969007376, 23995.819694442154, 2673.0684706123975, 6842.8216867164865, 5339.573219029338, 9763.940326539865, 692.787696466799, 38.0394022939322, 34.03467165510589, 39.03710021003438, 27.026187596169144, 27.026187596134772, 26.024986260044198, 353.6274325645116, 24.02258358769455, 49.02929692845469, 20.017778243062587, 19.01632578794812, 18.015375570648505, 16.01297289839291, 15.011771562244492, 15.011750078270516, 355.40750024670535, 13.009368889879992, 12.00816758247851, 64.97388654420483, 36.07560968598933, 52.99157932710151, 48.13044773073322, 10.005764881462273, 10.005764881385058, 20.993747350530747, 20.99204062024392, 9.004563545229647, 37.09544084262703, 78.10581656456182, 113.51233023874029, 386.78025234405334, 11124.407577705668, 153.95767560387043, 739.5531303031075, 426.3019980597131, 217.20639476089343, 40.99573244191333, 624.5608227729184, 55.879086506085514, 1874.3499499188756, 127.96648799310154, 460.25450191092915, 122.93490995309301, 955.1129193738609, 3296.154820574207, 119.13235503076447, 605.5911591591303, 654.4003727209107, 2797.7532877327726, 749.2952664324447, 441.06784426062603, 881.0956675677293, 2673.0684706123975, 13478.472532357271, 10159.688580702239, 7507.607496824643, 11831.728362555916, 1697.5561661208728, 7686.213652633187, 1018.9387068053192, 46258.488969007376, 64737.496911301954, 8498.802741222076, 7761.622219509888, 6145.585915865118, 7603.293502189803, 6959.046933200555, 3231.9892928900695, 6661.798129763553, 7388.954197510124, 23995.819694442154, 2034.0471040586535, 3399.312565318688, 1274.4663284588505, 4236.360640861972, 161.78460219045974, 135.15073389578754, 165.73500802999808, 182.5411892097661, 62.15420597710685, 72.04160127629841, 27.628821150699526, 3042.2658583333696, 17.76442548577855, 37.529514131480106, 14.805111158641738, 37.54829063118527, 47.45152734602201, 42.527341526942465, 11.8457880871777, 11.845788087168996, 10.85934849383341, 9.87284534232244, 9.872802097062145, 33.66027571963029, 8.886469387780307, 8.886469387850024, 16.761028011598206, 7.900029821259823, 6.9135902548657615, 6.913590254829303, 945.5255240391912, 557.4384696019696, 395.6955404346822, 620.4342563060362, 2876.7059991270776, 8136.926201305723, 123.10369238197462, 369.34996292452416, 710.2683428981117, 6661.798129763553, 2388.945828513767, 192.275842710006, 348.8106536949073, 94.04148715551531, 2154.9359272024817, 447.88661208009245, 6842.8216867164865, 754.364745078267, 622.3050203000407, 1723.2237561036004, 24327.832072408863, 46258.488969007376, 1608.6442360737153, 11863.944769602165, 3821.2968967984934, 64737.496911301954, 3304.327117827064, 7667.887568642288, 940.4370987512793, 7686.213652633187, 2522.368603047197, 48017.30177319013, 4510.5501351938765, 13478.472532357271, 547.7750837908201, 138.1927960508663, 83.30594030860648, 65.66787156874491, 473.42537024677955, 109.8258360410105, 34.31130505920631, 30.39173408909679, 152.18091999764684, 63.77307684244606, 17.653128888126254, 16.67323618037498, 16.67323618041143, 7656.9745433698745, 11.77377264151402, 10.793901392807816, 28.51283334500735, 8.834094518187074, 59.96120885242904, 7.854201810433893, 7.8542023821556715, 7.854184744926529, 4445.495788976513, 11.791849850528955, 32.459735911548115, 45.23276472444445, 6.874309102653805, 6.874309102672963, 6.874309102666426, 14.731597438226286, 62.89310662611556, 207.2976211514224, 185.4231857585243, 128.26431064514713, 75.98163450549484, 1359.246571470056, 6842.8216867164865, 212.61254979826975, 215.7978048757975, 13478.472532357271, 164.34820814352227, 940.4370987512793, 796.3629102478313, 49.10114847140316, 137.49032529738645, 183.09149856022762, 1129.7023901977157, 3217.554591566647, 463.5474380350593, 376.3197833019662, 23995.819694442154, 46258.488969007376, 8136.926201305723, 236.290121531365, 7667.887568642288, 5750.673890383229, 7686.213652633187, 8104.795300005728, 555.078288005979, 7388.954197510124, 8694.323792987474, 10459.054913751732, 11863.944769602165, 9027.11470179747, 2388.945828513767, 5619.314247080266, 1883.0357728587014, 8498.802741222076, 2871.9869703511354, 6959.046933200555, 3821.2968967984934, 1947.5154969141881, 638.7820457218791, 451.3719441663103, 377.82044446687223, 123.91663728509934, 69.50867860330473, 60.44068548975115, 168.25616641007667, 379.79736847420975, 58.424094437442754, 48.350028004927424, 40.28958717811184, 41.29593311548886, 35.25115068122582, 52.336607577939944, 10098.26130261853, 29.199365685366896, 17.117293103113585, 67.39990411384822, 670.1900544868996, 16.095094213293805, 38.30230443452929, 29.181465436701416, 10.062945969657255, 10.062945969622211, 10.06294596958403, 10.062945969481163, 82.52765993518926, 9.055391179166666, 9.055391179158509, 20.11735401651915, 20.13242081065104, 54.25032065928768, 1162.2899129402742, 114.8418534862982, 104.99446056487166, 334.09879348897687, 48.32289246181066, 1039.1410546317102, 246.4946265034508, 184.8471994848496, 99.95412623014174, 644.3946000259359, 102.14878489408797, 1076.6077550831026, 216.46201874540154, 509.8958973676917, 279.0129500544498, 10159.688580702239, 371.0144945983438, 11863.944769602165, 698.4802154710978, 1611.8443856736908, 1366.3987210503306, 3217.554591566647, 1883.0357728587014, 266.9093995900853, 1430.377966433838, 8104.795300005728, 6959.046933200555, 23995.819694442154, 3821.2968967984934, 1184.6785382063092, 27728.976851151358, 5339.573219029338, 7507.607496824643, 1845.8692404148123, 48017.30177319013, 9027.11470179747, 3231.9892928900695, 8136.926201305723, 326.89769577609275, 172.14513638545776, 106.55400874202141, 71.70969934414028, 44.03871158779005, 37.88960319754807, 34.81504900241841, 29.69079201062835, 37.89334448250226, 21.48939585197967, 2464.213725927677, 19.44227802676712, 19.4413579406203, 18.4174266284078, 17.39257522996829, 17.392575229925086, 43.00957382166965, 16.36772383167491, 16.367723831639843, 16.367723831491684, 16.367723831473384, 15.342872433199295, 844.4287563277023, 52.23088171029716, 14.31802103478667, 14.318021034701944, 13.293169636456014, 13.293169636340396, 13.292922177814752, 1186.037347941922, 237.37952108071116, 7407.430838572025, 534.7011191775665, 51.099929676583045, 64.52037592158541, 393.7075140189073, 972.6610982732695, 412.26233792656154, 35.725442999268346, 315.0479058790226, 52.18899495912269, 48.10021011780028, 32.7048063371086, 223.37788831637283, 118.43213677710787, 276.78332113484583, 267.87631883533925, 1315.5082106528766, 113.81593430163045, 488.66666298020647, 1024.6900080979385, 183.85055472108886, 560.6178672580132, 1912.348084405449, 1920.4540832853916, 236.40727847181404, 460.3142602872972, 302.95102570144843, 23995.819694442154, 9524.204214431007, 46258.488969007376, 376.41580184336385, 8136.926201305723, 8498.802741222076, 9027.11470179747, 11831.728362555916, 857.5065418173642, 2636.0293228140954, 4239.119348778217, 24327.832072408863, 5339.573219029338, 7507.607496824643, 7686.213652633187, 64737.496911301954, 48017.30177319013, 1402.9654159173924, 3451.4324924719112, 1370.4667764231906, 27.89825316035428, 19.926904921965505, 366.9649819961979, 15.937681801156081, 75.77369252850839, 12.95197521347312, 12.95197521347713, 11.955556683721746, 6145.585915865118, 29.942826472560398, 10.959138153915912, 10.959138153934326, 10.95913815388491, 9.96271962415458, 9.962719624123997, 9.962719510127178, 9.96271562363882, 8.96630109432381, 8.966301094325921, 8.964303175047291, 18.92314825249118, 17.97204779869198, 7.969882564597641, 7.969882564570059, 7.969882564445889, 7.96988256452203, 16.926788891829965, 297.4451232932952, 8113.967010340614, 12.941347076807677, 2944.2433302967406, 128.0417772425389, 563.4436669637059, 75.0368677748767, 1297.5276845226954, 607.2828045267308, 245.2495339977387, 80.57323592131273, 61.109725617257894, 57.34641198622952, 41.81726593730155, 117.57495876518074, 67.27854207036069, 64.55154330366481, 72.32231602610022, 155.47417134115585, 55.05050893291743, 63.83420447230507, 110.4480220843997, 288.63508768404995, 92.70842027083422, 190.53983302696406, 259.24596149889777, 955.1739091020634, 545.7490875215844, 505.6481287595487, 1379.6150927669098, 46258.488969007376, 9524.204214431007, 23995.819694442154, 27728.976851151358, 2406.4992607317245, 2074.7345595529996, 11863.944769602165, 7667.887568642288, 6959.046933200555, 1707.744731653975, 3231.9892928900695, 5339.573219029338, 1723.2237561036004, 1015.6050400103607, 5256.043972529215, 6756.261303133394, 4555.258638560068, 2871.9869703511354, 4864.677842413953, 4192.150217862771, 376.0679538938151, 144.07450833776383, 85.82068932010858, 69.46874012226574, 81.72486956780403, 63.33675917291745, 54.138787749098235, 802.6607301519311, 30.632860777110373, 29.61086395223084, 27.566716152644954, 23.47888299903334, 269.40871821530936, 24.490500645137807, 19.390895703484027, 68.45368982766047, 18.36889887873865, 18.368898878713487, 17.34690205376993, 17.346902053878665, 17.34690205381846, 87.86355652717099, 15.302908404159009, 15.302908398915578, 37.786403340011574, 14.280119767360747, 13.25891475431678, 109.07780523415445, 734.0456613423836, 2243.753877052398, 836.063954979027, 74.63856158014006, 304.6057460076296, 50.04438124051528, 198.4565610309657, 49.02241664316627, 76.56901813091164, 341.89006434642687, 1403.4411778628946, 1451.0078652236514, 188.63930082274445, 442.9829867356786, 629.3653717019033, 92.36510261171303, 650.2675324502788, 127.83856894841196, 3821.2968967984934, 677.8714809015488, 1061.1758410632622, 159.20292372945568, 318.70775223638304, 496.1230024907664, 5565.541099337186, 459.7616057420702, 1190.217549614975, 285.1939936329951, 310.96082024515607, 46258.488969007376, 9027.11470179747, 11863.944769602165, 889.4021109196758, 10459.054913751732, 4555.258638560068, 9524.204214431007, 13478.472532357271, 64737.496911301954, 1470.283320770892, 23995.819694442154, 7656.9745433698745, 8632.065785699253, 525.4601153277455, 35.68720095710771, 36.706164069776975, 130.53079395734733, 26.503958812792852, 26.500601986175372, 22.422517859543127, 506.452034128549, 19.36143714481044, 15.2799961916096, 14.259635953466994, 457.91582389886224, 177.02365368275815, 12.218915476817898, 11.198555238548533, 177.4648427742537, 47.85174472467604, 10.178195000403633, 315.0429210181943, 8.137474523861064, 8.137474523627386, 8.137474523649328, 20.261074461273886, 21.354652196227374, 7.117114285605376, 73.40262607532046, 14.260978148521122, 28.45035704816584, 27.413354328869794, 1379.5175219060025, 90.7206130018909, 483.82427296832986, 88.21883769491919, 488.06640121393036, 1431.0045325649962, 1739.115528102435, 2218.3264167369207, 107.71501082841671, 258.4254396943469, 169.3438723236669, 2520.0027951801267, 76.3058027653359, 254.87191929371755, 295.67956882150395, 1210.4806709555626, 11863.944769602165, 372.9758689989223, 4980.215532679213, 5192.413428192101, 2588.4254885278024, 237.59574855747397, 5619.314247080266, 8694.323792987474, 10459.054913751732, 2393.610743709306, 27728.976851151358, 1748.494565468411, 1470.283320770892, 988.9202851231234, 4239.119348778217, 9027.11470179747, 7388.954197510124, 8498.802741222076, 1658.4746286288964, 6088.903147164807, 64737.496911301954, 23995.819694442154, 11831.728362555916, 251.61301136577035, 271.43393134730377, 142.64863810061266, 84.20415570279923, 171.33703941896025, 51.51479864714321, 45.5712873735903, 36.65602047003289, 37.64817196869802, 35.66779928617152, 813.6832866389693, 23.777858628294027, 16.844316240076214, 36.659325343962216, 28.737892471442755, 12.88249331878508, 15.85018275573563, 9.910219759528978, 9.91021975956829, 901.611634154698, 39.71886245514269, 18.861133981734437, 262.6916367650564, 43.717762274371765, 7.929049336531674, 7.929049336518537, 7.929049336554313, 15.876649729382306, 11.870617179533127, 40.66481576557061, 473.1463552312463, 117.98397317586277, 47.78139545560517, 3082.0283173274233, 1287.9778598620564, 38.69149336808425, 598.8952466765624, 288.57316616234914, 1271.950853802811, 6518.29724779728, 323.52459401344015, 634.3860677084142, 1326.9583282958245, 1717.3850456179384, 854.4216482759683, 242.69876395708505, 8104.795300005728, 175.83646087101977, 94.77892091815968, 881.0956675677293, 27728.976851151358, 11863.944769602165, 514.3420314908309, 670.9846181706332, 1190.217549614975, 996.9443148704867, 48017.30177319013, 413.921868381039, 11124.407577705668, 2636.0293228140954, 8498.802741222076, 2301.8832258224106, 1061.1758410632622, 9524.204214431007, 23995.819694442154, 5256.043972529215, 64737.496911301954, 24327.832072408863, 8113.967010340614, 310.113646140738, 2717.773802197486, 168.17072658501573, 10273.851324586627, 56.73679028773657, 169.1257182585519, 38.494586549358324, 162.21072567372255, 27.346054578523997, 22.27853501654623, 21.26499575340536, 42.52059922675768, 13.156999804770352, 10.116488067464774, 78.07453690601442, 82.91546900756056, 9.102984155137937, 17.137771688934464, 8.089480242722976, 8.089175464500306, 16.214780196958138, 7.075976330392285, 7.075976330204896, 151.01623183963108, 13.17426845981815, 20.229689441497996, 13.138208601308994, 6.062472418083759, 6.062472417991462, 6.062472418020673, 268.0836239711341, 76.92255757273759, 68.85396713596865, 85.7338472312084, 281.82876103899525, 7761.622219509888, 122.39396631846353, 1018.9387068053192, 914.7092217056378, 43.49788831881876, 66.58785704173651, 1106.2520586253336, 113.16984914817104, 423.5713855078805, 326.24892355301813, 1015.6050400103607, 1408.2395979454973, 1614.8275632864174, 369.72300203715395, 7686.213652633187, 2173.315010887645, 13478.472532357271, 903.6669342008762, 2301.8832258224106, 968.0915519134392, 288.76643562524475, 1366.484657971423, 446.0951649923981, 988.6694839420129, 10159.688580702239, 48017.30177319013, 24327.832072408863, 1833.0294240149206, 46258.488969007376, 1484.939717763294, 8136.926201305723, 11042.562619131832, 482.5645225810039, 56.17758846127981, 54.17094716647805, 43.13442004545118, 41.127778750791926, 62.162558929885996, 33.101213571778615, 229.57650454988587, 20.058045155986864, 2573.604945509006, 15.041441919025399, 14.038121271807292, 17.03284528982, 95.46576646816358, 13.034800624355265, 13.034800624324328, 118.31416359975736, 10.024838682275291, 9.020841626074922, 11.026167588427912, 21.086159167815765, 8.018197387582582, 8.018197387448991, 8.018197387474498, 8.017422807766863, 1563.7548404887248, 7.014876740198015, 7.014876740114375, 7.014876740111446, 7454.894727534689, 16.06817529673213, 290.1077877579925, 163.07704465029073, 145.16618010834253, 549.1096024110939, 34.157734171222536, 59.435218572269875, 65.10427864775653, 267.65464822151347, 784.9787994457288, 4239.119348778217, 90.70255405517815, 43.07556340740726, 81.14380074903298, 118.38394274746227, 1752.6220215569729, 189.72784342974415, 158.38266306167662, 229.6451135887844, 1154.5764768861577, 386.4413977320636, 817.6988288344028, 46258.488969007376, 13478.472532357271, 1315.5082106528766, 5256.043972529215, 24327.832072408863, 654.29413100129, 374.4634093908053, 2388.945828513767, 1126.2980994227137, 1883.0357728587014, 7767.262033222407, 8498.802741222076, 64737.496911301954, 8136.926201305723, 48017.30177319013, 4555.258638560068, 7507.607496824643, 27728.976851151358], \"Category\": [\"Default\", \"Default\", \"Default\", \"Default\", \"Default\", \"Default\", \"Default\", \"Default\", \"Default\", \"Default\", \"Default\", \"Default\", \"Default\", \"Default\", \"Default\", \"Default\", \"Default\", \"Default\", \"Default\", \"Default\", \"Default\", \"Default\", \"Default\", \"Default\", \"Default\", \"Default\", \"Default\", \"Default\", \"Default\", \"Default\", \"Topic1\", \"Topic1\", \"Topic1\", \"Topic1\", \"Topic1\", \"Topic1\", \"Topic1\", \"Topic1\", \"Topic1\", \"Topic1\", \"Topic1\", \"Topic1\", \"Topic1\", \"Topic1\", \"Topic1\", \"Topic1\", \"Topic1\", \"Topic1\", \"Topic1\", \"Topic1\", \"Topic1\", \"Topic1\", \"Topic1\", \"Topic1\", \"Topic1\", \"Topic1\", \"Topic1\", \"Topic1\", \"Topic1\", \"Topic1\", \"Topic1\", \"Topic1\", \"Topic1\", \"Topic1\", \"Topic1\", \"Topic1\", \"Topic1\", \"Topic1\", \"Topic1\", \"Topic1\", \"Topic1\", \"Topic1\", \"Topic1\", \"Topic1\", \"Topic1\", \"Topic1\", \"Topic1\", \"Topic1\", \"Topic1\", \"Topic1\", \"Topic1\", \"Topic1\", \"Topic1\", \"Topic1\", \"Topic1\", \"Topic1\", \"Topic1\", \"Topic1\", \"Topic1\", \"Topic1\", \"Topic1\", \"Topic1\", \"Topic1\", \"Topic1\", \"Topic1\", \"Topic1\", \"Topic1\", \"Topic1\", \"Topic1\", \"Topic1\", \"Topic1\", \"Topic1\", \"Topic1\", \"Topic1\", \"Topic1\", \"Topic1\", \"Topic1\", \"Topic1\", \"Topic1\", \"Topic1\", \"Topic1\", \"Topic1\", \"Topic1\", \"Topic1\", \"Topic1\", \"Topic2\", \"Topic2\", \"Topic2\", \"Topic2\", \"Topic2\", \"Topic2\", \"Topic2\", \"Topic2\", \"Topic2\", \"Topic2\", \"Topic2\", \"Topic2\", \"Topic2\", \"Topic2\", \"Topic2\", \"Topic2\", \"Topic2\", \"Topic2\", \"Topic2\", \"Topic2\", \"Topic2\", \"Topic2\", \"Topic2\", \"Topic2\", \"Topic2\", \"Topic2\", \"Topic2\", \"Topic2\", \"Topic2\", \"Topic2\", \"Topic2\", \"Topic2\", \"Topic2\", \"Topic2\", \"Topic2\", \"Topic2\", \"Topic2\", \"Topic2\", \"Topic2\", \"Topic2\", \"Topic2\", \"Topic2\", \"Topic2\", \"Topic2\", \"Topic2\", \"Topic2\", \"Topic2\", \"Topic2\", \"Topic2\", \"Topic2\", \"Topic2\", \"Topic2\", \"Topic2\", \"Topic2\", \"Topic2\", \"Topic2\", \"Topic2\", \"Topic2\", \"Topic2\", \"Topic2\", \"Topic2\", \"Topic2\", \"Topic2\", \"Topic2\", \"Topic2\", \"Topic2\", \"Topic2\", \"Topic2\", \"Topic2\", \"Topic2\", \"Topic2\", \"Topic2\", \"Topic2\", \"Topic2\", \"Topic2\", \"Topic2\", \"Topic2\", \"Topic2\", \"Topic2\", \"Topic2\", \"Topic3\", \"Topic3\", \"Topic3\", \"Topic3\", \"Topic3\", \"Topic3\", \"Topic3\", \"Topic3\", \"Topic3\", \"Topic3\", \"Topic3\", \"Topic3\", \"Topic3\", \"Topic3\", \"Topic3\", \"Topic3\", \"Topic3\", \"Topic3\", \"Topic3\", \"Topic3\", \"Topic3\", \"Topic3\", \"Topic3\", \"Topic3\", \"Topic3\", \"Topic3\", \"Topic3\", \"Topic3\", \"Topic3\", \"Topic3\", \"Topic3\", \"Topic3\", \"Topic3\", \"Topic3\", \"Topic3\", \"Topic3\", \"Topic3\", \"Topic3\", \"Topic3\", \"Topic3\", \"Topic3\", \"Topic3\", \"Topic3\", \"Topic3\", \"Topic3\", \"Topic3\", \"Topic3\", \"Topic3\", \"Topic3\", \"Topic3\", \"Topic3\", \"Topic3\", \"Topic3\", \"Topic3\", \"Topic3\", \"Topic3\", \"Topic3\", \"Topic3\", \"Topic3\", \"Topic3\", \"Topic3\", \"Topic3\", \"Topic3\", \"Topic3\", \"Topic3\", \"Topic3\", \"Topic3\", \"Topic4\", \"Topic4\", \"Topic4\", \"Topic4\", \"Topic4\", \"Topic4\", \"Topic4\", \"Topic4\", \"Topic4\", \"Topic4\", \"Topic4\", \"Topic4\", \"Topic4\", \"Topic4\", \"Topic4\", \"Topic4\", \"Topic4\", \"Topic4\", \"Topic4\", \"Topic4\", \"Topic4\", \"Topic4\", \"Topic4\", \"Topic4\", \"Topic4\", \"Topic4\", \"Topic4\", \"Topic4\", \"Topic4\", \"Topic4\", \"Topic4\", \"Topic4\", \"Topic4\", \"Topic4\", \"Topic4\", \"Topic4\", \"Topic4\", \"Topic4\", \"Topic4\", \"Topic4\", \"Topic4\", \"Topic4\", \"Topic4\", \"Topic4\", \"Topic4\", \"Topic4\", \"Topic4\", \"Topic4\", \"Topic4\", \"Topic4\", \"Topic4\", \"Topic4\", \"Topic4\", \"Topic4\", \"Topic4\", \"Topic4\", \"Topic4\", \"Topic4\", \"Topic4\", \"Topic4\", \"Topic4\", \"Topic4\", \"Topic4\", \"Topic4\", \"Topic4\", \"Topic4\", \"Topic4\", \"Topic4\", \"Topic4\", \"Topic4\", \"Topic4\", \"Topic4\", \"Topic4\", \"Topic4\", \"Topic4\", \"Topic4\", \"Topic5\", \"Topic5\", \"Topic5\", \"Topic5\", \"Topic5\", \"Topic5\", \"Topic5\", \"Topic5\", \"Topic5\", \"Topic5\", \"Topic5\", \"Topic5\", \"Topic5\", \"Topic5\", \"Topic5\", \"Topic5\", \"Topic5\", \"Topic5\", \"Topic5\", \"Topic5\", \"Topic5\", \"Topic5\", \"Topic5\", \"Topic5\", \"Topic5\", \"Topic5\", \"Topic5\", \"Topic5\", \"Topic5\", \"Topic5\", \"Topic5\", \"Topic5\", \"Topic5\", \"Topic5\", \"Topic5\", \"Topic5\", \"Topic5\", \"Topic5\", \"Topic5\", \"Topic5\", \"Topic5\", \"Topic5\", \"Topic5\", \"Topic5\", \"Topic5\", \"Topic5\", \"Topic5\", \"Topic5\", \"Topic5\", \"Topic5\", \"Topic5\", \"Topic5\", \"Topic5\", \"Topic5\", \"Topic5\", \"Topic5\", \"Topic5\", \"Topic5\", \"Topic5\", \"Topic5\", \"Topic5\", \"Topic5\", \"Topic5\", \"Topic5\", \"Topic5\", \"Topic5\", \"Topic5\", \"Topic5\", \"Topic5\", \"Topic5\", \"Topic5\", \"Topic6\", \"Topic6\", \"Topic6\", \"Topic6\", \"Topic6\", \"Topic6\", \"Topic6\", \"Topic6\", \"Topic6\", \"Topic6\", \"Topic6\", \"Topic6\", \"Topic6\", \"Topic6\", \"Topic6\", \"Topic6\", \"Topic6\", \"Topic6\", \"Topic6\", \"Topic6\", \"Topic6\", \"Topic6\", \"Topic6\", \"Topic6\", \"Topic6\", \"Topic6\", \"Topic6\", \"Topic6\", \"Topic6\", \"Topic6\", \"Topic6\", \"Topic6\", \"Topic6\", \"Topic6\", \"Topic6\", \"Topic6\", \"Topic6\", \"Topic6\", \"Topic6\", \"Topic6\", \"Topic6\", \"Topic6\", \"Topic6\", \"Topic6\", \"Topic6\", \"Topic6\", \"Topic6\", \"Topic6\", \"Topic6\", \"Topic6\", \"Topic6\", \"Topic6\", \"Topic6\", \"Topic6\", \"Topic6\", \"Topic6\", \"Topic6\", \"Topic6\", \"Topic6\", \"Topic6\", \"Topic6\", \"Topic6\", \"Topic6\", \"Topic6\", \"Topic6\", \"Topic6\", \"Topic7\", \"Topic7\", \"Topic7\", \"Topic7\", \"Topic7\", \"Topic7\", \"Topic7\", \"Topic7\", \"Topic7\", \"Topic7\", \"Topic7\", \"Topic7\", \"Topic7\", \"Topic7\", \"Topic7\", \"Topic7\", \"Topic7\", \"Topic7\", \"Topic7\", \"Topic7\", \"Topic7\", \"Topic7\", \"Topic7\", \"Topic7\", \"Topic7\", \"Topic7\", \"Topic7\", \"Topic7\", \"Topic7\", \"Topic7\", \"Topic7\", \"Topic7\", \"Topic7\", \"Topic7\", \"Topic7\", \"Topic7\", \"Topic7\", \"Topic7\", \"Topic7\", \"Topic7\", \"Topic7\", \"Topic7\", \"Topic7\", \"Topic7\", \"Topic7\", \"Topic7\", \"Topic7\", \"Topic7\", \"Topic7\", \"Topic7\", \"Topic7\", \"Topic7\", \"Topic7\", \"Topic7\", \"Topic7\", \"Topic7\", \"Topic7\", \"Topic7\", \"Topic7\", \"Topic7\", \"Topic7\", \"Topic7\", \"Topic7\", \"Topic7\", \"Topic7\", \"Topic7\", \"Topic7\", \"Topic7\", \"Topic7\", \"Topic7\", \"Topic7\", \"Topic7\", \"Topic7\", \"Topic7\", \"Topic8\", \"Topic8\", \"Topic8\", \"Topic8\", \"Topic8\", \"Topic8\", \"Topic8\", \"Topic8\", \"Topic8\", \"Topic8\", \"Topic8\", \"Topic8\", \"Topic8\", \"Topic8\", \"Topic8\", \"Topic8\", \"Topic8\", \"Topic8\", \"Topic8\", \"Topic8\", \"Topic8\", \"Topic8\", \"Topic8\", \"Topic8\", \"Topic8\", \"Topic8\", \"Topic8\", \"Topic8\", \"Topic8\", \"Topic8\", \"Topic8\", \"Topic8\", \"Topic8\", \"Topic8\", \"Topic8\", \"Topic8\", \"Topic8\", \"Topic8\", \"Topic8\", \"Topic8\", \"Topic8\", \"Topic8\", \"Topic8\", \"Topic8\", \"Topic8\", \"Topic8\", \"Topic8\", \"Topic8\", \"Topic8\", \"Topic8\", \"Topic8\", \"Topic8\", \"Topic8\", \"Topic8\", \"Topic8\", \"Topic8\", \"Topic8\", \"Topic8\", \"Topic8\", \"Topic8\", \"Topic8\", \"Topic8\", \"Topic8\", \"Topic8\", \"Topic8\", \"Topic9\", \"Topic9\", \"Topic9\", \"Topic9\", \"Topic9\", \"Topic9\", \"Topic9\", \"Topic9\", \"Topic9\", \"Topic9\", \"Topic9\", \"Topic9\", \"Topic9\", \"Topic9\", \"Topic9\", \"Topic9\", \"Topic9\", \"Topic9\", \"Topic9\", \"Topic9\", \"Topic9\", \"Topic9\", \"Topic9\", \"Topic9\", \"Topic9\", \"Topic9\", \"Topic9\", \"Topic9\", \"Topic9\", \"Topic9\", \"Topic9\", \"Topic9\", \"Topic9\", \"Topic9\", \"Topic9\", \"Topic9\", \"Topic9\", \"Topic9\", \"Topic9\", \"Topic9\", \"Topic9\", \"Topic9\", \"Topic9\", \"Topic9\", \"Topic9\", \"Topic9\", \"Topic9\", \"Topic9\", \"Topic9\", \"Topic9\", \"Topic9\", \"Topic9\", \"Topic9\", \"Topic9\", \"Topic9\", \"Topic9\", \"Topic9\", \"Topic9\", \"Topic9\", \"Topic9\", \"Topic9\", \"Topic9\", \"Topic9\", \"Topic9\", \"Topic9\", \"Topic9\", \"Topic9\", \"Topic9\", \"Topic9\", \"Topic9\", \"Topic9\", \"Topic9\", \"Topic9\", \"Topic9\", \"Topic9\", \"Topic9\", \"Topic9\", \"Topic9\", \"Topic9\", \"Topic9\", \"Topic9\", \"Topic10\", \"Topic10\", \"Topic10\", \"Topic10\", \"Topic10\", \"Topic10\", \"Topic10\", \"Topic10\", \"Topic10\", \"Topic10\", \"Topic10\", \"Topic10\", \"Topic10\", \"Topic10\", \"Topic10\", \"Topic10\", \"Topic10\", \"Topic10\", \"Topic10\", \"Topic10\", \"Topic10\", \"Topic10\", \"Topic10\", \"Topic10\", \"Topic10\", \"Topic10\", \"Topic10\", \"Topic10\", \"Topic10\", \"Topic10\", \"Topic10\", \"Topic10\", \"Topic10\", \"Topic10\", \"Topic10\", \"Topic10\", \"Topic10\", \"Topic10\", \"Topic10\", \"Topic10\", \"Topic10\", \"Topic10\", \"Topic10\", \"Topic10\", \"Topic10\", \"Topic10\", \"Topic10\", \"Topic10\", \"Topic10\", \"Topic10\", \"Topic10\", \"Topic10\", \"Topic10\", \"Topic10\", \"Topic10\", \"Topic10\", \"Topic10\", \"Topic10\", \"Topic10\", \"Topic10\", \"Topic10\", \"Topic10\", \"Topic10\", \"Topic10\", \"Topic10\", \"Topic10\", \"Topic10\", \"Topic10\", \"Topic10\", \"Topic10\", \"Topic10\", \"Topic10\", \"Topic10\", \"Topic11\", \"Topic11\", \"Topic11\", \"Topic11\", \"Topic11\", \"Topic11\", \"Topic11\", \"Topic11\", \"Topic11\", \"Topic11\", \"Topic11\", \"Topic11\", \"Topic11\", \"Topic11\", \"Topic11\", \"Topic11\", \"Topic11\", \"Topic11\", \"Topic11\", \"Topic11\", \"Topic11\", \"Topic11\", \"Topic11\", \"Topic11\", \"Topic11\", \"Topic11\", \"Topic11\", \"Topic11\", \"Topic11\", \"Topic11\", \"Topic11\", \"Topic11\", \"Topic11\", \"Topic11\", \"Topic11\", \"Topic11\", \"Topic11\", \"Topic11\", \"Topic11\", \"Topic11\", \"Topic11\", \"Topic11\", \"Topic11\", \"Topic11\", \"Topic11\", \"Topic11\", \"Topic11\", \"Topic11\", \"Topic11\", \"Topic11\", \"Topic11\", \"Topic11\", \"Topic11\", \"Topic11\", \"Topic11\", \"Topic11\", \"Topic11\", \"Topic11\", \"Topic11\", \"Topic11\", \"Topic11\", \"Topic11\", \"Topic11\", \"Topic11\", \"Topic12\", \"Topic12\", \"Topic12\", \"Topic12\", \"Topic12\", \"Topic12\", \"Topic12\", \"Topic12\", \"Topic12\", \"Topic12\", \"Topic12\", \"Topic12\", \"Topic12\", \"Topic12\", \"Topic12\", \"Topic12\", \"Topic12\", \"Topic12\", \"Topic12\", \"Topic12\", \"Topic12\", \"Topic12\", \"Topic12\", \"Topic12\", \"Topic12\", \"Topic12\", \"Topic12\", \"Topic12\", \"Topic12\", \"Topic12\", \"Topic12\", \"Topic12\", \"Topic12\", \"Topic12\", \"Topic12\", \"Topic12\", \"Topic12\", \"Topic12\", \"Topic12\", \"Topic12\", \"Topic12\", \"Topic12\", \"Topic12\", \"Topic12\", \"Topic12\", \"Topic12\", \"Topic12\", \"Topic12\", \"Topic12\", \"Topic12\", \"Topic12\", \"Topic12\", \"Topic12\", \"Topic12\", \"Topic12\", \"Topic12\", \"Topic12\", \"Topic12\", \"Topic12\", \"Topic12\", \"Topic12\", \"Topic12\", \"Topic12\", \"Topic12\", \"Topic12\", \"Topic12\", \"Topic12\", \"Topic12\", \"Topic12\", \"Topic12\", \"Topic12\", \"Topic13\", \"Topic13\", \"Topic13\", \"Topic13\", \"Topic13\", \"Topic13\", \"Topic13\", \"Topic13\", \"Topic13\", \"Topic13\", \"Topic13\", \"Topic13\", \"Topic13\", \"Topic13\", \"Topic13\", \"Topic13\", \"Topic13\", \"Topic13\", \"Topic13\", \"Topic13\", \"Topic13\", \"Topic13\", \"Topic13\", \"Topic13\", \"Topic13\", \"Topic13\", \"Topic13\", \"Topic13\", \"Topic13\", \"Topic13\", \"Topic13\", \"Topic13\", \"Topic13\", \"Topic13\", \"Topic13\", \"Topic13\", \"Topic13\", \"Topic13\", \"Topic13\", \"Topic13\", \"Topic13\", \"Topic13\", \"Topic13\", \"Topic13\", \"Topic13\", \"Topic13\", \"Topic13\", \"Topic13\", \"Topic13\", \"Topic13\", \"Topic13\", \"Topic13\", \"Topic13\", \"Topic13\", \"Topic13\", \"Topic13\", \"Topic13\", \"Topic13\", \"Topic13\", \"Topic13\", \"Topic13\", \"Topic13\", \"Topic13\", \"Topic13\", \"Topic13\", \"Topic13\", \"Topic13\", \"Topic13\", \"Topic13\", \"Topic13\", \"Topic13\", \"Topic14\", \"Topic14\", \"Topic14\", \"Topic14\", \"Topic14\", \"Topic14\", \"Topic14\", \"Topic14\", \"Topic14\", \"Topic14\", \"Topic14\", \"Topic14\", \"Topic14\", \"Topic14\", \"Topic14\", \"Topic14\", \"Topic14\", \"Topic14\", \"Topic14\", \"Topic14\", \"Topic14\", \"Topic14\", \"Topic14\", \"Topic14\", \"Topic14\", \"Topic14\", \"Topic14\", \"Topic14\", \"Topic14\", \"Topic14\", \"Topic14\", \"Topic14\", \"Topic14\", \"Topic14\", \"Topic14\", \"Topic14\", \"Topic14\", \"Topic14\", \"Topic14\", \"Topic14\", \"Topic14\", \"Topic14\", \"Topic14\", \"Topic14\", \"Topic14\", \"Topic14\", \"Topic14\", \"Topic14\", \"Topic14\", \"Topic14\", \"Topic14\", \"Topic14\", \"Topic14\", \"Topic14\", \"Topic14\", \"Topic14\", \"Topic14\", \"Topic14\", \"Topic14\", \"Topic14\", \"Topic14\", \"Topic14\", \"Topic14\", \"Topic14\", \"Topic14\", \"Topic14\", \"Topic14\", \"Topic14\", \"Topic14\", \"Topic14\", \"Topic14\", \"Topic14\", \"Topic14\", \"Topic14\", \"Topic14\", \"Topic15\", \"Topic15\", \"Topic15\", \"Topic15\", \"Topic15\", \"Topic15\", \"Topic15\", \"Topic15\", \"Topic15\", \"Topic15\", \"Topic15\", \"Topic15\", \"Topic15\", \"Topic15\", \"Topic15\", \"Topic15\", \"Topic15\", \"Topic15\", \"Topic15\", \"Topic15\", \"Topic15\", \"Topic15\", \"Topic15\", \"Topic15\", \"Topic15\", \"Topic15\", \"Topic15\", \"Topic15\", \"Topic15\", \"Topic15\", \"Topic15\", \"Topic15\", \"Topic15\", \"Topic15\", \"Topic15\", \"Topic15\", \"Topic15\", \"Topic15\", \"Topic15\", \"Topic15\", \"Topic15\", \"Topic15\", \"Topic15\", \"Topic15\", \"Topic15\", \"Topic15\", \"Topic15\", \"Topic15\", \"Topic15\", \"Topic15\", \"Topic15\", \"Topic15\", \"Topic15\", \"Topic15\", \"Topic15\", \"Topic15\", \"Topic15\", \"Topic15\", \"Topic15\", \"Topic15\", \"Topic15\", \"Topic15\", \"Topic15\", \"Topic15\", \"Topic15\", \"Topic15\", \"Topic15\", \"Topic15\", \"Topic15\", \"Topic15\", \"Topic15\", \"Topic15\", \"Topic15\", \"Topic15\", \"Topic15\", \"Topic15\", \"Topic15\", \"Topic15\", \"Topic16\", \"Topic16\", \"Topic16\", \"Topic16\", \"Topic16\", \"Topic16\", \"Topic16\", \"Topic16\", \"Topic16\", \"Topic16\", \"Topic16\", \"Topic16\", \"Topic16\", \"Topic16\", \"Topic16\", \"Topic16\", \"Topic16\", \"Topic16\", \"Topic16\", \"Topic16\", \"Topic16\", \"Topic16\", \"Topic16\", \"Topic16\", \"Topic16\", \"Topic16\", \"Topic16\", \"Topic16\", \"Topic16\", \"Topic16\", \"Topic16\", \"Topic16\", \"Topic16\", \"Topic16\", \"Topic16\", \"Topic16\", \"Topic16\", \"Topic16\", \"Topic16\", \"Topic16\", \"Topic16\", \"Topic16\", \"Topic16\", \"Topic16\", \"Topic16\", \"Topic16\", \"Topic16\", \"Topic16\", \"Topic16\", \"Topic16\", \"Topic16\", \"Topic16\", \"Topic16\", \"Topic16\", \"Topic16\", \"Topic16\", \"Topic16\", \"Topic16\", \"Topic16\", \"Topic16\", \"Topic16\", \"Topic16\", \"Topic16\", \"Topic16\", \"Topic16\", \"Topic16\", \"Topic16\", \"Topic16\", \"Topic16\", \"Topic16\", \"Topic16\", \"Topic17\", \"Topic17\", \"Topic17\", \"Topic17\", \"Topic17\", \"Topic17\", \"Topic17\", \"Topic17\", \"Topic17\", \"Topic17\", \"Topic17\", \"Topic17\", \"Topic17\", \"Topic17\", \"Topic17\", \"Topic17\", \"Topic17\", \"Topic17\", \"Topic17\", \"Topic17\", \"Topic17\", \"Topic17\", \"Topic17\", \"Topic17\", \"Topic17\", \"Topic17\", \"Topic17\", \"Topic17\", \"Topic17\", \"Topic17\", \"Topic17\", \"Topic17\", \"Topic17\", \"Topic17\", \"Topic17\", \"Topic17\", \"Topic17\", \"Topic17\", \"Topic17\", \"Topic17\", \"Topic17\", \"Topic17\", \"Topic17\", \"Topic17\", \"Topic17\", \"Topic17\", \"Topic17\", \"Topic17\", \"Topic17\", \"Topic17\", \"Topic17\", \"Topic17\", \"Topic17\", \"Topic17\", \"Topic17\", \"Topic17\", \"Topic17\", \"Topic17\", \"Topic17\", \"Topic17\", \"Topic17\", \"Topic17\", \"Topic17\", \"Topic17\", \"Topic17\", \"Topic17\", \"Topic17\", \"Topic17\", \"Topic17\", \"Topic18\", \"Topic18\", \"Topic18\", \"Topic18\", \"Topic18\", \"Topic18\", \"Topic18\", \"Topic18\", \"Topic18\", \"Topic18\", \"Topic18\", \"Topic18\", \"Topic18\", \"Topic18\", \"Topic18\", \"Topic18\", \"Topic18\", \"Topic18\", \"Topic18\", \"Topic18\", \"Topic18\", \"Topic18\", \"Topic18\", \"Topic18\", \"Topic18\", \"Topic18\", \"Topic18\", \"Topic18\", \"Topic18\", \"Topic18\", \"Topic18\", \"Topic18\", \"Topic18\", \"Topic18\", \"Topic18\", \"Topic18\", \"Topic18\", \"Topic18\", \"Topic18\", \"Topic18\", \"Topic18\", \"Topic18\", \"Topic18\", \"Topic18\", \"Topic18\", \"Topic18\", \"Topic18\", \"Topic18\", \"Topic18\", \"Topic18\", \"Topic18\", \"Topic18\", \"Topic18\", \"Topic18\", \"Topic18\", \"Topic18\", \"Topic18\", \"Topic18\", \"Topic18\", \"Topic18\", \"Topic18\", \"Topic18\", \"Topic18\", \"Topic18\", \"Topic18\", \"Topic18\", \"Topic18\", \"Topic18\", \"Topic18\", \"Topic19\", \"Topic19\", \"Topic19\", \"Topic19\", \"Topic19\", \"Topic19\", \"Topic19\", \"Topic19\", \"Topic19\", \"Topic19\", \"Topic19\", \"Topic19\", \"Topic19\", \"Topic19\", \"Topic19\", \"Topic19\", \"Topic19\", \"Topic19\", \"Topic19\", \"Topic19\", \"Topic19\", \"Topic19\", \"Topic19\", \"Topic19\", \"Topic19\", \"Topic19\", \"Topic19\", \"Topic19\", \"Topic19\", \"Topic19\", \"Topic19\", \"Topic19\", \"Topic19\", \"Topic19\", \"Topic19\", \"Topic19\", \"Topic19\", \"Topic19\", \"Topic19\", \"Topic19\", \"Topic19\", \"Topic19\", \"Topic19\", \"Topic19\", \"Topic19\", \"Topic19\", \"Topic19\", \"Topic19\", \"Topic19\", \"Topic19\", \"Topic19\", \"Topic19\", \"Topic19\", \"Topic19\", \"Topic19\", \"Topic19\", \"Topic19\", \"Topic19\", \"Topic19\", \"Topic19\", \"Topic19\", \"Topic19\", \"Topic19\", \"Topic19\", \"Topic19\", \"Topic19\", \"Topic20\", \"Topic20\", \"Topic20\", \"Topic20\", \"Topic20\", \"Topic20\", \"Topic20\", \"Topic20\", \"Topic20\", \"Topic20\", \"Topic20\", \"Topic20\", \"Topic20\", \"Topic20\", \"Topic20\", \"Topic20\", \"Topic20\", \"Topic20\", \"Topic20\", \"Topic20\", \"Topic20\", \"Topic20\", \"Topic20\", \"Topic20\", \"Topic20\", \"Topic20\", \"Topic20\", \"Topic20\", \"Topic20\", \"Topic20\", \"Topic20\", \"Topic20\", \"Topic20\", \"Topic20\", \"Topic20\", \"Topic20\", \"Topic20\", \"Topic20\", \"Topic20\", \"Topic20\", \"Topic20\", \"Topic20\", \"Topic20\", \"Topic20\", \"Topic20\", \"Topic20\", \"Topic20\", \"Topic20\", \"Topic20\", \"Topic20\", \"Topic20\", \"Topic20\", \"Topic20\", \"Topic20\", \"Topic20\", \"Topic20\", \"Topic20\", \"Topic20\", \"Topic20\", \"Topic20\", \"Topic20\", \"Topic20\", \"Topic20\", \"Topic20\", \"Topic20\", \"Topic20\", \"Topic20\", \"Topic20\", \"Topic20\", \"Topic20\", \"Topic20\"], \"logprob\": [30.0, 29.0, 28.0, 27.0, 26.0, 25.0, 24.0, 23.0, 22.0, 21.0, 20.0, 19.0, 18.0, 17.0, 16.0, 15.0, 14.0, 13.0, 12.0, 11.0, 10.0, 9.0, 8.0, 7.0, 6.0, 5.0, 4.0, 3.0, 2.0, 1.0, -6.3951, -6.897, -7.6969, -7.9524, -8.0623, -8.0623, -7.9764, -8.2124, -7.0065, -8.2968, -8.3266, -8.3573, -8.389, -8.3005, -8.3596, -8.5269, -8.5646, -8.5646, -8.2509, -8.687, -7.2323, -8.8264, -7.6803, -8.7368, -8.8776, -8.739, -8.9315, -8.9315, -8.6591, -8.9885, -7.7359, -3.7779, -6.1208, -7.3466, -7.0875, -7.4323, -7.6138, -6.1107, -6.1153, -6.6555, -5.4729, -5.5109, -3.414, -6.0216, -5.699, -5.8076, -5.8533, -6.4009, -6.8087, -6.9845, -3.3908, -6.8697, -2.8334, -2.3526, -5.1993, -4.9834, -6.4415, -4.6216, -6.1766, -3.744, -5.9979, -4.1171, -4.2101, -4.8204, -4.4918, -5.3807, -4.5481, -5.3159, -4.6966, -5.4526, -4.7056, -4.0204, -4.9514, -4.9515, -5.3543, -5.1106, -4.1815, -5.0563, -5.0758, -5.0517, -5.1019, -5.2166, -5.1901, -5.2511, -5.2844, -8.465, -8.9431, -9.0228, -9.4262, -9.4262, -9.4262, -8.8021, -9.5588, -9.5588, -9.5588, -9.5588, -9.5588, -9.7118, -8.2104, -9.4811, -9.8925, -9.8925, -9.8925, -9.8925, -9.8925, -8.7625, -9.2205, -10.1131, -10.1131, -10.1131, -10.1131, -10.1131, -10.1131, -10.1131, -10.1131, -7.5998, -7.2945, -0.74, -8.9661, -9.4288, -8.6487, -9.3727, -8.4075, -8.3655, -7.5102, -3.6267, -6.489, -3.4859, -6.0545, -8.5207, -7.7849, -6.0954, -5.4401, -6.1329, -8.3332, -2.7163, -5.2724, -4.4255, -6.9283, -3.4204, -5.7626, -4.4558, -3.6153, -4.5586, -4.7798, -4.5716, -4.2598, -5.8097, -4.5462, -7.2959, -6.3892, -5.3154, -5.1465, -4.9034, -4.2947, -5.2149, -5.558, -5.4375, -5.418, -5.3499, -5.4158, -5.7756, -5.6781, -5.7618, -5.7566, -4.4319, -6.1663, -6.1834, -5.9602, -5.718, -6.4371, -7.2332, -7.5575, -6.6037, -7.4153, -7.324, -7.7038, -7.9398, -7.203, -8.045, -6.8793, -7.8555, -8.2494, -8.3956, -7.3489, -8.4496, -7.7057, -8.5066, -8.6313, -8.7001, -8.7739, -8.7739, -5.1997, -8.8536, -7.2478, -4.9131, -2.6468, -6.999, -5.4204, -4.5258, -2.5868, -4.795, -5.2167, -6.4027, -5.2856, -4.2117, -6.6266, -6.6238, -5.2262, -1.9982, -5.9427, -4.4204, -6.411, -5.5065, -3.7516, -3.71, -5.4858, -4.3943, -4.8272, -4.883, -4.0297, -3.8925, -4.788, -4.2645, -4.7865, -4.5138, -3.9724, -4.6639, -4.8997, -5.2367, -5.1215, -5.351, -7.6392, -7.9264, -6.1001, -8.6553, -8.735, -8.735, -8.014, -9.0213, -9.0213, -9.1384, -9.1425, -7.8501, -8.5158, -9.2711, -9.2711, -9.2711, -9.424, -9.424, -9.424, -9.424, -8.6641, -8.735, -0.5536, -8.8217, -9.6047, -9.6047, -9.6047, -9.6047, -9.6047, -9.6047, -9.0041, -8.7036, -7.3618, -6.8087, -8.8243, -4.7254, -3.9563, -4.7393, -5.5238, -7.2822, -8.2424, -6.9935, -5.5937, -7.3204, -5.6177, -6.3908, -3.8325, -2.9739, -7.4378, -5.8535, -3.6229, -4.2031, -4.4699, -7.472, -7.6617, -5.0385, -5.1536, -7.1416, -5.995, -5.1405, -5.3023, -5.2556, -5.8007, -5.4985, -5.5472, -6.135, -5.8512, -6.3885, -6.1119, -6.1361, -5.6564, -6.0861, -5.8199, -5.8696, -6.0663, -6.039, -4.6789, -5.421, -4.4144, -7.4396, -7.4896, -7.5421, -6.2392, -8.0611, -1.9944, -5.9916, -8.5118, -7.6376, -8.5856, -8.5856, -8.6653, -8.8468, -8.9516, -8.9516, -8.9516, -8.9523, -8.2676, -7.4996, -8.8637, -7.3933, -9.0687, -6.5452, -9.2014, -6.6919, -9.3543, -9.3543, -7.148, -7.8725, -3.5428, -2.5295, -4.8192, -4.7866, -7.3089, -7.6843, -5.3922, -2.5327, -4.4554, -5.2597, -6.2735, -2.7398, -6.7355, -4.9153, -5.1102, -4.1264, -5.6562, -6.6584, -3.8418, -5.9482, -5.2505, -5.5801, -6.3331, -5.1624, -4.0831, -4.9015, -4.3063, -5.0176, -4.1069, -5.1427, -3.5979, -4.4712, -4.6919, -4.1602, -5.1656, -5.0221, -5.0616, -5.0029, -5.1439, -4.0823, -4.7302, -5.6715, -6.8163, -6.9306, -6.9771, -7.0771, -7.4311, -7.5642, -7.4196, -3.4119, -8.0358, -8.2279, -6.9018, -8.4113, -8.4784, -8.6319, -8.6319, -8.7186, -8.7195, -7.9204, -8.9182, -8.9182, -8.7478, -9.0353, -9.0353, -9.0373, -9.0395, -4.5847, -9.168, -4.7465, -5.7308, -6.9947, -4.4021, -6.0977, -4.0069, -6.0178, -5.4177, -5.0764, -4.0309, -3.2577, -4.004, -1.736, -5.5246, -7.2154, -3.6249, -6.1818, -4.5264, -6.4267, -4.9536, -2.6424, -4.0742, -4.7886, -3.0504, -4.3853, -4.3497, -5.6287, -4.4686, -4.5246, -3.8715, -4.4376, -5.017, -4.6781, -5.3445, -5.1372, -5.159, -3.2623, -7.0821, -5.2913, -7.2436, -6.9783, -6.6556, -7.2681, -7.3874, -7.4665, -7.5236, -7.5534, -7.471, -7.6172, -7.7537, -7.7914, -5.2259, -5.4728, -8.2757, -8.34, -8.4088, -8.4088, -8.4107, -7.0252, -8.4826, -8.4826, -8.1259, -7.8685, -8.0366, -6.4211, -8.649, -4.046, -4.2445, -6.0726, -6.3012, -2.7211, -6.5793, -6.7271, -7.2625, -7.3047, -2.5349, -6.126, -6.4228, -4.7749, -6.5876, -6.3855, -5.9942, -6.9556, -5.4083, -4.9661, -2.5812, -5.9979, -4.4592, -5.6112, -6.4476, -5.6717, -5.1588, -4.9794, -4.1575, -3.116, -4.9726, -4.6972, -4.5703, -5.2765, -5.5345, -4.868, -4.9794, -5.1329, -5.5023, -5.1297, -4.7925, -5.0666, -5.244, -5.2164, -5.4483, -3.2666, -4.3174, -1.7319, -5.53, -2.9837, -6.554, -5.4243, -6.9819, -7.3077, -5.1653, -7.7455, -5.6076, -8.15, -6.9222, -7.1104, -2.1598, -8.4006, -8.4744, -6.2111, -8.2362, -6.4093, -5.817, -6.0965, -8.9575, -8.9575, -7.2315, -8.8647, -9.0902, -9.0902, -9.0902, -3.1972, -5.7058, -7.5376, -5.1374, -8.2411, -6.4047, -6.6204, -4.6253, -5.9983, -5.9146, -6.3505, -3.7119, -5.3302, -5.9543, -3.3732, -5.097, -5.3904, -3.9585, -6.0688, -5.7917, -5.1814, -3.528, -5.6205, -4.1933, -5.0819, -4.4381, -5.1609, -4.7563, -5.2319, -4.9043, -5.3219, -5.4024, -5.4623, -5.5453, -5.5407, -4.1115, -2.0326, -5.3984, -5.1401, -7.0605, -7.2785, -7.4084, -7.8136, -7.995, -7.9957, -8.0463, -8.1001, -8.1001, -8.2176, -8.2176, -8.2176, -8.2823, -8.2246, -7.9224, -8.4245, -8.4247, -8.4263, -8.5042, -8.5042, -7.8127, -8.508, -8.5908, -8.5908, -8.6857, -8.6857, -5.7415, -6.1849, -5.9143, -6.3075, -4.781, -6.8304, -5.7523, -7.959, -5.8252, -7.5141, -2.4717, -6.4926, -6.8505, -7.3142, -6.3315, -6.8802, -7.5161, -6.4767, -3.5421, -6.8299, -6.6293, -3.6289, -6.116, -6.6513, -4.9552, -6.5575, -5.2039, -4.4976, -3.1231, -4.9681, -6.0622, -4.7616, -4.6823, -5.9518, -6.0711, -5.2337, -4.8803, -5.1998, -5.4142, -4.8674, -5.9268, -5.1667, -5.3734, -5.2097, -5.075, -5.1451, -4.7989, -5.0469, -5.5254, -5.4288, -5.4855, -1.8139, -4.4712, -7.3845, -7.4989, -7.3618, -7.7367, -7.7367, -7.7759, -5.1672, -7.8591, -7.1476, -8.0497, -8.105, -8.1606, -8.2854, -8.3541, -8.3542, -5.1938, -8.5077, -8.5943, -6.9084, -7.4971, -7.1146, -7.2193, -8.794, -8.794, -8.057, -8.0609, -8.9111, -7.5024, -6.7739, -6.4274, -5.2755, -2.1461, -6.1848, -4.7615, -5.2815, -5.9394, -7.4527, -5.0348, -7.1827, -4.1614, -6.4763, -5.4717, -6.5783, -4.9851, -4.17, -6.6362, -5.4419, -5.4424, -4.4315, -5.4543, -5.8278, -5.4508, -4.7759, -3.9465, -4.154, -4.3467, -4.122, -5.2243, -4.5097, -5.5278, -3.8193, -3.9214, -4.7252, -4.8461, -4.978, -4.9588, -4.9863, -5.1957, -5.1451, -5.2015, -5.1059, -3.3587, -2.8454, -3.8291, -2.6298, -5.8956, -6.0767, -5.8732, -5.7808, -6.8618, -6.7221, -7.692, -3.0041, -8.1536, -7.4143, -8.3471, -7.4205, -7.1968, -7.3071, -8.5873, -8.5873, -8.6821, -8.7872, -8.7882, -7.5718, -8.904, -8.904, -8.2836, -9.0367, -9.1896, -9.1896, -4.2912, -4.8194, -5.1724, -4.7552, -3.3039, -2.3751, -6.3789, -5.4879, -4.9108, -2.9407, -3.9294, -6.1812, -5.687, -6.7852, -4.4804, -5.6443, -3.8028, -5.3437, -5.6232, -5.012, -3.4597, -3.1355, -5.1041, -4.0688, -4.6596, -4.0409, -5.0634, -4.8852, -5.4422, -5.0, -5.3828, -5.1458, -5.3536, -5.3605, -4.6652, -6.0511, -6.5582, -6.7992, -4.824, -6.2908, -7.4618, -7.5867, -5.9976, -6.8676, -8.1535, -8.2139, -8.2139, -2.0896, -8.5872, -8.6821, -7.7271, -8.9039, -7.0012, -9.0366, -9.0366, -9.0392, -2.7017, -8.6371, -7.6282, -7.297, -9.1895, -9.1895, -9.1895, -8.4284, -6.9874, -5.8246, -5.9553, -6.3211, -6.8335, -4.0402, -2.5486, -5.8977, -5.8957, -2.1361, -6.1895, -4.6289, -4.8815, -7.3312, -6.522, -6.3017, -4.9229, -4.1463, -5.6213, -5.7911, -3.291, -3.0313, -4.0706, -6.2282, -4.483, -4.6604, -4.5756, -4.578, -5.8268, -4.894, -4.8972, -4.849, -4.9448, -5.1366, -5.4563, -5.3416, -5.5582, -5.4472, -5.5955, -5.5459, -5.5939, -3.3921, -4.5072, -4.8544, -5.0327, -6.1527, -6.7369, -6.8787, -5.855, -5.0418, -6.9141, -7.1059, -7.2923, -7.2678, -7.43, -7.04, -1.7817, -7.63, -8.1871, -6.8166, -4.5313, -8.2619, -7.3983, -7.6771, -8.7543, -8.7543, -8.7543, -8.7543, -6.6553, -8.8714, -8.8714, -8.0777, -8.0775, -7.0988, -4.1054, -6.3856, -6.4736, -5.3603, -7.2316, -4.3186, -5.6837, -5.9843, -6.5588, -4.9362, -6.5692, -4.6084, -5.9408, -5.2612, -5.7638, -3.0086, -5.6257, -3.2227, -5.24, -4.7036, -4.8551, -4.335, -4.7769, -5.9613, -5.0601, -4.1488, -4.3338, -3.7798, -4.6675, -5.2225, -4.098, -4.8305, -4.7407, -5.1564, -4.5728, -4.9393, -5.1025, -5.0764, -5.1542, -5.7981, -6.2832, -6.6816, -7.1776, -7.3315, -7.4184, -7.5824, -7.3506, -7.9216, -3.1808, -8.0233, -8.0254, -8.0803, -8.1407, -8.1407, -7.2389, -8.205, -8.205, -8.205, -8.205, -8.2738, -4.2674, -7.051, -8.3476, -8.3476, -8.4274, -8.4274, -8.4281, -3.9381, -5.5655, -2.1625, -4.7854, -7.0955, -6.8704, -5.15, -4.293, -5.1106, -7.4648, -5.4396, -7.1187, -7.2004, -7.5623, -5.8357, -6.4108, -5.6931, -5.7219, -4.3577, -6.4847, -5.2926, -4.7175, -6.0999, -5.2208, -4.3257, -4.3432, -5.9472, -5.4578, -5.8976, -3.2531, -3.9359, -3.169, -5.7967, -4.2111, -4.3412, -4.5952, -4.4942, -5.5074, -5.1472, -5.0574, -4.6468, -5.0286, -5.1411, -5.1504, -4.9962, -5.047, -3.6517, -2.7555, -3.6902, -7.6027, -7.9534, -5.0439, -8.1945, -6.6406, -8.4114, -8.4114, -8.498, -2.2564, -7.5846, -8.5929, -8.5929, -8.5929, -8.6977, -8.6977, -8.6977, -8.6977, -8.8148, -8.8148, -8.8193, -8.0795, -8.1313, -8.9474, -8.9474, -8.9474, -8.9474, -8.1949, -5.3444, -2.0765, -8.4662, -3.1279, -6.2069, -4.8327, -6.7725, -4.052, -4.8045, -5.6812, -6.7343, -7.0468, -7.1106, -7.3974, -6.5203, -7.0078, -7.0564, -6.9649, -6.4027, -7.2405, -7.1245, -6.7018, -6.0126, -6.8594, -6.3536, -6.1514, -5.2938, -5.7716, -5.8271, -5.2423, -3.1716, -4.1568, -3.6741, -3.6736, -5.1083, -5.2241, -4.4152, -4.6209, -4.7868, -5.4337, -5.2193, -5.0759, -5.4851, -5.6893, -5.3474, -5.4041, -5.4946, -5.6101, -2.3979, -2.5477, -4.9602, -5.9237, -6.4462, -6.6602, -6.4987, -6.754, -6.9135, -4.2228, -7.4967, -7.5317, -7.6095, -7.7724, -5.34, -7.7385, -7.9725, -6.7134, -8.0295, -8.0295, -8.09, -8.09, -8.09, -6.4685, -8.223, -8.223, -7.3226, -8.2998, -8.3766, -6.2715, -4.3735, -3.2919, -4.3209, -6.6877, -5.353, -7.0786, -5.7719, -7.101, -6.683, -5.2818, -4.0523, -4.0323, -5.8829, -5.1411, -4.8326, -6.5338, -4.8238, -6.2517, -3.4906, -4.9272, -4.7404, -6.129, -5.6817, -5.4568, -4.0224, -5.5598, -5.1062, -5.8565, -5.8449, -3.6815, -4.3922, -4.5914, -5.4868, -4.7992, -5.0846, -4.9489, -4.9144, -4.6384, -5.4039, -5.2517, -5.3826, -1.7801, -4.5804, -7.2949, -7.2682, -6.0007, -7.6019, -7.608, -7.7759, -4.661, -7.9296, -8.1801, -8.254, -4.7854, -5.7404, -8.4203, -8.5152, -5.7552, -7.0696, -8.62, -5.1876, -8.8697, -8.8697, -8.8697, -7.9593, -7.9088, -9.0227, -6.6905, -8.3337, -7.6611, -7.6999, -3.8064, -6.5254, -4.8859, -6.5782, -4.9561, -3.9549, -3.8293, -3.6332, -6.4451, -5.6915, -6.0879, -3.8183, -6.8224, -5.8228, -5.7479, -4.632, -2.9065, -5.5941, -3.6675, -3.8331, -4.3484, -5.9945, -4.052, -3.8066, -3.8848, -4.7789, -3.5032, -4.9572, -5.0631, -5.2527, -4.6884, -4.449, -4.5253, -4.5178, -5.1402, -4.8383, -4.4917, -4.6725, -4.9239, -5.2646, -5.191, -5.835, -6.3668, -5.6593, -6.8654, -6.9904, -7.2133, -7.1874, -7.2444, -4.1214, -7.6612, -8.0225, -7.256, -7.5051, -8.3105, -8.1177, -8.5955, -8.5955, -4.0858, -7.2105, -7.9706, -5.3413, -7.1363, -8.8452, -8.8452, -8.8452, -8.1556, -8.4468, -7.2221, -4.813, -6.184, -7.0761, -2.9996, -3.9224, -7.2985, -4.7058, -5.4324, -4.0985, -2.6342, -5.3904, -4.7934, -4.1522, -3.9875, -4.6625, -5.7123, -2.8509, -5.9991, -6.5113, -4.8046, -2.3951, -3.0377, -5.3709, -5.1974, -4.8576, -4.9901, -2.9759, -5.5451, -3.9785, -4.657, -4.1485, -4.7927, -5.1058, -4.5658, -4.4637, -4.7859, -4.4476, -5.034, -5.1628, -5.0436, -2.8777, -5.6631, -1.5522, -6.7566, -5.6717, -7.1518, -5.7202, -7.5041, -7.7172, -7.7659, -7.0822, -8.275, -8.5613, -6.5185, -6.467, -8.6784, -8.0538, -8.8111, -8.8119, -8.1215, -8.9641, -8.9641, -5.9093, -8.3617, -7.9365, -8.3708, -9.1447, -9.1447, -9.1447, -5.3677, -6.6045, -6.7172, -6.5074, -5.3483, -2.1445, -6.1911, -4.143, -4.2498, -7.1953, -6.8058, -4.1799, -6.3175, -5.1133, -5.4192, -4.6163, -4.3909, -4.2924, -5.5517, -3.3128, -4.4521, -3.3391, -5.1394, -4.591, -5.1272, -5.8489, -5.144, -5.7397, -5.4191, -4.5343, -3.9716, -4.2731, -5.447, -5.2295, -5.5376, -5.4419, -1.4315, -4.5646, -6.7293, -6.7663, -6.9986, -7.0474, -6.6377, -7.2702, -5.3501, -7.7904, -2.938, -8.0949, -8.1687, -7.9772, -6.2571, -8.2484, -8.2484, -6.0638, -8.5347, -8.6553, -8.4591, -7.8121, -8.7845, -8.7845, -8.7845, -8.7866, -3.515, -8.9374, -8.9374, -8.9374, -2.035, -8.1219, -5.3021, -5.8992, -6.0277, -4.7829, -7.4115, -6.9123, -6.8437, -5.5597, -4.6039, -3.1886, -6.6, -7.2401, -6.7317, -6.4481, -4.4269, -6.1384, -6.2742, -6.0457, -5.1215, -5.7993, -5.3899, -3.128, -4.0096, -5.3395, -4.6923, -4.0023, -5.69, -5.9603, -5.352, -5.7175, -5.5849, -5.3362, -5.3493, -4.9929, -5.4412, -5.2276, -5.5511, -5.6442, -5.6095], \"loglift\": [30.0, 29.0, 28.0, 27.0, 26.0, 25.0, 24.0, 23.0, 22.0, 21.0, 20.0, 19.0, 18.0, 17.0, 16.0, 15.0, 14.0, 13.0, 12.0, 11.0, 10.0, 9.0, 8.0, 7.0, 6.0, 5.0, 4.0, 3.0, 2.0, 1.0, 2.2669, 2.2642, 2.2555, 2.2512, 2.249, 2.249, 2.2478, 2.2454, 2.244, 2.2432, 2.2423, 2.2414, 2.2405, 2.2395, 2.2392, 2.2361, 2.2347, 2.2347, 2.2334, 2.2301, 2.2273, 2.2241, 2.224, 2.2227, 2.2217, 2.2203, 2.219, 2.219, 2.217, 2.216, 2.1989, 2.076, 2.1401, 2.1738, 2.1478, 2.1505, 2.1606, 2.0557, 2.0515, 2.0871, 1.9598, 1.9395, 1.7157, 1.9575, 1.9091, 1.9224, 1.928, 1.9984, 2.0379, 2.0567, 1.4285, 2.0301, 1.1555, 0.9799, 1.6096, 1.524, 1.8883, 1.4041, 1.7706, 0.952, 1.7068, 0.9098, 0.9408, 1.1511, 0.9998, 1.3022, 0.744, 1.2025, 0.7208, 1.1981, 0.5507, -0.1761, 0.6991, 0.267, 0.8614, 0.4507, -1.185, 0.0606, 0.0885, 0.0226, -0.102, 0.0101, -0.4324, 0.0272, 0.0759, 2.5648, 2.5376, 2.5317, 2.4945, 2.4945, 2.4945, 2.4819, 2.4791, 2.4791, 2.4791, 2.4791, 2.4791, 2.4589, 2.4399, 2.4387, 2.4313, 2.4313, 2.4313, 2.4313, 2.4313, 2.4122, 2.4068, 2.3915, 2.3915, 2.3915, 2.3915, 2.3915, 2.3915, 2.3915, 2.3915, 2.3852, 2.3673, 2.2564, 2.3786, 2.3797, 2.3258, 2.3378, 2.2621, 2.2507, 2.1496, 1.6296, 1.9584, 1.4807, 1.8258, 2.2209, 2.0555, 1.6816, 1.4144, 1.5874, 2.1663, 0.6162, 1.2939, 0.9348, 1.6987, 0.4239, 1.2131, 0.711, 0.3735, 0.6681, 0.7118, 0.5792, 0.4335, 1.0955, 0.4579, 1.7321, 1.2568, 0.6586, 0.504, 0.1235, -0.3195, 0.2925, 0.4135, -0.0201, -0.1259, -0.2755, -0.286, 0.1143, -0.8588, -0.9134, -0.999, 2.7687, 2.7641, 2.764, 2.7629, 2.7628, 2.7624, 2.7514, 2.7475, 2.7459, 2.7451, 2.7444, 2.7441, 2.7375, 2.7341, 2.7339, 2.7322, 2.7293, 2.726, 2.7193, 2.718, 2.7166, 2.7156, 2.7136, 2.7064, 2.702, 2.697, 2.697, 2.6949, 2.6912, 2.6886, 2.6834, 2.6314, 2.677, 2.6429, 2.6097, 2.53, 2.568, 2.561, 2.6224, 2.5467, 2.4026, 2.6188, 2.6151, 2.4603, 1.977, 2.4645, 2.1876, 2.5464, 2.3539, 1.7679, 1.7305, 2.2332, 1.8473, 1.9906, 1.9418, 1.3306, 0.9559, 1.3077, 0.8628, 1.1034, 0.4527, -0.6399, 0.3359, 0.1044, 0.8751, -1.1326, 0.8647, 2.8833, 2.8743, 2.8673, 2.8365, 2.8306, 2.8306, 2.8185, 2.8054, 2.8054, 2.793, 2.7889, 2.7831, 2.779, 2.7774, 2.7774, 2.7774, 2.7569, 2.7569, 2.7569, 2.7569, 2.756, 2.7522, 2.7416, 2.7408, 2.729, 2.729, 2.729, 2.729, 2.729, 2.729, 2.7248, 2.7126, 2.6444, 2.5972, 2.6581, 2.2456, 2.0177, 2.0855, 2.1986, 2.4199, 2.5748, 2.3484, 1.9888, 2.3382, 1.8942, 2.0598, 0.9252, 0.3587, 2.1758, 1.5195, 0.366, 0.6162, 0.6575, 2.1468, 2.2158, 0.4689, 0.4077, 1.7651, 0.8596, -0.0108, 0.058, -0.0889, 0.3829, -0.0811, -0.0277, 0.6463, 0.1899, 0.983, 0.5107, 0.5248, -0.6898, 0.247, -0.8158, -0.7953, -0.4158, -1.343, 2.9483, 2.9466, 2.9396, 2.9263, 2.9252, 2.9239, 2.9222, 2.9066, 2.9039, 2.8881, 2.8828, 2.8803, 2.8778, 2.8778, 2.872, 2.8573, 2.8475, 2.8475, 2.8475, 2.8468, 2.8414, 2.8399, 2.8394, 2.8367, 2.8355, 2.8258, 2.8203, 2.8031, 2.8004, 2.8004, 2.7993, 2.7956, 2.7492, 2.689, 2.6561, 2.6539, 2.7605, 2.7768, 2.6159, 2.3803, 2.4887, 2.5593, 2.6521, 2.2643, 2.6743, 2.3381, 2.354, 2.1676, 2.4388, 2.568, 1.5988, 2.2864, 1.9998, 2.1247, 2.4097, 1.8351, 0.9168, 1.341, 0.8516, 1.3161, 0.4588, 1.4181, -0.2654, 0.6561, 0.8277, -0.1851, 0.9724, 0.0522, 0.2987, -0.1836, -0.1774, 2.9499, 2.9481, 2.941, 2.9382, 2.9367, 2.936, 2.9345, 2.9274, 2.9243, 2.9146, 2.913, 2.9007, 2.9, 2.8934, 2.8885, 2.8859, 2.8756, 2.8756, 2.869, 2.8681, 2.8581, 2.8518, 2.8518, 2.8411, 2.8402, 2.8402, 2.8382, 2.8361, 2.8289, 2.8254, 2.788, 2.7791, 2.8014, 2.7385, 2.7777, 2.6845, 2.7501, 2.7032, 2.6406, 2.5167, 2.4026, 2.3865, 2.1082, 2.5203, 2.6983, 1.6454, 2.3474, 1.7152, 2.4089, 1.711, 0.3541, 1.0926, 1.4353, 0.2821, 1.0321, 0.8011, 1.7394, 0.6057, 0.5022, -0.5763, -0.4487, 0.6335, -0.1124, 1.2814, -0.1707, -0.0316, 3.0009, 2.9825, 2.9816, 2.9814, 2.9812, 2.9791, 2.979, 2.9774, 2.9764, 2.9749, 2.9741, 2.9722, 2.971, 2.9681, 2.9668, 2.9617, 2.9597, 2.9457, 2.9421, 2.938, 2.938, 2.9361, 2.9337, 2.9333, 2.9333, 2.9331, 2.9285, 2.9263, 2.9244, 2.9214, 2.9083, 2.8581, 2.895, 2.8742, 2.7291, 2.8699, 2.8546, 2.8833, 2.8769, 2.4649, 2.7509, 2.7776, 2.4754, 2.76, 2.7161, 2.6043, 2.8152, 2.397, 2.2628, 1.3939, 2.4692, 1.8745, 2.1606, 2.5468, 2.0956, 1.7221, 1.539, 0.9601, -0.1195, 1.1392, 0.7944, 0.3962, 1.2773, 1.2933, -0.0197, 0.1874, 0.2274, 1.1293, 0.1139, -0.9482, -0.1537, 0.1735, -0.1421, -0.0077, 3.0399, 3.0387, 3.0378, 3.0361, 3.0332, 3.0297, 3.0281, 3.024, 3.0145, 3.0093, 3.0057, 2.9911, 2.9888, 2.9868, 2.9836, 2.9784, 2.9746, 2.9698, 2.9578, 2.9564, 2.9557, 2.9533, 2.9497, 2.9283, 2.9283, 2.9213, 2.9163, 2.9134, 2.9134, 2.9134, 2.8869, 2.8776, 2.8881, 2.8292, 2.8988, 2.8082, 2.8034, 2.6742, 2.7241, 2.6357, 2.6792, 2.178, 2.4468, 2.5496, 1.4751, 2.1318, 2.1652, 1.2082, 2.4539, 2.264, 1.643, -0.5316, 1.8459, -0.2182, 0.5686, -1.1056, 0.4994, -0.7674, -0.1045, -1.6091, 0.1855, 0.4238, 0.7213, 0.8134, -0.975, 3.0492, 3.0489, 3.0475, 3.041, 3.0332, 3.0289, 3.0259, 3.0131, 3.0063, 3.0056, 3.0039, 3.0015, 3.0015, 2.9955, 2.9955, 2.9955, 2.9915, 2.9886, 2.988, 2.9832, 2.9829, 2.9814, 2.9777, 2.9777, 2.9764, 2.9742, 2.9714, 2.9714, 2.9638, 2.9638, 2.955, 2.9241, 2.9162, 2.9198, 2.8528, 2.917, 2.8644, 2.9517, 2.7347, 2.9001, 2.2242, 2.7538, 2.7967, 2.8639, 2.7068, 2.7729, 2.8667, 2.5805, 1.7142, 2.6469, 2.5753, 1.5978, 2.3744, 2.5579, 1.8966, 2.4221, 1.6705, 1.0637, -0.1266, 1.03, 1.986, 0.5987, 0.4686, 1.8022, 1.9326, 0.9638, 0.5371, 0.9103, 1.1197, -0.019, 1.7588, 0.3407, 0.6523, 0.2309, -0.2557, -0.1182, -1.4664, -1.0581, 0.6581, -0.1852, 0.0061, 3.0742, 3.0626, 3.0514, 3.0482, 3.0482, 3.041, 3.041, 3.0396, 3.0391, 3.0364, 3.0345, 3.0282, 3.0242, 3.0227, 3.0157, 3.0116, 3.0115, 3.0075, 3.0012, 2.9946, 2.9921, 2.9918, 2.9898, 2.9813, 2.9774, 2.9774, 2.9733, 2.9695, 2.9657, 2.9586, 2.9425, 2.9152, 2.8412, 2.6115, 2.853, 2.707, 2.7379, 2.7542, 2.9084, 2.6026, 2.8687, 2.3771, 2.7464, 2.4711, 2.6846, 2.2276, 1.804, 2.6581, 2.2264, 2.1484, 1.7065, 2.0011, 2.1575, 1.8425, 1.4077, 0.6192, 0.6943, 0.8042, 0.574, 1.4132, 0.6177, 1.6202, -0.4868, -0.925, 0.3017, 0.2715, 0.373, 0.1794, 0.2405, 0.7979, 0.1253, -0.0347, -1.117, 3.098, 3.0978, 3.0952, 3.0933, 3.0926, 3.0915, 3.0909, 3.0867, 3.0831, 3.0752, 3.0636, 3.0501, 3.0438, 3.0351, 3.0325, 3.0284, 3.0181, 3.0173, 3.0153, 3.0153, 3.0074, 2.9975, 2.9965, 2.9864, 2.986, 2.986, 2.9719, 2.971, 2.9514, 2.9514, 2.9316, 2.9318, 2.9215, 2.8889, 2.8062, 2.6952, 2.8826, 2.6749, 2.598, 2.3297, 2.3665, 2.6344, 2.533, 2.7456, 1.9186, 2.3257, 1.4407, 2.1049, 2.0179, 1.6106, 0.5155, 0.197, 1.5873, 0.6245, 1.1665, -1.0445, 0.9081, 0.2446, 1.786, 0.1274, 0.8588, -1.8506, 0.3068, -0.7949, 3.1035, 3.0948, 3.0938, 3.0907, 3.0905, 3.0848, 3.0773, 3.0736, 3.0518, 3.0516, 3.0502, 3.0468, 3.0468, 3.0415, 3.0215, 3.0134, 2.9971, 2.992, 2.9796, 2.9769, 2.9769, 2.9743, 2.9732, 2.97, 2.9663, 2.9657, 2.9572, 2.9572, 2.9572, 2.9562, 2.9456, 2.9157, 2.8965, 2.8993, 2.9105, 2.8196, 2.6949, 2.8173, 2.8045, 2.4296, 2.783, 2.5993, 2.513, 2.8494, 2.629, 2.5628, 2.1219, 1.8518, 2.3143, 2.353, 0.6979, 0.3012, 0.9998, 2.3813, 0.6467, 0.757, 0.5517, 0.4963, 1.9286, 0.2728, 0.1069, -0.0297, -0.2515, -0.1701, 0.8397, 0.099, 0.9757, -0.4203, 0.5163, -0.3191, 0.2323, 3.1082, 3.1078, 3.1078, 3.1074, 3.1022, 3.0962, 3.0941, 3.0941, 3.093, 3.0927, 3.0902, 3.0862, 3.086, 3.082, 3.0768, 3.0727, 3.0703, 3.0473, 3.0472, 3.0357, 3.0341, 3.0307, 3.0239, 3.0113, 3.0113, 3.0113, 3.0113, 3.0061, 2.9997, 2.9997, 2.9953, 2.9946, 2.9821, 2.911, 2.9453, 2.947, 2.9028, 2.9651, 2.8097, 2.8835, 2.8707, 2.911, 2.67, 2.8789, 2.4846, 2.7563, 2.5792, 2.6794, 1.8397, 2.5325, 1.4705, 2.2857, 1.9858, 1.9995, 1.6631, 1.757, 2.5264, 1.7488, 0.9255, 0.8929, 0.2091, 1.1587, 1.7748, -0.2537, 0.6611, 0.4102, 1.3974, -1.2776, 0.0273, 0.8912, -0.006, 3.1307, 3.1281, 3.1227, 3.1203, 3.1119, 3.1083, 3.1061, 3.1012, 3.0891, 3.0854, 3.0841, 3.0838, 3.0817, 3.0809, 3.0778, 3.0778, 3.0742, 3.0742, 3.0742, 3.0742, 3.0742, 3.0701, 3.0684, 3.0678, 3.0654, 3.0654, 3.0599, 3.0599, 3.0592, 3.0581, 3.0394, 3.0018, 3.0074, 3.0452, 3.0372, 2.9489, 2.9015, 2.9423, 3.0338, 2.8822, 3.0009, 3.0008, 3.0247, 2.83, 2.8893, 2.7581, 2.7621, 2.5348, 2.8552, 2.5902, 2.4249, 2.7605, 2.5247, 2.1927, 2.171, 2.6617, 2.4848, 2.4634, 0.7358, 0.9771, 0.1635, 2.3472, 0.8592, 0.6857, 0.3714, 0.2018, 1.8131, 1.0503, 0.665, -0.6716, 0.463, 0.0097, -0.023, -1.9997, -1.7518, 3.1764, 3.1725, 3.1614, 3.1432, 3.1291, 3.1253, 3.1114, 3.1062, 3.1019, 3.1019, 3.0953, 3.0947, 3.0906, 3.0875, 3.0875, 3.0875, 3.078, 3.078, 3.078, 3.078, 3.0663, 3.0663, 3.062, 3.0546, 3.0544, 3.0515, 3.0515, 3.0515, 3.0515, 3.0507, 3.0349, 2.9967, 3.0479, 2.959, 3.0152, 2.9078, 2.9841, 2.8543, 2.8611, 2.8911, 2.951, 2.915, 2.9149, 2.9438, 2.7872, 2.8579, 2.8507, 2.8285, 2.6254, 2.8257, 2.7937, 2.6682, 2.3968, 2.6857, 2.4711, 2.3654, 1.9188, 2.0008, 2.0216, 1.6026, 0.1609, 0.7561, 0.3148, 0.1707, 1.1803, 1.2128, 0.278, 0.5088, 0.4399, 1.1979, 0.7744, 0.4158, 1.1375, 1.462, 0.16, -0.1478, 0.1559, 0.5016, 3.1869, 3.1859, 3.1845, 3.1805, 3.176, 3.1734, 3.1724, 3.1721, 3.1695, 3.1638, 3.1558, 3.1547, 3.1484, 3.1461, 3.1383, 3.1377, 3.1372, 3.135, 3.1343, 3.1343, 3.1311, 3.1311, 3.1311, 3.1303, 3.1234, 3.1234, 3.1199, 3.1159, 3.1132, 3.111, 3.1025, 3.0667, 3.025, 3.0741, 3.0025, 3.083, 3.012, 3.0812, 3.0533, 2.9583, 2.7755, 2.7622, 2.9518, 2.8399, 2.7972, 3.015, 2.7733, 2.972, 2.3356, 2.6283, 2.367, 2.8753, 2.6286, 2.4109, 1.4278, 2.384, 1.8864, 2.5649, 2.49, -0.349, 0.5743, 0.1018, 1.7972, 0.0201, 0.5659, -0.036, -0.3487, -1.642, 1.3774, -1.2628, -0.2515, 3.2312, 3.2298, 3.2048, 3.2033, 3.2023, 3.1953, 3.1893, 3.1886, 3.186, 3.1816, 3.1678, 3.1631, 3.1625, 3.1578, 3.1512, 3.1436, 3.1406, 3.1368, 3.1343, 3.1342, 3.1083, 3.1083, 3.1083, 3.1065, 3.1045, 3.0893, 3.088, 3.0833, 3.0653, 3.0636, 3.0387, 3.0414, 3.0069, 3.0165, 2.9279, 2.8535, 2.7841, 2.7368, 2.9499, 2.8284, 2.8547, 2.4242, 2.9174, 2.7109, 2.6373, 2.3437, 1.7868, 2.5589, 1.8938, 1.6865, 1.8673, 2.6095, 1.3885, 1.1975, 0.9345, 1.5151, 0.3411, 1.6508, 1.7182, 1.9252, 1.034, 0.5176, 0.6415, 0.509, 1.5207, 0.522, -1.4953, -0.6836, -0.2279, 3.282, 3.2798, 3.2791, 3.2745, 3.2716, 3.2672, 3.2648, 3.2596, 3.2589, 3.2559, 3.2516, 3.2446, 3.228, 3.2169, 3.2112, 3.2081, 3.1936, 3.1855, 3.1855, 3.1846, 3.1822, 3.1668, 3.1622, 3.1605, 3.1588, 3.1588, 3.1588, 3.1541, 3.1536, 3.147, 3.1021, 3.12, 3.1318, 3.0416, 2.9913, 3.1204, 2.9737, 2.9772, 2.8277, 2.658, 2.9049, 2.8285, 2.7317, 2.6385, 2.6616, 2.8704, 2.2234, 2.9058, 3.0117, 2.4887, 1.4492, 1.6556, 2.4607, 2.3684, 2.135, 2.1797, 0.3193, 2.5037, 0.7792, 1.5405, 0.8783, 1.5403, 2.0015, 0.3471, -0.4748, 0.7215, -1.4512, -1.0589, -0.0896, 3.294, 3.2893, 3.2864, 3.285, 3.2795, 3.2722, 3.2722, 3.2654, 3.2619, 3.2537, 3.2515, 3.2423, 3.2225, 3.199, 3.1984, 3.1897, 3.1875, 3.1795, 3.1729, 3.1721, 3.1671, 3.1538, 3.1538, 3.1478, 3.1346, 3.1309, 3.1282, 3.1277, 3.1277, 3.1277, 3.1155, 3.1273, 3.1253, 3.1159, 3.085, 2.9731, 3.0762, 3.005, 3.0061, 3.1065, 3.0702, 2.8859, 3.0281, 2.9125, 2.8677, 2.535, 2.4336, 2.3951, 2.6101, 1.8146, 1.9384, 1.2266, 2.1286, 1.7421, 2.072, 2.56, 1.7105, 2.2343, 1.7591, 0.314, -0.6764, -0.298, 1.1138, -1.897, 1.2338, -0.3715, 3.3335, 3.3308, 3.3167, 3.3161, 3.3116, 3.3105, 3.3071, 3.3048, 3.2882, 3.2855, 3.2834, 3.2688, 3.264, 3.2621, 3.2587, 3.2585, 3.2585, 3.2374, 3.2347, 3.2197, 3.2152, 3.2138, 3.2083, 3.2083, 3.2083, 3.2063, 3.2047, 3.189, 3.189, 3.189, 3.1229, 3.1758, 3.1022, 3.0811, 3.0689, 2.9833, 3.132, 3.0773, 3.0549, 2.9251, 2.8049, 2.5338, 2.967, 3.0714, 2.9466, 2.8525, 2.1788, 2.6905, 2.7353, 2.5922, 1.9015, 2.3182, 1.9781, 0.2045, 0.5561, 1.553, 0.8151, -0.0271, 1.9009, 2.1888, 0.944, 1.3303, 0.949, -0.2194, -0.3224, -1.9964, -0.3709, -1.9324, 0.0993, -0.4934, -1.7653]}, \"token.table\": {\"Topic\": [1, 2, 3, 4, 5, 6, 7, 8, 9, 10, 12, 13, 14, 15, 16, 17, 18, 19, 20, 11, 15, 18, 3, 5, 7, 11, 16, 18, 1, 3, 5, 6, 8, 12, 14, 19, 20, 3, 1, 3, 4, 5, 8, 9, 13, 14, 15, 18, 1, 4, 7, 8, 11, 13, 19, 1, 11, 13, 14, 16, 18, 4, 1, 3, 4, 7, 9, 10, 1, 2, 3, 6, 7, 8, 9, 10, 11, 12, 13, 14, 15, 16, 17, 18, 20, 1, 2, 3, 4, 5, 6, 7, 8, 9, 10, 11, 12, 13, 14, 15, 16, 17, 18, 19, 20, 1, 2, 3, 4, 5, 6, 7, 8, 9, 10, 11, 12, 13, 14, 15, 16, 17, 18, 19, 20, 10, 12, 14, 1, 16, 7, 1, 2, 3, 5, 7, 9, 17, 19, 7, 1, 2, 3, 4, 5, 6, 7, 8, 9, 11, 12, 14, 15, 16, 17, 18, 20, 5, 7, 14, 11, 14, 16, 19, 14, 16, 2, 7, 1, 2, 9, 16, 7, 4, 6, 8, 1, 3, 7, 10, 14, 17, 18, 8, 2, 3, 15, 19, 20, 20, 1, 9, 15, 1, 3, 4, 6, 7, 8, 9, 10, 12, 13, 14, 15, 16, 18, 19, 20, 7, 17, 1, 4, 6, 11, 19, 1, 2, 3, 4, 5, 6, 8, 9, 10, 11, 12, 13, 14, 15, 16, 18, 19, 20, 19, 4, 6, 6, 20, 4, 7, 12, 16, 7, 9, 10, 19, 4, 5, 11, 12, 1, 3, 4, 6, 7, 8, 9, 12, 15, 16, 19, 20, 14, 10, 12, 18, 19, 5, 11, 12, 16, 19, 20, 8, 19, 4, 12, 16, 6, 7, 8, 9, 13, 15, 16, 19, 1, 9, 6, 7, 9, 11, 14, 17, 18, 8, 1, 10, 1, 7, 9, 10, 11, 12, 13, 16, 17, 19, 20, 8, 1, 4, 10, 14, 17, 1, 2, 3, 4, 5, 6, 7, 8, 9, 10, 11, 12, 13, 14, 15, 16, 17, 18, 19, 20, 1, 2, 3, 4, 5, 6, 7, 8, 9, 10, 11, 12, 13, 14, 15, 16, 17, 18, 19, 11, 19, 20, 1, 2, 3, 6, 7, 8, 9, 13, 18, 1, 2, 3, 6, 7, 8, 9, 10, 11, 13, 14, 15, 16, 17, 18, 1, 2, 8, 16, 5, 9, 13, 14, 16, 12, 14, 15, 1, 3, 5, 9, 11, 12, 14, 16, 17, 18, 19, 20, 1, 4, 5, 6, 8, 9, 11, 13, 14, 16, 17, 18, 19, 20, 14, 15, 1, 9, 1, 3, 7, 8, 9, 10, 7, 13, 18, 1, 2, 3, 4, 5, 6, 7, 8, 9, 10, 11, 12, 13, 14, 15, 16, 17, 18, 19, 20, 18, 1, 2, 3, 4, 5, 6, 7, 8, 9, 10, 11, 12, 13, 14, 15, 16, 17, 18, 19, 20, 11, 16, 7, 9, 11, 12, 13, 16, 18, 12, 14, 7, 9, 11, 12, 16, 15, 16, 7, 11, 4, 1, 3, 4, 7, 10, 11, 15, 16, 16, 18, 11, 12, 9, 15, 1, 2, 5, 9, 13, 17, 19, 20, 1, 2, 3, 5, 14, 8, 4, 5, 8, 16, 18, 2, 7, 18, 1, 3, 9, 13, 14, 16, 17, 12, 15, 1, 2, 5, 9, 14, 15, 16, 3, 7, 8, 16, 19, 14, 18, 12, 4, 7, 15, 3, 6, 7, 11, 17, 5, 1, 3, 4, 5, 6, 10, 14, 15, 17, 1, 6, 8, 15, 16, 6, 7, 11, 6, 8, 16, 8, 1, 2, 8, 10, 13, 14, 11, 6, 9, 10, 13, 14, 16, 11, 1, 3, 7, 9, 15, 17, 1, 3, 9, 13, 1, 4, 12, 7, 1, 2, 4, 5, 6, 7, 8, 9, 10, 12, 13, 14, 15, 19, 20, 6, 17, 19, 8, 15, 20, 7, 14, 7, 8, 9, 16, 20, 8, 12, 9, 2, 10, 1, 8, 9, 1, 2, 3, 4, 5, 6, 7, 8, 9, 10, 11, 13, 14, 15, 16, 17, 19, 20, 1, 2, 3, 5, 6, 7, 8, 9, 10, 12, 13, 14, 15, 16, 17, 18, 19, 20, 7, 8, 9, 19, 20, 7, 16, 20, 4, 4, 11, 1, 2, 3, 4, 5, 6, 7, 8, 9, 10, 11, 13, 14, 15, 16, 17, 18, 20, 6, 9, 14, 15, 20, 6, 18, 1, 2, 4, 8, 10, 11, 12, 13, 15, 16, 19, 8, 16, 1, 2, 3, 4, 7, 8, 10, 12, 15, 16, 17, 19, 6, 20, 1, 8, 16, 19, 16, 5, 6, 7, 8, 9, 10, 13, 15, 16, 18, 19, 20, 7, 9, 15, 16, 19, 1, 2, 3, 5, 7, 9, 11, 12, 13, 14, 15, 16, 17, 19, 20, 11, 15, 1, 2, 3, 4, 5, 7, 8, 9, 10, 11, 12, 13, 16, 17, 19, 20, 5, 1, 2, 3, 4, 5, 6, 7, 8, 9, 10, 11, 12, 13, 14, 15, 16, 17, 18, 19, 20, 1, 3, 5, 6, 7, 8, 9, 10, 13, 14, 16, 17, 19, 1, 2, 3, 4, 5, 6, 7, 8, 9, 10, 11, 12, 13, 14, 15, 16, 17, 19, 20, 2, 14, 20, 13, 4, 6, 1, 2, 4, 6, 9, 14, 15, 16, 19, 1, 2, 7, 8, 9, 12, 13, 14, 15, 16, 18, 20, 2, 7, 11, 4, 12, 2, 3, 5, 7, 8, 9, 11, 12, 15, 17, 7, 1, 2, 3, 4, 5, 6, 7, 8, 9, 10, 11, 12, 13, 14, 15, 16, 17, 18, 19, 20, 3, 5, 6, 7, 8, 9, 11, 12, 13, 16, 17, 19, 20, 2, 13, 1, 6, 7, 14, 2, 5, 11, 2, 1, 3, 4, 5, 6, 7, 8, 9, 10, 11, 13, 14, 16, 17, 18, 20, 1, 3, 4, 10, 14, 15, 16, 17, 20, 1, 4, 6, 7, 8, 9, 10, 12, 13, 14, 15, 17, 18, 19, 20, 9, 10, 13, 14, 1, 19, 2, 5, 9, 15, 20, 1, 3, 4, 5, 9, 17, 1, 4, 5, 6, 7, 8, 9, 10, 14, 13, 1, 2, 4, 6, 9, 10, 14, 19, 6, 9, 15, 4, 7, 20, 1, 2, 3, 4, 5, 7, 9, 10, 11, 12, 13, 14, 16, 18, 19, 20, 9, 11, 6, 7, 11, 12, 13, 14, 16, 19, 20, 12, 8, 18, 1, 8, 13, 15, 6, 8, 10, 12, 13, 15, 19, 1, 4, 15, 16, 14, 13, 8, 10, 19, 18, 19, 14, 10, 20, 1, 2, 3, 4, 5, 6, 7, 8, 9, 10, 11, 12, 13, 14, 15, 16, 17, 18, 19, 20, 8, 1, 2, 11, 14, 15, 4, 17, 12, 11, 16, 1, 6, 9, 1, 3, 14, 10, 14, 15, 17, 6, 8, 11, 12, 1, 2, 7, 8, 9, 10, 11, 12, 14, 17, 20, 1, 9, 11, 16, 20, 9, 14, 2, 1, 2, 3, 4, 5, 6, 7, 8, 9, 10, 11, 12, 13, 15, 16, 17, 18, 19, 20, 7, 9, 2, 12, 13, 14, 19, 1, 9, 11, 12, 16, 19, 9, 12, 15, 1, 2, 4, 5, 6, 7, 8, 9, 10, 11, 12, 13, 14, 15, 16, 17, 18, 19, 20, 1, 5, 6, 9, 12, 13, 16, 12, 15, 16, 3, 5, 16, 19, 9, 12, 6, 1, 3, 10, 17, 1, 9, 16, 11, 17, 20, 5, 20, 8, 2, 15, 7, 12, 1, 2, 3, 4, 6, 7, 8, 9, 10, 12, 13, 14, 15, 17, 18, 19, 1, 4, 7, 8, 10, 19, 6, 8, 8, 17, 1, 2, 3, 4, 5, 6, 7, 8, 9, 10, 11, 12, 13, 14, 15, 16, 17, 18, 19, 20, 3, 8, 1, 3, 4, 7, 8, 10, 13, 14, 17, 19, 13, 11, 1, 5, 7, 9, 11, 14, 17, 20, 1, 5, 11, 17, 1, 5, 6, 7, 13, 18, 1, 3, 7, 9, 12, 14, 17, 19, 20, 1, 3, 6, 10, 14, 10, 5, 2, 5, 7, 9, 12, 13, 16, 18, 19, 16, 1, 17, 1, 3, 17, 2, 9, 5, 1, 2, 3, 6, 9, 11, 14, 16, 17, 4, 15, 16, 15, 18, 18, 1, 3, 4, 7, 8, 9, 10, 14, 15, 16, 17, 19, 14, 7, 14, 3, 5, 7, 9, 12, 16, 18, 1, 3, 5, 7, 9, 10, 11, 12, 14, 16, 17, 18, 14, 3, 6, 10, 14, 20, 1, 2, 3, 4, 5, 6, 7, 8, 9, 10, 11, 12, 13, 14, 15, 16, 17, 18, 19, 20, 5, 9, 14, 7, 9, 12, 15, 1, 2, 3, 4, 5, 6, 7, 8, 9, 10, 11, 12, 13, 14, 15, 16, 17, 18, 19, 20, 1, 3, 4, 7, 10, 11, 16, 20, 1, 2, 6, 9, 13, 16, 18, 1, 3, 4, 7, 9, 13, 14, 15, 7, 16, 6, 19, 20, 9, 5, 13, 3, 6, 14, 14, 1, 3, 5, 9, 11, 12, 14, 15, 13, 14, 17, 2, 7, 8, 9, 11, 15, 16, 18, 20, 10, 1, 2, 3, 4, 5, 6, 7, 8, 9, 10, 11, 12, 13, 14, 15, 16, 20, 2, 1, 5, 9, 1, 1, 3, 5, 6, 7, 8, 9, 11, 14, 16, 17, 19, 3, 7, 9, 10, 7, 1, 2, 3, 4, 5, 6, 7, 8, 9, 10, 11, 12, 13, 14, 15, 16, 17, 18, 19, 20, 17, 1, 2, 3, 4, 7, 8, 9, 10, 14, 16, 19, 15, 4, 2, 3, 4, 5, 6, 7, 8, 9, 10, 11, 12, 13, 14, 17, 18, 20, 10, 1, 3, 5, 6, 8, 9, 10, 12, 14, 15, 16, 17, 18, 19, 20, 2, 3, 4, 5, 6, 7, 8, 9, 10, 11, 12, 14, 15, 16, 19, 20, 3, 5, 7, 8, 11, 16, 19, 1, 3, 4, 5, 6, 8, 9, 14, 18, 19, 10, 4, 3, 1, 2, 3, 4, 5, 6, 7, 8, 9, 10, 11, 12, 13, 14, 15, 16, 17, 18, 19, 20, 19, 19, 1, 2, 3, 4, 5, 6, 7, 8, 9, 10, 11, 12, 13, 14, 15, 16, 17, 19, 20, 7, 9, 19, 19, 1, 2, 3, 4, 5, 6, 7, 8, 9, 10, 11, 12, 13, 14, 15, 16, 17, 18, 19, 20, 2, 3, 4, 5, 6, 8, 10, 11, 12, 14, 16, 19, 20, 1, 2, 5, 7, 9, 11, 13, 17, 19, 1, 2, 3, 4, 5, 6, 7, 8, 9, 10, 11, 12, 13, 14, 15, 16, 17, 18, 19, 20, 4, 5, 1, 2, 6, 7, 8, 9, 18, 1, 3, 6, 7, 9, 12, 13, 14, 15, 16, 17, 18, 19, 1, 3, 4, 5, 8, 12, 16, 17, 20, 1, 4, 5, 6, 7, 11, 18, 19, 7, 10, 17, 1, 2, 3, 4, 5, 6, 7, 8, 9, 10, 11, 12, 13, 14, 15, 16, 17, 18, 19, 20, 1, 2, 3, 4, 5, 10, 11, 12, 14, 15, 17, 18, 19, 2, 7, 8, 10, 19, 2, 5, 6, 8, 9, 10, 12, 13, 14, 15, 16, 17, 18, 19, 20, 10, 1, 4, 15, 3, 19, 1, 3, 3, 1, 2, 4, 7, 8, 10, 13, 19, 15, 12, 2, 5, 8, 10, 12, 15, 18, 19, 14, 16, 1, 2, 3, 4, 5, 6, 7, 8, 9, 10, 11, 13, 14, 15, 16, 17, 18, 19, 20, 20, 1, 2, 3, 4, 5, 6, 7, 8, 9, 11, 12, 13, 14, 15, 16, 17, 18, 19, 20, 1, 3, 7, 8, 9, 12, 1, 12, 11, 3, 6, 13, 1, 3, 4, 7, 8, 9, 11, 12, 14, 15, 16, 17, 18, 6, 7, 9, 11, 12, 13, 16, 5, 6, 7, 8, 9, 10, 11, 12, 13, 15, 16, 19, 20, 8, 10, 19, 7, 8, 19, 1, 9, 12, 16, 19, 8, 16, 19, 9, 13, 16, 8, 16, 18, 13, 18, 18, 3, 17, 1, 2, 3, 4, 5, 6, 7, 8, 9, 10, 11, 12, 13, 14, 15, 16, 18, 19, 20, 5, 7, 9, 12, 16, 17, 3, 4, 8, 14, 17, 1, 2, 3, 4, 5, 6, 7, 8, 9, 10, 11, 12, 13, 14, 15, 16, 17, 18, 19, 20, 1, 5, 6, 7, 9, 10, 11, 14, 15, 16, 1, 3, 4, 5, 8, 9, 14, 15, 18, 19, 17, 2, 5, 7, 10, 19, 11, 1, 2, 3, 4, 6, 7, 8, 9, 10, 11, 12, 13, 14, 16, 19, 20, 13, 7, 12, 4, 6, 2, 4, 6, 10, 16, 17, 18, 1, 3, 6, 7, 14, 1, 2, 3, 5, 7, 9, 10, 15, 17, 19, 11, 1, 5, 7, 8, 12, 15, 16, 19, 1, 2, 3, 5, 6, 7, 8, 9, 10, 14, 16, 18, 19, 1, 5, 7, 9, 15, 17, 1, 2, 6, 7, 8, 9, 10, 11, 12, 13, 15, 16, 20, 1, 7, 9, 19, 11, 1, 7, 9, 15, 16, 19, 6, 17, 3, 3, 16, 20, 12, 19, 8, 9, 11, 13, 15, 12, 14, 15, 13, 18, 1, 2, 3, 4, 5, 6, 11, 12, 13, 14, 15, 18, 20, 7, 6, 7, 8, 19, 8, 8, 19, 1, 2, 3, 9, 16, 19, 14, 1, 2, 3, 4, 5, 6, 7, 8, 9, 10, 11, 12, 13, 14, 15, 16, 17, 18, 19, 20, 2, 8, 10, 13, 16, 5, 8, 11, 15, 16, 18, 2, 7, 16, 7, 9, 16, 18, 3, 6, 1, 2, 3, 4, 5, 6, 7, 8, 9, 10, 11, 12, 13, 14, 15, 16, 17, 18, 19, 20, 1, 3, 7, 8, 14, 16, 18, 19, 9, 16, 5, 9, 16, 17, 4, 5, 6, 8, 12, 15, 16, 2, 14, 1, 3, 6, 7, 9, 18, 12, 19, 8, 6, 8, 10, 14, 15, 19, 9, 17, 19, 4, 1, 4, 17, 4, 13, 15, 4, 9, 15, 6, 14, 1, 2, 4, 5, 6, 7, 8, 9, 10, 12, 13, 14, 15, 16, 20, 1, 3, 17, 1, 2, 3, 4, 5, 6, 7, 8, 9, 10, 11, 12, 14, 15, 16, 18, 1, 2, 7, 13, 16, 17, 8, 1, 2, 3, 4, 7, 9, 11, 15, 17, 18, 5, 9, 19, 8, 12, 13, 2, 3, 5, 7, 8, 9, 10, 11, 15, 16, 18, 19, 6, 3, 10, 19, 1, 2, 3, 4, 7, 8, 9, 10, 11, 12, 13, 14, 15, 16, 17, 18, 19, 18, 6, 1, 2, 3, 4, 7, 8, 9, 15, 16, 18, 19, 2, 19, 7, 9, 16, 19, 9, 1, 2, 8, 13, 16, 5, 6, 8, 9, 10, 1, 2, 3, 4, 5, 6, 7, 8, 9, 10, 11, 12, 13, 14, 15, 16, 17, 18, 19, 20, 1, 2, 3, 4, 5, 6, 7, 8, 9, 10, 11, 12, 13, 14, 15, 16, 17, 18, 19, 20, 16, 3, 10, 12, 15, 1, 2, 3, 4, 6, 8, 11, 14, 15, 18, 7, 20, 20, 1, 2, 3, 4, 5, 6, 7, 8, 9, 10, 11, 12, 13, 14, 15, 16, 17, 18, 19, 20, 1, 10, 13, 1, 2, 6, 8, 10, 15, 10, 17, 9, 13, 16, 18, 20, 10, 1, 3, 10, 17, 19, 17, 1, 9, 14, 17, 19, 20, 1, 3, 4, 5, 6, 7, 8, 10, 11, 12, 13, 14, 15, 16, 17, 18, 19, 20, 7, 9, 1, 4, 7, 10, 1, 2, 3, 4, 5, 6, 7, 8, 9, 10, 11, 12, 13, 14, 15, 16, 17, 19, 20, 1, 5, 6, 8, 9, 10, 12, 14, 16, 17, 20, 1, 2, 4, 5, 6, 7, 8, 9, 10, 11, 12, 14, 15, 16, 19, 20, 7, 14, 1, 2, 4, 5, 7, 8, 9, 10, 11, 12, 13, 14, 15, 16, 17, 20, 9, 14, 18, 3, 1, 2, 3, 4, 5, 8, 9, 10, 11, 12, 13, 15, 16, 17, 18, 20, 4, 7, 9, 3, 5, 7, 9, 11, 14, 1, 8, 17, 7, 8, 2, 19, 5, 13, 13, 1, 2, 3, 4, 5, 6, 7, 8, 9, 10, 11, 12, 13, 14, 15, 16, 17, 18, 19, 20, 3, 7, 14, 1, 4, 5, 9, 13, 14, 15, 20, 1, 2, 5, 6, 7, 8, 9, 11, 12, 13, 14, 15, 16, 17, 18, 19, 20, 15, 8, 18, 20, 20, 5, 9, 9, 11, 9, 14, 2, 8, 15, 15, 1, 2, 3, 4, 5, 6, 7, 8, 9, 10, 11, 12, 13, 14, 15, 16, 17, 18, 19, 20, 10, 18, 9, 16, 17, 19, 2, 7, 8, 14, 15, 19, 1, 3, 4, 1, 3, 11, 5, 15, 19, 3, 8, 18, 4, 19, 1, 2, 3, 4, 5, 6, 7, 8, 9, 10, 11, 12, 13, 14, 15, 16, 17, 18, 20, 1, 3, 5, 6, 7, 8, 10, 11, 13, 16, 17, 18, 1, 3, 4, 5, 7, 9, 10, 12, 13, 14, 15, 16, 17, 18, 20, 2, 1, 1, 2, 3, 7, 13, 15, 16, 2, 10, 9, 16, 9, 1, 1, 3, 4, 7, 8, 9, 10, 13, 15, 17, 19, 20, 15, 1, 9, 10, 12, 1, 6, 7, 8, 9, 12, 13, 15, 16, 19, 20, 1, 9, 4, 20, 4, 7, 15, 16, 1, 9, 10, 14, 15, 16, 18, 1, 2, 3, 4, 5, 6, 7, 8, 9, 10, 11, 12, 13, 14, 15, 16, 17, 18, 19, 1, 2, 3, 4, 5, 6, 7, 8, 9, 11, 12, 13, 14, 15, 16, 17, 18, 19, 6, 15, 16, 19, 10, 8, 1, 2, 3, 4, 7, 8, 9, 10, 12, 14, 15, 16, 17, 19, 20, 6, 13, 1, 3, 4, 5, 6, 7, 9, 10, 14, 15, 16, 19, 20, 1, 2, 3, 4, 5, 6, 7, 8, 9, 10, 11, 12, 13, 14, 15, 16, 17, 18, 19, 20, 17, 10, 7, 1, 2, 3, 4, 5, 6, 7, 8, 9, 10, 11, 12, 13, 14, 15, 16, 17, 19, 1, 3, 5, 7, 8, 9, 11, 12, 17, 18, 20, 10, 6, 1, 2, 3, 4, 5, 6, 7, 8, 9, 10, 11, 12, 13, 14, 15, 16, 17, 18, 19, 20, 1, 2, 3, 4, 5, 6, 7, 8, 9, 10, 12, 13, 17, 18, 19, 20, 1, 2, 3, 7, 8, 9, 12, 16, 18, 1, 7, 14, 2, 15, 3, 5, 7, 8, 11, 12, 13, 16, 18, 19, 6, 11, 12, 1, 2, 3, 6, 7, 8, 9, 10, 14, 16, 19, 4, 6, 7, 8, 9, 10, 4, 5, 1, 2, 3, 5, 8, 9, 13, 14, 15, 17, 18, 20, 2, 1, 4, 10, 13, 18, 6, 6, 1, 7, 20, 16, 9, 1, 2, 3, 4, 5, 6, 7, 9, 14, 16, 18, 20, 3, 9, 1, 4, 9, 5, 3, 7, 16, 9, 17, 19, 14, 16, 15, 20, 5, 10, 19, 20, 3, 2, 4, 1, 2, 3, 4, 5, 6, 7, 8, 9, 10, 11, 12, 13, 14, 15, 16, 17, 18, 19, 20, 5, 7, 9, 16, 18, 5, 6, 9, 11, 12, 13, 16, 18, 19, 1, 14, 16, 5, 1, 14, 16, 1, 2, 5, 6, 7, 8, 9, 11, 12, 13, 14, 15, 16, 17, 18, 19, 20, 1, 6, 8, 9, 10, 12, 13, 15, 18, 19, 20, 6, 4, 8, 18, 1, 7, 1, 6, 9, 13, 15, 17, 9, 18, 1, 17, 3, 6, 7, 16, 18, 1, 4, 8, 12, 13, 15, 16, 4, 9, 1, 2, 4, 5, 6, 9, 10, 11, 13, 14, 15, 18, 19, 7, 9, 12, 20, 10, 11, 1, 2, 3, 4, 6, 7, 8, 9, 10, 13, 15, 16, 17, 19, 20, 1, 2, 3, 4, 5, 6, 7, 8, 9, 10, 11, 12, 13, 14, 15, 16, 17, 19, 19, 1, 2, 3, 5, 6, 8, 9, 10, 13, 14, 16, 17, 18, 19, 20, 3, 15, 1, 3, 4, 5, 14, 17, 18, 1, 3, 4, 5, 6, 7, 8, 9, 10, 11, 13, 14, 15, 16, 17, 18, 19, 7, 11, 1, 2, 3, 4, 5, 6, 7, 8, 9, 10, 11, 12, 13, 14, 15, 16, 17, 18, 19, 20, 1, 5, 7, 8, 9, 10, 11, 12, 13, 15, 16, 17, 18, 19, 20, 5, 17, 1, 6, 1, 5, 9, 10, 15, 17, 18, 6, 9, 19, 9, 5, 1, 5, 10, 15, 16, 1, 2, 3, 4, 5, 6, 7, 8, 9, 10, 11, 13, 14, 15, 16, 17, 18, 4, 6, 7, 11, 12, 14, 17, 18, 19, 20, 7, 9, 1, 3, 16, 20, 18, 1, 3, 6, 7, 9, 10, 14, 16, 17, 18, 10, 17, 1, 4, 14, 2, 6, 8, 10, 12, 15, 19, 1, 2, 3, 4, 6, 7, 8, 9, 10, 14, 15, 19, 10, 3, 8, 10, 15, 19, 2, 4, 5, 6, 8, 9, 10, 11, 12, 13, 16, 18, 19, 16, 1, 2, 3, 4, 5, 8, 10, 11, 13, 19, 20, 17, 1, 1, 8, 9, 11, 12, 13, 14, 17, 1, 2, 3, 4, 5, 6, 9, 10, 13, 14, 15, 17, 19, 20, 5, 6, 7, 8, 12, 15, 16, 19, 9, 9, 15, 1, 2, 3, 4, 5, 6, 7, 9, 10, 11, 12, 13, 14, 15, 16, 17, 18, 20, 20, 1, 15, 19, 1, 9, 5, 7, 9, 19, 6, 9, 13, 19, 9, 20, 1, 2, 3, 4, 5, 6, 7, 8, 9, 10, 11, 12, 13, 14, 15, 16, 17, 18, 19, 20, 17, 1, 4, 5, 17, 5, 6, 7, 10, 11, 19, 12, 7, 8, 10, 14, 16, 20, 1, 2, 3, 4, 5, 6, 7, 8, 9, 10, 11, 13, 14, 15, 16, 17, 18, 19, 20, 9, 15, 17, 1, 7, 11, 12, 13, 15, 16, 18, 19, 1, 2, 7, 11, 12, 13, 15, 16, 18, 19, 13, 18, 9, 11, 13, 16, 20, 9, 7, 18, 1, 3, 4, 7, 20, 16, 5, 1, 2, 3, 4, 5, 6, 7, 8, 9, 10, 11, 12, 13, 14, 15, 16, 17, 19, 20, 9, 1, 2, 3, 4, 5, 6, 8, 9, 10, 11, 13, 14, 15, 16, 17, 18, 19, 20, 1, 10, 19, 6, 14, 5, 9, 15, 16, 18, 19, 20, 5, 13, 14, 3, 7, 5, 2, 4, 5, 6, 7, 11, 12, 13, 14, 16, 20, 9, 1, 2, 3, 4, 5, 9, 11, 12, 13, 14, 15, 16, 17, 18, 19, 20, 1, 2, 3, 4, 5, 6, 7, 8, 9, 10, 11, 12, 13, 14, 15, 16, 18, 19, 20, 10, 3, 4, 5, 7, 9, 14, 16, 20, 1, 8, 1, 3, 14, 2, 1, 10, 1, 1, 2, 3, 4, 8, 10, 13, 17, 19, 15, 18, 4, 16, 6, 9, 1, 10, 12, 18, 1, 2, 3, 4, 5, 6, 7, 12, 14, 15, 16, 19, 20, 1, 2, 9, 14, 15, 16, 1, 3, 1, 2, 5, 6, 7, 8, 9, 10, 11, 12, 13, 14, 15, 16, 17, 18, 19, 20, 1, 2, 4, 5, 6, 7, 8, 9, 10, 11, 12, 13, 14, 15, 16, 17, 18, 19, 11, 12, 15, 17, 14, 13, 1, 6, 12, 16, 1, 2, 3, 5, 6, 7, 8, 9, 10, 11, 12, 13, 14, 15, 16, 17, 18, 19, 2, 1, 2, 3, 4, 7, 9, 10, 11, 12, 13, 17, 18, 20, 7, 9, 1, 4, 9, 10, 15, 19, 19, 2, 6, 19, 20, 1, 4, 9, 10, 18, 14, 1, 2, 3, 6, 7, 8, 9, 10, 11, 12, 13, 14, 15, 17, 18, 20, 2, 4, 10, 20, 7, 11, 1, 2, 3, 4, 8, 9, 10, 13, 17, 3, 4, 5, 6, 7, 8, 9, 10, 11, 14, 15, 17, 13, 1, 2, 3, 4, 5, 6, 7, 8, 9, 10, 11, 12, 13, 14, 15, 16, 17, 18, 19, 20, 6, 14, 5, 20, 19, 18, 20, 5, 7, 8, 11, 13, 3, 1, 2, 3, 4, 6, 7, 8, 9, 10, 11, 12, 13, 14, 15, 16, 17, 19, 20, 1, 9, 16, 19, 12, 15, 16, 10, 12, 7, 11, 13, 14, 16, 2, 4, 5, 8, 9, 10, 12, 14, 15, 16, 17, 18, 19, 20, 1, 2, 3, 4, 5, 6, 7, 8, 9, 10, 11, 12, 13, 14, 15, 16, 17, 18, 20, 8, 9, 10, 16, 1, 2, 3, 4, 5, 6, 7, 8, 9, 10, 11, 12, 13, 14, 15, 16, 17, 18, 19, 20, 15, 2, 5, 4, 7, 9, 15, 17, 15, 16, 7, 19, 2, 1, 2, 4, 5, 6, 8, 10, 11, 12, 13, 14, 15, 16, 19, 20, 1, 2, 3, 5, 6, 7, 8, 9, 10, 11, 12, 13, 14, 15, 16, 17, 18, 19, 20, 1, 2, 3, 4, 5, 6, 7, 8, 9, 10, 11, 12, 13, 14, 15, 16, 17, 18, 19, 20, 1, 2, 3, 4, 5, 6, 7, 8, 9, 10, 11, 12, 13, 14, 15, 16, 17, 19, 20, 1, 2, 3, 5, 7, 8, 9, 10, 13, 14, 15, 20, 5, 6, 9, 1, 2, 3, 4, 5, 6, 7, 8, 9, 10, 11, 12, 13, 14, 15, 16, 17, 18, 19, 20, 10, 14, 15, 3, 5, 6, 8, 10, 13, 14, 19, 20, 8, 9, 15, 16, 7, 9, 11, 16, 18, 7, 9, 12, 13, 15, 16, 17, 18, 19, 20, 5, 6, 7, 9, 11, 12, 13, 14, 16, 17, 19, 20, 1, 2, 3, 4, 5, 6, 7, 8, 9, 10, 11, 12, 13, 14, 15, 16, 17, 18, 19, 20, 1, 2, 3, 5, 7, 8, 9, 10, 12, 13, 15, 16, 18, 19, 20, 3, 10, 11, 20, 1, 5, 9, 4, 3, 1, 2, 10, 17, 7, 9, 15, 19, 3, 6, 3, 4, 5, 6, 7, 9, 14, 16, 17, 18, 20, 6, 7, 9, 11, 12, 14, 16, 1, 4, 7, 11, 15, 17, 1, 2, 3, 4, 5, 6, 7, 8, 9, 10, 11, 12, 13, 14, 15, 16, 18, 19, 20, 7, 12, 19, 5, 6, 7, 9, 11, 12, 14, 17, 18, 3, 5, 7, 9, 12, 16, 16, 1, 3, 16, 20, 15, 15, 17, 18, 6, 10, 7, 2, 2, 5, 6, 8, 13, 15, 20, 1, 3, 4, 7, 8, 9, 15, 1, 2, 4, 7, 8, 9, 10, 11, 13, 14, 15, 19, 12, 14, 15, 18, 5, 7, 9, 11, 13, 14, 13, 1, 7, 9, 15, 17, 1, 2, 3, 4, 5, 6, 9, 10, 11, 14, 15, 2, 5, 6, 8, 9, 10, 11, 12, 13, 16, 18, 2, 6, 7, 8, 13, 15, 2, 6, 14, 17, 20, 1, 4, 17, 12, 1, 5, 7, 9, 11, 14, 16, 17, 18, 1, 6, 8, 14, 15, 19, 7, 4, 1, 2, 3, 4, 5, 6, 7, 8, 9, 10, 11, 12, 13, 14, 15, 16, 17, 18, 19, 20, 15, 18, 3, 3, 7, 12, 14, 17, 16, 3, 17, 16, 1, 7, 8, 9, 10, 14, 15, 16, 18, 19, 20, 15, 1, 14, 1, 3, 8, 15, 18, 2, 16, 1, 6, 9, 11, 14, 16, 1, 4, 9, 10, 14, 3, 4, 10, 17, 2, 4, 5, 10, 11, 12, 14, 17, 18, 20, 18, 20, 5, 13, 1, 8, 13, 13, 13, 2, 18, 19, 1, 2, 3, 4, 5, 6, 7, 8, 9, 10, 11, 12, 13, 14, 15, 16, 17, 18, 19, 1, 2, 3, 4, 5, 6, 7, 8, 9, 10, 11, 12, 13, 14, 15, 16, 17, 18, 19, 20, 1, 2, 3, 4, 5, 6, 7, 8, 9, 10, 11, 12, 13, 14, 15, 16, 17, 18, 19, 20, 1, 3, 6, 7, 8, 9, 10, 11, 13, 14, 15, 19, 4, 1, 2, 4, 5, 6, 7, 10, 12, 15, 16, 17, 18, 20, 6, 1, 2, 5, 8, 20, 1, 2, 4, 7, 10, 15, 17, 19, 14, 1, 1, 5, 8, 15, 16, 20, 15, 1, 2, 6, 8, 9, 10, 11, 12, 13, 14, 15, 16, 18, 19, 1, 2, 3, 4, 6, 7, 8, 9, 10, 11, 12, 13, 14, 15, 16, 17, 18, 19, 20, 1, 6, 7, 9, 10, 15, 16, 1, 2, 3, 4, 5, 6, 7, 8, 9, 10, 11, 12, 13, 14, 15, 16, 17, 18, 19, 20, 4, 7, 8, 11, 12, 20, 5, 6, 7, 9, 11, 12, 13, 14, 16, 19, 13, 15, 16, 9, 2, 8, 9, 10, 12, 15, 18, 1, 3, 13, 15, 16, 17, 7, 8, 13, 18, 19, 1, 1, 3, 4, 5, 6, 7, 8, 9, 10, 12, 13, 14, 15, 16, 17, 18, 20, 1, 2, 4, 5, 15, 16, 18, 15, 19, 2, 3, 16, 7, 10, 14, 15, 16, 19, 15, 16, 5, 14, 16, 18, 3, 7, 13, 14, 16, 18, 20, 20, 7, 8, 18, 19, 1, 3, 7, 8, 12, 15, 19, 20, 13, 19, 1, 3, 5, 6, 7, 8, 9, 11, 12, 13, 14, 15, 16, 17, 18, 19, 18, 16, 2, 20, 13, 12, 5, 1, 11, 15, 16, 18, 1, 5, 11, 12, 14, 15, 18, 14, 9, 16, 6, 13, 7, 2, 7, 13, 16, 20, 1, 3, 6, 14, 1, 8, 13, 14, 15, 16, 17, 18, 19, 9, 19, 4, 6, 8, 12, 16, 20, 17, 1, 4, 6, 8, 9, 12, 13, 14, 15, 16, 19, 1, 2, 5, 6, 7, 8, 9, 11, 12, 13, 14, 16, 17, 18, 6, 13, 1, 3, 4, 10, 13, 14, 15, 17, 18, 20, 9, 6, 7, 9, 12, 13, 16, 18, 19, 16, 17, 13, 16, 8, 13, 14, 19, 13, 17, 6, 10, 13, 19, 4, 6, 7, 8, 9, 12, 17, 19, 1, 2, 3, 4, 5, 7, 8, 9, 10, 11, 12, 13, 14, 15, 16, 17, 18, 19, 20, 3, 5, 7, 8, 9, 16, 1, 3, 6, 7, 10, 11, 13, 14, 15, 16, 18, 1, 2, 4, 6, 7, 8, 9, 10, 13, 14, 15, 16, 17, 1, 2, 5, 6, 7, 8, 9, 10, 11, 12, 13, 15, 16, 18, 7, 9, 19, 1, 2, 6, 8, 9, 11, 12, 13, 15, 16, 19, 20, 12, 3, 7, 11, 20, 7, 7, 8, 18, 19, 5, 12, 13, 12, 7, 9, 10, 14, 16, 11, 19, 2, 13, 15, 19, 8, 2, 6, 8, 9, 16, 18, 16, 20, 4, 13, 7, 8, 9, 10, 13, 15, 19, 7, 9, 12, 16, 9, 16, 4, 6, 12, 14, 17, 18, 1, 17, 1, 2, 3, 4, 6, 9, 10, 12, 13, 17, 18, 1, 2, 3, 4, 5, 6, 8, 10, 11, 12, 14, 15, 18, 19, 20, 11, 5, 14, 1, 3, 6, 8, 9, 10, 11, 12, 14, 15, 16, 17, 19, 20, 11, 19, 5, 14, 1, 4, 5, 11, 14, 17, 18, 14, 12, 18, 1, 2, 4, 8, 9, 11, 12, 13, 14, 15, 2, 3, 9, 16, 10, 13, 14, 15, 9, 19, 1, 2, 4, 6, 7, 8, 9, 15, 20, 1, 3, 4, 5, 6, 7, 8, 9, 10, 11, 12, 13, 14, 15, 16, 17, 18, 19, 20, 1, 3, 5, 7, 8, 9, 11, 12, 13, 14, 15, 16, 18, 19, 20, 4, 6, 9, 13, 1, 4, 8, 15, 16, 17, 18, 16, 17, 1, 2, 3, 5, 6, 7, 11, 13, 17, 16, 1, 2, 3, 5, 6, 7, 8, 9, 10, 11, 13, 14, 15, 16, 17, 18, 19, 20, 16, 1, 2, 3, 4, 5, 6, 7, 8, 9, 10, 11, 12, 13, 14, 15, 16, 17, 18, 19, 20, 20, 7, 19, 12, 1, 2, 3, 5, 6, 7, 9, 10, 12, 13, 14, 15, 16, 17, 18, 20, 1, 2, 6, 7, 8, 9, 10, 15, 20, 1, 2, 15, 1, 3, 5, 17, 20, 13, 14, 15, 3, 18, 3, 14, 19, 20, 4, 10, 12, 15, 4, 1, 3, 15, 1, 7, 7, 5, 1, 2, 3, 4, 5, 6, 7, 8, 9, 10, 11, 12, 13, 14, 15, 16, 17, 18, 19, 20, 5, 1, 3, 6, 9, 10, 13, 19, 7, 5, 6, 7, 9, 12, 13, 14, 16, 19, 20, 9, 2, 18, 7, 6, 7, 12, 16, 17, 12, 13, 5, 3, 2, 9, 15, 16, 20, 1, 2, 3, 4, 5, 6, 7, 8, 9, 10, 11, 12, 13, 14, 15, 16, 17, 18, 19, 20, 1, 2, 3, 5, 6, 7, 8, 9, 10, 11, 12, 13, 15, 16, 17, 18, 19, 1, 2, 3, 4, 5, 6, 7, 8, 9, 10, 11, 12, 13, 14, 15, 16, 17, 18, 19, 20, 6, 18, 12, 1, 9, 4, 9, 10, 1, 2, 3, 4, 5, 6, 7, 8, 9, 10, 11, 12, 13, 14, 15, 16, 17, 18, 19, 20, 3, 4, 7, 20, 4, 1, 2, 7, 8, 9, 10, 13, 15, 16, 19, 16, 2, 5, 8, 9, 10, 12, 15, 16, 18, 19, 20, 14, 3, 14, 16, 20, 2, 14, 19, 2, 5, 11, 19, 6, 8, 19, 1, 2, 4, 6, 7, 9, 10, 12, 13, 14, 15, 16, 17, 18, 19, 20, 14, 4, 20, 10, 18, 15, 1, 6, 7, 8, 9, 11, 12, 13, 14, 16, 18, 3, 4, 5, 7, 9, 1, 2, 3, 4, 7, 8, 9, 10, 16, 1, 2, 6, 12, 13, 14, 15, 19, 13, 1, 9, 11, 13, 15, 16, 18, 3, 1, 3, 14, 8, 14, 16, 2, 11, 16, 1, 10, 13, 19, 3, 7, 9, 4, 12, 18, 1, 2, 4, 6, 8, 11, 12, 14, 15, 17, 19, 20, 15, 5, 6, 7, 8, 12, 13, 15, 16, 19, 20, 1, 6, 14, 1, 2, 3, 5, 6, 9, 12, 13, 14, 15, 16, 17, 19, 20, 18, 12, 13, 1, 2, 3, 4, 5, 6, 7, 8, 9, 10, 11, 12, 13, 14, 15, 16, 17, 18, 19, 20, 1, 7, 10, 14, 1, 9, 11, 1, 6, 8, 16, 9, 9, 16, 1, 3, 9, 10, 13, 14, 16, 18, 20, 3, 1, 2, 4, 5, 6, 8, 10, 11, 12, 13, 14, 15, 16, 18, 19, 20, 17], \"Freq\": [0.07279851753476656, 0.03351042870647985, 0.36726659507619003, 0.05296188444989631, 0.1197901531921291, 0.019836633084870253, 0.0009629433536344783, 0.0015407093658151654, 0.015407093658151653, 0.005392482780353079, 0.004814716768172392, 0.03312525136502605, 0.04622128097445496, 0.005585071451079974, 0.002311064048722748, 0.2131956584946735, 0.0019258867072689566, 0.00019258867072689568, 0.0034665960730841223, 0.027278188854195588, 0.027278188854195588, 0.9274584210426501, 0.23659151895035782, 0.7167331309378486, 0.03479287043387615, 0.0023195246955917434, 0.00695857408677523, 0.0023195246955917434, 0.00652345685984255, 0.0789563226829219, 0.022494678827043275, 0.0051737761302199535, 0.00022494678827043274, 0.876392687101606, 0.00022494678827043274, 0.009222818319087743, 0.0006748403648112983, 0.9620914235874665, 0.7864437374757992, 0.039605080304536654, 0.005657868614933808, 0.005657868614933808, 0.011315737229867616, 0.028289343074669036, 0.016973605844801423, 0.011315737229867616, 0.033947211689602845, 0.050920817534404264, 0.040376861351007154, 0.0036706237591824687, 0.587299801469195, 0.19454305923667084, 0.11011871277547405, 0.0036706237591824687, 0.05505935638773703, 0.0404351284384544, 0.8390289150979288, 0.0657070837124884, 0.0050543910548068, 0.045489519493261195, 0.0025271955274034, 0.9746478017826762, 0.20324397211788245, 0.5854121248181742, 0.02779404746911213, 0.1667642848146728, 0.005211383900458525, 0.012159895767736557, 0.1308662211235539, 0.021985525148757054, 0.008375438151907449, 0.19158814772488292, 0.007328508382919019, 0.0041877190759537245, 0.016750876303814898, 0.04815876937346784, 0.016750876303814898, 0.06909736475323647, 0.08584824105705136, 0.05862806706335215, 0.28371796739586486, 0.011516227458872744, 0.023032454917745488, 0.009422367920895881, 0.012563157227861175, 0.264398478588493, 0.1310670543733386, 0.009323875819241568, 0.012787029694959864, 0.004528739683631619, 0.11654844774051959, 0.03196757423739966, 0.029037213265638025, 0.07565659236184585, 0.1030954269156139, 0.000532792903956661, 0.002131171615826644, 0.06726510412452845, 0.04395541457642453, 0.008791082915284906, 0.01758216583056981, 0.03276676359333465, 0.01625018357067816, 0.01065585807913322, 0.021711310836233934, 0.011765962157180508, 0.05016015445955901, 0.010527439824845717, 0.014862267988017484, 0.0012385223323347903, 0.10032030891911801, 0.004334828163171766, 0.07059577294308304, 0.02167414081585883, 0.0761691234385896, 0.004334828163171766, 0.003715566997004371, 0.09970104775295062, 0.016100790320352276, 0.04458680396405245, 0.03963271463471329, 0.010527439824845717, 0.008669656326343532, 0.4056160638396438, 0.004334828163171766, 0.964291705332538, 0.005655669825997291, 0.0311061840429851, 0.9319088832841256, 0.979442014438467, 0.9190906974334673, 0.0013614518120068412, 0.034036295300171035, 0.10483178952452678, 0.746075592979749, 0.0027229036240136823, 0.00953016268404789, 0.01089161449605473, 0.08985581959245152, 0.979614856127154, 0.13333318544036898, 0.0031745996533421184, 0.12896811091702357, 0.0039682495666776485, 0.19999977816055348, 0.002380949740006589, 0.005158724436680943, 0.006349199306684237, 0.017063473136713886, 0.009523798960026355, 0.0007936499133355296, 0.0007936499133355296, 0.0039682495666776485, 0.006746024263352002, 0.44603125129456767, 0.0035714246100098834, 0.02777774696674354, 0.11188831042570102, 0.8615399902778978, 0.022377662085140203, 0.03370130651363109, 0.9099352758680395, 0.046339296456242754, 0.008425326628407772, 0.04382524897566257, 0.9495470611393556, 0.6973586882713301, 0.26566045267479244, 0.2318897386363464, 0.579724346590866, 0.07246554332385825, 0.1159448693181732, 0.9226054119127689, 0.9229268014184923, 0.037353004021665005, 0.9525016025524576, 0.01631760102410983, 0.04351360273095955, 0.02719600170684972, 0.11422320716876881, 0.6907784433539829, 0.04351360273095955, 0.06527040409643932, 0.9367003773265646, 0.007942304573612377, 0.8577688939501368, 0.039711522868061885, 0.06353843658889902, 0.02382691372083713, 0.9260498430162342, 0.1434814033274213, 0.047827134442473766, 0.7891477183008172, 0.0016444369930452769, 0.0016444369930452769, 0.513886560326649, 0.049333109791358305, 0.027133210385247068, 0.06166638723919789, 0.002466655489567915, 0.1109994970305562, 0.0008222184965226384, 0.060844168742675245, 0.0008222184965226384, 0.028777647378292345, 0.0008222184965226384, 0.06742191671485635, 0.07153300919746955, 0.0008222184965226384, 0.07012141730991299, 0.8414570077189559, 0.044799332911842876, 0.007679885642030207, 0.8857468107141505, 0.005119923761353472, 0.05503918043454982, 0.0930035101665538, 0.023964094644142696, 0.03936958405823443, 0.04906933665229219, 0.11411473640067951, 0.10555613117062855, 0.009699752594057759, 0.001141147364006795, 0.03594614196621405, 0.07246285761443148, 0.03651671564821744, 0.023964094644142696, 0.03024040514618007, 0.0005705736820033976, 0.023964094644142696, 0.001141147364006795, 0.0233935209621393, 0.31495667246587544, 0.865321354396899, 0.9031800879065494, 0.9731901249265715, 0.8872896635159193, 0.9667319275352041, 0.4963431225810618, 0.2707326123169428, 0.0451221020528238, 0.1654477075270206, 0.0584837649191295, 0.7083033751316795, 0.0064981961021255, 0.2144404713701415, 0.9465381864078466, 0.8621384538749088, 0.06631834260576222, 0.06631834260576222, 0.5685342476668077, 0.008562262766066382, 0.047948671489971735, 0.005137357659639828, 0.0017124525532132761, 0.11302186851207623, 0.0068498102128531045, 0.0017124525532132761, 0.14555846702312847, 0.047948671489971735, 0.010274715319279657, 0.04452376638354518, 0.9124758131799653, 0.9586105235933545, 0.02039596858709265, 0.09648380568492627, 0.892475202585568, 0.07659390878718073, 0.24792238896903238, 0.1995472886823919, 0.4595634527230844, 0.012093775071660115, 0.0020156291786100193, 0.19523079098118065, 0.7959409170771211, 0.8110330845196431, 0.0811033084519643, 0.9793702759495195, 0.5687164510473711, 0.04509240469469447, 0.011963291041449553, 0.01702468340513975, 0.09294556886049268, 0.0032208860496210335, 0.0032208860496210335, 0.2572107573911654, 0.991970385853505, 0.9710581386253222, 0.1108204455919065, 0.06044751577740355, 0.6649226735514391, 0.050372929814502955, 0.050372929814502955, 0.050372929814502955, 0.010074585962900591, 0.8824734843747976, 0.9830549590363139, 0.899481459600789, 0.07526532369161294, 0.0071681260658679, 0.1075218909880185, 0.060929071559877146, 0.01075218909880185, 0.01792031516466975, 0.648715408961045, 0.01075218909880185, 0.0358406303293395, 0.0143362521317358, 0.01075218909880185, 0.9728643737135161, 0.04133601000112305, 0.17715432857624167, 0.08857716428812083, 0.005905144285874722, 0.6849967371614678, 0.002135491889643842, 0.00035591531494064035, 0.3537798230509965, 0.0005338729724109605, 0.25892839161931586, 0.00996562881833793, 0.049294271119278685, 0.004093026121817364, 0.059615815252557255, 0.007296263956283126, 0.0051607720666392845, 0.049472228776749005, 0.029363013482602826, 0.0017795765747032016, 0.0012457036022922412, 0.0008897882873516008, 0.15838231514858495, 0.0014236612597625614, 0.004626899094228324, 0.0017795765747032016, 0.8227738602596453, 0.019102990215315505, 0.07721912946190916, 0.004304899203451382, 0.004304899203451382, 0.0010762248008628454, 0.016412428213158393, 0.0010762248008628454, 0.0010762248008628454, 0.016950540613589814, 0.004843011603882804, 0.0008071686006471341, 0.003766786803019959, 0.007533573606039918, 0.0010762248008628454, 0.004573955403667093, 0.005112067804098516, 0.006995461205608495, 0.0005381124004314227, 0.9994852114994957, 0.8403490349746645, 0.09886459234996052, 0.7300340860995668, 0.00450638324752819, 0.042810640851517805, 0.12617873093078932, 0.01351914974258457, 0.00901276649505638, 0.015772341366348665, 0.05182340734657419, 0.002253191623764095, 0.2170812324458154, 0.06474083398737392, 0.05875767634399102, 0.0357455315617491, 0.017489230034503856, 0.003988771762255265, 0.006289986240479457, 0.03191017409804212, 0.00030682859709655887, 0.01334704397370031, 0.015188015556279664, 0.00015341429854827943, 0.00030682859709655887, 0.0009204857912896765, 0.5337283446494642, 0.0018408594369572803, 0.393943919508858, 0.5522578310871841, 0.04786234536088929, 0.9968570756003771, 0.11747569990619164, 0.7929609743667936, 0.05873784995309582, 0.019579283317698606, 0.8297249097439525, 0.16401538913543248, 0.004823982033395072, 0.00756164282984352, 0.1428310312303776, 0.03192693639267264, 0.00252054760994784, 0.00588127775654496, 0.08149770605498016, 0.0294063887827248, 0.27221914187436674, 0.05797259502880032, 0.31674881631677854, 0.02436529356282912, 0.02772602370942624, 0.006525120763744294, 0.034800644073302904, 0.07395136865576867, 0.023925442800395744, 0.0021750402545814315, 0.07395136865576867, 0.0978768114561644, 0.006525120763744294, 0.04785088560079149, 0.4480582924437749, 0.021750402545814312, 0.03262560381872147, 0.03262560381872147, 0.09570177120158298, 0.976521179361265, 0.9124805125716109, 0.008272312724982321, 0.9899200894228845, 0.020136033885684253, 0.012081620331410551, 0.21344195918825307, 0.004027206777136851, 0.7289244266617699, 0.020136033885684253, 0.012117149580944394, 0.8966690689898851, 0.07270289748566636, 0.005631410131089198, 0.05335452810331226, 0.45260917484250485, 0.0013153658700354332, 0.04348928407804651, 0.0014386814203512551, 0.20034666407977192, 0.03843334651509781, 0.0004110518343860729, 0.004644885728562624, 0.07555132716016019, 0.0003288414675088583, 0.012249344664704972, 0.022237904240286543, 0.005343673847018947, 0.006946776001124632, 0.0004932622012632875, 0.012989237966599903, 0.02745826253698967, 0.03469277482218455, 0.9900067813392928, 0.256271390961454, 0.0830705243428772, 0.02341506281052771, 0.001294299954350778, 0.04435918934456757, 0.086365106044861, 0.012590008646866659, 0.0132959904401489, 0.04200591670029343, 0.062361725073264755, 0.02718029904136634, 0.02941590805342677, 0.010825054163661052, 0.0864827696770747, 0.022003099223963225, 0.009883745105951395, 0.06565630677524856, 0.09001267864348592, 0.007412808829463546, 0.025885999087015558, 0.9860788174944676, 0.005478215652747042, 0.052838211498193996, 0.11749549662098402, 0.7466873572244783, 0.052838211498193996, 0.0003476198124881184, 0.009385734937179197, 0.020161949124310866, 0.9617821281661082, 0.9079467035573952, 0.7614713330397854, 0.03719314911260868, 0.0005390311465595461, 0.028388973718802762, 0.1721306128013484, 0.9411657345870674, 0.9223548937072613, 0.1868343634131949, 0.8042000859959259, 0.9229268013904257, 0.9590995556546358, 0.436862751183717, 0.4382834430574852, 0.06961390181464108, 0.0007103459368840927, 0.003551729684420463, 0.017758648422102317, 0.03196556715978417, 0.07553086404194258, 0.9063703685033109, 0.9964955304356676, 0.0023539264498480335, 0.9031066959609922, 0.9124805125690295, 0.013528158255718787, 0.07440487040645333, 0.006764079127859393, 0.13528158255718786, 0.18263013645220363, 0.5512724489205406, 0.006764079127859393, 0.02367427694750788, 0.012121408575305572, 0.7878915573948622, 0.08484986002713901, 0.060607042876527864, 0.060607042876527864, 0.8965301081221789, 0.0011960807472259527, 0.0035882422416778584, 0.13874536667821052, 0.8504134112776525, 0.004784322988903811, 0.9283443816065405, 0.053019081512724706, 0.90132438571632, 0.011287115193395512, 0.03837619165754474, 0.17833642005564906, 0.002257423038679102, 0.06095042204433576, 0.706573411106559, 0.9296830532450762, 0.8824569130749493, 0.06788130100576534, 0.04029046951707767, 0.0044767188352308526, 0.08953437670461704, 0.04029046951707767, 0.7386586078130907, 0.07610422019892449, 0.0044767188352308526, 0.00044568168114485543, 0.0008913633622897109, 0.10785496683705502, 0.8864608637971175, 0.004011135130303699, 0.1648538536493178, 0.832723312023477, 0.8912446329355448, 0.6058191018957507, 0.17669723805292728, 0.18931846934242208, 0.00424513223280358, 0.9891158102432341, 0.9795266061983648, 0.995150328400622, 0.8602177468542961, 0.9548810560723401, 0.1464211310858731, 0.14119180497566333, 0.4898135456563135, 0.005229326110209753, 0.003486217406806502, 0.19697128348456736, 0.003486217406806502, 0.003486217406806502, 0.006972434813613004, 0.004958389131131351, 0.818134206636673, 0.049583891311313515, 0.03470872391791946, 0.08925100436036433, 0.8982942745524587, 0.013880868585426608, 0.9716608009798625, 0.8872801338987804, 0.9698190834205355, 0.027396019305664845, 0.996881455505825, 0.006442108270494061, 0.025768433081976246, 0.6957476932133587, 0.07730529924592874, 0.11595794886889312, 0.07086319097543468, 0.981429961835053, 0.027049368418534298, 0.005409873683706859, 0.010819747367413719, 0.7898415578212015, 0.1352468420926715, 0.027049368418534298, 0.867855886567362, 0.021903331462852216, 0.8177243746131494, 0.00851796223555364, 0.0851796223555364, 0.06327629089268419, 0.0024337034958724687, 0.05144863715984321, 0.05144863715984321, 0.8489025131374129, 0.8943702994269919, 0.09578212676397996, 0.8620391408758196, 0.9596217451074434, 0.9151344753922243, 0.21274726822471743, 0.020494002902381035, 0.0009759049001133827, 0.0009759049001133827, 0.0019518098002267654, 0.0507470548058959, 0.0078072392009070615, 0.006831334300793679, 0.07612058220884385, 0.0078072392009070615, 0.0019518098002267654, 0.4918560696571449, 0.052698864606122664, 0.0009759049001133827, 0.06538562830759664, 0.9735458554243688, 0.023745020864008995, 0.8788326842780027, 0.9557327893554098, 0.9124805125674964, 0.9393615527972125, 0.07749489875999375, 0.9144398053679262, 0.2797780116845933, 0.0032158392147654405, 0.18973451367116098, 0.49845507828864327, 0.025726713718123524, 0.9874149627625683, 0.007233809251007826, 0.8979197220413775, 0.832254475556093, 0.9326014549282672, 0.09903174061124993, 0.8912856655012494, 0.8847460336126877, 0.17609195106544234, 0.04548070259306127, 0.051311561899863994, 0.008163203029523818, 0.003498515584081636, 0.003498515584081636, 0.05830859306802727, 0.03032046839537418, 0.11078632682925181, 0.013994062336326545, 0.0023323437227210906, 0.06880413982027218, 0.2670533562515649, 0.10728781124517017, 0.013994062336326545, 0.004664687445442181, 0.020991093504489817, 0.012827890474965999, 0.1543988023420085, 0.0005417501836561703, 0.015710755326028936, 0.04929926671271149, 0.10564128581295319, 0.17823581042288, 0.016794255693341278, 0.10780828654757788, 0.0200447567952783, 0.02492050844818383, 0.18040281115750467, 0.02275350771355915, 0.04225651432518128, 0.008126252754842554, 0.0010835003673123405, 0.02708750918280851, 0.016252505509685107, 0.028171009550120852, 0.026000175541599873, 0.052000351083199746, 0.013000087770799936, 0.8450057051019959, 0.03900026331239981, 0.7546158420412468, 0.006923081119644466, 0.22846167694826738, 0.8949321981649461, 0.8769129892118923, 0.9115953010623129, 0.1647377643698698, 0.21939375161407892, 0.1339456588801745, 0.07082184262629916, 0.030792105489695288, 0.0561955925186939, 0.036180723950391964, 0.0015396052744847644, 0.02694309230348338, 0.09314611910632825, 0.003079210548969529, 0.003849013186211911, 0.026173289666240995, 0.016165855382090026, 0.015396052744847644, 0.06851243471457202, 0.0007698026372423822, 0.03156190812693767, 0.9627134904948143, 0.00043093710407108963, 0.028872785972763007, 0.007325930769208524, 0.00043093710407108963, 0.9818711554393865, 0.9827834411392687, 0.0016466792613687169, 0.042813660795586635, 0.0016466792613687169, 0.0065867170454748675, 0.016466792613687168, 0.00494003778410615, 0.046107019318324075, 0.11856090681854761, 0.7278322335249728, 0.0197601511364246, 0.011526754829581019, 0.9855220915374657, 0.9148587729239818, 0.06328511504334468, 0.001977659845104521, 0.28873833738526006, 0.057352135508031116, 0.01779893860594069, 0.007910639380418085, 0.021754258296149732, 0.14239150884752552, 0.31444791537161887, 0.029664897676567818, 0.001977659845104521, 0.051419155972717547, 0.8874107375627276, 0.9790381094394706, 0.12192581238207635, 0.06361346732977896, 0.7898672193447555, 0.01590336683244474, 0.925477357800521, 0.06804810390189536, 0.031107704640866454, 0.12054235548335751, 0.0038884630801083067, 0.0038884630801083067, 0.0019442315400541533, 0.031107704640866454, 0.0019442315400541533, 0.007776926160216613, 0.43745209651218453, 0.08749041930243691, 0.20220008016563196, 0.2737019973346974, 0.048504151426402076, 0.4573248563060767, 0.07968539162908912, 0.13858328978972023, 0.04786923187547627, 0.0014079185845728317, 0.04364547612175778, 0.04364547612175778, 0.04786923187547627, 0.0535009062137676, 0.6068129099508904, 0.012671267261155484, 0.0028158371691456635, 0.03942172036803929, 0.03660588319889362, 0.03801380178346645, 0.0014079185845728317, 0.023934615937738137, 0.0014079185845728317, 0.05907795072003698, 0.8861692608005547, 0.19895170528292838, 0.0017250147856901303, 0.039675340070873, 0.005175044357070392, 0.0034500295713802607, 0.002875024642816884, 0.0005750049285633769, 0.01437512321408442, 0.02357520207109845, 0.008625073928450652, 0.0011500098571267537, 0.0017250147856901303, 0.05807549778490106, 0.639405480562475, 0.0011500098571267537, 0.0005750049285633769, 0.9248415194897684, 0.2339685114700448, 0.010202115325728697, 0.028565922912040353, 0.10406157632243271, 0.006121269195437218, 0.01360282043430493, 0.05373114071550447, 0.0020404230651457395, 0.05985240991094169, 0.02720564086860986, 0.002720564086860986, 0.004760987152006725, 0.006121269195437218, 0.02720564086860986, 0.021764512694887887, 0.16391398623337441, 0.22036569103573986, 0.002720564086860986, 0.0020404230651457395, 0.00952197430401345, 0.10209354796164387, 0.052869873051565576, 0.04193127862710373, 0.025523386990410967, 0.40472799370508816, 0.018230990707436404, 0.11120904331536206, 0.052869873051565576, 0.04557747676859101, 0.10938594424461842, 0.025523386990410967, 0.009115495353718202, 0.9120620337509728, 0.09017247731628997, 0.06357782962853624, 0.12175362144549752, 0.014128406584119166, 0.08726368772544191, 0.10554750801077259, 0.05402037811574975, 0.007479744662180735, 0.07853731895289771, 0.005817579181696127, 0.07313528114132274, 0.007479744662180735, 0.043631843862720954, 0.038229806051145974, 0.13588202802961669, 0.02617910631763257, 0.03947643016150943, 0.007064203292059583, 0.0012466241103634558, 0.7522929377765004, 0.1880732344441251, 0.8553250787170115, 0.975624877866655, 0.8407385030120352, 0.1401230838353392, 0.06073979646666165, 0.3022353727798947, 0.128797640700391, 0.20197811837106766, 0.0007318047767067669, 0.09147559708834586, 0.0036590238835338346, 0.005122633436947369, 0.20490533747789474, 0.010102560630127223, 0.0003885600242356624, 0.001942800121178312, 0.0003885600242356624, 0.0007771200484713248, 0.003108480193885299, 0.005828400363534936, 0.005828400363534936, 0.0007771200484713248, 0.013988160872483847, 0.005439840339299274, 0.9508063793046659, 0.8298188023491232, 0.1037273502936404, 0.9002450411859537, 0.844052893384509, 0.07033774111537575, 0.02746477532479015, 0.15694157328451513, 0.08239432597437045, 0.06670016864591893, 0.011770617996338635, 0.02354123599267727, 0.003923539332112878, 0.031388314656903026, 0.003923539332112878, 0.5924544391490446, 0.9797890856280778, 0.47373943489125897, 0.005171827891825971, 0.06361348306945945, 0.04913236497234673, 0.02327322551321687, 0.005171827891825971, 0.05223546170744231, 0.009309290205286749, 0.005171827891825971, 0.05792447238845088, 0.0046546451026433745, 0.0367199780319644, 0.05068391333989452, 0.032065332929321025, 0.033099698507686216, 0.05792447238845088, 0.011895204151199735, 0.00724055904855636, 0.0020687311567303885, 0.019135763199756094, 0.008034645128829716, 0.0016069290257659432, 0.046600941747212354, 0.18640376698884942, 0.008034645128829716, 0.1365889671901052, 0.33906202443661404, 0.09159495446865877, 0.05624251590180802, 0.08677416739136094, 0.0032138580515318864, 0.006427716103063773, 0.027317793438021036, 0.019107084816508118, 0.974461325641914, 0.19880944573203416, 0.004229988207064557, 0.16919952828258225, 0.6218082664384899, 0.8322544755516245, 0.05966221160826325, 0.8949331741239488, 0.8967551941099559, 0.03296293497445575, 0.043950579965941, 0.10072007908861479, 0.007325096660990167, 0.02380656414821804, 0.4303494288331723, 0.0036625483304950834, 0.03296293497445575, 0.007325096660990167, 0.13734556239356563, 0.0219752899829705, 0.02380656414821804, 0.03296293497445575, 0.06958841827940658, 0.029300386643960667, 0.0018312741652475417, 0.606747554294546, 0.17678615790596486, 0.03273817738999349, 0.04583344834599089, 0.07420653541731857, 0.010912725796664496, 0.0021825451593328994, 0.03928581286799219, 0.010912725796664496, 0.0027952392245957614, 0.04542263739968112, 0.02166310399061715, 0.002096429418446821, 0.0013976196122978807, 0.034241680501298076, 0.12578576510680925, 0.023759533409063973, 0.013277386316829867, 0.009783337286085166, 0.02236191379676609, 0.6848336100259615, 0.0027952392245957614, 0.0027952392245957614, 0.008385717673787284, 0.08809615641726232, 0.8545327172474445, 0.026428846925178696, 0.026428846925178696, 0.017738283868889374, 0.9756056127889154, 0.8939403822302783, 0.24888583481624155, 0.027653981646249062, 0.705176531979351, 0.013826990823124531, 0.9794625704285266, 0.017106501924365018, 0.7697925865964259, 0.017106501924365018, 0.13685201539492015, 0.05131950577309506, 0.031243113476879632, 0.07420239450758913, 0.003905389184609954, 0.5467544858453935, 0.11716167553829862, 0.007810778369219908, 0.007810778369219908, 0.16012095656900813, 0.05467544858453936, 0.9686183839976534, 0.30952289341192657, 0.5218699947061552, 0.010797310235299765, 0.0035991034117665885, 0.03599103411766588, 0.007198206823533177, 0.10797310235299765, 0.9964089095897682, 0.14219521256140133, 0.8328576735739222, 0.020313601794485905, 0.8769129892378664, 0.047424473657882674, 0.9010649994997708, 0.3460710422455489, 0.017180831884530796, 0.19880676894957064, 0.14603707101851177, 0.05276969793105887, 0.03436166376906159, 0.03558886604652808, 0.03436166376906159, 0.02699845010426268, 0.014726427329597825, 0.020862438716930252, 0.012272022774664854, 0.006136011387332427, 0.0036816068323994562, 0.0012272022774664855, 0.049088091098659414, 0.047028568638200305, 0.917057088444906, 0.7664839573288338, 0.0018649244703864568, 0.22068272899573071, 0.001243282980257638, 0.000621641490128819, 0.000621641490128819, 0.004351490430901732, 0.002486565960515276, 0.0018649244703864568, 0.95420682199256, 0.918944273302804, 0.07207406065120031, 0.008154959430089849, 0.11824691173630279, 0.11824691173630279, 0.750256267568266, 0.0012557089074989643, 0.05650690083745339, 0.14691794217737883, 0.5525119192995442, 0.02636988705747825, 0.20468055192233117, 0.00878996235249275, 0.20138945305838946, 0.015491496389106883, 0.7281003302880235, 0.046474489167320644, 0.9765891754924201, 0.9978284804888472, 0.05121257514404991, 0.8706137774488484, 0.06401571893006239, 0.8817981273524437, 0.06298558052517456, 0.9972538938399015, 0.9620298796312087, 0.8553250787275668, 0.1432810286046489, 0.062475017694455265, 0.05349657203776708, 0.07968370520310761, 0.01084895516849822, 0.003366917121258068, 0.09539598510231193, 0.09838880032120799, 0.09128086417632984, 0.1885473587904518, 0.01384177038739428, 0.007107936144878144, 0.0246907255558925, 0.0396548016503728, 0.0007482038047240151, 0.024316623653530493, 0.03292096740785667, 0.0007482038047240151, 0.027309438872426553, 0.0022446114141720453, 0.9918698799095669, 0.01674780512015489, 0.8038946457674347, 0.05024341536046467, 0.10048683072092934, 0.03349561024030978, 0.049355724046686436, 0.8884030328403559, 0.9898295535885345, 0.9993196961814333, 0.00029417712575255617, 0.06464012310251806, 0.023085758250899306, 0.9095788750854327, 0.8780965065677134, 0.0388273965489125, 0.08064151590927982, 0.10484130577333012, 0.11794646899499639, 0.039315489664998794, 0.7338891404133109, 0.21267209404000845, 0.03190081410600127, 0.7018179103320279, 0.03190081410600127, 0.11152594439482456, 0.2470093138818707, 0.014870125919309942, 0.0685678028501514, 0.1263960703141345, 0.008261181066283301, 0.0033044724265133205, 0.0016522362132566602, 0.004956708639769981, 0.4114068171009084, 0.0016522362132566602, 0.03913167763249761, 0.002115225817972844, 0.8460903271891376, 0.1110493554435743, 0.001057612908986422, 0.02638985852678596, 0.9500349069642946, 0.8682003111242101, 0.10549310233651377, 0.05576945293111605, 0.00987069963382585, 0.0245533653391418, 0.05515253420400193, 0.09586917019353355, 0.043060927152565265, 0.004688582326067278, 0.022085690430685336, 0.005428884798604217, 0.02344291163033639, 0.0736600960174254, 0.11252597582561467, 0.0027144423993021084, 0.0050587335623357476, 0.00394827985353034, 0.34559787092932753, 0.010611002106362788, 0.00024676749084564625, 0.9351313147979495, 0.044530062609426165, 0.8682003111676855, 0.8089603216899975, 0.0107861376225333, 0.03775148167886655, 0.13482672028166626, 0.0015889021623414746, 0.10327864055219584, 0.0015889021623414746, 0.21291288975375758, 0.6768723211574681, 0.003177804324682949, 0.0442157363624331, 0.8622068590674455, 0.06632360454364966, 0.0005193466828823043, 0.0010386933657646085, 7.419238326890061e-05, 0.08279869972809308, 0.04674120145940738, 7.419238326890061e-05, 0.018028749134342846, 0.00029676953307560244, 0.0856922026755802, 0.020402905398947666, 0.5088113644581204, 0.0076418154766967625, 0.0018548095817225152, 0.004377350612865136, 0.029157606624677937, 7.419238326890061e-05, 0.004080581079789533, 0.12612705155713103, 0.062173217179338706, 0.006084641939793578, 0.006084641939793578, 0.006084641939793578, 0.06084641939793577, 0.7240723908354357, 0.06084641939793577, 0.12777748073566514, 0.926449078612409, 0.8262605015178738, 0.15992138739055622, 0.04103816672675955, 0.8618015012619505, 0.07181679177182922, 0.010259541681689887, 0.009105325632363827, 0.9833751682952934, 0.9160190684776937, 0.07618009610383836, 0.01269668268397306, 0.003174170670993265, 0.9078128119040738, 0.9626642790014472, 0.82264607798873, 0.1495720141797691, 0.928600099803135, 0.06223482016675381, 0.8712874823345533, 0.898591972240229, 0.9307618295751211, 0.998172899674668, 0.8322544755530582, 0.9678025303164582, 0.0701438533238649, 0.9118700932102438, 0.06136089546499984, 0.08227938255534069, 0.1888242101354768, 0.007530655352522708, 0.0011156526448181788, 0.045183932115136244, 0.4222745260636807, 0.005020436901681805, 0.07279633507438617, 0.0002789131612045447, 0.08506851416738614, 0.0005578263224090894, 0.001952392128431813, 0.01589805018865905, 0.0002789131612045447, 0.009761960642159066, 0.011125634421514539, 0.040052283917452344, 0.048952791454663976, 0.8099461858862584, 0.008900507537211631, 0.07565431406629887, 0.05602753187399676, 0.8964405099839482, 0.09365640712019326, 0.889735867641836, 0.04996059260332621, 0.3229160253629621, 0.0985918568003555, 0.027251232329087022, 0.04386783740779862, 0.044089392142181445, 0.07388850391667091, 0.005871200461144765, 0.0249249076180674, 0.00011077736719141066, 0.000664664203148464, 0.037775082212271036, 0.04586183001724402, 0.06314309929910408, 0.011853178289480942, 0.07333461708071386, 0.06624486558046358, 0.006092755195527586, 0.0008862189375312853, 0.0024371020782110345, 0.9682552008942052, 0.023053695259385838, 0.12611580945401568, 0.7331532389593446, 0.023541617764749598, 0.026904706016856683, 0.0016815441260535427, 0.008407720630267713, 0.0016815441260535427, 0.0016815441260535427, 0.005044632378160628, 0.0706248532942488, 0.9679920478606335, 0.8678558865719387, 0.006146704613426223, 0.0020489015378087412, 0.07376045536111468, 0.010244507689043706, 0.10039617535262832, 0.06146704613426224, 0.7376045536111469, 0.0040978030756174825, 0.13190520016098486, 0.7631658009314124, 0.0942180001149892, 0.00942180001149892, 0.005805549137352602, 0.743110289581133, 0.052249942236173415, 0.03483329482411561, 0.07547213878558383, 0.08127768792293642, 0.06313244277757575, 0.08417659037010099, 0.0505059542220606, 0.008417659037010099, 0.0042088295185050495, 0.11363839699963633, 0.5387301783686463, 0.0252529771110303, 0.11363839699963633, 0.8848479128760921, 0.022401212984204864, 0.011200606492102432, 0.04480242596840973, 0.022401212984204864, 0.8884383967991613, 0.9248415188957787, 0.014025540822389977, 0.04207662246716993, 0.1332426378127048, 0.10869794137352232, 0.021038311233584964, 0.04207662246716993, 0.5364769364564166, 0.08765963013993736, 0.007012770411194988, 0.9050514482034129, 0.9746893987607843, 0.8602177468789983, 0.19454821392991697, 0.7995931592519588, 0.0038909642785983395, 0.8682003111847018, 0.9721332882420504, 0.9491008999724878, 0.000843143769237331, 0.001686287538474662, 0.000843143769237331, 0.000843143769237331, 0.006745150153898648, 0.053961201231189186, 0.9274581461610641, 0.006745150153898648, 0.000843143769237331, 0.04330639913664483, 0.09743939805745086, 0.8444747831645741, 0.8983705973852419, 0.05284532925795541, 0.9081534232689971, 0.10605573380980272, 0.8708370953055984, 0.00756460298215426, 0.0001512920596430852, 0.0012103364771446816, 0.0048413459085787265, 0.0001512920596430852, 0.0001512920596430852, 0.00756460298215426, 0.0006051682385723408, 0.0003025841192861704, 0.0006051682385723408, 0.9164377499436982, 0.9792173193943747, 0.011797799028847889, 0.9632350839864776, 0.005038886065570628, 0.03023331639342377, 0.015116658196711884, 0.055427746721276906, 0.8414939729502949, 0.055427746721276906, 0.16034237928830028, 0.0035111469917146042, 0.11235670373486734, 0.035111469917146046, 0.08543791013172204, 0.009363058644572278, 0.005851911652857674, 0.0011703823305715347, 0.03745223457828911, 0.011703823305715347, 0.0011703823305715347, 0.536035107401763, 0.9164377499549817, 0.036971401047365314, 0.036971401047365314, 0.22182840628419187, 0.02464760069824354, 0.6778090192016973, 0.19461698136924935, 0.030012475664256258, 0.08663395037104898, 0.03589120801086315, 0.021967894558373138, 0.055383846844349174, 0.004641104484163339, 0.024443150283260252, 0.05074274236018584, 0.10241370561720434, 0.00433169751855245, 0.027537219939369143, 0.10860184492942213, 0.0689977533312283, 0.09034683395837967, 0.011138650761992013, 0.004641104484163339, 0.026918406008147364, 0.011448057727602903, 0.03867587070136116, 0.9700689018837352, 0.014698013664905078, 0.9258174363733783, 0.7879748318908227, 0.07968284816873487, 0.07082919837220879, 0.05312189877915659, 0.06696985837637308, 0.02705762063260174, 0.0041350516581384715, 0.1372657365647271, 0.00368558952138429, 0.0014382788376133815, 0.001078709128210036, 0.0012584939829117087, 0.006831824478663562, 0.6280783899002935, 0.004764298649594326, 0.004045159230787635, 0.00467440622224349, 0.002606880393174254, 0.003955266803436799, 0.0038653743760859627, 0.0016180636923150541, 0.08153243160720856, 0.001078709128210036, 0.014023218666730468, 0.07814545946231707, 0.007814545946231707, 0.02344363783869512, 0.10158909730101219, 0.718938227053317, 0.04688727567739024, 0.02344363783869512, 0.007814545946231707, 0.21018494809447186, 0.03090955119036351, 0.003090955119036351, 0.027818596071327157, 0.003090955119036351, 0.043273371666508915, 0.6831010813070335, 0.39539064617082753, 0.0014121094506100984, 0.3615000193561852, 0.06072070637623423, 0.1553320395671108, 0.002824218901220197, 0.0014121094506100984, 0.021181641759151475, 0.052929091504250785, 0.9262591013243887, 0.9313252613829207, 0.1463797327696413, 0.8197265035099913, 0.9717541513197189, 0.9071073214830137, 0.0716137359065537, 0.8657764520124326, 0.10902370136452855, 0.02565263561518319, 0.91993277524946, 0.04363943417125695, 0.0290929561141713, 0.04363943417125695, 0.10909858542814238, 0.0290929561141713, 0.6182253174261402, 0.10182534639959955, 0.01454647805708565, 0.8203763375530607, 0.010004589482354399, 0.16007343171767038, 0.8322544755371825, 0.05009223260074013, 0.0033394821733826754, 0.1502766978022204, 0.043413268253974784, 0.006678964346765351, 0.008348705433456689, 0.731346595970806, 0.0033394821733826754, 0.9436383900703795, 0.21073972873480543, 0.011737402613077772, 0.004801664705349997, 0.0026675915029722207, 0.004268146404755553, 0.004801664705349997, 0.003734628104161109, 0.019740177121994433, 0.005335183005944441, 0.49670553785342747, 0.010670366011888883, 0.05975404966657774, 0.014938512416644435, 0.04054739084517776, 0.07149145227965552, 0.03734628104161109, 0.0021340732023777766, 0.8322544755405195, 0.06974888662978676, 0.04184933197787205, 0.8788359715353131, 0.9696159355827876, 0.0015951923456548301, 0.011166346419583811, 0.0015951923456548301, 0.007975961728274151, 0.05742692444357388, 0.0015951923456548301, 0.8199288656665827, 0.009571154073928981, 0.035094231604406265, 0.047855770369644904, 0.0015951923456548301, 0.0031903846913096602, 0.006495291618801632, 0.006495291618801632, 0.18186816532644567, 0.7989208691126006, 0.9794061865080207, 0.11225172450680454, 0.09836295181358974, 0.024352916503171153, 0.08694752220272826, 0.05079866176833358, 0.023021116381903982, 0.05079866176833358, 0.05764791953485047, 0.06659000606335863, 0.014649801333938898, 0.006468743446154838, 0.030060631308601895, 0.03976374647783415, 0.02739703106606755, 0.04889609016652333, 0.02416265934299013, 0.04756429004525616, 0.07705414987331498, 0.03291448871131726, 0.08047877875657343, 0.9809855268659109, 0.002241674150440615, 0.033625112256609226, 0.03586678640704984, 0.04259180885837168, 0.1053586850707089, 0.11656705582291198, 0.1345004490264369, 0.15915886468128365, 0.01793339320352492, 0.002241674150440615, 0.3452178191678547, 0.8922296848880599, 0.922926801419335, 0.1376464659813632, 0.06390728777706149, 0.2482552332878158, 0.012289863034050287, 0.07251019190089669, 0.0983189042724023, 0.0012289863034050286, 0.06513627408046652, 0.002457972606810057, 0.039327561708960915, 0.09217397275537714, 0.0258087123715056, 0.03809857540555589, 0.04670147952939109, 0.013518849337455315, 0.039327561708960915, 0.9726756407500652, 0.012566896091523418, 0.0006792916806228874, 0.0003396458403114437, 0.07200491814602607, 0.0013585833612457748, 0.01460477113339208, 0.0003396458403114437, 0.0003396458403114437, 0.06385341797855142, 0.8036020581768758, 0.0003396458403114437, 0.0013585833612457748, 0.027850958905538386, 0.0003396458403114437, 0.0003396458403114437, 0.0004024201695188915, 0.0005365602260251886, 0.0004024201695188915, 0.1226040116467556, 0.004694901977720401, 0.0009389803955440802, 0.013011585481110826, 0.0026828011301259433, 0.0022803809606070516, 0.02508419056667757, 0.0002682801130125943, 0.0006707002825314858, 0.0012072605085566746, 0.0002682801130125943, 0.014755406215692688, 0.8099376611850223, 0.017201309468167777, 0.10894162663172925, 0.11754228136581314, 0.008600654734083888, 0.5676432124495366, 0.09174031716356147, 0.08600654734083889, 0.12160478921254785, 0.17983806855376794, 0.10105186709211722, 0.4384623385691866, 0.05652053583118421, 0.04795681828100479, 0.0017127435100358851, 0.008563717550179427, 0.037680357220789475, 0.0034254870200717703, 0.9224121555454406, 0.9031800878825549, 0.9620914588285697, 0.1113501042163397, 0.1870616057557683, 0.23715272933391524, 0.05764585041288382, 0.07062027258558418, 0.0036131302253089577, 0.06240861298260927, 0.0170802519741878, 0.086058192639177, 0.008211659602974904, 0.014124054517116834, 0.02299264688832973, 0.021843014543913245, 0.015273686861533322, 0.002135031496773475, 0.007883193218855907, 0.06651444278409673, 0.001970798304713977, 0.0036131302253089577, 0.002463497880892471, 0.8653539573618845, 0.8247460203136946, 0.13479508746749944, 0.00022170244649259775, 0.002438726911418575, 0.009311502752689107, 0.00022170244649259775, 0.5779782780062024, 0.015962576147467038, 0.07870436850487221, 0.008424692966718715, 0.00022170244649259775, 0.06141157767844958, 0.0015519171254481843, 0.0013302146789555866, 0.0390196305826972, 0.00022170244649259775, 0.006651073394777933, 0.022835351988737568, 0.038132820796726814, 0.00022170244649259775, 0.9573679551306405, 0.03191226517102135, 0.0070916144824491895, 0.8247460203097208, 0.08868604378944876, 0.010603766105260178, 0.12435325705259663, 0.03277527705262236, 0.06892447968419116, 0.007711829894734674, 0.03952312821051521, 0.01638763852631118, 0.019761564105257604, 0.12869116136838488, 0.054464798631563636, 0.06555055410524473, 0.024581457789466774, 0.00048198936842091714, 0.1402589062104869, 0.0009639787368418343, 0.0843481394736605, 0.014941670421048431, 0.024099468421045857, 0.05253684115787997, 0.0032715020285555728, 0.0010905006761851908, 0.0010905006761851908, 0.5419788360640398, 0.010905006761851908, 0.06652054124729664, 0.04580102839977802, 0.07524454665677817, 0.12322657640892656, 0.0021810013523703817, 0.07524454665677817, 0.030534018933185345, 0.023991014876074197, 0.008135578080807105, 0.10937832753085107, 0.0018079062401793566, 0.044293702884394236, 0.1283613430527343, 0.04067789040403552, 0.0009039531200896783, 0.0036158124803587132, 0.6625976370257342, 0.16272762195811807, 0.07091341323862943, 0.0007464569814592572, 0.002985827925837029, 0.0007464569814592572, 0.03209765020274806, 0.009703940758970343, 0.06494175738695537, 0.25155600275176965, 0.03433702114712583, 0.0156755966106444, 0.016422053592103657, 0.0836031819234368, 0.06494175738695537, 0.041055133980259145, 0.0014929139629185145, 0.09330712268240715, 0.008957483777511085, 0.0014929139629185145, 0.04254804794317766, 0.05153079656026088, 0.8760235415244351, 0.0938689562868028, 0.0055217033109884, 0.8392989032702368, 0.0055217033109884, 0.0110434066219768, 0.0220868132439536, 0.0110434066219768, 0.03478854050800799, 0.002046384735765176, 0.004092769471530352, 0.045020464186833864, 0.03888130997953834, 0.020463847357651756, 0.026603001564947285, 0.5811732649573099, 0.055252387865659745, 0.12892223835320607, 0.008185538943060703, 0.04092769471530351, 0.016371077886121407, 0.69653618414377, 0.1850174239131889, 0.013992914413602522, 0.007773841340890291, 0.012438146145424465, 0.07151934033619067, 0.004664304804534175, 0.004664304804534175, 0.001554768268178058, 0.00036794820790142247, 0.0007358964158028449, 0.00036794820790142247, 0.00036794820790142247, 0.0022076892474085347, 0.0029435856632113798, 0.0007358964158028449, 0.9923563167101364, 0.027719559245269518, 0.914745455093894, 0.027719559245269518, 0.09322713755640492, 0.01523244385135363, 0.0877297142115555, 0.004581186120707859, 0.13090739339922705, 0.00813160536425645, 0.5846738786553405, 0.0022905930603539294, 0.024394816092769347, 0.0033213599375131976, 0.00011452965301769646, 0.0008017075711238753, 0.0292050615195126, 0.0056119529978671265, 0.0009162372241415717, 0.0013743558362123577, 0.0018324744482831434, 0.0003435889590530894, 0.005268364038814037, 0.9783842220281012, 0.025632470524639676, 0.06683910035538954, 0.0009733849566318864, 0.06586571539875766, 0.0009733849566318864, 0.02757924043790345, 0.0012978466088425153, 0.0006489233044212577, 0.02238785400253339, 0.0032446165221062884, 0.0006489233044212577, 0.783250428436458, 0.00032446165221062883, 0.0003166764548502158, 0.001583382274251079, 0.9927806859554266, 0.004116793913052806, 0.0012667058194008633, 0.00010347662521991074, 0.9550892507797761, 0.005794691012315002, 0.00041390650087964296, 0.006105120887974734, 0.00010347662521991074, 0.0007243363765393752, 0.007553793641053484, 0.00010347662521991074, 0.0009312896269791967, 0.02079880166920206, 0.00010347662521991074, 0.0013451961278588397, 0.0003104298756597322, 0.0003104298756597322, 0.9606153006267732, 0.9746893946344692, 0.868779515929531, 0.06205567970925221, 0.9585243356146902, 0.025906063124721358, 0.0177438001098846, 0.9759090060436529, 0.9468827897890066, 0.027164569730594702, 0.031045222549251086, 0.003880652818656386, 0.011641958455969157, 0.5549333530678632, 0.21731655784475762, 0.07761305637312772, 0.07373240355447133, 0.8922296848878499, 0.9843235631964704, 0.05946529033116398, 0.0077563422171083455, 0.0077563422171083455, 0.7911469061450512, 0.015512684434216691, 0.08273431698248902, 0.0284399214627306, 0.005170894811405564, 0.9381423095972703, 0.03829152284070491, 0.24416387599376388, 0.003090681974604606, 0.14873907002784667, 0.0034770172214301817, 0.10160616991512642, 0.01622608036667418, 0.006181363949209212, 0.04404221813811564, 0.004249687715081333, 0.0019316762341278788, 0.05949562801113866, 0.02163477382223224, 0.019316762341278788, 0.007726704936511515, 0.0038633524682557575, 0.25536759815170557, 0.00811304018333709, 0.03592917795477854, 0.014294404132546302, 0.8730985215372156, 0.326238886635684, 0.11106648552439335, 0.04721082218475576, 0.01634220767933853, 0.02027644286140151, 0.03207914840759045, 0.06930306589941711, 0.018460642008141674, 0.02663174584781094, 0.11197438595102327, 0.00786847036412596, 0.013013239448362164, 0.060829328584204534, 0.02209224371466135, 0.06748726504615726, 0.013013239448362164, 0.012710605972818858, 0.00030263347554330614, 0.023000144141291267, 0.003678508450893046, 0.1677399853607229, 0.07357016901786093, 0.0022071050705358276, 0.0007357016901786092, 0.7518871273625386, 0.2445763434441591, 0.7478392039927172, 0.9286000998038173, 0.9276151444687857, 0.9418775108498763, 0.04155341959631807, 0.31333080331213004, 0.005497031637054913, 0.01832343879018304, 0.09344953782993351, 0.03664687758036608, 0.038479221459384386, 0.027485158185274562, 0.01649109491116474, 0.054970316370549124, 0.3078337716750751, 0.06596437964465895, 0.014658751032146432, 0.007329375516073216, 0.8085588714076309, 0.0009741673149489529, 0.0019483346298979059, 0.01948334629897906, 0.004870836574744765, 0.13833175872275133, 0.025328350188672778, 0.07869579868914829, 0.03181319521476208, 0.018418165650651727, 0.019673949672287073, 0.03641773662742501, 0.0012557840216353452, 0.48096528028633717, 0.1038114791218552, 0.011302056194718106, 0.011720650868596555, 0.03725492597518191, 0.07660282531975605, 0.09167223357938019, 0.09225460135490753, 0.0958028552531732, 0.8090018888045737, 0.0689688652932168, 0.09195848705762241, 0.8276263835186017, 0.9887943830473815, 0.05909277889836374, 0.078790371864485, 0.8305818367381126, 0.02954638944918187, 0.4174832663318694, 0.5723798845822096, 0.010326441216689347, 0.039180337860292756, 0.06530056310048793, 0.8750275455465383, 0.04083015602787169, 0.9539409181057296, 0.003711832366170154, 0.8947498754169904, 0.04970832641205502, 0.9856995691869493, 0.9705172111316295, 0.8602177468766788, 0.0753523060114954, 0.008661184599022459, 0.008661184599022459, 0.04850263375452577, 0.1281855320655324, 0.12558717668582567, 0.000866118459902246, 0.011259539978729197, 0.000866118459902246, 0.034644738396089836, 0.04936875221442802, 0.003464473839608984, 0.09527303058924706, 0.07968289831100663, 0.019920724577751656, 0.022519079957458395, 0.017322369198044918, 0.031180264556480854, 0.2390486949330199, 0.20708627115868936, 0.0062753415502633135, 0.05020273240210651, 0.13491984333066123, 0.5710560810739616, 0.025101366201053254, 0.0002729727377939519, 0.0002729727377939519, 0.9975333748116982, 0.0017288273393616955, 9.099091259798397e-05, 0.003569852056351694, 0.013964421279258097, 0.0013649434333109418, 0.002519895569189431, 0.5658215509317435, 0.004409817246081504, 0.04262823337878787, 0.0018899216768920731, 0.022574064473988652, 0.00850464754601433, 0.000734969541013584, 0.00020999129743245258, 0.016799303794596206, 0.11570520488528137, 0.08882631881392744, 0.03979335086344976, 0.000734969541013584, 0.05291780695297805, 0.012809469143379607, 0.004094830299932825, 0.005681175791025447, 0.1041548895021332, 0.04923685685555387, 0.5453928759384429, 0.02083097790042664, 0.001893725263675149, 0.08711136212905685, 0.026512153691452087, 0.01704352737307634, 0.14013566951196102, 0.04104592912910549, 0.016901264935514027, 0.02655913061295061, 0.05794719406461951, 0.016901264935514027, 0.34526869796835796, 0.03863146270974634, 0.007243399258077439, 0.40804482487169574, 0.04104592912910549, 0.90024356260337, 0.9283443816078822, 0.026505832942540625, 0.927704152988922, 0.008835277647513542, 0.03534111059005417, 0.9456193776585193, 0.003084321975378467, 0.0010281073251261557, 0.0010281073251261557, 0.0010281073251261557, 0.0010281073251261557, 0.003084321975378467, 0.02159025382764927, 0.009252965926135401, 0.011309180576387712, 0.0020562146502523114, 0.05448968823168625, 0.0010281073251261557, 0.7926707476722661, 0.0010281073251261557, 0.08224858601009245, 0.011309180576387712, 0.9972102445054397, 0.045997881995379186, 0.9462421439049433, 0.8274344396863504, 0.07522131269875913, 0.629079131666128, 0.157269782916532, 0.012097675608964001, 0.07258605365378401, 0.024195351217928002, 0.048390702435856005, 0.048390702435856005, 0.14477752638793337, 0.005079913206594153, 0.00761986980989123, 0.00761986980989123, 0.830565809278144, 0.01934246628009736, 0.024178082850121702, 0.03384931599017038, 0.5802739884029209, 0.024178082850121702, 0.03868493256019472, 0.04352054913021906, 0.03384931599017038, 0.14990411367075454, 0.04352054913021906, 0.9569687470956764, 0.9720843144996861, 0.0007296783965897521, 0.0021890351897692565, 0.0007296783965897521, 0.0007296783965897521, 0.9836064786029859, 0.01021549755225653, 0.0007296783965897521, 0.050153252548007676, 0.08726665943353336, 0.0431317971912866, 0.004012260203840614, 0.018055170917282762, 0.15547508289882378, 0.08927278953545366, 0.1404291071344215, 0.006018390305760921, 0.016049040815362455, 0.04714405739512721, 0.3310114668168507, 0.011033715560561689, 0.06697608451531449, 0.04604605810427871, 0.673946850435352, 0.1423241795950433, 0.033488042257657245, 0.033488042257657245, 0.06111823247289755, 0.010629257821373488, 0.05846091801755418, 0.10097794930304813, 0.05314628910686744, 0.002657314455343372, 0.023915830098090347, 0.0186012011874036, 0.4703446585957768, 0.0372024023748072, 0.1408376661331987, 0.01328657227671686, 0.002657314455343372, 0.11487158547838443, 0.07952648225426613, 0.03534510322411828, 0.7599197193185431, 0.8860726045821059, 0.22372576091314192, 0.054002769875585985, 0.03085872564319199, 0.44359418112088483, 0.24686980514553591, 0.0038573407053989987, 0.022983082451641948, 0.9729504904528424, 0.9671783687732102, 0.2913808086718089, 0.0018211300541988056, 0.7047773309749378, 0.8480433627257749, 0.08480433627257748, 0.6661548199514834, 0.019944755088367766, 0.003988951017673553, 0.1196685305302066, 0.187480697830657, 0.8585996605481273, 0.01589999371385421, 0.11129995599697948, 0.9252448290702429, 0.06853665400520317, 0.012091446926639427, 0.08005371758326793, 0.015427018492608925, 0.002084732228730936, 0.8180489265540193, 0.02043037584156317, 0.00041694644574618716, 0.017511750721339862, 0.020013429395816983, 0.0008338928914923743, 0.004169464457461872, 0.007088089577685182, 0.00041694644574618716, 0.9794179910800299, 0.009554831552904337, 0.16243213639937373, 0.7930510188910599, 0.03821932621161735, 0.9415216547573028, 0.9997292154496505, 0.8896367929246647, 0.0010932435972770913, 0.0032797307918312744, 0.1147905777140946, 0.020771628348264737, 0.11260409051954041, 0.7477786205375305, 0.9901031610698244, 0.03154277037924068, 0.7014636364797739, 0.0005251979397131161, 0.0002317049734028453, 0.0005560919361668287, 0.07451631944635505, 0.04410117993767489, 0.028098089774651707, 0.0416914482142853, 0.018289245900597925, 0.015879514177208332, 0.0025642017056581546, 0.0023788377269358786, 0.005900753322659128, 0.0011121838723336574, 0.008001545081511591, 0.008851129983988692, 0.008758447994627553, 0.0006642209237548233, 0.004850357443232895, 0.24946639744459634, 0.018478992403303432, 0.013859244302477574, 0.7022017113255304, 0.009239496201651716, 0.19336148959992894, 0.005687102635292028, 0.05118392371762825, 0.02274841054116811, 0.039809718447044194, 0.6824523162350433, 0.059005750722533015, 0.8850862608379952, 0.03933716714835535, 0.01201780024555399, 0.7571214154699014, 0.19228480392886385, 0.036053400736661974, 0.1532386326465399, 0.8428124795559694, 0.00016660661271197672, 0.0019159760461877322, 0.00010412913294498544, 0.8442998357445309, 0.0015411111675857846, 0.029385241317074894, 0.00020825826588997089, 0.009559054404349664, 0.0015202853409967874, 0.005393889086550246, 0.00708078104025901, 6.247747976699126e-05, 0.012433018473631261, 0.0075597750518059436, 0.0010204655028608573, 0.0010621171560388516, 0.0012287237687508283, 0.0514814433280008, 0.018805721409864373, 0.005164804994071278, 0.13929175109233696, 0.13929175109233696, 0.01888701709726603, 0.002360877137158254, 0.004721754274316508, 0.007082631411474761, 0.004721754274316508, 0.6799326155015771, 0.9980059161688611, 0.0018642700800165525, 0.00782236541151787, 0.14080257740732163, 0.8057036373863405, 0.039111827057589345, 0.008464171024324948, 0.18621176253514884, 0.17351550599866142, 0.05078502614594969, 0.4866898338986845, 0.05924919717027463, 0.029624598585137316, 0.8322544755672963, 0.9258612518208534, 0.8070306612561837, 0.062497323935664054, 0.10597372319525644, 0.0027172749537245243, 0.016303649722347144, 0.949875303452959, 0.8626071412379702, 0.09242219370406823, 0.9865722299788509, 0.6497144868606245, 0.014438099708013876, 0.21416514566887251, 0.038501599221370336, 0.002406349951335646, 0.07700319844274067, 0.016904756756898526, 0.9128568648725205, 0.0676190270275941, 0.9506392531371192, 0.3599461833813656, 0.46444668823402013, 0.16255634088190704, 0.13950306083527989, 0.06975153041763994, 0.7672668345940393, 0.9068370500933457, 0.0667939615464425, 0.9017184808769738, 0.984139631194169, 0.9027192406538487, 0.11516709241898916, 0.004546069437591678, 0.3970233975496732, 0.003030712958394452, 0.001515356479197226, 0.003030712958394452, 0.009092138875183356, 0.013638208312775032, 0.043945337896719554, 0.02879177310474729, 0.24700310610914783, 0.013638208312775032, 0.11062102298139749, 0.001515356479197226, 0.006061425916788904, 0.00011584712452686591, 0.00023169424905373183, 0.9995289904177991, 0.03943816872710785, 0.030564580763508584, 0.020335305749914986, 0.0055459924772495416, 0.0004929771090888481, 0.00024648855454442405, 0.0008627099409054842, 0.0003697328318166361, 0.009982786459049174, 0.006285458140882814, 0.003081106931805301, 0.01269416055903784, 0.0008627099409054842, 0.8344870014101476, 0.0003697328318166361, 0.034261909081674945, 0.025668768459720128, 0.0019745206507477023, 0.0019745206507477023, 0.005923561952243106, 0.007898082602990809, 0.9556679949618878, 0.8824734843869163, 0.005200861355777379, 0.052008613557773795, 0.010401722711554758, 0.031205168134664278, 0.08321378169243807, 0.10921808847132497, 0.6293042240490629, 0.005200861355777379, 0.010401722711554758, 0.062410336269328556, 0.04357047421938349, 0.08714094843876698, 0.8423625015747475, 0.018433070769855432, 0.09216535384927715, 0.8847873969530607, 0.003757088939663073, 0.003757088939663073, 0.033813800456967656, 0.04884215621561995, 0.03757088939663073, 0.5072070068545149, 0.06762760091393531, 0.003757088939663073, 0.12022684606921834, 0.011271266818989219, 0.045085067275956875, 0.12022684606921834, 0.9147898360212361, 0.0001024176681295203, 0.9976505052496573, 0.0021507710307199263, 0.1717870449827283, 0.05943686788431949, 0.005073878965734591, 0.05291330921408931, 0.057987188179823894, 0.029718433942159745, 0.009422918079221384, 0.024644554976425155, 0.14061893133607295, 0.020295515862938363, 0.00579871881798239, 0.04566491069161132, 0.20730419774287043, 0.12467245458662138, 0.008698078226973584, 0.036966832464637736, 0.0007248398522477987, 0.9812772500816884, 0.9211636775422062, 0.07881635890998434, 0.0047289815345990605, 0.06305308712798748, 0.0362555250985928, 0.011034290247397808, 0.03467919792039311, 0.1071902481175787, 0.0015763271781996868, 0.025221234851194988, 0.6336835256362741, 0.0047289815345990605, 0.005946338107152482, 0.987092125787312, 0.028608574515100762, 0.04904327059731559, 0.9181990106275197, 0.0027246261442953105, 0.8979197220372984, 0.07137694560619569, 0.678080983258859, 0.14275389121239138, 0.035688472803097844, 0.07137694560619569, 0.013864114384519705, 0.8595750918402216, 0.05545645753807882, 0.013864114384519705, 0.05545645753807882, 0.018602932412613016, 0.029430035933181435, 0.1629971220914664, 0.0032481310561705266, 0.003543415697640574, 0.010630247092921723, 0.0487219658425579, 0.20906152616079388, 0.04645811692462086, 0.09232566456630163, 0.015846942425559236, 0.0026575617732304308, 0.2808156940380155, 0.0032481310561705266, 0.003149702842347177, 0.00816954174733799, 0.005905692829400957, 0.003543415697640574, 0.050690530119024885, 0.0007874257105867943, 0.013140410163513845, 0.0016913399220364355, 0.14857770699735456, 0.10499317823718488, 0.10082987996755673, 0.05061009459016718, 0.004163298269628149, 0.043064116476466165, 0.0010408245674070372, 0.08547771759830293, 0.05126060994479658, 0.07780163641367603, 0.00039030921277763897, 0.04254370419276265, 0.002602061418517593, 0.015352162369253798, 0.0007806184255552779, 0.01847463607147491, 0.22702985876565998, 0.009627627248515094, 0.9103565104344122, 0.9909058710003197, 0.004741176416269472, 0.07727170858373085, 0.8499887944210394, 0.7060308723034195, 0.043907392556182805, 0.0860584894101183, 0.02458813983146237, 0.029857026938204308, 0.0017562957022473123, 0.005268887106741936, 0.08078960230337637, 0.007025182808989249, 0.01580666132022581, 9.055868954434965e-05, 0.99976793256962, 0.9737003524272303, 0.2045065909982731, 0.008180263639930924, 0.08764568185640276, 0.056872309115710236, 0.030773372740692525, 0.21969850918671624, 0.010907018186574566, 0.00779072727612469, 0.03661641819778604, 0.030773372740692525, 0.013633772733218207, 0.06037813638996634, 0.056872309115710236, 0.04947111820339178, 0.015970990916055614, 0.01986635455411796, 0.019476818190311725, 0.020645427281730428, 0.015191918188443145, 0.034668736378754866, 0.0731783486061796, 0.8537474004054285, 0.0731783486061796, 0.22445987069511086, 0.0135216789575368, 0.0473258763513788, 0.00405650368726104, 0.6909577947301304, 0.01622601474904416, 0.9734329598137569, 0.884243227767113, 0.0006394864297829877, 0.017905620033923656, 0.09208604588875023, 0.009592296446744815, 0.878654354521825, 0.9326027896151147, 0.8081093094836451, 0.16292526400879942, 0.006517010560351977, 0.013034021120703954, 0.006517010560351977, 0.9991243572740844, 0.7940028500058619, 0.04828395709495106, 0.010729768243322458, 0.021459536486644917, 0.053648841216612286, 0.06974349358159597, 0.3419913716565066, 0.08713916276064566, 0.002984217902761838, 0.12593399549654954, 0.028051648285961274, 0.009549497288837881, 0.0005968435805523676, 0.09489812930782644, 0.02924533544706601, 0.05610329657192255, 0.004774748644418941, 0.07997703979401725, 0.009549497288837881, 0.020889525319332865, 0.054909609410817815, 0.05132854792750361, 0.0005968435805523676, 0.0011936871611047352, 0.042252003806218075, 0.9295440837367978, 0.053488851449110614, 0.030565057970920347, 0.8023327717366592, 0.11461896739095132, 0.1676835746403624, 0.027610548434758467, 0.084851929336087, 0.026937120424154602, 0.007407708116642516, 0.00134685602120773, 0.07205679713461356, 0.09562677750574884, 0.11650304583446866, 0.14209331023741553, 0.028283976445362333, 0.00269371204241546, 0.0020202840318115953, 0.013468560212077301, 0.027610548434758467, 0.020202840318115953, 0.02424340838173914, 0.1272778940041305, 0.012795132201473436, 0.11308062019023267, 0.21088007548989335, 0.013753048401514785, 0.036674795737372756, 0.047371611160773146, 0.39578217066581434, 0.0015281164890571983, 0.01986551435774358, 0.0015281164890571983, 0.13447425103703345, 0.024449863824915173, 0.009425080516342653, 0.0013464400737632364, 0.0013464400737632364, 0.5506939901691636, 0.01750372095892207, 0.006732200368816181, 0.0053857602950529455, 0.008078640442579417, 0.01750372095892207, 0.09425080516342654, 0.08617216472084713, 0.07943996435203093, 0.012117960663869127, 0.012117960663869127, 0.05789692317181916, 0.03635388199160738, 0.9105500502727939, 0.9199327752471749, 0.006067223102065282, 0.004044815401376855, 0.03640333861239169, 0.07280667722478339, 0.05359380406824332, 0.04044815401376854, 0.11426603508889614, 0.023257688557916913, 0.0010112038503442137, 0.03741454246273591, 0.03235852321101484, 0.194151139266089, 0.09303075423166765, 0.015168057755163205, 0.27100263189224927, 0.005056019251721068, 0.06100187477235141, 0.03327374987582804, 0.9039368716266618, 0.9925024071744493, 0.043177355374144764, 0.10434527548751651, 0.030583960056685875, 0.1259339531745889, 0.06476603306121714, 0.01259339531745889, 0.28604997935370907, 0.019789621213149686, 0.05217263774375826, 0.06476603306121714, 0.0017990564739226987, 0.019789621213149686, 0.06296697658729444, 0.023387734160995082, 0.048574524795912864, 0.03598112947845397, 0.9383129327128374, 0.9300001191832277, 0.04894737469385409, 0.11816556569381224, 0.10572708509446359, 0.6343625105667815, 0.012438480599348658, 0.10572708509446359, 0.012438480599348658, 0.036478571283298636, 0.07295714256659727, 0.8390071395158686, 0.9430818170179094, 0.037723272680716374, 0.9132808111765093, 0.8247460203011384, 0.0010269494662142472, 0.9981948811602483, 0.8834516192312541, 0.20767207200753668, 0.1216176827612847, 0.014269222706648927, 0.036002346521391136, 0.016903540744799498, 0.0985673999274672, 0.034246134495957425, 0.08451770372399749, 0.0019757385286129285, 0.036002346521391136, 0.007244374604914071, 0.008342007120810142, 0.06629700396012271, 0.04171003560405071, 0.04873488370578557, 0.07266327255231993, 0.010976325158960713, 0.02173312381474221, 0.031172763451448426, 0.03929524406907935, 0.9451378516899992, 0.03635145583423074, 0.9764136699203971, 0.044833893525617716, 0.08966778705123543, 0.007472315587602953, 0.007472315587602953, 0.011208473381404429, 0.13076552278305167, 0.03736157793801476, 0.6650360872966627, 0.01988428024753956, 0.017233042881200953, 0.03844294181190982, 0.03711732312874051, 0.02386113629704747, 0.009279330782185128, 0.06893217152480381, 0.3698476126042358, 0.015907424198031647, 0.12328253753474527, 0.09146768913868197, 0.09544454518818989, 0.009279330782185128, 0.001325618683169304, 0.02386113629704747, 0.009279330782185128, 0.04639665391092564, 0.9033677890730919, 0.9146183320396267, 0.07953202887301103, 0.9069334308409309, 0.897770057478602, 0.10563879174867344, 0.8715200319265559, 0.08912582965713599, 0.8912582965713599, 0.9980180684030866, 0.0009940419007998871, 0.4180758735634035, 0.006431936516360053, 0.5724423499560447, 0.9264996112343669, 0.27493332107153146, 0.1360398953847419, 0.0330533926653854, 0.0779100243074225, 0.040143983112897776, 0.06934943340127951, 0.005642207642685147, 0.015824122584082483, 0.010916915170712641, 0.028340744136246085, 0.05493045831441747, 0.06057266595710262, 0.006982502178495412, 0.051298692475447716, 0.04896398586468145, 0.029118979673168174, 0.0022482359955527022, 0.0044100013758918396, 0.005555737027471582, 0.04375413129806413, 0.09836513272455673, 0.8606949113398714, 0.9719237286414177, 0.05449396314370946, 0.8719034102993514, 0.06811745392963683, 0.003361964684201435, 0.03361964684201435, 0.04034357621041722, 0.036981611526215784, 0.8673868885239702, 0.01344785873680574, 0.0753028797261464, 0.917465697887947, 0.004610380391396719, 0.06381297564431344, 0.925288146842545, 0.9914855520009618, 0.8986778408655823, 0.08558836579672213, 0.987151789545157, 0.9686036840483536, 0.9504259731492039, 0.046055884161415164, 0.05835064313791046, 0.875259647068657, 0.16204117968481924, 0.003413506883075498, 0.05883279510241888, 0.08192416519381195, 0.008834958991489525, 0.0006023835676015585, 0.04839147993065853, 0.0018071507028046753, 0.13714265889062147, 0.05080101420106477, 0.006023835676015585, 0.042166849732109095, 0.05642326083201264, 0.014658000144971256, 0.008232575423887965, 0.04035969902930442, 0.2624384409517456, 0.00020079452253385282, 0.016063561802708227, 0.07507188085693797, 0.09652098967320596, 0.10992668268337347, 0.09920212827523947, 0.008043415806100497, 0.002681138602033499, 0.008043415806100497, 0.02413024741830149, 0.002681138602033499, 0.05094163343863648, 0.5094163343863648, 0.013405693010167495, 0.34355670150095186, 0.02614586769413637, 0.003137504123296364, 0.03921880154120455, 0.0005229173538827274, 0.00784376030824091, 0.08994178486782911, 0.001568752061648182, 0.0005229173538827274, 0.3900963459965146, 0.005752090892710001, 0.008889595016006365, 0.07739176837464365, 0.001568752061648182, 0.003137504123296364, 0.868200311149162, 0.9626626085232977, 0.3058095414771134, 0.40056742756861335, 0.030150236483659068, 0.012921529921568172, 0.11629376929411354, 0.06460764960784086, 0.06891482624836358, 0.8594446536875943, 0.06138890383482817, 0.2018192606208187, 0.7955773752009085, 0.8847460336174005, 0.966889015347431, 0.03427047290588163, 0.07615660645751474, 0.041886133551633106, 0.11042707936339637, 0.6130606819829936, 0.01142349096862721, 0.026654812260130157, 0.007615660645751473, 0.053309624520260314, 0.0038078303228757365, 0.01142349096862721, 0.0038078303228757365, 0.9534847521180384, 0.9606364779482232, 0.019806937689654084, 0.009903468844827042, 0.009903468844827042, 0.9782548359297706, 0.0007706964652302251, 0.07629895005779229, 0.0007706964652302251, 0.11098029099315242, 0.023120893956906752, 0.02389159042213698, 0.7236839808511814, 0.02389159042213698, 0.013872536374144052, 0.0015413929304604502, 0.03742534553051957, 0.9356336382629892, 0.016086853842807752, 0.981298084411273, 0.9031800879179439, 0.8961038396306353, 0.07871182375133959, 0.018164267019539906, 0.1493226432777269, 0.022398396491659037, 0.09332665204857932, 0.690617225159487, 0.022398396491659037, 0.018665330409715863, 0.003733066081943173, 0.04160891035009899, 0.0007850737801905471, 0.0002616912600635157, 0.0005233825201270314, 0.0002616912600635157, 0.005757207721397345, 0.0015701475603810942, 0.07301186155772088, 0.0450108967309247, 0.005233825201270314, 0.14497695807518768, 0.05652531217371939, 0.14209835421448902, 0.0133462542632393, 0.03401986380825704, 0.4268184451635941, 0.0002616912600635157, 0.0013084563003175785, 0.007065664021714923, 0.06812683055470639, 0.006405086633348464, 0.001164561206063357, 0.0005822806030316785, 0.0005822806030316785, 0.18807663477923217, 0.041924203418280855, 0.01164561206063357, 0.025620346533393856, 0.002329122412126714, 0.051822973669819396, 0.0005822806030316785, 0.013392453869728607, 0.05298753487588275, 0.001164561206063357, 0.0005822806030316785, 0.523470262125479, 0.009316489648506857, 0.013625278283506095, 0.9483193685320241, 0.010900222626804876, 0.02452550091031097, 0.9160431784821559, 0.8965301081250411, 0.1895172127101894, 0.0871167832619419, 0.0030567292372611194, 0.06571967860111406, 0.09781533559235582, 0.006113458474522239, 0.03209565699124175, 0.03515238622850287, 0.022925469279458394, 0.024453833898088955, 0.09934370021098637, 0.055021126270700146, 0.015283646186305596, 0.024453833898088955, 0.2384248805063673, 0.9354545410859021, 0.9926027908343703, 0.7318860090789959, 0.08088579779482664, 0.0026092192837040853, 0.03261524104630107, 0.04957516639037762, 0.003913828925556128, 0.011741486776668385, 0.013046096418520427, 0.016959925344076556, 0.014350706060372469, 0.0013046096418520426, 0.0013046096418520426, 0.03783367961370924, 0.32768207546672, 0.10672692296455169, 0.020211853821869415, 0.07847200153934042, 0.003000522629225975, 0.03338081425013897, 0.010585177053102744, 0.022212202241353396, 0.01641952660993103, 0.015085960996941707, 0.01029345957526133, 0.09005735280218516, 0.05496790761040362, 0.09093250523570941, 0.057093277806105354, 0.011668699113656568, 0.019920136344028, 0.023254050376501304, 0.003125544405443724, 0.004875849272492209, 0.9807437697920424, 0.9491562834444272, 0.9794912556197553, 0.021508285687591645, 0.11616774622709926, 0.06958563016573768, 0.024038672239073015, 0.5037769588858364, 0.035655446861782944, 0.005175790673484621, 0.013572073321581894, 0.0024153689809594896, 0.002185333839915729, 0.00011501757052188046, 0.04991762560649612, 0.009776493494359838, 0.00011501757052188046, 0.01265193275740685, 0.001725263557828207, 0.1307749776833781, 0.0009201405641750437, 0.0005719205651246082, 0.5587663921267423, 0.15155894975802117, 0.0034315233907476496, 0.0017157616953738248, 0.0011438411302492164, 0.004003443955872258, 0.05833589764271004, 0.20589140344485896, 0.002287682260498433, 0.011438411302492164, 0.9574324058875014, 0.9211636775445393, 0.43063164283400684, 0.03116916420157332, 0.031264775134706976, 0.10077392352287816, 0.043598585508949184, 0.010708424510969974, 0.025241286347286368, 0.016731913298390584, 0.03661898739019197, 0.010230369845301672, 0.008413762115762124, 0.04350297457581552, 0.003155160793410796, 0.020173906891202364, 0.018070466362261832, 0.04216442151194427, 0.10058270165661083, 0.016827524231524248, 0.007075209051890876, 0.0032507717265444565, 0.11697808456779087, 0.014622260570973858, 0.13034700851839554, 0.008773356342584315, 0.45746786643475357, 0.0008355577469127919, 0.01963560705245061, 0.00041777887345639597, 0.024231174660470967, 0.0008355577469127919, 0.03300453100305528, 0.0008355577469127919, 0.17964491558625026, 0.005013346481476752, 0.002506673240738376, 0.00417778873456396, 0.056512443498961264, 0.013094346664393464, 0.08201196068751695, 0.0413505684138741, 0.016540227365549637, 0.13507852348532204, 0.0006891761402312349, 0.654028157079442, 0.0006891761402312349, 0.019161127758510303, 0.09580563879255151, 0.8814118768914739, 0.8469251536598099, 0.1302961774861246, 0.0009423508916279454, 0.029212877640466307, 0.010365859807907399, 0.0009423508916279454, 0.01601996515767507, 0.16491140603489046, 0.05842575528093261, 0.4400778663902505, 0.27705116213861597, 0.0018847017832558908, 0.04073224481021689, 0.18329510164597598, 0.7739126513941208, 0.00026304390320115695, 0.0003945658548017354, 0.0021043512256092556, 0.0006576097580028923, 0.00013152195160057848, 0.9399873880893344, 0.0006576097580028923, 0.055239219672242955, 0.00013152195160057848, 0.00013152195160057848, 0.00026304390320115695, 0.004738131335873661, 0.1326676774044625, 0.004738131335873661, 0.7296722257245437, 0.05685757603048393, 0.06633383870223125, 0.10876159847425297, 0.8791562543335448, 0.1416879563031365, 0.01771099453789206, 0.005060284153683446, 0.5996436722114883, 0.002530142076841723, 0.005060284153683446, 0.002530142076841723, 0.005060284153683446, 0.08602483061261858, 0.04048227322946757, 0.08349468853577685, 0.01771099453789206, 0.8850439634728751, 0.016268771830256507, 0.13828456055718033, 0.6751540309556451, 0.048806315490769525, 0.12201578872692381, 0.9698399927572023, 0.9541456681310836, 0.27562619664261556, 0.022050095731409244, 0.6945780155393911, 0.9796036719867357, 0.8918833756729937, 0.22468008362000366, 0.01207957438817224, 0.004831829755268896, 0.04831829755268896, 0.007247744632903344, 0.002415914877634448, 0.01207957438817224, 0.004831829755268896, 0.09180476535010902, 0.004831829755268896, 0.45660791187291067, 0.1304594033922602, 0.9099382348033348, 0.07377877579486498, 0.4852108703378596, 0.4852108703378596, 0.023105279539898077, 0.9598918052888857, 0.9068553540843923, 0.04552513189883268, 0.9446464869007781, 0.9709494664698269, 0.9324857926165695, 0.06551422430561378, 0.9532761280081051, 0.04650127453698073, 0.23039960370587556, 0.7526387054391934, 0.025356220326660472, 0.04226036721110078, 0.025356220326660472, 0.9043718583175567, 0.9331533906541246, 0.9521942628051819, 0.8769129892043576, 0.4201057130137354, 0.08466008665295809, 0.007028384552321048, 0.0003194720251055022, 0.0025557762008440177, 0.06421387704620594, 0.023960401882912662, 0.016932017330591617, 0.09073005512996261, 0.017890433405908124, 0.013737297079536593, 0.02779406618417869, 0.046642915665403316, 0.08082642235169206, 0.020765681631857644, 0.019807265556541137, 0.0003194720251055022, 0.05303235616751336, 0.0009584160753165065, 0.00734785657742655, 0.0066220077185202625, 0.09270810805928367, 0.6224687255409046, 0.06622007718520262, 0.19866023155560786, 0.002707459321457541, 0.005414918642915082, 0.07039394235789606, 0.6552051557927249, 0.11642075082267425, 0.06227156439352344, 0.07580886100081113, 0.005414918642915082, 0.005414918642915082, 0.02078992997225876, 0.8731770588348678, 0.10394964986129379, 0.9248415194805121, 0.03913899711131141, 0.9197664321158181, 0.019569498555655707, 0.02336652369232587, 0.0015931720699313093, 0.004779516209793928, 0.03292555611191372, 0.03929824439163896, 0.04142247381821404, 0.14497865836374915, 0.08178283292314054, 0.11895684788820442, 0.25862493268551584, 0.008496917706300317, 0.0005310573566437698, 0.10036984040567248, 0.01858700748253194, 0.004248458853150158, 0.027614982545476025, 0.09187292269937217, 0.014986358690039125, 0.02622612770756847, 0.033719307052588035, 0.011239769017529344, 0.02247953803505869, 0.037465896725097814, 0.5582418612039575, 0.033719307052588035, 0.08617156246772498, 0.048705665742627156, 0.13113063853784235, 0.9825637107994226, 0.10408861430164912, 0.8587310679886052, 0.9314966988961492, 0.11179430017175793, 0.8794484946844957, 0.6815507085977726, 0.003199768584966068, 0.22718356953259086, 0.01919861150979641, 0.06399537169932136, 0.003199768584966068, 0.12557188719142248, 0.8580745624747204, 0.8953735118829491, 0.09496385732091885, 0.006930651337397098, 0.1628703064288318, 0.04158390802438259, 0.045049233693081135, 0.7346490417640924, 0.00153782858607732, 0.00153782858607732, 0.11533714395579898, 0.15839634436596395, 0.00153782858607732, 0.059975314857015474, 0.6612662920132475, 0.8989945071340535, 0.03908671770148058, 0.0029091566326656317, 0.005818313265331263, 0.14836698826594721, 0.5149207239818169, 0.005818313265331263, 0.0029091566326656317, 0.15127614489861285, 0.026182409693990685, 0.0029091566326656317, 0.029091566326656316, 0.03490987959198758, 0.014545783163328158, 0.05818313265331263, 0.9313926099519567, 0.9721332882491962, 0.8912426315756297, 0.8730141778446623, 0.9620298796299852, 0.900245041178891, 0.0266696824640186, 0.001030712365759173, 0.03839403562452919, 0.00025767809143979325, 0.0011595514114790696, 0.1298697580856558, 0.001030712365759173, 0.012239709343390179, 0.060554351488351414, 0.001030712365759173, 0.0009018733200392764, 0.002319102822958139, 0.0007730342743193797, 0.7233024026714997, 0.00025767809143979325, 0.07414236093439551, 0.0022132048040118062, 0.0033198072060177095, 0.01438583122607674, 0.008852819216047225, 0.0077462168140413215, 0.1095536377985844, 0.04647730088424793, 0.08078197534643093, 0.05643672250230106, 0.0011066024020059031, 0.009959421618053127, 0.19144221554702123, 0.0022132048040118062, 0.0044264096080236124, 0.07524896333640141, 0.0011066024020059031, 0.31095527496365877, 0.950777009726986, 0.23871522976515588, 0.10784065204303094, 0.039785871627525976, 0.0010469966217769994, 0.014657952704877993, 0.003140989865330998, 0.008375972974215995, 0.4282216183067928, 0.03769187838397198, 0.09004170947282195, 0.005234983108884997, 0.01779894257020899, 0.0010469966217769994, 0.003140989865330998, 0.005234983108884997, 0.9562239482710697, 0.8924285405996206, 0.2678217183318394, 0.016481336512728578, 0.004120334128182144, 0.032962673025457155, 0.012361002384546432, 0.004120334128182144, 0.659253460509143, 0.1348246785098005, 0.020237953856650816, 0.002422853630725802, 0.770467454570805, 0.0015677288198814013, 0.0009976456126518007, 0.0002850416036148002, 0.0031354576397628025, 0.0008551248108444007, 0.0008551248108444007, 0.00042756240542220035, 0.029074243568709624, 0.00042756240542220035, 0.0014252080180740011, 0.03163961800124283, 0.0002850416036148002, 0.0011401664144592009, 0.05326474165348355, 0.9321329789359621, 0.024190942015791597, 0.11328441139102408, 8.428899657070243e-05, 0.0007586009691363219, 0.00016857799314140486, 0.0010957569554191316, 0.0010114679588484293, 0.0016014909348433463, 0.00590022975994917, 0.0003371559862828097, 0.08428899657070243, 0.034811355583700104, 0.1941175591023277, 0.002528669897121073, 0.05504071476066869, 0.04568463614132072, 0.2357563234082547, 0.19588762803031246, 0.0013486239451312389, 0.001938646921126156, 0.056520237599563816, 0.0007536031679941841, 0.0015072063359883683, 0.003768015839970921, 0.0007536031679941841, 0.007536031679941842, 0.012811253855901131, 0.042201777407674314, 0.14921342726284847, 0.07008509462345913, 0.01808647603186042, 0.05576663443156963, 0.5742456140115684, 0.0022608095039825526, 0.005275222175959289, 0.9335137871394434, 0.8929723332146656, 0.9638588165138134, 0.9802710852183231, 0.162972588012895, 0.05432419600429833, 0.009054032667383055, 0.009054032667383055, 0.5975661560472817, 0.11770242467597972, 0.045270163336915276, 0.8872801338787181, 0.02465928182853807, 0.9678768117701192, 0.9030979864013451, 0.8798622890509166, 0.9316772733633697, 0.0014434436481767451, 0.9858720117047169, 0.010104105537237217, 0.0014434436481767451, 0.3797110365577508, 0.09061286099673597, 0.08013382265017467, 0.08383230677249043, 0.000616414020385959, 0.0055477261834736315, 0.0043148981427017135, 0.04253256740663117, 0.03451918514161371, 0.05301160575319248, 0.001849242061157877, 0.06287423007936782, 0.06965478430361337, 0.007396968244631508, 0.028355044937754117, 0.009246210305789386, 0.04561463750856097, 0.3190355218944142, 0.20509426407498058, 0.13672950938332037, 0.0626676918006885, 0.005697062890971682, 0.10254713203749029, 0.005697062890971682, 0.0626676918006885, 0.0968500691465186, 0.011394125781943364, 0.8765259533558524, 0.10192162248323865, 0.7614203434534885, 0.11318410510795099, 0.08917535553959775, 0.03086839230216845, 0.9874638745904427, 0.23091776990344703, 0.011545888495172352, 0.06927533097103411, 0.04849273167972388, 0.3279032332628948, 0.0023091776990344704, 0.025400954689379175, 0.025400954689379175, 0.09929464105848222, 0.16164243893241292, 0.8895971917411241, 0.08087247197646583, 0.26278043142819, 0.7320312018356723, 0.9306915902969668, 0.03904560702324324, 0.001774800319238329, 0.023072404150098275, 0.010648801915429974, 0.001774800319238329, 0.7631641372724814, 0.1597320287314496, 0.008521277215544135, 0.03905585390457729, 0.012781915823316203, 0.012781915823316203, 0.004260638607772068, 0.032664895992919184, 0.24711703925077994, 0.04899734398937878, 0.10225532658652962, 0.01065159651943017, 0.05822872763955159, 0.4218032221694347, 0.9695994817993002, 0.010795546313564164, 0.005888479807398635, 0.2325949523922461, 0.0029442399036993176, 0.7468555222383936, 0.042481335453520855, 0.004045841471763891, 0.003034381103822918, 0.0333781921420521, 0.05664178060469447, 0.01921774699087848, 0.007080222575586809, 0.10923771973762506, 0.13452422893614938, 0.23162442425848276, 0.12845546672850353, 0.015171905519114591, 0.2144295980034862, 0.939139641662094, 0.002698758079770445, 0.1430341782278336, 0.022939443678048784, 0.08231212143299857, 0.051276403515638454, 0.30226090493428986, 0.14438355726771882, 0.0013493790398852225, 0.12819100878909614, 0.11334783935035869, 0.009445653279196558, 0.916230594853652, 0.9785394243048032, 0.003587839930437649, 0.007175679860875298, 0.0017939199652188245, 0.8467302235832851, 0.025114879513063543, 0.0017939199652188245, 0.0017939199652188245, 0.11301695780878594, 0.10969116225972493, 0.00038623648683001736, 0.7868924691683553, 0.004377346850740197, 0.0001287454956100058, 0.00038623648683001736, 0.0009012184692700405, 0.03051268245957137, 0.0012874549561000578, 0.009913403161970445, 0.0088834391970904, 0.01583569596003071, 0.0021886734253700984, 0.028581500025421286, 0.011854925144697036, 0.09822652262748972, 0.0006774242939826877, 0.8579578683290741, 0.00033871214699134387, 0.005080682204870158, 0.024387274583376757, 0.0010161364409740315, 0.9954261657946621, 0.05564196196233023, 0.8902713913972837, 0.21036691453141243, 0.0010414203689673883, 0.005207101844836941, 0.020828407379347765, 0.038011843467309674, 0.015621305534510825, 0.004165681475869553, 0.05988167121562483, 0.07185800545874979, 0.019266276825896683, 0.0536331490018205, 0.013538464796576048, 0.3816805652265478, 0.05884025084665744, 0.005727812029320636, 0.01718343608796191, 0.02134911756383146, 0.0010414203689673883, 0.9206124700962621, 0.13652176028703283, 0.7943084234881911, 0.04964427646801194, 0.9721608895730857, 0.01606877503426588, 0.8798622890509968, 0.00038933792923667227, 0.011485468912481832, 0.9880423299203651, 0.012808273217217964, 0.05123309286887186, 0.012808273217217964, 0.9093873984224755, 0.06284975465001803, 0.9322713606419343, 0.09042474121244747, 0.029996668959898436, 0.024345122634120468, 0.001738937331008605, 0.1951957154057159, 0.0865121322176781, 0.3238770779003527, 0.0356482152856764, 0.001738937331008605, 0.00347787466201721, 0.00043473433275215123, 0.003912608994769361, 0.00999888965329948, 0.07564377389887432, 0.06260174391630978, 0.009129420987795176, 0.005651546325777967, 0.018258841975590353, 0.006086280658530117, 0.015650435979077445, 0.843038310082391, 0.005545184497443666, 0.04990666047699299, 0.9426813645654233, 0.005545184497443666, 0.9900688058081581, 0.0024118606718834547, 0.0012059303359417274, 0.0012059303359417274, 0.003617791007825182, 0.0012059303359417274, 0.8728149855339941, 0.014594581558673988, 0.4597293190982306, 0.002432430259778998, 0.19216199052254085, 0.31135107325171174, 0.017027011818452988, 0.10257791645499713, 0.26768996379699783, 0.005485450077807333, 0.018101985256764198, 0.0010970900155614666, 0.03839815054465133, 0.04223796559911646, 0.0148107152100798, 0.12177699172732279, 0.037301060529089866, 0.0213932553034486, 0.09818955639275126, 0.010970900155614666, 0.0510146857236082, 0.006582540093368799, 0.08941283626825952, 0.06472831091812653, 0.0032912700466843996, 0.005485450077807333, 0.16349938125139618, 0.7283154255744012, 0.08918148068257974, 0.003441482159886511, 0.0008603705399716278, 0.1144292818162265, 0.008603705399716277, 0.8199331245929613, 0.019788522419347438, 0.0008603705399716278, 0.0043018526998581386, 0.024950745659177206, 0.003922369272482649, 0.003922369272482649, 0.003922369272482649, 0.10002041644830753, 0.003922369272482649, 0.5883553908723972, 0.11570989353823813, 0.1549335862630646, 0.01961184636241324, 0.007844738544965297, 0.9589249404151285, 0.9954528966469686, 0.9151291220466218, 0.04353813394867012, 0.8446397986042004, 0.0696610143178722, 0.026122880369202073, 0.9721332882386645, 0.09149599137522373, 0.8920859159084313, 0.8862878179048105, 0.023739852265307424, 0.023739852265307424, 0.03165313635374323, 0.023739852265307424, 0.9904371623368412, 0.9248074026932219, 0.05152994962822737, 0.03279178612705378, 0.08959184423998623, 0.031620650908230435, 0.07905162727057609, 0.03337735373646546, 0.15400428127527044, 0.015810325454115218, 0.07729492444234107, 0.026936110032937038, 0.05621449050352077, 0.03630519178352383, 0.02225156915764364, 0.0392330298305822, 0.13819395582115523, 0.04684540875293398, 0.04684540875293398, 0.021080433938820288, 0.0011711352188233494, 0.9715137157360088, 0.18482203251687335, 0.10651956835896136, 0.45852794326705215, 0.021162828150787023, 0.03174424222618053, 0.0014108552100524682, 0.0007054276050262341, 0.0557287807970725, 0.04303108390660028, 0.030333387016128067, 0.0007054276050262341, 0.0035271380251311706, 0.019751972940734556, 0.0035271380251311706, 0.033860525041259235, 0.002116282815078702, 0.002116282815078702, 0.0007054276050262341, 0.047637102942514234, 0.9051049559077705, 0.8479395238206316, 0.9973367140957901, 0.0016677871473173747, 0.04289631283668761, 0.5331398881131174, 0.030640223454776863, 0.10417675974624134, 0.030640223454776863, 0.2206096088743934, 0.02451217876382149, 0.04335521356850014, 0.26374421587504254, 0.6864575481679189, 0.9844634609487768, 0.9151052348185615, 0.9343949154571536, 0.008709090164144812, 0.004354545082072406, 0.04354545082072405, 0.008709090164144812, 0.18724543852911343, 0.004354545082072406, 0.05225454098486886, 0.004354545082072406, 0.0827363565593757, 0.12628180738009975, 0.47464541394589216, 0.97227580328534, 0.005284550816388115, 0.00024579306122735414, 0.0009831722449094166, 0.00024579306122735414, 0.001351861836750448, 0.00012289653061367707, 0.6681884369465623, 0.121790461838154, 0.04436564755153743, 0.10286439612364771, 0.0022121375510461877, 0.001474758367364125, 0.0007373791836820625, 0.00012289653061367707, 0.025562478367644834, 0.024579306122735418, 0.024953230738431646, 0.0029015384579571682, 0.0023212307663657344, 0.09052799988826364, 0.09923261526213516, 0.0011606153831828672, 0.0017409230747743008, 0.015668307672968708, 0.030175999962754548, 0.0058030769159143365, 0.22573969202906768, 0.10213415372009232, 0.02727446150479738, 0.14101476905671836, 0.12998892291648115, 0.06325353838346627, 0.0017409230747743008, 0.0034818461495486016, 0.031336615345937416, 0.9465550916995632, 0.04223545764703957, 0.008447091529407914, 0.09291800682348705, 0.016894183058815827, 0.09291800682348705, 0.08447091529407914, 0.033788366117631655, 0.6166376816467777, 0.9830554716563922, 0.8824734843718076, 0.07039548201779736, 0.9275639983521534, 0.9230388339801229, 0.9132808111638377, 0.061563194273111695, 0.9234479140966755, 0.9390103620175267, 0.2014414198116935, 0.0074821098787200445, 0.6929584841522256, 0.0005755469137476957, 0.0005755469137476957, 0.060432425943508054, 0.00805765679246774, 0.01611531358493548, 0.012662032102449306, 0.03479726291667748, 0.939526098750292, 0.7313053356100002, 0.2694282815405264, 0.8982942431681666, 0.8981030455203317, 0.08947891443170737, 0.8053102298853664, 0.03579156577268295, 0.05368734865902443, 0.06609469643339035, 0.36004216215031054, 0.001739334116668167, 0.003478668233336334, 0.026090011750022506, 0.14088606345012153, 0.0052180023500045004, 0.03304734821669517, 0.10436004700009002, 0.020872009400018002, 0.1582794046168032, 0.031308014100027, 0.04696202115004051, 0.050921998662149706, 0.0011842325270267375, 0.0035526975810802122, 0.9367279288781493, 0.0011842325270267375, 0.005921162635133687, 0.015964535384637036, 0.9578721230782222, 0.0805035882318776, 0.02122367326113137, 0.009514060427403716, 0.0073185080210797825, 0.04244734652226274, 0.010245911229511694, 0.14197905560894777, 0.0007318508021079783, 0.06586657218971805, 0.09148135026349728, 0.3293328609485902, 0.0021955524063239345, 0.0036592540105398912, 0.09514060427403717, 0.06001176577285421, 0.03146958449064306, 0.0007318508021079783, 0.005854806416863826, 0.05655542650535642, 0.14265473252843636, 0.006752886746908229, 0.01857043855399763, 0.06162009156553759, 0.017726327710634104, 0.036296766264631734, 0.02616743614426939, 0.03376443373454115, 0.06921708915580935, 0.05908775903544701, 0.26336258312942096, 0.02616743614426939, 0.029543879517723505, 0.0016882216867270573, 0.04558198554163055, 0.06668475662571877, 0.03882909879472232, 0.9208655570523959, 0.934279974221201, 0.06269363880587972, 0.9195067024862359, 0.9767337964450032, 0.9761636474160201, 0.9571510962877499, 0.9990963176536016, 0.8291477330017686, 0.17109397665115858, 0.004497403312730894, 0.053968839752770725, 0.04497403312730894, 0.09669417122371422, 0.002248701656365447, 0.20238314907289023, 0.021362665735471745, 0.05621754140913617, 0.059590593893684346, 0.01686526242274085, 0.002248701656365447, 0.047222734783674385, 0.059590593893684346, 0.0011243508281827234, 0.24960588385656463, 0.012367859110009958, 0.06521234803459797, 0.002248701656365447, 0.9132808111790349, 0.25873065117889693, 0.06888283570347256, 0.010080414980995985, 0.028561175779488624, 0.06384262821297457, 0.2738512736503909, 0.11088456479095583, 0.035281452433485946, 0.005040207490497993, 0.005040207490497993, 0.11760484144495316, 0.0033601383269986616, 0.016800691634993307, 0.9797085620472245, 0.8918833756755371, 0.09606750505677357, 0.0592416281183437, 0.13289338199520342, 0.6228376577847486, 0.048033752528386785, 0.040028127106988984, 0.8479395237981762, 0.7658028227801852, 0.09009444973884531, 0.045047224869422656, 0.045047224869422656, 0.14732531256838202, 0.004603916017761938, 0.004603916017761938, 0.7228148147886243, 0.11509790044404845, 0.9164377499456615, 0.17894512153330933, 0.3747634803327868, 0.0002960217064240022, 0.039814919514028296, 0.008732640339508064, 0.0134689876422921, 0.26271926445130195, 0.013913020201928103, 0.003108227917452023, 0.0005920434128480044, 0.007844575220236058, 0.024717812486404183, 0.03596663733051626, 0.011396835697324085, 0.020869530302892153, 0.0025161845046040186, 0.7827572929172227, 0.06522977440976856, 0.06522977440976856, 0.9725786613075911, 0.06322241174922894, 0.927262038988691, 0.023095998269942304, 0.005773999567485576, 0.003849333044990384, 0.013472665657466344, 0.000962333261247596, 0.006736332828733172, 0.015397332179961537, 0.740996611160649, 0.19054198572702402, 0.09749067078803277, 0.027206698824567284, 0.05894784745322911, 0.009068899608189095, 0.05668062255118184, 0.027206698824567284, 0.01813779921637819, 0.39903158276032014, 0.0022672249020472737, 0.10882679529826914, 0.04987894784504002, 0.14510239373102551, 0.8943702994426425, 0.2803594854107337, 0.14963742741695138, 0.005431145675959436, 0.0005618426561337348, 0.014607909059477104, 0.0468202213444779, 0.1099338797168341, 0.010300448695785138, 0.047569344885989545, 0.015357032600988751, 0.013296942861831723, 0.024721076869884333, 0.08633648815921725, 0.06929392758982729, 0.0631136583723562, 0.023971953328372684, 0.008427639842006023, 0.018353526767035337, 0.0044947412490698785, 0.007116673644360641, 0.06115309105899503, 0.886719820355428, 0.9805285762030963, 0.9206124700984472, 0.9870138884487475, 0.9947171993560782, 0.003684137775392882, 0.9984315936759137, 0.015521470246728843, 0.9468096850504594, 0.031042940493457686, 0.9969605019008342, 0.9992232313206719, 0.004131840621988668, 0.09399937415024222, 0.030988804664915014, 0.016527362487954673, 0.012395521865966007, 0.16837250534603826, 0.03512064528690368, 0.011362561710468838, 0.005164800777485836, 0.0754060913512932, 0.015494402332457507, 0.004131840621988668, 0.023758083576434844, 0.027889924198423514, 0.07953793197328188, 0.08676865306176204, 0.2933606841611955, 0.013428482021463174, 0.13996805681236035, 0.011664004734363362, 0.011664004734363362, 0.8398083408741621, 0.036671071547628824, 0.02750330366072162, 0.9259445565776279, 0.905031373520824, 0.047633230185306526, 0.06491013709694807, 0.11764962348821836, 0.799206063006173, 0.016227534274237017, 0.9793404611565609, 0.14198362197030295, 0.409264756491322, 0.024877472225565904, 0.017899644650102298, 0.0024270704610308198, 0.28002325444143084, 0.023360553187421643, 0.0024270704610308198, 0.013955655150927214, 0.005157524729690492, 0.00030338380762885247, 0.06522751864020329, 0.00364060569154623, 0.009101514228865576, 0.09907718217960786, 0.03373342155162839, 0.023589805280859015, 0.01698465980221849, 0.06557965868078806, 0.019579538383112983, 0.00023589805280859014, 0.00023589805280859014, 0.03538470792128852, 0.003302572739320262, 0.004953859108980393, 0.0004717961056171803, 0.021938518911198884, 0.08468740095828386, 0.021230824752773114, 0.0007076941584257705, 0.11110798287284596, 0.0073128396370662945, 0.4493857906003642, 0.10656597102404915, 0.8312145739875832, 0.055414304932505556, 0.004262638840961966, 0.1041809326706988, 0.14326674465198166, 0.0077596832609899795, 0.003017654601496103, 0.04253456009727841, 0.019111812476141986, 0.023997538973802343, 0.01652525138914533, 0.23379638269686476, 0.05862871797192429, 0.033912689807289544, 0.03261940926379121, 0.10892296133019268, 0.031038733043959918, 0.0646640271749165, 0.014657179492981072, 0.026584100060799004, 0.017674834094477176, 0.012214316244150893, 0.004598330821327395, 0.8783065425699148, 0.12902177635552464, 0.8547692683553507, 0.01856751426396712, 0.06498629992388492, 0.03713502852793424, 0.12068884271578628, 0.7519843276906684, 0.7691083460981342, 0.21273209572927115, 0.9994333182447981, 0.00040512092348796033, 0.913280811171743, 0.19604870222501275, 0.0031020364276109613, 0.016130589423576997, 0.022955069564321112, 0.0012408145710443845, 0.01675099670909919, 0.15882426509368122, 0.0006204072855221923, 0.012408145710443845, 0.3250934176136287, 0.1364896028148823, 0.008685701997310691, 0.008685701997310691, 0.0006204072855221923, 0.09119987097176226, 0.021015347098932432, 0.005704165641138803, 0.0019514250877580117, 0.0007505481106761583, 0.2710979775762284, 0.028370718583558784, 0.02792038971715309, 0.015761510324199327, 0.05223814850306062, 0.4635385131535954, 0.0006004384885409267, 0.0006004384885409267, 0.000450328866405695, 0.019514250877580117, 0.03062236291558726, 0.042030694197864864, 0.010958002415871911, 0.00180131546562278, 0.004953617530462645, 0.08651599418463178, 0.11222916794605006, 0.004255476162478762, 0.0050128066659707446, 0.00039669693040056257, 0.43059648627115604, 0.019257832803081854, 0.006563531030263853, 0.008691269111503233, 0.010169866761178058, 0.002957195299349648, 0.0001442534292365682, 0.03462082301677637, 0.0012261541485108296, 0.04944286287083375, 0.0062028974571724325, 0.05553757025607876, 0.1593639759490987, 0.0007212671461828409, 0.0060947073852450065, 0.004823709607552939, 0.1350638690114823, 0.06692897080479702, 0.09225344624444995, 0.18149207398417933, 0.008441491813217643, 0.03919264056136763, 0.04401635016892057, 0.025927439140597048, 0.013265201420770582, 0.015074092523602934, 0.02472151173870881, 0.05969340639346762, 0.0012059274018882348, 0.01628001992549117, 0.003617782205664704, 0.1808891102832352, 0.02713336654248528, 0.05969340639346762, 0.0015518441649879616, 0.029485039134771268, 0.031036883299759233, 0.058970078269542536, 0.05741823410455458, 0.0046555324949638845, 0.015518441649879616, 0.15208072816882023, 0.6440153284700041, 0.0015518441649879616, 0.0015518441649879616, 0.0015518441649879616, 0.17914904017851668, 0.7815052332425149, 0.03894544351706885, 0.09662343518393515, 0.078463711550075, 0.23162213540546156, 0.020215541403731115, 0.09148389075925775, 0.04488535464218264, 0.05790553385136539, 0.05996135162123635, 0.04899699018192456, 0.007880634784505349, 0.005824817014634389, 0.06373035086599978, 0.0037689992447634277, 0.01713181474892467, 0.006510089604591375, 0.019530268813774128, 0.08189007449985994, 0.017474451043903164, 0.034606265792827835, 0.011306997734290284, 0.14532109066872592, 0.14532109066872592, 0.7084403170100388, 0.14099663379433228, 0.091954326387608, 0.0551725958325648, 0.0030651442129202666, 0.03984687476796347, 0.012260576851681066, 0.0030651442129202666, 0.6498105731390965, 0.8553250787272096, 0.0002385410703411809, 0.0004770821406823618, 0.0002385410703411809, 0.9987714615185245, 0.17587616699541458, 0.043969041748853646, 0.03768775007044599, 0.7349111263736967, 0.006281291678407664, 0.0014316797782533306, 0.030065275343319944, 0.014316797782533306, 0.4380940121455192, 0.004295039334759992, 0.0028633595565066613, 0.0014316797782533306, 0.3364447478895327, 0.0787423878039332, 0.0887641462517065, 0.0025877144784921383, 0.03622800269888994, 0.012938572392460693, 0.13714886736008333, 0.005175428956984277, 0.04657886061285849, 0.2639468768061981, 0.0025877144784921383, 0.023289430306429246, 0.056929718526827044, 0.04657886061285849, 0.3622800269888994, 0.08039026689327183, 0.1495475503654299, 0.01854118950232027, 0.04980407107192598, 0.03383428741299319, 0.15590839639907264, 0.059954357295823935, 0.16010384803828379, 0.01366905211484925, 0.04452592223549904, 0.009338263325986121, 0.058871660098608156, 0.029909510073085982, 0.0016240457958236732, 0.002300731544083537, 0.027744115678654417, 0.07497678090719291, 0.009067589026682176, 0.008932251877030202, 0.010691634822505848, 0.06272560645388442, 0.029360922169903346, 0.004003762114077729, 0.020018810570388644, 0.05338349485436972, 0.1361279118786428, 0.19351516884709025, 0.3416543670679662, 0.018684223199029404, 0.10943616445145793, 0.01334587371359243, 0.008007524228155458, 0.006672936856796215, 0.001334587371359243, 0.001334587371359243, 0.008711692879553402, 0.008711692879553402, 0.021779232198883506, 0.9539303703110975, 0.9673042557175349, 0.8199576028564972, 0.16399152057129945, 0.8949321981584345, 0.9877346196595407, 0.2203729863485435, 0.6926008142382796, 0.03148185519264907, 0.03148185519264907, 0.7797008927984849, 0.13824483914866753, 0.011059587131893402, 0.06082772922541371, 0.03703057289409196, 0.925764322352299, 0.0144680628713686, 0.002066866124481229, 0.010334330622406143, 0.004133732248962458, 0.05993911760995563, 0.006200598373443686, 0.010334330622406143, 0.0144680628713686, 0.7978103240497543, 0.07854091273028668, 0.873014177830117, 0.0009442066762253084, 0.00165236168339429, 0.0004721033381126542, 0.9947217334033625, 0.0004721033381126542, 0.0002360516690563271, 0.0014163100143379627, 0.801957635296388, 0.08427351421758654, 0.043496007338109176, 0.035340505962213706, 0.02990350504495006, 0.0027185004586318235, 0.5738216634779224, 0.05516512810253663, 0.02634363091421371, 0.05386098795826863, 0.006651114735766828, 0.019692516178446886, 0.0015649681731216066, 0.00013041401442680055, 0.0002608280288536011, 0.004303662476084418, 0.05764299437664585, 0.08555159346398117, 0.0006520700721340028, 0.005346974591498823, 0.0693802556750579, 0.00704235677904723, 0.005868630649206025, 0.008216082908888435, 0.01864920406303248, 0.10135321302248665, 0.8108257041798932, 0.07796401001729743, 0.0016117743174818165, 0.00483532295244545, 0.09509468473142718, 0.00483532295244545, 0.8107224816933537, 0.0773651672391272, 0.0016117743174818165, 0.0016117743174818165, 0.8828296688417304, 0.7971462395441926, 0.023974322993810304, 0.017980742245357728, 0.005993580748452576, 0.07192296898143091, 0.07791654972988349, 0.914858772610512, 0.015986570219772036, 0.8632747918676901, 0.11190599153840426, 0.007993285109886018, 0.8783065425866383, 0.03514894376569762, 0.8435746503767428, 0.07029788753139524, 0.9452279856132869, 0.8994814596077302, 0.9105500502644923, 0.8322544755518577, 0.0019198373305063373, 0.6757827403382307, 0.1286291011439246, 0.1132704024998739, 0.009599186652531688, 0.06527446923721547, 0.0019198373305063373, 0.04839869450500331, 0.7363515663975503, 0.02765639686000189, 0.031113446467502127, 0.003457049607500236, 0.131367885085009, 0.020742297645001417, 0.015628955657974074, 0.0022327079511391536, 0.0022327079511391536, 0.049119574925061374, 0.17191851223771482, 0.0022327079511391536, 0.01786166360911323, 0.46217054588580475, 0.05135228287620053, 0.008930831804556614, 0.18084934404227143, 0.0334906192670873, 0.9864279131398678, 0.0021122653386292673, 0.00844906135451707, 0.0021122653386292673, 0.1778906241155103, 0.0026953124865986408, 0.08894531205775515, 0.0026953124865986408, 0.5606249972125174, 0.1644140616825171, 0.9347272319061737, 0.03306855962202847, 0.022045706414685645, 0.0992056788660854, 0.011022853207342823, 0.8267139905507117, 0.07231612271891233, 0.01840774032845041, 0.019722578923339725, 0.04207483503645808, 0.7441986447073523, 0.001314838594889315, 0.01577806313867178, 0.048649028010904656, 0.001314838594889315, 0.035500642062011506, 0.00262967718977863, 0.004314553022831581, 0.006471829534247371, 0.004314553022831581, 0.11002110208220531, 0.10570654905937373, 0.133751143707779, 0.056089189296810546, 0.453028067397316, 0.11002110208220531, 0.0021572765114157904, 0.017258212091326323, 0.013098767697439288, 0.006549383848719644, 0.006549383848719644, 0.9103643549720305, 0.04584568694103751, 0.013098767697439288, 0.055109254745349945, 0.11710716633386863, 0.04133194105901246, 0.006888656843168743, 0.7646409095917305, 0.3020651779382257, 0.5678825345238643, 0.12082607117529026, 0.9913686090378601, 0.0717291884872447, 0.026566366106386928, 0.031879639327664314, 0.08766900815107687, 0.007969909831916078, 0.4542848604192165, 0.09032564476171556, 0.005313273221277386, 0.2205008386830115, 0.008505212423652111, 0.04252606211826056, 0.2126303105913028, 0.008505212423652111, 0.6804169938921689, 0.04252606211826056, 0.9796746015619787, 0.8769129892239376, 0.18121683646053716, 0.026092365013055646, 0.030381520905612736, 0.022160638778211644, 0.13832527753496623, 0.04324898858328401, 0.04753814447584111, 0.007863452469688002, 0.06040561215351239, 0.2541324866340077, 0.03252609885189128, 0.01036546007367964, 0.016084334597089096, 0.06576705701920875, 0.0014297186308523642, 0.049325292764406566, 0.0046465855502701835, 0.00035742965771309106, 0.0007148593154261821, 0.007863452469688002, 0.14408736663462246, 0.8475727449095438, 0.9214626746908542, 0.022670894927412838, 0.03400634239111926, 0.1133544746370642, 0.011335447463706419, 0.8048167699231558, 0.9223548937098417, 0.9935915838361568, 0.0037213167933938455, 0.9254773578017889, 0.08690843833992744, 0.03693608629446916, 0.04779964108696009, 0.008690843833992743, 0.5453504505830447, 0.14774434517787663, 0.02172710958498186, 0.093426571215422, 0.0043454219169963716, 0.0021727109584981858, 0.0021727109584981858, 0.9033677890703187, 0.055982510840830155, 0.8957201734532825, 0.9050046726597829, 0.021046620294413555, 0.021046620294413555, 0.031569930441620334, 0.010523310147206777, 0.7787967839520784, 0.08653297599467538, 0.04344857790744381, 0.16075973825754208, 0.10862144476860952, 0.14338030709456456, 0.5235553637846979, 0.017379431162977525, 0.09607290193514968, 0.8646561174163472, 0.9717768724703327, 0.9141822292233578, 0.06233060653795621, 0.8799710350966476, 0.031865246396257436, 0.007353518399136331, 0.07598635679107542, 0.09681790139257694, 0.038217592654964584, 0.09427006188224597, 0.001273919755165486, 0.012739197551654861, 0.005095679020661944, 0.002547839510330972, 0.15796604964052027, 0.001273919755165486, 0.58982484664162, 0.22075455240926098, 0.7787730043326707, 0.8357567419464358, 0.13479947450748966, 0.10629959247018592, 0.8503967397614873, 0.8943702994334999, 0.9720780305486102, 0.9926817972442287, 0.8322544755480844, 0.8832705726963234, 0.9426113514377555, 0.048937240145070136, 0.0701813133863409, 0.023899582396429603, 0.014415621128005157, 0.007966527465476533, 0.00531101831031769, 0.08649372676803094, 0.034142260566328006, 0.12405021339099175, 0.020105997889059823, 0.05159274930022898, 0.004552301408843734, 0.07928591620402836, 0.12442957184172872, 0.014794979578742136, 0.05576569225833574, 0.018588564086111915, 0.1745048873390098, 0.0409707126795936, 0.07010077332046681, 0.10662386530255875, 0.018850628119789395, 0.04477024178449981, 0.041235749012039295, 0.03416676346711828, 0.008836231931151278, 0.02474144940722358, 0.03946850262580904, 0.18968444545538077, 0.012959806832355208, 0.050071980943190576, 0.0017672463862302556, 0.06833352693423655, 0.09130772995522987, 0.06951169119172339, 0.01943971024853281, 0.0005890821287434186, 0.037112174110835366, 0.06892260906297996, 0.06232618805304506, 0.0024373369629682425, 0.15041850971461154, 0.0066156288994852295, 0.05536236815885008, 0.02332879664555318, 0.155293183640548, 0.017757740730197195, 0.053273222190591586, 0.08495860270917874, 0.05048769423291359, 0.07520925485730577, 0.0024373369629682425, 0.040738346381040624, 0.06894181695253028, 0.04561302030697711, 0.009401156857163221, 0.009401156857163221, 0.036908245439233385, 0.0497913122434941, 0.008116179124223816, 0.0032464716496895265, 0.0004058089562111908, 0.002029044781055954, 0.0004058089562111908, 0.02556596424130502, 0.0016232358248447632, 0.0004058089562111908, 0.0048697074745342895, 0.9516220023152424, 0.0004058089562111908, 0.0004058089562111908, 0.9382718096000451, 0.2409199977463777, 0.047694821888876804, 0.0415801011338926, 0.03179654792591787, 0.2971754286922324, 0.001222944150996841, 0.0036688324529905235, 0.001222944150996841, 0.03668832452990523, 0.018344162264952616, 0.012229441509968412, 0.008560609056977888, 0.25804121586033346, 0.9148118723690285, 0.03156911181656873, 0.15153173671952994, 0.06945204599645122, 0.1894146708994124, 0.549302545608296, 0.20219866099654643, 0.0072213807498766585, 0.42606146424272284, 0.06860311712382826, 0.021664142249629974, 0.0072213807498766585, 0.12998485349777986, 0.1335955438727182, 0.993347843514477, 0.9946499427482733, 0.06471904043313292, 0.09707856064969939, 0.010786506738855487, 0.6148308841147627, 0.1725841078216878, 0.03235952021656646, 0.8783065425782474, 0.0640901941066493, 0.02043455464269978, 0.14489956928459843, 0.0027865301785499697, 0.03529604892829962, 0.01764802446414981, 0.007430747142799919, 0.0037153735713999596, 0.5350137942815942, 0.01393265089274985, 0.0640901941066493, 0.06873441107089925, 0.01950571124984979, 0.0009288433928499899, 0.04226812510235631, 0.007769875937933145, 0.001553975187586629, 0.00031079503751732583, 0.05532151667808399, 0.03107950375173258, 0.039781764802217706, 0.1323986859823808, 0.009323851125519774, 0.008391466012967797, 0.2856206394784224, 0.23527184340061563, 0.06215900750346516, 0.006526695787863842, 0.07396921892912355, 0.006526695787863842, 0.00031079503751732583, 0.00031079503751732583, 0.0006215900750346517, 0.15948648035282675, 0.008394025281727724, 0.15948648035282675, 0.008394025281727724, 0.6547339719747625, 0.9264996112340799, 0.9911303673944363, 0.2673320332479913, 0.0014368145953891408, 0.015720442043669423, 0.014199108942669156, 0.010226739178946238, 0.017072738133447438, 0.007606665505001334, 0.0029581476963894075, 0.43746778504318784, 0.08189843193718103, 0.008451850561112592, 0.010564813201390742, 0.011325479751890875, 0.053331177040620466, 0.013015849864113393, 0.005324665853500934, 0.03144088408733885, 0.0069305174601123265, 0.00042259252805562967, 0.0031271847076116597, 0.041231292700273106, 0.008246258540054622, 0.8493646296256261, 0.004123129270027311, 0.012369387810081933, 0.0783394561305189, 0.002958321336495696, 0.017749928018974178, 0.000657404741443488, 0.001314809482886976, 0.9529081727223359, 0.010847178233817553, 0.000657404741443488, 0.0009861071121652321, 0.009861071121652321, 0.0019722142243304643, 0.05278876964449208, 0.9370006611897344, 0.9789653999203703, 0.9030915874253433, 0.007737869225754448, 0.7892626610269537, 0.07737869225754448, 0.05416508458028114, 0.03868934612877224, 0.023213607677263343, 0.007737869225754448, 0.0023178781614443256, 0.0008692043105416221, 0.0008692043105416221, 0.9949492007999768, 0.0005794695403610814, 0.0002897347701805407, 0.0038067447152661748, 0.08374838373585584, 0.0038067447152661748, 0.8831647739417525, 0.019033723576330874, 0.9590494273389597, 0.13974498868205293, 0.06536459148031508, 0.0013523708582134154, 0.01487607944034757, 0.010368176579636184, 0.004057112574640246, 0.0018031611442845539, 0.0027047417164268307, 0.022539514303556923, 0.005409483432853661, 0.0009015805721422769, 0.01983477258713009, 0.04462823832104271, 0.015326869726418708, 0.6099192570542503, 0.0410219160324736, 0.0013523708582134154, 0.03521243947695606, 0.1584559776463023, 0.572202141500536, 0.09683420856162918, 0.12324353816934622, 0.23211912297457682, 0.7596625842804332, 0.07611387749623395, 0.8372526524585735, 0.8255380468200187, 0.1100717395760025, 0.9932525029035972, 0.02077803809507376, 0.346300634917896, 0.0692601269835792, 0.04155607619014752, 0.03809306984096856, 0.47789487618669646, 0.9985990988123487, 0.0007127759449053167, 0.07034355877826008, 0.8247175856761526, 0.09945123827271252, 0.002425639957871037, 0.005986253284886487, 0.020951886497102706, 0.8141304467445623, 0.0688419127761946, 0.0688419127761946, 0.011972506569772974, 0.008979379927329731, 0.9472508338794391, 0.006144897015954681, 0.012289794031909362, 0.9659778109080759, 0.013518773435100299, 0.15812123016677276, 0.03689495370558031, 0.005270707672225759, 0.026353538361128793, 0.15812123016677276, 0.07378990741116062, 0.010541415344451518, 0.5270707672225758, 0.986590884255749, 0.01188663715970782, 0.001982263811070139, 0.3976421205006699, 0.08285862730273182, 0.2905998747028824, 0.010307771817564723, 0.0011893582866420835, 0.007136149719852501, 0.10664579303557348, 0.005946791433210417, 0.0015858110488561113, 0.02378716573284167, 0.003964527622140278, 0.04440270936797112, 0.0007929055244280557, 0.019822638110701393, 0.0011893582866420835, 0.9821033363245417, 0.9282706830693684, 0.0020722617457484944, 0.9967578997050258, 0.8834516192304583, 0.9055823416344603, 0.9753072390504475, 0.09399349533059731, 0.01566558255509955, 0.6736200498692807, 0.1253246604407964, 0.07832791277549775, 0.007480814714120054, 0.007480814714120054, 0.003740407357060027, 0.007480814714120054, 0.8808659325876363, 0.01122122207118008, 0.07854855449826056, 0.9854157646402227, 0.09378530148231809, 0.8976593141879017, 0.049671125464998765, 0.8940802583699777, 0.9793216018562018, 0.005550890316510154, 0.9603040247562568, 0.008326335474765231, 0.002775445158255077, 0.022203561266040617, 0.13722520697567103, 0.010111331040312602, 0.8493518073862586, 0.0014444758629018003, 0.71711636564323, 0.003983979809129055, 0.13678330678009756, 0.0013279932697096851, 0.0026559865394193702, 0.0982715019585167, 0.003983979809129055, 0.0053119730788387404, 0.029215851933613073, 0.07590554291876055, 0.8349609721063661, 0.00463396743342941, 0.11584918583573525, 0.05560760920115292, 0.7414347893487055, 0.03707173946743528, 0.03707173946743528, 0.9433747962797904, 0.01591820444165199, 0.00530606814721733, 0.5836674961939063, 0.01591820444165199, 0.01591820444165199, 0.0689788859138253, 0.16448811256373724, 0.02122427258886932, 0.04775461332495597, 0.02122427258886932, 0.04244854517773864, 0.0021920781640589145, 0.0007306927213529715, 0.0004384156328117829, 0.008622174111965064, 0.055678785367096424, 0.0001461385442705943, 0.039311268408789866, 0.19056466172885497, 0.6634689909884981, 0.023236028539024494, 0.0004384156328117829, 0.00949900537758863, 0.004822571960929611, 0.0007306927213529715, 0.1241647528599777, 0.8691532700198439, 0.1485388600213769, 0.006601727112061195, 0.01320345422412239, 0.049512953340458965, 0.01650431778015299, 0.5116338511847426, 0.03300863556030598, 0.11553022446107092, 0.08912331601282614, 0.01320345422412239, 0.9718359389511418, 0.05665208868753389, 0.14517097726180558, 0.140745032833092, 0.3744348986691693, 0.06727435531644649, 0.13897465506160656, 0.04248906651565042, 0.033637177658223244, 0.8975485708971797, 0.08159532462701634, 0.9137831395974106, 0.052216179405566325, 0.6931511196117659, 0.15530239253245498, 0.14959274574817355, 0.0011419293568562866, 0.9645075222497016, 0.9807617034448333, 0.0029842281105338223, 0.008952684331601467, 0.9280949423760189, 0.05670033410014263, 0.07302764461835333, 0.06491346188298074, 0.178512020178197, 0.1703978374428244, 0.0027047275784575307, 0.005409455156915061, 0.0027047275784575307, 0.5030793295931006, 0.09383621096714326, 0.054303362828207906, 0.11164771397479546, 0.06950830442010612, 0.04474597097044331, 0.008254111149887602, 0.022155772033908824, 0.01346723398139556, 0.09470506477239458, 0.011729526370892907, 0.01477051468927255, 0.01607379539714954, 0.006516403539384949, 0.004778695928882296, 0.01477051468927255, 0.01216395327351857, 0.17463961485551663, 0.21113147467607235, 0.020418064423406174, 0.006522302370084636, 0.38698994062502173, 0.5902683644926595, 0.001087050395014106, 0.00543525197507053, 0.009783453555126954, 0.18729335280296344, 0.04280990921210593, 0.021404954606052965, 0.06778235625250105, 0.028539939474737288, 0.0017837462171710805, 0.0017837462171710805, 0.5440425962371795, 0.016053715954539725, 0.05886362516664565, 0.028539939474737288, 0.11272464342859365, 0.00013499957296837564, 0.0002699991459367513, 0.0008099974378102538, 0.00647997950248203, 0.00013499957296837564, 0.0002699991459367513, 0.00013499957296837564, 0.0002699991459367513, 0.876552227283663, 0.0018899940215572589, 0.00013499957296837564, 0.00013499957296837564, 0.06782049220591159, 0.25836377983204417, 0.02422160435925414, 0.012918188991602209, 0.05328752959035911, 0.08881254931726518, 0.02422160435925414, 0.10980460642861878, 0.10980460642861878, 0.051672755966408836, 0.08396822844541435, 0.033910246102955795, 0.030680698855055245, 0.05328752959035911, 0.24557016651159436, 0.6215994839824732, 0.12278508325579718, 9.902694830650648e-05, 0.00019805389661301296, 0.00019805389661301296, 0.0003961077932260259, 0.0007922155864520518, 9.902694830650648e-05, 0.016240419522267062, 0.9635322070223081, 9.902694830650648e-05, 0.0016834581212106102, 0.016438473418880075, 0.00019805389661301296, 0.9596217451053455, 0.003022888282246882, 0.9794158034479898, 0.012091553128987529, 0.003022888282246882, 0.9795128212617421, 0.0993270711186131, 0.01986541422372262, 0.013243609482481747, 0.8608346163613135, 0.014836816359721445, 0.044510449079164335, 0.934719430662451, 0.8728149855331641, 0.05864387245142161, 0.08444717633004713, 0.7131094890092868, 0.028149058776682372, 0.11494199000478636, 0.9115913080719731, 0.9405127671750049, 0.8682003111578488, 0.9821026446246393, 0.010531931845840637, 0.002632982961460159, 0.9081808902424356, 0.22710717134473377, 0.7333307899146747, 0.015602782764142014, 0.008668212646745563, 0.012135497705443789, 0.0017336425293491128, 0.9788944178645465, 0.8868352124568777, 0.9564600595014221, 0.036321268082332485, 0.00016271841508528148, 0.0017899025659380962, 0.00016271841508528148, 0.06703998701513597, 0.010088541735287452, 0.920335355722352, 0.00032543683017056296, 0.18098371631562163, 0.14891967208647608, 0.006412808845829113, 0.6626569140690083, 0.8875418006271423, 0.04226389526795916, 0.0155943677350583, 0.7797183867529149, 0.07797183867529149, 0.0935662064103498, 0.0155943677350583, 0.8828296688392098, 0.0677875512698718, 0.9264298673549147, 0.7099380097006415, 0.031429547304455484, 0.06285909460891097, 0.014790375202096698, 0.05361511010760053, 0.0018487969002620873, 0.007395187601048349, 0.031429547304455484, 0.03882473490550383, 0.007395187601048349, 0.04437112560629009, 0.0036030953528819296, 0.0018015476764409648, 0.03603095352881929, 0.11349750361578077, 0.12430678967442657, 0.02342011979373254, 0.005404643029322895, 0.0918789314984892, 0.10448976523357595, 0.308064652671405, 0.0018015476764409648, 0.009007738382204823, 0.06845881170475666, 0.05764952564611087, 0.050443334940347015, 0.9895314330350529, 0.9131710199501065, 0.9164377499539571, 0.24835537376347874, 0.018693415229509153, 0.002670487889929879, 0.0507392699086677, 0.04272780623887806, 0.07210317302810673, 0.013352439449649395, 0.040057318348948184, 0.005340975779859758, 0.1148309792669848, 0.02937536678922867, 0.02670487889929879, 0.010681951559719516, 0.31778805890165557, 0.9325993370812566, 0.02664569534517876, 0.9416627269424587, 0.028535234149771476, 0.1174424565583619, 0.022218843132663063, 0.06348240895046589, 0.012696481790093177, 0.7776595096432072, 0.0031741204475232944, 0.0031741204475232944, 0.9027360455045335, 0.9985850327739331, 0.9672864306053015, 0.5159475448576382, 0.0006991159144412442, 0.004194695486647465, 0.009088506887736174, 0.02796463657764977, 0.0006991159144412442, 0.0790000983318606, 0.2565755405999366, 0.09298241662068547, 0.012584086459942396, 0.8115760385911063, 0.031398455365199814, 0.8791567502255948, 0.0863457522542995, 0.009524311993413616, 0.8476637674138118, 0.1333403679077906, 0.903368151816503, 0.0616721280124166, 0.8634097921738324, 0.10214937009283889, 0.004256223753868287, 0.0010640559384670718, 0.0010640559384670718, 0.47776111637171526, 0.40327720067902023, 0.0010640559384670718, 0.007448391569269503, 0.0010640559384670718, 0.21243191987386534, 0.03691836784132703, 0.001815657434819362, 0.07867848884217235, 0.28929475128121834, 0.037523586986266816, 0.007867848884217236, 0.013314821188675321, 0.042365340145785114, 0.0762576122624132, 0.04599665501542384, 0.004841753159518299, 0.03873402527614639, 0.00907828717409681, 0.0024208765797591493, 0.006657410594337661, 0.006657410594337661, 0.06657410594337661, 0.02299832750771192, 0.001459705169947953, 0.011677641359583624, 0.0036492629248698824, 0.11020774033107045, 0.046710565438334496, 0.31529631670875785, 0.002919410339895906, 0.07882407917718946, 0.002189557754921929, 0.037952334418646774, 0.06276732230776197, 0.15764815835437893, 0.10363906706630466, 0.011677641359583624, 0.052549386118126304, 0.10792058473711312, 0.07708613195508081, 0.6089804424451384, 0.2004239430832101, 0.9609334547759315, 0.023217528456550212, 0.007739176152183404, 0.061913409217467234, 0.12769640651102618, 0.6694387371638645, 0.10060928997838425, 0.8992018461319008, 0.07992905298950229, 0.03557646664721957, 0.01940534544393795, 0.005659892421148569, 0.02102245756426611, 0.0016171121203281623, 0.9104341237447554, 0.0024256681804922437, 0.0024256681804922437, 0.0008085560601640812, 0.9971602103216786, 0.08724157299844172, 0.011137222084907453, 0.019026087728383566, 0.0426926846588119, 0.05661421226494622, 0.09745069324294021, 0.02134634232940595, 0.06032661962658204, 0.007888865643476113, 0.30720170917536394, 0.06079067054678652, 0.01856203680817909, 0.0529018049033104, 0.040836480977994, 0.05661421226494622, 0.007888865643476113, 0.01345747668592984, 0.03712407361635818, 0.9925419954566509, 0.026731704007606345, 0.012547534534182569, 0.10801790598991952, 0.020730709230388594, 0.21603581197983904, 0.061101037731671644, 0.06601094254939525, 0.034914878703812366, 0.029459428906341685, 0.04309805340001839, 0.10092582125320762, 0.03109606384558289, 0.008728719675953091, 0.010910899594941365, 0.011456444574688434, 0.06273767267091285, 0.0005455449797470682, 0.005455449797470683, 0.11292781080764312, 0.036005968663306506, 0.8730141778418852, 0.8721694953587853, 0.10779622976344538, 0.9630020891896643, 0.09538221632336231, 0.0029806942601050723, 0.013413124170472825, 0.02235520695078804, 0.02682624834094565, 0.10134360484357245, 0.07451735650262681, 0.02235520695078804, 0.050671802421786226, 0.007451735650262681, 0.059613885202101445, 0.01192277704042029, 0.08942082780315216, 0.01937451269068297, 0.3994130308540797, 0.0014903471300525362, 0.003446994676455216, 0.003446994676455216, 0.04481093079391781, 0.06893989352910433, 0.05859890949973868, 0.010340984029365648, 0.017234973382276083, 0.003446994676455216, 0.7928087755846998, 0.19609461103759082, 0.6443108648377984, 0.1400675793125649, 0.006003042428362076, 0.6603346671198284, 0.1880953294220117, 0.13206693342396567, 0.012006084856724152, 0.8943702994301065, 0.1405791171259994, 0.8512846537074408, 0.005836449628120161, 0.9863599871523073, 0.04085168697769159, 0.08170337395538319, 0.8006930647627553, 0.07353303655984487, 0.8769129891984495, 0.9246752148588994, 0.056612768256667306, 0.018870922752222435, 0.9031800879042431, 0.965760932523283, 0.9458341840752986, 0.9033677994097328, 0.9668890153512072, 0.9794516222753964, 0.9793159454429002, 0.9548810560712867, 0.11228202994632035, 0.0016884515781401556, 0.13929725519656283, 0.0016884515781401556, 0.3284038319482603, 0.008442257890700779, 0.011819161046981089, 0.04896509576606452, 0.05403045050048498, 0.04305551524257397, 0.01941719314861179, 0.04896509576606452, 0.008442257890700779, 0.0008442257890700778, 0.05909580523490545, 0.0016884515781401556, 0.07766877259444716, 0.028703676828382645, 0.0008442257890700778, 0.005065354734420467, 0.9780485183158961, 0.01406835814249632, 0.002813671628499264, 0.02813671628499264, 0.002813671628499264, 0.9341389806617556, 0.005627343256998528, 0.01406835814249632, 0.9151052356861812, 0.6307186173175015, 0.018409299744038748, 0.08324205101652303, 0.048824664538537545, 0.048824664538537545, 0.008804447703670705, 0.012006065050460053, 0.14007075892203394, 0.0048024260201840205, 0.004002021683486684, 0.9719237286483523, 0.08424161818006923, 0.8424161818006923, 0.8991571088027447, 0.09831150076080093, 0.2949345022824028, 0.5789455044802722, 0.021847000169066873, 0.9116642277841087, 0.940835897697588, 0.0313611965899196, 0.9395676680202263, 0.9968322204927625, 0.06964505540243546, 0.046430036934956974, 0.046430036934956974, 0.046430036934956974, 0.76609560942679, 0.07901993268533182, 0.031075254426815885, 0.06215050885363177, 0.07014128856338442, 0.026635932365842187, 0.04439322060973698, 0.09855294975361609, 0.11897383123409509, 0.028411661190231665, 0.009766508534142135, 0.024860203541452706, 0.052384000319489636, 0.028411661190231665, 0.0026635932365842185, 0.001775728824389479, 0.09677722092922661, 0.006215050885363177, 0.06570196650241072, 0.01686942383170005, 0.1349553906536004, 0.1666731064067245, 0.0007861938981449268, 0.0007861938981449268, 0.0007861938981449268, 0.007075745083304342, 0.019654847453623173, 0.0007861938981449268, 0.03302014372208693, 0.0015723877962898537, 0.0007861938981449268, 0.03302014372208693, 0.08019177761078254, 0.0007861938981449268, 0.019654847453623173, 0.0015723877962898537, 0.6328860880066661, 0.0007861938981449268, 0.21214904952968883, 0.07199156270925505, 0.01321584242971832, 0.0502549797656394, 0.03947363462560603, 0.14676540803529292, 0.05912350560663459, 0.021562690280066733, 0.08103398121379918, 0.04434262920497594, 0.01947597831747963, 0.09546707228835997, 0.04225591724238884, 0.014954769065207572, 0.02051933429877318, 0.03251792808364903, 0.024692758223947387, 0.0029561752803317293, 0.001217248644842477, 0.006086243224212384, 0.12922737182650046, 0.852900654054903, 0.8912426964508181, 0.9578225768010963, 0.03089750247745472, 0.04778524433517069, 0.7765102204465236, 0.16724835517309738, 0.08490349140462103, 0.022540749930430364, 0.07062768311534848, 0.025546183254487743, 0.061611383143176324, 0.015778524951301255, 0.2780025824753078, 0.03531384155767424, 0.11120103299012313, 0.04057334987477465, 0.055600516495061564, 0.024043466592459053, 0.025546183254487743, 0.02178939159941602, 0.024043466592459053, 0.0030054333240573817, 0.055600516495061564, 0.014275808289272563, 0.030054333240573817, 0.0015027166620286908, 0.10815149457473863, 0.013518936821842329, 0.824655146132382, 0.040556810465526984, 0.9506392531435648, 0.001969269471112114, 0.019692694711121138, 0.006892443148892398, 0.13784886297784796, 0.01280025156222874, 0.1437566713911843, 0.006892443148892398, 0.1801881566067584, 0.022646598917789307, 0.46671686465357093, 0.9223548937040602, 0.009079604286426757, 0.0022699010716066893, 0.0011349505358033446, 0.009079604286426757, 0.2905473371656562, 0.0045398021432133786, 0.049937823575347165, 0.0022699010716066893, 0.45057536271392784, 0.17137753090630506, 0.007944653750623414, 0.9079467035627677, 0.9779343990861243, 0.1346003294372082, 0.0673001647186041, 0.7739518942639471, 0.15198577421495343, 0.7852598334439261, 0.05910557886137078, 0.9283443815875908, 0.6823401162764857, 0.11764484763387685, 0.1960747460564614, 0.8735098454152002, 0.02351801287341013, 0.9407205149364052, 0.04713007452019617, 0.003800812461306143, 0.008361787414873515, 0.0015203249845224572, 0.003800812461306143, 0.007601624922612286, 0.0007601624922612286, 0.006841462430351057, 0.05929267439637583, 0.5495974819048682, 0.0007601624922612286, 0.10338209894752709, 0.0007601624922612286, 0.030406499690449142, 0.006841462430351057, 0.16875607328199274, 0.9027192406459973, 0.7485856788605564, 0.14971713577211127, 0.9367404850541792, 0.8828296688431931, 0.9200742626210959, 0.024456712767435062, 0.004253341350858271, 0.03721673682000987, 0.0010633353377145678, 0.0010633353377145678, 0.2690238404417857, 0.60291113648416, 0.0021266706754291356, 0.05210343154801383, 0.004253341350858271, 0.0010633353377145678, 0.1600274810530298, 0.024004122157954468, 0.00800137405265149, 0.06401099242121192, 0.7441277868965885, 0.04788709273805583, 0.008256395299664798, 0.04623581367812287, 0.12219465043503902, 0.028071744018860315, 0.21962011497108364, 0.09412290641617871, 0.42768127652263654, 0.0016512790599329597, 0.23678283814627682, 0.4551945940225839, 0.17146343451971768, 0.0020412313633299726, 0.036742164539939504, 0.010206156816649863, 0.06940186635321907, 0.018371082269969752, 0.9319609939040115, 0.07347545013340494, 0.15219914670491022, 0.02624123219050176, 0.18368862533351232, 0.4933351651814331, 0.04198597150480282, 0.02624123219050176, 0.9917019032549453, 0.18605545562070502, 0.812380751769613, 0.0018421332239673765, 0.9181273074480691, 0.007404252479419913, 0.06663827231477921, 0.9132808111537443, 0.9772403915726384, 0.9998606603693172, 0.947966313170041, 0.13055627748365795, 0.03357161421008347, 0.8355601758954109, 0.13224362783118715, 0.8666178164256519, 0.0009378980697247315, 0.8769129892312749, 0.8728149855355966, 0.9081534232725996, 0.036969447064025794, 0.044943249371952924, 0.026820971399391262, 0.007248911189024665, 0.007973802307927132, 0.005074237832317266, 0.029720535875001126, 0.006524020070122199, 0.0021746733567073995, 0.8242012021921045, 0.004349346713414799, 0.0036244555945123325, 0.8783065425729544, 0.022332580450860687, 0.0014365987424530267, 0.0001305998856775479, 0.0010447990854203831, 0.938229578707504, 0.0010447990854203831, 0.00039179965703264364, 0.03212757187667678, 0.00248139782787341, 0.0005223995427101916, 0.8316122613777965, 0.06768937011214622, 0.0966991001602089, 0.11791599832560079, 0.006461150593183605, 0.11414699381291035, 0.04738177101667977, 0.6477303469666564, 0.007538009025380873, 0.0005384292160986338, 0.019921880995649448, 0.026383031588833053, 0.0010768584321972675, 0.0059227213770849715, 0.0005384292160986338, 0.002153716864394535, 0.002692146080493169, 0.997563673824168, 0.8839047946888242, 0.10006469373835745, 0.1939935594908937, 0.08052562846791814, 0.0026144684567505887, 0.0559496249744626, 0.04026281423395907, 0.10980767518352473, 0.23164190526810216, 0.0031373621481007065, 0.0005228936913501177, 0.02091574765400471, 0.005751830604851295, 0.054903837591762365, 0.006274724296201413, 0.02091574765400471, 0.06327013665336424, 0.055426731283112485, 0.010980767518352473, 0.004183149530800942, 0.0031373621481007065, 0.036079664703158126, 0.14057785580002743, 0.026358347962505142, 0.07028892790001372, 0.7556059749251474, 0.9238112036577147, 0.03185555874681775, 0.015927779373408876, 0.012458563904212875, 0.006229281952106438, 0.002491712780842575, 0.9767514100902894, 0.9894640042966284, 0.8763163876928087, 0.12141733082490723, 0.0038766820296417923, 0.8519008760137838, 0.004845852537052241, 0.017445069133388065, 0.0009691705074104481, 0.0988553917558657, 0.006784193551873137, 0.0019383410148208961, 0.011630046088925377, 0.9830247523569763, 0.0015528217233595938, 0.0015528217233595938, 0.0007764108616797969, 0.007764108616797969, 0.006987697755118172, 0.007764108616797969, 0.07841749702965949, 0.013198984648556547, 0.01785744981863533, 0.022515914988714112, 0.01785744981863533, 0.04037336480734944, 0.005434876031758578, 0.7445780163509252, 0.031056434467191876, 0.0007764108616797969, 0.9365585137024343], \"Term\": [\"able\", \"able\", \"able\", \"able\", \"able\", \"able\", \"able\", \"able\", \"able\", \"able\", \"able\", \"able\", \"able\", \"able\", \"able\", \"able\", \"able\", \"able\", \"able\", \"abroad\", \"abroad\", \"abroad\", \"absolute\", \"absolute\", \"absolute\", \"absolute\", \"absolute\", \"absolute\", \"absolutely\", \"absolutely\", \"absolutely\", \"absolutely\", \"absolutely\", \"absolutely\", \"absolutely\", \"absolutely\", \"absolutely\", \"acana\", \"accidentally\", \"accidentally\", \"accidentally\", \"accidentally\", \"accidentally\", \"accidentally\", \"accidentally\", \"accidentally\", \"accidentally\", \"accidentally\", \"acid\", \"acid\", \"acid\", \"acid\", \"acid\", \"acid\", \"acid\", \"acidic\", \"acidic\", \"acidic\", \"acidic\", \"acidic\", \"acidic\", \"acne\", \"active\", \"active\", \"active\", \"active\", \"active\", \"active\", \"actual\", \"actual\", \"actual\", \"actual\", \"actual\", \"actual\", \"actual\", \"actual\", \"actual\", \"actual\", \"actual\", \"actual\", \"actual\", \"actual\", \"actual\", \"actual\", \"actual\", \"actually\", \"actually\", \"actually\", \"actually\", \"actually\", \"actually\", \"actually\", \"actually\", \"actually\", \"actually\", \"actually\", \"actually\", \"actually\", \"actually\", \"actually\", \"actually\", \"actually\", \"actually\", \"actually\", \"actually\", \"added\", \"added\", \"added\", \"added\", \"added\", \"added\", \"added\", \"added\", \"added\", \"added\", \"added\", \"added\", \"added\", \"added\", \"added\", \"added\", \"added\", \"added\", \"added\", \"added\", \"addict\", \"addict\", \"addict\", \"adhesive\", \"adore\", \"adrenal\", \"affordable\", \"affordable\", \"affordable\", \"affordable\", \"affordable\", \"affordable\", \"affordable\", \"affordable\", \"aged\", \"ago\", \"ago\", \"ago\", \"ago\", \"ago\", \"ago\", \"ago\", \"ago\", \"ago\", \"ago\", \"ago\", \"ago\", \"ago\", \"ago\", \"ago\", \"ago\", \"ago\", \"agree\", \"agree\", \"agree\", \"airtight\", \"airtight\", \"airtight\", \"airtight\", \"airy\", \"airy\", \"aka\", \"aka\", \"al\", \"al\", \"al\", \"al\", \"ala\", \"alba\", \"ale\", \"ale\", \"alive\", \"alive\", \"alive\", \"alive\", \"alive\", \"alive\", \"alive\", \"allergen\", \"allergy\", \"allergy\", \"allergy\", \"allergy\", \"allergy\", \"alpine\", \"alright\", \"alright\", \"alright\", \"alternative\", \"alternative\", \"alternative\", \"alternative\", \"alternative\", \"alternative\", \"alternative\", \"alternative\", \"alternative\", \"alternative\", \"alternative\", \"alternative\", \"alternative\", \"alternative\", \"alternative\", \"alternative\", \"aluminum\", \"aluminum\", \"amaze\", \"amaze\", \"amaze\", \"amaze\", \"amaze\", \"amazing\", \"amazing\", \"amazing\", \"amazing\", \"amazing\", \"amazing\", \"amazing\", \"amazing\", \"amazing\", \"amazing\", \"amazing\", \"amazing\", \"amazing\", \"amazing\", \"amazing\", \"amazing\", \"amazing\", \"amazing\", \"ambrosial\", \"amiss\", \"amy\", \"annatto\", \"ant\", \"antibacterial\", \"antibacterial\", \"antibacterial\", \"antibacterial\", \"antioxidant\", \"antioxidant\", \"antioxidant\", \"antioxidant\", \"antiviral\", \"anxiously\", \"anxiously\", \"anxiously\", \"apart\", \"apart\", \"apart\", \"apart\", \"apart\", \"apart\", \"apart\", \"apart\", \"apart\", \"apart\", \"apart\", \"apart\", \"appreciable\", \"appreciate\", \"appreciate\", \"arctic\", \"arctic\", \"aromatic\", \"aromatic\", \"aromatic\", \"aromatic\", \"aromatic\", \"aromatic\", \"arrowhead\", \"arrowhead\", \"arsenal\", \"arsenal\", \"artichoke\", \"artificial\", \"artificial\", \"artificial\", \"artificial\", \"artificial\", \"artificial\", \"artificial\", \"artificial\", \"asleep\", \"aspen\", \"associate\", \"associate\", \"associate\", \"associate\", \"associate\", \"associate\", \"associate\", \"assort\", \"athletic\", \"atrocious\", \"attractive\", \"attractive\", \"attractive\", \"attractive\", \"attractive\", \"attractive\", \"attractive\", \"attractive\", \"attractive\", \"attractive\", \"attractive\", \"autistic\", \"automatically\", \"automatically\", \"automatically\", \"automatically\", \"automatically\", \"available\", \"available\", \"available\", \"available\", \"available\", \"available\", \"available\", \"available\", \"available\", \"available\", \"available\", \"available\", \"available\", \"available\", \"available\", \"available\", \"available\", \"available\", \"available\", \"available\", \"away\", \"away\", \"away\", \"away\", \"away\", \"away\", \"away\", \"away\", \"away\", \"away\", \"away\", \"away\", \"away\", \"away\", \"away\", \"away\", \"away\", \"away\", \"away\", \"awesome\", \"awesomely\", \"awesomely\", \"awful\", \"awful\", \"awful\", \"awful\", \"awful\", \"awful\", \"awful\", \"awful\", \"awful\", \"bad\", \"bad\", \"bad\", \"bad\", \"bad\", \"bad\", \"bad\", \"bad\", \"bad\", \"bad\", \"bad\", \"bad\", \"bad\", \"bad\", \"bad\", \"baked\", \"baked\", \"baked\", \"baked\", \"balsamic\", \"bay\", \"bay\", \"bay\", \"bay\", \"bear\", \"bear\", \"bear\", \"beautiful\", \"beautiful\", \"beautiful\", \"beautiful\", \"beautiful\", \"beautiful\", \"beautiful\", \"beautiful\", \"beautiful\", \"beautiful\", \"beautiful\", \"beautiful\", \"beautifully\", \"beautifully\", \"beautifully\", \"beautifully\", \"beautifully\", \"beautifully\", \"beautifully\", \"beautifully\", \"beautifully\", \"beautifully\", \"beautifully\", \"beautifully\", \"beautifully\", \"beautifully\", \"bed\", \"beige\", \"belly\", \"belly\", \"beneficial\", \"beneficial\", \"beneficial\", \"beneficial\", \"beneficial\", \"beneficial\", \"berry\", \"berry\", \"berry\", \"best\", \"best\", \"best\", \"best\", \"best\", \"best\", \"best\", \"best\", \"best\", \"best\", \"best\", \"best\", \"best\", \"best\", \"best\", \"best\", \"best\", \"best\", \"best\", \"best\", \"better\", \"big\", \"big\", \"big\", \"big\", \"big\", \"big\", \"big\", \"big\", \"big\", \"big\", \"big\", \"big\", \"big\", \"big\", \"big\", \"big\", \"big\", \"big\", \"big\", \"big\", \"birthday\", \"birthday\", \"bitter\", \"bitter\", \"bitter\", \"bitter\", \"bitter\", \"bitter\", \"bitter\", \"bitterness\", \"bitty\", \"black\", \"black\", \"black\", \"black\", \"black\", \"blank\", \"bleached\", \"blend\", \"blend\", \"bloat\", \"blow\", \"blue\", \"blue\", \"blue\", \"blue\", \"blue\", \"blue\", \"blue\", \"bodied\", \"bodied\", \"bold\", \"bold\", \"bone\", \"bothersome\", \"bottled\", \"bottled\", \"bottled\", \"bottled\", \"bottled\", \"bottled\", \"bottled\", \"bottled\", \"bought\", \"bought\", \"bought\", \"bought\", \"bought\", \"braided\", \"bread\", \"bread\", \"bread\", \"bread\", \"bread\", \"breath\", \"breathe\", \"breathe\", \"bright\", \"bright\", \"bright\", \"bright\", \"bright\", \"bright\", \"bring\", \"brisk\", \"brisk\", \"broken\", \"broken\", \"broken\", \"broken\", \"broken\", \"broken\", \"broken\", \"brown\", \"brown\", \"brown\", \"brown\", \"brown\", \"bubble\", \"bubble\", \"buckwheat\", \"buffalo\", \"buffalo\", \"buffalo\", \"bully\", \"bully\", \"bumble\", \"burnt\", \"bush\", \"bust\", \"busy\", \"busy\", \"busy\", \"busy\", \"busy\", \"busy\", \"busy\", \"busy\", \"busy\", \"butter\", \"butter\", \"butter\", \"butter\", \"butter\", \"buttermilk\", \"buttery\", \"buttery\", \"bye\", \"caffeine\", \"caffeine\", \"cal\", \"calorie\", \"calorie\", \"calorie\", \"calorie\", \"calorie\", \"calorie\", \"candied\", \"candy\", \"candy\", \"candy\", \"candy\", \"candy\", \"candy\", \"canister\", \"canned\", \"canned\", \"canned\", \"canned\", \"canned\", \"canned\", \"capable\", \"capable\", \"capable\", \"capsaicin\", \"carafe\", \"carafe\", \"caraway\", \"cardamom\", \"careful\", \"careful\", \"careful\", \"careful\", \"careful\", \"careful\", \"careful\", \"careful\", \"careful\", \"careful\", \"careful\", \"careful\", \"careful\", \"careful\", \"careful\", \"caribou\", \"caribou\", \"carrot\", \"casein\", \"cassia\", \"cavalier\", \"cayenne\", \"cayenne\", \"celestial\", \"celestial\", \"celestial\", \"celestial\", \"celestial\", \"celiac\", \"celiac\", \"cellular\", \"cent\", \"ceral\", \"cereal\", \"cereal\", \"ceremonial\", \"certain\", \"certain\", \"certain\", \"certain\", \"certain\", \"certain\", \"certain\", \"certain\", \"certain\", \"certain\", \"certain\", \"certain\", \"certain\", \"certain\", \"certain\", \"certain\", \"certain\", \"certain\", \"certainly\", \"certainly\", \"certainly\", \"certainly\", \"certainly\", \"certainly\", \"certainly\", \"certainly\", \"certainly\", \"certainly\", \"certainly\", \"certainly\", \"certainly\", \"certainly\", \"certainly\", \"certainly\", \"certainly\", \"certainly\", \"certified\", \"certified\", \"certified\", \"certified\", \"certified\", \"chai\", \"chai\", \"chai\", \"charge\", \"chase\", \"chaser\", \"cheap\", \"cheap\", \"cheap\", \"cheap\", \"cheap\", \"cheap\", \"cheap\", \"cheap\", \"cheap\", \"cheap\", \"cheap\", \"cheap\", \"cheap\", \"cheap\", \"cheap\", \"cheap\", \"cheap\", \"cheap\", \"cheese\", \"cheese\", \"cheese\", \"cheese\", \"cheese\", \"cheesy\", \"chest\", \"chewy\", \"chewy\", \"chewy\", \"chewy\", \"chewy\", \"chewy\", \"chewy\", \"chewy\", \"chewy\", \"chewy\", \"chewy\", \"chia\", \"chick\", \"chicken\", \"chicken\", \"chicken\", \"chicken\", \"chicken\", \"chicken\", \"chicken\", \"chicken\", \"chicken\", \"chicken\", \"chicken\", \"chicken\", \"childhood\", \"chilly\", \"chopped\", \"chopped\", \"chopped\", \"chopped\", \"chrysanthemum\", \"cinnamon\", \"cinnamon\", \"cinnamon\", \"cinnamon\", \"cinnamon\", \"cinnamon\", \"cinnamon\", \"cinnamon\", \"cinnamon\", \"cinnamon\", \"cinnamon\", \"cinnamon\", \"citric\", \"citric\", \"citric\", \"citric\", \"citric\", \"classic\", \"classic\", \"classic\", \"classic\", \"classic\", \"classic\", \"classic\", \"classic\", \"classic\", \"classic\", \"classic\", \"classic\", \"classic\", \"classic\", \"classic\", \"classical\", \"classical\", \"clean\", \"clean\", \"clean\", \"clean\", \"clean\", \"clean\", \"clean\", \"clean\", \"clean\", \"clean\", \"clean\", \"clean\", \"clean\", \"clean\", \"clean\", \"clean\", \"cleaner\", \"clear\", \"clear\", \"clear\", \"clear\", \"clear\", \"clear\", \"clear\", \"clear\", \"clear\", \"clear\", \"clear\", \"clear\", \"clear\", \"clear\", \"clear\", \"clear\", \"clear\", \"clear\", \"clear\", \"clear\", \"clearly\", \"clearly\", \"clearly\", \"clearly\", \"clearly\", \"clearly\", \"clearly\", \"clearly\", \"clearly\", \"clearly\", \"clearly\", \"clearly\", \"cliff\", \"close\", \"close\", \"close\", \"close\", \"close\", \"close\", \"close\", \"close\", \"close\", \"close\", \"close\", \"close\", \"close\", \"close\", \"close\", \"close\", \"close\", \"close\", \"close\", \"cloud\", \"cloud\", \"clown\", \"cloyingly\", \"club\", \"club\", \"coconut\", \"coconut\", \"coconut\", \"coconut\", \"coconut\", \"coconut\", \"coconut\", \"coconut\", \"coconut\", \"cold\", \"cold\", \"cold\", \"cold\", \"cold\", \"cold\", \"cold\", \"cold\", \"cold\", \"cold\", \"cold\", \"cold\", \"collard\", \"collard\", \"commendable\", \"commissary\", \"commissary\", \"competitive\", \"competitive\", \"competitive\", \"competitive\", \"competitive\", \"competitive\", \"competitive\", \"competitive\", \"competitive\", \"competitive\", \"competitively\", \"completely\", \"completely\", \"completely\", \"completely\", \"completely\", \"completely\", \"completely\", \"completely\", \"completely\", \"completely\", \"completely\", \"completely\", \"completely\", \"completely\", \"completely\", \"completely\", \"completely\", \"completely\", \"completely\", \"completely\", \"complex\", \"complex\", \"complex\", \"complex\", \"complex\", \"complex\", \"complex\", \"complex\", \"complex\", \"complex\", \"complex\", \"complex\", \"complex\", \"concentrate\", \"concentrate\", \"concerned\", \"concerned\", \"concerned\", \"concerned\", \"congressional\", \"conical\", \"conical\", \"consciously\", \"consistent\", \"consistent\", \"consistent\", \"consistent\", \"consistent\", \"consistent\", \"consistent\", \"consistent\", \"consistent\", \"consistent\", \"consistent\", \"consistent\", \"consistent\", \"consistent\", \"consistent\", \"consistent\", \"constantly\", \"constantly\", \"constantly\", \"constantly\", \"constantly\", \"constantly\", \"constantly\", \"constantly\", \"constantly\", \"convenient\", \"convenient\", \"convenient\", \"convenient\", \"convenient\", \"convenient\", \"convenient\", \"convenient\", \"convenient\", \"convenient\", \"convenient\", \"convenient\", \"convenient\", \"convenient\", \"convenient\", \"conveniently\", \"conveniently\", \"conveniently\", \"conveniently\", \"conventional\", \"conventional\", \"corgi\", \"corporate\", \"corporate\", \"corporate\", \"corporate\", \"cosmic\", \"cost\", \"cost\", \"cost\", \"cost\", \"cost\", \"costly\", \"costly\", \"costly\", \"costly\", \"costly\", \"costly\", \"costly\", \"costly\", \"costly\", \"counter\", \"couple\", \"couple\", \"couple\", \"couple\", \"couple\", \"couple\", \"couple\", \"couscous\", \"cracker\", \"cracker\", \"cracker\", \"cranky\", \"crawfish\", \"crawfish\", \"crazy\", \"crazy\", \"crazy\", \"crazy\", \"crazy\", \"crazy\", \"crazy\", \"crazy\", \"crazy\", \"crazy\", \"crazy\", \"crazy\", \"crazy\", \"crazy\", \"crazy\", \"crazy\", \"creamer\", \"creamer\", \"creamy\", \"creamy\", \"creamy\", \"creamy\", \"creamy\", \"creamy\", \"creamy\", \"creamy\", \"creamy\", \"creek\", \"crown\", \"crown\", \"crumbly\", \"crumbly\", \"crumbly\", \"crumbly\", \"crunchy\", \"crunchy\", \"crunchy\", \"crunchy\", \"crunchy\", \"crunchy\", \"crunchy\", \"crush\", \"crush\", \"crush\", \"crush\", \"crust\", \"crystal\", \"curry\", \"curry\", \"curry\", \"custard\", \"custard\", \"cute\", \"dad\", \"dagoba\", \"daily\", \"daily\", \"daily\", \"daily\", \"daily\", \"daily\", \"daily\", \"daily\", \"daily\", \"daily\", \"daily\", \"daily\", \"daily\", \"daily\", \"daily\", \"daily\", \"daily\", \"daily\", \"daily\", \"daily\", \"dairy\", \"damn\", \"damn\", \"damn\", \"damn\", \"damn\", \"dandruff\", \"dandruff\", \"dandy\", \"dark\", \"dark\", \"darn\", \"darn\", \"darn\", \"dead\", \"dead\", \"dead\", \"dear\", \"dear\", \"dear\", \"dear\", \"decadent\", \"decadent\", \"decadent\", \"decadent\", \"decent\", \"decent\", \"decent\", \"decent\", \"decent\", \"decent\", \"decent\", \"decent\", \"decent\", \"decent\", \"decent\", \"deep\", \"deep\", \"deep\", \"deep\", \"deep\", \"defiantly\", \"defiantly\", \"defined\", \"definitely\", \"definitely\", \"definitely\", \"definitely\", \"definitely\", \"definitely\", \"definitely\", \"definitely\", \"definitely\", \"definitely\", \"definitely\", \"definitely\", \"definitely\", \"definitely\", \"definitely\", \"definitely\", \"definitely\", \"definitely\", \"definitely\", \"definitive\", \"definitive\", \"degradable\", \"delectable\", \"delectable\", \"delectable\", \"delectable\", \"delicate\", \"delicate\", \"delicate\", \"delicate\", \"delicate\", \"delicate\", \"delicately\", \"delicately\", \"delicately\", \"delicious\", \"delicious\", \"delicious\", \"delicious\", \"delicious\", \"delicious\", \"delicious\", \"delicious\", \"delicious\", \"delicious\", \"delicious\", \"delicious\", \"delicious\", \"delicious\", \"delicious\", \"delicious\", \"delicious\", \"delicious\", \"delicious\", \"deliciously\", \"deliciously\", \"deliciously\", \"deliciously\", \"deliciously\", \"deliciously\", \"deliciously\", \"deliciousness\", \"delight\", \"delight\", \"delighted\", \"delighted\", \"delighted\", \"delighted\", \"delightfully\", \"delightfully\", \"demi\", \"dental\", \"dental\", \"dental\", \"dental\", \"dependent\", \"design\", \"design\", \"destiny\", \"deviled\", \"deviled\", \"devour\", \"dha\", \"diabetic\", \"dial\", \"diaper\", \"diehard\", \"diehard\", \"diet\", \"diet\", \"diet\", \"diet\", \"diet\", \"diet\", \"diet\", \"diet\", \"diet\", \"diet\", \"diet\", \"diet\", \"diet\", \"diet\", \"diet\", \"diet\", \"dietary\", \"dietary\", \"dietary\", \"dietary\", \"dietary\", \"dietary\", \"dietetic\", \"dietetic\", \"dietitian\", \"dietitian\", \"different\", \"different\", \"different\", \"different\", \"different\", \"different\", \"different\", \"different\", \"different\", \"different\", \"different\", \"different\", \"different\", \"different\", \"different\", \"different\", \"different\", \"different\", \"different\", \"different\", \"digest\", \"digest\", \"digestive\", \"digestive\", \"digestive\", \"digestive\", \"digestive\", \"digestive\", \"digestive\", \"digestive\", \"digestive\", \"digestive\", \"dinner\", \"dinosaur\", \"direct\", \"direct\", \"direct\", \"direct\", \"direct\", \"direct\", \"direct\", \"direct\", \"dirty\", \"dirty\", \"dirty\", \"dirty\", \"disappoint\", \"disappoint\", \"disappoint\", \"disappoint\", \"disappoint\", \"disappoint\", \"discover\", \"discover\", \"discover\", \"discover\", \"discover\", \"discover\", \"discover\", \"discover\", \"discover\", \"disgust\", \"disgust\", \"disgust\", \"disgust\", \"disgust\", \"dissatisfy\", \"distil\", \"distinctive\", \"distinctive\", \"distinctive\", \"distinctive\", \"distinctive\", \"distinctive\", \"distinctive\", \"distinctive\", \"distinctive\", \"distinctively\", \"dive\", \"dizzy\", \"dog\", \"dog\", \"dog\", \"dole\", \"dong\", \"dop\", \"double\", \"double\", \"double\", \"double\", \"double\", \"double\", \"double\", \"double\", \"double\", \"dough\", \"dough\", \"dough\", \"dress\", \"dress\", \"drippy\", \"dry\", \"dry\", \"dry\", \"dry\", \"dry\", \"dry\", \"dry\", \"dry\", \"dry\", \"dry\", \"dry\", \"dry\", \"durian\", \"dutch\", \"dutch\", \"eagle\", \"earl\", \"earl\", \"earl\", \"earl\", \"earl\", \"earl\", \"early\", \"early\", \"early\", \"early\", \"early\", \"early\", \"early\", \"early\", \"early\", \"early\", \"early\", \"early\", \"earthborn\", \"easier\", \"easier\", \"easier\", \"easier\", \"easier\", \"easily\", \"easily\", \"easily\", \"easily\", \"easily\", \"easily\", \"easily\", \"easily\", \"easily\", \"easily\", \"easily\", \"easily\", \"easily\", \"easily\", \"easily\", \"easily\", \"easily\", \"easily\", \"easily\", \"easily\", \"east\", \"east\", \"easter\", \"eastern\", \"eastern\", \"eastern\", \"eastern\", \"easy\", \"easy\", \"easy\", \"easy\", \"easy\", \"easy\", \"easy\", \"easy\", \"easy\", \"easy\", \"easy\", \"easy\", \"easy\", \"easy\", \"easy\", \"easy\", \"easy\", \"easy\", \"easy\", \"easy\", \"eating\", \"eating\", \"eating\", \"eating\", \"eating\", \"eating\", \"eating\", \"eating\", \"edible\", \"edible\", \"edible\", \"edible\", \"edible\", \"edible\", \"edible\", \"effective\", \"effective\", \"effective\", \"effective\", \"effective\", \"effective\", \"effective\", \"effective\", \"egg\", \"egg\", \"eggnog\", \"el\", \"el\", \"elaborate\", \"elate\", \"elate\", \"elderly\", \"elderly\", \"elderly\", \"electrolyte\", \"elegant\", \"elegant\", \"elegant\", \"elegant\", \"elegant\", \"elegant\", \"elegant\", \"elegant\", \"eligible\", \"eligible\", \"eligible\", \"endure\", \"enjoyable\", \"enjoyable\", \"enjoyable\", \"enjoyable\", \"enjoyable\", \"enjoyable\", \"enjoyable\", \"enjoyable\", \"enjoyment\", \"entire\", \"entire\", \"entire\", \"entire\", \"entire\", \"entire\", \"entire\", \"entire\", \"entire\", \"entire\", \"entire\", \"entire\", \"entire\", \"entire\", \"entire\", \"entire\", \"entire\", \"envelope\", \"environmentally\", \"environmentally\", \"environmentally\", \"enzymatic\", \"equal\", \"equal\", \"equal\", \"equal\", \"equal\", \"equal\", \"equal\", \"equal\", \"equal\", \"equal\", \"equal\", \"equal\", \"equivalent\", \"equivalent\", \"equivalent\", \"equivalent\", \"erythritol\", \"especially\", \"especially\", \"especially\", \"especially\", \"especially\", \"especially\", \"especially\", \"especially\", \"especially\", \"especially\", \"especially\", \"especially\", \"especially\", \"especially\", \"especially\", \"especially\", \"especially\", \"especially\", \"especially\", \"especially\", \"essentia\", \"essential\", \"essential\", \"essential\", \"essential\", \"essential\", \"essential\", \"essential\", \"essential\", \"essential\", \"essential\", \"essential\", \"eve\", \"everlasting\", \"everyday\", \"everyday\", \"everyday\", \"everyday\", \"everyday\", \"everyday\", \"everyday\", \"everyday\", \"everyday\", \"everyday\", \"everyday\", \"everyday\", \"everyday\", \"everyday\", \"everyday\", \"everyday\", \"evidently\", \"exactly\", \"exactly\", \"exactly\", \"exactly\", \"exactly\", \"exactly\", \"exactly\", \"exactly\", \"exactly\", \"exactly\", \"exactly\", \"exactly\", \"exactly\", \"exactly\", \"exactly\", \"excellent\", \"excellent\", \"excellent\", \"excellent\", \"excellent\", \"excellent\", \"excellent\", \"excellent\", \"excellent\", \"excellent\", \"excellent\", \"excellent\", \"excellent\", \"excellent\", \"excellent\", \"excellent\", \"exceptional\", \"exceptional\", \"exceptional\", \"exceptional\", \"exceptional\", \"exceptional\", \"exceptional\", \"excited\", \"excited\", \"excited\", \"excited\", \"excited\", \"excited\", \"excited\", \"excited\", \"excited\", \"excited\", \"exercise\", \"exhaustive\", \"expense\", \"expensive\", \"expensive\", \"expensive\", \"expensive\", \"expensive\", \"expensive\", \"expensive\", \"expensive\", \"expensive\", \"expensive\", \"expensive\", \"expensive\", \"expensive\", \"expensive\", \"expensive\", \"expensive\", \"expensive\", \"expensive\", \"expensive\", \"expensive\", \"exponentially\", \"exposed\", \"extra\", \"extra\", \"extra\", \"extra\", \"extra\", \"extra\", \"extra\", \"extra\", \"extra\", \"extra\", \"extra\", \"extra\", \"extra\", \"extra\", \"extra\", \"extra\", \"extra\", \"extra\", \"extra\", \"extract\", \"extract\", \"extract\", \"extractive\", \"extremely\", \"extremely\", \"extremely\", \"extremely\", \"extremely\", \"extremely\", \"extremely\", \"extremely\", \"extremely\", \"extremely\", \"extremely\", \"extremely\", \"extremely\", \"extremely\", \"extremely\", \"extremely\", \"extremely\", \"extremely\", \"extremely\", \"extremely\", \"fabulous\", \"fabulous\", \"fabulous\", \"fabulous\", \"fabulous\", \"fabulous\", \"fabulous\", \"fabulous\", \"fabulous\", \"fabulous\", \"fabulous\", \"fabulous\", \"fabulous\", \"fair\", \"fair\", \"fair\", \"fair\", \"fair\", \"fair\", \"fair\", \"fair\", \"fair\", \"fairly\", \"fairly\", \"fairly\", \"fairly\", \"fairly\", \"fairly\", \"fairly\", \"fairly\", \"fairly\", \"fairly\", \"fairly\", \"fairly\", \"fairly\", \"fairly\", \"fairly\", \"fairly\", \"fairly\", \"fairly\", \"fairly\", \"fairly\", \"faithfully\", \"faithfully\", \"fake\", \"fake\", \"fake\", \"fake\", \"fake\", \"fake\", \"fake\", \"familiar\", \"familiar\", \"familiar\", \"familiar\", \"familiar\", \"familiar\", \"familiar\", \"familiar\", \"familiar\", \"familiar\", \"familiar\", \"familiar\", \"familiar\", \"fancy\", \"fancy\", \"fancy\", \"fancy\", \"fancy\", \"fancy\", \"fancy\", \"fancy\", \"fancy\", \"fantastic\", \"fantastic\", \"fantastic\", \"fantastic\", \"fantastic\", \"fantastic\", \"fantastic\", \"fantastic\", \"fantastically\", \"fantastically\", \"fantastically\", \"far\", \"far\", \"far\", \"far\", \"far\", \"far\", \"far\", \"far\", \"far\", \"far\", \"far\", \"far\", \"far\", \"far\", \"far\", \"far\", \"far\", \"far\", \"far\", \"fashioned\", \"fast\", \"fast\", \"fast\", \"fast\", \"fast\", \"fast\", \"fast\", \"fast\", \"fast\", \"fast\", \"fast\", \"fast\", \"fast\", \"fat\", \"fat\", \"fat\", \"fat\", \"fat\", \"favorite\", \"favorite\", \"favorite\", \"favorite\", \"favorite\", \"favorite\", \"favorite\", \"favorite\", \"favorite\", \"favorite\", \"favorite\", \"favorite\", \"favorite\", \"favorite\", \"favorite\", \"fe\", \"feast\", \"fecal\", \"fecal\", \"fee\", \"fee\", \"female\", \"female\", \"ferrous\", \"fiber\", \"fiber\", \"fiber\", \"fiber\", \"fiber\", \"fiber\", \"fiber\", \"fiber\", \"fiesta\", \"fig\", \"filling\", \"filling\", \"filling\", \"filling\", \"filling\", \"filling\", \"filling\", \"filling\", \"filter\", \"filter\", \"finally\", \"finally\", \"finally\", \"finally\", \"finally\", \"finally\", \"finally\", \"finally\", \"finally\", \"finally\", \"finally\", \"finally\", \"finally\", \"finally\", \"finally\", \"finally\", \"finally\", \"finally\", \"finally\", \"finding\", \"fine\", \"fine\", \"fine\", \"fine\", \"fine\", \"fine\", \"fine\", \"fine\", \"fine\", \"fine\", \"fine\", \"fine\", \"fine\", \"fine\", \"fine\", \"fine\", \"fine\", \"fine\", \"fine\", \"fish\", \"fish\", \"fish\", \"fish\", \"fish\", \"fish\", \"fishy\", \"fishy\", \"fist\", \"fixed\", \"fizzy\", \"fizzy\", \"flat\", \"flat\", \"flat\", \"flat\", \"flat\", \"flat\", \"flat\", \"flat\", \"flat\", \"flat\", \"flat\", \"flat\", \"flat\", \"flavored\", \"flavored\", \"flavored\", \"flavored\", \"flavored\", \"flavored\", \"flavored\", \"flavorful\", \"flavorful\", \"flavorful\", \"flavorful\", \"flavorful\", \"flavorful\", \"flavorful\", \"flavorful\", \"flavorful\", \"flavorful\", \"flavorful\", \"flavorful\", \"flavorful\", \"flax\", \"flax\", \"flax\", \"flaxseed\", \"flaxseed\", \"flaxseed\", \"flimsy\", \"floral\", \"floral\", \"floral\", \"floral\", \"flour\", \"flour\", \"flour\", \"flower\", \"flower\", \"flower\", \"fluffy\", \"fluffy\", \"fluffy\", \"fog\", \"fog\", \"fondant\", \"fondue\", \"fop\", \"forward\", \"forward\", \"forward\", \"forward\", \"forward\", \"forward\", \"forward\", \"forward\", \"forward\", \"forward\", \"forward\", \"forward\", \"forward\", \"forward\", \"forward\", \"forward\", \"forward\", \"forward\", \"forward\", \"fragrant\", \"fragrant\", \"fragrant\", \"fragrant\", \"fragrant\", \"fragrant\", \"free\", \"free\", \"free\", \"free\", \"free\", \"fresh\", \"fresh\", \"fresh\", \"fresh\", \"fresh\", \"fresh\", \"fresh\", \"fresh\", \"fresh\", \"fresh\", \"fresh\", \"fresh\", \"fresh\", \"fresh\", \"fresh\", \"fresh\", \"fresh\", \"fresh\", \"fresh\", \"fresh\", \"freshly\", \"freshly\", \"freshly\", \"freshly\", \"freshly\", \"freshly\", \"freshly\", \"freshly\", \"freshly\", \"freshly\", \"friendly\", \"friendly\", \"friendly\", \"friendly\", \"friendly\", \"friendly\", \"friendly\", \"friendly\", \"friendly\", \"friendly\", \"frisky\", \"fro\", \"frontier\", \"frontier\", \"frontier\", \"frontier\", \"froth\", \"frozen\", \"frozen\", \"frozen\", \"frozen\", \"frozen\", \"frozen\", \"frozen\", \"frozen\", \"frozen\", \"frozen\", \"frozen\", \"frozen\", \"frozen\", \"frozen\", \"frozen\", \"frozen\", \"fructose\", \"fry\", \"fry\", \"fungal\", \"fungal\", \"funky\", \"funky\", \"funky\", \"funky\", \"funky\", \"funky\", \"funky\", \"funny\", \"funny\", \"funny\", \"funny\", \"funny\", \"future\", \"future\", \"future\", \"future\", \"future\", \"future\", \"future\", \"future\", \"future\", \"future\", \"gain\", \"gal\", \"garlic\", \"garlic\", \"garlic\", \"garlic\", \"garlic\", \"garlic\", \"garlic\", \"general\", \"general\", \"general\", \"general\", \"general\", \"general\", \"general\", \"general\", \"general\", \"general\", \"general\", \"general\", \"general\", \"generic\", \"generic\", \"generic\", \"generic\", \"generic\", \"generic\", \"generous\", \"generous\", \"generous\", \"generous\", \"generous\", \"generous\", \"generous\", \"generous\", \"generous\", \"generous\", \"generous\", \"generous\", \"generous\", \"genetically\", \"genetically\", \"genetically\", \"genetically\", \"genius\", \"gently\", \"gently\", \"gently\", \"gently\", \"gently\", \"gently\", \"genuine\", \"genuine\", \"geriatric\", \"german\", \"german\", \"german\", \"gift\", \"gift\", \"ginger\", \"ginger\", \"ginger\", \"ginger\", \"ginger\", \"gingerbread\", \"gingerbread\", \"gingerbread\", \"gingery\", \"gingery\", \"glad\", \"glad\", \"glad\", \"glad\", \"glad\", \"glad\", \"glad\", \"glad\", \"glad\", \"glad\", \"glad\", \"glad\", \"glad\", \"global\", \"glucose\", \"glucose\", \"glucose\", \"glucose\", \"glutamic\", \"gluten\", \"gluttonous\", \"golden\", \"golden\", \"golden\", \"golden\", \"golden\", \"golden\", \"goldfish\", \"good\", \"good\", \"good\", \"good\", \"good\", \"good\", \"good\", \"good\", \"good\", \"good\", \"good\", \"good\", \"good\", \"good\", \"good\", \"good\", \"good\", \"good\", \"good\", \"good\", \"grainy\", \"grainy\", \"grainy\", \"grainy\", \"grainy\", \"grand\", \"grand\", \"grand\", \"grand\", \"grand\", \"grand\", \"granulated\", \"granulated\", \"granulated\", \"grassy\", \"grassy\", \"grassy\", \"grassy\", \"gravy\", \"gravy\", \"great\", \"great\", \"great\", \"great\", \"great\", \"great\", \"great\", \"great\", \"great\", \"great\", \"great\", \"great\", \"great\", \"great\", \"great\", \"great\", \"great\", \"great\", \"great\", \"great\", \"greatly\", \"greatly\", \"greatly\", \"greatly\", \"greatly\", \"greatly\", \"greatly\", \"greatly\", \"green\", \"green\", \"grey\", \"grey\", \"grey\", \"grey\", \"grilled\", \"grilled\", \"grilled\", \"grilled\", \"grilled\", \"grilled\", \"grilled\", \"gristle\", \"groggy\", \"gross\", \"gross\", \"gross\", \"gross\", \"gross\", \"guava\", \"guest\", \"guest\", \"guilt\", \"guilty\", \"guilty\", \"guilty\", \"guilty\", \"guilty\", \"guilty\", \"gum\", \"gum\", \"gum\", \"gym\", \"hair\", \"hair\", \"hair\", \"halfway\", \"halfway\", \"halfway\", \"halo\", \"ham\", \"ham\", \"hamburger\", \"handily\", \"handy\", \"handy\", \"handy\", \"handy\", \"handy\", \"handy\", \"handy\", \"handy\", \"handy\", \"handy\", \"handy\", \"handy\", \"handy\", \"handy\", \"handy\", \"happy\", \"happy\", \"happy\", \"hard\", \"hard\", \"hard\", \"hard\", \"hard\", \"hard\", \"hard\", \"hard\", \"hard\", \"hard\", \"hard\", \"hard\", \"hard\", \"hard\", \"hard\", \"hard\", \"hardly\", \"hardly\", \"hardly\", \"hardly\", \"hardly\", \"hardly\", \"harmony\", \"harsh\", \"harsh\", \"harsh\", \"harsh\", \"harsh\", \"harsh\", \"harsh\", \"harsh\", \"harsh\", \"harsh\", \"harvest\", \"harvest\", \"harvest\", \"hazelnut\", \"hazelnut\", \"hazelnut\", \"healthful\", \"healthful\", \"healthful\", \"healthful\", \"healthful\", \"healthful\", \"healthful\", \"healthful\", \"healthful\", \"healthful\", \"healthful\", \"healthful\", \"healthfully\", \"healthy\", \"healthy\", \"healthy\", \"heavy\", \"heavy\", \"heavy\", \"heavy\", \"heavy\", \"heavy\", \"heavy\", \"heavy\", \"heavy\", \"heavy\", \"heavy\", \"heavy\", \"heavy\", \"heavy\", \"heavy\", \"heavy\", \"heavy\", \"hectic\", \"helper\", \"helpful\", \"helpful\", \"helpful\", \"helpful\", \"helpful\", \"helpful\", \"helpful\", \"helpful\", \"helpful\", \"helpful\", \"helpful\", \"hemp\", \"hemp\", \"herbal\", \"herbal\", \"herbal\", \"herbal\", \"herby\", \"hickory\", \"hickory\", \"hickory\", \"hickory\", \"hickory\", \"hidden\", \"hidden\", \"hidden\", \"hidden\", \"hidden\", \"high\", \"high\", \"high\", \"high\", \"high\", \"high\", \"high\", \"high\", \"high\", \"high\", \"high\", \"high\", \"high\", \"high\", \"high\", \"high\", \"high\", \"high\", \"high\", \"high\", \"highly\", \"highly\", \"highly\", \"highly\", \"highly\", \"highly\", \"highly\", \"highly\", \"highly\", \"highly\", \"highly\", \"highly\", \"highly\", \"highly\", \"highly\", \"highly\", \"highly\", \"highly\", \"highly\", \"highly\", \"historical\", \"holistic\", \"holistic\", \"horizontally\", \"horizontally\", \"horrible\", \"horrible\", \"horrible\", \"horrible\", \"horrible\", \"horrible\", \"horrible\", \"horrible\", \"horrible\", \"horrible\", \"hot\", \"hot\", \"hotter\", \"huge\", \"huge\", \"huge\", \"huge\", \"huge\", \"huge\", \"huge\", \"huge\", \"huge\", \"huge\", \"huge\", \"huge\", \"huge\", \"huge\", \"huge\", \"huge\", \"huge\", \"huge\", \"huge\", \"huge\", \"hunger\", \"hunger\", \"hunger\", \"hungry\", \"hungry\", \"hungry\", \"hungry\", \"hungry\", \"hungry\", \"hydrate\", \"hysterical\", \"iced\", \"iced\", \"iced\", \"iced\", \"iced\", \"ignorant\", \"ill\", \"ill\", \"ill\", \"ill\", \"ill\", \"illy\", \"immediate\", \"immediate\", \"immediate\", \"immediate\", \"immediate\", \"immediate\", \"immediately\", \"immediately\", \"immediately\", \"immediately\", \"immediately\", \"immediately\", \"immediately\", \"immediately\", \"immediately\", \"immediately\", \"immediately\", \"immediately\", \"immediately\", \"immediately\", \"immediately\", \"immediately\", \"immediately\", \"immediately\", \"immense\", \"immense\", \"immune\", \"immune\", \"immune\", \"immune\", \"important\", \"important\", \"important\", \"important\", \"important\", \"important\", \"important\", \"important\", \"important\", \"important\", \"important\", \"important\", \"important\", \"important\", \"important\", \"important\", \"important\", \"important\", \"important\", \"impossible\", \"impossible\", \"impossible\", \"impossible\", \"impossible\", \"impossible\", \"impossible\", \"impossible\", \"impossible\", \"impossible\", \"impossible\", \"incredible\", \"incredible\", \"incredible\", \"incredible\", \"incredible\", \"incredible\", \"incredible\", \"incredible\", \"incredible\", \"incredible\", \"incredible\", \"incredible\", \"incredible\", \"incredible\", \"incredible\", \"incredible\", \"indigestible\", \"indirect\", \"individual\", \"individual\", \"individual\", \"individual\", \"individual\", \"individual\", \"individual\", \"individual\", \"individual\", \"individual\", \"individual\", \"individual\", \"individual\", \"individual\", \"individual\", \"individual\", \"individually\", \"individually\", \"individually\", \"indoor\", \"inexpensive\", \"inexpensive\", \"inexpensive\", \"inexpensive\", \"inexpensive\", \"inexpensive\", \"inexpensive\", \"inexpensive\", \"inexpensive\", \"inexpensive\", \"inexpensive\", \"inexpensive\", \"inexpensive\", \"inexpensive\", \"inexpensive\", \"inexpensive\", \"inexplicable\", \"infant\", \"infant\", \"inferior\", \"inferior\", \"inferior\", \"inferior\", \"inferior\", \"inferior\", \"inflated\", \"inflated\", \"inflated\", \"insoluble\", \"insoluble\", \"inspirational\", \"inspiring\", \"instant\", \"instant\", \"instantaneous\", \"instead\", \"instead\", \"instead\", \"instead\", \"instead\", \"instead\", \"instead\", \"instead\", \"instead\", \"instead\", \"instead\", \"instead\", \"instead\", \"instead\", \"instead\", \"instead\", \"instead\", \"instead\", \"instead\", \"instead\", \"instinct\", \"instinct\", \"insulated\", \"intact\", \"intact\", \"intact\", \"intact\", \"intact\", \"intact\", \"intact\", \"intact\", \"intense\", \"intense\", \"intense\", \"intense\", \"intense\", \"intense\", \"intense\", \"intense\", \"intense\", \"intense\", \"intense\", \"intense\", \"intense\", \"intense\", \"intense\", \"intense\", \"intense\", \"intentional\", \"intolerant\", \"intolerant\", \"itch\", \"itching\", \"jasmine\", \"jasmine\", \"jean\", \"jean\", \"jelly\", \"jelly\", \"jolly\", \"jolly\", \"jolly\", \"junior\", \"just\", \"just\", \"just\", \"just\", \"just\", \"just\", \"just\", \"just\", \"just\", \"just\", \"just\", \"just\", \"just\", \"just\", \"just\", \"just\", \"just\", \"just\", \"just\", \"just\", \"kale\", \"kale\", \"kava\", \"kettle\", \"kettle\", \"kettle\", \"key\", \"key\", \"key\", \"key\", \"key\", \"key\", \"kibble\", \"kibble\", \"kibble\", \"kitten\", \"kitten\", \"kona\", \"la\", \"la\", \"lactic\", \"lactobacillus\", \"lactose\", \"lactose\", \"lard\", \"lard\", \"large\", \"large\", \"large\", \"large\", \"large\", \"large\", \"large\", \"large\", \"large\", \"large\", \"large\", \"large\", \"large\", \"large\", \"large\", \"large\", \"large\", \"large\", \"large\", \"lately\", \"lately\", \"lately\", \"lately\", \"lately\", \"lately\", \"lately\", \"lately\", \"lately\", \"lately\", \"lately\", \"lately\", \"later\", \"later\", \"later\", \"later\", \"later\", \"later\", \"later\", \"later\", \"later\", \"later\", \"later\", \"later\", \"later\", \"later\", \"later\", \"laughable\", \"laundry\", \"lazy\", \"lazy\", \"lazy\", \"lazy\", \"lazy\", \"lazy\", \"lazy\", \"leading\", \"leading\", \"leaf\", \"leaf\", \"leafy\", \"leak\", \"lean\", \"lean\", \"lean\", \"lean\", \"lean\", \"lean\", \"lean\", \"lean\", \"lean\", \"lean\", \"lean\", \"lean\", \"leather\", \"left\", \"left\", \"left\", \"left\", \"leg\", \"lemon\", \"lemon\", \"lemon\", \"lemon\", \"lemon\", \"lemon\", \"lemon\", \"lemon\", \"lemon\", \"lemon\", \"liberal\", \"liberal\", \"liberally\", \"liberally\", \"librarian\", \"licorice\", \"licorice\", \"licorice\", \"lid\", \"lid\", \"lid\", \"lid\", \"lid\", \"lid\", \"lid\", \"light\", \"light\", \"light\", \"light\", \"light\", \"light\", \"light\", \"light\", \"light\", \"light\", \"light\", \"light\", \"light\", \"light\", \"light\", \"light\", \"light\", \"light\", \"light\", \"like\", \"like\", \"like\", \"like\", \"like\", \"like\", \"like\", \"like\", \"like\", \"like\", \"like\", \"like\", \"like\", \"like\", \"like\", \"like\", \"like\", \"like\", \"lime\", \"lime\", \"lime\", \"lime\", \"lined\", \"linolenic\", \"liquid\", \"liquid\", \"liquid\", \"liquid\", \"liquid\", \"liquid\", \"liquid\", \"liquid\", \"liquid\", \"liquid\", \"liquid\", \"liquid\", \"liquid\", \"liquid\", \"liquid\", \"listen\", \"lite\", \"literally\", \"literally\", \"literally\", \"literally\", \"literally\", \"literally\", \"literally\", \"literally\", \"literally\", \"literally\", \"literally\", \"literally\", \"literally\", \"little\", \"little\", \"little\", \"little\", \"little\", \"little\", \"little\", \"little\", \"little\", \"little\", \"little\", \"little\", \"little\", \"little\", \"little\", \"little\", \"little\", \"little\", \"little\", \"little\", \"lo\", \"loaded\", \"lobster\", \"local\", \"local\", \"local\", \"local\", \"local\", \"local\", \"local\", \"local\", \"local\", \"local\", \"local\", \"local\", \"local\", \"local\", \"local\", \"local\", \"local\", \"local\", \"locally\", \"locally\", \"locally\", \"locally\", \"locally\", \"locally\", \"locally\", \"locally\", \"locally\", \"locally\", \"locally\", \"logic\", \"loma\", \"long\", \"long\", \"long\", \"long\", \"long\", \"long\", \"long\", \"long\", \"long\", \"long\", \"long\", \"long\", \"long\", \"long\", \"long\", \"long\", \"long\", \"long\", \"long\", \"long\", \"longer\", \"longer\", \"longer\", \"longer\", \"longer\", \"longer\", \"longer\", \"longer\", \"longer\", \"longer\", \"longer\", \"longer\", \"longer\", \"longer\", \"longer\", \"longer\", \"loose\", \"loose\", \"loose\", \"loose\", \"loose\", \"loose\", \"loose\", \"loose\", \"loose\", \"loosely\", \"loosely\", \"loosely\", \"lot\", \"lot\", \"lovely\", \"lovely\", \"lovely\", \"lovely\", \"lovely\", \"lovely\", \"lovely\", \"lovely\", \"lovely\", \"lovely\", \"lover\", \"lover\", \"lover\", \"low\", \"low\", \"low\", \"low\", \"low\", \"low\", \"low\", \"low\", \"low\", \"low\", \"low\", \"lower\", \"lower\", \"lower\", \"lower\", \"lower\", \"lower\", \"loyal\", \"loyal\", \"lucky\", \"lucky\", \"lucky\", \"lucky\", \"lucky\", \"lucky\", \"lucky\", \"lucky\", \"lucky\", \"lucky\", \"lucky\", \"lucky\", \"ludicrous\", \"lunch\", \"lunch\", \"lunch\", \"lunch\", \"lunch\", \"mac\", \"macaroni\", \"mad\", \"mad\", \"mad\", \"mae\", \"maiden\", \"make\", \"make\", \"make\", \"make\", \"make\", \"make\", \"make\", \"make\", \"make\", \"make\", \"make\", \"make\", \"male\", \"male\", \"manageable\", \"manageable\", \"manageable\", \"mandarin\", \"manganous\", \"mango\", \"mango\", \"mangosteen\", \"maple\", \"maple\", \"marble\", \"marble\", \"marmite\", \"marmite\", \"mary\", \"mary\", \"mary\", \"mary\", \"marzipan\", \"mastic\", \"mat\", \"maybe\", \"maybe\", \"maybe\", \"maybe\", \"maybe\", \"maybe\", \"maybe\", \"maybe\", \"maybe\", \"maybe\", \"maybe\", \"maybe\", \"maybe\", \"maybe\", \"maybe\", \"maybe\", \"maybe\", \"maybe\", \"maybe\", \"maybe\", \"medicinal\", \"medicinal\", \"medicinal\", \"medicinal\", \"medicinal\", \"mellow\", \"mellow\", \"mellow\", \"mellow\", \"mellow\", \"mellow\", \"mellow\", \"mellow\", \"mellow\", \"memorable\", \"memorable\", \"memorable\", \"memorial\", \"metal\", \"metal\", \"metal\", \"mild\", \"mild\", \"mild\", \"mild\", \"mild\", \"mild\", \"mild\", \"mild\", \"mild\", \"mild\", \"mild\", \"mild\", \"mild\", \"mild\", \"mild\", \"mild\", \"mild\", \"mildly\", \"mildly\", \"mildly\", \"mildly\", \"mildly\", \"mildly\", \"mildly\", \"mildly\", \"mildly\", \"mildly\", \"mildly\", \"milky\", \"min\", \"min\", \"mind\", \"mineral\", \"mineral\", \"minor\", \"minor\", \"minor\", \"minor\", \"minor\", \"minor\", \"minty\", \"minty\", \"miserable\", \"miserable\", \"miss\", \"miss\", \"miss\", \"miss\", \"miss\", \"moist\", \"moist\", \"moist\", \"moist\", \"moist\", \"moist\", \"moist\", \"mold\", \"mold\", \"monthly\", \"monthly\", \"monthly\", \"monthly\", \"monthly\", \"monthly\", \"monthly\", \"monthly\", \"monthly\", \"monthly\", \"monthly\", \"monthly\", \"monthly\", \"moral\", \"muir\", \"multidimensional\", \"multinational\", \"mum\", \"nabob\", \"natural\", \"natural\", \"natural\", \"natural\", \"natural\", \"natural\", \"natural\", \"natural\", \"natural\", \"natural\", \"natural\", \"natural\", \"natural\", \"natural\", \"natural\", \"naturally\", \"naturally\", \"naturally\", \"naturally\", \"naturally\", \"naturally\", \"naturally\", \"naturally\", \"naturally\", \"naturally\", \"naturally\", \"naturally\", \"naturally\", \"naturally\", \"naturally\", \"naturally\", \"naturally\", \"naturally\", \"navy\", \"negative\", \"negative\", \"negative\", \"negative\", \"negative\", \"negative\", \"negative\", \"negative\", \"negative\", \"negative\", \"negative\", \"negative\", \"negative\", \"negative\", \"negative\", \"neo\", \"neon\", \"nervous\", \"nervous\", \"nervous\", \"nervous\", \"nervous\", \"nervous\", \"nervous\", \"new\", \"new\", \"new\", \"new\", \"new\", \"new\", \"new\", \"new\", \"new\", \"new\", \"new\", \"new\", \"new\", \"new\", \"new\", \"new\", \"new\", \"nib\", \"nib\", \"nice\", \"nice\", \"nice\", \"nice\", \"nice\", \"nice\", \"nice\", \"nice\", \"nice\", \"nice\", \"nice\", \"nice\", \"nice\", \"nice\", \"nice\", \"nice\", \"nice\", \"nice\", \"nice\", \"nice\", \"nicely\", \"nicely\", \"nicely\", \"nicely\", \"nicely\", \"nicely\", \"nicely\", \"nicely\", \"nicely\", \"nicely\", \"nicely\", \"nicely\", \"nicely\", \"nicely\", \"nicely\", \"nicotine\", \"nip\", \"nipple\", \"nirvana\", \"nonetheless\", \"nonetheless\", \"nonetheless\", \"nonetheless\", \"nonetheless\", \"nonetheless\", \"nonetheless\", \"nonnatural\", \"nonorganic\", \"nonorganic\", \"nonperishable\", \"nonprofit\", \"nonstop\", \"noodle\", \"noodle\", \"noodle\", \"noodle\", \"normal\", \"normal\", \"normal\", \"normal\", \"normal\", \"normal\", \"normal\", \"normal\", \"normal\", \"normal\", \"normal\", \"normal\", \"normal\", \"normal\", \"normal\", \"normal\", \"normal\", \"northern\", \"northern\", \"northern\", \"northern\", \"northern\", \"northern\", \"northern\", \"northern\", \"northern\", \"northern\", \"northwest\", \"northwest\", \"nose\", \"nose\", \"nose\", \"nose\", \"nostalgic\", \"noticeable\", \"noticeable\", \"noticeable\", \"noticeable\", \"noticeable\", \"noticeable\", \"noticeable\", \"noticeable\", \"noticeable\", \"noticeable\", \"notoriously\", \"notoriously\", \"nourish\", \"nourish\", \"nuke\", \"nut\", \"nut\", \"nut\", \"nut\", \"nut\", \"nut\", \"nut\", \"nutritional\", \"nutritional\", \"nutritional\", \"nutritional\", \"nutritional\", \"nutritional\", \"nutritional\", \"nutritional\", \"nutritional\", \"nutritional\", \"nutritional\", \"nutritional\", \"nutritionist\", \"nutritious\", \"nutritious\", \"nutritious\", \"nutritious\", \"nutritious\", \"nutty\", \"nutty\", \"nutty\", \"nutty\", \"nutty\", \"nutty\", \"nutty\", \"nutty\", \"nutty\", \"nutty\", \"nutty\", \"nutty\", \"nutty\", \"oak\", \"oatmeal\", \"oatmeal\", \"oatmeal\", \"oatmeal\", \"oatmeal\", \"oatmeal\", \"oatmeal\", \"oatmeal\", \"oatmeal\", \"oatmeal\", \"oatmeal\", \"obsidian\", \"odor\", \"oily\", \"oily\", \"oily\", \"oily\", \"oily\", \"oily\", \"oily\", \"oily\", \"old\", \"old\", \"old\", \"old\", \"old\", \"old\", \"old\", \"old\", \"old\", \"old\", \"old\", \"old\", \"old\", \"old\", \"olive\", \"olive\", \"olive\", \"olive\", \"olive\", \"olive\", \"olive\", \"olive\", \"oolong\", \"opaque\", \"opaque\", \"open\", \"open\", \"open\", \"open\", \"open\", \"open\", \"open\", \"open\", \"open\", \"open\", \"open\", \"open\", \"open\", \"open\", \"open\", \"open\", \"open\", \"open\", \"openly\", \"opposite\", \"opposite\", \"opposite\", \"oral\", \"oral\", \"orchid\", \"organic\", \"organic\", \"organic\", \"organically\", \"organically\", \"organically\", \"organically\", \"oriental\", \"oriental\", \"original\", \"original\", \"original\", \"original\", \"original\", \"original\", \"original\", \"original\", \"original\", \"original\", \"original\", \"original\", \"original\", \"original\", \"original\", \"original\", \"original\", \"original\", \"original\", \"original\", \"ornamental\", \"outrageous\", \"outrageous\", \"outrageous\", \"outrageous\", \"outstanding\", \"outstanding\", \"outstanding\", \"outstanding\", \"outstanding\", \"outstanding\", \"outstandingly\", \"oven\", \"oven\", \"oven\", \"oven\", \"oven\", \"oven\", \"overall\", \"overall\", \"overall\", \"overall\", \"overall\", \"overall\", \"overall\", \"overall\", \"overall\", \"overall\", \"overall\", \"overall\", \"overall\", \"overall\", \"overall\", \"overall\", \"overall\", \"overall\", \"overall\", \"overbear\", \"overbear\", \"overbear\", \"overly\", \"overly\", \"overly\", \"overly\", \"overly\", \"overly\", \"overly\", \"overly\", \"overly\", \"overpower\", \"overpower\", \"overpower\", \"overpower\", \"overpower\", \"overpower\", \"overpower\", \"overpower\", \"overpower\", \"overpower\", \"overpoweringly\", \"overseas\", \"oversized\", \"overwhelmingly\", \"overwhelmingly\", \"overwhelmingly\", \"overwhelmingly\", \"oxidative\", \"pack\", \"pack\", \"painful\", \"painful\", \"painful\", \"painful\", \"painful\", \"pale\", \"panda\", \"particular\", \"particular\", \"particular\", \"particular\", \"particular\", \"particular\", \"particular\", \"particular\", \"particular\", \"particular\", \"particular\", \"particular\", \"particular\", \"particular\", \"particular\", \"particular\", \"particular\", \"particular\", \"particular\", \"passable\", \"past\", \"past\", \"past\", \"past\", \"past\", \"past\", \"past\", \"past\", \"past\", \"past\", \"past\", \"past\", \"past\", \"past\", \"past\", \"past\", \"past\", \"past\", \"pate\", \"pate\", \"peaked\", \"peanut\", \"peanut\", \"pear\", \"pear\", \"pear\", \"pear\", \"pear\", \"pear\", \"pear\", \"pecan\", \"pecan\", \"pecan\", \"pedigree\", \"peel\", \"penta\", \"pepper\", \"pepper\", \"pepper\", \"pepper\", \"pepper\", \"pepper\", \"pepper\", \"pepper\", \"pepper\", \"pepper\", \"pepper\", \"pepperoni\", \"perfect\", \"perfect\", \"perfect\", \"perfect\", \"perfect\", \"perfect\", \"perfect\", \"perfect\", \"perfect\", \"perfect\", \"perfect\", \"perfect\", \"perfect\", \"perfect\", \"perfect\", \"perfect\", \"perfectly\", \"perfectly\", \"perfectly\", \"perfectly\", \"perfectly\", \"perfectly\", \"perfectly\", \"perfectly\", \"perfectly\", \"perfectly\", \"perfectly\", \"perfectly\", \"perfectly\", \"perfectly\", \"perfectly\", \"perfectly\", \"perfectly\", \"perfectly\", \"perfectly\", \"perforated\", \"permanent\", \"permanent\", \"permanent\", \"permanent\", \"permanent\", \"permanent\", \"permanent\", \"permanent\", \"pest\", \"pesticide\", \"pet\", \"pet\", \"peter\", \"phony\", \"pick\", \"pick\", \"pickle\", \"picky\", \"picky\", \"picky\", \"picky\", \"picky\", \"picky\", \"picky\", \"picky\", \"picky\", \"pictured\", \"pictured\", \"pike\", \"pike\", \"pinhead\", \"pistachio\", \"pita\", \"pita\", \"pita\", \"pita\", \"plain\", \"plain\", \"plain\", \"plain\", \"plain\", \"plain\", \"plain\", \"plain\", \"plain\", \"plain\", \"plain\", \"plain\", \"plain\", \"plastic\", \"plastic\", \"plastic\", \"plastic\", \"plastic\", \"plastic\", \"playful\", \"playful\", \"pleasant\", \"pleasant\", \"pleasant\", \"pleasant\", \"pleasant\", \"pleasant\", \"pleasant\", \"pleasant\", \"pleasant\", \"pleasant\", \"pleasant\", \"pleasant\", \"pleasant\", \"pleasant\", \"pleasant\", \"pleasant\", \"pleasant\", \"pleasant\", \"pleasantly\", \"pleasantly\", \"pleasantly\", \"pleasantly\", \"pleasantly\", \"pleasantly\", \"pleasantly\", \"pleasantly\", \"pleasantly\", \"pleasantly\", \"pleasantly\", \"pleasantly\", \"pleasantly\", \"pleasantly\", \"pleasantly\", \"pleasantly\", \"pleasantly\", \"pleasantly\", \"pleasingly\", \"plum\", \"plump\", \"plump\", \"pocky\", \"pomegranate\", \"poodle\", \"popcorn\", \"poppy\", \"poppy\", \"popular\", \"popular\", \"popular\", \"popular\", \"popular\", \"popular\", \"popular\", \"popular\", \"popular\", \"popular\", \"popular\", \"popular\", \"popular\", \"popular\", \"popular\", \"popular\", \"popular\", \"popular\", \"port\", \"positive\", \"positive\", \"positive\", \"positive\", \"positive\", \"positive\", \"positive\", \"positive\", \"positive\", \"positive\", \"positive\", \"positive\", \"positive\", \"postal\", \"potatoes\", \"pouch\", \"pouch\", \"pouch\", \"pouch\", \"pouch\", \"pouch\", \"precut\", \"prefect\", \"prefect\", \"prefect\", \"prefect\", \"pregnant\", \"pregnant\", \"pregnant\", \"pregnant\", \"pregnant\", \"pretentious\", \"pretty\", \"pretty\", \"pretty\", \"pretty\", \"pretty\", \"pretty\", \"pretty\", \"pretty\", \"pretty\", \"pretty\", \"pretty\", \"pretty\", \"pretty\", \"pretty\", \"pretty\", \"pretty\", \"preventative\", \"preventative\", \"preventative\", \"prickly\", \"primal\", \"primal\", \"prime\", \"prime\", \"prime\", \"prime\", \"prime\", \"prime\", \"prime\", \"prime\", \"prime\", \"prior\", \"prior\", \"prior\", \"prior\", \"prior\", \"prior\", \"prior\", \"prior\", \"prior\", \"prior\", \"prior\", \"prior\", \"priority\", \"probably\", \"probably\", \"probably\", \"probably\", \"probably\", \"probably\", \"probably\", \"probably\", \"probably\", \"probably\", \"probably\", \"probably\", \"probably\", \"probably\", \"probably\", \"probably\", \"probably\", \"probably\", \"probably\", \"probably\", \"productive\", \"productive\", \"professionally\", \"profusely\", \"prominent\", \"prompt\", \"prompt\", \"promptly\", \"puffed\", \"puffed\", \"puffed\", \"pumpkin\", \"puppy\", \"pure\", \"pure\", \"pure\", \"pure\", \"pure\", \"pure\", \"pure\", \"pure\", \"pure\", \"pure\", \"pure\", \"pure\", \"pure\", \"pure\", \"pure\", \"pure\", \"pure\", \"pure\", \"puree\", \"puree\", \"puree\", \"puree\", \"purple\", \"purple\", \"purple\", \"pyrex\", \"pyrex\", \"quality\", \"quality\", \"quality\", \"quality\", \"queen\", \"quick\", \"quick\", \"quick\", \"quick\", \"quick\", \"quick\", \"quick\", \"quick\", \"quick\", \"quick\", \"quick\", \"quick\", \"quick\", \"quick\", \"quickly\", \"quickly\", \"quickly\", \"quickly\", \"quickly\", \"quickly\", \"quickly\", \"quickly\", \"quickly\", \"quickly\", \"quickly\", \"quickly\", \"quickly\", \"quickly\", \"quickly\", \"quickly\", \"quickly\", \"quickly\", \"quickly\", \"quinoa\", \"quinoa\", \"quinoa\", \"quinoa\", \"quite\", \"quite\", \"quite\", \"quite\", \"quite\", \"quite\", \"quite\", \"quite\", \"quite\", \"quite\", \"quite\", \"quite\", \"quite\", \"quite\", \"quite\", \"quite\", \"quite\", \"quite\", \"quite\", \"quite\", \"radial\", \"ranch\", \"ranch\", \"rapidly\", \"rapidly\", \"rapidly\", \"rapidly\", \"rapidly\", \"raspberry\", \"raspberry\", \"raw\", \"raw\", \"readable\", \"ready\", \"ready\", \"ready\", \"ready\", \"ready\", \"ready\", \"ready\", \"ready\", \"ready\", \"ready\", \"ready\", \"ready\", \"ready\", \"ready\", \"ready\", \"real\", \"real\", \"real\", \"real\", \"real\", \"real\", \"real\", \"real\", \"real\", \"real\", \"real\", \"real\", \"real\", \"real\", \"real\", \"real\", \"real\", \"real\", \"real\", \"really\", \"really\", \"really\", \"really\", \"really\", \"really\", \"really\", \"really\", \"really\", \"really\", \"really\", \"really\", \"really\", \"really\", \"really\", \"really\", \"really\", \"really\", \"really\", \"really\", \"reasonable\", \"reasonable\", \"reasonable\", \"reasonable\", \"reasonable\", \"reasonable\", \"reasonable\", \"reasonable\", \"reasonable\", \"reasonable\", \"reasonable\", \"reasonable\", \"reasonable\", \"reasonable\", \"reasonable\", \"reasonable\", \"reasonable\", \"reasonable\", \"reasonable\", \"reasonably\", \"reasonably\", \"reasonably\", \"reasonably\", \"reasonably\", \"reasonably\", \"reasonably\", \"reasonably\", \"reasonably\", \"reasonably\", \"reasonably\", \"reasonably\", \"receive\", \"receive\", \"receive\", \"recently\", \"recently\", \"recently\", \"recently\", \"recently\", \"recently\", \"recently\", \"recently\", \"recently\", \"recently\", \"recently\", \"recently\", \"recently\", \"recently\", \"recently\", \"recently\", \"recently\", \"recently\", \"recently\", \"recently\", \"recognizable\", \"recognizable\", \"recognizable\", \"recommend\", \"recommend\", \"recommend\", \"recommend\", \"recommend\", \"recommend\", \"recommend\", \"recommend\", \"recurring\", \"red\", \"red\", \"red\", \"red\", \"refined\", \"refined\", \"refined\", \"refined\", \"refined\", \"refresh\", \"refresh\", \"refresh\", \"refresh\", \"refresh\", \"refresh\", \"refresh\", \"refresh\", \"refresh\", \"refresh\", \"refreshing\", \"refreshing\", \"refreshing\", \"refreshing\", \"refreshing\", \"refreshing\", \"refreshing\", \"refreshing\", \"refreshing\", \"refreshing\", \"refreshing\", \"refreshing\", \"regular\", \"regular\", \"regular\", \"regular\", \"regular\", \"regular\", \"regular\", \"regular\", \"regular\", \"regular\", \"regular\", \"regular\", \"regular\", \"regular\", \"regular\", \"regular\", \"regular\", \"regular\", \"regular\", \"regular\", \"relatively\", \"relatively\", \"relatively\", \"relatively\", \"relatively\", \"relatively\", \"relatively\", \"relatively\", \"relatively\", \"relatively\", \"relatively\", \"relatively\", \"relatively\", \"relatively\", \"relatively\", \"reliable\", \"reliable\", \"reliable\", \"reliable\", \"relieved\", \"remote\", \"remote\", \"removable\", \"renal\", \"resemble\", \"resemble\", \"resemble\", \"resemble\", \"responsible\", \"responsible\", \"responsible\", \"responsible\", \"restrictive\", \"restrictive\", \"retail\", \"retail\", \"retail\", \"retail\", \"retail\", \"retail\", \"retail\", \"retail\", \"retail\", \"retail\", \"rhubarb\", \"rich\", \"rich\", \"rich\", \"rich\", \"rich\", \"rich\", \"rich\", \"rid\", \"rid\", \"rid\", \"rid\", \"rid\", \"rid\", \"right\", \"right\", \"right\", \"right\", \"right\", \"right\", \"right\", \"right\", \"right\", \"right\", \"right\", \"right\", \"right\", \"right\", \"right\", \"right\", \"right\", \"right\", \"right\", \"roast\", \"roast\", \"roast\", \"robust\", \"robust\", \"robust\", \"robust\", \"robust\", \"robust\", \"robust\", \"robust\", \"rogan\", \"rosemary\", \"rosemary\", \"rosemary\", \"rosemary\", \"rosemary\", \"rosemary\", \"rosy\", \"royal\", \"royal\", \"royal\", \"royal\", \"rubber\", \"rubbery\", \"rubbery\", \"rubbery\", \"rum\", \"run\", \"saffron\", \"sago\", \"salad\", \"salad\", \"salad\", \"salad\", \"salad\", \"salad\", \"salad\", \"salmon\", \"salmon\", \"salmon\", \"salmon\", \"salmon\", \"salmon\", \"salmon\", \"salt\", \"salt\", \"salt\", \"salt\", \"salt\", \"salt\", \"salt\", \"salt\", \"salt\", \"salt\", \"salt\", \"salt\", \"salty\", \"salty\", \"salty\", \"salty\", \"san\", \"san\", \"san\", \"san\", \"san\", \"san\", \"sat\", \"satisfactory\", \"satisfactory\", \"satisfactory\", \"satisfactory\", \"satisfactory\", \"satisfied\", \"satisfied\", \"satisfied\", \"satisfied\", \"satisfied\", \"satisfied\", \"satisfied\", \"satisfied\", \"satisfied\", \"satisfied\", \"satisfied\", \"satisfy\", \"satisfy\", \"satisfy\", \"satisfy\", \"satisfy\", \"satisfy\", \"satisfy\", \"satisfy\", \"satisfy\", \"satisfy\", \"satisfy\", \"saturated\", \"saturated\", \"saturated\", \"saturated\", \"saturated\", \"saturated\", \"sauce\", \"sauce\", \"sauce\", \"sauce\", \"sauce\", \"scalp\", \"scalp\", \"scalp\", \"scrumptious\", \"seal\", \"seal\", \"seal\", \"seal\", \"seal\", \"seal\", \"seal\", \"seal\", \"seal\", \"seasoned\", \"seasoned\", \"seasoned\", \"seasoned\", \"seasoned\", \"seasoned\", \"seasoning\", \"sec\", \"second\", \"second\", \"second\", \"second\", \"second\", \"second\", \"second\", \"second\", \"second\", \"second\", \"second\", \"second\", \"second\", \"second\", \"second\", \"second\", \"second\", \"second\", \"second\", \"second\", \"securely\", \"securely\", \"selenite\", \"sell\", \"sell\", \"sell\", \"sell\", \"sell\", \"semolina\", \"senior\", \"senior\", \"sensual\", \"separate\", \"separate\", \"separate\", \"separate\", \"separate\", \"separate\", \"separate\", \"separate\", \"separate\", \"separate\", \"separate\", \"serrated\", \"serving\", \"serving\", \"severely\", \"severely\", \"severely\", \"severely\", \"severely\", \"shape\", \"shape\", \"sharp\", \"sharp\", \"sharp\", \"sharp\", \"sharp\", \"sharp\", \"shea\", \"shea\", \"sheep\", \"shin\", \"shin\", \"shiny\", \"shiny\", \"shiny\", \"shiny\", \"ship\", \"ship\", \"ship\", \"ship\", \"ship\", \"ship\", \"ship\", \"ship\", \"ship\", \"ship\", \"shipment\", \"shipment\", \"shop\", \"shop\", \"shorten\", \"shorten\", \"sicken\", \"sickeningly\", \"sickly\", \"silex\", \"silk\", \"silken\", \"similar\", \"similar\", \"similar\", \"similar\", \"similar\", \"similar\", \"similar\", \"similar\", \"similar\", \"similar\", \"similar\", \"similar\", \"similar\", \"similar\", \"similar\", \"similar\", \"similar\", \"similar\", \"similar\", \"simple\", \"simple\", \"simple\", \"simple\", \"simple\", \"simple\", \"simple\", \"simple\", \"simple\", \"simple\", \"simple\", \"simple\", \"simple\", \"simple\", \"simple\", \"simple\", \"simple\", \"simple\", \"simple\", \"simple\", \"simply\", \"simply\", \"simply\", \"simply\", \"simply\", \"simply\", \"simply\", \"simply\", \"simply\", \"simply\", \"simply\", \"simply\", \"simply\", \"simply\", \"simply\", \"simply\", \"simply\", \"simply\", \"simply\", \"simply\", \"single\", \"single\", \"single\", \"single\", \"single\", \"single\", \"single\", \"single\", \"single\", \"single\", \"single\", \"single\", \"sizeable\", \"skeptical\", \"skeptical\", \"skeptical\", \"skeptical\", \"skeptical\", \"skeptical\", \"skeptical\", \"skeptical\", \"skeptical\", \"skeptical\", \"skeptical\", \"skeptical\", \"skeptical\", \"ski\", \"skim\", \"skim\", \"skim\", \"skim\", \"skim\", \"skin\", \"skin\", \"skin\", \"skin\", \"skin\", \"skin\", \"skin\", \"skin\", \"skippy\", \"sleep\", \"slice\", \"slice\", \"slice\", \"slice\", \"slice\", \"slice\", \"slide\", \"slight\", \"slight\", \"slight\", \"slight\", \"slight\", \"slight\", \"slight\", \"slight\", \"slight\", \"slight\", \"slight\", \"slight\", \"slight\", \"slight\", \"slightly\", \"slightly\", \"slightly\", \"slightly\", \"slightly\", \"slightly\", \"slightly\", \"slightly\", \"slightly\", \"slightly\", \"slightly\", \"slightly\", \"slightly\", \"slightly\", \"slightly\", \"slightly\", \"slightly\", \"slightly\", \"slightly\", \"slim\", \"slim\", \"slim\", \"slim\", \"slim\", \"slippery\", \"sloppy\", \"small\", \"small\", \"small\", \"small\", \"small\", \"small\", \"small\", \"small\", \"small\", \"small\", \"small\", \"small\", \"small\", \"small\", \"small\", \"small\", \"small\", \"small\", \"small\", \"small\", \"smoked\", \"smoked\", \"smoked\", \"smoked\", \"smoked\", \"smoked\", \"smooth\", \"smooth\", \"smooth\", \"smooth\", \"smooth\", \"smooth\", \"smooth\", \"smooth\", \"smooth\", \"smooth\", \"snap\", \"snap\", \"snappy\", \"sockeye\", \"sodium\", \"sodium\", \"sodium\", \"sodium\", \"sodium\", \"sodium\", \"sodium\", \"soft\", \"soft\", \"soft\", \"soft\", \"soft\", \"soft\", \"soggy\", \"soggy\", \"soggy\", \"soggy\", \"soggy\", \"sonic\", \"soon\", \"soon\", \"soon\", \"soon\", \"soon\", \"soon\", \"soon\", \"soon\", \"soon\", \"soon\", \"soon\", \"soon\", \"soon\", \"soon\", \"soon\", \"soon\", \"soon\", \"sooner\", \"sooner\", \"sooner\", \"sooner\", \"sooner\", \"soothe\", \"soothe\", \"sorbic\", \"sorbic\", \"soso\", \"soso\", \"souchong\", \"soup\", \"soup\", \"soup\", \"soup\", \"soup\", \"soup\", \"sour\", \"sour\", \"south\", \"south\", \"south\", \"south\", \"southern\", \"southern\", \"southern\", \"southern\", \"southern\", \"southern\", \"southern\", \"southwest\", \"soy\", \"soy\", \"soy\", \"soy\", \"sparingly\", \"sparingly\", \"sparingly\", \"sparingly\", \"sparingly\", \"sparingly\", \"sparingly\", \"sparingly\", \"sparkling\", \"sparkling\", \"special\", \"special\", \"special\", \"special\", \"special\", \"special\", \"special\", \"special\", \"special\", \"special\", \"special\", \"special\", \"special\", \"special\", \"special\", \"special\", \"speedy\", \"spelt\", \"spicy\", \"spicy\", \"spinal\", \"splash\", \"spoil\", \"sprinkle\", \"sprinkle\", \"sprinkle\", \"sprinkle\", \"sprinkle\", \"stale\", \"stale\", \"stale\", \"stale\", \"stale\", \"stale\", \"stale\", \"starter\", \"stash\", \"stash\", \"stayed\", \"stayed\", \"steak\", \"stevia\", \"stevia\", \"stevia\", \"stevia\", \"stevia\", \"stick\", \"stick\", \"stick\", \"stick\", \"sticky\", \"sticky\", \"sticky\", \"sticky\", \"sticky\", \"sticky\", \"sticky\", \"sticky\", \"sticky\", \"stingy\", \"stingy\", \"stir\", \"stir\", \"stir\", \"stir\", \"stir\", \"stir\", \"stopped\", \"strawberry\", \"strawberry\", \"strawberry\", \"strawberry\", \"strawberry\", \"strawberry\", \"strawberry\", \"strawberry\", \"strawberry\", \"strawberry\", \"strawberry\", \"strong\", \"strong\", \"strong\", \"strong\", \"strong\", \"strong\", \"strong\", \"strong\", \"strong\", \"strong\", \"strong\", \"strong\", \"strong\", \"strong\", \"stuffed\", \"stuffed\", \"sturdy\", \"sturdy\", \"sturdy\", \"sturdy\", \"sturdy\", \"sturdy\", \"sturdy\", \"sturdy\", \"sturdy\", \"sturdy\", \"subdue\", \"subtle\", \"subtle\", \"subtle\", \"subtle\", \"subtle\", \"subtle\", \"subtle\", \"subtle\", \"subtly\", \"subtly\", \"sucrose\", \"sucrose\", \"sugar\", \"sugar\", \"sugar\", \"sugar\", \"sugared\", \"sugarless\", \"sugary\", \"sugary\", \"sugary\", \"sugary\", \"sunflower\", \"sunflower\", \"sunflower\", \"sunflower\", \"sunflower\", \"sunflower\", \"sunflower\", \"sunflower\", \"super\", \"super\", \"super\", \"super\", \"super\", \"super\", \"super\", \"super\", \"super\", \"super\", \"super\", \"super\", \"super\", \"super\", \"super\", \"super\", \"super\", \"super\", \"super\", \"superior\", \"superior\", \"superior\", \"superior\", \"superior\", \"superior\", \"suppose\", \"suppose\", \"suppose\", \"suppose\", \"suppose\", \"suppose\", \"suppose\", \"suppose\", \"suppose\", \"suppose\", \"suppose\", \"sure\", \"sure\", \"sure\", \"sure\", \"sure\", \"sure\", \"sure\", \"sure\", \"sure\", \"sure\", \"sure\", \"sure\", \"sure\", \"surprisingly\", \"surprisingly\", \"surprisingly\", \"surprisingly\", \"surprisingly\", \"surprisingly\", \"surprisingly\", \"surprisingly\", \"surprisingly\", \"surprisingly\", \"surprisingly\", \"surprisingly\", \"surprisingly\", \"surprisingly\", \"sustainable\", \"sustainable\", \"sustainable\", \"sweet\", \"sweet\", \"sweet\", \"sweet\", \"sweet\", \"sweet\", \"sweet\", \"sweet\", \"sweet\", \"sweet\", \"sweet\", \"sweet\", \"sweetleaf\", \"swiss\", \"swiss\", \"swiss\", \"swiss\", \"switch\", \"synthetic\", \"synthetic\", \"synthetic\", \"synthetic\", \"syrupy\", \"syrupy\", \"syrupy\", \"systolic\", \"table\", \"table\", \"table\", \"table\", \"table\", \"tang\", \"tapioca\", \"taro\", \"tart\", \"tart\", \"tart\", \"tartar\", \"taste\", \"taste\", \"taste\", \"taste\", \"taste\", \"taste\", \"tasteful\", \"tastefully\", \"tasting\", \"tasting\", \"tasty\", \"tasty\", \"tasty\", \"tasty\", \"tasty\", \"tasty\", \"tasty\", \"tea\", \"tea\", \"tea\", \"tea\", \"teathe\", \"teathe\", \"teen\", \"teen\", \"teen\", \"teen\", \"teen\", \"teenage\", \"teeth\", \"teeth\", \"terrible\", \"terrible\", \"terrible\", \"terrible\", \"terrible\", \"terrible\", \"terrible\", \"terrible\", \"terrible\", \"terrible\", \"terrible\", \"terrific\", \"terrific\", \"terrific\", \"terrific\", \"terrific\", \"terrific\", \"terrific\", \"terrific\", \"terrific\", \"terrific\", \"terrific\", \"terrific\", \"terrific\", \"terrific\", \"terrific\", \"thank\", \"thee\", \"tho\", \"thoroughly\", \"thoroughly\", \"thoroughly\", \"thoroughly\", \"thoroughly\", \"thoroughly\", \"thoroughly\", \"thoroughly\", \"thoroughly\", \"thoroughly\", \"thoroughly\", \"thoroughly\", \"thoroughly\", \"thoroughly\", \"thoughtful\", \"thoughtful\", \"tic\", \"tic\", \"tight\", \"tight\", \"tight\", \"tight\", \"tight\", \"tight\", \"tight\", \"til\", \"timely\", \"timothy\", \"tiny\", \"tiny\", \"tiny\", \"tiny\", \"tiny\", \"tiny\", \"tiny\", \"tiny\", \"tiny\", \"tiny\", \"tolerate\", \"tonic\", \"tonic\", \"tonic\", \"tooth\", \"tooth\", \"tooth\", \"toothless\", \"tortilla\", \"tortilla\", \"total\", \"total\", \"total\", \"total\", \"total\", \"total\", \"total\", \"total\", \"total\", \"totally\", \"totally\", \"totally\", \"totally\", \"totally\", \"totally\", \"totally\", \"totally\", \"totally\", \"totally\", \"totally\", \"totally\", \"totally\", \"totally\", \"totally\", \"totally\", \"totally\", \"totally\", \"totally\", \"traditional\", \"traditional\", \"traditional\", \"traditional\", \"traditional\", \"traditional\", \"traditional\", \"traditional\", \"traditional\", \"traditional\", \"traditional\", \"traditional\", \"traditional\", \"traditional\", \"traditional\", \"trail\", \"trail\", \"trail\", \"trail\", \"trap\", \"tree\", \"tree\", \"tree\", \"tree\", \"tree\", \"tree\", \"trident\", \"trident\", \"tried\", \"tried\", \"tried\", \"tried\", \"tried\", \"tried\", \"tried\", \"tried\", \"tried\", \"tropical\", \"true\", \"true\", \"true\", \"true\", \"true\", \"true\", \"true\", \"true\", \"true\", \"true\", \"true\", \"true\", \"true\", \"true\", \"true\", \"true\", \"true\", \"true\", \"truffle\", \"truly\", \"truly\", \"truly\", \"truly\", \"truly\", \"truly\", \"truly\", \"truly\", \"truly\", \"truly\", \"truly\", \"truly\", \"truly\", \"truly\", \"truly\", \"truly\", \"truly\", \"truly\", \"truly\", \"truly\", \"tupelo\", \"turmeric\", \"turmeric\", \"twin\", \"typically\", \"typically\", \"typically\", \"typically\", \"typically\", \"typically\", \"typically\", \"typically\", \"typically\", \"typically\", \"typically\", \"typically\", \"typically\", \"typically\", \"typically\", \"typically\", \"ultimate\", \"ultimate\", \"ultimate\", \"ultimate\", \"ultimate\", \"ultimate\", \"ultimate\", \"ultimate\", \"ultimate\", \"um\", \"um\", \"um\", \"unable\", \"unable\", \"unable\", \"unable\", \"unable\", \"unauthorized\", \"unavailable\", \"unavailable\", \"unbelievable\", \"unbelievable\", \"unbelievably\", \"unbelievably\", \"unbelievably\", \"unbelievably\", \"unblended\", \"undamaged\", \"undamaged\", \"undamaged\", \"underbelly\", \"understandable\", \"underweight\", \"undiluted\", \"uneaten\", \"unfair\", \"unfiltered\", \"unforgettable\", \"unfortunately\", \"unfortunately\", \"unfortunately\", \"unfortunately\", \"unfortunately\", \"unfortunately\", \"unfortunately\", \"unfortunately\", \"unfortunately\", \"unfortunately\", \"unfortunately\", \"unfortunately\", \"unfortunately\", \"unfortunately\", \"unfortunately\", \"unfortunately\", \"unfortunately\", \"unfortunately\", \"unfortunately\", \"unfortunately\", \"unfrosted\", \"unhealthy\", \"unhealthy\", \"unhealthy\", \"unhealthy\", \"unhealthy\", \"unhealthy\", \"unhealthy\", \"unheated\", \"unique\", \"unique\", \"unique\", \"unique\", \"unique\", \"unique\", \"unique\", \"unique\", \"unique\", \"unique\", \"universally\", \"unknowingly\", \"unknowingly\", \"unpredictable\", \"unsalted\", \"unsalted\", \"unsalted\", \"unsalted\", \"unwrapped\", \"upscale\", \"upscale\", \"upstate\", \"urinary\", \"usable\", \"usable\", \"usable\", \"usable\", \"usable\", \"use\", \"use\", \"use\", \"use\", \"use\", \"use\", \"use\", \"use\", \"use\", \"use\", \"use\", \"use\", \"use\", \"use\", \"use\", \"use\", \"use\", \"use\", \"use\", \"use\", \"usual\", \"usual\", \"usual\", \"usual\", \"usual\", \"usual\", \"usual\", \"usual\", \"usual\", \"usual\", \"usual\", \"usual\", \"usual\", \"usual\", \"usual\", \"usual\", \"usual\", \"usually\", \"usually\", \"usually\", \"usually\", \"usually\", \"usually\", \"usually\", \"usually\", \"usually\", \"usually\", \"usually\", \"usually\", \"usually\", \"usually\", \"usually\", \"usually\", \"usually\", \"usually\", \"usually\", \"usually\", \"vaguely\", \"vaguely\", \"valentine\", \"valerian\", \"valerian\", \"valuable\", \"valuable\", \"valuable\", \"various\", \"various\", \"various\", \"various\", \"various\", \"various\", \"various\", \"various\", \"various\", \"various\", \"various\", \"various\", \"various\", \"various\", \"various\", \"various\", \"various\", \"various\", \"various\", \"various\", \"vast\", \"vast\", \"vast\", \"vast\", \"veal\", \"vegetable\", \"vegetable\", \"vegetable\", \"vegetable\", \"vegetable\", \"vegetable\", \"vegetable\", \"vegetable\", \"vegetable\", \"vegetable\", \"vegetal\", \"vegetarian\", \"vegetarian\", \"vegetarian\", \"vegetarian\", \"vegetarian\", \"vegetarian\", \"vegetarian\", \"vegetarian\", \"vegetarian\", \"vegetarian\", \"vegetarian\", \"venison\", \"veterinarian\", \"vinegary\", \"vinegary\", \"vinegary\", \"vita\", \"vita\", \"vita\", \"vive\", \"waffle\", \"waffle\", \"waffle\", \"waistline\", \"walnut\", \"walnut\", \"warm\", \"warm\", \"warm\", \"warm\", \"warm\", \"warm\", \"warm\", \"warm\", \"warm\", \"warm\", \"warm\", \"warm\", \"warm\", \"warm\", \"warm\", \"warm\", \"wasnt\", \"waste\", \"waste\", \"watcher\", \"watching\", \"watermelon\", \"weak\", \"weak\", \"weak\", \"weak\", \"weak\", \"weak\", \"weak\", \"weak\", \"weak\", \"weak\", \"weak\", \"web\", \"web\", \"web\", \"web\", \"web\", \"weight\", \"weight\", \"weight\", \"weight\", \"weight\", \"weight\", \"weight\", \"weight\", \"weight\", \"weird\", \"weird\", \"weird\", \"weird\", \"weird\", \"weird\", \"weird\", \"weird\", \"weirdly\", \"welcome\", \"welcome\", \"welcome\", \"welcome\", \"welcome\", \"welcome\", \"welcome\", \"wellness\", \"wet\", \"wet\", \"wet\", \"wheat\", \"wheat\", \"wheat\", \"whirley\", \"whirly\", \"white\", \"whitefish\", \"wholesome\", \"wholesome\", \"wholesome\", \"wild\", \"wild\", \"wild\", \"window\", \"winner\", \"wired\", \"wish\", \"wish\", \"wish\", \"wish\", \"wish\", \"wish\", \"wish\", \"wish\", \"wish\", \"wish\", \"wish\", \"wish\", \"withdraw\", \"wonderful\", \"wonderful\", \"wonderful\", \"wonderful\", \"wonderful\", \"wonderful\", \"wonderful\", \"wonderful\", \"wonderful\", \"wonderful\", \"worried\", \"worried\", \"worried\", \"worth\", \"worth\", \"worth\", \"worth\", \"worth\", \"worth\", \"worth\", \"worth\", \"worth\", \"worth\", \"worth\", \"worth\", \"worth\", \"worth\", \"wrap\", \"wrapped\", \"wrapped\", \"wrong\", \"wrong\", \"wrong\", \"wrong\", \"wrong\", \"wrong\", \"wrong\", \"wrong\", \"wrong\", \"wrong\", \"wrong\", \"wrong\", \"wrong\", \"wrong\", \"wrong\", \"wrong\", \"wrong\", \"wrong\", \"wrong\", \"wrong\", \"xylitol\", \"xylitol\", \"xylitol\", \"xylitol\", \"yeah\", \"yeah\", \"yeah\", \"yellow\", \"yellow\", \"yellow\", \"yellow\", \"yerba\", \"yogi\", \"yogi\", \"young\", \"young\", \"young\", \"young\", \"young\", \"young\", \"young\", \"young\", \"young\", \"yr\", \"yummy\", \"yummy\", \"yummy\", \"yummy\", \"yummy\", \"yummy\", \"yummy\", \"yummy\", \"yummy\", \"yummy\", \"yummy\", \"yummy\", \"yummy\", \"yummy\", \"yummy\", \"yummy\", \"zippy\"]}, \"R\": 30, \"lambda.step\": 0.01, \"plot.opts\": {\"xlab\": \"PC1\", \"ylab\": \"PC2\"}, \"topic.order\": [10, 17, 8, 14, 18, 5, 13, 16, 20, 11, 15, 3, 6, 2, 7, 4, 12, 1, 19, 9]};\n",
       "\n",
       "function LDAvis_load_lib(url, callback){\n",
       "  var s = document.createElement('script');\n",
       "  s.src = url;\n",
       "  s.async = true;\n",
       "  s.onreadystatechange = s.onload = callback;\n",
       "  s.onerror = function(){console.warn(\"failed to load library \" + url);};\n",
       "  document.getElementsByTagName(\"head\")[0].appendChild(s);\n",
       "}\n",
       "\n",
       "if(typeof(LDAvis) !== \"undefined\"){\n",
       "   // already loaded: just create the visualization\n",
       "   !function(LDAvis){\n",
       "       new LDAvis(\"#\" + \"ldavis_el6261139674156962416183716338\", ldavis_el6261139674156962416183716338_data);\n",
       "   }(LDAvis);\n",
       "}else if(typeof define === \"function\" && define.amd){\n",
       "   // require.js is available: use it to load d3/LDAvis\n",
       "   require.config({paths: {d3: \"https://cdnjs.cloudflare.com/ajax/libs/d3/3.5.5/d3.min\"}});\n",
       "   require([\"d3\"], function(d3){\n",
       "      window.d3 = d3;\n",
       "      LDAvis_load_lib(\"https://cdn.rawgit.com/bmabey/pyLDAvis/files/ldavis.v1.0.0.js\", function(){\n",
       "        new LDAvis(\"#\" + \"ldavis_el6261139674156962416183716338\", ldavis_el6261139674156962416183716338_data);\n",
       "      });\n",
       "    });\n",
       "}else{\n",
       "    // require.js not available: dynamically load d3 & LDAvis\n",
       "    LDAvis_load_lib(\"https://cdnjs.cloudflare.com/ajax/libs/d3/3.5.5/d3.min.js\", function(){\n",
       "         LDAvis_load_lib(\"https://cdn.rawgit.com/bmabey/pyLDAvis/files/ldavis.v1.0.0.js\", function(){\n",
       "                 new LDAvis(\"#\" + \"ldavis_el6261139674156962416183716338\", ldavis_el6261139674156962416183716338_data);\n",
       "            })\n",
       "         });\n",
       "}\n",
       "</script>"
      ],
      "text/plain": [
       "PreparedData(topic_coordinates=              x         y  topics  cluster       Freq\n",
       "topic                                                \n",
       "9      0.111954  0.065956       1        1  10.319325\n",
       "16     0.166619  0.017638       2        1   7.346108\n",
       "7     -0.099911  0.204382       3        1   6.268371\n",
       "13     0.027603 -0.165865       4        1   5.442903\n",
       "17    -0.122330  0.151826       5        1   5.234768\n",
       "4      0.126056 -0.073491       6        1   5.229526\n",
       "12    -0.036584  0.130463       7        1   4.970452\n",
       "15    -0.054690 -0.039748       8        1   4.781872\n",
       "19     0.070795  0.084710       9        1   4.731424\n",
       "10    -0.009837 -0.051647      10        1   4.611747\n",
       "14    -0.085633 -0.041035      11        1   4.511795\n",
       "2     -0.096587 -0.052369      12        1   4.481415\n",
       "5      0.046020 -0.053177      13        1   4.460601\n",
       "1      0.033300  0.028639      14        1   4.356291\n",
       "6      0.081732 -0.036831      15        1   4.168199\n",
       "3     -0.044998 -0.004097      16        1   4.129163\n",
       "11     0.104613  0.164452      17        1   3.949397\n",
       "0      0.165686 -0.148132      18        1   3.741190\n",
       "18    -0.257339 -0.143018      19        1   3.699391\n",
       "8     -0.126470 -0.038657      20        1   3.566059, topic_info=          Term          Freq         Total Category  logprob  loglift\n",
       "4333     great  48017.000000  48017.000000  Default  30.0000  30.0000\n",
       "4236      good  64737.000000  64737.000000  Default  29.0000  29.0000\n",
       "4767       hot  11042.000000  11042.000000  Default  28.0000  28.0000\n",
       "7087   organic  10273.000000  10273.000000  Default  27.0000  27.0000\n",
       "3918      free  10990.000000  10990.000000  Default  26.0000  26.0000\n",
       "...        ...           ...           ...      ...      ...      ...\n",
       "7455   perfect    200.258104   8136.926201  Topic20  -5.4412  -0.3709\n",
       "4333     great    247.950052  48017.301773  Topic20  -5.2276  -1.9324\n",
       "5230   instead    179.410120   4555.258639  Topic20  -5.5511   0.0993\n",
       "101   actually    163.462484   7507.607497  Topic20  -5.6442  -0.4934\n",
       "8301    really    169.231590  27728.976851  Topic20  -5.6095  -1.7653\n",
       "\n",
       "[1473 rows x 6 columns], token_table=       Topic      Freq   Term\n",
       "term                         \n",
       "11         1  0.072799   able\n",
       "11         2  0.033510   able\n",
       "11         3  0.367267   able\n",
       "11         4  0.052962   able\n",
       "11         5  0.119790   able\n",
       "...      ...       ...    ...\n",
       "12135     16  0.005435  yummy\n",
       "12135     18  0.744578  yummy\n",
       "12135     19  0.031056  yummy\n",
       "12135     20  0.000776  yummy\n",
       "12146     17  0.936559  zippy\n",
       "\n",
       "[5717 rows x 3 columns], R=30, lambda_step=0.01, plot_opts={'xlab': 'PC1', 'ylab': 'PC2'}, topic_order=[10, 17, 8, 14, 18, 5, 13, 16, 20, 11, 15, 3, 6, 2, 7, 4, 12, 1, 19, 9])"
      ]
     },
     "execution_count": 79,
     "metadata": {},
     "output_type": "execute_result"
    }
   ],
   "source": [
    "pyLDAvis.enable_notebook()\n",
    "pyLDAvis.sklearn.prepare(LD_Allocator, docTermMatrixCountVec, vectorizer)"
   ]
  },
  {
   "cell_type": "code",
   "execution_count": null,
   "metadata": {},
   "outputs": [],
   "source": []
  }
 ],
 "metadata": {
  "kernelspec": {
   "display_name": "Python 3",
   "language": "python",
   "name": "python3"
  },
  "language_info": {
   "codemirror_mode": {
    "name": "ipython",
    "version": 3
   },
   "file_extension": ".py",
   "mimetype": "text/x-python",
   "name": "python",
   "nbconvert_exporter": "python",
   "pygments_lexer": "ipython3",
   "version": "3.8.3"
  }
 },
 "nbformat": 4,
 "nbformat_minor": 4
}
