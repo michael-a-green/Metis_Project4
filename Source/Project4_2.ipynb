{
 "cells": [
  {
   "cell_type": "code",
   "execution_count": 120,
   "metadata": {
    "execution": {
     "iopub.execute_input": "2020-11-07T20:13:32.690132Z",
     "iopub.status.busy": "2020-11-07T20:13:32.689836Z",
     "iopub.status.idle": "2020-11-07T20:13:32.694115Z",
     "shell.execute_reply": "2020-11-07T20:13:32.693405Z",
     "shell.execute_reply.started": "2020-11-07T20:13:32.690101Z"
    }
   },
   "outputs": [
    {
     "name": "stderr",
     "output_type": "stream",
     "text": [
      "/home/magreen/anaconda3_2020_07/envs/metis_linux_venv/lib/python3.8/site-packages/ipykernel/ipkernel.py:287: DeprecationWarning: `should_run_async` will not call `transform_cell` automatically in the future. Please pass the result to `transformed_cell` argument and any exception that happen during thetransform in `preprocessing_exc_tuple` in IPython 7.17 and above.\n",
      "  and should_run_async(code)\n"
     ]
    }
   ],
   "source": [
    "#disable warnings\n",
    "import warnings\n",
    "warnings.filterwarnings(\"ignore\") "
   ]
  },
  {
   "cell_type": "code",
   "execution_count": 26,
   "metadata": {
    "execution": {
     "iopub.execute_input": "2020-11-07T18:37:09.710146Z",
     "iopub.status.busy": "2020-11-07T18:37:09.709928Z",
     "iopub.status.idle": "2020-11-07T18:37:09.718149Z",
     "shell.execute_reply": "2020-11-07T18:37:09.717449Z",
     "shell.execute_reply.started": "2020-11-07T18:37:09.710117Z"
    }
   },
   "outputs": [],
   "source": [
    "#stuff"
   ]
  },
  {
   "cell_type": "markdown",
   "metadata": {},
   "source": [
    "# Purpose of this Notebook"
   ]
  },
  {
   "cell_type": "code",
   "execution_count": 51,
   "metadata": {
    "execution": {
     "iopub.execute_input": "2020-11-07T19:24:02.374851Z",
     "iopub.status.busy": "2020-11-07T19:24:02.374554Z",
     "iopub.status.idle": "2020-11-07T19:24:02.378772Z",
     "shell.execute_reply": "2020-11-07T19:24:02.378017Z",
     "shell.execute_reply.started": "2020-11-07T19:24:02.374822Z"
    }
   },
   "outputs": [],
   "source": [
    "#Number of reviews to put into data frame of good reviews. Set it to less than 0 if you want all of the good reviews to be processed\n",
    "NUMB_OF_GOOD_REVIEWS = -1\n",
    "\n",
    "#Number of reviews to put into data frame of bad reviews\n",
    "NUMB_OF_BAD_REVIEWS = -1\n",
    "\n",
    "#set to 1 if you want to reclean the dataframes, otherwise it will load data from a previous clean\n",
    "#note cleaning takes 30 minutes on a pretty fast machine\n",
    "CLEAN_DATAFRAME = 0"
   ]
  },
  {
   "cell_type": "markdown",
   "metadata": {},
   "source": [
    "## Problem Statement"
   ]
  },
  {
   "cell_type": "markdown",
   "metadata": {},
   "source": [
    "Product developers often want to know this about their products:\n",
    "\n",
    "* For products that people don't like, what is it about the products they don't like? Maybe if we know this we could improve the product by fixing this unliked product features\n",
    "* For products that people love, what is it about the products that result in people loving them? Maybe if we expanded on these loved features, we could get new customers or better retain current customers"
   ]
  },
  {
   "cell_type": "markdown",
   "metadata": {},
   "source": [
    "## Proposed Solution"
   ]
  },
  {
   "cell_type": "markdown",
   "metadata": {},
   "source": [
    "Topic modeling and clustering(?) that identifies the features of products that people love and somehow rank them so that a product manaer can have a priority list of things that could be addressed to get more love\n",
    "Topic modeling and clustering(?) that identifies the features of products that people don't like and somehow rank them so that a product manaer can have a priority list of things that could be fixed to hopefully turn the disliked product into a liked product.\n"
   ]
  },
  {
   "cell_type": "markdown",
   "metadata": {
    "execution": {
     "iopub.execute_input": "2020-11-04T21:11:05.576479Z",
     "iopub.status.busy": "2020-11-04T21:11:05.576164Z",
     "iopub.status.idle": "2020-11-04T21:11:05.580086Z",
     "shell.execute_reply": "2020-11-04T21:11:05.579426Z",
     "shell.execute_reply.started": "2020-11-04T21:11:05.576406Z"
    }
   },
   "source": [
    "# Module Import"
   ]
  },
  {
   "cell_type": "code",
   "execution_count": 173,
   "metadata": {
    "execution": {
     "iopub.execute_input": "2020-11-08T02:43:48.287607Z",
     "iopub.status.busy": "2020-11-08T02:43:48.287322Z",
     "iopub.status.idle": "2020-11-08T02:43:48.293661Z",
     "shell.execute_reply": "2020-11-08T02:43:48.292895Z",
     "shell.execute_reply.started": "2020-11-08T02:43:48.287578Z"
    }
   },
   "outputs": [],
   "source": [
    "import datetime\n",
    "from collections import Counter\n",
    "import pickle\n",
    "\n",
    "import pandas as pd\n",
    "import numpy as np\n",
    "import matplotlib.pyplot as plt\n",
    "\n",
    "import re\n",
    "\n",
    "#to speed up pandas operands\n",
    "from pandarallel import pandarallel\n",
    "\n",
    "from sklearn.feature_extraction.text import CountVectorizer, TfidfVectorizer\n",
    "from sklearn.decomposition import LatentDirichletAllocation\n",
    "from sklearn.decomposition import PCA\n",
    "\n",
    "import nltk\n",
    "from nltk.corpus import wordnet\n",
    "from nltk.tag import pos_tag\n",
    "from nltk.tokenize import word_tokenize\n",
    "from nltk.stem import WordNetLemmatizer\n",
    "\n",
    "\n",
    "\n",
    "#gensim\n",
    "from gensim import corpora, models, similarities, matutils\n",
    "\n"
   ]
  },
  {
   "cell_type": "code",
   "execution_count": 332,
   "metadata": {
    "execution": {
     "iopub.execute_input": "2020-11-08T06:26:02.637640Z",
     "iopub.status.busy": "2020-11-08T06:26:02.637324Z",
     "iopub.status.idle": "2020-11-08T06:26:02.653493Z",
     "shell.execute_reply": "2020-11-08T06:26:02.652639Z",
     "shell.execute_reply.started": "2020-11-08T06:26:02.637608Z"
    }
   },
   "outputs": [],
   "source": [
    "# You can configure the format of the images: ‘png’, ‘retina’, ‘jpeg’, ‘svg’, ‘pdf’.\n",
    "%config InlineBackend.figure_format = 'png'\n",
    "%matplotlib inline "
   ]
  },
  {
   "cell_type": "markdown",
   "metadata": {},
   "source": [
    "# NLP Pipeline\n",
    "\n"
   ]
  },
  {
   "cell_type": "markdown",
   "metadata": {},
   "source": [
    "## Text Preprocessing\n",
    "Essentially will do this:\n",
    "\n",
    "```\n",
    "\n",
    "(input text) -->[clean(remove text I don't want)]--> [tokenization] --> [lemmatization] --> [Next_Stages]\n",
    "\n",
    "```"
   ]
  },
  {
   "cell_type": "code",
   "execution_count": 29,
   "metadata": {
    "execution": {
     "iopub.execute_input": "2020-11-07T18:37:09.736492Z",
     "iopub.status.busy": "2020-11-07T18:37:09.736336Z",
     "iopub.status.idle": "2020-11-07T18:37:12.838902Z",
     "shell.execute_reply": "2020-11-07T18:37:12.837968Z",
     "shell.execute_reply.started": "2020-11-07T18:37:09.736473Z"
    }
   },
   "outputs": [],
   "source": [
    "reviews_df = pd.read_csv(\"../Data/Reviews.csv\")"
   ]
  },
  {
   "cell_type": "code",
   "execution_count": 30,
   "metadata": {
    "execution": {
     "iopub.execute_input": "2020-11-07T18:37:12.840073Z",
     "iopub.status.busy": "2020-11-07T18:37:12.839906Z",
     "iopub.status.idle": "2020-11-07T18:37:12.851848Z",
     "shell.execute_reply": "2020-11-07T18:37:12.851199Z",
     "shell.execute_reply.started": "2020-11-07T18:37:12.840052Z"
    }
   },
   "outputs": [
    {
     "data": {
      "text/html": [
       "<div>\n",
       "<style scoped>\n",
       "    .dataframe tbody tr th:only-of-type {\n",
       "        vertical-align: middle;\n",
       "    }\n",
       "\n",
       "    .dataframe tbody tr th {\n",
       "        vertical-align: top;\n",
       "    }\n",
       "\n",
       "    .dataframe thead th {\n",
       "        text-align: right;\n",
       "    }\n",
       "</style>\n",
       "<table border=\"1\" class=\"dataframe\">\n",
       "  <thead>\n",
       "    <tr style=\"text-align: right;\">\n",
       "      <th></th>\n",
       "      <th>Id</th>\n",
       "      <th>ProductId</th>\n",
       "      <th>UserId</th>\n",
       "      <th>ProfileName</th>\n",
       "      <th>HelpfulnessNumerator</th>\n",
       "      <th>HelpfulnessDenominator</th>\n",
       "      <th>Score</th>\n",
       "      <th>Time</th>\n",
       "      <th>Summary</th>\n",
       "      <th>Text</th>\n",
       "    </tr>\n",
       "  </thead>\n",
       "  <tbody>\n",
       "    <tr>\n",
       "      <th>0</th>\n",
       "      <td>1</td>\n",
       "      <td>B001E4KFG0</td>\n",
       "      <td>A3SGXH7AUHU8GW</td>\n",
       "      <td>delmartian</td>\n",
       "      <td>1</td>\n",
       "      <td>1</td>\n",
       "      <td>5</td>\n",
       "      <td>1303862400</td>\n",
       "      <td>Good Quality Dog Food</td>\n",
       "      <td>I have bought several of the Vitality canned d...</td>\n",
       "    </tr>\n",
       "    <tr>\n",
       "      <th>1</th>\n",
       "      <td>2</td>\n",
       "      <td>B00813GRG4</td>\n",
       "      <td>A1D87F6ZCVE5NK</td>\n",
       "      <td>dll pa</td>\n",
       "      <td>0</td>\n",
       "      <td>0</td>\n",
       "      <td>1</td>\n",
       "      <td>1346976000</td>\n",
       "      <td>Not as Advertised</td>\n",
       "      <td>Product arrived labeled as Jumbo Salted Peanut...</td>\n",
       "    </tr>\n",
       "    <tr>\n",
       "      <th>2</th>\n",
       "      <td>3</td>\n",
       "      <td>B000LQOCH0</td>\n",
       "      <td>ABXLMWJIXXAIN</td>\n",
       "      <td>Natalia Corres \"Natalia Corres\"</td>\n",
       "      <td>1</td>\n",
       "      <td>1</td>\n",
       "      <td>4</td>\n",
       "      <td>1219017600</td>\n",
       "      <td>\"Delight\" says it all</td>\n",
       "      <td>This is a confection that has been around a fe...</td>\n",
       "    </tr>\n",
       "    <tr>\n",
       "      <th>3</th>\n",
       "      <td>4</td>\n",
       "      <td>B000UA0QIQ</td>\n",
       "      <td>A395BORC6FGVXV</td>\n",
       "      <td>Karl</td>\n",
       "      <td>3</td>\n",
       "      <td>3</td>\n",
       "      <td>2</td>\n",
       "      <td>1307923200</td>\n",
       "      <td>Cough Medicine</td>\n",
       "      <td>If you are looking for the secret ingredient i...</td>\n",
       "    </tr>\n",
       "    <tr>\n",
       "      <th>4</th>\n",
       "      <td>5</td>\n",
       "      <td>B006K2ZZ7K</td>\n",
       "      <td>A1UQRSCLF8GW1T</td>\n",
       "      <td>Michael D. Bigham \"M. Wassir\"</td>\n",
       "      <td>0</td>\n",
       "      <td>0</td>\n",
       "      <td>5</td>\n",
       "      <td>1350777600</td>\n",
       "      <td>Great taffy</td>\n",
       "      <td>Great taffy at a great price.  There was a wid...</td>\n",
       "    </tr>\n",
       "  </tbody>\n",
       "</table>\n",
       "</div>"
      ],
      "text/plain": [
       "   Id   ProductId          UserId                      ProfileName  \\\n",
       "0   1  B001E4KFG0  A3SGXH7AUHU8GW                       delmartian   \n",
       "1   2  B00813GRG4  A1D87F6ZCVE5NK                           dll pa   \n",
       "2   3  B000LQOCH0   ABXLMWJIXXAIN  Natalia Corres \"Natalia Corres\"   \n",
       "3   4  B000UA0QIQ  A395BORC6FGVXV                             Karl   \n",
       "4   5  B006K2ZZ7K  A1UQRSCLF8GW1T    Michael D. Bigham \"M. Wassir\"   \n",
       "\n",
       "   HelpfulnessNumerator  HelpfulnessDenominator  Score        Time  \\\n",
       "0                     1                       1      5  1303862400   \n",
       "1                     0                       0      1  1346976000   \n",
       "2                     1                       1      4  1219017600   \n",
       "3                     3                       3      2  1307923200   \n",
       "4                     0                       0      5  1350777600   \n",
       "\n",
       "                 Summary                                               Text  \n",
       "0  Good Quality Dog Food  I have bought several of the Vitality canned d...  \n",
       "1      Not as Advertised  Product arrived labeled as Jumbo Salted Peanut...  \n",
       "2  \"Delight\" says it all  This is a confection that has been around a fe...  \n",
       "3         Cough Medicine  If you are looking for the secret ingredient i...  \n",
       "4            Great taffy  Great taffy at a great price.  There was a wid...  "
      ]
     },
     "execution_count": 30,
     "metadata": {},
     "output_type": "execute_result"
    }
   ],
   "source": [
    "reviews_df.head()"
   ]
  },
  {
   "cell_type": "code",
   "execution_count": 31,
   "metadata": {
    "execution": {
     "iopub.execute_input": "2020-11-07T18:37:12.853498Z",
     "iopub.status.busy": "2020-11-07T18:37:12.853338Z",
     "iopub.status.idle": "2020-11-07T18:37:12.935703Z",
     "shell.execute_reply": "2020-11-07T18:37:12.934988Z",
     "shell.execute_reply.started": "2020-11-07T18:37:12.853479Z"
    }
   },
   "outputs": [
    {
     "data": {
      "text/html": [
       "<div>\n",
       "<style scoped>\n",
       "    .dataframe tbody tr th:only-of-type {\n",
       "        vertical-align: middle;\n",
       "    }\n",
       "\n",
       "    .dataframe tbody tr th {\n",
       "        vertical-align: top;\n",
       "    }\n",
       "\n",
       "    .dataframe thead th {\n",
       "        text-align: right;\n",
       "    }\n",
       "</style>\n",
       "<table border=\"1\" class=\"dataframe\">\n",
       "  <thead>\n",
       "    <tr style=\"text-align: right;\">\n",
       "      <th></th>\n",
       "      <th>Id</th>\n",
       "      <th>HelpfulnessNumerator</th>\n",
       "      <th>HelpfulnessDenominator</th>\n",
       "      <th>Score</th>\n",
       "      <th>Time</th>\n",
       "    </tr>\n",
       "  </thead>\n",
       "  <tbody>\n",
       "    <tr>\n",
       "      <th>count</th>\n",
       "      <td>568454.000000</td>\n",
       "      <td>568454.000000</td>\n",
       "      <td>568454.00000</td>\n",
       "      <td>568454.000000</td>\n",
       "      <td>5.684540e+05</td>\n",
       "    </tr>\n",
       "    <tr>\n",
       "      <th>mean</th>\n",
       "      <td>284227.500000</td>\n",
       "      <td>1.743817</td>\n",
       "      <td>2.22881</td>\n",
       "      <td>4.183199</td>\n",
       "      <td>1.296257e+09</td>\n",
       "    </tr>\n",
       "    <tr>\n",
       "      <th>std</th>\n",
       "      <td>164098.679298</td>\n",
       "      <td>7.636513</td>\n",
       "      <td>8.28974</td>\n",
       "      <td>1.310436</td>\n",
       "      <td>4.804331e+07</td>\n",
       "    </tr>\n",
       "    <tr>\n",
       "      <th>min</th>\n",
       "      <td>1.000000</td>\n",
       "      <td>0.000000</td>\n",
       "      <td>0.00000</td>\n",
       "      <td>1.000000</td>\n",
       "      <td>9.393408e+08</td>\n",
       "    </tr>\n",
       "    <tr>\n",
       "      <th>25%</th>\n",
       "      <td>142114.250000</td>\n",
       "      <td>0.000000</td>\n",
       "      <td>0.00000</td>\n",
       "      <td>4.000000</td>\n",
       "      <td>1.271290e+09</td>\n",
       "    </tr>\n",
       "    <tr>\n",
       "      <th>50%</th>\n",
       "      <td>284227.500000</td>\n",
       "      <td>0.000000</td>\n",
       "      <td>1.00000</td>\n",
       "      <td>5.000000</td>\n",
       "      <td>1.311120e+09</td>\n",
       "    </tr>\n",
       "    <tr>\n",
       "      <th>75%</th>\n",
       "      <td>426340.750000</td>\n",
       "      <td>2.000000</td>\n",
       "      <td>2.00000</td>\n",
       "      <td>5.000000</td>\n",
       "      <td>1.332720e+09</td>\n",
       "    </tr>\n",
       "    <tr>\n",
       "      <th>max</th>\n",
       "      <td>568454.000000</td>\n",
       "      <td>866.000000</td>\n",
       "      <td>923.00000</td>\n",
       "      <td>5.000000</td>\n",
       "      <td>1.351210e+09</td>\n",
       "    </tr>\n",
       "  </tbody>\n",
       "</table>\n",
       "</div>"
      ],
      "text/plain": [
       "                  Id  HelpfulnessNumerator  HelpfulnessDenominator  \\\n",
       "count  568454.000000         568454.000000            568454.00000   \n",
       "mean   284227.500000              1.743817                 2.22881   \n",
       "std    164098.679298              7.636513                 8.28974   \n",
       "min         1.000000              0.000000                 0.00000   \n",
       "25%    142114.250000              0.000000                 0.00000   \n",
       "50%    284227.500000              0.000000                 1.00000   \n",
       "75%    426340.750000              2.000000                 2.00000   \n",
       "max    568454.000000            866.000000               923.00000   \n",
       "\n",
       "               Score          Time  \n",
       "count  568454.000000  5.684540e+05  \n",
       "mean        4.183199  1.296257e+09  \n",
       "std         1.310436  4.804331e+07  \n",
       "min         1.000000  9.393408e+08  \n",
       "25%         4.000000  1.271290e+09  \n",
       "50%         5.000000  1.311120e+09  \n",
       "75%         5.000000  1.332720e+09  \n",
       "max         5.000000  1.351210e+09  "
      ]
     },
     "execution_count": 31,
     "metadata": {},
     "output_type": "execute_result"
    }
   ],
   "source": [
    "reviews_df.describe()"
   ]
  },
  {
   "cell_type": "code",
   "execution_count": 32,
   "metadata": {
    "execution": {
     "iopub.execute_input": "2020-11-07T18:37:12.937026Z",
     "iopub.status.busy": "2020-11-07T18:37:12.936870Z",
     "iopub.status.idle": "2020-11-07T18:37:12.950400Z",
     "shell.execute_reply": "2020-11-07T18:37:12.949766Z",
     "shell.execute_reply.started": "2020-11-07T18:37:12.937007Z"
    }
   },
   "outputs": [
    {
     "data": {
      "text/plain": [
       "'I have bought several of the Vitality canned dog food products and have found them all to be of good quality. The product looks more like a stew than a processed meat and it smells better. My Labrador is finicky and she appreciates this product better than  most.'"
      ]
     },
     "execution_count": 32,
     "metadata": {},
     "output_type": "execute_result"
    }
   ],
   "source": [
    "reviews_df.loc[0,\"Text\"]"
   ]
  },
  {
   "cell_type": "code",
   "execution_count": 33,
   "metadata": {
    "execution": {
     "iopub.execute_input": "2020-11-07T18:37:12.951446Z",
     "iopub.status.busy": "2020-11-07T18:37:12.951275Z",
     "iopub.status.idle": "2020-11-07T18:37:12.959414Z",
     "shell.execute_reply": "2020-11-07T18:37:12.958735Z",
     "shell.execute_reply.started": "2020-11-07T18:37:12.951424Z"
    }
   },
   "outputs": [
    {
     "data": {
      "text/plain": [
       "5    363122\n",
       "4     80655\n",
       "1     52268\n",
       "3     42640\n",
       "2     29769\n",
       "Name: Score, dtype: int64"
      ]
     },
     "execution_count": 33,
     "metadata": {},
     "output_type": "execute_result"
    }
   ],
   "source": [
    "reviews_df[\"Score\"].value_counts()"
   ]
  },
  {
   "cell_type": "markdown",
   "metadata": {},
   "source": [
    "According to the Kaggle description `HelpfulnessNumerator` should be less than or equal to `HelpfulnessDenominator`. So I will filter out any reviews that do not meet this specification.  Also, removing reviews where `HelpfulnessDenominator` is zero as this indicates a review that is not useful:"
   ]
  },
  {
   "cell_type": "code",
   "execution_count": 34,
   "metadata": {
    "execution": {
     "iopub.execute_input": "2020-11-07T18:37:12.960831Z",
     "iopub.status.busy": "2020-11-07T18:37:12.960620Z",
     "iopub.status.idle": "2020-11-07T18:37:13.017183Z",
     "shell.execute_reply": "2020-11-07T18:37:13.016443Z",
     "shell.execute_reply.started": "2020-11-07T18:37:12.960809Z"
    }
   },
   "outputs": [
    {
     "data": {
      "text/plain": [
       "(270054, 10)"
      ]
     },
     "execution_count": 34,
     "metadata": {},
     "output_type": "execute_result"
    }
   ],
   "source": [
    "mask = (reviews_df[\"HelpfulnessNumerator\"] <=  reviews_df[\"HelpfulnessDenominator\"]) & (reviews_df[\"HelpfulnessDenominator\"]!=0)\n",
    "reviews_df[~mask].shape"
   ]
  },
  {
   "cell_type": "markdown",
   "metadata": {},
   "source": [
    "There are few to remove so doing that now:"
   ]
  },
  {
   "cell_type": "code",
   "execution_count": 35,
   "metadata": {
    "execution": {
     "iopub.execute_input": "2020-11-07T18:37:13.018250Z",
     "iopub.status.busy": "2020-11-07T18:37:13.018083Z",
     "iopub.status.idle": "2020-11-07T18:37:13.052938Z",
     "shell.execute_reply": "2020-11-07T18:37:13.052160Z",
     "shell.execute_reply.started": "2020-11-07T18:37:13.018228Z"
    }
   },
   "outputs": [],
   "source": [
    "reviews_df = reviews_df[mask]"
   ]
  },
  {
   "cell_type": "markdown",
   "metadata": {},
   "source": [
    "Are there any duplicate entries?"
   ]
  },
  {
   "cell_type": "code",
   "execution_count": 36,
   "metadata": {
    "execution": {
     "iopub.execute_input": "2020-11-07T18:37:13.054002Z",
     "iopub.status.busy": "2020-11-07T18:37:13.053840Z",
     "iopub.status.idle": "2020-11-07T18:37:13.539476Z",
     "shell.execute_reply": "2020-11-07T18:37:13.538784Z",
     "shell.execute_reply.started": "2020-11-07T18:37:13.053982Z"
    }
   },
   "outputs": [
    {
     "data": {
      "text/plain": [
       "False    209681\n",
       "True      88719\n",
       "dtype: int64"
      ]
     },
     "execution_count": 36,
     "metadata": {},
     "output_type": "execute_result"
    }
   ],
   "source": [
    "reviews_df.duplicated(subset=[\"UserId\",\"ProfileName\",\"Time\",\"Text\"],keep=\"first\").value_counts()"
   ]
  },
  {
   "cell_type": "code",
   "execution_count": 37,
   "metadata": {
    "execution": {
     "iopub.execute_input": "2020-11-07T18:37:13.540455Z",
     "iopub.status.busy": "2020-11-07T18:37:13.540301Z",
     "iopub.status.idle": "2020-11-07T18:37:14.037192Z",
     "shell.execute_reply": "2020-11-07T18:37:14.036437Z",
     "shell.execute_reply.started": "2020-11-07T18:37:13.540435Z"
    }
   },
   "outputs": [],
   "source": [
    "reviews_df.drop_duplicates(subset=[\"UserId\",\"ProfileName\",\"Time\",\"Text\"],keep=\"first\",inplace=True)"
   ]
  },
  {
   "cell_type": "code",
   "execution_count": 38,
   "metadata": {
    "execution": {
     "iopub.execute_input": "2020-11-07T18:37:14.038185Z",
     "iopub.status.busy": "2020-11-07T18:37:14.038033Z",
     "iopub.status.idle": "2020-11-07T18:37:14.137771Z",
     "shell.execute_reply": "2020-11-07T18:37:14.137008Z",
     "shell.execute_reply.started": "2020-11-07T18:37:14.038165Z"
    }
   },
   "outputs": [],
   "source": [
    "reviews_df.dropna(inplace=True)"
   ]
  },
  {
   "cell_type": "markdown",
   "metadata": {},
   "source": [
    "calculating a helpfulness metric in the hopes that it helps separate reviews."
   ]
  },
  {
   "cell_type": "code",
   "execution_count": 39,
   "metadata": {
    "execution": {
     "iopub.execute_input": "2020-11-07T18:37:14.138843Z",
     "iopub.status.busy": "2020-11-07T18:37:14.138683Z",
     "iopub.status.idle": "2020-11-07T18:37:14.143309Z",
     "shell.execute_reply": "2020-11-07T18:37:14.142600Z",
     "shell.execute_reply.started": "2020-11-07T18:37:14.138822Z"
    }
   },
   "outputs": [],
   "source": [
    "reviews_df[\"helpful_rating\"] = reviews_df[\"HelpfulnessNumerator\"] / reviews_df[\"HelpfulnessDenominator\"]"
   ]
  },
  {
   "cell_type": "code",
   "execution_count": 40,
   "metadata": {
    "execution": {
     "iopub.execute_input": "2020-11-07T18:37:14.144299Z",
     "iopub.status.busy": "2020-11-07T18:37:14.144150Z",
     "iopub.status.idle": "2020-11-07T18:37:14.148577Z",
     "shell.execute_reply": "2020-11-07T18:37:14.147958Z",
     "shell.execute_reply.started": "2020-11-07T18:37:14.144280Z"
    }
   },
   "outputs": [],
   "source": [
    "# Not helpful\n",
    "# TODO: Delete\n",
    "#plt.figure(figsize=(40,40))\n",
    "#plt.scatter(reviews_df[\"Score\"],reviews_df[\"helpful_rating\"],alpha=0.5)\n",
    "#plt.xlabel(\"Score\")\n",
    "#plt.ylabel(\"helpful rating\")\n",
    "#plt.show();"
   ]
  },
  {
   "cell_type": "markdown",
   "metadata": {},
   "source": [
    "Going to create a dataframe of bad reviews and one of good reviews to process separately. I remove reviews where \"Score\" == 3 because do not indicate a call to action to either improve a bad product or point out a product that likely has nice features."
   ]
  },
  {
   "cell_type": "code",
   "execution_count": 41,
   "metadata": {
    "execution": {
     "iopub.execute_input": "2020-11-07T18:37:14.150462Z",
     "iopub.status.busy": "2020-11-07T18:37:14.150314Z",
     "iopub.status.idle": "2020-11-07T18:37:14.155721Z",
     "shell.execute_reply": "2020-11-07T18:37:14.155005Z",
     "shell.execute_reply.started": "2020-11-07T18:37:14.150444Z"
    }
   },
   "outputs": [
    {
     "data": {
      "text/plain": [
       "(209675, 11)"
      ]
     },
     "execution_count": 41,
     "metadata": {},
     "output_type": "execute_result"
    }
   ],
   "source": [
    "reviews_df.shape"
   ]
  },
  {
   "cell_type": "code",
   "execution_count": 42,
   "metadata": {
    "execution": {
     "iopub.execute_input": "2020-11-07T18:37:14.157085Z",
     "iopub.status.busy": "2020-11-07T18:37:14.156879Z",
     "iopub.status.idle": "2020-11-07T18:37:14.200934Z",
     "shell.execute_reply": "2020-11-07T18:37:14.200179Z",
     "shell.execute_reply.started": "2020-11-07T18:37:14.157058Z"
    }
   },
   "outputs": [],
   "source": [
    "good_reviews_df = reviews_df[ reviews_df[\"Score\"] >= 4 ]\n",
    "bad_reviews_df = reviews_df[ reviews_df[\"Score\"] <= 2 ]"
   ]
  },
  {
   "cell_type": "code",
   "execution_count": 43,
   "metadata": {
    "execution": {
     "iopub.execute_input": "2020-11-07T18:37:14.201953Z",
     "iopub.status.busy": "2020-11-07T18:37:14.201799Z",
     "iopub.status.idle": "2020-11-07T18:37:14.205545Z",
     "shell.execute_reply": "2020-11-07T18:37:14.204947Z",
     "shell.execute_reply.started": "2020-11-07T18:37:14.201934Z"
    }
   },
   "outputs": [],
   "source": [
    "if (NUMB_OF_GOOD_REVIEWS > good_reviews_df.shape[0]) or (NUMB_OF_GOOD_REVIEWS < 0):\n",
    "    NUMB_OF_GOOD_REVIEWS = good_reviews_df.shape[0]\n",
    "\n",
    "\n",
    "if (NUMB_OF_BAD_REVIEWS > bad_reviews_df.shape[0]) or (NUMB_OF_BAD_REVIEWS < 0):\n",
    "    NUMB_OF_BAD_REVIEWS = bad_reviews_df.shape[0]"
   ]
  },
  {
   "cell_type": "code",
   "execution_count": 44,
   "metadata": {
    "execution": {
     "iopub.execute_input": "2020-11-07T18:37:14.206361Z",
     "iopub.status.busy": "2020-11-07T18:37:14.206216Z",
     "iopub.status.idle": "2020-11-07T18:37:14.211703Z",
     "shell.execute_reply": "2020-11-07T18:37:14.211057Z",
     "shell.execute_reply.started": "2020-11-07T18:37:14.206342Z"
    }
   },
   "outputs": [],
   "source": [
    "good_reviews_df = good_reviews_df[:(NUMB_OF_GOOD_REVIEWS + 1)]\n",
    "bad_reviews_df = bad_reviews_df[:(NUMB_OF_BAD_REVIEWS + 1)]"
   ]
  },
  {
   "cell_type": "code",
   "execution_count": 45,
   "metadata": {
    "execution": {
     "iopub.execute_input": "2020-11-07T18:37:14.212647Z",
     "iopub.status.busy": "2020-11-07T18:37:14.212499Z",
     "iopub.status.idle": "2020-11-07T18:37:14.217881Z",
     "shell.execute_reply": "2020-11-07T18:37:14.217174Z",
     "shell.execute_reply.started": "2020-11-07T18:37:14.212628Z"
    }
   },
   "outputs": [],
   "source": [
    "#stuff = list(good_reviews_df.Text.head(NUMB_OF_DOCS1))"
   ]
  },
  {
   "cell_type": "markdown",
   "metadata": {},
   "source": [
    "Thoughts on mispelled words and non English words:\n",
    "\n",
    "What I'm trying to do here (TODO describe this) is identify adjectives. So I will remove words that are not in nltk's corpus of words to hopefully remove misspelled words and non-English words."
   ]
  },
  {
   "cell_type": "code",
   "execution_count": 46,
   "metadata": {
    "execution": {
     "iopub.execute_input": "2020-11-07T18:37:14.218966Z",
     "iopub.status.busy": "2020-11-07T18:37:14.218771Z",
     "iopub.status.idle": "2020-11-07T18:37:14.224779Z",
     "shell.execute_reply": "2020-11-07T18:37:14.224160Z",
     "shell.execute_reply.started": "2020-11-07T18:37:14.218941Z"
    }
   },
   "outputs": [],
   "source": [
    "#Removing HTML from the text\n",
    "#stuff = [re.sub(\"<.*?>\",\"\",item) for item in stuff]\n",
    "\n",
    "def remove_html_punct(row):\n",
    "    \"\"\"This function removes HTML and punctuation and anything that is or contains a number from the Text\"\"\"\n",
    "    \n",
    "    NLTK_WORDS = set(nltk.corpus.words.words())\n",
    "    \n",
    "    text_to_process = row[\"Text\"]\n",
    "    text_to_process = text_to_process.lower()\n",
    "    text_to_process = re.sub(\"<.*?>\",\"\",text_to_process)\n",
    "    text_to_process = re.sub(\"[\\.|\\!|\\?|\\,|\\;|\\:|\\&|\\(|\\)|\\-|\\%|_]\",\"\",text_to_process)\n",
    "    text_to_process = re.sub(\"\\w*\\d+\\w*\",\"\",text_to_process)\n",
    "    text_to_process_list = text_to_process.split()\n",
    "    text_to_process_list = [review_word for review_word in text_to_process_list if review_word in NLTK_WORDS]\n",
    "    text_to_process = \" \".join(text_to_process_list)\n",
    "    return text_to_process\n",
    "\n"
   ]
  },
  {
   "cell_type": "code",
   "execution_count": 47,
   "metadata": {
    "execution": {
     "iopub.execute_input": "2020-11-07T18:37:24.397812Z",
     "iopub.status.busy": "2020-11-07T18:37:24.397546Z",
     "iopub.status.idle": "2020-11-07T19:16:45.053987Z",
     "shell.execute_reply": "2020-11-07T19:16:45.052938Z",
     "shell.execute_reply.started": "2020-11-07T18:37:24.397784Z"
    }
   },
   "outputs": [
    {
     "name": "stdout",
     "output_type": "stream",
     "text": [
      "INFO: Pandarallel will run on 64 workers.\n",
      "INFO: Pandarallel will use Memory file system to transfer data between the main process and workers.\n",
      "time spent doing operation is 0:39:20.648521\n"
     ]
    }
   ],
   "source": [
    "if CLEAN_DATAFRAME == 1:\n",
    "\n",
    "    #TODO If you have time - convert it to a SQL query\n",
    "    pandarallel.initialize()\n",
    "\n",
    "    start_time = datetime.datetime.now()\n",
    "\n",
    "    good_reviews_df[\"ProcessedText\"] = good_reviews_df.parallel_apply(remove_html_punct,axis=1)\n",
    "    bad_reviews_df[\"ProcessedText\"] = bad_reviews_df.parallel_apply(remove_html_punct,axis=1)\n",
    "    end_time = datetime.datetime.now()\n",
    "    print(\"time spent doing operation is {}\".format(end_time - start_time))\n",
    "else:\n",
    "    print(\"skipping cleaning the data frame.\")"
   ]
  },
  {
   "cell_type": "code",
   "execution_count": 48,
   "metadata": {
    "execution": {
     "iopub.execute_input": "2020-11-07T19:19:32.714214Z",
     "iopub.status.busy": "2020-11-07T19:19:32.713904Z",
     "iopub.status.idle": "2020-11-07T19:19:32.732445Z",
     "shell.execute_reply": "2020-11-07T19:19:32.731737Z",
     "shell.execute_reply.started": "2020-11-07T19:19:32.714183Z"
    }
   },
   "outputs": [
    {
     "data": {
      "text/html": [
       "<div>\n",
       "<style scoped>\n",
       "    .dataframe tbody tr th:only-of-type {\n",
       "        vertical-align: middle;\n",
       "    }\n",
       "\n",
       "    .dataframe tbody tr th {\n",
       "        vertical-align: top;\n",
       "    }\n",
       "\n",
       "    .dataframe thead th {\n",
       "        text-align: right;\n",
       "    }\n",
       "</style>\n",
       "<table border=\"1\" class=\"dataframe\">\n",
       "  <thead>\n",
       "    <tr style=\"text-align: right;\">\n",
       "      <th></th>\n",
       "      <th>Id</th>\n",
       "      <th>ProductId</th>\n",
       "      <th>UserId</th>\n",
       "      <th>ProfileName</th>\n",
       "      <th>HelpfulnessNumerator</th>\n",
       "      <th>HelpfulnessDenominator</th>\n",
       "      <th>Score</th>\n",
       "      <th>Time</th>\n",
       "      <th>Summary</th>\n",
       "      <th>Text</th>\n",
       "      <th>helpful_rating</th>\n",
       "      <th>ProcessedText</th>\n",
       "    </tr>\n",
       "  </thead>\n",
       "  <tbody>\n",
       "    <tr>\n",
       "      <th>0</th>\n",
       "      <td>1</td>\n",
       "      <td>B001E4KFG0</td>\n",
       "      <td>A3SGXH7AUHU8GW</td>\n",
       "      <td>delmartian</td>\n",
       "      <td>1</td>\n",
       "      <td>1</td>\n",
       "      <td>5</td>\n",
       "      <td>1303862400</td>\n",
       "      <td>Good Quality Dog Food</td>\n",
       "      <td>I have bought several of the Vitality canned d...</td>\n",
       "      <td>1.0</td>\n",
       "      <td>i have bought several of the vitality canned d...</td>\n",
       "    </tr>\n",
       "    <tr>\n",
       "      <th>2</th>\n",
       "      <td>3</td>\n",
       "      <td>B000LQOCH0</td>\n",
       "      <td>ABXLMWJIXXAIN</td>\n",
       "      <td>Natalia Corres \"Natalia Corres\"</td>\n",
       "      <td>1</td>\n",
       "      <td>1</td>\n",
       "      <td>4</td>\n",
       "      <td>1219017600</td>\n",
       "      <td>\"Delight\" says it all</td>\n",
       "      <td>This is a confection that has been around a fe...</td>\n",
       "      <td>1.0</td>\n",
       "      <td>this is a confection that been around a few it...</td>\n",
       "    </tr>\n",
       "    <tr>\n",
       "      <th>8</th>\n",
       "      <td>9</td>\n",
       "      <td>B000E7L2R4</td>\n",
       "      <td>A1MZYO9TZK0BBI</td>\n",
       "      <td>R. James</td>\n",
       "      <td>1</td>\n",
       "      <td>1</td>\n",
       "      <td>5</td>\n",
       "      <td>1322006400</td>\n",
       "      <td>Yay Barley</td>\n",
       "      <td>Right now I'm mostly just sprouting this so my...</td>\n",
       "      <td>1.0</td>\n",
       "      <td>right now mostly just sprouting this so my can...</td>\n",
       "    </tr>\n",
       "    <tr>\n",
       "      <th>10</th>\n",
       "      <td>11</td>\n",
       "      <td>B0001PB9FE</td>\n",
       "      <td>A3HDKO7OW0QNK4</td>\n",
       "      <td>Canadian Fan</td>\n",
       "      <td>1</td>\n",
       "      <td>1</td>\n",
       "      <td>5</td>\n",
       "      <td>1107820800</td>\n",
       "      <td>The Best Hot Sauce in the World</td>\n",
       "      <td>I don't know if it's the cactus or the tequila...</td>\n",
       "      <td>1.0</td>\n",
       "      <td>i know if the or the tequila or just the uniqu...</td>\n",
       "    </tr>\n",
       "    <tr>\n",
       "      <th>11</th>\n",
       "      <td>12</td>\n",
       "      <td>B0009XLVG0</td>\n",
       "      <td>A2725IB4YY9JEB</td>\n",
       "      <td>A Poeng \"SparkyGoHome\"</td>\n",
       "      <td>4</td>\n",
       "      <td>4</td>\n",
       "      <td>5</td>\n",
       "      <td>1282867200</td>\n",
       "      <td>My cats LOVE this \"diet\" food better than thei...</td>\n",
       "      <td>One of my boys needed to lose some weight and ...</td>\n",
       "      <td>1.0</td>\n",
       "      <td>one of my to lose some weight and the other i ...</td>\n",
       "    </tr>\n",
       "  </tbody>\n",
       "</table>\n",
       "</div>"
      ],
      "text/plain": [
       "    Id   ProductId          UserId                      ProfileName  \\\n",
       "0    1  B001E4KFG0  A3SGXH7AUHU8GW                       delmartian   \n",
       "2    3  B000LQOCH0   ABXLMWJIXXAIN  Natalia Corres \"Natalia Corres\"   \n",
       "8    9  B000E7L2R4  A1MZYO9TZK0BBI                         R. James   \n",
       "10  11  B0001PB9FE  A3HDKO7OW0QNK4                     Canadian Fan   \n",
       "11  12  B0009XLVG0  A2725IB4YY9JEB           A Poeng \"SparkyGoHome\"   \n",
       "\n",
       "    HelpfulnessNumerator  HelpfulnessDenominator  Score        Time  \\\n",
       "0                      1                       1      5  1303862400   \n",
       "2                      1                       1      4  1219017600   \n",
       "8                      1                       1      5  1322006400   \n",
       "10                     1                       1      5  1107820800   \n",
       "11                     4                       4      5  1282867200   \n",
       "\n",
       "                                              Summary  \\\n",
       "0                               Good Quality Dog Food   \n",
       "2                               \"Delight\" says it all   \n",
       "8                                          Yay Barley   \n",
       "10                    The Best Hot Sauce in the World   \n",
       "11  My cats LOVE this \"diet\" food better than thei...   \n",
       "\n",
       "                                                 Text  helpful_rating  \\\n",
       "0   I have bought several of the Vitality canned d...             1.0   \n",
       "2   This is a confection that has been around a fe...             1.0   \n",
       "8   Right now I'm mostly just sprouting this so my...             1.0   \n",
       "10  I don't know if it's the cactus or the tequila...             1.0   \n",
       "11  One of my boys needed to lose some weight and ...             1.0   \n",
       "\n",
       "                                        ProcessedText  \n",
       "0   i have bought several of the vitality canned d...  \n",
       "2   this is a confection that been around a few it...  \n",
       "8   right now mostly just sprouting this so my can...  \n",
       "10  i know if the or the tequila or just the uniqu...  \n",
       "11  one of my to lose some weight and the other i ...  "
      ]
     },
     "execution_count": 48,
     "metadata": {},
     "output_type": "execute_result"
    }
   ],
   "source": [
    "good_reviews_df.head()"
   ]
  },
  {
   "cell_type": "code",
   "execution_count": 49,
   "metadata": {
    "execution": {
     "iopub.execute_input": "2020-11-07T19:19:35.812825Z",
     "iopub.status.busy": "2020-11-07T19:19:35.812560Z",
     "iopub.status.idle": "2020-11-07T19:19:35.829015Z",
     "shell.execute_reply": "2020-11-07T19:19:35.828378Z",
     "shell.execute_reply.started": "2020-11-07T19:19:35.812795Z"
    }
   },
   "outputs": [
    {
     "data": {
      "text/html": [
       "<div>\n",
       "<style scoped>\n",
       "    .dataframe tbody tr th:only-of-type {\n",
       "        vertical-align: middle;\n",
       "    }\n",
       "\n",
       "    .dataframe tbody tr th {\n",
       "        vertical-align: top;\n",
       "    }\n",
       "\n",
       "    .dataframe thead th {\n",
       "        text-align: right;\n",
       "    }\n",
       "</style>\n",
       "<table border=\"1\" class=\"dataframe\">\n",
       "  <thead>\n",
       "    <tr style=\"text-align: right;\">\n",
       "      <th></th>\n",
       "      <th>Id</th>\n",
       "      <th>ProductId</th>\n",
       "      <th>UserId</th>\n",
       "      <th>ProfileName</th>\n",
       "      <th>HelpfulnessNumerator</th>\n",
       "      <th>HelpfulnessDenominator</th>\n",
       "      <th>Score</th>\n",
       "      <th>Time</th>\n",
       "      <th>Summary</th>\n",
       "      <th>Text</th>\n",
       "      <th>helpful_rating</th>\n",
       "      <th>ProcessedText</th>\n",
       "    </tr>\n",
       "  </thead>\n",
       "  <tbody>\n",
       "    <tr>\n",
       "      <th>3</th>\n",
       "      <td>4</td>\n",
       "      <td>B000UA0QIQ</td>\n",
       "      <td>A395BORC6FGVXV</td>\n",
       "      <td>Karl</td>\n",
       "      <td>3</td>\n",
       "      <td>3</td>\n",
       "      <td>2</td>\n",
       "      <td>1307923200</td>\n",
       "      <td>Cough Medicine</td>\n",
       "      <td>If you are looking for the secret ingredient i...</td>\n",
       "      <td>1.0</td>\n",
       "      <td>if you are looking for the secret ingredient i...</td>\n",
       "    </tr>\n",
       "    <tr>\n",
       "      <th>12</th>\n",
       "      <td>13</td>\n",
       "      <td>B0009XLVG0</td>\n",
       "      <td>A327PCT23YH90</td>\n",
       "      <td>LT</td>\n",
       "      <td>1</td>\n",
       "      <td>1</td>\n",
       "      <td>1</td>\n",
       "      <td>1339545600</td>\n",
       "      <td>My Cats Are Not Fans of the New Food</td>\n",
       "      <td>My cats have been happily eating Felidae Plati...</td>\n",
       "      <td>1.0</td>\n",
       "      <td>my have been happily eating platinum for more ...</td>\n",
       "    </tr>\n",
       "    <tr>\n",
       "      <th>26</th>\n",
       "      <td>27</td>\n",
       "      <td>B001GVISJM</td>\n",
       "      <td>A3RXAU2N8KV45G</td>\n",
       "      <td>lady21</td>\n",
       "      <td>0</td>\n",
       "      <td>1</td>\n",
       "      <td>1</td>\n",
       "      <td>1332633600</td>\n",
       "      <td>Nasty No flavor</td>\n",
       "      <td>The candy is just red , No flavor . Just  plan...</td>\n",
       "      <td>0.0</td>\n",
       "      <td>the candy is just red no flavor just plan and ...</td>\n",
       "    </tr>\n",
       "    <tr>\n",
       "      <th>50</th>\n",
       "      <td>51</td>\n",
       "      <td>B001EO5QW8</td>\n",
       "      <td>A108P30XVUFKXY</td>\n",
       "      <td>Roberto A</td>\n",
       "      <td>0</td>\n",
       "      <td>7</td>\n",
       "      <td>1</td>\n",
       "      <td>1203379200</td>\n",
       "      <td>Don't like it</td>\n",
       "      <td>This oatmeal is not good. Its mushy, soft, I d...</td>\n",
       "      <td>0.0</td>\n",
       "      <td>this oatmeal is not good its mushy soft i like...</td>\n",
       "    </tr>\n",
       "    <tr>\n",
       "      <th>62</th>\n",
       "      <td>63</td>\n",
       "      <td>B001EO5TPM</td>\n",
       "      <td>A1E09XGZUR78C6</td>\n",
       "      <td>gary sturrock</td>\n",
       "      <td>2</td>\n",
       "      <td>2</td>\n",
       "      <td>1</td>\n",
       "      <td>1215302400</td>\n",
       "      <td>stale product.</td>\n",
       "      <td>Arrived in 6 days and were so stale i could no...</td>\n",
       "      <td>1.0</td>\n",
       "      <td>in days and were so stale i could not eat any ...</td>\n",
       "    </tr>\n",
       "  </tbody>\n",
       "</table>\n",
       "</div>"
      ],
      "text/plain": [
       "    Id   ProductId          UserId    ProfileName  HelpfulnessNumerator  \\\n",
       "3    4  B000UA0QIQ  A395BORC6FGVXV           Karl                     3   \n",
       "12  13  B0009XLVG0   A327PCT23YH90             LT                     1   \n",
       "26  27  B001GVISJM  A3RXAU2N8KV45G         lady21                     0   \n",
       "50  51  B001EO5QW8  A108P30XVUFKXY      Roberto A                     0   \n",
       "62  63  B001EO5TPM  A1E09XGZUR78C6  gary sturrock                     2   \n",
       "\n",
       "    HelpfulnessDenominator  Score        Time  \\\n",
       "3                        3      2  1307923200   \n",
       "12                       1      1  1339545600   \n",
       "26                       1      1  1332633600   \n",
       "50                       7      1  1203379200   \n",
       "62                       2      1  1215302400   \n",
       "\n",
       "                                 Summary  \\\n",
       "3                         Cough Medicine   \n",
       "12  My Cats Are Not Fans of the New Food   \n",
       "26                       Nasty No flavor   \n",
       "50                         Don't like it   \n",
       "62                        stale product.   \n",
       "\n",
       "                                                 Text  helpful_rating  \\\n",
       "3   If you are looking for the secret ingredient i...             1.0   \n",
       "12  My cats have been happily eating Felidae Plati...             1.0   \n",
       "26  The candy is just red , No flavor . Just  plan...             0.0   \n",
       "50  This oatmeal is not good. Its mushy, soft, I d...             0.0   \n",
       "62  Arrived in 6 days and were so stale i could no...             1.0   \n",
       "\n",
       "                                        ProcessedText  \n",
       "3   if you are looking for the secret ingredient i...  \n",
       "12  my have been happily eating platinum for more ...  \n",
       "26  the candy is just red no flavor just plan and ...  \n",
       "50  this oatmeal is not good its mushy soft i like...  \n",
       "62  in days and were so stale i could not eat any ...  "
      ]
     },
     "execution_count": 49,
     "metadata": {},
     "output_type": "execute_result"
    }
   ],
   "source": [
    "bad_reviews_df.head()"
   ]
  },
  {
   "cell_type": "markdown",
   "metadata": {},
   "source": [
    "It takes a long time to perform this operation so going to save it to a pickle file if I ever need to rerun but don't need to do this cleaning step."
   ]
  },
  {
   "cell_type": "code",
   "execution_count": 65,
   "metadata": {
    "execution": {
     "iopub.execute_input": "2020-11-07T19:30:06.068188Z",
     "iopub.status.busy": "2020-11-07T19:30:06.067886Z",
     "iopub.status.idle": "2020-11-07T19:30:06.388460Z",
     "shell.execute_reply": "2020-11-07T19:30:06.387567Z",
     "shell.execute_reply.started": "2020-11-07T19:30:06.068157Z"
    }
   },
   "outputs": [],
   "source": [
    "if CLEAN_DATAFRAME == 1:\n",
    "    \n",
    "    GOOD_REVIEWS_FILE = open(\"../Data/good_reviews.pkl\",\"wb\")\n",
    "    BAD_REVIEWS_FILE = open(\"../Data/bad_reviews.pkl\",\"wb\")\n",
    "    pickle.dump(good_reviews_df, GOOD_REVIEWS_FILE)\n",
    "    pickle.dump(bad_reviews_df, BAD_REVIEWS_FILE)\n",
    "    BAD_REVIEWS_FILE.close()\n",
    "    GOOD_REVIEWS_FILE.close()\n",
    "    \n",
    "else:\n",
    "    \n",
    "    GOOD_REVIEWS_FILE = open(\"../Data/good_reviews.pkl\",\"rb\")\n",
    "    BAD_REVIEWS_FILE = open(\"../Data/bad_reviews.pkl\",\"rb\")\n",
    "    good_reviews_df = pickle.load(GOOD_REVIEWS_FILE)\n",
    "    bad_reviews_df = pickle.load(BAD_REVIEWS_FILE)\n",
    "    "
   ]
  },
  {
   "cell_type": "code",
   "execution_count": 66,
   "metadata": {
    "execution": {
     "iopub.execute_input": "2020-11-07T19:30:07.609346Z",
     "iopub.status.busy": "2020-11-07T19:30:07.609158Z",
     "iopub.status.idle": "2020-11-07T19:30:07.613802Z",
     "shell.execute_reply": "2020-11-07T19:30:07.613152Z",
     "shell.execute_reply.started": "2020-11-07T19:30:07.609325Z"
    }
   },
   "outputs": [],
   "source": [
    "good_reviews_df.reset_index(inplace=True)"
   ]
  },
  {
   "cell_type": "code",
   "execution_count": 67,
   "metadata": {
    "execution": {
     "iopub.execute_input": "2020-11-07T19:30:08.711494Z",
     "iopub.status.busy": "2020-11-07T19:30:08.711234Z",
     "iopub.status.idle": "2020-11-07T19:30:08.719963Z",
     "shell.execute_reply": "2020-11-07T19:30:08.719190Z",
     "shell.execute_reply.started": "2020-11-07T19:30:08.711464Z"
    }
   },
   "outputs": [
    {
     "data": {
      "text/plain": [
       "'I have bought several of the Vitality canned dog food products and have found them all to be of good quality. The product looks more like a stew than a processed meat and it smells better. My Labrador is finicky and she appreciates this product better than  most.'"
      ]
     },
     "execution_count": 67,
     "metadata": {},
     "output_type": "execute_result"
    }
   ],
   "source": [
    "good_reviews_df.loc[0,\"Text\"]"
   ]
  },
  {
   "cell_type": "code",
   "execution_count": 68,
   "metadata": {
    "execution": {
     "iopub.execute_input": "2020-11-07T19:30:10.338264Z",
     "iopub.status.busy": "2020-11-07T19:30:10.338011Z",
     "iopub.status.idle": "2020-11-07T19:30:10.342965Z",
     "shell.execute_reply": "2020-11-07T19:30:10.342320Z",
     "shell.execute_reply.started": "2020-11-07T19:30:10.338235Z"
    }
   },
   "outputs": [
    {
     "data": {
      "text/plain": [
       "'i have bought several of the vitality canned dog food and have found them all to be of good quality the product more like a stew than a meat and it better my is and she this product better than most'"
      ]
     },
     "execution_count": 68,
     "metadata": {},
     "output_type": "execute_result"
    }
   ],
   "source": [
    "good_reviews_df.loc[0,\"ProcessedText\"]"
   ]
  },
  {
   "cell_type": "code",
   "execution_count": 69,
   "metadata": {
    "execution": {
     "iopub.execute_input": "2020-11-07T19:30:13.004725Z",
     "iopub.status.busy": "2020-11-07T19:30:13.004479Z",
     "iopub.status.idle": "2020-11-07T19:30:13.009178Z",
     "shell.execute_reply": "2020-11-07T19:30:13.008479Z",
     "shell.execute_reply.started": "2020-11-07T19:30:13.004696Z"
    }
   },
   "outputs": [],
   "source": [
    "bad_reviews_df.reset_index(inplace=True)"
   ]
  },
  {
   "cell_type": "code",
   "execution_count": 70,
   "metadata": {
    "execution": {
     "iopub.execute_input": "2020-11-07T19:30:13.894237Z",
     "iopub.status.busy": "2020-11-07T19:30:13.893932Z",
     "iopub.status.idle": "2020-11-07T19:30:13.900254Z",
     "shell.execute_reply": "2020-11-07T19:30:13.899519Z",
     "shell.execute_reply.started": "2020-11-07T19:30:13.894206Z"
    }
   },
   "outputs": [
    {
     "data": {
      "text/plain": [
       "'If you are looking for the secret ingredient in Robitussin I believe I have found it.  I got this in addition to the Root Beer Extract I ordered (which was good) and made some cherry soda.  The flavor is very medicinal.'"
      ]
     },
     "execution_count": 70,
     "metadata": {},
     "output_type": "execute_result"
    }
   ],
   "source": [
    "bad_reviews_df.loc[0,\"Text\"]"
   ]
  },
  {
   "cell_type": "code",
   "execution_count": 71,
   "metadata": {
    "execution": {
     "iopub.execute_input": "2020-11-07T19:30:15.630658Z",
     "iopub.status.busy": "2020-11-07T19:30:15.630478Z",
     "iopub.status.idle": "2020-11-07T19:30:15.635316Z",
     "shell.execute_reply": "2020-11-07T19:30:15.634606Z",
     "shell.execute_reply.started": "2020-11-07T19:30:15.630637Z"
    }
   },
   "outputs": [
    {
     "data": {
      "text/plain": [
       "'if you are looking for the secret ingredient in i believe i have found it i got this in addition to the root beer extract i ordered which was good and made some cherry soda the flavor is very medicinal'"
      ]
     },
     "execution_count": 71,
     "metadata": {},
     "output_type": "execute_result"
    }
   ],
   "source": [
    "bad_reviews_df.loc[0,\"ProcessedText\"]"
   ]
  },
  {
   "cell_type": "markdown",
   "metadata": {},
   "source": [
    "**Tokenize**"
   ]
  },
  {
   "cell_type": "code",
   "execution_count": 72,
   "metadata": {
    "execution": {
     "iopub.execute_input": "2020-11-07T19:30:51.049325Z",
     "iopub.status.busy": "2020-11-07T19:30:51.049028Z",
     "iopub.status.idle": "2020-11-07T19:30:51.053402Z",
     "shell.execute_reply": "2020-11-07T19:30:51.052535Z",
     "shell.execute_reply.started": "2020-11-07T19:30:51.049295Z"
    }
   },
   "outputs": [],
   "source": [
    "#stuff_tokenized= []\n",
    "#stuff_tokenized = [word_tokenize(review) for review in stuff]\n",
    "\n",
    "def tokenize_text(row):\n",
    "    temp_tokenized_txt = word_tokenize(row[\"ProcessedText\"])\n",
    "    return temp_tokenized_txt\n"
   ]
  },
  {
   "cell_type": "code",
   "execution_count": 73,
   "metadata": {
    "execution": {
     "iopub.execute_input": "2020-11-07T19:30:51.753716Z",
     "iopub.status.busy": "2020-11-07T19:30:51.753414Z",
     "iopub.status.idle": "2020-11-07T19:31:02.809754Z",
     "shell.execute_reply": "2020-11-07T19:31:02.808920Z",
     "shell.execute_reply.started": "2020-11-07T19:30:51.753685Z"
    }
   },
   "outputs": [
    {
     "name": "stdout",
     "output_type": "stream",
     "text": [
      "INFO: Pandarallel will run on 64 workers.\n",
      "INFO: Pandarallel will use Memory file system to transfer data between the main process and workers.\n",
      "time spent doing operation is 0:00:11.049250\n"
     ]
    }
   ],
   "source": [
    "pandarallel.initialize()\n",
    "start_time = datetime.datetime.now()\n",
    "good_reviews_df[\"ProcessedText\"] = good_reviews_df.parallel_apply(tokenize_text,axis=1)\n",
    "bad_reviews_df[\"ProcessedText\"] = bad_reviews_df.parallel_apply(tokenize_text,axis=1)\n",
    "end_time = datetime.datetime.now()\n",
    "print(\"time spent doing operation is {}\".format(end_time - start_time))"
   ]
  },
  {
   "cell_type": "code",
   "execution_count": 74,
   "metadata": {
    "execution": {
     "iopub.execute_input": "2020-11-07T19:31:15.503344Z",
     "iopub.status.busy": "2020-11-07T19:31:15.503063Z",
     "iopub.status.idle": "2020-11-07T19:31:15.509401Z",
     "shell.execute_reply": "2020-11-07T19:31:15.508727Z",
     "shell.execute_reply.started": "2020-11-07T19:31:15.503315Z"
    }
   },
   "outputs": [
    {
     "data": {
      "text/plain": [
       "['i',\n",
       " 'have',\n",
       " 'bought',\n",
       " 'several',\n",
       " 'of',\n",
       " 'the',\n",
       " 'vitality',\n",
       " 'canned',\n",
       " 'dog',\n",
       " 'food',\n",
       " 'and',\n",
       " 'have',\n",
       " 'found',\n",
       " 'them',\n",
       " 'all',\n",
       " 'to',\n",
       " 'be',\n",
       " 'of',\n",
       " 'good',\n",
       " 'quality',\n",
       " 'the',\n",
       " 'product',\n",
       " 'more',\n",
       " 'like',\n",
       " 'a',\n",
       " 'stew',\n",
       " 'than',\n",
       " 'a',\n",
       " 'meat',\n",
       " 'and',\n",
       " 'it',\n",
       " 'better',\n",
       " 'my',\n",
       " 'is',\n",
       " 'and',\n",
       " 'she',\n",
       " 'this',\n",
       " 'product',\n",
       " 'better',\n",
       " 'than',\n",
       " 'most']"
      ]
     },
     "execution_count": 74,
     "metadata": {},
     "output_type": "execute_result"
    }
   ],
   "source": [
    "good_reviews_df.loc[0,\"ProcessedText\"]"
   ]
  },
  {
   "cell_type": "code",
   "execution_count": 75,
   "metadata": {
    "execution": {
     "iopub.execute_input": "2020-11-07T19:31:19.060088Z",
     "iopub.status.busy": "2020-11-07T19:31:19.059815Z",
     "iopub.status.idle": "2020-11-07T19:31:19.065849Z",
     "shell.execute_reply": "2020-11-07T19:31:19.065127Z",
     "shell.execute_reply.started": "2020-11-07T19:31:19.060058Z"
    }
   },
   "outputs": [
    {
     "data": {
      "text/plain": [
       "['if',\n",
       " 'you',\n",
       " 'are',\n",
       " 'looking',\n",
       " 'for',\n",
       " 'the',\n",
       " 'secret',\n",
       " 'ingredient',\n",
       " 'in',\n",
       " 'i',\n",
       " 'believe',\n",
       " 'i',\n",
       " 'have',\n",
       " 'found',\n",
       " 'it',\n",
       " 'i',\n",
       " 'got',\n",
       " 'this',\n",
       " 'in',\n",
       " 'addition',\n",
       " 'to',\n",
       " 'the',\n",
       " 'root',\n",
       " 'beer',\n",
       " 'extract',\n",
       " 'i',\n",
       " 'ordered',\n",
       " 'which',\n",
       " 'was',\n",
       " 'good',\n",
       " 'and',\n",
       " 'made',\n",
       " 'some',\n",
       " 'cherry',\n",
       " 'soda',\n",
       " 'the',\n",
       " 'flavor',\n",
       " 'is',\n",
       " 'very',\n",
       " 'medicinal']"
      ]
     },
     "execution_count": 75,
     "metadata": {},
     "output_type": "execute_result"
    }
   ],
   "source": [
    "bad_reviews_df.loc[0,\"ProcessedText\"]"
   ]
  },
  {
   "cell_type": "code",
   "execution_count": 76,
   "metadata": {
    "execution": {
     "iopub.execute_input": "2020-11-07T19:31:28.261484Z",
     "iopub.status.busy": "2020-11-07T19:31:28.261211Z",
     "iopub.status.idle": "2020-11-07T19:31:28.264531Z",
     "shell.execute_reply": "2020-11-07T19:31:28.263787Z",
     "shell.execute_reply.started": "2020-11-07T19:31:28.261455Z"
    }
   },
   "outputs": [],
   "source": [
    "#for i,item in enumerate(stuff_tokenized):\n",
    "#    if i == 10:\n",
    "#        break\n",
    "#    print(i,\"-->\",item,\"\\n\")"
   ]
  },
  {
   "cell_type": "code",
   "execution_count": 77,
   "metadata": {
    "execution": {
     "iopub.execute_input": "2020-11-07T19:31:29.121078Z",
     "iopub.status.busy": "2020-11-07T19:31:29.120805Z",
     "iopub.status.idle": "2020-11-07T19:31:29.124436Z",
     "shell.execute_reply": "2020-11-07T19:31:29.123735Z",
     "shell.execute_reply.started": "2020-11-07T19:31:29.121049Z"
    }
   },
   "outputs": [],
   "source": [
    "wordNetLemmatizer = WordNetLemmatizer()"
   ]
  },
  {
   "cell_type": "code",
   "execution_count": 78,
   "metadata": {
    "execution": {
     "iopub.execute_input": "2020-11-07T19:31:35.040409Z",
     "iopub.status.busy": "2020-11-07T19:31:35.040134Z",
     "iopub.status.idle": "2020-11-07T19:31:35.044850Z",
     "shell.execute_reply": "2020-11-07T19:31:35.044198Z",
     "shell.execute_reply.started": "2020-11-07T19:31:35.040380Z"
    }
   },
   "outputs": [],
   "source": [
    "#lemmatize each word in stuff\n",
    "def calc_partofspeech(raw_pos):\n",
    "    \"\"\"translates from POS generated by pos_tag() to a POS encoding that WordNetLemmatizer.lemmatize() understands\"\"\"\n",
    "    #print(\"word = \",word)\n",
    "    #[(output_word, output_pos)] = pos_tag(word_tokenize(word))\n",
    "    \n",
    "    #decode output_pos to the pos required by the lemmatizer\n",
    "    \n",
    "    if \"JJ\" in raw_pos:\n",
    "        pos = \"a\"\n",
    "    elif \"RB\" in raw_pos:\n",
    "        pos = \"r\"\n",
    "    elif \"VB\" in raw_pos:\n",
    "        pos = \"v\"\n",
    "    else:\n",
    "        pos = \"n\"\n",
    "    \n",
    "    return pos\n",
    "\n",
    "\n"
   ]
  },
  {
   "cell_type": "code",
   "execution_count": 79,
   "metadata": {
    "execution": {
     "iopub.execute_input": "2020-11-07T19:31:37.662242Z",
     "iopub.status.busy": "2020-11-07T19:31:37.661965Z",
     "iopub.status.idle": "2020-11-07T19:31:37.665126Z",
     "shell.execute_reply": "2020-11-07T19:31:37.664455Z",
     "shell.execute_reply.started": "2020-11-07T19:31:37.662213Z"
    }
   },
   "outputs": [],
   "source": [
    "#for i,item in enumerate(stuff):\n",
    "#   if i == 10:\n",
    "#        break\n",
    "#   print(i,\"-->\",item,\"\\n\")"
   ]
  },
  {
   "cell_type": "code",
   "execution_count": 80,
   "metadata": {
    "execution": {
     "iopub.execute_input": "2020-11-07T19:31:38.398285Z",
     "iopub.status.busy": "2020-11-07T19:31:38.398011Z",
     "iopub.status.idle": "2020-11-07T19:31:38.401186Z",
     "shell.execute_reply": "2020-11-07T19:31:38.400514Z",
     "shell.execute_reply.started": "2020-11-07T19:31:38.398256Z"
    }
   },
   "outputs": [],
   "source": [
    "#stuff_tokenized[0]"
   ]
  },
  {
   "cell_type": "code",
   "execution_count": 81,
   "metadata": {
    "execution": {
     "iopub.execute_input": "2020-11-07T19:31:39.240971Z",
     "iopub.status.busy": "2020-11-07T19:31:39.240693Z",
     "iopub.status.idle": "2020-11-07T19:31:39.245427Z",
     "shell.execute_reply": "2020-11-07T19:31:39.244728Z",
     "shell.execute_reply.started": "2020-11-07T19:31:39.240941Z"
    }
   },
   "outputs": [],
   "source": [
    "def lemmatize_it(row):\n",
    "    \n",
    "    pos_result = pos_tag(row[\"ProcessedText\"])\n",
    "    \n",
    "    temp_mydoc_lemmatized = []\n",
    "    \n",
    "    for myword,myPOS in pos_result:\n",
    "        temp_word_lemmatized = wordNetLemmatizer.lemmatize(myword,calc_partofspeech(myPOS))\n",
    "        temp_mydoc_lemmatized.append(temp_word_lemmatized)\n",
    "    \n",
    "    return temp_mydoc_lemmatized\n",
    "        \n"
   ]
  },
  {
   "cell_type": "code",
   "execution_count": 82,
   "metadata": {
    "execution": {
     "iopub.execute_input": "2020-11-07T19:32:11.928752Z",
     "iopub.status.busy": "2020-11-07T19:32:11.928479Z",
     "iopub.status.idle": "2020-11-07T19:33:17.620887Z",
     "shell.execute_reply": "2020-11-07T19:33:17.619918Z",
     "shell.execute_reply.started": "2020-11-07T19:32:11.928723Z"
    }
   },
   "outputs": [
    {
     "name": "stdout",
     "output_type": "stream",
     "text": [
      "INFO: Pandarallel will run on 64 workers.\n",
      "INFO: Pandarallel will use Memory file system to transfer data between the main process and workers.\n",
      "time spent doing operation is 0:01:05.685067\n"
     ]
    }
   ],
   "source": [
    "pandarallel.initialize()\n",
    "start_time = datetime.datetime.now()\n",
    "good_reviews_df[\"ProcessedText\"] = good_reviews_df.parallel_apply(lemmatize_it,axis=1)\n",
    "bad_reviews_df[\"ProcessedText\"] = bad_reviews_df.parallel_apply(lemmatize_it,axis=1)\n",
    "end_time = datetime.datetime.now()\n",
    "print(\"time spent doing operation is {}\".format(end_time - start_time))"
   ]
  },
  {
   "cell_type": "markdown",
   "metadata": {},
   "source": [
    "lemmatizing to cut down on the size of the dimensions of the eventual vectorized word matrix without losing meaning of the text"
   ]
  },
  {
   "cell_type": "code",
   "execution_count": 83,
   "metadata": {
    "execution": {
     "iopub.execute_input": "2020-11-07T19:34:01.795427Z",
     "iopub.status.busy": "2020-11-07T19:34:01.795141Z",
     "iopub.status.idle": "2020-11-07T19:34:01.802394Z",
     "shell.execute_reply": "2020-11-07T19:34:01.801670Z",
     "shell.execute_reply.started": "2020-11-07T19:34:01.795397Z"
    }
   },
   "outputs": [
    {
     "data": {
      "text/plain": [
       "['i',\n",
       " 'have',\n",
       " 'buy',\n",
       " 'several',\n",
       " 'of',\n",
       " 'the',\n",
       " 'vitality',\n",
       " 'can',\n",
       " 'dog',\n",
       " 'food',\n",
       " 'and',\n",
       " 'have',\n",
       " 'find',\n",
       " 'them',\n",
       " 'all',\n",
       " 'to',\n",
       " 'be',\n",
       " 'of',\n",
       " 'good',\n",
       " 'quality',\n",
       " 'the',\n",
       " 'product',\n",
       " 'more',\n",
       " 'like',\n",
       " 'a',\n",
       " 'stew',\n",
       " 'than',\n",
       " 'a',\n",
       " 'meat',\n",
       " 'and',\n",
       " 'it',\n",
       " 'good',\n",
       " 'my',\n",
       " 'be',\n",
       " 'and',\n",
       " 'she',\n",
       " 'this',\n",
       " 'product',\n",
       " 'good',\n",
       " 'than',\n",
       " 'most']"
      ]
     },
     "execution_count": 83,
     "metadata": {},
     "output_type": "execute_result"
    }
   ],
   "source": [
    "good_reviews_df.loc[0,\"ProcessedText\"] "
   ]
  },
  {
   "cell_type": "code",
   "execution_count": 84,
   "metadata": {
    "execution": {
     "iopub.execute_input": "2020-11-07T19:34:06.067217Z",
     "iopub.status.busy": "2020-11-07T19:34:06.066947Z",
     "iopub.status.idle": "2020-11-07T19:34:06.073837Z",
     "shell.execute_reply": "2020-11-07T19:34:06.072957Z",
     "shell.execute_reply.started": "2020-11-07T19:34:06.067188Z"
    }
   },
   "outputs": [
    {
     "data": {
      "text/plain": [
       "['if',\n",
       " 'you',\n",
       " 'be',\n",
       " 'look',\n",
       " 'for',\n",
       " 'the',\n",
       " 'secret',\n",
       " 'ingredient',\n",
       " 'in',\n",
       " 'i',\n",
       " 'believe',\n",
       " 'i',\n",
       " 'have',\n",
       " 'find',\n",
       " 'it',\n",
       " 'i',\n",
       " 'get',\n",
       " 'this',\n",
       " 'in',\n",
       " 'addition',\n",
       " 'to',\n",
       " 'the',\n",
       " 'root',\n",
       " 'beer',\n",
       " 'extract',\n",
       " 'i',\n",
       " 'order',\n",
       " 'which',\n",
       " 'be',\n",
       " 'good',\n",
       " 'and',\n",
       " 'make',\n",
       " 'some',\n",
       " 'cherry',\n",
       " 'soda',\n",
       " 'the',\n",
       " 'flavor',\n",
       " 'be',\n",
       " 'very',\n",
       " 'medicinal']"
      ]
     },
     "execution_count": 84,
     "metadata": {},
     "output_type": "execute_result"
    }
   ],
   "source": [
    "bad_reviews_df.loc[0,\"ProcessedText\"] "
   ]
  },
  {
   "cell_type": "code",
   "execution_count": null,
   "metadata": {},
   "outputs": [],
   "source": [
    "#Test code doesn't need to be run\n",
    "#myword = \"running\"\n",
    "#myword_lemmed = wordNetLemmatizer.lemmatize(myword,calc_partofspeech(myword))\n",
    "#myword_lemmed = wordNetLemmatizer.lemmatize(myword,\"v\")\n",
    "\n",
    "#print(\"myword_lemmed = \",myword_lemmed)\n",
    "#print(\"POS for myword = \",calc_partofspeech(myword))"
   ]
  },
  {
   "cell_type": "code",
   "execution_count": null,
   "metadata": {},
   "outputs": [],
   "source": [
    "#stuff_lemmatized[0]"
   ]
  },
  {
   "cell_type": "code",
   "execution_count": null,
   "metadata": {},
   "outputs": [],
   "source": [
    "# I only want adjectives and adverbs sent to the vectorizer\n",
    "#stuff_pos_filtered = [mylemword for mylemdoc in stuff_lemmatized for mylemword in mylemdoc if (\"JJ\" in pos_tag(word_tokenize(mylemword))[0][1]) or (\"RB\" in pos_tag(word_tokenize(mylemword))[0][1])]"
   ]
  },
  {
   "cell_type": "code",
   "execution_count": null,
   "metadata": {},
   "outputs": [],
   "source": [
    "#stuff_pos_filtered[6]"
   ]
  },
  {
   "cell_type": "code",
   "execution_count": null,
   "metadata": {},
   "outputs": [],
   "source": [
    "# I only want adjectives and adverbs sent to the vectorizer\n",
    "\n",
    "def filter_pos(row,pos_abbrev=[\"JJ\"]):\n",
    "    \"\"\"\n",
    "    takes as input the following\n",
    "    processes the \"ProcessedText\" column of a review data frame (see definition above)\n",
    "    pos_abbrev = list of NLTK pos_tag() output parts of speech codes abbreviated to the first two characters\n",
    "    \n",
    "    \"\"\"\n",
    "#    print(\"pos_abbrev = \",pos_abbrev)\n",
    "\n",
    "    \n",
    "    if type(pos_abbrev) != type([]):\n",
    "        print(\"post_abbrev must be a list of POS codes (1st 2 characters of the code only)\")\n",
    "        return 1\n",
    "    \n",
    "    temp_pos_filtered_doc = \"\"\n",
    "    \n",
    "    #pos_tag() works better if you pass the entire document to it as a tokenized list\n",
    "    #it must be doing some sequence modeling under the hood to get the context of words so that it can\n",
    "    #better ID parts of speech\n",
    "        \n",
    "    pos_result = pos_tag(row[\"ProcessedText\"])\n",
    "    \n",
    "    for result_word, result_pos in pos_result:\n",
    "        #print(\"tokenized word = \", word_tokenize(mylemword))\n",
    "        #print(\"tokenized word pos = \", pos_tag(word_tokenize(mylemword))[0][1])\n",
    "        \n",
    "        for mypos in pos_abbrev:\n",
    "            if (mypos in result_pos) :\n",
    "                temp_pos_filtered_doc = temp_pos_filtered_doc + result_word + \" \"\n",
    "            \n",
    "    \n",
    "    return temp_pos_filtered_doc.rstrip()\n"
   ]
  },
  {
   "cell_type": "markdown",
   "metadata": {},
   "source": [
    "This cell edits each review removing all words except adjectives and adverbs"
   ]
  },
  {
   "cell_type": "markdown",
   "metadata": {},
   "source": [
    "Thoughts on removing adjectives: (TODO expand on it). Turns out just focusing on the adjectives makes the topics generated by LDA _less_ interpretable. So will be including the entire review in the LDA analysis. So now just running `join()` on the tokenized reviews."
   ]
  },
  {
   "cell_type": "code",
   "execution_count": 85,
   "metadata": {
    "execution": {
     "iopub.execute_input": "2020-11-07T19:36:27.433734Z",
     "iopub.status.busy": "2020-11-07T19:36:27.433416Z",
     "iopub.status.idle": "2020-11-07T19:36:47.182401Z",
     "shell.execute_reply": "2020-11-07T19:36:47.181801Z",
     "shell.execute_reply.started": "2020-11-07T19:36:27.433706Z"
    }
   },
   "outputs": [
    {
     "name": "stdout",
     "output_type": "stream",
     "text": [
      "INFO: Pandarallel will run on 64 workers.\n",
      "INFO: Pandarallel will use Memory file system to transfer data between the main process and workers.\n",
      "time spent doing operation is 0:00:19.741844\n"
     ]
    }
   ],
   "source": [
    "#stuff_pos_filtered = filter_pos(stuff_lemmatized,pos_abbrev=[\"JJ\",\"RB\"])\n",
    "#stuff_pos_filtered\n",
    "#stuff_pos_filtered = stuff_pos_filtered + filter_pos(stuff_lemmatized,\"RB\")\n",
    "\n",
    "#Not doing this to see how LDA works when it's given all of the words of  each reive.\n",
    "#pandarallel.initialize()\n",
    "#start_time = datetime.datetime.now()\n",
    "#good_reviews_df[\"ProcessedText\"] = good_reviews_df.parallel_apply(filter_pos,axis=1,pos_abbrev=[\"JJ\",\"RB\"])\n",
    "#end_time = datetime.datetime.now()\n",
    "#print(\"time spent doing operation is {}\".format(end_time - start_time))\n",
    "\n",
    "pandarallel.initialize()\n",
    "start_time = datetime.datetime.now()\n",
    "good_reviews_df[\"ProcessedText\"] = good_reviews_df.parallel_apply(lambda x : \" \".join(x[\"ProcessedText\"]),axis=1)\n",
    "bad_reviews_df[\"ProcessedText\"] = bad_reviews_df.parallel_apply(lambda x : \" \".join(x[\"ProcessedText\"]),axis=1)\n",
    "end_time = datetime.datetime.now()\n",
    "print(\"time spent doing operation is {}\".format(end_time - start_time))\n",
    "\n"
   ]
  },
  {
   "cell_type": "code",
   "execution_count": 86,
   "metadata": {
    "execution": {
     "iopub.execute_input": "2020-11-07T19:36:55.713731Z",
     "iopub.status.busy": "2020-11-07T19:36:55.713456Z",
     "iopub.status.idle": "2020-11-07T19:36:55.718207Z",
     "shell.execute_reply": "2020-11-07T19:36:55.717677Z",
     "shell.execute_reply.started": "2020-11-07T19:36:55.713704Z"
    }
   },
   "outputs": [
    {
     "data": {
      "text/plain": [
       "'i have buy several of the vitality can dog food and have find them all to be of good quality the product more like a stew than a meat and it good my be and she this product good than most'"
      ]
     },
     "execution_count": 86,
     "metadata": {},
     "output_type": "execute_result"
    }
   ],
   "source": [
    "good_reviews_df.loc[0,\"ProcessedText\"]"
   ]
  },
  {
   "cell_type": "code",
   "execution_count": 87,
   "metadata": {
    "execution": {
     "iopub.execute_input": "2020-11-07T19:36:57.417144Z",
     "iopub.status.busy": "2020-11-07T19:36:57.416867Z",
     "iopub.status.idle": "2020-11-07T19:36:57.421334Z",
     "shell.execute_reply": "2020-11-07T19:36:57.420806Z",
     "shell.execute_reply.started": "2020-11-07T19:36:57.417112Z"
    }
   },
   "outputs": [
    {
     "data": {
      "text/plain": [
       "'if you be look for the secret ingredient in i believe i have find it i get this in addition to the root beer extract i order which be good and make some cherry soda the flavor be very medicinal'"
      ]
     },
     "execution_count": 87,
     "metadata": {},
     "output_type": "execute_result"
    }
   ],
   "source": [
    "bad_reviews_df.loc[0,\"ProcessedText\"]"
   ]
  },
  {
   "cell_type": "code",
   "execution_count": null,
   "metadata": {},
   "outputs": [],
   "source": [
    "#stuff_lemmatized[0]"
   ]
  },
  {
   "cell_type": "code",
   "execution_count": null,
   "metadata": {},
   "outputs": [],
   "source": [
    "#stuff_nouns = filter_pos(stuff_lemmatized,pos_abbrev=[\"NN\"])"
   ]
  },
  {
   "cell_type": "code",
   "execution_count": null,
   "metadata": {},
   "outputs": [],
   "source": [
    "#stuff_nouns[0:3]"
   ]
  },
  {
   "cell_type": "code",
   "execution_count": null,
   "metadata": {},
   "outputs": [],
   "source": [
    "#stuff_pos_filtered[0:5]"
   ]
  },
  {
   "cell_type": "code",
   "execution_count": null,
   "metadata": {},
   "outputs": [],
   "source": [
    "#len(stuff_pos_filtered)"
   ]
  },
  {
   "cell_type": "markdown",
   "metadata": {},
   "source": [
    "Final shape of bad and good reviews dataframes"
   ]
  },
  {
   "cell_type": "code",
   "execution_count": 89,
   "metadata": {
    "execution": {
     "iopub.execute_input": "2020-11-07T19:37:54.248125Z",
     "iopub.status.busy": "2020-11-07T19:37:54.247848Z",
     "iopub.status.idle": "2020-11-07T19:37:54.252038Z",
     "shell.execute_reply": "2020-11-07T19:37:54.251508Z",
     "shell.execute_reply.started": "2020-11-07T19:37:54.248096Z"
    }
   },
   "outputs": [
    {
     "data": {
      "text/plain": [
       "(152586, 13)"
      ]
     },
     "execution_count": 89,
     "metadata": {},
     "output_type": "execute_result"
    }
   ],
   "source": [
    "good_reviews_df.shape"
   ]
  },
  {
   "cell_type": "code",
   "execution_count": 88,
   "metadata": {
    "execution": {
     "iopub.execute_input": "2020-11-07T19:37:49.964151Z",
     "iopub.status.busy": "2020-11-07T19:37:49.963873Z",
     "iopub.status.idle": "2020-11-07T19:37:49.968214Z",
     "shell.execute_reply": "2020-11-07T19:37:49.967678Z",
     "shell.execute_reply.started": "2020-11-07T19:37:49.964122Z"
    }
   },
   "outputs": [
    {
     "data": {
      "text/plain": [
       "(40420, 13)"
      ]
     },
     "execution_count": 88,
     "metadata": {},
     "output_type": "execute_result"
    }
   ],
   "source": [
    "bad_reviews_df.shape"
   ]
  },
  {
   "cell_type": "markdown",
   "metadata": {},
   "source": [
    "(TODO Think through the math and come up with a way to include the \"3\" reviews into the analysis in a way that improves the results or bottom out to a good mathematical rationale on why excluding them is the best approach)"
   ]
  },
  {
   "cell_type": "markdown",
   "metadata": {},
   "source": [
    "## Word Vectorization / Parsing\n",
    "\n",
    "Will do the following here:\n",
    "\n",
    "```\n",
    "\n",
    "(lemmatized text)-->[WordVectorization(dropping stop word)] --> [POS tagging] --> [collect Adjectives]\n",
    "\n",
    "\n",
    "```\n"
   ]
  },
  {
   "cell_type": "code",
   "execution_count": 126,
   "metadata": {
    "execution": {
     "iopub.execute_input": "2020-11-07T21:08:33.982090Z",
     "iopub.status.busy": "2020-11-07T21:08:33.981796Z",
     "iopub.status.idle": "2020-11-07T21:08:47.391260Z",
     "shell.execute_reply": "2020-11-07T21:08:47.390472Z",
     "shell.execute_reply.started": "2020-11-07T21:08:33.982060Z"
    }
   },
   "outputs": [],
   "source": [
    "vectorizer_gr = CountVectorizer(stop_words=\"english\")\n",
    "docTermMatrixCountVecGR = vectorizer_gr.fit_transform(good_reviews_df[\"ProcessedText\"])\n",
    "\n",
    "tfidfvectorizer_gr = TfidfVectorizer(stop_words='english')\n",
    "docTermMatrixTFIDFGR = tfidfvectorizer_gr.fit_transform(good_reviews_df[\"ProcessedText\"])\n"
   ]
  },
  {
   "cell_type": "code",
   "execution_count": 127,
   "metadata": {
    "execution": {
     "iopub.execute_input": "2020-11-07T21:08:47.392828Z",
     "iopub.status.busy": "2020-11-07T21:08:47.392539Z",
     "iopub.status.idle": "2020-11-07T21:08:51.061960Z",
     "shell.execute_reply": "2020-11-07T21:08:51.061021Z",
     "shell.execute_reply.started": "2020-11-07T21:08:47.392797Z"
    }
   },
   "outputs": [],
   "source": [
    "vectorizer_br = CountVectorizer(stop_words=\"english\")\n",
    "docTermMatrixCountVecBR = vectorizer_br.fit_transform(bad_reviews_df[\"ProcessedText\"])\n",
    "\n",
    "tfidfvectorizer_br = TfidfVectorizer(stop_words='english')\n",
    "docTermMatrixTFIDFBR = tfidfvectorizer_br.fit_transform(bad_reviews_df[\"ProcessedText\"])"
   ]
  },
  {
   "cell_type": "code",
   "execution_count": 92,
   "metadata": {
    "execution": {
     "iopub.execute_input": "2020-11-07T19:51:25.304859Z",
     "iopub.status.busy": "2020-11-07T19:51:25.304600Z",
     "iopub.status.idle": "2020-11-07T19:51:25.321161Z",
     "shell.execute_reply": "2020-11-07T19:51:25.320443Z",
     "shell.execute_reply.started": "2020-11-07T19:51:25.304830Z"
    }
   },
   "outputs": [
    {
     "data": {
      "text/plain": [
       "21926"
      ]
     },
     "execution_count": 92,
     "metadata": {},
     "output_type": "execute_result"
    }
   ],
   "source": [
    "len(vectorizer_gr.get_feature_names())"
   ]
  },
  {
   "cell_type": "code",
   "execution_count": 123,
   "metadata": {
    "execution": {
     "iopub.execute_input": "2020-11-07T21:05:41.479225Z",
     "iopub.status.busy": "2020-11-07T21:05:41.478931Z",
     "iopub.status.idle": "2020-11-07T21:05:41.483388Z",
     "shell.execute_reply": "2020-11-07T21:05:41.482858Z",
     "shell.execute_reply.started": "2020-11-07T21:05:41.479195Z"
    }
   },
   "outputs": [
    {
     "data": {
      "text/plain": [
       "(40420, 15183)"
      ]
     },
     "execution_count": 123,
     "metadata": {},
     "output_type": "execute_result"
    }
   ],
   "source": [
    "docTermMatrixTFIDFBR.shape"
   ]
  },
  {
   "cell_type": "code",
   "execution_count": 128,
   "metadata": {
    "execution": {
     "iopub.execute_input": "2020-11-07T21:08:51.063480Z",
     "iopub.status.busy": "2020-11-07T21:08:51.063302Z",
     "iopub.status.idle": "2020-11-07T21:08:51.068043Z",
     "shell.execute_reply": "2020-11-07T21:08:51.067278Z",
     "shell.execute_reply.started": "2020-11-07T21:08:51.063458Z"
    }
   },
   "outputs": [
    {
     "data": {
      "text/plain": [
       "(152586, 21926)"
      ]
     },
     "execution_count": 128,
     "metadata": {},
     "output_type": "execute_result"
    }
   ],
   "source": [
    "docTermMatrixTFIDFGR.shape"
   ]
  },
  {
   "cell_type": "code",
   "execution_count": 93,
   "metadata": {
    "execution": {
     "iopub.execute_input": "2020-11-07T19:51:30.973267Z",
     "iopub.status.busy": "2020-11-07T19:51:30.973001Z",
     "iopub.status.idle": "2020-11-07T19:51:30.987934Z",
     "shell.execute_reply": "2020-11-07T19:51:30.987031Z",
     "shell.execute_reply.started": "2020-11-07T19:51:30.973239Z"
    }
   },
   "outputs": [
    {
     "data": {
      "text/plain": [
       "15183"
      ]
     },
     "execution_count": 93,
     "metadata": {},
     "output_type": "execute_result"
    }
   ],
   "source": [
    "len(vectorizer_br.get_feature_names())"
   ]
  },
  {
   "cell_type": "code",
   "execution_count": 94,
   "metadata": {
    "execution": {
     "iopub.execute_input": "2020-11-07T19:51:36.152573Z",
     "iopub.status.busy": "2020-11-07T19:51:36.152311Z",
     "iopub.status.idle": "2020-11-07T19:51:38.618315Z",
     "shell.execute_reply": "2020-11-07T19:51:38.617509Z",
     "shell.execute_reply.started": "2020-11-07T19:51:36.152544Z"
    }
   },
   "outputs": [
    {
     "data": {
      "text/plain": [
       "array([[0, 0, 0, ..., 0, 0, 0],\n",
       "       [0, 0, 0, ..., 0, 0, 0],\n",
       "       [0, 0, 0, ..., 0, 0, 0],\n",
       "       ...,\n",
       "       [0, 0, 0, ..., 0, 0, 0],\n",
       "       [0, 0, 0, ..., 0, 0, 0],\n",
       "       [0, 0, 0, ..., 0, 0, 0]])"
      ]
     },
     "execution_count": 94,
     "metadata": {},
     "output_type": "execute_result"
    }
   ],
   "source": [
    "docTermMatrixCountVecGR.toarray()"
   ]
  },
  {
   "cell_type": "code",
   "execution_count": 95,
   "metadata": {
    "execution": {
     "iopub.execute_input": "2020-11-07T19:51:38.619912Z",
     "iopub.status.busy": "2020-11-07T19:51:38.619659Z",
     "iopub.status.idle": "2020-11-07T19:51:38.624265Z",
     "shell.execute_reply": "2020-11-07T19:51:38.623527Z",
     "shell.execute_reply.started": "2020-11-07T19:51:38.619881Z"
    }
   },
   "outputs": [
    {
     "data": {
      "text/plain": [
       "(152586, 21926)"
      ]
     },
     "execution_count": 95,
     "metadata": {},
     "output_type": "execute_result"
    }
   ],
   "source": [
    "docTermMatrixCountVecGR.shape"
   ]
  },
  {
   "cell_type": "code",
   "execution_count": 96,
   "metadata": {
    "execution": {
     "iopub.execute_input": "2020-11-07T19:51:44.123875Z",
     "iopub.status.busy": "2020-11-07T19:51:44.123607Z",
     "iopub.status.idle": "2020-11-07T19:51:44.698069Z",
     "shell.execute_reply": "2020-11-07T19:51:44.697306Z",
     "shell.execute_reply.started": "2020-11-07T19:51:44.123845Z"
    }
   },
   "outputs": [
    {
     "data": {
      "text/plain": [
       "array([[0, 0, 0, ..., 0, 0, 0],\n",
       "       [0, 0, 0, ..., 0, 0, 0],\n",
       "       [0, 0, 0, ..., 0, 0, 0],\n",
       "       ...,\n",
       "       [0, 0, 0, ..., 0, 0, 0],\n",
       "       [0, 0, 0, ..., 0, 0, 0],\n",
       "       [0, 0, 0, ..., 0, 0, 0]])"
      ]
     },
     "execution_count": 96,
     "metadata": {},
     "output_type": "execute_result"
    }
   ],
   "source": [
    "docTermMatrixCountVecBR.toarray()"
   ]
  },
  {
   "cell_type": "code",
   "execution_count": 97,
   "metadata": {
    "execution": {
     "iopub.execute_input": "2020-11-07T19:51:44.699471Z",
     "iopub.status.busy": "2020-11-07T19:51:44.699232Z",
     "iopub.status.idle": "2020-11-07T19:51:44.703772Z",
     "shell.execute_reply": "2020-11-07T19:51:44.703034Z",
     "shell.execute_reply.started": "2020-11-07T19:51:44.699431Z"
    }
   },
   "outputs": [
    {
     "data": {
      "text/plain": [
       "(40420, 15183)"
      ]
     },
     "execution_count": 97,
     "metadata": {},
     "output_type": "execute_result"
    }
   ],
   "source": [
    "docTermMatrixCountVecBR.shape"
   ]
  },
  {
   "cell_type": "code",
   "execution_count": 131,
   "metadata": {
    "execution": {
     "iopub.execute_input": "2020-11-08T01:20:54.252719Z",
     "iopub.status.busy": "2020-11-08T01:20:54.252455Z",
     "iopub.status.idle": "2020-11-08T01:20:57.556104Z",
     "shell.execute_reply": "2020-11-08T01:20:57.555468Z",
     "shell.execute_reply.started": "2020-11-08T01:20:54.252690Z"
    }
   },
   "outputs": [],
   "source": [
    "docTermMatrixTFIDFGR_df = pd.DataFrame(\n",
    "    docTermMatrixTFIDFGR.toarray(),\n",
    "    index=good_reviews_df[\"ProcessedText\"],\n",
    "    columns=tfidfvectorizer_gr.get_feature_names()\n",
    ")"
   ]
  },
  {
   "cell_type": "code",
   "execution_count": 132,
   "metadata": {
    "execution": {
     "iopub.execute_input": "2020-11-08T01:20:57.940012Z",
     "iopub.status.busy": "2020-11-08T01:20:57.939698Z",
     "iopub.status.idle": "2020-11-08T01:20:57.965464Z",
     "shell.execute_reply": "2020-11-08T01:20:57.964878Z",
     "shell.execute_reply.started": "2020-11-08T01:20:57.939980Z"
    }
   },
   "outputs": [
    {
     "data": {
      "text/html": [
       "<div>\n",
       "<style scoped>\n",
       "    .dataframe tbody tr th:only-of-type {\n",
       "        vertical-align: middle;\n",
       "    }\n",
       "\n",
       "    .dataframe tbody tr th {\n",
       "        vertical-align: top;\n",
       "    }\n",
       "\n",
       "    .dataframe thead th {\n",
       "        text-align: right;\n",
       "    }\n",
       "</style>\n",
       "<table border=\"1\" class=\"dataframe\">\n",
       "  <thead>\n",
       "    <tr style=\"text-align: right;\">\n",
       "      <th></th>\n",
       "      <th>aa</th>\n",
       "      <th>aardvark</th>\n",
       "      <th>aback</th>\n",
       "      <th>abandon</th>\n",
       "      <th>abandoned</th>\n",
       "      <th>abb</th>\n",
       "      <th>abbey</th>\n",
       "      <th>abbot</th>\n",
       "      <th>abbreviation</th>\n",
       "      <th>abdomen</th>\n",
       "      <th>...</th>\n",
       "      <th>zodiac</th>\n",
       "      <th>zombie</th>\n",
       "      <th>zone</th>\n",
       "      <th>zoo</th>\n",
       "      <th>zoom</th>\n",
       "      <th>zooplankton</th>\n",
       "      <th>zoster</th>\n",
       "      <th>zowie</th>\n",
       "      <th>zucchini</th>\n",
       "      <th>zwieback</th>\n",
       "    </tr>\n",
       "    <tr>\n",
       "      <th>ProcessedText</th>\n",
       "      <th></th>\n",
       "      <th></th>\n",
       "      <th></th>\n",
       "      <th></th>\n",
       "      <th></th>\n",
       "      <th></th>\n",
       "      <th></th>\n",
       "      <th></th>\n",
       "      <th></th>\n",
       "      <th></th>\n",
       "      <th></th>\n",
       "      <th></th>\n",
       "      <th></th>\n",
       "      <th></th>\n",
       "      <th></th>\n",
       "      <th></th>\n",
       "      <th></th>\n",
       "      <th></th>\n",
       "      <th></th>\n",
       "      <th></th>\n",
       "      <th></th>\n",
       "    </tr>\n",
       "  </thead>\n",
       "  <tbody>\n",
       "    <tr>\n",
       "      <th>i have buy several of the vitality can dog food and have find them all to be of good quality the product more like a stew than a meat and it good my be and she this product good than most</th>\n",
       "      <td>0.0</td>\n",
       "      <td>0.0</td>\n",
       "      <td>0.0</td>\n",
       "      <td>0.0</td>\n",
       "      <td>0.0</td>\n",
       "      <td>0.0</td>\n",
       "      <td>0.0</td>\n",
       "      <td>0.0</td>\n",
       "      <td>0.0</td>\n",
       "      <td>0.0</td>\n",
       "      <td>...</td>\n",
       "      <td>0.0</td>\n",
       "      <td>0.0</td>\n",
       "      <td>0.0</td>\n",
       "      <td>0.0</td>\n",
       "      <td>0.0</td>\n",
       "      <td>0.0</td>\n",
       "      <td>0.0</td>\n",
       "      <td>0.0</td>\n",
       "      <td>0.0</td>\n",
       "      <td>0.0</td>\n",
       "    </tr>\n",
       "    <tr>\n",
       "      <th>this be a confection that be around a few it be a light pillowy citrus gelatin with in this case and it be cut into tiny and then liberally coat with powdered sugar and it be a tiny mouthful of heaven not too chewy and very flavorful i highly recommend this yummy treat if you be familiar with the story of lion the witch and the this be the treat that into sell out his brother and to the witch</th>\n",
       "      <td>0.0</td>\n",
       "      <td>0.0</td>\n",
       "      <td>0.0</td>\n",
       "      <td>0.0</td>\n",
       "      <td>0.0</td>\n",
       "      <td>0.0</td>\n",
       "      <td>0.0</td>\n",
       "      <td>0.0</td>\n",
       "      <td>0.0</td>\n",
       "      <td>0.0</td>\n",
       "      <td>...</td>\n",
       "      <td>0.0</td>\n",
       "      <td>0.0</td>\n",
       "      <td>0.0</td>\n",
       "      <td>0.0</td>\n",
       "      <td>0.0</td>\n",
       "      <td>0.0</td>\n",
       "      <td>0.0</td>\n",
       "      <td>0.0</td>\n",
       "      <td>0.0</td>\n",
       "      <td>0.0</td>\n",
       "    </tr>\n",
       "    <tr>\n",
       "      <th>right now mostly just sprout this so my can eat the grass they love it i rotate it around with and rye too</th>\n",
       "      <td>0.0</td>\n",
       "      <td>0.0</td>\n",
       "      <td>0.0</td>\n",
       "      <td>0.0</td>\n",
       "      <td>0.0</td>\n",
       "      <td>0.0</td>\n",
       "      <td>0.0</td>\n",
       "      <td>0.0</td>\n",
       "      <td>0.0</td>\n",
       "      <td>0.0</td>\n",
       "      <td>...</td>\n",
       "      <td>0.0</td>\n",
       "      <td>0.0</td>\n",
       "      <td>0.0</td>\n",
       "      <td>0.0</td>\n",
       "      <td>0.0</td>\n",
       "      <td>0.0</td>\n",
       "      <td>0.0</td>\n",
       "      <td>0.0</td>\n",
       "      <td>0.0</td>\n",
       "      <td>0.0</td>\n",
       "    </tr>\n",
       "  </tbody>\n",
       "</table>\n",
       "<p>3 rows × 21926 columns</p>\n",
       "</div>"
      ],
      "text/plain": [
       "                                                     aa  aardvark  aback  \\\n",
       "ProcessedText                                                              \n",
       "i have buy several of the vitality can dog food...  0.0       0.0    0.0   \n",
       "this be a confection that be around a few it be...  0.0       0.0    0.0   \n",
       "right now mostly just sprout this so my can eat...  0.0       0.0    0.0   \n",
       "\n",
       "                                                    abandon  abandoned  abb  \\\n",
       "ProcessedText                                                                 \n",
       "i have buy several of the vitality can dog food...      0.0        0.0  0.0   \n",
       "this be a confection that be around a few it be...      0.0        0.0  0.0   \n",
       "right now mostly just sprout this so my can eat...      0.0        0.0  0.0   \n",
       "\n",
       "                                                    abbey  abbot  \\\n",
       "ProcessedText                                                      \n",
       "i have buy several of the vitality can dog food...    0.0    0.0   \n",
       "this be a confection that be around a few it be...    0.0    0.0   \n",
       "right now mostly just sprout this so my can eat...    0.0    0.0   \n",
       "\n",
       "                                                    abbreviation  abdomen  \\\n",
       "ProcessedText                                                               \n",
       "i have buy several of the vitality can dog food...           0.0      0.0   \n",
       "this be a confection that be around a few it be...           0.0      0.0   \n",
       "right now mostly just sprout this so my can eat...           0.0      0.0   \n",
       "\n",
       "                                                    ...  zodiac  zombie  zone  \\\n",
       "ProcessedText                                       ...                         \n",
       "i have buy several of the vitality can dog food...  ...     0.0     0.0   0.0   \n",
       "this be a confection that be around a few it be...  ...     0.0     0.0   0.0   \n",
       "right now mostly just sprout this so my can eat...  ...     0.0     0.0   0.0   \n",
       "\n",
       "                                                    zoo  zoom  zooplankton  \\\n",
       "ProcessedText                                                                \n",
       "i have buy several of the vitality can dog food...  0.0   0.0          0.0   \n",
       "this be a confection that be around a few it be...  0.0   0.0          0.0   \n",
       "right now mostly just sprout this so my can eat...  0.0   0.0          0.0   \n",
       "\n",
       "                                                    zoster  zowie  zucchini  \\\n",
       "ProcessedText                                                                 \n",
       "i have buy several of the vitality can dog food...     0.0    0.0       0.0   \n",
       "this be a confection that be around a few it be...     0.0    0.0       0.0   \n",
       "right now mostly just sprout this so my can eat...     0.0    0.0       0.0   \n",
       "\n",
       "                                                    zwieback  \n",
       "ProcessedText                                                 \n",
       "i have buy several of the vitality can dog food...       0.0  \n",
       "this be a confection that be around a few it be...       0.0  \n",
       "right now mostly just sprout this so my can eat...       0.0  \n",
       "\n",
       "[3 rows x 21926 columns]"
      ]
     },
     "execution_count": 132,
     "metadata": {},
     "output_type": "execute_result"
    }
   ],
   "source": [
    "docTermMatrixTFIDFGR_df.head(3)"
   ]
  },
  {
   "cell_type": "code",
   "execution_count": 98,
   "metadata": {
    "execution": {
     "iopub.execute_input": "2020-11-07T19:52:08.007097Z",
     "iopub.status.busy": "2020-11-07T19:52:08.006838Z",
     "iopub.status.idle": "2020-11-07T19:52:10.924030Z",
     "shell.execute_reply": "2020-11-07T19:52:10.923246Z",
     "shell.execute_reply.started": "2020-11-07T19:52:08.007068Z"
    }
   },
   "outputs": [],
   "source": [
    "\n",
    "docTermMatrixCountVecGR_df = pd.DataFrame(docTermMatrixCountVecGR.toarray(), index=good_reviews_df[\"ProcessedText\"], columns=vectorizer_gr.get_feature_names())"
   ]
  },
  {
   "cell_type": "code",
   "execution_count": 101,
   "metadata": {
    "execution": {
     "iopub.execute_input": "2020-11-07T19:52:34.357938Z",
     "iopub.status.busy": "2020-11-07T19:52:34.357662Z",
     "iopub.status.idle": "2020-11-07T19:52:34.375903Z",
     "shell.execute_reply": "2020-11-07T19:52:34.375273Z",
     "shell.execute_reply.started": "2020-11-07T19:52:34.357910Z"
    }
   },
   "outputs": [
    {
     "data": {
      "text/html": [
       "<div>\n",
       "<style scoped>\n",
       "    .dataframe tbody tr th:only-of-type {\n",
       "        vertical-align: middle;\n",
       "    }\n",
       "\n",
       "    .dataframe tbody tr th {\n",
       "        vertical-align: top;\n",
       "    }\n",
       "\n",
       "    .dataframe thead th {\n",
       "        text-align: right;\n",
       "    }\n",
       "</style>\n",
       "<table border=\"1\" class=\"dataframe\">\n",
       "  <thead>\n",
       "    <tr style=\"text-align: right;\">\n",
       "      <th></th>\n",
       "      <th>aa</th>\n",
       "      <th>aardvark</th>\n",
       "      <th>aback</th>\n",
       "      <th>abandon</th>\n",
       "      <th>abandoned</th>\n",
       "      <th>abb</th>\n",
       "      <th>abbey</th>\n",
       "      <th>abbot</th>\n",
       "      <th>abbreviation</th>\n",
       "      <th>abdomen</th>\n",
       "      <th>...</th>\n",
       "      <th>zodiac</th>\n",
       "      <th>zombie</th>\n",
       "      <th>zone</th>\n",
       "      <th>zoo</th>\n",
       "      <th>zoom</th>\n",
       "      <th>zooplankton</th>\n",
       "      <th>zoster</th>\n",
       "      <th>zowie</th>\n",
       "      <th>zucchini</th>\n",
       "      <th>zwieback</th>\n",
       "    </tr>\n",
       "    <tr>\n",
       "      <th>ProcessedText</th>\n",
       "      <th></th>\n",
       "      <th></th>\n",
       "      <th></th>\n",
       "      <th></th>\n",
       "      <th></th>\n",
       "      <th></th>\n",
       "      <th></th>\n",
       "      <th></th>\n",
       "      <th></th>\n",
       "      <th></th>\n",
       "      <th></th>\n",
       "      <th></th>\n",
       "      <th></th>\n",
       "      <th></th>\n",
       "      <th></th>\n",
       "      <th></th>\n",
       "      <th></th>\n",
       "      <th></th>\n",
       "      <th></th>\n",
       "      <th></th>\n",
       "      <th></th>\n",
       "    </tr>\n",
       "  </thead>\n",
       "  <tbody>\n",
       "    <tr>\n",
       "      <th>i have buy several of the vitality can dog food and have find them all to be of good quality the product more like a stew than a meat and it good my be and she this product good than most</th>\n",
       "      <td>0</td>\n",
       "      <td>0</td>\n",
       "      <td>0</td>\n",
       "      <td>0</td>\n",
       "      <td>0</td>\n",
       "      <td>0</td>\n",
       "      <td>0</td>\n",
       "      <td>0</td>\n",
       "      <td>0</td>\n",
       "      <td>0</td>\n",
       "      <td>...</td>\n",
       "      <td>0</td>\n",
       "      <td>0</td>\n",
       "      <td>0</td>\n",
       "      <td>0</td>\n",
       "      <td>0</td>\n",
       "      <td>0</td>\n",
       "      <td>0</td>\n",
       "      <td>0</td>\n",
       "      <td>0</td>\n",
       "      <td>0</td>\n",
       "    </tr>\n",
       "    <tr>\n",
       "      <th>this be a confection that be around a few it be a light pillowy citrus gelatin with in this case and it be cut into tiny and then liberally coat with powdered sugar and it be a tiny mouthful of heaven not too chewy and very flavorful i highly recommend this yummy treat if you be familiar with the story of lion the witch and the this be the treat that into sell out his brother and to the witch</th>\n",
       "      <td>0</td>\n",
       "      <td>0</td>\n",
       "      <td>0</td>\n",
       "      <td>0</td>\n",
       "      <td>0</td>\n",
       "      <td>0</td>\n",
       "      <td>0</td>\n",
       "      <td>0</td>\n",
       "      <td>0</td>\n",
       "      <td>0</td>\n",
       "      <td>...</td>\n",
       "      <td>0</td>\n",
       "      <td>0</td>\n",
       "      <td>0</td>\n",
       "      <td>0</td>\n",
       "      <td>0</td>\n",
       "      <td>0</td>\n",
       "      <td>0</td>\n",
       "      <td>0</td>\n",
       "      <td>0</td>\n",
       "      <td>0</td>\n",
       "    </tr>\n",
       "  </tbody>\n",
       "</table>\n",
       "<p>2 rows × 21926 columns</p>\n",
       "</div>"
      ],
      "text/plain": [
       "                                                    aa  aardvark  aback  \\\n",
       "ProcessedText                                                             \n",
       "i have buy several of the vitality can dog food...   0         0      0   \n",
       "this be a confection that be around a few it be...   0         0      0   \n",
       "\n",
       "                                                    abandon  abandoned  abb  \\\n",
       "ProcessedText                                                                 \n",
       "i have buy several of the vitality can dog food...        0          0    0   \n",
       "this be a confection that be around a few it be...        0          0    0   \n",
       "\n",
       "                                                    abbey  abbot  \\\n",
       "ProcessedText                                                      \n",
       "i have buy several of the vitality can dog food...      0      0   \n",
       "this be a confection that be around a few it be...      0      0   \n",
       "\n",
       "                                                    abbreviation  abdomen  \\\n",
       "ProcessedText                                                               \n",
       "i have buy several of the vitality can dog food...             0        0   \n",
       "this be a confection that be around a few it be...             0        0   \n",
       "\n",
       "                                                    ...  zodiac  zombie  zone  \\\n",
       "ProcessedText                                       ...                         \n",
       "i have buy several of the vitality can dog food...  ...       0       0     0   \n",
       "this be a confection that be around a few it be...  ...       0       0     0   \n",
       "\n",
       "                                                    zoo  zoom  zooplankton  \\\n",
       "ProcessedText                                                                \n",
       "i have buy several of the vitality can dog food...    0     0            0   \n",
       "this be a confection that be around a few it be...    0     0            0   \n",
       "\n",
       "                                                    zoster  zowie  zucchini  \\\n",
       "ProcessedText                                                                 \n",
       "i have buy several of the vitality can dog food...       0      0         0   \n",
       "this be a confection that be around a few it be...       0      0         0   \n",
       "\n",
       "                                                    zwieback  \n",
       "ProcessedText                                                 \n",
       "i have buy several of the vitality can dog food...         0  \n",
       "this be a confection that be around a few it be...         0  \n",
       "\n",
       "[2 rows x 21926 columns]"
      ]
     },
     "execution_count": 101,
     "metadata": {},
     "output_type": "execute_result"
    }
   ],
   "source": [
    "docTermMatrixCountVecGR_df.head(2)"
   ]
  },
  {
   "cell_type": "code",
   "execution_count": 102,
   "metadata": {
    "execution": {
     "iopub.execute_input": "2020-11-07T19:53:28.208992Z",
     "iopub.status.busy": "2020-11-07T19:53:28.208724Z",
     "iopub.status.idle": "2020-11-07T19:53:28.917405Z",
     "shell.execute_reply": "2020-11-07T19:53:28.916661Z",
     "shell.execute_reply.started": "2020-11-07T19:53:28.208964Z"
    }
   },
   "outputs": [],
   "source": [
    "docTermMatrixCountVecBR_df = pd.DataFrame(docTermMatrixCountVecBR.toarray(), index=bad_reviews_df[\"ProcessedText\"], columns=vectorizer_br.get_feature_names())"
   ]
  },
  {
   "cell_type": "code",
   "execution_count": 104,
   "metadata": {
    "execution": {
     "iopub.execute_input": "2020-11-07T19:53:45.530806Z",
     "iopub.status.busy": "2020-11-07T19:53:45.530539Z",
     "iopub.status.idle": "2020-11-07T19:53:45.551729Z",
     "shell.execute_reply": "2020-11-07T19:53:45.550912Z",
     "shell.execute_reply.started": "2020-11-07T19:53:45.530778Z"
    }
   },
   "outputs": [
    {
     "data": {
      "text/html": [
       "<div>\n",
       "<style scoped>\n",
       "    .dataframe tbody tr th:only-of-type {\n",
       "        vertical-align: middle;\n",
       "    }\n",
       "\n",
       "    .dataframe tbody tr th {\n",
       "        vertical-align: top;\n",
       "    }\n",
       "\n",
       "    .dataframe thead th {\n",
       "        text-align: right;\n",
       "    }\n",
       "</style>\n",
       "<table border=\"1\" class=\"dataframe\">\n",
       "  <thead>\n",
       "    <tr style=\"text-align: right;\">\n",
       "      <th></th>\n",
       "      <th>aa</th>\n",
       "      <th>aback</th>\n",
       "      <th>abalone</th>\n",
       "      <th>abandon</th>\n",
       "      <th>abandoned</th>\n",
       "      <th>abandonment</th>\n",
       "      <th>abbey</th>\n",
       "      <th>abdomen</th>\n",
       "      <th>abdominal</th>\n",
       "      <th>aberrant</th>\n",
       "      <th>...</th>\n",
       "      <th>zipper</th>\n",
       "      <th>zippy</th>\n",
       "      <th>zombie</th>\n",
       "      <th>zone</th>\n",
       "      <th>zoo</th>\n",
       "      <th>zoology</th>\n",
       "      <th>zoom</th>\n",
       "      <th>zoonotic</th>\n",
       "      <th>zucchini</th>\n",
       "      <th>zwieback</th>\n",
       "    </tr>\n",
       "    <tr>\n",
       "      <th>ProcessedText</th>\n",
       "      <th></th>\n",
       "      <th></th>\n",
       "      <th></th>\n",
       "      <th></th>\n",
       "      <th></th>\n",
       "      <th></th>\n",
       "      <th></th>\n",
       "      <th></th>\n",
       "      <th></th>\n",
       "      <th></th>\n",
       "      <th></th>\n",
       "      <th></th>\n",
       "      <th></th>\n",
       "      <th></th>\n",
       "      <th></th>\n",
       "      <th></th>\n",
       "      <th></th>\n",
       "      <th></th>\n",
       "      <th></th>\n",
       "      <th></th>\n",
       "      <th></th>\n",
       "    </tr>\n",
       "  </thead>\n",
       "  <tbody>\n",
       "    <tr>\n",
       "      <th>if you be look for the secret ingredient in i believe i have find it i get this in addition to the root beer extract i order which be good and make some cherry soda the flavor be very medicinal</th>\n",
       "      <td>0</td>\n",
       "      <td>0</td>\n",
       "      <td>0</td>\n",
       "      <td>0</td>\n",
       "      <td>0</td>\n",
       "      <td>0</td>\n",
       "      <td>0</td>\n",
       "      <td>0</td>\n",
       "      <td>0</td>\n",
       "      <td>0</td>\n",
       "      <td>...</td>\n",
       "      <td>0</td>\n",
       "      <td>0</td>\n",
       "      <td>0</td>\n",
       "      <td>0</td>\n",
       "      <td>0</td>\n",
       "      <td>0</td>\n",
       "      <td>0</td>\n",
       "      <td>0</td>\n",
       "      <td>0</td>\n",
       "      <td>0</td>\n",
       "    </tr>\n",
       "    <tr>\n",
       "      <th>my have be happily eat platinum for more than two i just get a new bag and the shape of the food be different they try the new food when i first put it in their bowl and now the bowl sit full and the will not touch the food similar relate to formula in the past unfortunately i now need to find a new food that my will eat</th>\n",
       "      <td>0</td>\n",
       "      <td>0</td>\n",
       "      <td>0</td>\n",
       "      <td>0</td>\n",
       "      <td>0</td>\n",
       "      <td>0</td>\n",
       "      <td>0</td>\n",
       "      <td>0</td>\n",
       "      <td>0</td>\n",
       "      <td>0</td>\n",
       "      <td>...</td>\n",
       "      <td>0</td>\n",
       "      <td>0</td>\n",
       "      <td>0</td>\n",
       "      <td>0</td>\n",
       "      <td>0</td>\n",
       "      <td>0</td>\n",
       "      <td>0</td>\n",
       "      <td>0</td>\n",
       "      <td>0</td>\n",
       "      <td>0</td>\n",
       "    </tr>\n",
       "  </tbody>\n",
       "</table>\n",
       "<p>2 rows × 15183 columns</p>\n",
       "</div>"
      ],
      "text/plain": [
       "                                                    aa  aback  abalone  \\\n",
       "ProcessedText                                                            \n",
       "if you be look for the secret ingredient in i b...   0      0        0   \n",
       "my have be happily eat platinum for more than t...   0      0        0   \n",
       "\n",
       "                                                    abandon  abandoned  \\\n",
       "ProcessedText                                                            \n",
       "if you be look for the secret ingredient in i b...        0          0   \n",
       "my have be happily eat platinum for more than t...        0          0   \n",
       "\n",
       "                                                    abandonment  abbey  \\\n",
       "ProcessedText                                                            \n",
       "if you be look for the secret ingredient in i b...            0      0   \n",
       "my have be happily eat platinum for more than t...            0      0   \n",
       "\n",
       "                                                    abdomen  abdominal  \\\n",
       "ProcessedText                                                            \n",
       "if you be look for the secret ingredient in i b...        0          0   \n",
       "my have be happily eat platinum for more than t...        0          0   \n",
       "\n",
       "                                                    aberrant  ...  zipper  \\\n",
       "ProcessedText                                                 ...           \n",
       "if you be look for the secret ingredient in i b...         0  ...       0   \n",
       "my have be happily eat platinum for more than t...         0  ...       0   \n",
       "\n",
       "                                                    zippy  zombie  zone  zoo  \\\n",
       "ProcessedText                                                                  \n",
       "if you be look for the secret ingredient in i b...      0       0     0    0   \n",
       "my have be happily eat platinum for more than t...      0       0     0    0   \n",
       "\n",
       "                                                    zoology  zoom  zoonotic  \\\n",
       "ProcessedText                                                                 \n",
       "if you be look for the secret ingredient in i b...        0     0         0   \n",
       "my have be happily eat platinum for more than t...        0     0         0   \n",
       "\n",
       "                                                    zucchini  zwieback  \n",
       "ProcessedText                                                           \n",
       "if you be look for the secret ingredient in i b...         0         0  \n",
       "my have be happily eat platinum for more than t...         0         0  \n",
       "\n",
       "[2 rows x 15183 columns]"
      ]
     },
     "execution_count": 104,
     "metadata": {},
     "output_type": "execute_result"
    }
   ],
   "source": [
    "docTermMatrixCountVecBR_df.head(2)"
   ]
  },
  {
   "cell_type": "code",
   "execution_count": 134,
   "metadata": {
    "execution": {
     "iopub.execute_input": "2020-11-08T01:23:02.486613Z",
     "iopub.status.busy": "2020-11-08T01:23:02.486323Z",
     "iopub.status.idle": "2020-11-08T01:23:03.285328Z",
     "shell.execute_reply": "2020-11-08T01:23:03.284580Z",
     "shell.execute_reply.started": "2020-11-08T01:23:02.486584Z"
    }
   },
   "outputs": [],
   "source": [
    "docTermMatrixTFIDFBR_df = pd.DataFrame(\n",
    "    docTermMatrixTFIDFBR.toarray(),\n",
    "    index=bad_reviews_df[\"ProcessedText\"],\n",
    "    columns=tfidfvectorizer_br.get_feature_names()\n",
    ")"
   ]
  },
  {
   "cell_type": "code",
   "execution_count": 135,
   "metadata": {
    "execution": {
     "iopub.execute_input": "2020-11-08T01:23:15.010621Z",
     "iopub.status.busy": "2020-11-08T01:23:15.010314Z",
     "iopub.status.idle": "2020-11-08T01:23:15.037647Z",
     "shell.execute_reply": "2020-11-08T01:23:15.036944Z",
     "shell.execute_reply.started": "2020-11-08T01:23:15.010589Z"
    }
   },
   "outputs": [
    {
     "data": {
      "text/html": [
       "<div>\n",
       "<style scoped>\n",
       "    .dataframe tbody tr th:only-of-type {\n",
       "        vertical-align: middle;\n",
       "    }\n",
       "\n",
       "    .dataframe tbody tr th {\n",
       "        vertical-align: top;\n",
       "    }\n",
       "\n",
       "    .dataframe thead th {\n",
       "        text-align: right;\n",
       "    }\n",
       "</style>\n",
       "<table border=\"1\" class=\"dataframe\">\n",
       "  <thead>\n",
       "    <tr style=\"text-align: right;\">\n",
       "      <th></th>\n",
       "      <th>aa</th>\n",
       "      <th>aback</th>\n",
       "      <th>abalone</th>\n",
       "      <th>abandon</th>\n",
       "      <th>abandoned</th>\n",
       "      <th>abandonment</th>\n",
       "      <th>abbey</th>\n",
       "      <th>abdomen</th>\n",
       "      <th>abdominal</th>\n",
       "      <th>aberrant</th>\n",
       "      <th>...</th>\n",
       "      <th>zipper</th>\n",
       "      <th>zippy</th>\n",
       "      <th>zombie</th>\n",
       "      <th>zone</th>\n",
       "      <th>zoo</th>\n",
       "      <th>zoology</th>\n",
       "      <th>zoom</th>\n",
       "      <th>zoonotic</th>\n",
       "      <th>zucchini</th>\n",
       "      <th>zwieback</th>\n",
       "    </tr>\n",
       "    <tr>\n",
       "      <th>ProcessedText</th>\n",
       "      <th></th>\n",
       "      <th></th>\n",
       "      <th></th>\n",
       "      <th></th>\n",
       "      <th></th>\n",
       "      <th></th>\n",
       "      <th></th>\n",
       "      <th></th>\n",
       "      <th></th>\n",
       "      <th></th>\n",
       "      <th></th>\n",
       "      <th></th>\n",
       "      <th></th>\n",
       "      <th></th>\n",
       "      <th></th>\n",
       "      <th></th>\n",
       "      <th></th>\n",
       "      <th></th>\n",
       "      <th></th>\n",
       "      <th></th>\n",
       "      <th></th>\n",
       "    </tr>\n",
       "  </thead>\n",
       "  <tbody>\n",
       "    <tr>\n",
       "      <th>if you be look for the secret ingredient in i believe i have find it i get this in addition to the root beer extract i order which be good and make some cherry soda the flavor be very medicinal</th>\n",
       "      <td>0.0</td>\n",
       "      <td>0.0</td>\n",
       "      <td>0.0</td>\n",
       "      <td>0.0</td>\n",
       "      <td>0.0</td>\n",
       "      <td>0.0</td>\n",
       "      <td>0.0</td>\n",
       "      <td>0.0</td>\n",
       "      <td>0.0</td>\n",
       "      <td>0.0</td>\n",
       "      <td>...</td>\n",
       "      <td>0.0</td>\n",
       "      <td>0.0</td>\n",
       "      <td>0.0</td>\n",
       "      <td>0.0</td>\n",
       "      <td>0.0</td>\n",
       "      <td>0.0</td>\n",
       "      <td>0.0</td>\n",
       "      <td>0.0</td>\n",
       "      <td>0.0</td>\n",
       "      <td>0.0</td>\n",
       "    </tr>\n",
       "    <tr>\n",
       "      <th>my have be happily eat platinum for more than two i just get a new bag and the shape of the food be different they try the new food when i first put it in their bowl and now the bowl sit full and the will not touch the food similar relate to formula in the past unfortunately i now need to find a new food that my will eat</th>\n",
       "      <td>0.0</td>\n",
       "      <td>0.0</td>\n",
       "      <td>0.0</td>\n",
       "      <td>0.0</td>\n",
       "      <td>0.0</td>\n",
       "      <td>0.0</td>\n",
       "      <td>0.0</td>\n",
       "      <td>0.0</td>\n",
       "      <td>0.0</td>\n",
       "      <td>0.0</td>\n",
       "      <td>...</td>\n",
       "      <td>0.0</td>\n",
       "      <td>0.0</td>\n",
       "      <td>0.0</td>\n",
       "      <td>0.0</td>\n",
       "      <td>0.0</td>\n",
       "      <td>0.0</td>\n",
       "      <td>0.0</td>\n",
       "      <td>0.0</td>\n",
       "      <td>0.0</td>\n",
       "      <td>0.0</td>\n",
       "    </tr>\n",
       "    <tr>\n",
       "      <th>the candy be just red no flavor just plan and chewy i would never buy them again</th>\n",
       "      <td>0.0</td>\n",
       "      <td>0.0</td>\n",
       "      <td>0.0</td>\n",
       "      <td>0.0</td>\n",
       "      <td>0.0</td>\n",
       "      <td>0.0</td>\n",
       "      <td>0.0</td>\n",
       "      <td>0.0</td>\n",
       "      <td>0.0</td>\n",
       "      <td>0.0</td>\n",
       "      <td>...</td>\n",
       "      <td>0.0</td>\n",
       "      <td>0.0</td>\n",
       "      <td>0.0</td>\n",
       "      <td>0.0</td>\n",
       "      <td>0.0</td>\n",
       "      <td>0.0</td>\n",
       "      <td>0.0</td>\n",
       "      <td>0.0</td>\n",
       "      <td>0.0</td>\n",
       "      <td>0.0</td>\n",
       "    </tr>\n",
       "  </tbody>\n",
       "</table>\n",
       "<p>3 rows × 15183 columns</p>\n",
       "</div>"
      ],
      "text/plain": [
       "                                                     aa  aback  abalone  \\\n",
       "ProcessedText                                                             \n",
       "if you be look for the secret ingredient in i b...  0.0    0.0      0.0   \n",
       "my have be happily eat platinum for more than t...  0.0    0.0      0.0   \n",
       "the candy be just red no flavor just plan and c...  0.0    0.0      0.0   \n",
       "\n",
       "                                                    abandon  abandoned  \\\n",
       "ProcessedText                                                            \n",
       "if you be look for the secret ingredient in i b...      0.0        0.0   \n",
       "my have be happily eat platinum for more than t...      0.0        0.0   \n",
       "the candy be just red no flavor just plan and c...      0.0        0.0   \n",
       "\n",
       "                                                    abandonment  abbey  \\\n",
       "ProcessedText                                                            \n",
       "if you be look for the secret ingredient in i b...          0.0    0.0   \n",
       "my have be happily eat platinum for more than t...          0.0    0.0   \n",
       "the candy be just red no flavor just plan and c...          0.0    0.0   \n",
       "\n",
       "                                                    abdomen  abdominal  \\\n",
       "ProcessedText                                                            \n",
       "if you be look for the secret ingredient in i b...      0.0        0.0   \n",
       "my have be happily eat platinum for more than t...      0.0        0.0   \n",
       "the candy be just red no flavor just plan and c...      0.0        0.0   \n",
       "\n",
       "                                                    aberrant  ...  zipper  \\\n",
       "ProcessedText                                                 ...           \n",
       "if you be look for the secret ingredient in i b...       0.0  ...     0.0   \n",
       "my have be happily eat platinum for more than t...       0.0  ...     0.0   \n",
       "the candy be just red no flavor just plan and c...       0.0  ...     0.0   \n",
       "\n",
       "                                                    zippy  zombie  zone  zoo  \\\n",
       "ProcessedText                                                                  \n",
       "if you be look for the secret ingredient in i b...    0.0     0.0   0.0  0.0   \n",
       "my have be happily eat platinum for more than t...    0.0     0.0   0.0  0.0   \n",
       "the candy be just red no flavor just plan and c...    0.0     0.0   0.0  0.0   \n",
       "\n",
       "                                                    zoology  zoom  zoonotic  \\\n",
       "ProcessedText                                                                 \n",
       "if you be look for the secret ingredient in i b...      0.0   0.0       0.0   \n",
       "my have be happily eat platinum for more than t...      0.0   0.0       0.0   \n",
       "the candy be just red no flavor just plan and c...      0.0   0.0       0.0   \n",
       "\n",
       "                                                    zucchini  zwieback  \n",
       "ProcessedText                                                           \n",
       "if you be look for the secret ingredient in i b...       0.0       0.0  \n",
       "my have be happily eat platinum for more than t...       0.0       0.0  \n",
       "the candy be just red no flavor just plan and c...       0.0       0.0  \n",
       "\n",
       "[3 rows x 15183 columns]"
      ]
     },
     "execution_count": 135,
     "metadata": {},
     "output_type": "execute_result"
    }
   ],
   "source": [
    "docTermMatrixTFIDFBR_df.head(3)"
   ]
  },
  {
   "cell_type": "code",
   "execution_count": 105,
   "metadata": {
    "execution": {
     "iopub.execute_input": "2020-11-07T19:54:29.704484Z",
     "iopub.status.busy": "2020-11-07T19:54:29.704221Z",
     "iopub.status.idle": "2020-11-07T19:54:29.710829Z",
     "shell.execute_reply": "2020-11-07T19:54:29.710130Z",
     "shell.execute_reply.started": "2020-11-07T19:54:29.704455Z"
    }
   },
   "outputs": [
    {
     "data": {
      "text/plain": [
       "Index(['aa', 'aardvark', 'aback', 'abandon', 'abandoned', 'abb', 'abbey',\n",
       "       'abbot', 'abbreviation', 'abdomen',\n",
       "       ...\n",
       "       'zodiac', 'zombie', 'zone', 'zoo', 'zoom', 'zooplankton', 'zoster',\n",
       "       'zowie', 'zucchini', 'zwieback'],\n",
       "      dtype='object', length=21926)"
      ]
     },
     "execution_count": 105,
     "metadata": {},
     "output_type": "execute_result"
    }
   ],
   "source": [
    "docTermMatrixCountVecGR_df.columns"
   ]
  },
  {
   "cell_type": "code",
   "execution_count": 106,
   "metadata": {
    "execution": {
     "iopub.execute_input": "2020-11-07T19:54:44.796155Z",
     "iopub.status.busy": "2020-11-07T19:54:44.795859Z",
     "iopub.status.idle": "2020-11-07T19:54:44.801917Z",
     "shell.execute_reply": "2020-11-07T19:54:44.801216Z",
     "shell.execute_reply.started": "2020-11-07T19:54:44.796126Z"
    }
   },
   "outputs": [
    {
     "data": {
      "text/plain": [
       "Index(['aa', 'aback', 'abalone', 'abandon', 'abandoned', 'abandonment',\n",
       "       'abbey', 'abdomen', 'abdominal', 'aberrant',\n",
       "       ...\n",
       "       'zipper', 'zippy', 'zombie', 'zone', 'zoo', 'zoology', 'zoom',\n",
       "       'zoonotic', 'zucchini', 'zwieback'],\n",
       "      dtype='object', length=15183)"
      ]
     },
     "execution_count": 106,
     "metadata": {},
     "output_type": "execute_result"
    }
   ],
   "source": [
    "docTermMatrixCountVecBR_df.columns"
   ]
  },
  {
   "cell_type": "code",
   "execution_count": 138,
   "metadata": {
    "execution": {
     "iopub.execute_input": "2020-11-08T01:25:33.742218Z",
     "iopub.status.busy": "2020-11-08T01:25:33.741910Z",
     "iopub.status.idle": "2020-11-08T01:25:33.747744Z",
     "shell.execute_reply": "2020-11-08T01:25:33.746822Z",
     "shell.execute_reply.started": "2020-11-08T01:25:33.742188Z"
    }
   },
   "outputs": [],
   "source": [
    "LD_AllocatorGR = LatentDirichletAllocation(n_components=20, random_state=0,n_jobs=8)\n",
    "LD_AllocatorBR = LatentDirichletAllocation(n_components=20, random_state=0,n_jobs=8)\n",
    "LD_AllocatorTFIDFGR = LatentDirichletAllocation(n_components=20, random_state=0,n_jobs=8)\n",
    "LD_AllocatorTFIDFBR = LatentDirichletAllocation(n_components=20, random_state=0,n_jobs=8)\n"
   ]
  },
  {
   "cell_type": "code",
   "execution_count": 146,
   "metadata": {
    "execution": {
     "iopub.execute_input": "2020-11-08T01:37:54.963150Z",
     "iopub.status.busy": "2020-11-08T01:37:54.962888Z",
     "iopub.status.idle": "2020-11-08T01:40:35.239434Z",
     "shell.execute_reply": "2020-11-08T01:40:35.238618Z",
     "shell.execute_reply.started": "2020-11-08T01:37:54.963122Z"
    }
   },
   "outputs": [
    {
     "name": "stdout",
     "output_type": "stream",
     "text": [
      "time spent doing operation is 0:02:40.271267\n"
     ]
    }
   ],
   "source": [
    "start_time = datetime.datetime.now()\n",
    "LD_AllocatorGR.fit(docTermMatrixCountVecGR)\n",
    "end_time = datetime.datetime.now()\n",
    "print(\"time spent doing operation is {}\".format(end_time - start_time))"
   ]
  },
  {
   "cell_type": "code",
   "execution_count": 110,
   "metadata": {
    "execution": {
     "iopub.execute_input": "2020-11-07T19:58:45.691729Z",
     "iopub.status.busy": "2020-11-07T19:58:45.691447Z",
     "iopub.status.idle": "2020-11-07T19:59:12.645289Z",
     "shell.execute_reply": "2020-11-07T19:59:12.644503Z",
     "shell.execute_reply.started": "2020-11-07T19:58:45.691700Z"
    }
   },
   "outputs": [
    {
     "name": "stderr",
     "output_type": "stream",
     "text": [
      "/home/magreen/anaconda3_2020_07/envs/metis_linux_venv/lib/python3.8/site-packages/ipykernel/ipkernel.py:287: DeprecationWarning: `should_run_async` will not call `transform_cell` automatically in the future. Please pass the result to `transformed_cell` argument and any exception that happen during thetransform in `preprocessing_exc_tuple` in IPython 7.17 and above.\n",
      "  and should_run_async(code)\n"
     ]
    },
    {
     "name": "stdout",
     "output_type": "stream",
     "text": [
      "time spent doing operation is 0:00:26.943293\n"
     ]
    }
   ],
   "source": [
    "start_time = datetime.datetime.now()\n",
    "LD_AllocatorBR.fit(docTermMatrixCountVecBR)\n",
    "end_time = datetime.datetime.now()\n",
    "print(\"time spent doing operation is {}\".format(end_time - start_time))"
   ]
  },
  {
   "cell_type": "code",
   "execution_count": 139,
   "metadata": {
    "execution": {
     "iopub.execute_input": "2020-11-08T01:25:41.634146Z",
     "iopub.status.busy": "2020-11-08T01:25:41.633832Z",
     "iopub.status.idle": "2020-11-08T01:27:08.501861Z",
     "shell.execute_reply": "2020-11-08T01:27:08.500710Z",
     "shell.execute_reply.started": "2020-11-08T01:25:41.634114Z"
    }
   },
   "outputs": [
    {
     "name": "stdout",
     "output_type": "stream",
     "text": [
      "time spent doing operation is 0:01:26.860852\n"
     ]
    }
   ],
   "source": [
    "start_time = datetime.datetime.now()\n",
    "LD_AllocatorTFIDFGR.fit(docTermMatrixTFIDFGR)\n",
    "end_time = datetime.datetime.now()\n",
    "print(\"time spent doing operation is {}\".format(end_time - start_time))"
   ]
  },
  {
   "cell_type": "code",
   "execution_count": 140,
   "metadata": {
    "execution": {
     "iopub.execute_input": "2020-11-08T01:27:08.503981Z",
     "iopub.status.busy": "2020-11-08T01:27:08.503717Z",
     "iopub.status.idle": "2020-11-08T01:27:23.095594Z",
     "shell.execute_reply": "2020-11-08T01:27:23.094844Z",
     "shell.execute_reply.started": "2020-11-08T01:27:08.503949Z"
    }
   },
   "outputs": [
    {
     "name": "stdout",
     "output_type": "stream",
     "text": [
      "time spent doing operation is 0:00:14.586603\n"
     ]
    }
   ],
   "source": [
    "start_time = datetime.datetime.now()\n",
    "LD_AllocatorTFIDFBR.fit(docTermMatrixTFIDFBR)\n",
    "end_time = datetime.datetime.now()\n",
    "print(\"time spent doing operation is {}\".format(end_time - start_time))"
   ]
  },
  {
   "cell_type": "markdown",
   "metadata": {
    "execution": {
     "iopub.execute_input": "2020-11-07T20:14:14.762160Z",
     "iopub.status.busy": "2020-11-07T20:14:14.761860Z",
     "iopub.status.idle": "2020-11-07T20:14:14.765099Z",
     "shell.execute_reply": "2020-11-07T20:14:14.764481Z",
     "shell.execute_reply.started": "2020-11-07T20:14:14.762129Z"
    }
   },
   "source": [
    "# Analysis of Reviews\n",
    "\n",
    "We have vectorized and run it through LDA"
   ]
  },
  {
   "cell_type": "markdown",
   "metadata": {},
   "source": [
    "## Topics via LDA"
   ]
  },
  {
   "cell_type": "markdown",
   "metadata": {
    "execution": {
     "iopub.execute_input": "2020-11-03T22:20:31.145738Z",
     "iopub.status.busy": "2020-11-03T22:20:31.145545Z",
     "iopub.status.idle": "2020-11-03T22:20:31.162025Z",
     "shell.execute_reply": "2020-11-03T22:20:31.161379Z",
     "shell.execute_reply.started": "2020-11-03T22:20:31.145719Z"
    }
   },
   "source": [
    "## LDA on \"Good\" Reviews"
   ]
  },
  {
   "cell_type": "code",
   "execution_count": 117,
   "metadata": {
    "execution": {
     "iopub.execute_input": "2020-11-07T20:13:15.656724Z",
     "iopub.status.busy": "2020-11-07T20:13:15.656491Z",
     "iopub.status.idle": "2020-11-07T20:13:15.660619Z",
     "shell.execute_reply": "2020-11-07T20:13:15.659809Z",
     "shell.execute_reply.started": "2020-11-07T20:13:15.656702Z"
    }
   },
   "outputs": [
    {
     "name": "stderr",
     "output_type": "stream",
     "text": [
      "/home/magreen/anaconda3_2020_07/envs/metis_linux_venv/lib/python3.8/site-packages/ipykernel/ipkernel.py:287: DeprecationWarning: `should_run_async` will not call `transform_cell` automatically in the future. Please pass the result to `transformed_cell` argument and any exception that happen during thetransform in `preprocessing_exc_tuple` in IPython 7.17 and above.\n",
      "  and should_run_async(code)\n"
     ]
    }
   ],
   "source": [
    "#import pyLDAvis\n",
    "#import pyLDAvis.sklearn"
   ]
  },
  {
   "cell_type": "code",
   "execution_count": 118,
   "metadata": {
    "execution": {
     "iopub.execute_input": "2020-11-07T20:13:16.312649Z",
     "iopub.status.busy": "2020-11-07T20:13:16.312417Z",
     "iopub.status.idle": "2020-11-07T20:13:16.315941Z",
     "shell.execute_reply": "2020-11-07T20:13:16.315316Z",
     "shell.execute_reply.started": "2020-11-07T20:13:16.312627Z"
    }
   },
   "outputs": [
    {
     "name": "stderr",
     "output_type": "stream",
     "text": [
      "/home/magreen/anaconda3_2020_07/envs/metis_linux_venv/lib/python3.8/site-packages/ipykernel/ipkernel.py:287: DeprecationWarning: `should_run_async` will not call `transform_cell` automatically in the future. Please pass the result to `transformed_cell` argument and any exception that happen during thetransform in `preprocessing_exc_tuple` in IPython 7.17 and above.\n",
      "  and should_run_async(code)\n"
     ]
    }
   ],
   "source": [
    "#pyLDAvis.enable_notebook()\n",
    "#pyLDAvis.sklearn.prepare(LD_AllocatorGR, docTermMatrixCountVecGR, vectorizer_gr)"
   ]
  },
  {
   "cell_type": "code",
   "execution_count": 119,
   "metadata": {
    "execution": {
     "iopub.execute_input": "2020-11-07T20:13:18.938839Z",
     "iopub.status.busy": "2020-11-07T20:13:18.938608Z",
     "iopub.status.idle": "2020-11-07T20:13:18.942349Z",
     "shell.execute_reply": "2020-11-07T20:13:18.941604Z",
     "shell.execute_reply.started": "2020-11-07T20:13:18.938817Z"
    }
   },
   "outputs": [
    {
     "name": "stderr",
     "output_type": "stream",
     "text": [
      "/home/magreen/anaconda3_2020_07/envs/metis_linux_venv/lib/python3.8/site-packages/ipykernel/ipkernel.py:287: DeprecationWarning: `should_run_async` will not call `transform_cell` automatically in the future. Please pass the result to `transformed_cell` argument and any exception that happen during thetransform in `preprocessing_exc_tuple` in IPython 7.17 and above.\n",
      "  and should_run_async(code)\n"
     ]
    }
   ],
   "source": [
    "#pyLDAvis.enable_notebook()\n",
    "#pyLDAvis.sklearn.prepare(LD_AllocatorBR, docTermMatrixCountVecBR, vectorizer_br)"
   ]
  },
  {
   "cell_type": "markdown",
   "metadata": {},
   "source": [
    "Looking at these results (especially topic2 in the BR) that analyzing bi-grams would yields even more interpretable results. If I can get visualizations down I may opt to do bi=gram analysis or just put it in the to-do list"
   ]
  },
  {
   "cell_type": "code",
   "execution_count": 113,
   "metadata": {
    "execution": {
     "iopub.execute_input": "2020-11-07T20:05:48.107055Z",
     "iopub.status.busy": "2020-11-07T20:05:48.106751Z",
     "iopub.status.idle": "2020-11-07T20:05:48.113334Z",
     "shell.execute_reply": "2020-11-07T20:05:48.112650Z",
     "shell.execute_reply.started": "2020-11-07T20:05:48.107023Z"
    }
   },
   "outputs": [
    {
     "name": "stderr",
     "output_type": "stream",
     "text": [
      "/home/magreen/anaconda3_2020_07/envs/metis_linux_venv/lib/python3.8/site-packages/ipykernel/ipkernel.py:287: DeprecationWarning: `should_run_async` will not call `transform_cell` automatically in the future. Please pass the result to `transformed_cell` argument and any exception that happen during thetransform in `preprocessing_exc_tuple` in IPython 7.17 and above.\n",
      "  and should_run_async(code)\n"
     ]
    }
   ],
   "source": [
    "def display_topics(model, feature_names, no_top_words, topic_names=None):\n",
    "    for ix, topic in enumerate(model.components_):\n",
    "        if not topic_names or not topic_names[ix]:\n",
    "            print(\"\\nTopic \", ix)\n",
    "        else:\n",
    "            print(\"\\nTopic: '\",topic_names[ix],\"'\")\n",
    "        print(\", \".join([feature_names[i]\n",
    "                        for i in topic.argsort()[:-no_top_words - 1:-1]]))"
   ]
  },
  {
   "cell_type": "code",
   "execution_count": 115,
   "metadata": {
    "execution": {
     "iopub.execute_input": "2020-11-07T20:06:02.691428Z",
     "iopub.status.busy": "2020-11-07T20:06:02.691090Z",
     "iopub.status.idle": "2020-11-07T20:06:02.840606Z",
     "shell.execute_reply": "2020-11-07T20:06:02.839817Z",
     "shell.execute_reply.started": "2020-11-07T20:06:02.691395Z"
    }
   },
   "outputs": [
    {
     "name": "stdout",
     "output_type": "stream",
     "text": [
      "\n",
      "Topic  0\n",
      "candy, like, taste, ginger, flavor, color, organic, good, product, licorice\n",
      "\n",
      "Topic  1\n",
      "tea, green, flavor, drink, taste, like, good, black, try, cup\n",
      "\n",
      "Topic  2\n",
      "oil, coconut, product, use, great, olive, good, quality, price, taste\n",
      "\n",
      "Topic  3\n",
      "food, cat, eat, dry, like, try, diet, good, weight, just\n",
      "\n",
      "Topic  4\n",
      "sugar, honey, like, taste, oatmeal, cinnamon, cracker, flavor, use, sweet\n",
      "\n",
      "Topic  5\n",
      "make, mix, free, gluten, use, bread, flour, bake, good, great\n",
      "\n",
      "Topic  6\n",
      "dog, food, treat, love, old, formula, good, like, small, eat\n",
      "\n",
      "Topic  7\n",
      "coffee, cup, good, like, taste, flavor, roast, try, strong, blend\n",
      "\n",
      "Topic  8\n",
      "sauce, like, good, flavor, use, hot, chicken, taste, make, try\n",
      "\n",
      "Topic  9\n",
      "use, work, make, hair, product, just, easy, plastic, time, like\n",
      "\n",
      "Topic  10\n",
      "butter, peanut, like, taste, powder, protein, bread, good, just, try\n",
      "\n",
      "Topic  11\n",
      "store, buy, local, day, price, time, grocery, try, just, work\n",
      "\n",
      "Topic  12\n",
      "flavor, love, coffee, try, great, vanilla, like, good, taste, best\n",
      "\n",
      "Topic  13\n",
      "rice, fat, low, high, protein, fiber, good, organic, sugar, product\n",
      "\n",
      "Topic  14\n",
      "water, add, make, use, little, just, cook, mix, cup, time\n",
      "\n",
      "Topic  15\n",
      "drink, water, taste, like, good, juice, try, flavor, energy, just\n",
      "\n",
      "Topic  16\n",
      "order, product, price, great, buy, good, box, time, shipping, ship\n",
      "\n",
      "Topic  17\n",
      "like, eat, just, good, taste, chip, bag, snack, popcorn, love\n",
      "\n",
      "Topic  18\n",
      "chocolate, bar, like, dark, taste, sweet, milk, gum, flavor, cocoa\n",
      "\n",
      "Topic  19\n",
      "eat, cereal, salt, good, great, love, breakfast, fruit, taste, healthy\n"
     ]
    },
    {
     "name": "stderr",
     "output_type": "stream",
     "text": [
      "/home/magreen/anaconda3_2020_07/envs/metis_linux_venv/lib/python3.8/site-packages/ipykernel/ipkernel.py:287: DeprecationWarning: `should_run_async` will not call `transform_cell` automatically in the future. Please pass the result to `transformed_cell` argument and any exception that happen during thetransform in `preprocessing_exc_tuple` in IPython 7.17 and above.\n",
      "  and should_run_async(code)\n"
     ]
    }
   ],
   "source": [
    "display_topics(LD_AllocatorGR, vectorizer_gr.get_feature_names(),10)"
   ]
  },
  {
   "cell_type": "code",
   "execution_count": 116,
   "metadata": {
    "execution": {
     "iopub.execute_input": "2020-11-07T20:06:35.324863Z",
     "iopub.status.busy": "2020-11-07T20:06:35.324567Z",
     "iopub.status.idle": "2020-11-07T20:06:35.360181Z",
     "shell.execute_reply": "2020-11-07T20:06:35.359438Z",
     "shell.execute_reply.started": "2020-11-07T20:06:35.324832Z"
    }
   },
   "outputs": [
    {
     "name": "stdout",
     "output_type": "stream",
     "text": [
      "\n",
      "Topic  0\n",
      "price, buy, store, food, local, product, good, grocery, old, pay\n",
      "\n",
      "Topic  1\n",
      "chocolate, butter, bar, peanut, like, syrup, taste, cocoa, milk, flavor\n",
      "\n",
      "Topic  2\n",
      "bag, popcorn, day, just, come, plant, good, plastic, think, grow\n",
      "\n",
      "Topic  3\n",
      "eat, food, cat, just, tuna, litter, fish, try, salmon, good\n",
      "\n",
      "Topic  4\n",
      "order, product, company, receive, send, customer, time, service, say, use\n",
      "\n",
      "Topic  5\n",
      "product, list, organic, sugar, make, ingredient, corn, fat, high, label\n",
      "\n",
      "Topic  6\n",
      "drink, use, product, hair, try, work, energy, time, day, just\n",
      "\n",
      "Topic  7\n",
      "money, waste, use, make, try, buy, mix, like, bread, product\n",
      "\n",
      "Topic  8\n",
      "taste, like, flavor, water, drink, juice, try, just, coconut, artificial\n",
      "\n",
      "Topic  9\n",
      "sauce, taste, like, rice, good, just, flavor, try, hot, make\n",
      "\n",
      "Topic  10\n",
      "tea, green, flavor, taste, like, drink, vanilla, good, try, just\n",
      "\n",
      "Topic  11\n",
      "oil, gift, red, olive, basket, use, buy, make, good, just\n",
      "\n",
      "Topic  12\n",
      "coffee, cup, like, taste, good, flavor, try, just, buy, make\n",
      "\n",
      "Topic  13\n",
      "dog, food, make, chicken, eat, jerky, product, treat, meat, pet\n",
      "\n",
      "Topic  14\n",
      "salt, soup, candy, like, just, salty, box, eat, buy, taste\n",
      "\n",
      "Topic  15\n",
      "taste, like, sugar, good, sweet, just, buy, product, try, cereal\n",
      "\n",
      "Topic  16\n",
      "order, box, product, receive, item, ship, package, return, date, buy\n",
      "\n",
      "Topic  17\n",
      "like, taste, try, bad, smell, eat, just, good, chip, really\n",
      "\n",
      "Topic  18\n",
      "flavor, gum, like, product, just, cinnamon, good, chew, try, really\n",
      "\n",
      "Topic  19\n",
      "water, bottle, free, gluten, product, use, flour, milk, wheat, make\n"
     ]
    },
    {
     "name": "stderr",
     "output_type": "stream",
     "text": [
      "/home/magreen/anaconda3_2020_07/envs/metis_linux_venv/lib/python3.8/site-packages/ipykernel/ipkernel.py:287: DeprecationWarning: `should_run_async` will not call `transform_cell` automatically in the future. Please pass the result to `transformed_cell` argument and any exception that happen during thetransform in `preprocessing_exc_tuple` in IPython 7.17 and above.\n",
      "  and should_run_async(code)\n"
     ]
    }
   ],
   "source": [
    "display_topics(LD_AllocatorBR, vectorizer_br.get_feature_names(),10)"
   ]
  },
  {
   "cell_type": "markdown",
   "metadata": {
    "execution": {
     "iopub.execute_input": "2020-11-08T01:28:37.462083Z",
     "iopub.status.busy": "2020-11-08T01:28:37.461811Z",
     "iopub.status.idle": "2020-11-08T01:28:37.465299Z",
     "shell.execute_reply": "2020-11-08T01:28:37.464550Z",
     "shell.execute_reply.started": "2020-11-08T01:28:37.462055Z"
    }
   },
   "source": [
    "## Visualization of Reviews"
   ]
  },
  {
   "cell_type": "markdown",
   "metadata": {
    "execution": {
     "iopub.execute_input": "2020-11-08T01:28:45.255341Z",
     "iopub.status.busy": "2020-11-08T01:28:45.255068Z",
     "iopub.status.idle": "2020-11-08T01:28:45.258458Z",
     "shell.execute_reply": "2020-11-08T01:28:45.257727Z",
     "shell.execute_reply.started": "2020-11-08T01:28:45.255312Z"
    }
   },
   "source": [
    "### PCA"
   ]
  },
  {
   "cell_type": "markdown",
   "metadata": {
    "execution": {
     "iopub.execute_input": "2020-11-08T01:30:59.852266Z",
     "iopub.status.busy": "2020-11-08T01:30:59.851997Z",
     "iopub.status.idle": "2020-11-08T01:30:59.855476Z",
     "shell.execute_reply": "2020-11-08T01:30:59.854681Z",
     "shell.execute_reply.started": "2020-11-08T01:30:59.852238Z"
    }
   },
   "source": [
    "#### Good Reviews\n",
    "First let's check the quality of results of the topic generation by finding the reviews that scored best in the `docTopicMatrixGF_df`"
   ]
  },
  {
   "cell_type": "code",
   "execution_count": null,
   "metadata": {},
   "outputs": [],
   "source": []
  },
  {
   "cell_type": "code",
   "execution_count": 150,
   "metadata": {
    "execution": {
     "iopub.execute_input": "2020-11-08T01:53:50.552423Z",
     "iopub.status.busy": "2020-11-08T01:53:50.552161Z",
     "iopub.status.idle": "2020-11-08T01:54:07.337445Z",
     "shell.execute_reply": "2020-11-08T01:54:07.336553Z",
     "shell.execute_reply.started": "2020-11-08T01:53:50.552395Z"
    }
   },
   "outputs": [],
   "source": [
    "docTopicMatrixGR = LD_AllocatorGR.transform(docTermMatrixCountVecGR)"
   ]
  },
  {
   "cell_type": "code",
   "execution_count": 153,
   "metadata": {
    "execution": {
     "iopub.execute_input": "2020-11-08T01:55:31.226479Z",
     "iopub.status.busy": "2020-11-08T01:55:31.226212Z",
     "iopub.status.idle": "2020-11-08T01:55:31.247969Z",
     "shell.execute_reply": "2020-11-08T01:55:31.247340Z",
     "shell.execute_reply.started": "2020-11-08T01:55:31.226450Z"
    }
   },
   "outputs": [
    {
     "data": {
      "text/plain": [
       "(152586, 20)"
      ]
     },
     "execution_count": 153,
     "metadata": {},
     "output_type": "execute_result"
    }
   ],
   "source": [
    "docTopicMatrixGR_df = pd.DataFrame(docTopicMatrixGR).add_prefix(\"topic_\")\n",
    "docTopicMatrixGR_df.shape"
   ]
  },
  {
   "cell_type": "code",
   "execution_count": 156,
   "metadata": {
    "execution": {
     "iopub.execute_input": "2020-11-08T02:03:30.706205Z",
     "iopub.status.busy": "2020-11-08T02:03:30.705945Z",
     "iopub.status.idle": "2020-11-08T02:03:30.758085Z",
     "shell.execute_reply": "2020-11-08T02:03:30.757449Z",
     "shell.execute_reply.started": "2020-11-08T02:03:30.706177Z"
    }
   },
   "outputs": [
    {
     "data": {
      "text/html": [
       "<div>\n",
       "<style scoped>\n",
       "    .dataframe tbody tr th:only-of-type {\n",
       "        vertical-align: middle;\n",
       "    }\n",
       "\n",
       "    .dataframe tbody tr th {\n",
       "        vertical-align: top;\n",
       "    }\n",
       "\n",
       "    .dataframe thead th {\n",
       "        text-align: right;\n",
       "    }\n",
       "</style>\n",
       "<table border=\"1\" class=\"dataframe\">\n",
       "  <thead>\n",
       "    <tr style=\"text-align: right;\">\n",
       "      <th></th>\n",
       "      <th>topic_0</th>\n",
       "      <th>topic_1</th>\n",
       "      <th>topic_2</th>\n",
       "      <th>topic_3</th>\n",
       "      <th>topic_4</th>\n",
       "      <th>topic_5</th>\n",
       "      <th>topic_6</th>\n",
       "      <th>topic_7</th>\n",
       "      <th>topic_8</th>\n",
       "      <th>topic_9</th>\n",
       "      <th>...</th>\n",
       "      <th>topic_13</th>\n",
       "      <th>topic_14</th>\n",
       "      <th>topic_15</th>\n",
       "      <th>topic_16</th>\n",
       "      <th>topic_17</th>\n",
       "      <th>topic_18</th>\n",
       "      <th>topic_19</th>\n",
       "      <th>ProcessedText</th>\n",
       "      <th>Text</th>\n",
       "      <th>Summary</th>\n",
       "    </tr>\n",
       "  </thead>\n",
       "  <tbody>\n",
       "    <tr>\n",
       "      <th>0</th>\n",
       "      <td>0.003571</td>\n",
       "      <td>0.003571</td>\n",
       "      <td>0.283614</td>\n",
       "      <td>0.003571</td>\n",
       "      <td>0.003571</td>\n",
       "      <td>0.003571</td>\n",
       "      <td>0.334519</td>\n",
       "      <td>0.003571</td>\n",
       "      <td>0.321153</td>\n",
       "      <td>0.003571</td>\n",
       "      <td>...</td>\n",
       "      <td>0.003571</td>\n",
       "      <td>0.003571</td>\n",
       "      <td>0.003571</td>\n",
       "      <td>0.003571</td>\n",
       "      <td>0.003571</td>\n",
       "      <td>0.003571</td>\n",
       "      <td>0.003571</td>\n",
       "      <td>i have buy several of the vitality can dog foo...</td>\n",
       "      <td>I have bought several of the Vitality canned d...</td>\n",
       "      <td>Good Quality Dog Food</td>\n",
       "    </tr>\n",
       "    <tr>\n",
       "      <th>1</th>\n",
       "      <td>0.135266</td>\n",
       "      <td>0.001667</td>\n",
       "      <td>0.001667</td>\n",
       "      <td>0.001667</td>\n",
       "      <td>0.171731</td>\n",
       "      <td>0.001667</td>\n",
       "      <td>0.001667</td>\n",
       "      <td>0.001667</td>\n",
       "      <td>0.066708</td>\n",
       "      <td>0.001667</td>\n",
       "      <td>...</td>\n",
       "      <td>0.001667</td>\n",
       "      <td>0.001667</td>\n",
       "      <td>0.001667</td>\n",
       "      <td>0.061995</td>\n",
       "      <td>0.001667</td>\n",
       "      <td>0.497267</td>\n",
       "      <td>0.043700</td>\n",
       "      <td>this be a confection that be around a few it b...</td>\n",
       "      <td>This is a confection that has been around a fe...</td>\n",
       "      <td>\"Delight\" says it all</td>\n",
       "    </tr>\n",
       "    <tr>\n",
       "      <th>2</th>\n",
       "      <td>0.005556</td>\n",
       "      <td>0.005556</td>\n",
       "      <td>0.005556</td>\n",
       "      <td>0.324386</td>\n",
       "      <td>0.005556</td>\n",
       "      <td>0.005556</td>\n",
       "      <td>0.005556</td>\n",
       "      <td>0.005556</td>\n",
       "      <td>0.005556</td>\n",
       "      <td>0.005556</td>\n",
       "      <td>...</td>\n",
       "      <td>0.005556</td>\n",
       "      <td>0.214261</td>\n",
       "      <td>0.005556</td>\n",
       "      <td>0.005556</td>\n",
       "      <td>0.005556</td>\n",
       "      <td>0.005556</td>\n",
       "      <td>0.005556</td>\n",
       "      <td>right now mostly just sprout this so my can ea...</td>\n",
       "      <td>Right now I'm mostly just sprouting this so my...</td>\n",
       "      <td>Yay Barley</td>\n",
       "    </tr>\n",
       "    <tr>\n",
       "      <th>3</th>\n",
       "      <td>0.001064</td>\n",
       "      <td>0.037618</td>\n",
       "      <td>0.001064</td>\n",
       "      <td>0.001064</td>\n",
       "      <td>0.001064</td>\n",
       "      <td>0.001064</td>\n",
       "      <td>0.001064</td>\n",
       "      <td>0.001064</td>\n",
       "      <td>0.554331</td>\n",
       "      <td>0.001064</td>\n",
       "      <td>...</td>\n",
       "      <td>0.001064</td>\n",
       "      <td>0.001064</td>\n",
       "      <td>0.133464</td>\n",
       "      <td>0.039029</td>\n",
       "      <td>0.001064</td>\n",
       "      <td>0.001064</td>\n",
       "      <td>0.001064</td>\n",
       "      <td>i know if the or the tequila or just the uniqu...</td>\n",
       "      <td>I don't know if it's the cactus or the tequila...</td>\n",
       "      <td>The Best Hot Sauce in the World</td>\n",
       "    </tr>\n",
       "    <tr>\n",
       "      <th>4</th>\n",
       "      <td>0.002273</td>\n",
       "      <td>0.002273</td>\n",
       "      <td>0.002273</td>\n",
       "      <td>0.916907</td>\n",
       "      <td>0.002273</td>\n",
       "      <td>0.002273</td>\n",
       "      <td>0.002273</td>\n",
       "      <td>0.002273</td>\n",
       "      <td>0.002273</td>\n",
       "      <td>0.002273</td>\n",
       "      <td>...</td>\n",
       "      <td>0.002273</td>\n",
       "      <td>0.002273</td>\n",
       "      <td>0.002273</td>\n",
       "      <td>0.002273</td>\n",
       "      <td>0.042184</td>\n",
       "      <td>0.002273</td>\n",
       "      <td>0.002273</td>\n",
       "      <td>one of my to lose some weight and the other i ...</td>\n",
       "      <td>One of my boys needed to lose some weight and ...</td>\n",
       "      <td>My cats LOVE this \"diet\" food better than thei...</td>\n",
       "    </tr>\n",
       "  </tbody>\n",
       "</table>\n",
       "<p>5 rows × 23 columns</p>\n",
       "</div>"
      ],
      "text/plain": [
       "    topic_0   topic_1   topic_2   topic_3   topic_4   topic_5   topic_6  \\\n",
       "0  0.003571  0.003571  0.283614  0.003571  0.003571  0.003571  0.334519   \n",
       "1  0.135266  0.001667  0.001667  0.001667  0.171731  0.001667  0.001667   \n",
       "2  0.005556  0.005556  0.005556  0.324386  0.005556  0.005556  0.005556   \n",
       "3  0.001064  0.037618  0.001064  0.001064  0.001064  0.001064  0.001064   \n",
       "4  0.002273  0.002273  0.002273  0.916907  0.002273  0.002273  0.002273   \n",
       "\n",
       "    topic_7   topic_8   topic_9  ...  topic_13  topic_14  topic_15  topic_16  \\\n",
       "0  0.003571  0.321153  0.003571  ...  0.003571  0.003571  0.003571  0.003571   \n",
       "1  0.001667  0.066708  0.001667  ...  0.001667  0.001667  0.001667  0.061995   \n",
       "2  0.005556  0.005556  0.005556  ...  0.005556  0.214261  0.005556  0.005556   \n",
       "3  0.001064  0.554331  0.001064  ...  0.001064  0.001064  0.133464  0.039029   \n",
       "4  0.002273  0.002273  0.002273  ...  0.002273  0.002273  0.002273  0.002273   \n",
       "\n",
       "   topic_17  topic_18  topic_19  \\\n",
       "0  0.003571  0.003571  0.003571   \n",
       "1  0.001667  0.497267  0.043700   \n",
       "2  0.005556  0.005556  0.005556   \n",
       "3  0.001064  0.001064  0.001064   \n",
       "4  0.042184  0.002273  0.002273   \n",
       "\n",
       "                                       ProcessedText  \\\n",
       "0  i have buy several of the vitality can dog foo...   \n",
       "1  this be a confection that be around a few it b...   \n",
       "2  right now mostly just sprout this so my can ea...   \n",
       "3  i know if the or the tequila or just the uniqu...   \n",
       "4  one of my to lose some weight and the other i ...   \n",
       "\n",
       "                                                Text  \\\n",
       "0  I have bought several of the Vitality canned d...   \n",
       "1  This is a confection that has been around a fe...   \n",
       "2  Right now I'm mostly just sprouting this so my...   \n",
       "3  I don't know if it's the cactus or the tequila...   \n",
       "4  One of my boys needed to lose some weight and ...   \n",
       "\n",
       "                                             Summary  \n",
       "0                              Good Quality Dog Food  \n",
       "1                              \"Delight\" says it all  \n",
       "2                                         Yay Barley  \n",
       "3                    The Best Hot Sauce in the World  \n",
       "4  My cats LOVE this \"diet\" food better than thei...  \n",
       "\n",
       "[5 rows x 23 columns]"
      ]
     },
     "execution_count": 156,
     "metadata": {},
     "output_type": "execute_result"
    }
   ],
   "source": [
    "docTopicMatrixGR_df[[\"Summary\",\"ProcessedText\",\"Text\"]] = good_reviews_df[[\"Summary\",\"ProcessedText\",\"Text\"]]\n",
    "docTopicMatrixGR_df.head()"
   ]
  },
  {
   "cell_type": "code",
   "execution_count": 162,
   "metadata": {
    "execution": {
     "iopub.execute_input": "2020-11-08T02:27:46.289442Z",
     "iopub.status.busy": "2020-11-08T02:27:46.289174Z",
     "iopub.status.idle": "2020-11-08T02:27:46.345185Z",
     "shell.execute_reply": "2020-11-08T02:27:46.344464Z",
     "shell.execute_reply.started": "2020-11-08T02:27:46.289414Z"
    }
   },
   "outputs": [
    {
     "name": "stdout",
     "output_type": "stream",
     "text": [
      "['YUM!'\n",
      " \"I'm on Weight Watchers but I loooove peanut butter!! I've been craving it so badly but it's such a high point count, so I haven't had any, and when I saw this PB2 I knew I just HAD to try it! My husband thought I was crazy, but what did he know?! It actually tastes REALLY good! I was very impressed! I've used it so far by itself on toast, and in a PB & J sandwich and I'm very happy with it. I get to enjoy peanut butter again for half the points!!!! If you're on a diet and love peanut butter, definitely try this! The first time I added too much water, which made it way too creamy, but since then I've lessened the water and it has a natural peanut butter consistency.\"] \n",
      "\n",
      "['Absolutely the best!!!'\n",
      " \"I loved peanut butter all my life.  On warm toast in the mornings, it didn't get better.  But something happened and peanut butter doesn't like me anymore.  I've tried so many other butters since and not found anything to replace peanut butter........ until now.  This Barney Butter has the exact same consistency of peanut butter.  You will not know the difference.  It has the same color as peanut butter.  It even has the little nut nuggets to make it crunch like crunchy peanut butter.  I will buy this again and again.  I cannot believe how lucky I was to run across it at Amazon.  I would totally recommend it to anyone who is looking for a peanut butter substitute.  You WILL NOT be disappointed.\"] \n",
      "\n",
      "['You HAVE to mix it with...'\n",
      " \"This stuff is horrible by itself. I can't even eat it. BUT if you mix this product with normal peanut butter something crazy happens, it taste like Reeses peanut butter! Not even joking. I've played with the portions, but 4 tablespoons of the zero-cal, mixed with about one tablespoon of normal peanut butter does it for me. You can play with the portions to your liking.<br /><br />SO it's not zero calorie once mixed, but I get about 5 tablespoons of pretty awesome peanut butter for the amount of calories in one tablespoon of normal. That's like 2.5 low calorie sandwiches, which is actually a good deal. Worth trying. Just gotta mix.\"] \n",
      "\n",
      "['Love it.'\n",
      " \"I'm not sure why this item has such terrible reviews. I LOVE this stuff. The texture is very sticky and it can be hard to spread, but it tastes great and you can't beat the low-fat, low-cal benefits. It tastes more like a roasted peanut spread than the usual peanut butter, but it's still completely sweet and yummy. It's like a mix between natural peanut butter and the real stuff. Just as sweet, but more peanut-y and without the gross oily stuff that's in the top of the jar on natural peanut butter. It makes great sauces and is only 2 WW points for 2 Tbs\"] \n",
      "\n",
      "['Yum!'\n",
      " 'This is great stuff!  You can use in place of peanut butter in lots of ways and the calorie difference really helps the waistline!  The flavor is just like peanut butter - I sprinkle on top of a piece of toast with fruit spread and it tastes like peanut butter and jelly!  Also use it in wraps for a \"thai\" flavor and in smoothies - yum!'] \n",
      "\n"
     ]
    }
   ],
   "source": [
    "#find 5 reviews that score highest in topic_10\n",
    "for review in docTopicMatrixGR_df.sort_values(by=\"topic_10\",ascending=False).head(5)[[\"Summary\",\"Text\"]].values:\n",
    "    print(review,\"\\n\")"
   ]
  },
  {
   "cell_type": "markdown",
   "metadata": {},
   "source": [
    "From reading these 5 reviews they all seem to be discussion peanutbutter either as a products that are very closely related to peanutbutter.\n",
    "So `topic_10` is the **peanutbutter topic**."
   ]
  },
  {
   "cell_type": "code",
   "execution_count": 164,
   "metadata": {
    "execution": {
     "iopub.execute_input": "2020-11-08T02:35:23.782758Z",
     "iopub.status.busy": "2020-11-08T02:35:23.782498Z",
     "iopub.status.idle": "2020-11-08T02:35:23.824671Z",
     "shell.execute_reply": "2020-11-08T02:35:23.824028Z",
     "shell.execute_reply.started": "2020-11-08T02:35:23.782729Z"
    }
   },
   "outputs": [
    {
     "data": {
      "text/html": [
       "<div>\n",
       "<style scoped>\n",
       "    .dataframe tbody tr th:only-of-type {\n",
       "        vertical-align: middle;\n",
       "    }\n",
       "\n",
       "    .dataframe tbody tr th {\n",
       "        vertical-align: top;\n",
       "    }\n",
       "\n",
       "    .dataframe thead th {\n",
       "        text-align: right;\n",
       "    }\n",
       "</style>\n",
       "<table border=\"1\" class=\"dataframe\">\n",
       "  <thead>\n",
       "    <tr style=\"text-align: right;\">\n",
       "      <th></th>\n",
       "      <th>topic_0</th>\n",
       "      <th>topic_1</th>\n",
       "      <th>topic_2</th>\n",
       "      <th>topic_3</th>\n",
       "      <th>topic_4</th>\n",
       "      <th>topic_5</th>\n",
       "      <th>topic_6</th>\n",
       "      <th>topic_7</th>\n",
       "      <th>topic_8</th>\n",
       "      <th>topic_9</th>\n",
       "      <th>topic_10</th>\n",
       "      <th>topic_11</th>\n",
       "      <th>topic_12</th>\n",
       "      <th>topic_13</th>\n",
       "      <th>topic_14</th>\n",
       "      <th>topic_15</th>\n",
       "      <th>topic_16</th>\n",
       "      <th>topic_17</th>\n",
       "      <th>topic_18</th>\n",
       "      <th>topic_19</th>\n",
       "    </tr>\n",
       "  </thead>\n",
       "  <tbody>\n",
       "    <tr>\n",
       "      <th>aa</th>\n",
       "      <td>0.050000</td>\n",
       "      <td>0.050000</td>\n",
       "      <td>0.05</td>\n",
       "      <td>0.050000</td>\n",
       "      <td>0.050000</td>\n",
       "      <td>0.05</td>\n",
       "      <td>0.050000</td>\n",
       "      <td>30.769152</td>\n",
       "      <td>0.050000</td>\n",
       "      <td>1.159874</td>\n",
       "      <td>0.050000</td>\n",
       "      <td>4.220974</td>\n",
       "      <td>0.05</td>\n",
       "      <td>0.05</td>\n",
       "      <td>0.05</td>\n",
       "      <td>0.050000</td>\n",
       "      <td>0.05</td>\n",
       "      <td>0.050000</td>\n",
       "      <td>0.05</td>\n",
       "      <td>0.050000</td>\n",
       "    </tr>\n",
       "    <tr>\n",
       "      <th>aardvark</th>\n",
       "      <td>0.050000</td>\n",
       "      <td>0.050000</td>\n",
       "      <td>0.05</td>\n",
       "      <td>0.050000</td>\n",
       "      <td>1.050000</td>\n",
       "      <td>0.05</td>\n",
       "      <td>0.050000</td>\n",
       "      <td>0.050000</td>\n",
       "      <td>0.050000</td>\n",
       "      <td>0.050000</td>\n",
       "      <td>0.050000</td>\n",
       "      <td>0.050000</td>\n",
       "      <td>0.05</td>\n",
       "      <td>0.05</td>\n",
       "      <td>0.05</td>\n",
       "      <td>0.050000</td>\n",
       "      <td>0.05</td>\n",
       "      <td>0.050000</td>\n",
       "      <td>0.05</td>\n",
       "      <td>0.050000</td>\n",
       "    </tr>\n",
       "    <tr>\n",
       "      <th>aback</th>\n",
       "      <td>0.050000</td>\n",
       "      <td>0.050000</td>\n",
       "      <td>0.05</td>\n",
       "      <td>0.050000</td>\n",
       "      <td>0.050000</td>\n",
       "      <td>0.05</td>\n",
       "      <td>5.442014</td>\n",
       "      <td>5.014013</td>\n",
       "      <td>6.243989</td>\n",
       "      <td>0.050000</td>\n",
       "      <td>0.050000</td>\n",
       "      <td>0.050000</td>\n",
       "      <td>0.05</td>\n",
       "      <td>0.05</td>\n",
       "      <td>0.05</td>\n",
       "      <td>0.391154</td>\n",
       "      <td>0.05</td>\n",
       "      <td>4.057138</td>\n",
       "      <td>0.05</td>\n",
       "      <td>4.151692</td>\n",
       "    </tr>\n",
       "    <tr>\n",
       "      <th>abandon</th>\n",
       "      <td>3.582512</td>\n",
       "      <td>3.215538</td>\n",
       "      <td>0.05</td>\n",
       "      <td>31.168558</td>\n",
       "      <td>1.149974</td>\n",
       "      <td>0.05</td>\n",
       "      <td>0.735181</td>\n",
       "      <td>0.050000</td>\n",
       "      <td>0.050000</td>\n",
       "      <td>4.485360</td>\n",
       "      <td>2.085153</td>\n",
       "      <td>0.050000</td>\n",
       "      <td>0.05</td>\n",
       "      <td>0.05</td>\n",
       "      <td>0.05</td>\n",
       "      <td>0.399641</td>\n",
       "      <td>0.05</td>\n",
       "      <td>3.628083</td>\n",
       "      <td>0.05</td>\n",
       "      <td>0.050000</td>\n",
       "    </tr>\n",
       "    <tr>\n",
       "      <th>abandoned</th>\n",
       "      <td>0.050000</td>\n",
       "      <td>0.050000</td>\n",
       "      <td>0.05</td>\n",
       "      <td>0.050000</td>\n",
       "      <td>0.050000</td>\n",
       "      <td>0.05</td>\n",
       "      <td>0.050000</td>\n",
       "      <td>0.050000</td>\n",
       "      <td>0.050000</td>\n",
       "      <td>0.050000</td>\n",
       "      <td>0.050000</td>\n",
       "      <td>0.050000</td>\n",
       "      <td>0.05</td>\n",
       "      <td>0.05</td>\n",
       "      <td>0.05</td>\n",
       "      <td>1.050000</td>\n",
       "      <td>0.05</td>\n",
       "      <td>0.050000</td>\n",
       "      <td>0.05</td>\n",
       "      <td>0.050000</td>\n",
       "    </tr>\n",
       "  </tbody>\n",
       "</table>\n",
       "</div>"
      ],
      "text/plain": [
       "            topic_0   topic_1  topic_2    topic_3   topic_4  topic_5  \\\n",
       "aa         0.050000  0.050000     0.05   0.050000  0.050000     0.05   \n",
       "aardvark   0.050000  0.050000     0.05   0.050000  1.050000     0.05   \n",
       "aback      0.050000  0.050000     0.05   0.050000  0.050000     0.05   \n",
       "abandon    3.582512  3.215538     0.05  31.168558  1.149974     0.05   \n",
       "abandoned  0.050000  0.050000     0.05   0.050000  0.050000     0.05   \n",
       "\n",
       "            topic_6    topic_7   topic_8   topic_9  topic_10  topic_11  \\\n",
       "aa         0.050000  30.769152  0.050000  1.159874  0.050000  4.220974   \n",
       "aardvark   0.050000   0.050000  0.050000  0.050000  0.050000  0.050000   \n",
       "aback      5.442014   5.014013  6.243989  0.050000  0.050000  0.050000   \n",
       "abandon    0.735181   0.050000  0.050000  4.485360  2.085153  0.050000   \n",
       "abandoned  0.050000   0.050000  0.050000  0.050000  0.050000  0.050000   \n",
       "\n",
       "           topic_12  topic_13  topic_14  topic_15  topic_16  topic_17  \\\n",
       "aa             0.05      0.05      0.05  0.050000      0.05  0.050000   \n",
       "aardvark       0.05      0.05      0.05  0.050000      0.05  0.050000   \n",
       "aback          0.05      0.05      0.05  0.391154      0.05  4.057138   \n",
       "abandon        0.05      0.05      0.05  0.399641      0.05  3.628083   \n",
       "abandoned      0.05      0.05      0.05  1.050000      0.05  0.050000   \n",
       "\n",
       "           topic_18  topic_19  \n",
       "aa             0.05  0.050000  \n",
       "aardvark       0.05  0.050000  \n",
       "aback          0.05  4.151692  \n",
       "abandon        0.05  0.050000  \n",
       "abandoned      0.05  0.050000  "
      ]
     },
     "execution_count": 164,
     "metadata": {},
     "output_type": "execute_result"
    }
   ],
   "source": [
    "good_review_vocab = vectorizer_gr.get_feature_names()\n",
    "wordTopicmatrixGR_df = pd.DataFrame(LD_AllocatorGR.components_,columns=good_review_vocab).T.add_prefix(\"topic_\")\n",
    "wordTopicmatrixGR_df.head()"
   ]
  },
  {
   "cell_type": "code",
   "execution_count": 200,
   "metadata": {
    "execution": {
     "iopub.execute_input": "2020-11-08T03:51:13.397051Z",
     "iopub.status.busy": "2020-11-08T03:51:13.396780Z",
     "iopub.status.idle": "2020-11-08T03:51:13.406120Z",
     "shell.execute_reply": "2020-11-08T03:51:13.405555Z",
     "shell.execute_reply.started": "2020-11-08T03:51:13.397021Z"
    }
   },
   "outputs": [
    {
     "data": {
      "text/plain": [
       "'topic_7'"
      ]
     },
     "execution_count": 200,
     "metadata": {},
     "output_type": "execute_result"
    }
   ],
   "source": [
    "temp_df = docTopicMatrixGR_df.iloc[:,:19]\n",
    "#temp_df.iloc[0].idxmax(axis=1)\n",
    "wordTopicmatrixGR_df.iloc[0].idxmax()"
   ]
  },
  {
   "cell_type": "code",
   "execution_count": 247,
   "metadata": {
    "execution": {
     "iopub.execute_input": "2020-11-08T04:15:56.900935Z",
     "iopub.status.busy": "2020-11-08T04:15:56.900673Z",
     "iopub.status.idle": "2020-11-08T04:15:56.917407Z",
     "shell.execute_reply": "2020-11-08T04:15:56.916833Z",
     "shell.execute_reply.started": "2020-11-08T04:15:56.900907Z"
    }
   },
   "outputs": [
    {
     "data": {
      "text/plain": [
       "'topic_18'"
      ]
     },
     "execution_count": 247,
     "metadata": {},
     "output_type": "execute_result"
    }
   ],
   "source": [
    "docTopicMatrixGR_df.iloc[:,:20].iloc[1].idxmax()"
   ]
  },
  {
   "cell_type": "code",
   "execution_count": 174,
   "metadata": {
    "execution": {
     "iopub.execute_input": "2020-11-08T02:44:55.162251Z",
     "iopub.status.busy": "2020-11-08T02:44:55.161986Z",
     "iopub.status.idle": "2020-11-08T02:44:55.175011Z",
     "shell.execute_reply": "2020-11-08T02:44:55.174209Z",
     "shell.execute_reply.started": "2020-11-08T02:44:55.162223Z"
    }
   },
   "outputs": [
    {
     "data": {
      "text/plain": [
       "butter    8021.352731\n",
       "peanut    4976.050000\n",
       "like      2325.031776\n",
       "taste     2111.497024\n",
       "powder    1977.692922\n",
       "Name: topic_10, dtype: float64"
      ]
     },
     "execution_count": 174,
     "metadata": {},
     "output_type": "execute_result"
    }
   ],
   "source": [
    "(wordTopicmatrixGR_df.sort_values(by=\"topic_10\",ascending=False).head(5))[\"topic_10\"]"
   ]
  },
  {
   "cell_type": "code",
   "execution_count": 147,
   "metadata": {
    "execution": {
     "iopub.execute_input": "2020-11-08T01:40:55.940221Z",
     "iopub.status.busy": "2020-11-08T01:40:55.939945Z",
     "iopub.status.idle": "2020-11-08T01:40:55.945358Z",
     "shell.execute_reply": "2020-11-08T01:40:55.944598Z",
     "shell.execute_reply.started": "2020-11-08T01:40:55.940191Z"
    }
   },
   "outputs": [
    {
     "data": {
      "text/plain": [
       "(20, 21926)"
      ]
     },
     "execution_count": 147,
     "metadata": {},
     "output_type": "execute_result"
    }
   ],
   "source": [
    "LD_AllocatorGR.components_.shape"
   ]
  },
  {
   "cell_type": "code",
   "execution_count": 148,
   "metadata": {
    "execution": {
     "iopub.execute_input": "2020-11-08T01:41:59.838224Z",
     "iopub.status.busy": "2020-11-08T01:41:59.837964Z",
     "iopub.status.idle": "2020-11-08T01:41:59.841571Z",
     "shell.execute_reply": "2020-11-08T01:41:59.840826Z",
     "shell.execute_reply.started": "2020-11-08T01:41:59.838195Z"
    }
   },
   "outputs": [],
   "source": [
    "topicXwordGBMatrix = LD_AllocatorGR.components_"
   ]
  },
  {
   "cell_type": "code",
   "execution_count": 149,
   "metadata": {
    "execution": {
     "iopub.execute_input": "2020-11-08T01:43:11.229785Z",
     "iopub.status.busy": "2020-11-08T01:43:11.229524Z",
     "iopub.status.idle": "2020-11-08T01:43:11.237919Z",
     "shell.execute_reply": "2020-11-08T01:43:11.237007Z",
     "shell.execute_reply.started": "2020-11-08T01:43:11.229756Z"
    }
   },
   "outputs": [
    {
     "data": {
      "text/plain": [
       "array([[0.05      , 0.05      , 0.05      , ..., 0.05      , 0.05      ,\n",
       "        0.05      ],\n",
       "       [0.05      , 0.05      , 0.05      , ..., 0.05      , 0.05      ,\n",
       "        0.05      ],\n",
       "       [0.05      , 0.05      , 0.05      , ..., 0.05      , 0.05      ,\n",
       "        0.05      ],\n",
       "       ...,\n",
       "       [0.05      , 0.05      , 4.0571377 , ..., 0.05      , 0.05      ,\n",
       "        0.05      ],\n",
       "       [0.05      , 0.05      , 0.05      , ..., 0.05      , 0.05      ,\n",
       "        0.05      ],\n",
       "       [0.05      , 0.05      , 4.15169195, ..., 0.05      , 0.05      ,\n",
       "        0.05      ]])"
      ]
     },
     "execution_count": 149,
     "metadata": {},
     "output_type": "execute_result"
    }
   ],
   "source": [
    "topicXwordGBMatrix"
   ]
  },
  {
   "cell_type": "code",
   "execution_count": 175,
   "metadata": {
    "execution": {
     "iopub.execute_input": "2020-11-08T02:46:54.992200Z",
     "iopub.status.busy": "2020-11-08T02:46:54.991919Z",
     "iopub.status.idle": "2020-11-08T02:46:56.059772Z",
     "shell.execute_reply": "2020-11-08T02:46:56.058958Z",
     "shell.execute_reply.started": "2020-11-08T02:46:54.992162Z"
    }
   },
   "outputs": [],
   "source": [
    "pcaGR = PCA(n_components=2)\n",
    "pcaGR.fit(docTopicMatrixGR)\n",
    "docReducedTopicMatrixGR = pcaGR.transform(docTopicMatrixGR)"
   ]
  },
  {
   "cell_type": "code",
   "execution_count": 177,
   "metadata": {
    "execution": {
     "iopub.execute_input": "2020-11-08T02:47:09.644344Z",
     "iopub.status.busy": "2020-11-08T02:47:09.644074Z",
     "iopub.status.idle": "2020-11-08T02:47:09.648903Z",
     "shell.execute_reply": "2020-11-08T02:47:09.648190Z",
     "shell.execute_reply.started": "2020-11-08T02:47:09.644315Z"
    }
   },
   "outputs": [
    {
     "data": {
      "text/plain": [
       "(152586, 2)"
      ]
     },
     "execution_count": 177,
     "metadata": {},
     "output_type": "execute_result"
    }
   ],
   "source": [
    "docReducedTopicMatrixGR.shape"
   ]
  },
  {
   "cell_type": "code",
   "execution_count": 206,
   "metadata": {
    "execution": {
     "iopub.execute_input": "2020-11-08T03:56:19.834422Z",
     "iopub.status.busy": "2020-11-08T03:56:19.834157Z",
     "iopub.status.idle": "2020-11-08T03:56:19.838859Z",
     "shell.execute_reply": "2020-11-08T03:56:19.838299Z",
     "shell.execute_reply.started": "2020-11-08T03:56:19.834393Z"
    }
   },
   "outputs": [
    {
     "data": {
      "text/plain": [
       "(-0.13919241846670538, 0.24701892627568406)"
      ]
     },
     "execution_count": 206,
     "metadata": {},
     "output_type": "execute_result"
    }
   ],
   "source": [
    "docReducedTopicMatrixGR[0][0],docReducedTopicMatrixGR[0][1]"
   ]
  },
  {
   "cell_type": "code",
   "execution_count": 349,
   "metadata": {
    "execution": {
     "iopub.execute_input": "2020-11-08T21:04:06.598322Z",
     "iopub.status.busy": "2020-11-08T21:04:06.598020Z",
     "iopub.status.idle": "2020-11-08T21:04:06.603813Z",
     "shell.execute_reply": "2020-11-08T21:04:06.603170Z",
     "shell.execute_reply.started": "2020-11-08T21:04:06.598292Z"
    }
   },
   "outputs": [],
   "source": [
    "#Color map used to color each document in the plot\n",
    "TOPIC_COLORS={\"topic_0\":\"red\",\n",
    "                 \"topic_1\":\"orange\",\n",
    "                 \"topic_2\":\"yellow\",\n",
    "                 \"topic_3\":\"green\",\n",
    "                 \"topic_4\":\"blue\",\n",
    "                 \"topic_5\":\"indigo\",\n",
    "                 \"topic_6\":\"violet\",\n",
    "                 \"topic_7\":\"cyan\",\n",
    "                 \"topic_8\":\"brown\",\n",
    "                 \"topic_9\":\"white\",\n",
    "                 \"topic_10\":\"gray\",\n",
    "                 \"topic_11\":\"yellowgreen\",\n",
    "                 \"topic_12\":\"skyblue\",\n",
    "                 \"topic_13\":\"chartreuse\",\n",
    "                 \"topic_14\":\"goldenrod\",\n",
    "                 \"topic_15\":\"salmon\",\n",
    "                 \"topic_16\":\"magenta\",\n",
    "                 \"topic_17\":\"cornflowerblue\",\n",
    "                 \"topic_18\":\"ivory\",\n",
    "                 \"topic_19\":\"black\"}"
   ]
  },
  {
   "cell_type": "code",
   "execution_count": 354,
   "metadata": {
    "execution": {
     "iopub.execute_input": "2020-11-08T21:07:52.641423Z",
     "iopub.status.busy": "2020-11-08T21:07:52.641016Z",
     "iopub.status.idle": "2020-11-08T21:07:52.646983Z",
     "shell.execute_reply": "2020-11-08T21:07:52.646392Z",
     "shell.execute_reply.started": "2020-11-08T21:07:52.641376Z"
    }
   },
   "outputs": [],
   "source": [
    "def getcolor(row_index,basecolor,doc_topic_matrix_df):\n",
    "    \"\"\"\n",
    "    This function takes a document located at `row_index` in the `doc_topic_matrix_df` and determines\n",
    "    to which topic it belongs by finding the column with the max value at `row_index` in `doc_topic_matrix_df`\n",
    "    It then uses `TOPIC_COLORS` to return the color associated with that topic\n",
    "    \"\"\"\n",
    "    #assuming the first 20 columns are the topic weights\n",
    "    global TOPIC_COLORS\n",
    "    max_topic_name = doc_topic_matrix_df.iloc[:,:20].iloc[row_index].idxmax()\n",
    "    \n",
    "    if max_topic_name in TOPIC_COLORS.keys():\n",
    "        return TOPIC_COLORS[max_topic_name]\n",
    "    else:\n",
    "        print(\"WARNING: Say topic = {} and did not expect to!\".format(max_topic_name))\n",
    "        return \"black\"\n",
    "    "
   ]
  },
  {
   "cell_type": "code",
   "execution_count": 358,
   "metadata": {
    "execution": {
     "iopub.execute_input": "2020-11-08T21:13:52.010114Z",
     "iopub.status.busy": "2020-11-08T21:13:52.009835Z",
     "iopub.status.idle": "2020-11-08T21:13:52.018580Z",
     "shell.execute_reply": "2020-11-08T21:13:52.018023Z",
     "shell.execute_reply.started": "2020-11-08T21:13:52.010083Z"
    }
   },
   "outputs": [],
   "source": [
    "def plot_PCA_2D2(DocTopic2DMatrix,DocTopicMatrix_df):\n",
    "    \"\"\"\n",
    "    Generates a 2-D scatter plot of the reviews.\n",
    "    \n",
    "    `DoctTopic2DMatrix` is an array of N documents where the columns in row i represent the (x,y) coordinates for that document (document i)\n",
    "    \n",
    "    Each plotted document is colored according to the topic (out of 20) to which it belongs and is\n",
    "    colored according to the topic-to-color map defined in TOPIC_COLORS\n",
    "    \n",
    "    \"\"\"\n",
    "    #TODO: Get it to work for any number of topics (mostly calc colors using the topic as the offset from a base color)\n",
    "    global TOPIC_COLORS\n",
    "    review_names = [\"r\"+str(numb) for numb in range(len(DocTopic2DMatrix))]\n",
    "    review_ids = range(len(review_names))\n",
    "    plotted_topics = []\n",
    "    plt.figure(figsize=(20,20))\n",
    "    for id in review_ids:\n",
    "        color = getcolor(id,\"#000000\",DocTopicMatrix_df)\n",
    "        for mykey in TOPIC_COLORS.keys():\n",
    "            if color == TOPIC_COLORS[mykey]:\n",
    "                name = mykey\n",
    "        plt.scatter(DocTopic2DMatrix[id][0],DocTopic2DMatrix[id][1],c=color,label=name,edgecolors=\"gray\",alpha=0.8)\n",
    "        plotted_topics.append(name)\n",
    "    \n",
    "    plotted_topics = set(plotted_topics)\n",
    "    plotted_topics = list(plotted_topics)\n",
    "    plotted_topics.sort(key=lambda x: int(x.split(\"_\")[1]))\n",
    "    plt.legend(plotted_topics)\n",
    "    plt.savefig(\"../Documents/Images/pca_goodreviews_scatterplot.png\",dpi=400)\n"
   ]
  },
  {
   "cell_type": "code",
   "execution_count": 359,
   "metadata": {
    "execution": {
     "iopub.execute_input": "2020-11-08T21:13:52.963196Z",
     "iopub.status.busy": "2020-11-08T21:13:52.962935Z",
     "iopub.status.idle": "2020-11-08T21:13:52.968294Z",
     "shell.execute_reply": "2020-11-08T21:13:52.967647Z",
     "shell.execute_reply.started": "2020-11-08T21:13:52.963169Z"
    }
   },
   "outputs": [],
   "source": [
    "review_subset_size = 7000\n",
    "\n",
    "numb_of_good_reviews = docReducedTopicMatrixGR.shape[0]\n",
    "selected_reviews = np.random.choice(numb_of_good_reviews,\n",
    "                                   size=review_subset_size,\n",
    "                                   replace=True)\n",
    "\n",
    "\n",
    "docReducedTopicMatrixGR_sub = docReducedTopicMatrixGR[selected_reviews,:]\n"
   ]
  },
  {
   "cell_type": "code",
   "execution_count": 360,
   "metadata": {
    "execution": {
     "iopub.execute_input": "2020-11-08T21:13:54.221733Z",
     "iopub.status.busy": "2020-11-08T21:13:54.221470Z",
     "iopub.status.idle": "2020-11-08T21:16:23.750935Z",
     "shell.execute_reply": "2020-11-08T21:16:23.750215Z",
     "shell.execute_reply.started": "2020-11-08T21:13:54.221705Z"
    }
   },
   "outputs": [
    {
     "name": "stdout",
     "output_type": "stream",
     "text": [
      "time spent doing operation is 0:02:22.391673\n"
     ]
    },
    {
     "data": {
      "image/png": "[encoded data removed]",
      "text/plain": [
       "<Figure size 1440x1440 with 1 Axes>"
      ]
     },
     "metadata": {
      "needs_background": "light"
     },
     "output_type": "display_data"
    }
   ],
   "source": [
    "#It takes 11 hours to generate the scatter plot for the full population of good reviews\n",
    "#just doing a random subset here\n",
    "\n",
    "start_time = datetime.datetime.now()\n",
    "plot_PCA_2D2(docReducedTopicMatrixGR_sub, docTopicMatrixGR_df)\n",
    "end_time = datetime.datetime.now()\n",
    "print(\"time spent doing operation is {}\".format(end_time - start_time))"
   ]
  },
  {
   "cell_type": "markdown",
   "metadata": {},
   "source": [
    "**TODO**\n",
    "You ran the cluster on the whole set of bad reviews. Include that here and add some narration to it."
   ]
  },
  {
   "cell_type": "code",
   "execution_count": null,
   "metadata": {},
   "outputs": [],
   "source": []
  },
  {
   "cell_type": "code",
   "execution_count": null,
   "metadata": {},
   "outputs": [],
   "source": []
  }
 ],
 "metadata": {
  "kernelspec": {
   "display_name": "Python 3",
   "language": "python",
   "name": "python3"
  },
  "language_info": {
   "codemirror_mode": {
    "name": "ipython",
    "version": 3
   },
   "file_extension": ".py",
   "mimetype": "text/x-python",
   "name": "python",
   "nbconvert_exporter": "python",
   "pygments_lexer": "ipython3",
   "version": "3.8.3"
  }
 },
 "nbformat": 4,
 "nbformat_minor": 4
}
