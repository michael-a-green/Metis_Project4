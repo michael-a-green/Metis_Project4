{
 "cells": [
  {
   "cell_type": "code",
   "execution_count": 174,
   "metadata": {
    "execution": {
     "iopub.execute_input": "2020-11-05T02:26:13.871069Z",
     "iopub.status.busy": "2020-11-05T02:26:13.870813Z",
     "iopub.status.idle": "2020-11-05T02:26:13.874168Z",
     "shell.execute_reply": "2020-11-05T02:26:13.873471Z",
     "shell.execute_reply.started": "2020-11-05T02:26:13.871039Z"
    }
   },
   "outputs": [],
   "source": [
    "#stuff"
   ]
  },
  {
   "cell_type": "markdown",
   "metadata": {},
   "source": [
    "# Purpose of this Notebook"
   ]
  },
  {
   "cell_type": "code",
   "execution_count": 175,
   "metadata": {
    "execution": {
     "iopub.execute_input": "2020-11-05T02:26:13.875370Z",
     "iopub.status.busy": "2020-11-05T02:26:13.875186Z",
     "iopub.status.idle": "2020-11-05T02:26:13.882817Z",
     "shell.execute_reply": "2020-11-05T02:26:13.882167Z",
     "shell.execute_reply.started": "2020-11-05T02:26:13.875345Z"
    }
   },
   "outputs": [],
   "source": [
    "#Number of reviews to put into data frame of good reviews\n",
    "NUMB_OF_DOCS1 = 1000\n",
    "\n",
    "#Number of reviews to put into data frame of bad reviews\n",
    "NUMB_OF_DOCS2=100"
   ]
  },
  {
   "cell_type": "markdown",
   "metadata": {},
   "source": [
    "## Problem Statement"
   ]
  },
  {
   "cell_type": "markdown",
   "metadata": {},
   "source": [
    "Product developers often want to know this about their products:\n",
    "\n",
    "* For products that people don't like, what is it about the products they don't like? Maybe if we know this we could improve the product by fixing this unliked product features\n",
    "* For products that people love, what is it about the products that result in people loving them? Maybe if we expanded on these loved features, we could get new customers or better retain current customers"
   ]
  },
  {
   "cell_type": "markdown",
   "metadata": {},
   "source": [
    "## Proposed Solution"
   ]
  },
  {
   "cell_type": "markdown",
   "metadata": {},
   "source": [
    "Topic modeling and clustering(?) that identifies the features of products that people love and somehow rank them so that a product manaer can have a priority list of things that could be addressed to get more love\n",
    "Topic modeling and clustering(?) that identifies the features of products that people don't like and somehow rank them so that a product manaer can have a priority list of things that could be fixed to hopefully turn the disliked product into a liked product.\n"
   ]
  },
  {
   "cell_type": "markdown",
   "metadata": {
    "execution": {
     "iopub.execute_input": "2020-11-04T21:11:05.576479Z",
     "iopub.status.busy": "2020-11-04T21:11:05.576164Z",
     "iopub.status.idle": "2020-11-04T21:11:05.580086Z",
     "shell.execute_reply": "2020-11-04T21:11:05.579426Z",
     "shell.execute_reply.started": "2020-11-04T21:11:05.576406Z"
    }
   },
   "source": [
    "# Module Import"
   ]
  },
  {
   "cell_type": "code",
   "execution_count": 209,
   "metadata": {
    "execution": {
     "iopub.execute_input": "2020-11-05T02:35:46.763942Z",
     "iopub.status.busy": "2020-11-05T02:35:46.763682Z",
     "iopub.status.idle": "2020-11-05T02:35:46.837163Z",
     "shell.execute_reply": "2020-11-05T02:35:46.836567Z",
     "shell.execute_reply.started": "2020-11-05T02:35:46.763913Z"
    }
   },
   "outputs": [],
   "source": [
    "import datetime\n",
    "from collections import Counter\n",
    "\n",
    "import pandas as pd\n",
    "import numpy as np\n",
    "import matplotlib.pyplot as plt\n",
    "\n",
    "\n",
    "\n",
    "import re\n",
    "\n",
    "#to speed up pandas operands\n",
    "from pandarallel import pandarallel\n",
    "\n",
    "from sklearn.feature_extraction.text import CountVectorizer, TfidfVectorizer\n",
    "from sklearn.decomposition import LatentDirichletAllocation\n",
    "\n",
    "import nltk\n",
    "from nltk.tag import pos_tag\n",
    "from nltk.corpus import wordnet\n",
    "from nltk.tag import pos_tag\n",
    "from nltk.tokenize import word_tokenize\n",
    "from nltk.stem import WordNetLemmatizer\n",
    "\n",
    "import pyLDAvis\n",
    "import pyLDAvis.sklearn\n",
    "\n",
    "#gensim\n",
    "from gensim import corpora, models, similarities, matutils\n",
    "\n"
   ]
  },
  {
   "cell_type": "markdown",
   "metadata": {},
   "source": [
    "# NLP Pipeline\n",
    "\n"
   ]
  },
  {
   "cell_type": "markdown",
   "metadata": {},
   "source": [
    "## Text Preprocessing\n",
    "Essentially will do this:\n",
    "\n",
    "```\n",
    "\n",
    "(input text) -->[clean(remove text I don't want)]--> [tokenization] --> [lemmatization] --> [Next_Stages]\n",
    "\n",
    "```"
   ]
  },
  {
   "cell_type": "code",
   "execution_count": 177,
   "metadata": {
    "execution": {
     "iopub.execute_input": "2020-11-05T02:26:13.897787Z",
     "iopub.status.busy": "2020-11-05T02:26:13.897635Z",
     "iopub.status.idle": "2020-11-05T02:26:16.833321Z",
     "shell.execute_reply": "2020-11-05T02:26:16.832655Z",
     "shell.execute_reply.started": "2020-11-05T02:26:13.897767Z"
    }
   },
   "outputs": [],
   "source": [
    "reviews_df = pd.read_csv(\"../Data/Reviews.csv\")"
   ]
  },
  {
   "cell_type": "code",
   "execution_count": 178,
   "metadata": {
    "execution": {
     "iopub.execute_input": "2020-11-05T02:26:16.834225Z",
     "iopub.status.busy": "2020-11-05T02:26:16.834079Z",
     "iopub.status.idle": "2020-11-05T02:26:16.844902Z",
     "shell.execute_reply": "2020-11-05T02:26:16.844283Z",
     "shell.execute_reply.started": "2020-11-05T02:26:16.834205Z"
    }
   },
   "outputs": [
    {
     "data": {
      "text/html": [
       "<div>\n",
       "<style scoped>\n",
       "    .dataframe tbody tr th:only-of-type {\n",
       "        vertical-align: middle;\n",
       "    }\n",
       "\n",
       "    .dataframe tbody tr th {\n",
       "        vertical-align: top;\n",
       "    }\n",
       "\n",
       "    .dataframe thead th {\n",
       "        text-align: right;\n",
       "    }\n",
       "</style>\n",
       "<table border=\"1\" class=\"dataframe\">\n",
       "  <thead>\n",
       "    <tr style=\"text-align: right;\">\n",
       "      <th></th>\n",
       "      <th>Id</th>\n",
       "      <th>ProductId</th>\n",
       "      <th>UserId</th>\n",
       "      <th>ProfileName</th>\n",
       "      <th>HelpfulnessNumerator</th>\n",
       "      <th>HelpfulnessDenominator</th>\n",
       "      <th>Score</th>\n",
       "      <th>Time</th>\n",
       "      <th>Summary</th>\n",
       "      <th>Text</th>\n",
       "    </tr>\n",
       "  </thead>\n",
       "  <tbody>\n",
       "    <tr>\n",
       "      <th>0</th>\n",
       "      <td>1</td>\n",
       "      <td>B001E4KFG0</td>\n",
       "      <td>A3SGXH7AUHU8GW</td>\n",
       "      <td>delmartian</td>\n",
       "      <td>1</td>\n",
       "      <td>1</td>\n",
       "      <td>5</td>\n",
       "      <td>1303862400</td>\n",
       "      <td>Good Quality Dog Food</td>\n",
       "      <td>I have bought several of the Vitality canned d...</td>\n",
       "    </tr>\n",
       "    <tr>\n",
       "      <th>1</th>\n",
       "      <td>2</td>\n",
       "      <td>B00813GRG4</td>\n",
       "      <td>A1D87F6ZCVE5NK</td>\n",
       "      <td>dll pa</td>\n",
       "      <td>0</td>\n",
       "      <td>0</td>\n",
       "      <td>1</td>\n",
       "      <td>1346976000</td>\n",
       "      <td>Not as Advertised</td>\n",
       "      <td>Product arrived labeled as Jumbo Salted Peanut...</td>\n",
       "    </tr>\n",
       "    <tr>\n",
       "      <th>2</th>\n",
       "      <td>3</td>\n",
       "      <td>B000LQOCH0</td>\n",
       "      <td>ABXLMWJIXXAIN</td>\n",
       "      <td>Natalia Corres \"Natalia Corres\"</td>\n",
       "      <td>1</td>\n",
       "      <td>1</td>\n",
       "      <td>4</td>\n",
       "      <td>1219017600</td>\n",
       "      <td>\"Delight\" says it all</td>\n",
       "      <td>This is a confection that has been around a fe...</td>\n",
       "    </tr>\n",
       "    <tr>\n",
       "      <th>3</th>\n",
       "      <td>4</td>\n",
       "      <td>B000UA0QIQ</td>\n",
       "      <td>A395BORC6FGVXV</td>\n",
       "      <td>Karl</td>\n",
       "      <td>3</td>\n",
       "      <td>3</td>\n",
       "      <td>2</td>\n",
       "      <td>1307923200</td>\n",
       "      <td>Cough Medicine</td>\n",
       "      <td>If you are looking for the secret ingredient i...</td>\n",
       "    </tr>\n",
       "    <tr>\n",
       "      <th>4</th>\n",
       "      <td>5</td>\n",
       "      <td>B006K2ZZ7K</td>\n",
       "      <td>A1UQRSCLF8GW1T</td>\n",
       "      <td>Michael D. Bigham \"M. Wassir\"</td>\n",
       "      <td>0</td>\n",
       "      <td>0</td>\n",
       "      <td>5</td>\n",
       "      <td>1350777600</td>\n",
       "      <td>Great taffy</td>\n",
       "      <td>Great taffy at a great price.  There was a wid...</td>\n",
       "    </tr>\n",
       "  </tbody>\n",
       "</table>\n",
       "</div>"
      ],
      "text/plain": [
       "   Id   ProductId          UserId                      ProfileName  \\\n",
       "0   1  B001E4KFG0  A3SGXH7AUHU8GW                       delmartian   \n",
       "1   2  B00813GRG4  A1D87F6ZCVE5NK                           dll pa   \n",
       "2   3  B000LQOCH0   ABXLMWJIXXAIN  Natalia Corres \"Natalia Corres\"   \n",
       "3   4  B000UA0QIQ  A395BORC6FGVXV                             Karl   \n",
       "4   5  B006K2ZZ7K  A1UQRSCLF8GW1T    Michael D. Bigham \"M. Wassir\"   \n",
       "\n",
       "   HelpfulnessNumerator  HelpfulnessDenominator  Score        Time  \\\n",
       "0                     1                       1      5  1303862400   \n",
       "1                     0                       0      1  1346976000   \n",
       "2                     1                       1      4  1219017600   \n",
       "3                     3                       3      2  1307923200   \n",
       "4                     0                       0      5  1350777600   \n",
       "\n",
       "                 Summary                                               Text  \n",
       "0  Good Quality Dog Food  I have bought several of the Vitality canned d...  \n",
       "1      Not as Advertised  Product arrived labeled as Jumbo Salted Peanut...  \n",
       "2  \"Delight\" says it all  This is a confection that has been around a fe...  \n",
       "3         Cough Medicine  If you are looking for the secret ingredient i...  \n",
       "4            Great taffy  Great taffy at a great price.  There was a wid...  "
      ]
     },
     "execution_count": 178,
     "metadata": {},
     "output_type": "execute_result"
    }
   ],
   "source": [
    "reviews_df.head()"
   ]
  },
  {
   "cell_type": "markdown",
   "metadata": {},
   "source": [
    "Going to create a dataframe of bad reviews and one of good reviews to process separately"
   ]
  },
  {
   "cell_type": "code",
   "execution_count": 179,
   "metadata": {
    "execution": {
     "iopub.execute_input": "2020-11-05T02:26:16.846387Z",
     "iopub.status.busy": "2020-11-05T02:26:16.846222Z",
     "iopub.status.idle": "2020-11-05T02:26:16.943284Z",
     "shell.execute_reply": "2020-11-05T02:26:16.942643Z",
     "shell.execute_reply.started": "2020-11-05T02:26:16.846367Z"
    }
   },
   "outputs": [],
   "source": [
    "good_reviews_df = reviews_df[ reviews_df[\"Score\"] >= 4 ]\n",
    "bad_reviews_df = reviews_df[ reviews_df[\"Score\"] <= 2 ]"
   ]
  },
  {
   "cell_type": "code",
   "execution_count": 180,
   "metadata": {
    "execution": {
     "iopub.execute_input": "2020-11-05T02:26:16.944467Z",
     "iopub.status.busy": "2020-11-05T02:26:16.944319Z",
     "iopub.status.idle": "2020-11-05T02:26:16.947759Z",
     "shell.execute_reply": "2020-11-05T02:26:16.947174Z",
     "shell.execute_reply.started": "2020-11-05T02:26:16.944447Z"
    }
   },
   "outputs": [],
   "source": [
    "if (NUMB_OF_DOCS1 > good_reviews_df.shape[0]) or (NUMB_OF_DOCS1 < 0):\n",
    "    NUMB_OF_DOCS1 = good_reviews_df.shape[0]\n",
    "\n",
    "\n",
    "if (NUMB_OF_DOCS2 > bad_reviews_df.shape[0]) or (NUMB_OF_DOCS2 < 0):\n",
    "    NUMB_OF_DOCS2 = bad_reviews_df.shape[0]"
   ]
  },
  {
   "cell_type": "code",
   "execution_count": 181,
   "metadata": {
    "execution": {
     "iopub.execute_input": "2020-11-05T02:26:16.948579Z",
     "iopub.status.busy": "2020-11-05T02:26:16.948439Z",
     "iopub.status.idle": "2020-11-05T02:26:16.972030Z",
     "shell.execute_reply": "2020-11-05T02:26:16.971276Z",
     "shell.execute_reply.started": "2020-11-05T02:26:16.948560Z"
    }
   },
   "outputs": [],
   "source": [
    "stuff =list(good_reviews_df.Text.head(NUMB_OF_DOCS1))"
   ]
  },
  {
   "cell_type": "code",
   "execution_count": 182,
   "metadata": {
    "execution": {
     "iopub.execute_input": "2020-11-05T02:26:16.973174Z",
     "iopub.status.busy": "2020-11-05T02:26:16.972956Z",
     "iopub.status.idle": "2020-11-05T02:26:16.996366Z",
     "shell.execute_reply": "2020-11-05T02:26:16.995635Z",
     "shell.execute_reply.started": "2020-11-05T02:26:16.973146Z"
    }
   },
   "outputs": [],
   "source": [
    "#Removing HTML from the text\n",
    "stuff = [re.sub(\"<.*?>\",\"\",item) for item in stuff]"
   ]
  },
  {
   "cell_type": "code",
   "execution_count": 183,
   "metadata": {
    "execution": {
     "iopub.execute_input": "2020-11-05T02:26:16.997571Z",
     "iopub.status.busy": "2020-11-05T02:26:16.997359Z",
     "iopub.status.idle": "2020-11-05T02:26:17.018959Z",
     "shell.execute_reply": "2020-11-05T02:26:17.018228Z",
     "shell.execute_reply.started": "2020-11-05T02:26:16.997542Z"
    }
   },
   "outputs": [],
   "source": [
    "#remove punctuation\n",
    "stuff = [  re.sub(\"[\\.|\\!|\\?|\\,|\\;|\\:|\\&|\\(|\\)|\\-]\",\"\",mystring) for mystring in stuff  ]"
   ]
  },
  {
   "cell_type": "markdown",
   "metadata": {},
   "source": [
    "**Tokenize**"
   ]
  },
  {
   "cell_type": "code",
   "execution_count": 184,
   "metadata": {
    "execution": {
     "iopub.execute_input": "2020-11-05T02:26:17.020159Z",
     "iopub.status.busy": "2020-11-05T02:26:17.019942Z",
     "iopub.status.idle": "2020-11-05T02:26:17.310740Z",
     "shell.execute_reply": "2020-11-05T02:26:17.309951Z",
     "shell.execute_reply.started": "2020-11-05T02:26:17.020131Z"
    }
   },
   "outputs": [],
   "source": [
    "stuff_tokenized= []\n",
    "\n",
    "stuff_tokenized = [word_tokenize(review) for review in stuff]"
   ]
  },
  {
   "cell_type": "code",
   "execution_count": 185,
   "metadata": {
    "execution": {
     "iopub.execute_input": "2020-11-05T02:26:17.311963Z",
     "iopub.status.busy": "2020-11-05T02:26:17.311757Z",
     "iopub.status.idle": "2020-11-05T02:26:17.314639Z",
     "shell.execute_reply": "2020-11-05T02:26:17.314005Z",
     "shell.execute_reply.started": "2020-11-05T02:26:17.311934Z"
    }
   },
   "outputs": [],
   "source": [
    "#stuff_tokenized[1]"
   ]
  },
  {
   "cell_type": "code",
   "execution_count": 186,
   "metadata": {
    "execution": {
     "iopub.execute_input": "2020-11-05T02:26:17.315671Z",
     "iopub.status.busy": "2020-11-05T02:26:17.315480Z",
     "iopub.status.idle": "2020-11-05T02:26:17.343100Z",
     "shell.execute_reply": "2020-11-05T02:26:17.342455Z",
     "shell.execute_reply.started": "2020-11-05T02:26:17.315646Z"
    }
   },
   "outputs": [],
   "source": [
    "#for i,item in enumerate(stuff_tokenized):\n",
    "#    if i == 10:\n",
    "#        break\n",
    "#    print(i,\"-->\",item,\"\\n\")"
   ]
  },
  {
   "cell_type": "code",
   "execution_count": 187,
   "metadata": {
    "execution": {
     "iopub.execute_input": "2020-11-05T02:26:17.345371Z",
     "iopub.status.busy": "2020-11-05T02:26:17.345169Z",
     "iopub.status.idle": "2020-11-05T02:26:17.370662Z",
     "shell.execute_reply": "2020-11-05T02:26:17.370006Z",
     "shell.execute_reply.started": "2020-11-05T02:26:17.345345Z"
    }
   },
   "outputs": [],
   "source": [
    "#lemmatize each word in stuff\n",
    "def calc_partofspeech(word):\n",
    "    \"\"\"generates the pos encoding that's accepted by WordNetLemmatizer.lemmatize()\"\"\"\n",
    "    #print(\"word = \",word)\n",
    "    [(output_word, output_pos)] = pos_tag(word_tokenize(word))\n",
    "    \n",
    "    #decode output_pos to the pos required by the lemmatizer\n",
    "    \n",
    "    if \"JJ\" in output_pos:\n",
    "        pos = \"a\"\n",
    "    elif \"RB\" in output_pos:\n",
    "        pos = \"r\"\n",
    "    elif \"VB\" in output_pos:\n",
    "        pos = \"v\"\n",
    "    else:\n",
    "        pos = \"n\"\n",
    "    \n",
    "    return pos\n",
    "\n",
    "\n"
   ]
  },
  {
   "cell_type": "code",
   "execution_count": 188,
   "metadata": {
    "execution": {
     "iopub.execute_input": "2020-11-05T02:26:17.371883Z",
     "iopub.status.busy": "2020-11-05T02:26:17.371689Z",
     "iopub.status.idle": "2020-11-05T02:26:17.398567Z",
     "shell.execute_reply": "2020-11-05T02:26:17.397935Z",
     "shell.execute_reply.started": "2020-11-05T02:26:17.371857Z"
    }
   },
   "outputs": [],
   "source": [
    "#for i,item in enumerate(stuff):\n",
    "#   if i == 10:\n",
    "#        break\n",
    "#   print(i,\"-->\",item,\"\\n\")"
   ]
  },
  {
   "cell_type": "markdown",
   "metadata": {},
   "source": [
    "lemmatizing to cut down on the size of the dimensions of the eventual vectorized word matrix without losing meaning of the text"
   ]
  },
  {
   "cell_type": "code",
   "execution_count": 189,
   "metadata": {
    "execution": {
     "iopub.execute_input": "2020-11-05T02:26:17.399588Z",
     "iopub.status.busy": "2020-11-05T02:26:17.399390Z",
     "iopub.status.idle": "2020-11-05T02:26:30.363465Z",
     "shell.execute_reply": "2020-11-05T02:26:30.362667Z",
     "shell.execute_reply.started": "2020-11-05T02:26:17.399562Z"
    }
   },
   "outputs": [],
   "source": [
    "wordNetLemmatizer = WordNetLemmatizer()\n",
    "\n",
    "stuff_lemmatized = []\n",
    "\n",
    "for mydoc in stuff_tokenized:\n",
    "    temp_mydoc_lemmatized = []\n",
    "    for myword in mydoc:\n",
    "        temp_word_lemmatized = wordNetLemmatizer.lemmatize(myword,calc_partofspeech(myword))\n",
    "        temp_mydoc_lemmatized.append(temp_word_lemmatized)\n",
    "\n",
    "    stuff_lemmatized.append(temp_mydoc_lemmatized)\n",
    "    \n",
    "#stuff_lemmatized = [wordNetLemmatizer.lemmatize(myword,calc_partofspeech(myword)) for mydoc in stuff_tokenized for myword in mydoc]\n",
    "\n"
   ]
  },
  {
   "cell_type": "code",
   "execution_count": 190,
   "metadata": {
    "execution": {
     "iopub.execute_input": "2020-11-05T02:26:30.364570Z",
     "iopub.status.busy": "2020-11-05T02:26:30.364412Z",
     "iopub.status.idle": "2020-11-05T02:26:30.367006Z",
     "shell.execute_reply": "2020-11-05T02:26:30.366442Z",
     "shell.execute_reply.started": "2020-11-05T02:26:30.364549Z"
    }
   },
   "outputs": [],
   "source": [
    "#Test code doesn't need to be run\n",
    "#myword = \"running\"\n",
    "#myword_lemmed = wordNetLemmatizer.lemmatize(myword,calc_partofspeech(myword))\n",
    "#myword_lemmed = wordNetLemmatizer.lemmatize(myword,\"v\")\n",
    "\n",
    "#print(\"myword_lemmed = \",myword_lemmed)\n",
    "#print(\"POS for myword = \",calc_partofspeech(myword))"
   ]
  },
  {
   "cell_type": "code",
   "execution_count": 191,
   "metadata": {
    "execution": {
     "iopub.execute_input": "2020-11-05T02:26:30.367802Z",
     "iopub.status.busy": "2020-11-05T02:26:30.367661Z",
     "iopub.status.idle": "2020-11-05T02:26:30.385463Z",
     "shell.execute_reply": "2020-11-05T02:26:30.384794Z",
     "shell.execute_reply.started": "2020-11-05T02:26:30.367783Z"
    }
   },
   "outputs": [],
   "source": [
    "#stuff_lemmatized[0]"
   ]
  },
  {
   "cell_type": "code",
   "execution_count": 192,
   "metadata": {
    "execution": {
     "iopub.execute_input": "2020-11-05T02:26:30.386570Z",
     "iopub.status.busy": "2020-11-05T02:26:30.386358Z",
     "iopub.status.idle": "2020-11-05T02:26:30.399621Z",
     "shell.execute_reply": "2020-11-05T02:26:30.398946Z",
     "shell.execute_reply.started": "2020-11-05T02:26:30.386540Z"
    }
   },
   "outputs": [],
   "source": [
    "# I only want adjectives and adverbs sent to the vectorizer\n",
    "#stuff_pos_filtered = [mylemword for mylemdoc in stuff_lemmatized for mylemword in mylemdoc if (\"JJ\" in pos_tag(word_tokenize(mylemword))[0][1]) or (\"RB\" in pos_tag(word_tokenize(mylemword))[0][1])]"
   ]
  },
  {
   "cell_type": "code",
   "execution_count": 193,
   "metadata": {
    "execution": {
     "iopub.execute_input": "2020-11-05T02:26:30.400694Z",
     "iopub.status.busy": "2020-11-05T02:26:30.400484Z",
     "iopub.status.idle": "2020-11-05T02:26:30.421085Z",
     "shell.execute_reply": "2020-11-05T02:26:30.420436Z",
     "shell.execute_reply.started": "2020-11-05T02:26:30.400667Z"
    }
   },
   "outputs": [],
   "source": [
    "#stuff_pos_filtered[6]"
   ]
  },
  {
   "cell_type": "code",
   "execution_count": 198,
   "metadata": {
    "execution": {
     "iopub.execute_input": "2020-11-05T02:34:22.196874Z",
     "iopub.status.busy": "2020-11-05T02:34:22.196614Z",
     "iopub.status.idle": "2020-11-05T02:34:45.924264Z",
     "shell.execute_reply": "2020-11-05T02:34:45.923558Z",
     "shell.execute_reply.started": "2020-11-05T02:34:22.196845Z"
    }
   },
   "outputs": [],
   "source": [
    "# I only want adjectives and adverbs sent to the vectorizer\n",
    "\n",
    "stuff_pos_filtered = []\n",
    "\n",
    "for mylemdoc in stuff_lemmatized:\n",
    "    \n",
    "    temp_pos_filtered_doc = \"\"\n",
    "    \n",
    "    for mylemword in mylemdoc:\n",
    "        if (\"JJ\" in pos_tag(word_tokenize(mylemword))[0][1]) or (\"RB\" in pos_tag(word_tokenize(mylemword))[0][1]):\n",
    "            temp_pos_filtered_doc = temp_pos_filtered_doc + mylemword + \" \"\n",
    "            \n",
    "    stuff_pos_filtered.append(temp_pos_filtered_doc.rstrip())\n"
   ]
  },
  {
   "cell_type": "code",
   "execution_count": 199,
   "metadata": {
    "execution": {
     "iopub.execute_input": "2020-11-05T02:34:47.218334Z",
     "iopub.status.busy": "2020-11-05T02:34:47.218071Z",
     "iopub.status.idle": "2020-11-05T02:34:47.222835Z",
     "shell.execute_reply": "2020-11-05T02:34:47.222308Z",
     "shell.execute_reply.started": "2020-11-05T02:34:47.218304Z"
    }
   },
   "outputs": [
    {
     "data": {
      "text/plain": [
       "['several good more well well most',\n",
       " 'few tiny then liberally tiny Not too very highly familiar',\n",
       " 'great wide very',\n",
       " 'very enjoyable many only there too much just not particular last only',\n",
       " 'great very soft individually well together expensive highly']"
      ]
     },
     "execution_count": 199,
     "metadata": {},
     "output_type": "execute_result"
    }
   ],
   "source": [
    "stuff_pos_filtered[0:5]"
   ]
  },
  {
   "cell_type": "code",
   "execution_count": 200,
   "metadata": {
    "execution": {
     "iopub.execute_input": "2020-11-05T02:35:01.659316Z",
     "iopub.status.busy": "2020-11-05T02:35:01.659049Z",
     "iopub.status.idle": "2020-11-05T02:35:01.663552Z",
     "shell.execute_reply": "2020-11-05T02:35:01.662847Z",
     "shell.execute_reply.started": "2020-11-05T02:35:01.659286Z"
    }
   },
   "outputs": [
    {
     "data": {
      "text/plain": [
       "1000"
      ]
     },
     "execution_count": 200,
     "metadata": {},
     "output_type": "execute_result"
    }
   ],
   "source": [
    "len(stuff_pos_filtered)"
   ]
  },
  {
   "cell_type": "markdown",
   "metadata": {},
   "source": [
    "## Word Vectorization / Parsing\n",
    "\n",
    "Will do the following here:\n",
    "\n",
    "```\n",
    "\n",
    "(lemmatized text)-->[WordVectorization(dropping stop word)] --> [POS tagging] --> [collect Adjectives]\n",
    "\n",
    "\n",
    "```\n"
   ]
  },
  {
   "cell_type": "code",
   "execution_count": 201,
   "metadata": {
    "execution": {
     "iopub.execute_input": "2020-11-05T02:35:04.485296Z",
     "iopub.status.busy": "2020-11-05T02:35:04.485028Z",
     "iopub.status.idle": "2020-11-05T02:35:04.501864Z",
     "shell.execute_reply": "2020-11-05T02:35:04.501373Z",
     "shell.execute_reply.started": "2020-11-05T02:35:04.485267Z"
    }
   },
   "outputs": [],
   "source": [
    "vectorizer = CountVectorizer(stop_words=\"english\")\n",
    "docTermMatrixCountVec = vectorizer.fit_transform(stuff_pos_filtered)"
   ]
  },
  {
   "cell_type": "code",
   "execution_count": 202,
   "metadata": {
    "execution": {
     "iopub.execute_input": "2020-11-05T02:35:06.275076Z",
     "iopub.status.busy": "2020-11-05T02:35:06.274805Z",
     "iopub.status.idle": "2020-11-05T02:35:06.279483Z",
     "shell.execute_reply": "2020-11-05T02:35:06.278896Z",
     "shell.execute_reply.started": "2020-11-05T02:35:06.275044Z"
    }
   },
   "outputs": [
    {
     "data": {
      "text/plain": [
       "678"
      ]
     },
     "execution_count": 202,
     "metadata": {},
     "output_type": "execute_result"
    }
   ],
   "source": [
    "len(vectorizer.get_feature_names())"
   ]
  },
  {
   "cell_type": "code",
   "execution_count": 203,
   "metadata": {
    "execution": {
     "iopub.execute_input": "2020-11-05T02:35:10.287070Z",
     "iopub.status.busy": "2020-11-05T02:35:10.286810Z",
     "iopub.status.idle": "2020-11-05T02:35:10.292408Z",
     "shell.execute_reply": "2020-11-05T02:35:10.291792Z",
     "shell.execute_reply.started": "2020-11-05T02:35:10.287041Z"
    }
   },
   "outputs": [
    {
     "data": {
      "text/plain": [
       "array([[0, 0, 0, ..., 0, 0, 0],\n",
       "       [0, 0, 0, ..., 0, 0, 0],\n",
       "       [0, 0, 0, ..., 0, 0, 0],\n",
       "       ...,\n",
       "       [0, 0, 0, ..., 0, 0, 0],\n",
       "       [0, 1, 0, ..., 0, 0, 0],\n",
       "       [0, 0, 0, ..., 0, 0, 0]])"
      ]
     },
     "execution_count": 203,
     "metadata": {},
     "output_type": "execute_result"
    }
   ],
   "source": [
    "docTermMatrixCountVec.toarray()"
   ]
  },
  {
   "cell_type": "code",
   "execution_count": 204,
   "metadata": {
    "execution": {
     "iopub.execute_input": "2020-11-05T02:35:11.611104Z",
     "iopub.status.busy": "2020-11-05T02:35:11.610834Z",
     "iopub.status.idle": "2020-11-05T02:35:11.615292Z",
     "shell.execute_reply": "2020-11-05T02:35:11.614675Z",
     "shell.execute_reply.started": "2020-11-05T02:35:11.611073Z"
    }
   },
   "outputs": [
    {
     "data": {
      "text/plain": [
       "(1000, 678)"
      ]
     },
     "execution_count": 204,
     "metadata": {},
     "output_type": "execute_result"
    }
   ],
   "source": [
    "docTermMatrixCountVec.shape"
   ]
  },
  {
   "cell_type": "code",
   "execution_count": 205,
   "metadata": {
    "execution": {
     "iopub.execute_input": "2020-11-05T02:35:17.340998Z",
     "iopub.status.busy": "2020-11-05T02:35:17.340715Z",
     "iopub.status.idle": "2020-11-05T02:35:17.347488Z",
     "shell.execute_reply": "2020-11-05T02:35:17.346759Z",
     "shell.execute_reply.started": "2020-11-05T02:35:17.340966Z"
    }
   },
   "outputs": [],
   "source": [
    "\n",
    "docTermMatrixCountVec_df = pd.DataFrame(docTermMatrixCountVec.toarray(), index=stuff_pos_filtered, columns=vectorizer.get_feature_names())"
   ]
  },
  {
   "cell_type": "code",
   "execution_count": 206,
   "metadata": {
    "execution": {
     "iopub.execute_input": "2020-11-05T02:35:17.920387Z",
     "iopub.status.busy": "2020-11-05T02:35:17.920118Z",
     "iopub.status.idle": "2020-11-05T02:35:17.937571Z",
     "shell.execute_reply": "2020-11-05T02:35:17.937103Z",
     "shell.execute_reply.started": "2020-11-05T02:35:17.920356Z"
    }
   },
   "outputs": [
    {
     "data": {
      "text/html": [
       "<div>\n",
       "<style scoped>\n",
       "    .dataframe tbody tr th:only-of-type {\n",
       "        vertical-align: middle;\n",
       "    }\n",
       "\n",
       "    .dataframe tbody tr th {\n",
       "        vertical-align: top;\n",
       "    }\n",
       "\n",
       "    .dataframe thead th {\n",
       "        text-align: right;\n",
       "    }\n",
       "</style>\n",
       "<table border=\"1\" class=\"dataframe\">\n",
       "  <thead>\n",
       "    <tr style=\"text-align: right;\">\n",
       "      <th></th>\n",
       "      <th>able</th>\n",
       "      <th>absolutely</th>\n",
       "      <th>acceptable</th>\n",
       "      <th>accessable</th>\n",
       "      <th>active</th>\n",
       "      <th>actual</th>\n",
       "      <th>actually</th>\n",
       "      <th>addictedfirst</th>\n",
       "      <th>addictive</th>\n",
       "      <th>addictively</th>\n",
       "      <th>...</th>\n",
       "      <th>wintergreen</th>\n",
       "      <th>wish</th>\n",
       "      <th>wonderful</th>\n",
       "      <th>wonderfully</th>\n",
       "      <th>workable</th>\n",
       "      <th>worried</th>\n",
       "      <th>worth</th>\n",
       "      <th>wrong</th>\n",
       "      <th>wrongobviously</th>\n",
       "      <th>young</th>\n",
       "    </tr>\n",
       "  </thead>\n",
       "  <tbody>\n",
       "    <tr>\n",
       "      <th>several good more well well most</th>\n",
       "      <td>0</td>\n",
       "      <td>0</td>\n",
       "      <td>0</td>\n",
       "      <td>0</td>\n",
       "      <td>0</td>\n",
       "      <td>0</td>\n",
       "      <td>0</td>\n",
       "      <td>0</td>\n",
       "      <td>0</td>\n",
       "      <td>0</td>\n",
       "      <td>...</td>\n",
       "      <td>0</td>\n",
       "      <td>0</td>\n",
       "      <td>0</td>\n",
       "      <td>0</td>\n",
       "      <td>0</td>\n",
       "      <td>0</td>\n",
       "      <td>0</td>\n",
       "      <td>0</td>\n",
       "      <td>0</td>\n",
       "      <td>0</td>\n",
       "    </tr>\n",
       "    <tr>\n",
       "      <th>few tiny then liberally tiny Not too very highly familiar</th>\n",
       "      <td>0</td>\n",
       "      <td>0</td>\n",
       "      <td>0</td>\n",
       "      <td>0</td>\n",
       "      <td>0</td>\n",
       "      <td>0</td>\n",
       "      <td>0</td>\n",
       "      <td>0</td>\n",
       "      <td>0</td>\n",
       "      <td>0</td>\n",
       "      <td>...</td>\n",
       "      <td>0</td>\n",
       "      <td>0</td>\n",
       "      <td>0</td>\n",
       "      <td>0</td>\n",
       "      <td>0</td>\n",
       "      <td>0</td>\n",
       "      <td>0</td>\n",
       "      <td>0</td>\n",
       "      <td>0</td>\n",
       "      <td>0</td>\n",
       "    </tr>\n",
       "    <tr>\n",
       "      <th>great wide very</th>\n",
       "      <td>0</td>\n",
       "      <td>0</td>\n",
       "      <td>0</td>\n",
       "      <td>0</td>\n",
       "      <td>0</td>\n",
       "      <td>0</td>\n",
       "      <td>0</td>\n",
       "      <td>0</td>\n",
       "      <td>0</td>\n",
       "      <td>0</td>\n",
       "      <td>...</td>\n",
       "      <td>0</td>\n",
       "      <td>0</td>\n",
       "      <td>0</td>\n",
       "      <td>0</td>\n",
       "      <td>0</td>\n",
       "      <td>0</td>\n",
       "      <td>0</td>\n",
       "      <td>0</td>\n",
       "      <td>0</td>\n",
       "      <td>0</td>\n",
       "    </tr>\n",
       "    <tr>\n",
       "      <th>very enjoyable many only there too much just not particular last only</th>\n",
       "      <td>0</td>\n",
       "      <td>0</td>\n",
       "      <td>0</td>\n",
       "      <td>0</td>\n",
       "      <td>0</td>\n",
       "      <td>0</td>\n",
       "      <td>0</td>\n",
       "      <td>0</td>\n",
       "      <td>0</td>\n",
       "      <td>0</td>\n",
       "      <td>...</td>\n",
       "      <td>0</td>\n",
       "      <td>0</td>\n",
       "      <td>0</td>\n",
       "      <td>0</td>\n",
       "      <td>0</td>\n",
       "      <td>0</td>\n",
       "      <td>0</td>\n",
       "      <td>0</td>\n",
       "      <td>0</td>\n",
       "      <td>0</td>\n",
       "    </tr>\n",
       "    <tr>\n",
       "      <th>great very soft individually well together expensive highly</th>\n",
       "      <td>0</td>\n",
       "      <td>0</td>\n",
       "      <td>0</td>\n",
       "      <td>0</td>\n",
       "      <td>0</td>\n",
       "      <td>0</td>\n",
       "      <td>0</td>\n",
       "      <td>0</td>\n",
       "      <td>0</td>\n",
       "      <td>0</td>\n",
       "      <td>...</td>\n",
       "      <td>0</td>\n",
       "      <td>0</td>\n",
       "      <td>0</td>\n",
       "      <td>0</td>\n",
       "      <td>0</td>\n",
       "      <td>0</td>\n",
       "      <td>0</td>\n",
       "      <td>0</td>\n",
       "      <td>0</td>\n",
       "      <td>0</td>\n",
       "    </tr>\n",
       "  </tbody>\n",
       "</table>\n",
       "<p>5 rows × 678 columns</p>\n",
       "</div>"
      ],
      "text/plain": [
       "                                                    able  absolutely  \\\n",
       "several good more well well most                       0           0   \n",
       "few tiny then liberally tiny Not too very highl...     0           0   \n",
       "great wide very                                        0           0   \n",
       "very enjoyable many only there too much just no...     0           0   \n",
       "great very soft individually well together expe...     0           0   \n",
       "\n",
       "                                                    acceptable  accessable  \\\n",
       "several good more well well most                             0           0   \n",
       "few tiny then liberally tiny Not too very highl...           0           0   \n",
       "great wide very                                              0           0   \n",
       "very enjoyable many only there too much just no...           0           0   \n",
       "great very soft individually well together expe...           0           0   \n",
       "\n",
       "                                                    active  actual  actually  \\\n",
       "several good more well well most                         0       0         0   \n",
       "few tiny then liberally tiny Not too very highl...       0       0         0   \n",
       "great wide very                                          0       0         0   \n",
       "very enjoyable many only there too much just no...       0       0         0   \n",
       "great very soft individually well together expe...       0       0         0   \n",
       "\n",
       "                                                    addictedfirst  addictive  \\\n",
       "several good more well well most                                0          0   \n",
       "few tiny then liberally tiny Not too very highl...              0          0   \n",
       "great wide very                                                 0          0   \n",
       "very enjoyable many only there too much just no...              0          0   \n",
       "great very soft individually well together expe...              0          0   \n",
       "\n",
       "                                                    addictively  ...  \\\n",
       "several good more well well most                              0  ...   \n",
       "few tiny then liberally tiny Not too very highl...            0  ...   \n",
       "great wide very                                               0  ...   \n",
       "very enjoyable many only there too much just no...            0  ...   \n",
       "great very soft individually well together expe...            0  ...   \n",
       "\n",
       "                                                    wintergreen  wish  \\\n",
       "several good more well well most                              0     0   \n",
       "few tiny then liberally tiny Not too very highl...            0     0   \n",
       "great wide very                                               0     0   \n",
       "very enjoyable many only there too much just no...            0     0   \n",
       "great very soft individually well together expe...            0     0   \n",
       "\n",
       "                                                    wonderful  wonderfully  \\\n",
       "several good more well well most                            0            0   \n",
       "few tiny then liberally tiny Not too very highl...          0            0   \n",
       "great wide very                                             0            0   \n",
       "very enjoyable many only there too much just no...          0            0   \n",
       "great very soft individually well together expe...          0            0   \n",
       "\n",
       "                                                    workable  worried  worth  \\\n",
       "several good more well well most                           0        0      0   \n",
       "few tiny then liberally tiny Not too very highl...         0        0      0   \n",
       "great wide very                                            0        0      0   \n",
       "very enjoyable many only there too much just no...         0        0      0   \n",
       "great very soft individually well together expe...         0        0      0   \n",
       "\n",
       "                                                    wrong  wrongobviously  \\\n",
       "several good more well well most                        0               0   \n",
       "few tiny then liberally tiny Not too very highl...      0               0   \n",
       "great wide very                                         0               0   \n",
       "very enjoyable many only there too much just no...      0               0   \n",
       "great very soft individually well together expe...      0               0   \n",
       "\n",
       "                                                    young  \n",
       "several good more well well most                        0  \n",
       "few tiny then liberally tiny Not too very highl...      0  \n",
       "great wide very                                         0  \n",
       "very enjoyable many only there too much just no...      0  \n",
       "great very soft individually well together expe...      0  \n",
       "\n",
       "[5 rows x 678 columns]"
      ]
     },
     "execution_count": 206,
     "metadata": {},
     "output_type": "execute_result"
    }
   ],
   "source": [
    "docTermMatrixCountVec_df.head()"
   ]
  },
  {
   "cell_type": "code",
   "execution_count": 207,
   "metadata": {
    "execution": {
     "iopub.execute_input": "2020-11-05T02:35:25.894735Z",
     "iopub.status.busy": "2020-11-05T02:35:25.894473Z",
     "iopub.status.idle": "2020-11-05T02:35:27.826214Z",
     "shell.execute_reply": "2020-11-05T02:35:27.825766Z",
     "shell.execute_reply.started": "2020-11-05T02:35:25.894704Z"
    }
   },
   "outputs": [
    {
     "data": {
      "text/plain": [
       "LatentDirichletAllocation(n_components=5, random_state=0)"
      ]
     },
     "execution_count": 207,
     "metadata": {},
     "output_type": "execute_result"
    }
   ],
   "source": [
    "LD_Allocator = LatentDirichletAllocation(n_components=5, random_state=0)\n",
    "LD_Allocator.fit(docTermMatrixCountVec)"
   ]
  },
  {
   "cell_type": "markdown",
   "metadata": {},
   "source": [
    "## Topics via LDA"
   ]
  },
  {
   "cell_type": "markdown",
   "metadata": {
    "execution": {
     "iopub.execute_input": "2020-11-03T22:20:31.145738Z",
     "iopub.status.busy": "2020-11-03T22:20:31.145545Z",
     "iopub.status.idle": "2020-11-03T22:20:31.162025Z",
     "shell.execute_reply": "2020-11-03T22:20:31.161379Z",
     "shell.execute_reply.started": "2020-11-03T22:20:31.145719Z"
    }
   },
   "source": [
    "## LDA on \"Good\" Reviews"
   ]
  },
  {
   "cell_type": "code",
   "execution_count": 210,
   "metadata": {
    "execution": {
     "iopub.execute_input": "2020-11-05T02:35:55.607654Z",
     "iopub.status.busy": "2020-11-05T02:35:55.607366Z",
     "iopub.status.idle": "2020-11-05T02:36:00.414214Z",
     "shell.execute_reply": "2020-11-05T02:36:00.413646Z",
     "shell.execute_reply.started": "2020-11-05T02:35:55.607623Z"
    }
   },
   "outputs": [
    {
     "name": "stderr",
     "output_type": "stream",
     "text": [
      "/home/magreen/anaconda3_2020_07/envs/metisgpulinux2venv/lib/python3.8/site-packages/ipykernel/ipkernel.py:287: DeprecationWarning: `should_run_async` will not call `transform_cell` automatically in the future. Please pass the result to `transformed_cell` argument and any exception that happen during thetransform in `preprocessing_exc_tuple` in IPython 7.17 and above.\n",
      "  and should_run_async(code)\n"
     ]
    },
    {
     "data": {
      "text/html": [
       "\n",
       "<link rel=\"stylesheet\" type=\"text/css\" href=\"https://cdn.rawgit.com/bmabey/pyLDAvis/files/ldavis.v1.0.0.css\">\n",
       "\n",
       "\n",
       "<div id=\"ldavis_el237071403504386179368019688330\"></div>\n",
       "<script type=\"text/javascript\">\n",
       "\n",
       "var ldavis_el237071403504386179368019688330_data = {\"mdsDat\": {\"x\": [-0.07513496800604326, -0.09201597454974023, -0.0682576024037738, 0.006246064851055364, 0.229162480108502], \"y\": [0.03941303795553532, 0.07112987371766616, 0.01901452697904046, -0.18165540626184318, 0.052097967609601115], \"topics\": [1, 2, 3, 4, 5], \"cluster\": [1, 1, 1, 1, 1], \"Freq\": [26.37506348663145, 26.143931015939337, 20.655792533776378, 15.506893450425776, 11.318319513227063]}, \"tinfo\": {\"Term\": [\"really\", \"good\", \"small\", \"green\", \"hot\", \"little\", \"open\", \"organic\", \"local\", \"just\", \"happy\", \"great\", \"definitely\", \"nice\", \"available\", \"different\", \"free\", \"best\", \"bad\", \"hard\", \"fresh\", \"loose\", \"high\", \"delicious\", \"pretty\", \"arrive\", \"natural\", \"reasonable\", \"slightly\", \"single\", \"ready\", \"normally\", \"daily\", \"constantly\", \"diet\", \"right\", \"heavily\", \"effective\", \"unnatural\", \"bad\", \"impressed\", \"moral\", \"amish\", \"dietary\", \"lovely\", \"wide\", \"local\", \"comparable\", \"diabetic\", \"floral\", \"delighted\", \"powerful\", \"truly\", \"soon\", \"good\", \"roughly\", \"worried\", \"low\", \"actual\", \"totally\", \"little\", \"high\", \"pretty\", \"organic\", \"great\", \"slightly\", \"nice\", \"natural\", \"strong\", \"quite\", \"expensive\", \"ago\", \"free\", \"just\", \"happy\", \"absolutely\", \"different\", \"far\", \"old\", \"delicious\", \"real\", \"big\", \"best\", \"actually\", \"regular\", \"easy\", \"certainly\", \"huge\", \"young\", \"perfectly\", \"experienced\", \"really\", \"subdue\", \"classically\", \"oregonian\", \"nearly\", \"japanese\", \"delectable\", \"vegetarian\", \"extra\", \"early\", \"interested\", \"creative\", \"stumble\", \"italian\", \"personal\", \"white\", \"major\", \"ordinary\", \"decal\", \"gobble\", \"carefully\", \"virtually\", \"innovative\", \"jelly\", \"likely\", \"highly\", \"especially\", \"naturally\", \"artificial\", \"just\", \"nicely\", \"surprised\", \"heavy\", \"later\", \"arrive\", \"probably\", \"good\", \"great\", \"best\", \"pretty\", \"old\", \"far\", \"big\", \"fresh\", \"large\", \"easy\", \"local\", \"hot\", \"real\", \"regular\", \"long\", \"strong\", \"actually\", \"hard\", \"single\", \"classic\", \"incredible\", \"short\", \"open\", \"couscous\", \"environmental\", \"pecan\", \"relatively\", \"hardly\", \"fully\", \"hot\", \"recent\", \"seriously\", \"central\", \"occasional\", \"australian\", \"tastelessly\", \"ecstatic\", \"partially\", \"portuguese\", \"digestible\", \"definately\", \"oven\", \"satisfied\", \"apart\", \"definitely\", \"kibble\", \"olive\", \"forever\", \"mixed\", \"fresh\", \"delicious\", \"easily\", \"second\", \"easy\", \"best\", \"little\", \"quickly\", \"maybe\", \"just\", \"great\", \"high\", \"nice\", \"able\", \"good\", \"healthy\", \"instead\", \"actually\", \"really\", \"long\", \"finally\", \"red\", \"big\", \"soft\", \"regular\", \"large\", \"affordable\", \"small\", \"weaver\", \"economical\", \"true\", \"ceral\", \"regardless\", \"advertised\", \"normal\", \"wintergreen\", \"lower\", \"significantly\", \"useful\", \"vegetable\", \"noticeably\", \"energetic\", \"ahead\", \"gluttonyeventually\", \"undoubtedly\", \"responsible\", \"necessary\", \"irregularly\", \"scientific\", \"african\", \"unbaked\", \"clearly\", \"veterinarian\", \"probiotic\", \"chemically\", \"adorable\", \"happy\", \"entire\", \"extremely\", \"hard\", \"fairly\", \"anymore\", \"lightly\", \"rich\", \"possible\", \"additive\", \"arrive\", \"exactly\", \"regular\", \"absolutely\", \"instead\", \"natural\", \"healthy\", \"old\", \"large\", \"pleased\", \"away\", \"big\", \"somewhat\", \"expensive\", \"free\", \"great\", \"long\", \"just\", \"best\", \"definitely\", \"low\", \"fresh\", \"bad\", \"green\", \"loose\", \"raw\", \"originally\", \"reasonable\", \"limited\", \"obvious\", \"mildly\", \"oolong\", \"sloppy\", \"mexican\", \"russian\", \"oriental\", \"readily\", \"personally\", \"particularly\", \"generously\", \"reluctantly\", \"delicately\", \"odorous\", \"natual\", \"proprietary\", \"unopened\", \"tropical\", \"elegant\", \"continuous\", \"nonorganic\", \"heinous\", \"displeased\", \"harvest\", \"global\", \"english\", \"holistic\", \"available\", \"close\", \"disappointed\", \"fantastic\", \"french\", \"traditional\", \"final\", \"ultimate\", \"different\", \"literally\", \"promptly\", \"authentic\", \"negative\", \"iced\", \"organic\", \"slightly\", \"free\", \"able\", \"nice\", \"best\", \"real\", \"american\", \"usual\", \"delicious\", \"second\", \"long\", \"strong\", \"actually\", \"natural\", \"usually\"], \"Freq\": [144.0, 288.0, 74.0, 40.0, 65.0, 103.0, 41.0, 56.0, 53.0, 212.0, 37.0, 241.0, 45.0, 55.0, 27.0, 33.0, 43.0, 138.0, 34.0, 41.0, 57.0, 12.0, 51.0, 75.0, 41.0, 31.0, 46.0, 11.0, 19.0, 15.0, 6.285429370771319, 4.542121180150126, 8.893304739232615, 3.666620671590466, 2.795661188356819, 2.7956462947382437, 2.794134453864685, 2.793918977115418, 2.792999014812001, 27.096240094179866, 4.515344486443221, 1.922022312107455, 1.9219956099396283, 1.921487768704764, 1.9208315688401687, 1.9201941036773775, 38.91501914757544, 1.920000724029253, 1.9190184534767425, 1.9184661189253007, 1.918340223655844, 1.916768277826522, 5.740424044665665, 11.094555130322886, 184.90707345702356, 2.795961515772344, 2.79502708527453, 21.249525057439286, 4.350414180946224, 5.423424203913086, 63.19298692553017, 31.21533511784438, 24.373973604471434, 30.229571881633458, 107.07135690378033, 11.332296754277667, 27.589796210063483, 23.210784295625157, 18.62290544026706, 13.761723828884518, 13.488519324682244, 7.413918471243351, 16.154489174767722, 46.75647219827204, 13.133690165545248, 8.736665551225617, 11.85790688362387, 11.214347033078344, 12.668489854914267, 16.915009118460137, 9.83774969742728, 11.424070989252733, 15.905616514561787, 9.887274602577639, 9.724582290278093, 10.10872950560831, 8.979879266670665, 6.338163521832098, 6.336696049658797, 12.467651558231855, 5.45699048930058, 127.73201917420481, 4.579215352329511, 4.579215352329511, 4.579215352329511, 4.5757589117153135, 10.559309293508655, 3.698594996455563, 3.692891780277407, 16.41173139237283, 6.351959153296393, 2.8166768486515115, 2.816053942703951, 2.814975042423574, 2.8148322416478146, 5.586719298339378, 15.912515350824968, 4.582713459063504, 1.9373517406171017, 1.9373327506416296, 1.9373322951489511, 1.9365178410300619, 1.9354725782584399, 1.9342201194424242, 1.9324589506739134, 1.9323982244383746, 25.597190558425062, 18.700505719864555, 3.1124342558484344, 7.9755016608413465, 102.00861390110707, 7.232261284180242, 9.97821912331566, 6.050011292165337, 4.580157774932052, 15.696100946374774, 10.930666218568964, 73.07227437231114, 58.82255645752278, 38.69088903901639, 16.289245250280274, 16.659745020208945, 12.317999641558742, 13.952237013996665, 15.413274310373861, 13.390498182899302, 15.363561673935292, 13.958476407172002, 13.370761579900066, 9.408516924561841, 10.805982037394813, 10.170448585234064, 9.906822601829715, 9.888352668839431, 9.220666667368919, 14.41955651323012, 6.407798906202053, 4.629342300272886, 4.625928002257968, 35.61325089622395, 3.7393818370531, 3.7385374737942656, 2.8494121610330567, 2.8469933763545816, 2.843613787050997, 2.842624409288669, 51.817554537679115, 5.454817224128409, 4.6286962571933765, 1.958985479266188, 1.9589699931581113, 1.9589640604487764, 1.9583964845187227, 1.958396484518722, 1.9578390025656385, 1.9575357850658361, 1.9572379712523547, 4.4523157921914, 8.75205213992159, 6.034528141917631, 4.826015586216416, 30.21041916023887, 5.228065945756183, 4.637838065788024, 2.8507217248943326, 4.4746129572082465, 31.674131264822186, 37.8735077814114, 7.490715507028197, 9.765551544652032, 29.256718561340655, 50.71483752090237, 36.72824556362237, 3.7416019904346487, 6.60209344930737, 44.19457430417032, 48.14243907057191, 15.231786684493178, 14.535605773131437, 8.82075265943546, 29.497291047205106, 9.867407097738074, 8.314632443749085, 9.67710555676488, 15.37343307445892, 9.185606032666048, 5.726145249234313, 6.5527669656144605, 7.527323520215267, 6.109788141243695, 7.140671385963329, 6.701457082754977, 6.3453582274683615, 64.17053143329586, 4.581862529588382, 3.701588922107098, 8.057649554789732, 2.8212333003150616, 2.819831858984821, 5.272084079730118, 7.886784649350972, 1.9395907109714714, 1.9387356775200693, 1.9382020565529396, 1.9379344636989957, 1.9363923904050626, 1.9361679122119515, 1.9337982211367775, 2.742793164776254, 1.0579623765294892, 1.0579623765294892, 1.0579623765294892, 1.0579623765294892, 1.057959708081272, 1.057959708081272, 1.057959708081272, 1.0579584129695543, 1.0579582401563163, 1.0579549000767603, 1.0579549000767603, 1.0579523149416752, 1.057950613833026, 22.285424905546552, 6.797795484847751, 6.7960738012852255, 21.93146339645548, 3.520977391495073, 5.033309860050001, 3.706605645064843, 10.169562868124235, 3.25083267917798, 2.824217050024899, 13.304737256278125, 7.206741463886782, 17.964513828065478, 8.47038421439234, 10.205018715984568, 15.317463479218606, 11.822125222279059, 13.78181732372954, 13.268948878534408, 7.514066825026212, 7.3943189316630145, 11.835044385079028, 5.878474015090854, 9.32289299566718, 11.051803588251047, 27.666318775140983, 9.781011305269582, 19.230131530949524, 12.534099684988114, 8.53221454562776, 7.733710944555222, 7.910126476712842, 6.50293562004627, 39.49194477653292, 12.060917008491211, 6.581389999181867, 6.468727311106298, 10.007116693806188, 2.925327102424999, 2.924781572237408, 2.0120741423827098, 2.012066008012305, 2.011986741018534, 2.011881285565142, 2.0101566552424583, 2.0023780517175718, 2.5787171978204, 4.094737936527917, 5.676110956027695, 1.097495051272103, 1.097495051272103, 1.097494284958835, 1.097494284958835, 1.0974941065313546, 1.0974941065313546, 1.0974918318114506, 1.0974892356015369, 1.0974890010152838, 1.0974868923161654, 1.0974868923161654, 1.0974868923161654, 1.0974865723153864, 1.0974838034428147, 1.0974838034428147, 3.754932427186607, 4.748844440097562, 15.484721404143563, 4.719443118812957, 6.98141323457481, 9.520582705186085, 4.295433283066495, 2.915060790517796, 2.0171968353071175, 2.0168558107902546, 13.869023935015813, 2.0146283914722236, 2.0139238371412387, 2.0161757364652386, 3.5759347249265994, 4.591248485516282, 18.234189940799112, 7.704710152652526, 13.311038200799517, 7.934199854000656, 12.652952230820986, 20.749449931658763, 7.348440137096506, 3.978426019948815, 3.3035545146353607, 9.140195797803598, 4.182243199706015, 5.198018886277827, 4.7029793219730855, 4.4827075865837545, 4.262263804728485, 3.899496786764096], \"Total\": [144.0, 288.0, 74.0, 40.0, 65.0, 103.0, 41.0, 56.0, 53.0, 212.0, 37.0, 241.0, 45.0, 55.0, 27.0, 33.0, 43.0, 138.0, 34.0, 41.0, 57.0, 12.0, 51.0, 75.0, 41.0, 31.0, 46.0, 11.0, 19.0, 15.0, 7.003884633094616, 5.256489014692437, 10.505538922548686, 4.382866780315267, 3.5091607057608876, 3.5091613008227984, 3.5091846934077746, 3.5091756557442975, 3.509276271552677, 34.144581588212894, 6.137383528740312, 2.635503891731785, 2.6355046373585864, 2.635510317785796, 2.6355596109832393, 2.6355393668295606, 53.41672272291294, 2.635540272403702, 2.6355616983575327, 2.635639665797143, 2.6356761948752334, 2.635550597466859, 7.944079857653307, 15.774295902539908, 288.6108601565007, 4.389778842799601, 4.389786520205162, 34.19256847418691, 7.041066512323129, 8.788413811127251, 103.82200840251282, 51.007057035810405, 41.203887557140135, 56.798753214813566, 241.88745158847004, 19.57162270641822, 55.88972032261336, 46.70508977163215, 37.05267952914703, 27.26195744337591, 31.649786205537943, 15.004828957222612, 43.56035769768325, 212.3737538831285, 37.86708519218435, 20.297967619442105, 33.005651399157045, 35.29445594534676, 43.96018123418224, 75.4818277850102, 30.141443975950747, 44.92424188120843, 138.59489269112743, 39.82921543117302, 45.821218255583965, 61.13404246829299, 9.694415319908648, 7.052526688470156, 7.052533891280063, 14.098590507754649, 6.171890441602731, 144.5895232505436, 5.291291716800175, 5.291291716800175, 5.291291716800175, 5.291310233895673, 12.377257859145613, 4.410671428916835, 4.410659450019309, 20.23745784126529, 7.926289520940069, 3.53010075831939, 3.5301250576271186, 3.5300346954202646, 3.5301708660732256, 7.059068855783026, 20.302427410353978, 6.181703457603465, 2.64943088439541, 2.6494312290778934, 2.6494311875154297, 2.6494320445628983, 2.649437334727687, 2.6495516194666795, 2.649403642198845, 2.6494356654582574, 36.215973559385816, 30.02073408728076, 4.411349647312216, 12.324332581146505, 212.3737538831285, 11.456510733727864, 16.81219956111466, 9.704848017950836, 7.055422961152311, 31.809374544955247, 21.1972843274566, 288.6108601565007, 241.88745158847004, 138.59489269112743, 41.203887557140135, 43.96018123418224, 35.29445594534676, 44.92424188120843, 57.69115850101646, 44.18501320843552, 61.13404246829299, 53.41672272291294, 65.74376533482977, 30.141443975950747, 45.821218255583965, 39.01572473876468, 37.05267952914703, 39.82921543117302, 41.42747199260375, 15.135377327026557, 7.121308837107653, 5.34042699867896, 5.340360848469057, 41.78799386871411, 4.449998517640386, 4.449996170950824, 3.559542090303835, 3.5595938714424578, 3.5594940761325065, 3.559475455153706, 65.74376533482977, 7.147168424726178, 6.255012669413539, 2.669091385717099, 2.669091431288078, 2.6690914550370817, 2.669084967702382, 2.669084967702382, 2.6690700788708503, 2.669064945532886, 2.6690726293808056, 6.218698514863186, 12.434325960396322, 8.880955567011219, 7.105434881622593, 45.21545186366227, 7.9913487119868485, 7.10405709146714, 4.44021917342939, 7.102269103821367, 57.69115850101646, 75.4818277850102, 12.393442851842808, 16.97380522757019, 61.13404246829299, 138.59489269112743, 103.82200840251282, 6.2132881149056844, 13.271263568463585, 212.3737538831285, 241.88745158847004, 51.007057035810405, 55.88972032261336, 24.123500753508264, 288.6108601565007, 33.542276806484956, 27.342187254809435, 39.82921543117302, 144.5895232505436, 39.01572473876468, 11.640084381754559, 19.435504052290092, 44.92424188120843, 16.876400068975485, 45.821218255583965, 44.18501320843552, 7.059681457229604, 74.05270380978433, 5.29642524033483, 4.414734700993018, 9.696199682739667, 3.5331071409221377, 3.5330948368117285, 7.05841083567086, 10.588323268844535, 2.6514682463671346, 2.6514663156028013, 2.651482114250594, 2.6514661964789314, 2.65158642450534, 2.6514642313396304, 2.651416271103093, 4.450503192902336, 1.7698291229640464, 1.7698291229640464, 1.7698291229640464, 1.7698291229640464, 1.7698291788809788, 1.7698291788809788, 1.7698291788809788, 1.7698291826454577, 1.7698291894255775, 1.7698292556675894, 1.7698292556675894, 1.769829283051238, 1.7698293064507953, 37.86708519218435, 11.507420034922198, 11.562856404996436, 41.42747199260375, 6.22142253739813, 9.690047733605924, 7.08604503397512, 22.051409619714615, 6.213136660083941, 5.338117895897854, 31.809374544955247, 15.928414817493824, 45.821218255583965, 20.297967619442105, 27.342187254809435, 46.70508977163215, 33.542276806484956, 43.96018123418224, 44.18501320843552, 20.41372237251928, 20.2867902513424, 44.92424188120843, 15.023574416891714, 31.649786205537943, 43.56035769768325, 241.88745158847004, 39.01572473876468, 212.3737538831285, 138.59489269112743, 45.21545186366227, 34.19256847418691, 57.69115850101646, 34.144581588212894, 40.21478955237095, 12.77744584164523, 7.2901314734325, 7.2871882996037085, 11.820457768771353, 3.6318901743845995, 3.6318885505735787, 2.7173578035961095, 2.7173575126236007, 2.717353828861591, 2.7173491504012617, 2.717289274471918, 2.717023536452573, 3.616414156757723, 6.3328916074603026, 9.017791897554172, 1.8027739390505007, 1.8027739390505007, 1.8027739111863195, 1.8027739111863195, 1.8027739039305692, 1.8027739039305692, 1.8027738254746142, 1.8027737336439675, 1.802773722775136, 1.8027736524566271, 1.8027736524566271, 1.8027736524566271, 1.8027736389956368, 1.8027735391243795, 1.8027735391243795, 6.289989597399513, 8.105603891035386, 27.921749204546078, 8.131429961462773, 12.61516314871619, 18.81229162277448, 8.102680254898228, 5.394773195153906, 3.59816851737408, 3.598359328660182, 33.005651399157045, 3.5990742492519625, 3.5980478677680456, 3.607915090494431, 7.21084422977777, 9.875623697137957, 56.798753214813566, 19.57162270641822, 43.56035769768325, 24.123500753508264, 55.88972032261336, 138.59489269112743, 30.141443975950747, 9.855831537174971, 7.148178267904196, 75.4818277850102, 16.97380522757019, 39.01572473876468, 37.05267952914703, 39.82921543117302, 46.70508977163215, 23.94255375506627], \"Category\": [\"Default\", \"Default\", \"Default\", \"Default\", \"Default\", \"Default\", \"Default\", \"Default\", \"Default\", \"Default\", \"Default\", \"Default\", \"Default\", \"Default\", \"Default\", \"Default\", \"Default\", \"Default\", \"Default\", \"Default\", \"Default\", \"Default\", \"Default\", \"Default\", \"Default\", \"Default\", \"Default\", \"Default\", \"Default\", \"Default\", \"Topic1\", \"Topic1\", \"Topic1\", \"Topic1\", \"Topic1\", \"Topic1\", \"Topic1\", \"Topic1\", \"Topic1\", \"Topic1\", \"Topic1\", \"Topic1\", \"Topic1\", \"Topic1\", \"Topic1\", \"Topic1\", \"Topic1\", \"Topic1\", \"Topic1\", \"Topic1\", \"Topic1\", \"Topic1\", \"Topic1\", \"Topic1\", \"Topic1\", \"Topic1\", \"Topic1\", \"Topic1\", \"Topic1\", \"Topic1\", \"Topic1\", \"Topic1\", \"Topic1\", \"Topic1\", \"Topic1\", \"Topic1\", \"Topic1\", \"Topic1\", \"Topic1\", \"Topic1\", \"Topic1\", \"Topic1\", \"Topic1\", \"Topic1\", \"Topic1\", \"Topic1\", \"Topic1\", \"Topic1\", \"Topic1\", \"Topic1\", \"Topic1\", \"Topic1\", \"Topic1\", \"Topic1\", \"Topic1\", \"Topic1\", \"Topic2\", \"Topic2\", \"Topic2\", \"Topic2\", \"Topic2\", \"Topic2\", \"Topic2\", \"Topic2\", \"Topic2\", \"Topic2\", \"Topic2\", \"Topic2\", \"Topic2\", \"Topic2\", \"Topic2\", \"Topic2\", \"Topic2\", \"Topic2\", \"Topic2\", \"Topic2\", \"Topic2\", \"Topic2\", \"Topic2\", \"Topic2\", \"Topic2\", \"Topic2\", \"Topic2\", \"Topic2\", \"Topic2\", \"Topic2\", \"Topic2\", \"Topic2\", \"Topic2\", \"Topic2\", \"Topic2\", \"Topic2\", \"Topic2\", \"Topic2\", \"Topic2\", \"Topic2\", \"Topic2\", \"Topic2\", \"Topic2\", \"Topic2\", \"Topic2\", \"Topic2\", \"Topic2\", \"Topic2\", \"Topic2\", \"Topic2\", \"Topic2\", \"Topic2\", \"Topic2\", \"Topic2\", \"Topic2\", \"Topic2\", \"Topic2\", \"Topic2\", \"Topic2\", \"Topic3\", \"Topic3\", \"Topic3\", \"Topic3\", \"Topic3\", \"Topic3\", \"Topic3\", \"Topic3\", \"Topic3\", \"Topic3\", \"Topic3\", \"Topic3\", \"Topic3\", \"Topic3\", \"Topic3\", \"Topic3\", \"Topic3\", \"Topic3\", \"Topic3\", \"Topic3\", \"Topic3\", \"Topic3\", \"Topic3\", \"Topic3\", \"Topic3\", \"Topic3\", \"Topic3\", \"Topic3\", \"Topic3\", \"Topic3\", \"Topic3\", \"Topic3\", \"Topic3\", \"Topic3\", \"Topic3\", \"Topic3\", \"Topic3\", \"Topic3\", \"Topic3\", \"Topic3\", \"Topic3\", \"Topic3\", \"Topic3\", \"Topic3\", \"Topic3\", \"Topic3\", \"Topic3\", \"Topic3\", \"Topic3\", \"Topic3\", \"Topic3\", \"Topic3\", \"Topic3\", \"Topic3\", \"Topic3\", \"Topic3\", \"Topic3\", \"Topic4\", \"Topic4\", \"Topic4\", \"Topic4\", \"Topic4\", \"Topic4\", \"Topic4\", \"Topic4\", \"Topic4\", \"Topic4\", \"Topic4\", \"Topic4\", \"Topic4\", \"Topic4\", \"Topic4\", \"Topic4\", \"Topic4\", \"Topic4\", \"Topic4\", \"Topic4\", \"Topic4\", \"Topic4\", \"Topic4\", \"Topic4\", \"Topic4\", \"Topic4\", \"Topic4\", \"Topic4\", \"Topic4\", \"Topic4\", \"Topic4\", \"Topic4\", \"Topic4\", \"Topic4\", \"Topic4\", \"Topic4\", \"Topic4\", \"Topic4\", \"Topic4\", \"Topic4\", \"Topic4\", \"Topic4\", \"Topic4\", \"Topic4\", \"Topic4\", \"Topic4\", \"Topic4\", \"Topic4\", \"Topic4\", \"Topic4\", \"Topic4\", \"Topic4\", \"Topic4\", \"Topic4\", \"Topic4\", \"Topic4\", \"Topic4\", \"Topic4\", \"Topic4\", \"Topic4\", \"Topic4\", \"Topic4\", \"Topic4\", \"Topic5\", \"Topic5\", \"Topic5\", \"Topic5\", \"Topic5\", \"Topic5\", \"Topic5\", \"Topic5\", \"Topic5\", \"Topic5\", \"Topic5\", \"Topic5\", \"Topic5\", \"Topic5\", \"Topic5\", \"Topic5\", \"Topic5\", \"Topic5\", \"Topic5\", \"Topic5\", \"Topic5\", \"Topic5\", \"Topic5\", \"Topic5\", \"Topic5\", \"Topic5\", \"Topic5\", \"Topic5\", \"Topic5\", \"Topic5\", \"Topic5\", \"Topic5\", \"Topic5\", \"Topic5\", \"Topic5\", \"Topic5\", \"Topic5\", \"Topic5\", \"Topic5\", \"Topic5\", \"Topic5\", \"Topic5\", \"Topic5\", \"Topic5\", \"Topic5\", \"Topic5\", \"Topic5\", \"Topic5\", \"Topic5\", \"Topic5\", \"Topic5\", \"Topic5\", \"Topic5\", \"Topic5\", \"Topic5\", \"Topic5\", \"Topic5\", \"Topic5\", \"Topic5\", \"Topic5\", \"Topic5\", \"Topic5\", \"Topic5\"], \"logprob\": [30.0, 29.0, 28.0, 27.0, 26.0, 25.0, 24.0, 23.0, 22.0, 21.0, 20.0, 19.0, 18.0, 17.0, 16.0, 15.0, 14.0, 13.0, 12.0, 11.0, 10.0, 9.0, 8.0, 7.0, 6.0, 5.0, 4.0, 3.0, 2.0, 1.0, -5.3854, -5.7103, -5.0384, -5.9244, -6.1956, -6.1956, -6.1961, -6.1962, -6.1965, -3.9243, -5.7162, -6.5703, -6.5703, -6.5706, -6.5709, -6.5712, -3.5623, -6.5713, -6.5718, -6.5721, -6.5722, -6.573, -5.4761, -4.8172, -2.0038, -6.1955, -6.1958, -4.1673, -5.7534, -5.5329, -3.0775, -3.7828, -4.0301, -3.8148, -2.5502, -4.796, -3.9062, -4.079, -4.2993, -4.6018, -4.6218, -5.2203, -4.4415, -3.3787, -4.6485, -5.0561, -4.7507, -4.8065, -4.6845, -4.3955, -4.9374, -4.7879, -4.457, -4.9324, -4.949, -4.9103, -5.0199, -5.3683, -5.3685, -4.6917, -5.518, -2.3649, -5.6933, -5.6933, -5.6933, -5.6941, -4.8579, -5.9069, -5.9085, -4.4169, -5.3661, -6.1793, -6.1795, -6.1799, -6.18, -5.4945, -4.4478, -5.6926, -6.5535, -6.5535, -6.5535, -6.554, -6.5545, -6.5552, -6.5561, -6.5561, -3.9724, -4.2863, -6.0795, -5.1385, -2.5898, -5.2363, -4.9145, -5.4148, -5.6931, -4.4614, -4.8233, -2.9234, -3.1403, -3.5593, -4.4244, -4.4019, -4.7038, -4.5792, -4.4796, -4.6203, -4.4829, -4.5788, -4.6218, -4.9732, -4.8348, -4.8954, -4.9216, -4.9235, -4.9934, -4.3107, -5.1217, -5.4468, -5.4476, -3.4065, -5.6603, -5.6605, -5.9321, -5.933, -5.9342, -5.9345, -3.0315, -5.2827, -5.447, -6.3068, -6.3068, -6.3068, -6.3071, -6.3071, -6.3074, -6.3076, -6.3077, -5.4858, -4.81, -5.1817, -5.4052, -3.5711, -5.3252, -5.445, -5.9317, -5.4808, -3.5237, -3.345, -4.9656, -4.7004, -3.6031, -3.053, -3.3757, -5.6597, -5.0919, -3.1906, -3.1051, -4.2559, -4.3026, -4.8021, -3.5949, -4.69, -4.8612, -4.7095, -4.2466, -4.7616, -5.2342, -5.0994, -4.9607, -5.1693, -5.0134, -5.0769, -4.8448, -2.531, -5.1704, -5.3838, -4.6059, -5.6554, -5.6559, -5.0301, -4.6273, -6.0301, -6.0305, -6.0308, -6.0309, -6.0317, -6.0318, -6.033, -5.6836, -6.6362, -6.6362, -6.6362, -6.6362, -6.6362, -6.6362, -6.6362, -6.6362, -6.6362, -6.6362, -6.6362, -6.6362, -6.6362, -3.5886, -4.7759, -4.7762, -3.6046, -5.4338, -5.0765, -5.3824, -4.3731, -5.5136, -5.6543, -4.1044, -4.7175, -3.8041, -4.556, -4.3696, -3.9635, -4.2226, -4.0692, -4.1071, -4.6758, -4.6918, -4.2215, -4.9212, -4.4601, -4.2899, -3.3723, -4.4121, -3.736, -4.1641, -4.5487, -4.6469, -4.6244, -4.8203, -2.7016, -3.8877, -4.4934, -4.5107, -4.0744, -5.3043, -5.3044, -5.6785, -5.6785, -5.6785, -5.6786, -5.6795, -5.6833, -5.4304, -4.968, -4.6414, -6.2846, -6.2846, -6.2846, -6.2846, -6.2846, -6.2846, -6.2846, -6.2846, -6.2846, -6.2846, -6.2846, -6.2846, -6.2846, -6.2846, -6.2846, -5.0546, -4.8198, -3.6378, -4.826, -4.4344, -4.1242, -4.9201, -5.3078, -5.676, -5.6761, -3.748, -5.6772, -5.6776, -5.6765, -5.1034, -4.8535, -3.4744, -4.3358, -3.7891, -4.3065, -3.8398, -3.3451, -4.3832, -4.9968, -5.1827, -4.165, -4.9468, -4.7294, -4.8295, -4.8774, -4.9279, -5.0168], \"loglift\": [30.0, 29.0, 28.0, 27.0, 26.0, 25.0, 24.0, 23.0, 22.0, 21.0, 20.0, 19.0, 18.0, 17.0, 16.0, 15.0, 14.0, 13.0, 12.0, 11.0, 10.0, 9.0, 8.0, 7.0, 6.0, 5.0, 4.0, 3.0, 2.0, 1.0, 1.2245, 1.1867, 1.1661, 1.1543, 1.1054, 1.1054, 1.1049, 1.1048, 1.1045, 1.1015, 1.0258, 1.0171, 1.017, 1.0168, 1.0164, 1.0161, 1.016, 1.016, 1.0155, 1.0152, 1.0151, 1.0143, 1.0079, 0.9808, 0.8875, 0.8816, 0.8813, 0.8571, 0.8513, 0.85, 0.8363, 0.8417, 0.8077, 0.7021, 0.5178, 0.7863, 0.6268, 0.6335, 0.6448, 0.6492, 0.4799, 0.6277, 0.3408, -0.1806, 0.2738, 0.4898, 0.3091, 0.1862, 0.0886, -0.1629, 0.2131, -0.0365, -0.8321, -0.0606, -0.2173, -0.4669, 1.265, 1.2348, 1.2345, 1.2186, 1.2184, 1.2176, 1.197, 1.197, 1.197, 1.1963, 1.1827, 1.1655, 1.1639, 1.132, 1.1201, 1.1158, 1.1156, 1.1152, 1.1151, 1.1076, 1.0979, 1.0423, 1.0285, 1.0285, 1.0285, 1.0281, 1.0276, 1.0269, 1.026, 1.026, 0.9945, 0.8682, 0.9928, 0.9064, 0.6083, 0.8815, 0.8199, 0.869, 0.9095, 0.6352, 0.6793, -0.0321, -0.0724, 0.0656, 0.4135, 0.3713, 0.2889, 0.1722, 0.0217, 0.1477, -0.0395, -0.0005, -0.2511, 0.1773, -0.1031, -0.0029, 0.0224, -0.0517, -0.1609, 1.5287, 1.4716, 1.4343, 1.4336, 1.4173, 1.4032, 1.403, 1.3547, 1.3538, 1.3526, 1.3523, 1.3391, 1.307, 1.2761, 1.2679, 1.2679, 1.2679, 1.2676, 1.2676, 1.2673, 1.2671, 1.267, 1.243, 1.226, 1.1908, 1.1903, 1.1739, 1.1529, 1.1508, 1.134, 1.1152, 0.9776, 0.8875, 1.0737, 1.0244, 0.8402, 0.5718, 0.538, 1.07, 0.879, 0.0074, -0.0371, 0.3686, 0.2304, 0.5711, -0.7036, 0.3536, 0.3868, 0.1623, -0.6641, 0.1308, 0.8678, 0.49, -0.2093, 0.5612, -0.2818, -0.3089, 1.7572, 1.7207, 1.719, 1.6877, 1.6788, 1.6389, 1.6384, 1.5721, 1.5693, 1.5512, 1.5508, 1.5505, 1.5504, 1.5496, 1.5495, 1.5483, 1.3798, 1.3493, 1.3493, 1.3493, 1.3493, 1.3493, 1.3493, 1.3493, 1.3493, 1.3493, 1.3493, 1.3493, 1.3493, 1.3493, 1.3337, 1.3375, 1.3324, 1.2279, 1.2946, 1.2089, 1.2159, 1.0899, 1.2161, 1.2272, 0.9922, 1.0708, 0.9275, 0.9899, 0.8783, 0.749, 0.8211, 0.704, 0.6609, 0.8645, 0.8546, 0.53, 0.9256, 0.6416, 0.4923, -0.3044, 0.4804, -0.538, -0.5392, 0.1963, 0.3775, -0.1231, 0.2055, 2.1606, 2.121, 2.0765, 2.0596, 2.0122, 1.9624, 1.9622, 1.8783, 1.8782, 1.8782, 1.8782, 1.8773, 1.8735, 1.8406, 1.7427, 1.7158, 1.6825, 1.6825, 1.6825, 1.6825, 1.6825, 1.6825, 1.6824, 1.6824, 1.6824, 1.6824, 1.6824, 1.6824, 1.6824, 1.6824, 1.6824, 1.6629, 1.6441, 1.5892, 1.6347, 1.5871, 1.4977, 1.5441, 1.5632, 1.6, 1.5998, 1.3117, 1.5985, 1.5984, 1.5968, 1.4774, 1.4128, 1.0425, 1.2465, 0.9932, 1.0667, 0.6933, 0.2797, 0.7673, 1.2716, 1.4069, 0.0675, 0.7779, 0.1631, 0.1146, -0.0056, -0.2153, 0.3639]}, \"token.table\": {\"Topic\": [1, 3, 4, 5, 1, 4, 5, 1, 3, 1, 2, 3, 4, 5, 3, 4, 5, 4, 2, 4, 4, 4, 1, 4, 5, 4, 5, 1, 2, 3, 4, 5, 1, 1, 2, 4, 3, 4, 2, 4, 5, 1, 2, 4, 3, 3, 5, 1, 2, 3, 5, 1, 2, 3, 4, 1, 4, 1, 2, 3, 4, 5, 1, 2, 3, 4, 2, 3, 4, 2, 4, 3, 2, 4, 3, 5, 1, 1, 5, 3, 2, 1, 2, 2, 2, 3, 1, 3, 4, 2, 5, 1, 2, 3, 4, 5, 1, 1, 1, 1, 1, 2, 5, 3, 2, 3, 4, 5, 5, 1, 2, 1, 3, 4, 1, 2, 3, 4, 5, 4, 3, 1, 5, 4, 1, 5, 3, 4, 3, 1, 2, 4, 5, 2, 3, 4, 5, 1, 2, 3, 4, 2, 1, 2, 1, 4, 5, 3, 4, 5, 1, 4, 5, 1, 2, 3, 4, 5, 2, 5, 3, 4, 5, 1, 2, 3, 1, 3, 4, 5, 3, 4, 5, 2, 3, 4, 5, 3, 5, 5, 4, 2, 1, 2, 3, 5, 1, 2, 3, 4, 5, 1, 4, 5, 1, 2, 3, 4, 3, 5, 1, 2, 3, 4, 1, 1, 2, 3, 5, 1, 3, 4, 1, 2, 4, 5, 4, 5, 2, 3, 2, 2, 3, 4, 5, 1, 2, 3, 2, 1, 3, 4, 2, 4, 2, 2, 5, 2, 1, 2, 3, 4, 3, 4, 1, 2, 3, 4, 5, 1, 2, 3, 3, 4, 2, 5, 4, 5, 1, 2, 3, 1, 2, 1, 2, 3, 4, 5, 5, 1, 1, 2, 4, 4, 2, 3, 1, 2, 3, 5, 5, 3, 4, 1, 5, 1, 3, 4, 5, 2, 4, 2, 4, 3, 5, 1, 2, 3, 5, 1, 2, 3, 4, 5, 1, 3, 4, 1, 4, 5, 3, 5, 1, 2, 3, 4, 3, 4, 5, 2, 3, 2, 2, 1, 2, 4, 5, 5, 5, 3, 4, 3, 2, 5, 3, 2, 4, 2, 3, 3, 5, 2, 3, 4, 5, 3, 2, 4, 5, 1, 1, 2, 1, 2, 3, 4, 5, 4, 2, 5, 5, 3, 4, 1, 2, 3, 5, 1, 5, 1, 1, 2, 4, 5, 1, 2, 3, 2, 5, 3, 5, 1, 2, 3, 4, 4, 1, 2, 3, 4, 3, 5, 4, 1, 2, 3, 4, 1, 1, 2, 5, 3, 4, 4, 1, 3, 5, 3, 5, 3, 4, 3, 1, 5, 5, 1, 2, 3, 4, 2, 3, 4, 5, 1, 2, 4, 5, 1, 2, 4, 1, 2, 3, 5, 2, 2, 1, 2, 3, 5, 3, 1, 2, 3, 4, 5, 5, 1, 4, 1, 5, 2, 5, 4, 4, 1, 5, 4, 1, 5, 1, 2, 3, 4, 5, 4, 2, 4, 2, 4, 2, 3, 1, 4, 1, 2, 2], \"Freq\": [0.24872011990744852, 0.37308017986117276, 0.04145335331790809, 0.3316268265432647, 0.4433941451054186, 0.3941281289825943, 0.14779804836847285, 0.5680957555221617, 0.28404787776108087, 0.25107198049834867, 0.25107198049834867, 0.25107198049834867, 0.1506431882990092, 0.10042879219933946, 0.1873319434867602, 0.5619958304602806, 0.1873319434867602, 0.5650262408669194, 0.14167494968503855, 0.7083747484251928, 0.8498967037465385, 0.5650262815941799, 0.4665164807913743, 0.3332260577081245, 0.13329042308324981, 0.6740810802662497, 0.2246936934220832, 0.10146277320468844, 0.10146277320468844, 0.3043883196140653, 0.10146277320468844, 0.40585109281875376, 0.7588679494810088, 0.10319866604288372, 0.30959599812865113, 0.5159933302144186, 0.7036866966344223, 0.2814746786537689, 0.5029963722608778, 0.4086845524619632, 0.06287454653260972, 0.16228059303264472, 0.6491223721305789, 0.16228059303264472, 0.7493186478213854, 0.2771683853188905, 0.554336770637781, 0.03581437511934908, 0.21488625071609446, 0.1790718755967454, 0.5372156267902362, 0.24646580055556816, 0.09858632022222726, 0.24646580055556816, 0.3450521207777954, 0.7907550405983219, 0.2050105660810464, 0.11544436948089855, 0.2813956506096902, 0.3679789277203641, 0.09379855020323007, 0.15152073494367935, 0.24485666400530268, 0.31163575418856704, 0.17807757382203832, 0.2671163607330575, 0.7548787688683515, 0.7493186672822236, 0.849110961072356, 0.9283695512319776, 0.5650262483373371, 0.8425417486088025, 0.9449488456901165, 0.5650262782277672, 0.36893879849151723, 0.614897997485862, 0.7588576888547911, 0.9126446685455205, 0.554700807079861, 0.8988767039232639, 0.8498282499987526, 0.856690938594568, 0.0951878820660631, 0.754879001217208, 0.16080535141073654, 0.6432214056429462, 0.13269799930545303, 0.6634899965272651, 0.19904699895817954, 0.9068914029223694, 0.554700727470561, 0.22521977141862481, 0.0794893310889264, 0.5034324302298673, 0.0794893310889264, 0.11923399663338961, 0.7588185543765839, 0.7588515196765793, 0.8549052755192963, 0.7588663138607193, 0.3635740999284285, 0.21208489162491664, 0.4241697832498333, 0.7493239329586836, 0.15853936856960382, 0.23780905285440573, 0.07926968428480191, 0.5548877899936134, 0.5547008112217133, 0.12616243670612207, 0.7569746202367323, 0.2420634875928704, 0.5648148043833643, 0.08068782919762346, 0.16357498369564671, 0.24536247554347007, 0.4743674527173755, 0.04907249510869402, 0.04907249510869402, 0.9060567102934339, 0.7493204690750824, 0.8549016334047544, 0.55470078544335, 0.7543138441886086, 0.3179655497088366, 0.6359310994176732, 0.3476018071697201, 0.6083031625470102, 0.8988771779426782, 0.16655155684945122, 0.6328959160279146, 0.09993093410967073, 0.09993093410967073, 0.2511235453013748, 0.2511235453013748, 0.4394662042774059, 0.0627808863253437, 0.41074527061814137, 0.1579789502377467, 0.09478737014264801, 0.284362110427944, 0.8101245554030911, 0.14823996292077926, 0.7906131355774894, 0.08648382069052497, 0.6053867448336748, 0.25945146207157493, 0.16073494349384143, 0.6429397739753657, 0.16073494349384143, 0.2657836748579272, 0.21262693988634174, 0.5315673497158544, 0.3116636793334746, 0.3399967410910632, 0.1699983705455316, 0.0849991852727658, 0.056666123515177205, 0.27791916781312775, 0.5558383356262555, 0.5154601808045995, 0.17182006026819985, 0.25773009040229977, 0.7588290713461792, 0.22521410789451032, 0.6756423236835309, 0.36730644204170426, 0.06886995788281955, 0.2525231789036717, 0.29843648415888474, 0.24683190463932733, 0.24683190463932733, 0.49366380927865466, 0.26000517912525045, 0.554677715467201, 0.13866942886680025, 0.05200103582505009, 0.842820813852319, 0.5547007188969505, 0.5547008419514008, 0.5650262994459239, 0.7548790130592333, 0.6410015198308298, 0.25293573485216525, 0.10048131932483277, 0.0034648730801666475, 0.44235448882252115, 0.2439150919675584, 0.19843939685496276, 0.11575631483206161, 0.9697924677489869, 0.34330606472671316, 0.5809794941528992, 0.05281631765026356, 0.1448314297592479, 0.21724714463887188, 0.1206928581327066, 0.531048575783909, 0.8428164047570454, 0.5547008419514008, 0.17887873368333718, 0.149065611402781, 0.298131222805562, 0.35775746736667435, 0.8548994316644802, 0.10304128391813276, 0.6182477035087965, 0.20608256783626552, 0.554700807079861, 0.6077590396606474, 0.2940769546745068, 0.07842052124653515, 0.055224250611969956, 0.7179152579556095, 0.1380606265299249, 0.08283637591795494, 0.370114311077788, 0.6168571851296467, 0.1977373813895757, 0.7909495255583028, 0.8507589215945992, 0.10125942731999892, 0.20251885463999783, 0.30377828195999673, 0.5062971365999946, 0.8146794112810223, 0.16293588225620445, 0.9362547229344826, 0.7548447010074008, 0.29258815051794423, 0.29258815051794423, 0.36573518814743033, 0.8498340997576057, 0.5650262815941799, 0.8498172223989374, 0.8887267377945147, 0.08079333979950133, 0.7548868613844437, 0.2213079495023881, 0.48028533721794864, 0.20718191017244844, 0.08946491575628455, 0.6256766135733896, 0.25027064542935584, 0.15842475743933024, 0.29421740667304186, 0.15842475743933024, 0.29421740667304186, 0.06789632461685581, 0.14173494707632345, 0.7086747353816172, 0.14173494707632345, 0.4233673347567005, 0.5644897796756007, 0.754877737200715, 0.8260161667769402, 0.2778492275361759, 0.5556984550723518, 0.6068077565572811, 0.0385274766068115, 0.3563791586130064, 0.7301084381814962, 0.262090208577973, 0.12815345693251143, 0.25630691386502286, 0.23067622247852054, 0.25630691386502286, 0.12815345693251143, 0.9391548317809089, 0.7588521206901736, 0.6141685441341906, 0.14623060574623586, 0.2339689691939774, 0.75429960706301, 0.8088385401033795, 0.1617677080206759, 0.15070155073647898, 0.30140310147295796, 0.5274554275776764, 0.7360114174892346, 0.7360090737234644, 0.5632002873346217, 0.28160014366731084, 0.7588681641770613, 0.5547007297031038, 0.49245168165739817, 0.08564377072302577, 0.32116414021134665, 0.08564377072302577, 0.6800639803802143, 0.22668799346007143, 0.9449455388138907, 0.5650262994459239, 0.416040050846093, 0.5547200677947908, 0.5009865828344646, 0.01789237795837374, 0.2683856693756061, 0.2326009134588586, 0.08728661136379064, 0.6110062795465345, 0.08728661136379064, 0.08728661136379064, 0.554700807079861, 0.09444365973812267, 0.09444365973812267, 0.7555492779049814, 0.9512052600175662, 0.754300200002893, 0.8260165360873242, 0.7493186544886621, 0.554700727470561, 0.2957221657196344, 0.3867136013256757, 0.022747858901510334, 0.3184700246211447, 0.7038231725369472, 0.28152926901477887, 0.736009152534738, 0.14358191060452144, 0.8614914636271287, 0.7548790994245514, 0.9449488456901165, 0.5281806078830575, 0.1232421418393801, 0.017606020262768585, 0.3169083647298345, 0.7360996226816863, 0.8233628325929621, 0.7238028043229084, 0.24126760144096948, 0.7493246489976387, 0.33267567427605726, 0.6653513485521145, 0.8428050361230386, 0.8511489140279406, 0.07092907616899505, 0.8499704596427897, 0.1416617432737983, 0.3158115003332681, 0.6316230006665362, 0.3429065935286413, 0.14695996865513197, 0.3918932497470186, 0.14695996865513197, 0.74932609015278, 0.16094930060438906, 0.48284790181316717, 0.16094930060438906, 0.7588547159452321, 0.5824693110988041, 0.3883128740658694, 0.14152756332631414, 0.5189343988631518, 0.14152756332631414, 0.09435170888420942, 0.04717585444210471, 0.5650262570796947, 0.27792848698823003, 0.5558569739764601, 0.5547007297031038, 0.6437815092469309, 0.32189075462346545, 0.5135361255360521, 0.25676806276802605, 0.22008691094402233, 0.9602021617182311, 0.276517001829388, 0.8295510054881641, 0.8566674516094853, 0.3317691086060376, 0.29859219774543383, 0.09953073258181128, 0.23223837602422628, 0.006916130418849281, 0.885264693612708, 0.10374195628273922, 0.08459909248539554, 0.8459909248539554, 0.6995777492387217, 0.13991554984774435, 0.15435668619289084, 0.4116178298477089, 0.3601656011167453, 0.10290445746192722, 0.8491139181271471, 0.218239505205241, 0.2400634557257651, 0.15276765364366868, 0.3928311093694338, 0.842792775902917, 0.5547007188969505, 0.5650262994459239, 0.04534857486416516, 0.36278859891332127, 0.13604572459249548, 0.4534857486416516, 0.8549051305497372, 0.6834057266736326, 0.2278019088912109, 0.7360276356254646, 0.6756029747843035, 0.22520099159476784, 0.5650262815941799, 0.17674292592489302, 0.5891430864163101, 0.23565723456652404, 0.7993588925006595, 0.1598717785001319, 0.9362663201744822, 0.7542951126280832, 0.9249851984199188, 0.5620382205913215, 0.4087550695209611, 0.7360101503004783, 0.06751947927307642, 0.027007791709230566, 0.04051168756384585, 0.8642493346953781, 0.29627171550594406, 0.3555260586071329, 0.17776302930356644, 0.11850868620237763, 0.332810279448429, 0.06656205588968579, 0.3993723353381148, 0.13312411177937158, 0.6973369884755888, 0.12678854335919798, 0.12678854335919798, 0.5127834273106723, 0.26988601437403803, 0.10795440574961522, 0.13494300718701902, 0.8498500039934701, 0.9449488456901165, 0.11896123364047188, 0.5948061682023594, 0.17844185046070782, 0.11896123364047188, 0.7493204690750824, 0.5689308796166793, 0.11378617592333587, 0.22757235184667174, 0.37072920911607343, 0.5560938136741101, 0.554700782099087, 0.10313318957117944, 0.8250655165694355, 0.7552794165607002, 0.2517598055202334, 0.2779044305095404, 0.5558088610190808, 0.5650262803923523, 0.5650262994459239, 0.8548771221915372, 0.5547007538434452, 0.7542996409518404, 0.4196873507576333, 0.4196873507576333, 0.20883319511988124, 0.16706655609590498, 0.20883319511988124, 0.20883319511988124, 0.16706655609590498, 0.7542654395559084, 0.9068938659461657, 0.5650262570796947, 0.7548772615924365, 0.9440329605566016, 0.7880831033948288, 0.1970207758487072, 0.7588579495991036, 0.7542990577919486, 0.6834045314485571, 0.22780151048285233, 0.8507580527076314], \"Term\": [\"able\", \"able\", \"able\", \"able\", \"absolutely\", \"absolutely\", \"absolutely\", \"actual\", \"actual\", \"actually\", \"actually\", \"actually\", \"actually\", \"actually\", \"additive\", \"additive\", \"additive\", \"adorable\", \"advertised\", \"advertised\", \"affordable\", \"african\", \"ago\", \"ago\", \"ago\", \"ahead\", \"ahead\", \"american\", \"american\", \"american\", \"american\", \"american\", \"amish\", \"anymore\", \"anymore\", \"anymore\", \"apart\", \"apart\", \"arrive\", \"arrive\", \"arrive\", \"artificial\", \"artificial\", \"artificial\", \"australian\", \"authentic\", \"authentic\", \"available\", \"available\", \"available\", \"available\", \"away\", \"away\", \"away\", \"away\", \"bad\", \"bad\", \"best\", \"best\", \"best\", \"best\", \"best\", \"big\", \"big\", \"big\", \"big\", \"carefully\", \"central\", \"ceral\", \"certainly\", \"chemically\", \"classic\", \"classically\", \"clearly\", \"close\", \"close\", \"comparable\", \"constantly\", \"continuous\", \"couscous\", \"creative\", \"daily\", \"daily\", \"decal\", \"definately\", \"definately\", \"definitely\", \"definitely\", \"definitely\", \"delectable\", \"delicately\", \"delicious\", \"delicious\", \"delicious\", \"delicious\", \"delicious\", \"delighted\", \"diabetic\", \"diet\", \"dietary\", \"different\", \"different\", \"different\", \"digestible\", \"disappointed\", \"disappointed\", \"disappointed\", \"disappointed\", \"displeased\", \"early\", \"early\", \"easily\", \"easily\", \"easily\", \"easy\", \"easy\", \"easy\", \"easy\", \"easy\", \"economical\", \"ecstatic\", \"effective\", \"elegant\", \"energetic\", \"english\", \"english\", \"entire\", \"entire\", \"environmental\", \"especially\", \"especially\", \"especially\", \"especially\", \"exactly\", \"exactly\", \"exactly\", \"exactly\", \"expensive\", \"expensive\", \"expensive\", \"expensive\", \"experienced\", \"extra\", \"extra\", \"extremely\", \"extremely\", \"extremely\", \"fairly\", \"fairly\", \"fairly\", \"fantastic\", \"fantastic\", \"fantastic\", \"far\", \"far\", \"far\", \"far\", \"far\", \"final\", \"final\", \"finally\", \"finally\", \"finally\", \"floral\", \"forever\", \"forever\", \"free\", \"free\", \"free\", \"free\", \"french\", \"french\", \"french\", \"fresh\", \"fresh\", \"fresh\", \"fresh\", \"fully\", \"generously\", \"global\", \"gluttonyeventually\", \"gobble\", \"good\", \"good\", \"good\", \"good\", \"great\", \"great\", \"great\", \"great\", \"green\", \"happy\", \"happy\", \"happy\", \"hard\", \"hard\", \"hard\", \"hard\", \"hardly\", \"harvest\", \"healthy\", \"healthy\", \"healthy\", \"healthy\", \"heavily\", \"heavy\", \"heavy\", \"heavy\", \"heinous\", \"high\", \"high\", \"high\", \"highly\", \"highly\", \"highly\", \"highly\", \"holistic\", \"holistic\", \"hot\", \"hot\", \"huge\", \"iced\", \"iced\", \"iced\", \"iced\", \"impressed\", \"impressed\", \"incredible\", \"innovative\", \"instead\", \"instead\", \"instead\", \"interested\", \"irregularly\", \"italian\", \"japanese\", \"japanese\", \"jelly\", \"just\", \"just\", \"just\", \"just\", \"kibble\", \"kibble\", \"large\", \"large\", \"large\", \"large\", \"large\", \"later\", \"later\", \"later\", \"lightly\", \"lightly\", \"likely\", \"limited\", \"literally\", \"literally\", \"little\", \"little\", \"little\", \"local\", \"local\", \"long\", \"long\", \"long\", \"long\", \"long\", \"loose\", \"lovely\", \"low\", \"low\", \"low\", \"lower\", \"major\", \"major\", \"maybe\", \"maybe\", \"maybe\", \"mexican\", \"mildly\", \"mixed\", \"mixed\", \"moral\", \"natual\", \"natural\", \"natural\", \"natural\", \"natural\", \"naturally\", \"naturally\", \"nearly\", \"necessary\", \"negative\", \"negative\", \"nice\", \"nice\", \"nice\", \"nice\", \"nicely\", \"nicely\", \"nicely\", \"nicely\", \"nonorganic\", \"normal\", \"normal\", \"normal\", \"normally\", \"noticeably\", \"obvious\", \"occasional\", \"odorous\", \"old\", \"old\", \"old\", \"old\", \"olive\", \"olive\", \"oolong\", \"open\", \"open\", \"ordinary\", \"oregonian\", \"organic\", \"organic\", \"organic\", \"organic\", \"oriental\", \"originally\", \"oven\", \"oven\", \"partially\", \"particularly\", \"particularly\", \"pecan\", \"perfectly\", \"perfectly\", \"personal\", \"personal\", \"personally\", \"personally\", \"pleased\", \"pleased\", \"pleased\", \"pleased\", \"portuguese\", \"possible\", \"possible\", \"possible\", \"powerful\", \"pretty\", \"pretty\", \"probably\", \"probably\", \"probably\", \"probably\", \"probably\", \"probiotic\", \"promptly\", \"promptly\", \"proprietary\", \"quickly\", \"quickly\", \"quite\", \"quite\", \"quite\", \"raw\", \"readily\", \"readily\", \"ready\", \"real\", \"real\", \"real\", \"real\", \"really\", \"really\", \"really\", \"reasonable\", \"reasonable\", \"recent\", \"recent\", \"red\", \"red\", \"red\", \"red\", \"regardless\", \"regular\", \"regular\", \"regular\", \"regular\", \"relatively\", \"reluctantly\", \"responsible\", \"rich\", \"rich\", \"rich\", \"rich\", \"right\", \"roughly\", \"roughly\", \"russian\", \"satisfied\", \"satisfied\", \"scientific\", \"second\", \"second\", \"second\", \"seriously\", \"seriously\", \"short\", \"significantly\", \"single\", \"slightly\", \"slightly\", \"sloppy\", \"small\", \"small\", \"small\", \"small\", \"soft\", \"soft\", \"soft\", \"soft\", \"somewhat\", \"somewhat\", \"somewhat\", \"somewhat\", \"soon\", \"soon\", \"soon\", \"strong\", \"strong\", \"strong\", \"strong\", \"stumble\", \"subdue\", \"surprised\", \"surprised\", \"surprised\", \"surprised\", \"tastelessly\", \"totally\", \"totally\", \"totally\", \"traditional\", \"traditional\", \"tropical\", \"true\", \"true\", \"truly\", \"truly\", \"ultimate\", \"ultimate\", \"unbaked\", \"undoubtedly\", \"unnatural\", \"unopened\", \"useful\", \"usual\", \"usual\", \"usually\", \"usually\", \"usually\", \"usually\", \"usually\", \"vegetable\", \"vegetarian\", \"veterinarian\", \"virtually\", \"weaver\", \"white\", \"white\", \"wide\", \"wintergreen\", \"worried\", \"worried\", \"young\"]}, \"R\": 30, \"lambda.step\": 0.01, \"plot.opts\": {\"xlab\": \"PC1\", \"ylab\": \"PC2\"}, \"topic.order\": [5, 2, 1, 3, 4]};\n",
       "\n",
       "function LDAvis_load_lib(url, callback){\n",
       "  var s = document.createElement('script');\n",
       "  s.src = url;\n",
       "  s.async = true;\n",
       "  s.onreadystatechange = s.onload = callback;\n",
       "  s.onerror = function(){console.warn(\"failed to load library \" + url);};\n",
       "  document.getElementsByTagName(\"head\")[0].appendChild(s);\n",
       "}\n",
       "\n",
       "if(typeof(LDAvis) !== \"undefined\"){\n",
       "   // already loaded: just create the visualization\n",
       "   !function(LDAvis){\n",
       "       new LDAvis(\"#\" + \"ldavis_el237071403504386179368019688330\", ldavis_el237071403504386179368019688330_data);\n",
       "   }(LDAvis);\n",
       "}else if(typeof define === \"function\" && define.amd){\n",
       "   // require.js is available: use it to load d3/LDAvis\n",
       "   require.config({paths: {d3: \"https://cdnjs.cloudflare.com/ajax/libs/d3/3.5.5/d3.min\"}});\n",
       "   require([\"d3\"], function(d3){\n",
       "      window.d3 = d3;\n",
       "      LDAvis_load_lib(\"https://cdn.rawgit.com/bmabey/pyLDAvis/files/ldavis.v1.0.0.js\", function(){\n",
       "        new LDAvis(\"#\" + \"ldavis_el237071403504386179368019688330\", ldavis_el237071403504386179368019688330_data);\n",
       "      });\n",
       "    });\n",
       "}else{\n",
       "    // require.js not available: dynamically load d3 & LDAvis\n",
       "    LDAvis_load_lib(\"https://cdnjs.cloudflare.com/ajax/libs/d3/3.5.5/d3.min.js\", function(){\n",
       "         LDAvis_load_lib(\"https://cdn.rawgit.com/bmabey/pyLDAvis/files/ldavis.v1.0.0.js\", function(){\n",
       "                 new LDAvis(\"#\" + \"ldavis_el237071403504386179368019688330\", ldavis_el237071403504386179368019688330_data);\n",
       "            })\n",
       "         });\n",
       "}\n",
       "</script>"
      ],
      "text/plain": [
       "PreparedData(topic_coordinates=              x         y  topics  cluster       Freq\n",
       "topic                                                \n",
       "4     -0.075135  0.039413       1        1  26.375063\n",
       "1     -0.092016  0.071130       2        1  26.143931\n",
       "0     -0.068258  0.019015       3        1  20.655793\n",
       "2      0.006246 -0.181655       4        1  15.506893\n",
       "3      0.229162  0.052098       5        1  11.318320, topic_info=         Term        Freq       Total Category  logprob  loglift\n",
       "482    really  144.000000  144.000000  Default  30.0000  30.0000\n",
       "249      good  288.000000  288.000000  Default  29.0000  29.0000\n",
       "548     small   74.000000   74.000000  Default  28.0000  28.0000\n",
       "254     green   40.000000   40.000000  Default  27.0000  27.0000\n",
       "279       hot   65.000000   65.000000  Default  26.0000  26.0000\n",
       "..        ...         ...         ...      ...      ...      ...\n",
       "339      long    5.198019   39.015725   Topic5  -4.7294   0.1631\n",
       "564    strong    4.702979   37.052680   Topic5  -4.8295   0.1146\n",
       "6    actually    4.482708   39.829215   Topic5  -4.8774  -0.0056\n",
       "367   natural    4.262264   46.705090   Topic5  -4.9279  -0.2153\n",
       "648   usually    3.899497   23.942554   Topic5  -5.0168   0.3639\n",
       "\n",
       "[328 rows x 6 columns], token_table=      Topic      Freq         Term\n",
       "term                              \n",
       "0         1  0.248720         able\n",
       "0         3  0.373080         able\n",
       "0         4  0.041453         able\n",
       "0         5  0.331627         able\n",
       "1         1  0.443394   absolutely\n",
       "...     ...       ...          ...\n",
       "665       1  0.758858         wide\n",
       "668       4  0.754299  wintergreen\n",
       "673       1  0.683405      worried\n",
       "673       2  0.227802      worried\n",
       "677       2  0.850758        young\n",
       "\n",
       "[477 rows x 3 columns], R=30, lambda_step=0.01, plot_opts={'xlab': 'PC1', 'ylab': 'PC2'}, topic_order=[5, 2, 1, 3, 4])"
      ]
     },
     "execution_count": 210,
     "metadata": {},
     "output_type": "execute_result"
    }
   ],
   "source": [
    "pyLDAvis.enable_notebook()\n",
    "pyLDAvis.sklearn.prepare(LD_Allocator, docTermMatrixCountVec, vectorizer)"
   ]
  },
  {
   "cell_type": "code",
   "execution_count": null,
   "metadata": {},
   "outputs": [],
   "source": []
  }
 ],
 "metadata": {
  "kernelspec": {
   "display_name": "Python 3",
   "language": "python",
   "name": "python3"
  },
  "language_info": {
   "codemirror_mode": {
    "name": "ipython",
    "version": 3
   },
   "file_extension": ".py",
   "mimetype": "text/x-python",
   "name": "python",
   "nbconvert_exporter": "python",
   "pygments_lexer": "ipython3",
   "version": "3.8.6"
  }
 },
 "nbformat": 4,
 "nbformat_minor": 4
}
