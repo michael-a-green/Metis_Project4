{
 "cells": [
  {
   "cell_type": "code",
   "execution_count": 1,
   "metadata": {
    "execution": {
     "iopub.execute_input": "2020-11-05T13:00:16.466629Z",
     "iopub.status.busy": "2020-11-05T13:00:16.466309Z",
     "iopub.status.idle": "2020-11-05T13:00:16.470141Z",
     "shell.execute_reply": "2020-11-05T13:00:16.469513Z",
     "shell.execute_reply.started": "2020-11-05T13:00:16.466551Z"
    }
   },
   "outputs": [],
   "source": [
    "#disable warnings\n",
    "import warnings\n",
    "warnings.filterwarnings(\"ignore\") "
   ]
  },
  {
   "cell_type": "code",
   "execution_count": 2,
   "metadata": {
    "execution": {
     "iopub.execute_input": "2020-11-05T13:00:17.110787Z",
     "iopub.status.busy": "2020-11-05T13:00:17.110534Z",
     "iopub.status.idle": "2020-11-05T13:00:17.113665Z",
     "shell.execute_reply": "2020-11-05T13:00:17.113082Z",
     "shell.execute_reply.started": "2020-11-05T13:00:17.110761Z"
    }
   },
   "outputs": [],
   "source": [
    "#stuff"
   ]
  },
  {
   "cell_type": "markdown",
   "metadata": {},
   "source": [
    "# Purpose of this Notebook"
   ]
  },
  {
   "cell_type": "code",
   "execution_count": 3,
   "metadata": {
    "execution": {
     "iopub.execute_input": "2020-11-05T13:00:17.742906Z",
     "iopub.status.busy": "2020-11-05T13:00:17.742641Z",
     "iopub.status.idle": "2020-11-05T13:00:17.745828Z",
     "shell.execute_reply": "2020-11-05T13:00:17.745252Z",
     "shell.execute_reply.started": "2020-11-05T13:00:17.742879Z"
    }
   },
   "outputs": [],
   "source": [
    "#Number of reviews to put into data frame of good reviews. Set it to less than 0 if you want all of the good reviews to be processed\n",
    "NUMB_OF_DOCS1 = 1000\n",
    "\n",
    "#Number of reviews to put into data frame of bad reviews\n",
    "NUMB_OF_DOCS2=100"
   ]
  },
  {
   "cell_type": "markdown",
   "metadata": {},
   "source": [
    "## Problem Statement"
   ]
  },
  {
   "cell_type": "markdown",
   "metadata": {},
   "source": [
    "Product developers often want to know this about their products:\n",
    "\n",
    "* For products that people don't like, what is it about the products they don't like? Maybe if we know this we could improve the product by fixing this unliked product features\n",
    "* For products that people love, what is it about the products that result in people loving them? Maybe if we expanded on these loved features, we could get new customers or better retain current customers"
   ]
  },
  {
   "cell_type": "markdown",
   "metadata": {},
   "source": [
    "## Proposed Solution"
   ]
  },
  {
   "cell_type": "markdown",
   "metadata": {},
   "source": [
    "Topic modeling and clustering(?) that identifies the features of products that people love and somehow rank them so that a product manaer can have a priority list of things that could be addressed to get more love\n",
    "Topic modeling and clustering(?) that identifies the features of products that people don't like and somehow rank them so that a product manaer can have a priority list of things that could be fixed to hopefully turn the disliked product into a liked product.\n"
   ]
  },
  {
   "cell_type": "markdown",
   "metadata": {
    "execution": {
     "iopub.execute_input": "2020-11-04T21:11:05.576479Z",
     "iopub.status.busy": "2020-11-04T21:11:05.576164Z",
     "iopub.status.idle": "2020-11-04T21:11:05.580086Z",
     "shell.execute_reply": "2020-11-04T21:11:05.579426Z",
     "shell.execute_reply.started": "2020-11-04T21:11:05.576406Z"
    }
   },
   "source": [
    "# Module Import"
   ]
  },
  {
   "cell_type": "code",
   "execution_count": 4,
   "metadata": {
    "execution": {
     "iopub.execute_input": "2020-11-05T13:00:19.740725Z",
     "iopub.status.busy": "2020-11-05T13:00:19.740461Z",
     "iopub.status.idle": "2020-11-05T13:00:20.905805Z",
     "shell.execute_reply": "2020-11-05T13:00:20.904995Z",
     "shell.execute_reply.started": "2020-11-05T13:00:19.740697Z"
    }
   },
   "outputs": [],
   "source": [
    "\n",
    "\n",
    "\n",
    "import datetime\n",
    "from collections import Counter\n",
    "\n",
    "import pandas as pd\n",
    "import numpy as np\n",
    "import matplotlib.pyplot as plt\n",
    "\n",
    "\n",
    "\n",
    "import re\n",
    "\n",
    "#to speed up pandas operands\n",
    "from pandarallel import pandarallel\n",
    "\n",
    "from sklearn.feature_extraction.text import CountVectorizer, TfidfVectorizer\n",
    "from sklearn.decomposition import LatentDirichletAllocation\n",
    "\n",
    "import nltk\n",
    "from nltk.tag import pos_tag\n",
    "from nltk.corpus import wordnet\n",
    "from nltk.tag import pos_tag\n",
    "from nltk.tokenize import word_tokenize\n",
    "from nltk.stem import WordNetLemmatizer\n",
    "\n",
    "import pyLDAvis\n",
    "import pyLDAvis.sklearn\n",
    "\n",
    "#gensim\n",
    "from gensim import corpora, models, similarities, matutils\n",
    "\n"
   ]
  },
  {
   "cell_type": "markdown",
   "metadata": {},
   "source": [
    "# NLP Pipeline\n",
    "\n"
   ]
  },
  {
   "cell_type": "markdown",
   "metadata": {},
   "source": [
    "## Text Preprocessing\n",
    "Essentially will do this:\n",
    "\n",
    "```\n",
    "\n",
    "(input text) -->[clean(remove text I don't want)]--> [tokenization] --> [lemmatization] --> [Next_Stages]\n",
    "\n",
    "```"
   ]
  },
  {
   "cell_type": "code",
   "execution_count": 5,
   "metadata": {
    "execution": {
     "iopub.execute_input": "2020-11-05T13:00:21.051784Z",
     "iopub.status.busy": "2020-11-05T13:00:21.051495Z",
     "iopub.status.idle": "2020-11-05T13:00:23.969355Z",
     "shell.execute_reply": "2020-11-05T13:00:23.968192Z",
     "shell.execute_reply.started": "2020-11-05T13:00:21.051754Z"
    }
   },
   "outputs": [],
   "source": [
    "reviews_df = pd.read_csv(\"../Data/Reviews.csv\")"
   ]
  },
  {
   "cell_type": "code",
   "execution_count": 6,
   "metadata": {
    "execution": {
     "iopub.execute_input": "2020-11-05T13:00:23.971016Z",
     "iopub.status.busy": "2020-11-05T13:00:23.970840Z",
     "iopub.status.idle": "2020-11-05T13:00:23.987678Z",
     "shell.execute_reply": "2020-11-05T13:00:23.986916Z",
     "shell.execute_reply.started": "2020-11-05T13:00:23.970994Z"
    }
   },
   "outputs": [
    {
     "data": {
      "text/html": [
       "<div>\n",
       "<style scoped>\n",
       "    .dataframe tbody tr th:only-of-type {\n",
       "        vertical-align: middle;\n",
       "    }\n",
       "\n",
       "    .dataframe tbody tr th {\n",
       "        vertical-align: top;\n",
       "    }\n",
       "\n",
       "    .dataframe thead th {\n",
       "        text-align: right;\n",
       "    }\n",
       "</style>\n",
       "<table border=\"1\" class=\"dataframe\">\n",
       "  <thead>\n",
       "    <tr style=\"text-align: right;\">\n",
       "      <th></th>\n",
       "      <th>Id</th>\n",
       "      <th>ProductId</th>\n",
       "      <th>UserId</th>\n",
       "      <th>ProfileName</th>\n",
       "      <th>HelpfulnessNumerator</th>\n",
       "      <th>HelpfulnessDenominator</th>\n",
       "      <th>Score</th>\n",
       "      <th>Time</th>\n",
       "      <th>Summary</th>\n",
       "      <th>Text</th>\n",
       "    </tr>\n",
       "  </thead>\n",
       "  <tbody>\n",
       "    <tr>\n",
       "      <th>0</th>\n",
       "      <td>1</td>\n",
       "      <td>B001E4KFG0</td>\n",
       "      <td>A3SGXH7AUHU8GW</td>\n",
       "      <td>delmartian</td>\n",
       "      <td>1</td>\n",
       "      <td>1</td>\n",
       "      <td>5</td>\n",
       "      <td>1303862400</td>\n",
       "      <td>Good Quality Dog Food</td>\n",
       "      <td>I have bought several of the Vitality canned d...</td>\n",
       "    </tr>\n",
       "    <tr>\n",
       "      <th>1</th>\n",
       "      <td>2</td>\n",
       "      <td>B00813GRG4</td>\n",
       "      <td>A1D87F6ZCVE5NK</td>\n",
       "      <td>dll pa</td>\n",
       "      <td>0</td>\n",
       "      <td>0</td>\n",
       "      <td>1</td>\n",
       "      <td>1346976000</td>\n",
       "      <td>Not as Advertised</td>\n",
       "      <td>Product arrived labeled as Jumbo Salted Peanut...</td>\n",
       "    </tr>\n",
       "    <tr>\n",
       "      <th>2</th>\n",
       "      <td>3</td>\n",
       "      <td>B000LQOCH0</td>\n",
       "      <td>ABXLMWJIXXAIN</td>\n",
       "      <td>Natalia Corres \"Natalia Corres\"</td>\n",
       "      <td>1</td>\n",
       "      <td>1</td>\n",
       "      <td>4</td>\n",
       "      <td>1219017600</td>\n",
       "      <td>\"Delight\" says it all</td>\n",
       "      <td>This is a confection that has been around a fe...</td>\n",
       "    </tr>\n",
       "    <tr>\n",
       "      <th>3</th>\n",
       "      <td>4</td>\n",
       "      <td>B000UA0QIQ</td>\n",
       "      <td>A395BORC6FGVXV</td>\n",
       "      <td>Karl</td>\n",
       "      <td>3</td>\n",
       "      <td>3</td>\n",
       "      <td>2</td>\n",
       "      <td>1307923200</td>\n",
       "      <td>Cough Medicine</td>\n",
       "      <td>If you are looking for the secret ingredient i...</td>\n",
       "    </tr>\n",
       "    <tr>\n",
       "      <th>4</th>\n",
       "      <td>5</td>\n",
       "      <td>B006K2ZZ7K</td>\n",
       "      <td>A1UQRSCLF8GW1T</td>\n",
       "      <td>Michael D. Bigham \"M. Wassir\"</td>\n",
       "      <td>0</td>\n",
       "      <td>0</td>\n",
       "      <td>5</td>\n",
       "      <td>1350777600</td>\n",
       "      <td>Great taffy</td>\n",
       "      <td>Great taffy at a great price.  There was a wid...</td>\n",
       "    </tr>\n",
       "  </tbody>\n",
       "</table>\n",
       "</div>"
      ],
      "text/plain": [
       "   Id   ProductId          UserId                      ProfileName  \\\n",
       "0   1  B001E4KFG0  A3SGXH7AUHU8GW                       delmartian   \n",
       "1   2  B00813GRG4  A1D87F6ZCVE5NK                           dll pa   \n",
       "2   3  B000LQOCH0   ABXLMWJIXXAIN  Natalia Corres \"Natalia Corres\"   \n",
       "3   4  B000UA0QIQ  A395BORC6FGVXV                             Karl   \n",
       "4   5  B006K2ZZ7K  A1UQRSCLF8GW1T    Michael D. Bigham \"M. Wassir\"   \n",
       "\n",
       "   HelpfulnessNumerator  HelpfulnessDenominator  Score        Time  \\\n",
       "0                     1                       1      5  1303862400   \n",
       "1                     0                       0      1  1346976000   \n",
       "2                     1                       1      4  1219017600   \n",
       "3                     3                       3      2  1307923200   \n",
       "4                     0                       0      5  1350777600   \n",
       "\n",
       "                 Summary                                               Text  \n",
       "0  Good Quality Dog Food  I have bought several of the Vitality canned d...  \n",
       "1      Not as Advertised  Product arrived labeled as Jumbo Salted Peanut...  \n",
       "2  \"Delight\" says it all  This is a confection that has been around a fe...  \n",
       "3         Cough Medicine  If you are looking for the secret ingredient i...  \n",
       "4            Great taffy  Great taffy at a great price.  There was a wid...  "
      ]
     },
     "execution_count": 6,
     "metadata": {},
     "output_type": "execute_result"
    }
   ],
   "source": [
    "reviews_df.head()"
   ]
  },
  {
   "cell_type": "code",
   "execution_count": 7,
   "metadata": {
    "execution": {
     "iopub.execute_input": "2020-11-05T13:00:23.989155Z",
     "iopub.status.busy": "2020-11-05T13:00:23.989000Z",
     "iopub.status.idle": "2020-11-05T13:00:24.088382Z",
     "shell.execute_reply": "2020-11-05T13:00:24.087745Z",
     "shell.execute_reply.started": "2020-11-05T13:00:23.989136Z"
    }
   },
   "outputs": [
    {
     "data": {
      "text/html": [
       "<div>\n",
       "<style scoped>\n",
       "    .dataframe tbody tr th:only-of-type {\n",
       "        vertical-align: middle;\n",
       "    }\n",
       "\n",
       "    .dataframe tbody tr th {\n",
       "        vertical-align: top;\n",
       "    }\n",
       "\n",
       "    .dataframe thead th {\n",
       "        text-align: right;\n",
       "    }\n",
       "</style>\n",
       "<table border=\"1\" class=\"dataframe\">\n",
       "  <thead>\n",
       "    <tr style=\"text-align: right;\">\n",
       "      <th></th>\n",
       "      <th>Id</th>\n",
       "      <th>HelpfulnessNumerator</th>\n",
       "      <th>HelpfulnessDenominator</th>\n",
       "      <th>Score</th>\n",
       "      <th>Time</th>\n",
       "    </tr>\n",
       "  </thead>\n",
       "  <tbody>\n",
       "    <tr>\n",
       "      <th>count</th>\n",
       "      <td>568454.000000</td>\n",
       "      <td>568454.000000</td>\n",
       "      <td>568454.00000</td>\n",
       "      <td>568454.000000</td>\n",
       "      <td>5.684540e+05</td>\n",
       "    </tr>\n",
       "    <tr>\n",
       "      <th>mean</th>\n",
       "      <td>284227.500000</td>\n",
       "      <td>1.743817</td>\n",
       "      <td>2.22881</td>\n",
       "      <td>4.183199</td>\n",
       "      <td>1.296257e+09</td>\n",
       "    </tr>\n",
       "    <tr>\n",
       "      <th>std</th>\n",
       "      <td>164098.679298</td>\n",
       "      <td>7.636513</td>\n",
       "      <td>8.28974</td>\n",
       "      <td>1.310436</td>\n",
       "      <td>4.804331e+07</td>\n",
       "    </tr>\n",
       "    <tr>\n",
       "      <th>min</th>\n",
       "      <td>1.000000</td>\n",
       "      <td>0.000000</td>\n",
       "      <td>0.00000</td>\n",
       "      <td>1.000000</td>\n",
       "      <td>9.393408e+08</td>\n",
       "    </tr>\n",
       "    <tr>\n",
       "      <th>25%</th>\n",
       "      <td>142114.250000</td>\n",
       "      <td>0.000000</td>\n",
       "      <td>0.00000</td>\n",
       "      <td>4.000000</td>\n",
       "      <td>1.271290e+09</td>\n",
       "    </tr>\n",
       "    <tr>\n",
       "      <th>50%</th>\n",
       "      <td>284227.500000</td>\n",
       "      <td>0.000000</td>\n",
       "      <td>1.00000</td>\n",
       "      <td>5.000000</td>\n",
       "      <td>1.311120e+09</td>\n",
       "    </tr>\n",
       "    <tr>\n",
       "      <th>75%</th>\n",
       "      <td>426340.750000</td>\n",
       "      <td>2.000000</td>\n",
       "      <td>2.00000</td>\n",
       "      <td>5.000000</td>\n",
       "      <td>1.332720e+09</td>\n",
       "    </tr>\n",
       "    <tr>\n",
       "      <th>max</th>\n",
       "      <td>568454.000000</td>\n",
       "      <td>866.000000</td>\n",
       "      <td>923.00000</td>\n",
       "      <td>5.000000</td>\n",
       "      <td>1.351210e+09</td>\n",
       "    </tr>\n",
       "  </tbody>\n",
       "</table>\n",
       "</div>"
      ],
      "text/plain": [
       "                  Id  HelpfulnessNumerator  HelpfulnessDenominator  \\\n",
       "count  568454.000000         568454.000000            568454.00000   \n",
       "mean   284227.500000              1.743817                 2.22881   \n",
       "std    164098.679298              7.636513                 8.28974   \n",
       "min         1.000000              0.000000                 0.00000   \n",
       "25%    142114.250000              0.000000                 0.00000   \n",
       "50%    284227.500000              0.000000                 1.00000   \n",
       "75%    426340.750000              2.000000                 2.00000   \n",
       "max    568454.000000            866.000000               923.00000   \n",
       "\n",
       "               Score          Time  \n",
       "count  568454.000000  5.684540e+05  \n",
       "mean        4.183199  1.296257e+09  \n",
       "std         1.310436  4.804331e+07  \n",
       "min         1.000000  9.393408e+08  \n",
       "25%         4.000000  1.271290e+09  \n",
       "50%         5.000000  1.311120e+09  \n",
       "75%         5.000000  1.332720e+09  \n",
       "max         5.000000  1.351210e+09  "
      ]
     },
     "execution_count": 7,
     "metadata": {},
     "output_type": "execute_result"
    }
   ],
   "source": [
    "reviews_df.describe()"
   ]
  },
  {
   "cell_type": "code",
   "execution_count": 8,
   "metadata": {
    "execution": {
     "iopub.execute_input": "2020-11-05T13:00:24.089525Z",
     "iopub.status.busy": "2020-11-05T13:00:24.089370Z",
     "iopub.status.idle": "2020-11-05T13:00:24.103550Z",
     "shell.execute_reply": "2020-11-05T13:00:24.102786Z",
     "shell.execute_reply.started": "2020-11-05T13:00:24.089506Z"
    }
   },
   "outputs": [
    {
     "data": {
      "text/plain": [
       "'I have bought several of the Vitality canned dog food products and have found them all to be of good quality. The product looks more like a stew than a processed meat and it smells better. My Labrador is finicky and she appreciates this product better than  most.'"
      ]
     },
     "execution_count": 8,
     "metadata": {},
     "output_type": "execute_result"
    }
   ],
   "source": [
    "reviews_df.loc[0,\"Text\"]"
   ]
  },
  {
   "cell_type": "code",
   "execution_count": 9,
   "metadata": {
    "execution": {
     "iopub.execute_input": "2020-11-05T13:00:24.104494Z",
     "iopub.status.busy": "2020-11-05T13:00:24.104344Z",
     "iopub.status.idle": "2020-11-05T13:00:24.112177Z",
     "shell.execute_reply": "2020-11-05T13:00:24.111499Z",
     "shell.execute_reply.started": "2020-11-05T13:00:24.104475Z"
    }
   },
   "outputs": [
    {
     "data": {
      "text/plain": [
       "5    363122\n",
       "4     80655\n",
       "1     52268\n",
       "3     42640\n",
       "2     29769\n",
       "Name: Score, dtype: int64"
      ]
     },
     "execution_count": 9,
     "metadata": {},
     "output_type": "execute_result"
    }
   ],
   "source": [
    "reviews_df[\"Score\"].value_counts()"
   ]
  },
  {
   "cell_type": "code",
   "execution_count": 10,
   "metadata": {
    "execution": {
     "iopub.execute_input": "2020-11-05T13:00:24.113069Z",
     "iopub.status.busy": "2020-11-05T13:00:24.112920Z",
     "iopub.status.idle": "2020-11-05T13:00:24.125649Z",
     "shell.execute_reply": "2020-11-05T13:00:24.124907Z",
     "shell.execute_reply.started": "2020-11-05T13:00:24.113049Z"
    }
   },
   "outputs": [],
   "source": [
    "reviews_df[\"helpful_rating\"] = reviews_df[\"HelpfulnessNumerator\"] / reviews_df[\"HelpfulnessDenominator\"]"
   ]
  },
  {
   "cell_type": "code",
   "execution_count": 11,
   "metadata": {
    "execution": {
     "iopub.execute_input": "2020-11-05T13:00:24.126671Z",
     "iopub.status.busy": "2020-11-05T13:00:24.126509Z",
     "iopub.status.idle": "2020-11-05T13:00:25.342910Z",
     "shell.execute_reply": "2020-11-05T13:00:25.342260Z",
     "shell.execute_reply.started": "2020-11-05T13:00:24.126649Z"
    }
   },
   "outputs": [
    {
     "data": {
      "image/png": "[encoded data removed]",
      "text/plain": [
       "<Figure size 2880x2880 with 1 Axes>"
      ]
     },
     "metadata": {
      "needs_background": "light"
     },
     "output_type": "display_data"
    }
   ],
   "source": [
    "plt.figure(figsize=(40,40))\n",
    "plt.scatter(reviews_df[\"Score\"],reviews_df[\"helpful_rating\"],alpha=0.5)\n",
    "plt.xlabel(\"Score\")\n",
    "plt.ylabel(\"helpful rating\")\n",
    "plt.show();"
   ]
  },
  {
   "cell_type": "markdown",
   "metadata": {},
   "source": [
    "Going to create a dataframe of bad reviews and one of good reviews to process separately"
   ]
  },
  {
   "cell_type": "code",
   "execution_count": 12,
   "metadata": {
    "execution": {
     "iopub.execute_input": "2020-11-05T13:00:25.344251Z",
     "iopub.status.busy": "2020-11-05T13:00:25.344094Z",
     "iopub.status.idle": "2020-11-05T13:00:25.400385Z",
     "shell.execute_reply": "2020-11-05T13:00:25.399701Z",
     "shell.execute_reply.started": "2020-11-05T13:00:25.344231Z"
    }
   },
   "outputs": [],
   "source": [
    "good_reviews_df = reviews_df[ reviews_df[\"Score\"] >= 4 ]\n",
    "bad_reviews_df = reviews_df[ reviews_df[\"Score\"] <= 2 ]"
   ]
  },
  {
   "cell_type": "code",
   "execution_count": 13,
   "metadata": {
    "execution": {
     "iopub.execute_input": "2020-11-05T13:00:25.590292Z",
     "iopub.status.busy": "2020-11-05T13:00:25.590089Z",
     "iopub.status.idle": "2020-11-05T13:00:25.593985Z",
     "shell.execute_reply": "2020-11-05T13:00:25.593321Z",
     "shell.execute_reply.started": "2020-11-05T13:00:25.590271Z"
    }
   },
   "outputs": [],
   "source": [
    "if (NUMB_OF_DOCS1 > good_reviews_df.shape[0]) or (NUMB_OF_DOCS1 < 0):\n",
    "    NUMB_OF_DOCS1 = good_reviews_df.shape[0]\n",
    "\n",
    "\n",
    "if (NUMB_OF_DOCS2 > bad_reviews_df.shape[0]) or (NUMB_OF_DOCS2 < 0):\n",
    "    NUMB_OF_DOCS2 = bad_reviews_df.shape[0]"
   ]
  },
  {
   "cell_type": "code",
   "execution_count": 14,
   "metadata": {
    "execution": {
     "iopub.execute_input": "2020-11-05T13:00:26.681935Z",
     "iopub.status.busy": "2020-11-05T13:00:26.681674Z",
     "iopub.status.idle": "2020-11-05T13:00:26.686032Z",
     "shell.execute_reply": "2020-11-05T13:00:26.685287Z",
     "shell.execute_reply.started": "2020-11-05T13:00:26.681908Z"
    }
   },
   "outputs": [],
   "source": [
    "stuff =list(good_reviews_df.Text.head(NUMB_OF_DOCS1))"
   ]
  },
  {
   "cell_type": "code",
   "execution_count": 15,
   "metadata": {
    "execution": {
     "iopub.execute_input": "2020-11-05T13:00:29.011555Z",
     "iopub.status.busy": "2020-11-05T13:00:29.011342Z",
     "iopub.status.idle": "2020-11-05T13:00:29.016259Z",
     "shell.execute_reply": "2020-11-05T13:00:29.015641Z",
     "shell.execute_reply.started": "2020-11-05T13:00:29.011534Z"
    }
   },
   "outputs": [],
   "source": [
    "#Removing HTML from the text\n",
    "stuff = [re.sub(\"<.*?>\",\"\",item) for item in stuff]"
   ]
  },
  {
   "cell_type": "code",
   "execution_count": 16,
   "metadata": {
    "execution": {
     "iopub.execute_input": "2020-11-05T13:00:30.032797Z",
     "iopub.status.busy": "2020-11-05T13:00:30.032529Z",
     "iopub.status.idle": "2020-11-05T13:00:30.043266Z",
     "shell.execute_reply": "2020-11-05T13:00:30.042579Z",
     "shell.execute_reply.started": "2020-11-05T13:00:30.032770Z"
    }
   },
   "outputs": [],
   "source": [
    "#remove punctuation\n",
    "stuff = [  re.sub(\"[\\.|\\!|\\?|\\,|\\;|\\:|\\&|\\(|\\)|\\-]\",\"\",mystring) for mystring in stuff  ]"
   ]
  },
  {
   "cell_type": "markdown",
   "metadata": {},
   "source": [
    "**Tokenize**"
   ]
  },
  {
   "cell_type": "code",
   "execution_count": null,
   "metadata": {},
   "outputs": [],
   "source": [
    "stuff_tokenized= []\n",
    "\n",
    "stuff_tokenized = [word_tokenize(review) for review in stuff]"
   ]
  },
  {
   "cell_type": "code",
   "execution_count": null,
   "metadata": {},
   "outputs": [],
   "source": [
    "#stuff_tokenized[1]"
   ]
  },
  {
   "cell_type": "code",
   "execution_count": null,
   "metadata": {},
   "outputs": [],
   "source": [
    "#for i,item in enumerate(stuff_tokenized):\n",
    "#    if i == 10:\n",
    "#        break\n",
    "#    print(i,\"-->\",item,\"\\n\")"
   ]
  },
  {
   "cell_type": "code",
   "execution_count": null,
   "metadata": {},
   "outputs": [],
   "source": [
    "#lemmatize each word in stuff\n",
    "def calc_partofspeech(raw_pos):\n",
    "    \"\"\"translates from POS generated by pos_tag() to a POS encoding that WordNetLemmatizer.lemmatize() understands\"\"\"\n",
    "    #print(\"word = \",word)\n",
    "    #[(output_word, output_pos)] = pos_tag(word_tokenize(word))\n",
    "    \n",
    "    #decode output_pos to the pos required by the lemmatizer\n",
    "    \n",
    "    if \"JJ\" in raw_pos:\n",
    "        pos = \"a\"\n",
    "    elif \"RB\" in raw_pos:\n",
    "        pos = \"r\"\n",
    "    elif \"VB\" in raw_pos:\n",
    "        pos = \"v\"\n",
    "    else:\n",
    "        pos = \"n\"\n",
    "    \n",
    "    return pos\n",
    "\n",
    "\n"
   ]
  },
  {
   "cell_type": "code",
   "execution_count": null,
   "metadata": {},
   "outputs": [],
   "source": [
    "#for i,item in enumerate(stuff):\n",
    "#   if i == 10:\n",
    "#        break\n",
    "#   print(i,\"-->\",item,\"\\n\")"
   ]
  },
  {
   "cell_type": "code",
   "execution_count": null,
   "metadata": {},
   "outputs": [],
   "source": [
    "stuff_tokenized[0]"
   ]
  },
  {
   "cell_type": "markdown",
   "metadata": {},
   "source": [
    "lemmatizing to cut down on the size of the dimensions of the eventual vectorized word matrix without losing meaning of the text"
   ]
  },
  {
   "cell_type": "code",
   "execution_count": null,
   "metadata": {},
   "outputs": [],
   "source": [
    "wordNetLemmatizer = WordNetLemmatizer()\n",
    "\n",
    "stuff_lemmatized = []\n",
    "\n",
    "for mydoc in stuff_tokenized:\n",
    "    #temp_mydoc = \" \".join(mydoc)\n",
    "    temp_mydoc_lemmatized = []\n",
    "    \n",
    "    pos_result = pos_tag(mydoc)\n",
    "    \n",
    "    for myword,mypos in pos_result:\n",
    "\n",
    "        temp_word_lemmatized = wordNetLemmatizer.lemmatize(myword,calc_partofspeech(mypos))\n",
    "        temp_mydoc_lemmatized.append(temp_word_lemmatized)\n",
    "\n",
    "    stuff_lemmatized.append(temp_mydoc_lemmatized)\n",
    "    \n",
    "#stuff_lemmatized = [wordNetLemmatizer.lemmatize(myword,calc_partofspeech(myword)) for mydoc in stuff_tokenized for myword in mydoc]\n",
    "\n"
   ]
  },
  {
   "cell_type": "code",
   "execution_count": null,
   "metadata": {},
   "outputs": [],
   "source": [
    "#Test code doesn't need to be run\n",
    "#myword = \"running\"\n",
    "#myword_lemmed = wordNetLemmatizer.lemmatize(myword,calc_partofspeech(myword))\n",
    "#myword_lemmed = wordNetLemmatizer.lemmatize(myword,\"v\")\n",
    "\n",
    "#print(\"myword_lemmed = \",myword_lemmed)\n",
    "#print(\"POS for myword = \",calc_partofspeech(myword))"
   ]
  },
  {
   "cell_type": "code",
   "execution_count": null,
   "metadata": {},
   "outputs": [],
   "source": [
    "#stuff_lemmatized[0]"
   ]
  },
  {
   "cell_type": "code",
   "execution_count": null,
   "metadata": {},
   "outputs": [],
   "source": [
    "# I only want adjectives and adverbs sent to the vectorizer\n",
    "#stuff_pos_filtered = [mylemword for mylemdoc in stuff_lemmatized for mylemword in mylemdoc if (\"JJ\" in pos_tag(word_tokenize(mylemword))[0][1]) or (\"RB\" in pos_tag(word_tokenize(mylemword))[0][1])]"
   ]
  },
  {
   "cell_type": "code",
   "execution_count": null,
   "metadata": {},
   "outputs": [],
   "source": [
    "#stuff_pos_filtered[6]"
   ]
  },
  {
   "cell_type": "code",
   "execution_count": null,
   "metadata": {},
   "outputs": [],
   "source": [
    "# I only want adjectives and adverbs sent to the vectorizer\n",
    "\n",
    "def filter_pos(stuff_lemmatized,pos_abbrev=[\"JJ\"]):\n",
    "    \"\"\"\n",
    "    takes as input the following\n",
    "    list_of_docs = a list(list(str)) object which is a list of documents that have been word tokenized and lemmatized\n",
    "    pos_abbrev = list of NLTK pos_tag() output parts of speech codes abbreviated to the first two characters\n",
    "    \n",
    "    \"\"\"\n",
    "#    print(\"pos_abbrev = \",pos_abbrev)\n",
    "\n",
    "    stuff_pos_filtered = []\n",
    "    \n",
    "    if type(pos_abbrev) != type([]):\n",
    "        print(\"post_abbrev must be a list of POS codes (1st 2 char of the code only)\")\n",
    "        return 1\n",
    "\n",
    "    for mylemdoc in stuff_lemmatized:\n",
    "    \n",
    "        temp_pos_filtered_doc = \"\"\n",
    "        #pos_tag() works better if you pass the entire document to it as a tokenized list\n",
    "        #it must be doing some sequence modeling under the hood to get context of words so that it can\n",
    "        #better ID parts of speech\n",
    "        \n",
    "        pos_result = pos_tag(mylemdoc)\n",
    "    \n",
    "        for result_word, result_pos in pos_result:\n",
    "#            print(\"tokenized word = \", word_tokenize(mylemword))\n",
    "#            print(\"tokenized word pos = \", pos_tag(word_tokenize(mylemword))[0][1])\n",
    "            for mypos in pos_abbrev:\n",
    "                if (mypos in result_pos) :\n",
    "                    temp_pos_filtered_doc = temp_pos_filtered_doc + result_word + \" \"\n",
    "            \n",
    "        stuff_pos_filtered.append(temp_pos_filtered_doc.rstrip())\n",
    "    \n",
    "    return stuff_pos_filtered\n"
   ]
  },
  {
   "cell_type": "code",
   "execution_count": null,
   "metadata": {},
   "outputs": [],
   "source": [
    "stuff_pos_filtered = filter_pos(stuff_lemmatized,pos_abbrev=[\"JJ\",\"RB\"])\n",
    "#stuff_pos_filtered\n",
    "#stuff_pos_filtered = stuff_pos_filtered + filter_pos(stuff_lemmatized,\"RB\")"
   ]
  },
  {
   "cell_type": "code",
   "execution_count": null,
   "metadata": {},
   "outputs": [],
   "source": [
    "stuff_pos_filtered[0:3]"
   ]
  },
  {
   "cell_type": "code",
   "execution_count": null,
   "metadata": {},
   "outputs": [],
   "source": [
    "#stuff_lemmatized[0]"
   ]
  },
  {
   "cell_type": "markdown",
   "metadata": {},
   "source": [
    "Get the nouns"
   ]
  },
  {
   "cell_type": "code",
   "execution_count": null,
   "metadata": {},
   "outputs": [],
   "source": [
    "stuff_nouns = filter_pos(stuff_lemmatized,pos_abbrev=[\"NN\"])"
   ]
  },
  {
   "cell_type": "code",
   "execution_count": null,
   "metadata": {},
   "outputs": [],
   "source": [
    "stuff_nouns[0:3]"
   ]
  },
  {
   "cell_type": "code",
   "execution_count": null,
   "metadata": {},
   "outputs": [],
   "source": [
    "stuff_pos_filtered[0:5]"
   ]
  },
  {
   "cell_type": "code",
   "execution_count": null,
   "metadata": {},
   "outputs": [],
   "source": [
    "len(stuff_pos_filtered)"
   ]
  },
  {
   "cell_type": "markdown",
   "metadata": {},
   "source": [
    "## Word Vectorization / Parsing\n",
    "\n",
    "Will do the following here:\n",
    "\n",
    "```\n",
    "\n",
    "(lemmatized text)-->[WordVectorization(dropping stop word)] --> [POS tagging] --> [collect Adjectives]\n",
    "\n",
    "\n",
    "```\n"
   ]
  },
  {
   "cell_type": "code",
   "execution_count": null,
   "metadata": {},
   "outputs": [],
   "source": [
    "vectorizer = CountVectorizer(stop_words=\"english\")\n",
    "docTermMatrixCountVec = vectorizer.fit_transform(stuff_pos_filtered)"
   ]
  },
  {
   "cell_type": "code",
   "execution_count": null,
   "metadata": {},
   "outputs": [],
   "source": [
    "len(vectorizer.get_feature_names())"
   ]
  },
  {
   "cell_type": "code",
   "execution_count": null,
   "metadata": {},
   "outputs": [],
   "source": [
    "docTermMatrixCountVec.toarray()"
   ]
  },
  {
   "cell_type": "code",
   "execution_count": null,
   "metadata": {},
   "outputs": [],
   "source": [
    "docTermMatrixCountVec.shape"
   ]
  },
  {
   "cell_type": "code",
   "execution_count": null,
   "metadata": {},
   "outputs": [],
   "source": [
    "\n",
    "docTermMatrixCountVec_df = pd.DataFrame(docTermMatrixCountVec.toarray(), index=stuff_pos_filtered, columns=vectorizer.get_feature_names())"
   ]
  },
  {
   "cell_type": "code",
   "execution_count": null,
   "metadata": {},
   "outputs": [],
   "source": [
    "docTermMatrixCountVec_df.head()"
   ]
  },
  {
   "cell_type": "code",
   "execution_count": null,
   "metadata": {},
   "outputs": [],
   "source": [
    "LD_Allocator = LatentDirichletAllocation(n_components=5, random_state=0)\n",
    "LD_Allocator.fit(docTermMatrixCountVec)"
   ]
  },
  {
   "cell_type": "markdown",
   "metadata": {},
   "source": [
    "## Topics via LDA"
   ]
  },
  {
   "cell_type": "markdown",
   "metadata": {
    "execution": {
     "iopub.execute_input": "2020-11-03T22:20:31.145738Z",
     "iopub.status.busy": "2020-11-03T22:20:31.145545Z",
     "iopub.status.idle": "2020-11-03T22:20:31.162025Z",
     "shell.execute_reply": "2020-11-03T22:20:31.161379Z",
     "shell.execute_reply.started": "2020-11-03T22:20:31.145719Z"
    }
   },
   "source": [
    "## LDA on \"Good\" Reviews"
   ]
  },
  {
   "cell_type": "code",
   "execution_count": null,
   "metadata": {},
   "outputs": [],
   "source": [
    "#pyLDAvis.enable_notebook()\n",
    "#pyLDAvis.sklearn.prepare(LD_Allocator, docTermMatrixCountVec, vectorizer)"
   ]
  },
  {
   "cell_type": "code",
   "execution_count": null,
   "metadata": {},
   "outputs": [],
   "source": []
  }
 ],
 "metadata": {
  "kernelspec": {
   "display_name": "Python 3",
   "language": "python",
   "name": "python3"
  },
  "language_info": {
   "codemirror_mode": {
    "name": "ipython",
    "version": 3
   },
   "file_extension": ".py",
   "mimetype": "text/x-python",
   "name": "python",
   "nbconvert_exporter": "python",
   "pygments_lexer": "ipython3",
   "version": "3.8.6"
  }
 },
 "nbformat": 4,
 "nbformat_minor": 4
}
