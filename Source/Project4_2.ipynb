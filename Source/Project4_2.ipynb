{
 "cells": [
  {
   "cell_type": "code",
   "execution_count": 45,
   "metadata": {
    "execution": {
     "iopub.execute_input": "2020-11-10T04:42:48.702766Z",
     "iopub.status.busy": "2020-11-10T04:42:48.702498Z",
     "iopub.status.idle": "2020-11-10T04:42:48.706432Z",
     "shell.execute_reply": "2020-11-10T04:42:48.705638Z",
     "shell.execute_reply.started": "2020-11-10T04:42:48.702738Z"
    }
   },
   "outputs": [],
   "source": [
    "#disable warnings\n",
    "import warnings\n",
    "warnings.filterwarnings(\"ignore\") "
   ]
  },
  {
   "cell_type": "code",
   "execution_count": 46,
   "metadata": {
    "execution": {
     "iopub.execute_input": "2020-11-10T04:42:48.708048Z",
     "iopub.status.busy": "2020-11-10T04:42:48.707803Z",
     "iopub.status.idle": "2020-11-10T04:42:48.717001Z",
     "shell.execute_reply": "2020-11-10T04:42:48.716164Z",
     "shell.execute_reply.started": "2020-11-10T04:42:48.708020Z"
    }
   },
   "outputs": [],
   "source": [
    "#stuff"
   ]
  },
  {
   "cell_type": "markdown",
   "metadata": {},
   "source": [
    "# Purpose of this Notebook"
   ]
  },
  {
   "cell_type": "code",
   "execution_count": 111,
   "metadata": {
    "execution": {
     "iopub.execute_input": "2020-11-10T05:19:07.131945Z",
     "iopub.status.busy": "2020-11-10T05:19:07.131676Z",
     "iopub.status.idle": "2020-11-10T05:19:07.136220Z",
     "shell.execute_reply": "2020-11-10T05:19:07.135470Z",
     "shell.execute_reply.started": "2020-11-10T05:19:07.131917Z"
    }
   },
   "outputs": [],
   "source": [
    "#Number of reviews to put into data frame of good reviews. Set it to less than 0 if you want all of the good reviews to be processed\n",
    "NUMB_OF_GOOD_REVIEWS = -1\n",
    "\n",
    "#Number of reviews to put into data frame of bad reviews\n",
    "NUMB_OF_BAD_REVIEWS = -1\n",
    "\n",
    "#set to 1 if you want to reclean the dataframes, otherwise it will load data from a previous clean\n",
    "#note cleaning takes 30 minutes on a pretty fast machine\n",
    "CLEAN_DATAFRAME = 0\n",
    "\n",
    "#used to seed the random state in parts of the NLP pipeline that need it\n",
    "RANDOM_STATE=42\n",
    "\n",
    "#the max number of processors to use in parallel for performing certain text processing steps in the NLP pipeline\n",
    "N_JOBS = 8\n",
    "\n",
    "\n",
    "#number of topics to generate in the document-term matrix created via LDA\n",
    "NUMBER_OF_TOPICS=20"
   ]
  },
  {
   "cell_type": "markdown",
   "metadata": {},
   "source": [
    "## Problem Statement"
   ]
  },
  {
   "cell_type": "markdown",
   "metadata": {},
   "source": [
    "Product developers often want to know this about their products:\n",
    "\n",
    "* For products that people don't like, what is it about the products they don't like? Maybe if we know this we could improve the product by fixing this unliked product features\n",
    "* For products that people love, what is it about the products that result in people loving them? Maybe if we expanded on these loved features, we could get new customers or better retain current customers"
   ]
  },
  {
   "cell_type": "markdown",
   "metadata": {},
   "source": [
    "## Proposed Solution"
   ]
  },
  {
   "cell_type": "markdown",
   "metadata": {},
   "source": [
    "Perform topic modeling and that identifies the features of products that people love so that a product manager can have an idea of things that could be addressed to get more \"likes\" for the product.\n",
    "\n",
    "Perform topic modeling that identifies the features of products that people don't like and somehow rank them so that a product manager can have a priority list of things that could be fixed to hopefully turn the disliked product into a liked product.\n"
   ]
  },
  {
   "cell_type": "markdown",
   "metadata": {
    "execution": {
     "iopub.execute_input": "2020-11-04T21:11:05.576479Z",
     "iopub.status.busy": "2020-11-04T21:11:05.576164Z",
     "iopub.status.idle": "2020-11-04T21:11:05.580086Z",
     "shell.execute_reply": "2020-11-04T21:11:05.579426Z",
     "shell.execute_reply.started": "2020-11-04T21:11:05.576406Z"
    }
   },
   "source": [
    "# Module Import"
   ]
  },
  {
   "cell_type": "code",
   "execution_count": 48,
   "metadata": {
    "execution": {
     "iopub.execute_input": "2020-11-10T04:42:48.724816Z",
     "iopub.status.busy": "2020-11-10T04:42:48.724572Z",
     "iopub.status.idle": "2020-11-10T04:42:48.731546Z",
     "shell.execute_reply": "2020-11-10T04:42:48.730803Z",
     "shell.execute_reply.started": "2020-11-10T04:42:48.724788Z"
    }
   },
   "outputs": [],
   "source": [
    "import datetime\n",
    "from collections import Counter\n",
    "import pickle\n",
    "\n",
    "import pandas as pd\n",
    "import numpy as np\n",
    "import matplotlib.pyplot as plt\n",
    "\n",
    "import re\n",
    "\n",
    "#to speed up pandas operands\n",
    "from pandarallel import pandarallel\n",
    "\n",
    "from sklearn.feature_extraction.text import CountVectorizer, TfidfVectorizer\n",
    "from sklearn.decomposition import LatentDirichletAllocation\n",
    "from sklearn.decomposition import PCA\n",
    "from sklearn.cluster import KMeans\n",
    "from sklearn.decomposition import TruncatedSVD\n",
    "import nltk\n",
    "from nltk.corpus import wordnet\n",
    "from nltk.tag import pos_tag\n",
    "from nltk.tokenize import word_tokenize\n",
    "from nltk.stem import WordNetLemmatizer\n",
    "\n",
    "\n",
    "\n",
    "#gensim\n",
    "from gensim import corpora, models, similarities, matutils\n",
    "\n"
   ]
  },
  {
   "cell_type": "code",
   "execution_count": 49,
   "metadata": {
    "execution": {
     "iopub.execute_input": "2020-11-10T04:42:48.732632Z",
     "iopub.status.busy": "2020-11-10T04:42:48.732455Z",
     "iopub.status.idle": "2020-11-10T04:42:48.747271Z",
     "shell.execute_reply": "2020-11-10T04:42:48.746520Z",
     "shell.execute_reply.started": "2020-11-10T04:42:48.732612Z"
    }
   },
   "outputs": [],
   "source": [
    "# You can configure the format of the images: ‘png’, ‘retina’, ‘jpeg’, ‘svg’, ‘pdf’.\n",
    "%config InlineBackend.figure_format = 'png'\n",
    "%matplotlib inline "
   ]
  },
  {
   "cell_type": "markdown",
   "metadata": {},
   "source": [
    "# NLP Pipeline\n",
    "\n",
    "This section of the notebook steps through the various stages of text processing starting with initial raw text read in from the CSV file and ends with the TFIDF-vectorized document-term matrix.\n"
   ]
  },
  {
   "cell_type": "markdown",
   "metadata": {},
   "source": [
    "## Text Preprocessing\n",
    "\n",
    "This diagram describes what is happening in the early parts of the document processing pipeline:\n",
    "\n",
    "![text_preproc](./../Documents/Images/text_preprocessing.jpg)\n",
    "\n",
    "**Deduplication**: Removing any rows in the original CSV that are duplicates. See code below for more on how duplicates were chosen\n",
    "\n",
    "**NaN Removal**: Removed any row in the original CSV that contained one or more `NaN` (not a number) entries or where `HelpfulnessDenominator==0`.\n",
    "\n",
    "**Cleaning**: Removed HTML and non-English words (according to NLTK's dictionary), removed punctuation, removed numbers, or space-delimited strings that contain numbers, converted what remains to lowercase\n",
    "\n",
    "**Tokenization**: Converted the review, which exists as a single string, into separate strings, one string per word as identified by NLTK's `word_tokenize()`\n",
    "\n",
    "**Lemmatization**: Convert each word into its equivalent form found in the dictionary\n",
    "\n",
    "Reasons for all of this processing: To reduce the impact of the [curse of dimensionality](https://en.wikipedia.org/wiki/Curse_of_dimensionality), and to not steer subsequent analysis steps to work on misspelled words.\n",
    "\n",
    "For example the word \"buying\" and \"bought\" both appear in the review corpus. Both of these words are variations of the dictionary term \"buy\" and hence mean the same thing. If we were to allow all three terms to be analyzed it woud result in a matrix, where each document would be defined by three extra vector components when just one would suffice. \n",
    "\n",
    "The downside of this processing is that there are meaningful terms, that because they do not exist in the dictionary, are removed. For example the term [zubaz](https://en.wikipedia.org/wiki/Curse_of_dimensionality) is removed from the corpus. This and other similar terms could be added back by manually expanding the set of terms in the NLTK dictionary, given more engineering time.\n"
   ]
  },
  {
   "cell_type": "code",
   "execution_count": 50,
   "metadata": {
    "execution": {
     "iopub.execute_input": "2020-11-10T04:42:48.748389Z",
     "iopub.status.busy": "2020-11-10T04:42:48.748222Z",
     "iopub.status.idle": "2020-11-10T04:42:51.933259Z",
     "shell.execute_reply": "2020-11-10T04:42:51.932329Z",
     "shell.execute_reply.started": "2020-11-10T04:42:48.748369Z"
    }
   },
   "outputs": [],
   "source": [
    "reviews_df = pd.read_csv(\"../Data/Reviews.csv\")"
   ]
  },
  {
   "cell_type": "code",
   "execution_count": 51,
   "metadata": {
    "execution": {
     "iopub.execute_input": "2020-11-10T04:42:51.934566Z",
     "iopub.status.busy": "2020-11-10T04:42:51.934396Z",
     "iopub.status.idle": "2020-11-10T04:42:51.946743Z",
     "shell.execute_reply": "2020-11-10T04:42:51.946193Z",
     "shell.execute_reply.started": "2020-11-10T04:42:51.934546Z"
    }
   },
   "outputs": [
    {
     "data": {
      "text/html": [
       "<div>\n",
       "<style scoped>\n",
       "    .dataframe tbody tr th:only-of-type {\n",
       "        vertical-align: middle;\n",
       "    }\n",
       "\n",
       "    .dataframe tbody tr th {\n",
       "        vertical-align: top;\n",
       "    }\n",
       "\n",
       "    .dataframe thead th {\n",
       "        text-align: right;\n",
       "    }\n",
       "</style>\n",
       "<table border=\"1\" class=\"dataframe\">\n",
       "  <thead>\n",
       "    <tr style=\"text-align: right;\">\n",
       "      <th></th>\n",
       "      <th>Id</th>\n",
       "      <th>ProductId</th>\n",
       "      <th>UserId</th>\n",
       "      <th>ProfileName</th>\n",
       "      <th>HelpfulnessNumerator</th>\n",
       "      <th>HelpfulnessDenominator</th>\n",
       "      <th>Score</th>\n",
       "      <th>Time</th>\n",
       "      <th>Summary</th>\n",
       "      <th>Text</th>\n",
       "    </tr>\n",
       "  </thead>\n",
       "  <tbody>\n",
       "    <tr>\n",
       "      <th>0</th>\n",
       "      <td>1</td>\n",
       "      <td>B001E4KFG0</td>\n",
       "      <td>A3SGXH7AUHU8GW</td>\n",
       "      <td>delmartian</td>\n",
       "      <td>1</td>\n",
       "      <td>1</td>\n",
       "      <td>5</td>\n",
       "      <td>1303862400</td>\n",
       "      <td>Good Quality Dog Food</td>\n",
       "      <td>I have bought several of the Vitality canned d...</td>\n",
       "    </tr>\n",
       "    <tr>\n",
       "      <th>1</th>\n",
       "      <td>2</td>\n",
       "      <td>B00813GRG4</td>\n",
       "      <td>A1D87F6ZCVE5NK</td>\n",
       "      <td>dll pa</td>\n",
       "      <td>0</td>\n",
       "      <td>0</td>\n",
       "      <td>1</td>\n",
       "      <td>1346976000</td>\n",
       "      <td>Not as Advertised</td>\n",
       "      <td>Product arrived labeled as Jumbo Salted Peanut...</td>\n",
       "    </tr>\n",
       "    <tr>\n",
       "      <th>2</th>\n",
       "      <td>3</td>\n",
       "      <td>B000LQOCH0</td>\n",
       "      <td>ABXLMWJIXXAIN</td>\n",
       "      <td>Natalia Corres \"Natalia Corres\"</td>\n",
       "      <td>1</td>\n",
       "      <td>1</td>\n",
       "      <td>4</td>\n",
       "      <td>1219017600</td>\n",
       "      <td>\"Delight\" says it all</td>\n",
       "      <td>This is a confection that has been around a fe...</td>\n",
       "    </tr>\n",
       "    <tr>\n",
       "      <th>3</th>\n",
       "      <td>4</td>\n",
       "      <td>B000UA0QIQ</td>\n",
       "      <td>A395BORC6FGVXV</td>\n",
       "      <td>Karl</td>\n",
       "      <td>3</td>\n",
       "      <td>3</td>\n",
       "      <td>2</td>\n",
       "      <td>1307923200</td>\n",
       "      <td>Cough Medicine</td>\n",
       "      <td>If you are looking for the secret ingredient i...</td>\n",
       "    </tr>\n",
       "    <tr>\n",
       "      <th>4</th>\n",
       "      <td>5</td>\n",
       "      <td>B006K2ZZ7K</td>\n",
       "      <td>A1UQRSCLF8GW1T</td>\n",
       "      <td>Michael D. Bigham \"M. Wassir\"</td>\n",
       "      <td>0</td>\n",
       "      <td>0</td>\n",
       "      <td>5</td>\n",
       "      <td>1350777600</td>\n",
       "      <td>Great taffy</td>\n",
       "      <td>Great taffy at a great price.  There was a wid...</td>\n",
       "    </tr>\n",
       "  </tbody>\n",
       "</table>\n",
       "</div>"
      ],
      "text/plain": [
       "   Id   ProductId          UserId                      ProfileName  \\\n",
       "0   1  B001E4KFG0  A3SGXH7AUHU8GW                       delmartian   \n",
       "1   2  B00813GRG4  A1D87F6ZCVE5NK                           dll pa   \n",
       "2   3  B000LQOCH0   ABXLMWJIXXAIN  Natalia Corres \"Natalia Corres\"   \n",
       "3   4  B000UA0QIQ  A395BORC6FGVXV                             Karl   \n",
       "4   5  B006K2ZZ7K  A1UQRSCLF8GW1T    Michael D. Bigham \"M. Wassir\"   \n",
       "\n",
       "   HelpfulnessNumerator  HelpfulnessDenominator  Score        Time  \\\n",
       "0                     1                       1      5  1303862400   \n",
       "1                     0                       0      1  1346976000   \n",
       "2                     1                       1      4  1219017600   \n",
       "3                     3                       3      2  1307923200   \n",
       "4                     0                       0      5  1350777600   \n",
       "\n",
       "                 Summary                                               Text  \n",
       "0  Good Quality Dog Food  I have bought several of the Vitality canned d...  \n",
       "1      Not as Advertised  Product arrived labeled as Jumbo Salted Peanut...  \n",
       "2  \"Delight\" says it all  This is a confection that has been around a fe...  \n",
       "3         Cough Medicine  If you are looking for the secret ingredient i...  \n",
       "4            Great taffy  Great taffy at a great price.  There was a wid...  "
      ]
     },
     "execution_count": 51,
     "metadata": {},
     "output_type": "execute_result"
    }
   ],
   "source": [
    "reviews_df.head()"
   ]
  },
  {
   "cell_type": "code",
   "execution_count": 52,
   "metadata": {
    "execution": {
     "iopub.execute_input": "2020-11-10T04:42:51.948758Z",
     "iopub.status.busy": "2020-11-10T04:42:51.948599Z",
     "iopub.status.idle": "2020-11-10T04:42:52.025808Z",
     "shell.execute_reply": "2020-11-10T04:42:52.025086Z",
     "shell.execute_reply.started": "2020-11-10T04:42:51.948738Z"
    }
   },
   "outputs": [
    {
     "data": {
      "text/html": [
       "<div>\n",
       "<style scoped>\n",
       "    .dataframe tbody tr th:only-of-type {\n",
       "        vertical-align: middle;\n",
       "    }\n",
       "\n",
       "    .dataframe tbody tr th {\n",
       "        vertical-align: top;\n",
       "    }\n",
       "\n",
       "    .dataframe thead th {\n",
       "        text-align: right;\n",
       "    }\n",
       "</style>\n",
       "<table border=\"1\" class=\"dataframe\">\n",
       "  <thead>\n",
       "    <tr style=\"text-align: right;\">\n",
       "      <th></th>\n",
       "      <th>Id</th>\n",
       "      <th>HelpfulnessNumerator</th>\n",
       "      <th>HelpfulnessDenominator</th>\n",
       "      <th>Score</th>\n",
       "      <th>Time</th>\n",
       "    </tr>\n",
       "  </thead>\n",
       "  <tbody>\n",
       "    <tr>\n",
       "      <th>count</th>\n",
       "      <td>568454.000000</td>\n",
       "      <td>568454.000000</td>\n",
       "      <td>568454.00000</td>\n",
       "      <td>568454.000000</td>\n",
       "      <td>5.684540e+05</td>\n",
       "    </tr>\n",
       "    <tr>\n",
       "      <th>mean</th>\n",
       "      <td>284227.500000</td>\n",
       "      <td>1.743817</td>\n",
       "      <td>2.22881</td>\n",
       "      <td>4.183199</td>\n",
       "      <td>1.296257e+09</td>\n",
       "    </tr>\n",
       "    <tr>\n",
       "      <th>std</th>\n",
       "      <td>164098.679298</td>\n",
       "      <td>7.636513</td>\n",
       "      <td>8.28974</td>\n",
       "      <td>1.310436</td>\n",
       "      <td>4.804331e+07</td>\n",
       "    </tr>\n",
       "    <tr>\n",
       "      <th>min</th>\n",
       "      <td>1.000000</td>\n",
       "      <td>0.000000</td>\n",
       "      <td>0.00000</td>\n",
       "      <td>1.000000</td>\n",
       "      <td>9.393408e+08</td>\n",
       "    </tr>\n",
       "    <tr>\n",
       "      <th>25%</th>\n",
       "      <td>142114.250000</td>\n",
       "      <td>0.000000</td>\n",
       "      <td>0.00000</td>\n",
       "      <td>4.000000</td>\n",
       "      <td>1.271290e+09</td>\n",
       "    </tr>\n",
       "    <tr>\n",
       "      <th>50%</th>\n",
       "      <td>284227.500000</td>\n",
       "      <td>0.000000</td>\n",
       "      <td>1.00000</td>\n",
       "      <td>5.000000</td>\n",
       "      <td>1.311120e+09</td>\n",
       "    </tr>\n",
       "    <tr>\n",
       "      <th>75%</th>\n",
       "      <td>426340.750000</td>\n",
       "      <td>2.000000</td>\n",
       "      <td>2.00000</td>\n",
       "      <td>5.000000</td>\n",
       "      <td>1.332720e+09</td>\n",
       "    </tr>\n",
       "    <tr>\n",
       "      <th>max</th>\n",
       "      <td>568454.000000</td>\n",
       "      <td>866.000000</td>\n",
       "      <td>923.00000</td>\n",
       "      <td>5.000000</td>\n",
       "      <td>1.351210e+09</td>\n",
       "    </tr>\n",
       "  </tbody>\n",
       "</table>\n",
       "</div>"
      ],
      "text/plain": [
       "                  Id  HelpfulnessNumerator  HelpfulnessDenominator  \\\n",
       "count  568454.000000         568454.000000            568454.00000   \n",
       "mean   284227.500000              1.743817                 2.22881   \n",
       "std    164098.679298              7.636513                 8.28974   \n",
       "min         1.000000              0.000000                 0.00000   \n",
       "25%    142114.250000              0.000000                 0.00000   \n",
       "50%    284227.500000              0.000000                 1.00000   \n",
       "75%    426340.750000              2.000000                 2.00000   \n",
       "max    568454.000000            866.000000               923.00000   \n",
       "\n",
       "               Score          Time  \n",
       "count  568454.000000  5.684540e+05  \n",
       "mean        4.183199  1.296257e+09  \n",
       "std         1.310436  4.804331e+07  \n",
       "min         1.000000  9.393408e+08  \n",
       "25%         4.000000  1.271290e+09  \n",
       "50%         5.000000  1.311120e+09  \n",
       "75%         5.000000  1.332720e+09  \n",
       "max         5.000000  1.351210e+09  "
      ]
     },
     "execution_count": 52,
     "metadata": {},
     "output_type": "execute_result"
    }
   ],
   "source": [
    "reviews_df.describe()"
   ]
  },
  {
   "cell_type": "markdown",
   "metadata": {},
   "source": [
    "According to the Kaggle description `HelpfulnessNumerator` should be less than or equal to `HelpfulnessDenominator`. So I will filter out any reviews that do not meet this specification.  Also, removing reviews where `HelpfulnessDenominator` is zero as this indicates a review that is not useful:"
   ]
  },
  {
   "cell_type": "code",
   "execution_count": 53,
   "metadata": {
    "execution": {
     "iopub.execute_input": "2020-11-10T04:42:52.027330Z",
     "iopub.status.busy": "2020-11-10T04:42:52.027171Z",
     "iopub.status.idle": "2020-11-10T04:42:52.076188Z",
     "shell.execute_reply": "2020-11-10T04:42:52.075454Z",
     "shell.execute_reply.started": "2020-11-10T04:42:52.027310Z"
    }
   },
   "outputs": [
    {
     "data": {
      "text/plain": [
       "(270054, 10)"
      ]
     },
     "execution_count": 53,
     "metadata": {},
     "output_type": "execute_result"
    }
   ],
   "source": [
    "mask = (reviews_df[\"HelpfulnessNumerator\"] <=  reviews_df[\"HelpfulnessDenominator\"]) & (reviews_df[\"HelpfulnessDenominator\"] > 0)\n",
    "reviews_df[~mask].shape"
   ]
  },
  {
   "cell_type": "markdown",
   "metadata": {},
   "source": [
    "There are few to remove so doing that now:"
   ]
  },
  {
   "cell_type": "code",
   "execution_count": 54,
   "metadata": {
    "execution": {
     "iopub.execute_input": "2020-11-10T04:42:52.077281Z",
     "iopub.status.busy": "2020-11-10T04:42:52.077128Z",
     "iopub.status.idle": "2020-11-10T04:42:52.112252Z",
     "shell.execute_reply": "2020-11-10T04:42:52.111537Z",
     "shell.execute_reply.started": "2020-11-10T04:42:52.077262Z"
    }
   },
   "outputs": [],
   "source": [
    "reviews_df = reviews_df[mask]"
   ]
  },
  {
   "cell_type": "markdown",
   "metadata": {},
   "source": [
    "**Deduplication**: Are there any duplicate entries?"
   ]
  },
  {
   "cell_type": "code",
   "execution_count": 55,
   "metadata": {
    "execution": {
     "iopub.execute_input": "2020-11-10T04:42:52.113327Z",
     "iopub.status.busy": "2020-11-10T04:42:52.113177Z",
     "iopub.status.idle": "2020-11-10T04:42:52.598413Z",
     "shell.execute_reply": "2020-11-10T04:42:52.597418Z",
     "shell.execute_reply.started": "2020-11-10T04:42:52.113308Z"
    }
   },
   "outputs": [
    {
     "data": {
      "text/plain": [
       "False    209681\n",
       "True      88719\n",
       "dtype: int64"
      ]
     },
     "execution_count": 55,
     "metadata": {},
     "output_type": "execute_result"
    }
   ],
   "source": [
    "reviews_df.duplicated(subset=[\"UserId\",\"ProfileName\",\"Time\",\"Text\"],keep=\"first\").value_counts()"
   ]
  },
  {
   "cell_type": "code",
   "execution_count": 56,
   "metadata": {
    "execution": {
     "iopub.execute_input": "2020-11-10T04:42:52.599730Z",
     "iopub.status.busy": "2020-11-10T04:42:52.599519Z",
     "iopub.status.idle": "2020-11-10T04:42:53.110196Z",
     "shell.execute_reply": "2020-11-10T04:42:53.109269Z",
     "shell.execute_reply.started": "2020-11-10T04:42:52.599703Z"
    }
   },
   "outputs": [],
   "source": [
    "reviews_df.drop_duplicates(subset=[\"UserId\",\"ProfileName\",\"Time\",\"Text\"],keep=\"first\",inplace=True)"
   ]
  },
  {
   "cell_type": "markdown",
   "metadata": {},
   "source": [
    "**NaN Removal**"
   ]
  },
  {
   "cell_type": "code",
   "execution_count": 57,
   "metadata": {
    "execution": {
     "iopub.execute_input": "2020-11-10T04:42:53.111192Z",
     "iopub.status.busy": "2020-11-10T04:42:53.111042Z",
     "iopub.status.idle": "2020-11-10T04:42:53.214752Z",
     "shell.execute_reply": "2020-11-10T04:42:53.214045Z",
     "shell.execute_reply.started": "2020-11-10T04:42:53.111173Z"
    }
   },
   "outputs": [],
   "source": [
    "reviews_df.dropna(inplace=True)"
   ]
  },
  {
   "cell_type": "markdown",
   "metadata": {},
   "source": [
    "Speculative EDA: calculating a helpfulness metric in the hopes that it helps separate reviews."
   ]
  },
  {
   "cell_type": "code",
   "execution_count": 58,
   "metadata": {
    "execution": {
     "iopub.execute_input": "2020-11-10T04:42:53.215782Z",
     "iopub.status.busy": "2020-11-10T04:42:53.215629Z",
     "iopub.status.idle": "2020-11-10T04:42:53.220590Z",
     "shell.execute_reply": "2020-11-10T04:42:53.219837Z",
     "shell.execute_reply.started": "2020-11-10T04:42:53.215763Z"
    }
   },
   "outputs": [],
   "source": [
    "reviews_df[\"helpful_rating\"] = reviews_df[\"HelpfulnessNumerator\"] / reviews_df[\"HelpfulnessDenominator\"]"
   ]
  },
  {
   "cell_type": "code",
   "execution_count": 59,
   "metadata": {
    "execution": {
     "iopub.execute_input": "2020-11-10T04:42:53.221684Z",
     "iopub.status.busy": "2020-11-10T04:42:53.221529Z",
     "iopub.status.idle": "2020-11-10T04:42:54.509889Z",
     "shell.execute_reply": "2020-11-10T04:42:54.509038Z",
     "shell.execute_reply.started": "2020-11-10T04:42:53.221665Z"
    }
   },
   "outputs": [
    {
     "data": {
      "image/png": "[encoded data removed]",
      "text/plain": [
       "<Figure size 2880x2880 with 1 Axes>"
      ]
     },
     "metadata": {
      "needs_background": "light"
     },
     "output_type": "display_data"
    }
   ],
   "source": [
    "plt.figure(figsize=(40,40))\n",
    "plt.scatter(reviews_df[\"Score\"],reviews_df[\"helpful_rating\"],alpha=0.5)\n",
    "plt.xlabel(\"Score\")\n",
    "plt.ylabel(\"helpful rating\")\n",
    "plt.show();"
   ]
  },
  {
   "cell_type": "markdown",
   "metadata": {},
   "source": [
    "This small bit of EDA does not yield any useful separation of reviews. Will not pursue anymore EDA for now."
   ]
  },
  {
   "cell_type": "markdown",
   "metadata": {},
   "source": [
    "Going to create a dataframe of bad reviews and one of good reviews to process separately. I remove reviews where \"Score\" == 3 because these do not indicate a call to action to either improve a bad product or point out a product that likely has nice features.\n",
    "\n"
   ]
  },
  {
   "cell_type": "code",
   "execution_count": 60,
   "metadata": {
    "execution": {
     "iopub.execute_input": "2020-11-10T04:42:54.510991Z",
     "iopub.status.busy": "2020-11-10T04:42:54.510834Z",
     "iopub.status.idle": "2020-11-10T04:42:54.643482Z",
     "shell.execute_reply": "2020-11-10T04:42:54.642742Z",
     "shell.execute_reply.started": "2020-11-10T04:42:54.510971Z"
    }
   },
   "outputs": [],
   "source": [
    "good_reviews_df = reviews_df[ reviews_df[\"Score\"] >= 4 ]\n",
    "bad_reviews_df = reviews_df[ reviews_df[\"Score\"] <= 2 ]"
   ]
  },
  {
   "cell_type": "code",
   "execution_count": 61,
   "metadata": {
    "execution": {
     "iopub.execute_input": "2020-11-10T04:42:54.644667Z",
     "iopub.status.busy": "2020-11-10T04:42:54.644516Z",
     "iopub.status.idle": "2020-11-10T04:42:54.648283Z",
     "shell.execute_reply": "2020-11-10T04:42:54.647612Z",
     "shell.execute_reply.started": "2020-11-10T04:42:54.644648Z"
    }
   },
   "outputs": [],
   "source": [
    "if (NUMB_OF_GOOD_REVIEWS > good_reviews_df.shape[0]) or (NUMB_OF_GOOD_REVIEWS < 0):\n",
    "    NUMB_OF_GOOD_REVIEWS = good_reviews_df.shape[0]\n",
    "\n",
    "\n",
    "if (NUMB_OF_BAD_REVIEWS > bad_reviews_df.shape[0]) or (NUMB_OF_BAD_REVIEWS < 0):\n",
    "    NUMB_OF_BAD_REVIEWS = bad_reviews_df.shape[0]"
   ]
  },
  {
   "cell_type": "code",
   "execution_count": 62,
   "metadata": {
    "execution": {
     "iopub.execute_input": "2020-11-10T04:42:54.649160Z",
     "iopub.status.busy": "2020-11-10T04:42:54.649015Z",
     "iopub.status.idle": "2020-11-10T04:42:54.656699Z",
     "shell.execute_reply": "2020-11-10T04:42:54.656115Z",
     "shell.execute_reply.started": "2020-11-10T04:42:54.649141Z"
    }
   },
   "outputs": [],
   "source": [
    "good_reviews_df = good_reviews_df[:(NUMB_OF_GOOD_REVIEWS + 1)]\n",
    "bad_reviews_df = bad_reviews_df[:(NUMB_OF_BAD_REVIEWS + 1)]"
   ]
  },
  {
   "cell_type": "code",
   "execution_count": 63,
   "metadata": {
    "execution": {
     "iopub.execute_input": "2020-11-10T04:42:54.657592Z",
     "iopub.status.busy": "2020-11-10T04:42:54.657445Z",
     "iopub.status.idle": "2020-11-10T04:42:54.662641Z",
     "shell.execute_reply": "2020-11-10T04:42:54.661967Z",
     "shell.execute_reply.started": "2020-11-10T04:42:54.657573Z"
    }
   },
   "outputs": [],
   "source": [
    "#stuff = list(good_reviews_df.Text.head(NUMB_OF_DOCS1))"
   ]
  },
  {
   "cell_type": "markdown",
   "metadata": {},
   "source": [
    "This is the function used to perform the **Cleaning** step described above."
   ]
  },
  {
   "cell_type": "code",
   "execution_count": 64,
   "metadata": {
    "execution": {
     "iopub.execute_input": "2020-11-10T04:42:54.663776Z",
     "iopub.status.busy": "2020-11-10T04:42:54.663575Z",
     "iopub.status.idle": "2020-11-10T04:42:54.669413Z",
     "shell.execute_reply": "2020-11-10T04:42:54.668825Z",
     "shell.execute_reply.started": "2020-11-10T04:42:54.663750Z"
    }
   },
   "outputs": [],
   "source": [
    "#Removing HTML from the text\n",
    "#stuff = [re.sub(\"<.*?>\",\"\",item) for item in stuff]\n",
    "\n",
    "def remove_html_punct(row):\n",
    "    \"\"\"This function removes HTML and punctuation and anything that is or contains a number from the Text\"\"\"\n",
    "    \n",
    "    NLTK_WORDS = set(nltk.corpus.words.words())\n",
    "    \n",
    "    text_to_process = row[\"Text\"]\n",
    "    text_to_process = text_to_process.lower()\n",
    "    text_to_process = re.sub(\"<.*?>\",\"\",text_to_process)\n",
    "    text_to_process = re.sub(\"[\\.|\\!|\\?|\\,|\\;|\\:|\\&|\\(|\\)|\\-|\\%|_]\",\"\",text_to_process)\n",
    "    text_to_process = re.sub(\"\\w*\\d+\\w*\",\"\",text_to_process)\n",
    "    text_to_process_list = text_to_process.split()\n",
    "    text_to_process_list = [review_word for review_word in text_to_process_list if review_word in NLTK_WORDS]\n",
    "    text_to_process = \" \".join(text_to_process_list)\n",
    "    return text_to_process\n",
    "\n"
   ]
  },
  {
   "cell_type": "code",
   "execution_count": 65,
   "metadata": {
    "execution": {
     "iopub.execute_input": "2020-11-10T04:42:54.670251Z",
     "iopub.status.busy": "2020-11-10T04:42:54.670107Z",
     "iopub.status.idle": "2020-11-10T04:42:54.676620Z",
     "shell.execute_reply": "2020-11-10T04:42:54.675875Z",
     "shell.execute_reply.started": "2020-11-10T04:42:54.670233Z"
    }
   },
   "outputs": [
    {
     "name": "stdout",
     "output_type": "stream",
     "text": [
      "skipping cleaning the data frame.\n"
     ]
    }
   ],
   "source": [
    "if CLEAN_DATAFRAME == 1:\n",
    "\n",
    "    #TODO If you have time - convert it to a SQL query\n",
    "    pandarallel.initialize()\n",
    "\n",
    "    start_time = datetime.datetime.now()\n",
    "\n",
    "    good_reviews_df[\"ProcessedText\"] = good_reviews_df.parallel_apply(remove_html_punct,axis=1)\n",
    "    bad_reviews_df[\"ProcessedText\"] = bad_reviews_df.parallel_apply(remove_html_punct,axis=1)\n",
    "    end_time = datetime.datetime.now()\n",
    "    print(\"time spent doing operation is {}\".format(end_time - start_time))\n",
    "else:\n",
    "    print(\"skipping cleaning the data frame.\")"
   ]
  },
  {
   "cell_type": "code",
   "execution_count": 66,
   "metadata": {
    "execution": {
     "iopub.execute_input": "2020-11-10T04:42:54.677756Z",
     "iopub.status.busy": "2020-11-10T04:42:54.677559Z",
     "iopub.status.idle": "2020-11-10T04:42:54.694527Z",
     "shell.execute_reply": "2020-11-10T04:42:54.693863Z",
     "shell.execute_reply.started": "2020-11-10T04:42:54.677731Z"
    }
   },
   "outputs": [
    {
     "data": {
      "text/html": [
       "<div>\n",
       "<style scoped>\n",
       "    .dataframe tbody tr th:only-of-type {\n",
       "        vertical-align: middle;\n",
       "    }\n",
       "\n",
       "    .dataframe tbody tr th {\n",
       "        vertical-align: top;\n",
       "    }\n",
       "\n",
       "    .dataframe thead th {\n",
       "        text-align: right;\n",
       "    }\n",
       "</style>\n",
       "<table border=\"1\" class=\"dataframe\">\n",
       "  <thead>\n",
       "    <tr style=\"text-align: right;\">\n",
       "      <th></th>\n",
       "      <th>Id</th>\n",
       "      <th>ProductId</th>\n",
       "      <th>UserId</th>\n",
       "      <th>ProfileName</th>\n",
       "      <th>HelpfulnessNumerator</th>\n",
       "      <th>HelpfulnessDenominator</th>\n",
       "      <th>Score</th>\n",
       "      <th>Time</th>\n",
       "      <th>Summary</th>\n",
       "      <th>Text</th>\n",
       "      <th>helpful_rating</th>\n",
       "    </tr>\n",
       "  </thead>\n",
       "  <tbody>\n",
       "    <tr>\n",
       "      <th>0</th>\n",
       "      <td>1</td>\n",
       "      <td>B001E4KFG0</td>\n",
       "      <td>A3SGXH7AUHU8GW</td>\n",
       "      <td>delmartian</td>\n",
       "      <td>1</td>\n",
       "      <td>1</td>\n",
       "      <td>5</td>\n",
       "      <td>1303862400</td>\n",
       "      <td>Good Quality Dog Food</td>\n",
       "      <td>I have bought several of the Vitality canned d...</td>\n",
       "      <td>1.0</td>\n",
       "    </tr>\n",
       "    <tr>\n",
       "      <th>2</th>\n",
       "      <td>3</td>\n",
       "      <td>B000LQOCH0</td>\n",
       "      <td>ABXLMWJIXXAIN</td>\n",
       "      <td>Natalia Corres \"Natalia Corres\"</td>\n",
       "      <td>1</td>\n",
       "      <td>1</td>\n",
       "      <td>4</td>\n",
       "      <td>1219017600</td>\n",
       "      <td>\"Delight\" says it all</td>\n",
       "      <td>This is a confection that has been around a fe...</td>\n",
       "      <td>1.0</td>\n",
       "    </tr>\n",
       "    <tr>\n",
       "      <th>8</th>\n",
       "      <td>9</td>\n",
       "      <td>B000E7L2R4</td>\n",
       "      <td>A1MZYO9TZK0BBI</td>\n",
       "      <td>R. James</td>\n",
       "      <td>1</td>\n",
       "      <td>1</td>\n",
       "      <td>5</td>\n",
       "      <td>1322006400</td>\n",
       "      <td>Yay Barley</td>\n",
       "      <td>Right now I'm mostly just sprouting this so my...</td>\n",
       "      <td>1.0</td>\n",
       "    </tr>\n",
       "    <tr>\n",
       "      <th>10</th>\n",
       "      <td>11</td>\n",
       "      <td>B0001PB9FE</td>\n",
       "      <td>A3HDKO7OW0QNK4</td>\n",
       "      <td>Canadian Fan</td>\n",
       "      <td>1</td>\n",
       "      <td>1</td>\n",
       "      <td>5</td>\n",
       "      <td>1107820800</td>\n",
       "      <td>The Best Hot Sauce in the World</td>\n",
       "      <td>I don't know if it's the cactus or the tequila...</td>\n",
       "      <td>1.0</td>\n",
       "    </tr>\n",
       "    <tr>\n",
       "      <th>11</th>\n",
       "      <td>12</td>\n",
       "      <td>B0009XLVG0</td>\n",
       "      <td>A2725IB4YY9JEB</td>\n",
       "      <td>A Poeng \"SparkyGoHome\"</td>\n",
       "      <td>4</td>\n",
       "      <td>4</td>\n",
       "      <td>5</td>\n",
       "      <td>1282867200</td>\n",
       "      <td>My cats LOVE this \"diet\" food better than thei...</td>\n",
       "      <td>One of my boys needed to lose some weight and ...</td>\n",
       "      <td>1.0</td>\n",
       "    </tr>\n",
       "  </tbody>\n",
       "</table>\n",
       "</div>"
      ],
      "text/plain": [
       "    Id   ProductId          UserId                      ProfileName  \\\n",
       "0    1  B001E4KFG0  A3SGXH7AUHU8GW                       delmartian   \n",
       "2    3  B000LQOCH0   ABXLMWJIXXAIN  Natalia Corres \"Natalia Corres\"   \n",
       "8    9  B000E7L2R4  A1MZYO9TZK0BBI                         R. James   \n",
       "10  11  B0001PB9FE  A3HDKO7OW0QNK4                     Canadian Fan   \n",
       "11  12  B0009XLVG0  A2725IB4YY9JEB           A Poeng \"SparkyGoHome\"   \n",
       "\n",
       "    HelpfulnessNumerator  HelpfulnessDenominator  Score        Time  \\\n",
       "0                      1                       1      5  1303862400   \n",
       "2                      1                       1      4  1219017600   \n",
       "8                      1                       1      5  1322006400   \n",
       "10                     1                       1      5  1107820800   \n",
       "11                     4                       4      5  1282867200   \n",
       "\n",
       "                                              Summary  \\\n",
       "0                               Good Quality Dog Food   \n",
       "2                               \"Delight\" says it all   \n",
       "8                                          Yay Barley   \n",
       "10                    The Best Hot Sauce in the World   \n",
       "11  My cats LOVE this \"diet\" food better than thei...   \n",
       "\n",
       "                                                 Text  helpful_rating  \n",
       "0   I have bought several of the Vitality canned d...             1.0  \n",
       "2   This is a confection that has been around a fe...             1.0  \n",
       "8   Right now I'm mostly just sprouting this so my...             1.0  \n",
       "10  I don't know if it's the cactus or the tequila...             1.0  \n",
       "11  One of my boys needed to lose some weight and ...             1.0  "
      ]
     },
     "execution_count": 66,
     "metadata": {},
     "output_type": "execute_result"
    }
   ],
   "source": [
    "good_reviews_df.head()"
   ]
  },
  {
   "cell_type": "code",
   "execution_count": 67,
   "metadata": {
    "execution": {
     "iopub.execute_input": "2020-11-10T04:42:54.697363Z",
     "iopub.status.busy": "2020-11-10T04:42:54.697205Z",
     "iopub.status.idle": "2020-11-10T04:42:54.709409Z",
     "shell.execute_reply": "2020-11-10T04:42:54.708749Z",
     "shell.execute_reply.started": "2020-11-10T04:42:54.697344Z"
    }
   },
   "outputs": [
    {
     "data": {
      "text/html": [
       "<div>\n",
       "<style scoped>\n",
       "    .dataframe tbody tr th:only-of-type {\n",
       "        vertical-align: middle;\n",
       "    }\n",
       "\n",
       "    .dataframe tbody tr th {\n",
       "        vertical-align: top;\n",
       "    }\n",
       "\n",
       "    .dataframe thead th {\n",
       "        text-align: right;\n",
       "    }\n",
       "</style>\n",
       "<table border=\"1\" class=\"dataframe\">\n",
       "  <thead>\n",
       "    <tr style=\"text-align: right;\">\n",
       "      <th></th>\n",
       "      <th>Id</th>\n",
       "      <th>ProductId</th>\n",
       "      <th>UserId</th>\n",
       "      <th>ProfileName</th>\n",
       "      <th>HelpfulnessNumerator</th>\n",
       "      <th>HelpfulnessDenominator</th>\n",
       "      <th>Score</th>\n",
       "      <th>Time</th>\n",
       "      <th>Summary</th>\n",
       "      <th>Text</th>\n",
       "      <th>helpful_rating</th>\n",
       "    </tr>\n",
       "  </thead>\n",
       "  <tbody>\n",
       "    <tr>\n",
       "      <th>3</th>\n",
       "      <td>4</td>\n",
       "      <td>B000UA0QIQ</td>\n",
       "      <td>A395BORC6FGVXV</td>\n",
       "      <td>Karl</td>\n",
       "      <td>3</td>\n",
       "      <td>3</td>\n",
       "      <td>2</td>\n",
       "      <td>1307923200</td>\n",
       "      <td>Cough Medicine</td>\n",
       "      <td>If you are looking for the secret ingredient i...</td>\n",
       "      <td>1.0</td>\n",
       "    </tr>\n",
       "    <tr>\n",
       "      <th>12</th>\n",
       "      <td>13</td>\n",
       "      <td>B0009XLVG0</td>\n",
       "      <td>A327PCT23YH90</td>\n",
       "      <td>LT</td>\n",
       "      <td>1</td>\n",
       "      <td>1</td>\n",
       "      <td>1</td>\n",
       "      <td>1339545600</td>\n",
       "      <td>My Cats Are Not Fans of the New Food</td>\n",
       "      <td>My cats have been happily eating Felidae Plati...</td>\n",
       "      <td>1.0</td>\n",
       "    </tr>\n",
       "    <tr>\n",
       "      <th>26</th>\n",
       "      <td>27</td>\n",
       "      <td>B001GVISJM</td>\n",
       "      <td>A3RXAU2N8KV45G</td>\n",
       "      <td>lady21</td>\n",
       "      <td>0</td>\n",
       "      <td>1</td>\n",
       "      <td>1</td>\n",
       "      <td>1332633600</td>\n",
       "      <td>Nasty No flavor</td>\n",
       "      <td>The candy is just red , No flavor . Just  plan...</td>\n",
       "      <td>0.0</td>\n",
       "    </tr>\n",
       "    <tr>\n",
       "      <th>50</th>\n",
       "      <td>51</td>\n",
       "      <td>B001EO5QW8</td>\n",
       "      <td>A108P30XVUFKXY</td>\n",
       "      <td>Roberto A</td>\n",
       "      <td>0</td>\n",
       "      <td>7</td>\n",
       "      <td>1</td>\n",
       "      <td>1203379200</td>\n",
       "      <td>Don't like it</td>\n",
       "      <td>This oatmeal is not good. Its mushy, soft, I d...</td>\n",
       "      <td>0.0</td>\n",
       "    </tr>\n",
       "    <tr>\n",
       "      <th>62</th>\n",
       "      <td>63</td>\n",
       "      <td>B001EO5TPM</td>\n",
       "      <td>A1E09XGZUR78C6</td>\n",
       "      <td>gary sturrock</td>\n",
       "      <td>2</td>\n",
       "      <td>2</td>\n",
       "      <td>1</td>\n",
       "      <td>1215302400</td>\n",
       "      <td>stale product.</td>\n",
       "      <td>Arrived in 6 days and were so stale i could no...</td>\n",
       "      <td>1.0</td>\n",
       "    </tr>\n",
       "  </tbody>\n",
       "</table>\n",
       "</div>"
      ],
      "text/plain": [
       "    Id   ProductId          UserId    ProfileName  HelpfulnessNumerator  \\\n",
       "3    4  B000UA0QIQ  A395BORC6FGVXV           Karl                     3   \n",
       "12  13  B0009XLVG0   A327PCT23YH90             LT                     1   \n",
       "26  27  B001GVISJM  A3RXAU2N8KV45G         lady21                     0   \n",
       "50  51  B001EO5QW8  A108P30XVUFKXY      Roberto A                     0   \n",
       "62  63  B001EO5TPM  A1E09XGZUR78C6  gary sturrock                     2   \n",
       "\n",
       "    HelpfulnessDenominator  Score        Time  \\\n",
       "3                        3      2  1307923200   \n",
       "12                       1      1  1339545600   \n",
       "26                       1      1  1332633600   \n",
       "50                       7      1  1203379200   \n",
       "62                       2      1  1215302400   \n",
       "\n",
       "                                 Summary  \\\n",
       "3                         Cough Medicine   \n",
       "12  My Cats Are Not Fans of the New Food   \n",
       "26                       Nasty No flavor   \n",
       "50                         Don't like it   \n",
       "62                        stale product.   \n",
       "\n",
       "                                                 Text  helpful_rating  \n",
       "3   If you are looking for the secret ingredient i...             1.0  \n",
       "12  My cats have been happily eating Felidae Plati...             1.0  \n",
       "26  The candy is just red , No flavor . Just  plan...             0.0  \n",
       "50  This oatmeal is not good. Its mushy, soft, I d...             0.0  \n",
       "62  Arrived in 6 days and were so stale i could no...             1.0  "
      ]
     },
     "execution_count": 67,
     "metadata": {},
     "output_type": "execute_result"
    }
   ],
   "source": [
    "bad_reviews_df.head()"
   ]
  },
  {
   "cell_type": "markdown",
   "metadata": {},
   "source": [
    "It takes a long time to perform this operation so going to save it to a pickle file if I ever need to rerun but don't need to do this cleaning step."
   ]
  },
  {
   "cell_type": "code",
   "execution_count": 68,
   "metadata": {
    "execution": {
     "iopub.execute_input": "2020-11-10T04:42:54.710731Z",
     "iopub.status.busy": "2020-11-10T04:42:54.710578Z",
     "iopub.status.idle": "2020-11-10T04:42:54.951863Z",
     "shell.execute_reply": "2020-11-10T04:42:54.951111Z",
     "shell.execute_reply.started": "2020-11-10T04:42:54.710711Z"
    }
   },
   "outputs": [],
   "source": [
    "if CLEAN_DATAFRAME == 1:\n",
    "    \n",
    "    GOOD_REVIEWS_FILE = open(\"../Data/good_reviews.pkl\",\"wb\")\n",
    "    BAD_REVIEWS_FILE = open(\"../Data/bad_reviews.pkl\",\"wb\")\n",
    "    pickle.dump(good_reviews_df, GOOD_REVIEWS_FILE)\n",
    "    pickle.dump(bad_reviews_df, BAD_REVIEWS_FILE)\n",
    "    BAD_REVIEWS_FILE.close()\n",
    "    GOOD_REVIEWS_FILE.close()\n",
    "    \n",
    "else:\n",
    "    \n",
    "    GOOD_REVIEWS_FILE = open(\"../Data/good_reviews.pkl\",\"rb\")\n",
    "    BAD_REVIEWS_FILE = open(\"../Data/bad_reviews.pkl\",\"rb\")\n",
    "    good_reviews_df = pickle.load(GOOD_REVIEWS_FILE)\n",
    "    bad_reviews_df = pickle.load(BAD_REVIEWS_FILE)\n",
    "    "
   ]
  },
  {
   "cell_type": "code",
   "execution_count": 69,
   "metadata": {
    "execution": {
     "iopub.execute_input": "2020-11-10T04:42:54.952897Z",
     "iopub.status.busy": "2020-11-10T04:42:54.952736Z",
     "iopub.status.idle": "2020-11-10T04:42:54.956712Z",
     "shell.execute_reply": "2020-11-10T04:42:54.956106Z",
     "shell.execute_reply.started": "2020-11-10T04:42:54.952878Z"
    }
   },
   "outputs": [],
   "source": [
    "good_reviews_df.reset_index(inplace=True)"
   ]
  },
  {
   "cell_type": "markdown",
   "metadata": {},
   "source": [
    "Demonstrating here what the original review `Text` looks like compared to the `ProcessedText` at this point."
   ]
  },
  {
   "cell_type": "code",
   "execution_count": 70,
   "metadata": {
    "execution": {
     "iopub.execute_input": "2020-11-10T04:42:54.957648Z",
     "iopub.status.busy": "2020-11-10T04:42:54.957501Z",
     "iopub.status.idle": "2020-11-10T04:42:54.966781Z",
     "shell.execute_reply": "2020-11-10T04:42:54.966175Z",
     "shell.execute_reply.started": "2020-11-10T04:42:54.957629Z"
    }
   },
   "outputs": [
    {
     "data": {
      "text/plain": [
       "'I have bought several of the Vitality canned dog food products and have found them all to be of good quality. The product looks more like a stew than a processed meat and it smells better. My Labrador is finicky and she appreciates this product better than  most.'"
      ]
     },
     "execution_count": 70,
     "metadata": {},
     "output_type": "execute_result"
    }
   ],
   "source": [
    "good_reviews_df.loc[0,\"Text\"]"
   ]
  },
  {
   "cell_type": "code",
   "execution_count": 71,
   "metadata": {
    "execution": {
     "iopub.execute_input": "2020-11-10T04:42:54.967811Z",
     "iopub.status.busy": "2020-11-10T04:42:54.967658Z",
     "iopub.status.idle": "2020-11-10T04:42:54.971754Z",
     "shell.execute_reply": "2020-11-10T04:42:54.971145Z",
     "shell.execute_reply.started": "2020-11-10T04:42:54.967793Z"
    }
   },
   "outputs": [
    {
     "data": {
      "text/plain": [
       "'i have bought several of the vitality canned dog food and have found them all to be of good quality the product more like a stew than a meat and it better my is and she this product better than most'"
      ]
     },
     "execution_count": 71,
     "metadata": {},
     "output_type": "execute_result"
    }
   ],
   "source": [
    "good_reviews_df.loc[0,\"ProcessedText\"]"
   ]
  },
  {
   "cell_type": "code",
   "execution_count": 72,
   "metadata": {
    "execution": {
     "iopub.execute_input": "2020-11-10T04:42:54.972576Z",
     "iopub.status.busy": "2020-11-10T04:42:54.972431Z",
     "iopub.status.idle": "2020-11-10T04:42:54.977648Z",
     "shell.execute_reply": "2020-11-10T04:42:54.977009Z",
     "shell.execute_reply.started": "2020-11-10T04:42:54.972558Z"
    }
   },
   "outputs": [],
   "source": [
    "bad_reviews_df.reset_index(inplace=True)"
   ]
  },
  {
   "cell_type": "code",
   "execution_count": 73,
   "metadata": {
    "execution": {
     "iopub.execute_input": "2020-11-10T04:42:54.978531Z",
     "iopub.status.busy": "2020-11-10T04:42:54.978384Z",
     "iopub.status.idle": "2020-11-10T04:42:54.985030Z",
     "shell.execute_reply": "2020-11-10T04:42:54.984308Z",
     "shell.execute_reply.started": "2020-11-10T04:42:54.978513Z"
    }
   },
   "outputs": [
    {
     "data": {
      "text/plain": [
       "'If you are looking for the secret ingredient in Robitussin I believe I have found it.  I got this in addition to the Root Beer Extract I ordered (which was good) and made some cherry soda.  The flavor is very medicinal.'"
      ]
     },
     "execution_count": 73,
     "metadata": {},
     "output_type": "execute_result"
    }
   ],
   "source": [
    "bad_reviews_df.loc[0,\"Text\"]"
   ]
  },
  {
   "cell_type": "code",
   "execution_count": 74,
   "metadata": {
    "execution": {
     "iopub.execute_input": "2020-11-10T04:42:54.986213Z",
     "iopub.status.busy": "2020-11-10T04:42:54.986010Z",
     "iopub.status.idle": "2020-11-10T04:42:54.990834Z",
     "shell.execute_reply": "2020-11-10T04:42:54.990135Z",
     "shell.execute_reply.started": "2020-11-10T04:42:54.986187Z"
    }
   },
   "outputs": [
    {
     "data": {
      "text/plain": [
       "'if you are looking for the secret ingredient in i believe i have found it i got this in addition to the root beer extract i ordered which was good and made some cherry soda the flavor is very medicinal'"
      ]
     },
     "execution_count": 74,
     "metadata": {},
     "output_type": "execute_result"
    }
   ],
   "source": [
    "bad_reviews_df.loc[0,\"ProcessedText\"]"
   ]
  },
  {
   "cell_type": "markdown",
   "metadata": {},
   "source": [
    "**Tokenization**"
   ]
  },
  {
   "cell_type": "code",
   "execution_count": 75,
   "metadata": {
    "execution": {
     "iopub.execute_input": "2020-11-10T04:42:54.992051Z",
     "iopub.status.busy": "2020-11-10T04:42:54.991840Z",
     "iopub.status.idle": "2020-11-10T04:42:54.995831Z",
     "shell.execute_reply": "2020-11-10T04:42:54.995225Z",
     "shell.execute_reply.started": "2020-11-10T04:42:54.992025Z"
    }
   },
   "outputs": [],
   "source": [
    "def tokenize_text(row):\n",
    "    temp_tokenized_txt = word_tokenize(row[\"ProcessedText\"])\n",
    "    return temp_tokenized_txt\n"
   ]
  },
  {
   "cell_type": "code",
   "execution_count": 76,
   "metadata": {
    "execution": {
     "iopub.execute_input": "2020-11-10T04:42:54.996776Z",
     "iopub.status.busy": "2020-11-10T04:42:54.996591Z",
     "iopub.status.idle": "2020-11-10T04:43:04.098419Z",
     "shell.execute_reply": "2020-11-10T04:43:04.097584Z",
     "shell.execute_reply.started": "2020-11-10T04:42:54.996753Z"
    }
   },
   "outputs": [
    {
     "name": "stdout",
     "output_type": "stream",
     "text": [
      "INFO: Pandarallel will run on 64 workers.\n",
      "INFO: Pandarallel will use Memory file system to transfer data between the main process and workers.\n",
      "time spent doing operation is 0:00:09.094153\n"
     ]
    }
   ],
   "source": [
    "pandarallel.initialize()\n",
    "start_time = datetime.datetime.now()\n",
    "good_reviews_df[\"ProcessedText\"] = good_reviews_df.parallel_apply(tokenize_text,axis=1)\n",
    "bad_reviews_df[\"ProcessedText\"] = bad_reviews_df.parallel_apply(tokenize_text,axis=1)\n",
    "end_time = datetime.datetime.now()\n",
    "print(\"time spent doing operation is {}\".format(end_time - start_time))"
   ]
  },
  {
   "cell_type": "markdown",
   "metadata": {},
   "source": [
    "Here's what reviews look like after tokenization:"
   ]
  },
  {
   "cell_type": "code",
   "execution_count": 77,
   "metadata": {
    "execution": {
     "iopub.execute_input": "2020-11-10T04:43:04.099575Z",
     "iopub.status.busy": "2020-11-10T04:43:04.099397Z",
     "iopub.status.idle": "2020-11-10T04:43:04.104673Z",
     "shell.execute_reply": "2020-11-10T04:43:04.103947Z",
     "shell.execute_reply.started": "2020-11-10T04:43:04.099554Z"
    }
   },
   "outputs": [
    {
     "data": {
      "text/plain": [
       "['i',\n",
       " 'have',\n",
       " 'bought',\n",
       " 'several',\n",
       " 'of',\n",
       " 'the',\n",
       " 'vitality',\n",
       " 'canned',\n",
       " 'dog',\n",
       " 'food',\n",
       " 'and',\n",
       " 'have',\n",
       " 'found',\n",
       " 'them',\n",
       " 'all',\n",
       " 'to',\n",
       " 'be',\n",
       " 'of',\n",
       " 'good',\n",
       " 'quality',\n",
       " 'the',\n",
       " 'product',\n",
       " 'more',\n",
       " 'like',\n",
       " 'a',\n",
       " 'stew',\n",
       " 'than',\n",
       " 'a',\n",
       " 'meat',\n",
       " 'and',\n",
       " 'it',\n",
       " 'better',\n",
       " 'my',\n",
       " 'is',\n",
       " 'and',\n",
       " 'she',\n",
       " 'this',\n",
       " 'product',\n",
       " 'better',\n",
       " 'than',\n",
       " 'most']"
      ]
     },
     "execution_count": 77,
     "metadata": {},
     "output_type": "execute_result"
    }
   ],
   "source": [
    "good_reviews_df.loc[0,\"ProcessedText\"]"
   ]
  },
  {
   "cell_type": "code",
   "execution_count": 78,
   "metadata": {
    "execution": {
     "iopub.execute_input": "2020-11-10T04:43:04.105719Z",
     "iopub.status.busy": "2020-11-10T04:43:04.105559Z",
     "iopub.status.idle": "2020-11-10T04:43:04.116404Z",
     "shell.execute_reply": "2020-11-10T04:43:04.115228Z",
     "shell.execute_reply.started": "2020-11-10T04:43:04.105700Z"
    }
   },
   "outputs": [
    {
     "data": {
      "text/plain": [
       "['if',\n",
       " 'you',\n",
       " 'are',\n",
       " 'looking',\n",
       " 'for',\n",
       " 'the',\n",
       " 'secret',\n",
       " 'ingredient',\n",
       " 'in',\n",
       " 'i',\n",
       " 'believe',\n",
       " 'i',\n",
       " 'have',\n",
       " 'found',\n",
       " 'it',\n",
       " 'i',\n",
       " 'got',\n",
       " 'this',\n",
       " 'in',\n",
       " 'addition',\n",
       " 'to',\n",
       " 'the',\n",
       " 'root',\n",
       " 'beer',\n",
       " 'extract',\n",
       " 'i',\n",
       " 'ordered',\n",
       " 'which',\n",
       " 'was',\n",
       " 'good',\n",
       " 'and',\n",
       " 'made',\n",
       " 'some',\n",
       " 'cherry',\n",
       " 'soda',\n",
       " 'the',\n",
       " 'flavor',\n",
       " 'is',\n",
       " 'very',\n",
       " 'medicinal']"
      ]
     },
     "execution_count": 78,
     "metadata": {},
     "output_type": "execute_result"
    }
   ],
   "source": [
    "bad_reviews_df.loc[0,\"ProcessedText\"]"
   ]
  },
  {
   "cell_type": "markdown",
   "metadata": {},
   "source": [
    "**Lemmatization**"
   ]
  },
  {
   "cell_type": "code",
   "execution_count": 79,
   "metadata": {
    "execution": {
     "iopub.execute_input": "2020-11-10T04:43:04.117762Z",
     "iopub.status.busy": "2020-11-10T04:43:04.117544Z",
     "iopub.status.idle": "2020-11-10T04:43:04.122352Z",
     "shell.execute_reply": "2020-11-10T04:43:04.121532Z",
     "shell.execute_reply.started": "2020-11-10T04:43:04.117733Z"
    }
   },
   "outputs": [],
   "source": [
    "wordNetLemmatizer = WordNetLemmatizer()"
   ]
  },
  {
   "cell_type": "code",
   "execution_count": 80,
   "metadata": {
    "execution": {
     "iopub.execute_input": "2020-11-10T04:43:04.123526Z",
     "iopub.status.busy": "2020-11-10T04:43:04.123351Z",
     "iopub.status.idle": "2020-11-10T04:43:04.128776Z",
     "shell.execute_reply": "2020-11-10T04:43:04.128058Z",
     "shell.execute_reply.started": "2020-11-10T04:43:04.123505Z"
    }
   },
   "outputs": [],
   "source": [
    "#lemmatize each word in stuff\n",
    "def calc_partofspeech(raw_pos):\n",
    "    \"\"\"translates from POS generated by pos_tag() to a POS encoding that WordNetLemmatizer.lemmatize() understands\"\"\"\n",
    "    #print(\"word = \",word)\n",
    "    #[(output_word, output_pos)] = pos_tag(word_tokenize(word))\n",
    "    \n",
    "    #decode output_pos to the pos required by the lemmatizer\n",
    "    \n",
    "    if \"JJ\" in raw_pos:\n",
    "        pos = \"a\"\n",
    "    elif \"RB\" in raw_pos:\n",
    "        pos = \"r\"\n",
    "    elif \"VB\" in raw_pos:\n",
    "        pos = \"v\"\n",
    "    else:\n",
    "        pos = \"n\"\n",
    "    \n",
    "    return pos\n",
    "\n",
    "\n"
   ]
  },
  {
   "cell_type": "code",
   "execution_count": 81,
   "metadata": {
    "execution": {
     "iopub.execute_input": "2020-11-10T04:43:04.129885Z",
     "iopub.status.busy": "2020-11-10T04:43:04.129721Z",
     "iopub.status.idle": "2020-11-10T04:43:04.135125Z",
     "shell.execute_reply": "2020-11-10T04:43:04.134432Z",
     "shell.execute_reply.started": "2020-11-10T04:43:04.129865Z"
    }
   },
   "outputs": [],
   "source": [
    "def lemmatize_it(row):\n",
    "    \n",
    "    pos_result = pos_tag(row[\"ProcessedText\"])\n",
    "    \n",
    "    temp_mydoc_lemmatized = []\n",
    "    \n",
    "    for myword,myPOS in pos_result:\n",
    "        temp_word_lemmatized = wordNetLemmatizer.lemmatize(myword,calc_partofspeech(myPOS))\n",
    "        temp_mydoc_lemmatized.append(temp_word_lemmatized)\n",
    "    \n",
    "    return temp_mydoc_lemmatized\n",
    "        \n"
   ]
  },
  {
   "cell_type": "markdown",
   "metadata": {},
   "source": [
    "Lemmatization takes a while (~10min) on my desktop. To save time I will save it off and only regenerate when I need to:"
   ]
  },
  {
   "cell_type": "code",
   "execution_count": 82,
   "metadata": {
    "execution": {
     "iopub.execute_input": "2020-11-10T04:43:04.136173Z",
     "iopub.status.busy": "2020-11-10T04:43:04.136015Z",
     "iopub.status.idle": "2020-11-10T04:43:04.743390Z",
     "shell.execute_reply": "2020-11-10T04:43:04.742601Z",
     "shell.execute_reply.started": "2020-11-10T04:43:04.136153Z"
    }
   },
   "outputs": [],
   "source": [
    "if CLEAN_DATAFRAME == 1:\n",
    "    \n",
    "    pandarallel.initialize()\n",
    "    start_time = datetime.datetime.now()\n",
    "    good_reviews_df[\"ProcessedText\"] = good_reviews_df.parallel_apply(lemmatize_it,axis=1)\n",
    "    bad_reviews_df[\"ProcessedText\"] = bad_reviews_df.parallel_apply(lemmatize_it,axis=1)\n",
    "    end_time = datetime.datetime.now()\n",
    "    print(\"time spent doing operation is {}\".format(end_time - start_time))\n",
    "    \n",
    "    GOOD_REVIEWS_FILE = open(\"../Data/good_reviews_lemmatized.pkl\",\"wb\")\n",
    "    BAD_REVIEWS_FILE = open(\"../Data/bad_reviews_lemmatized.pkl\",\"wb\")\n",
    "    pickle.dump(good_reviews_df, GOOD_REVIEWS_FILE)\n",
    "    pickle.dump(bad_reviews_df, BAD_REVIEWS_FILE)\n",
    "    BAD_REVIEWS_FILE.close()\n",
    "    GOOD_REVIEWS_FILE.close()\n",
    "    \n",
    "else:\n",
    "    \n",
    "    GOOD_REVIEWS_FILE = open(\"../Data/good_reviews_lemmatized.pkl\",\"rb\")\n",
    "    BAD_REVIEWS_FILE = open(\"../Data/bad_reviews_lemmatized.pkl\",\"rb\")\n",
    "    good_reviews_df = pickle.load(GOOD_REVIEWS_FILE)\n",
    "    bad_reviews_df = pickle.load(BAD_REVIEWS_FILE)"
   ]
  },
  {
   "cell_type": "markdown",
   "metadata": {},
   "source": [
    "lemmatizing to cut down on the size of the dimensions of the eventual vectorized word matrix without losing meaning of the text"
   ]
  },
  {
   "cell_type": "code",
   "execution_count": 83,
   "metadata": {
    "execution": {
     "iopub.execute_input": "2020-11-10T04:43:04.744547Z",
     "iopub.status.busy": "2020-11-10T04:43:04.744392Z",
     "iopub.status.idle": "2020-11-10T04:43:04.750758Z",
     "shell.execute_reply": "2020-11-10T04:43:04.749963Z",
     "shell.execute_reply.started": "2020-11-10T04:43:04.744523Z"
    }
   },
   "outputs": [
    {
     "data": {
      "text/plain": [
       "'i have buy several of the vitality can dog food and have find them all to be of good quality the product more like a stew than a meat and it good my be and she this product good than most'"
      ]
     },
     "execution_count": 83,
     "metadata": {},
     "output_type": "execute_result"
    }
   ],
   "source": [
    "good_reviews_df.loc[0,\"ProcessedText\"] "
   ]
  },
  {
   "cell_type": "code",
   "execution_count": 84,
   "metadata": {
    "execution": {
     "iopub.execute_input": "2020-11-10T04:43:04.751764Z",
     "iopub.status.busy": "2020-11-10T04:43:04.751605Z",
     "iopub.status.idle": "2020-11-10T04:43:04.759064Z",
     "shell.execute_reply": "2020-11-10T04:43:04.758318Z",
     "shell.execute_reply.started": "2020-11-10T04:43:04.751745Z"
    }
   },
   "outputs": [
    {
     "data": {
      "text/plain": [
       "'if you be look for the secret ingredient in i believe i have find it i get this in addition to the root beer extract i order which be good and make some cherry soda the flavor be very medicinal'"
      ]
     },
     "execution_count": 84,
     "metadata": {},
     "output_type": "execute_result"
    }
   ],
   "source": [
    "bad_reviews_df.loc[0,\"ProcessedText\"] "
   ]
  },
  {
   "cell_type": "markdown",
   "metadata": {},
   "source": [
    "**Note**: In an earlier version of this notebook, I thought the analysis would be improved by only including the adjectives from the reviews in the downstream NLP pipeline. After looking through the resultant topic modeling, I realized it would be better to include the entire post-processed review into the pipeline. As it turns out the resultant topic-modeling yielded better results, i.e. the topics were more meaningful and were more easily related to the constituent reviews.\n",
    "\n",
    "I leave the cell below to show how I went about removing the adjectives:"
   ]
  },
  {
   "cell_type": "code",
   "execution_count": 85,
   "metadata": {
    "execution": {
     "iopub.execute_input": "2020-11-10T04:43:04.760291Z",
     "iopub.status.busy": "2020-11-10T04:43:04.760084Z",
     "iopub.status.idle": "2020-11-10T04:43:04.765932Z",
     "shell.execute_reply": "2020-11-10T04:43:04.765270Z",
     "shell.execute_reply.started": "2020-11-10T04:43:04.760265Z"
    }
   },
   "outputs": [],
   "source": [
    "# I only want adjectives and adverbs sent to the vectorizer\n",
    "\n",
    "def filter_pos(row,pos_abbrev=[\"JJ\"]):\n",
    "    \"\"\"\n",
    "    takes as input the following\n",
    "    processes the \"ProcessedText\" column of a review data frame (see definition above)\n",
    "    pos_abbrev = list of NLTK pos_tag() output parts of speech codes abbreviated to the first two characters\n",
    "    \n",
    "    \"\"\"\n",
    "#    print(\"pos_abbrev = \",pos_abbrev)\n",
    "\n",
    "    \n",
    "    if type(pos_abbrev) != type([]):\n",
    "        print(\"post_abbrev must be a list of POS codes (1st 2 characters of the code only)\")\n",
    "        return 1\n",
    "    \n",
    "    temp_pos_filtered_doc = \"\"\n",
    "    \n",
    "    #pos_tag() works better if you pass the entire document to it as a tokenized list\n",
    "    #it must be doing some sequence modeling under the hood to get the context of words so that it can\n",
    "    #better ID parts of speech\n",
    "        \n",
    "    pos_result = pos_tag(row[\"ProcessedText\"])\n",
    "    \n",
    "    for result_word, result_pos in pos_result:\n",
    "        #print(\"tokenized word = \", word_tokenize(mylemword))\n",
    "        #print(\"tokenized word pos = \", pos_tag(word_tokenize(mylemword))[0][1])\n",
    "        \n",
    "        for mypos in pos_abbrev:\n",
    "            if (mypos in result_pos) :\n",
    "                temp_pos_filtered_doc = temp_pos_filtered_doc + result_word + \" \"\n",
    "            \n",
    "    \n",
    "    return temp_pos_filtered_doc.rstrip()\n"
   ]
  },
  {
   "cell_type": "markdown",
   "metadata": {},
   "source": [
    "**TODO**: Run the notebook through with everything turned on as your final copy of the notebook.\n",
    "\n",
    "Now just running `join()` on the tokenized reviews."
   ]
  },
  {
   "cell_type": "code",
   "execution_count": 86,
   "metadata": {
    "execution": {
     "iopub.execute_input": "2020-11-10T04:43:52.427054Z",
     "iopub.status.busy": "2020-11-10T04:43:52.426776Z",
     "iopub.status.idle": "2020-11-10T04:43:52.430580Z",
     "shell.execute_reply": "2020-11-10T04:43:52.429741Z",
     "shell.execute_reply.started": "2020-11-10T04:43:52.427024Z"
    }
   },
   "outputs": [],
   "source": [
    "#stuff_pos_filtered = filter_pos(stuff_lemmatized,pos_abbrev=[\"JJ\",\"RB\"])\n",
    "#stuff_pos_filtered\n",
    "#stuff_pos_filtered = stuff_pos_filtered + filter_pos(stuff_lemmatized,\"RB\")\n",
    "\n",
    "#Not doing this to see how LDA works when it's given all of the words of  each reive.\n",
    "#pandarallel.initialize()\n",
    "#start_time = datetime.datetime.now()\n",
    "#good_reviews_df[\"ProcessedText\"] = good_reviews_df.parallel_apply(filter_pos,axis=1,pos_abbrev=[\"JJ\",\"RB\"])\n",
    "#end_time = datetime.datetime.now()\n",
    "#print(\"time spent doing operation is {}\".format(end_time - start_time))\n",
    "\n",
    "#pandarallel.initialize()\n",
    "#start_time = datetime.datetime.now()\n",
    "#good_reviews_df[\"ProcessedText\"] = good_reviews_df.parallel_apply(lambda x : \" \".join(x[\"ProcessedText\"]),axis=1)\n",
    "#bad_reviews_df[\"ProcessedText\"] = bad_reviews_df.parallel_apply(lambda x : \" \".join(x[\"ProcessedText\"]),axis=1)\n",
    "#end_time = datetime.datetime.now()\n",
    "#print(\"time spent doing operation is {}\".format(end_time - start_time))\n",
    "\n"
   ]
  },
  {
   "cell_type": "code",
   "execution_count": 87,
   "metadata": {
    "execution": {
     "iopub.execute_input": "2020-11-10T04:43:53.580106Z",
     "iopub.status.busy": "2020-11-10T04:43:53.579826Z",
     "iopub.status.idle": "2020-11-10T04:43:53.585133Z",
     "shell.execute_reply": "2020-11-10T04:43:53.584357Z",
     "shell.execute_reply.started": "2020-11-10T04:43:53.580076Z"
    }
   },
   "outputs": [
    {
     "data": {
      "text/plain": [
       "'i have buy several of the vitality can dog food and have find them all to be of good quality the product more like a stew than a meat and it good my be and she this product good than most'"
      ]
     },
     "execution_count": 87,
     "metadata": {},
     "output_type": "execute_result"
    }
   ],
   "source": [
    "good_reviews_df.loc[0,\"ProcessedText\"]"
   ]
  },
  {
   "cell_type": "code",
   "execution_count": 88,
   "metadata": {
    "execution": {
     "iopub.execute_input": "2020-11-10T04:43:54.866564Z",
     "iopub.status.busy": "2020-11-10T04:43:54.866282Z",
     "iopub.status.idle": "2020-11-10T04:43:54.871523Z",
     "shell.execute_reply": "2020-11-10T04:43:54.870691Z",
     "shell.execute_reply.started": "2020-11-10T04:43:54.866534Z"
    }
   },
   "outputs": [
    {
     "data": {
      "text/plain": [
       "'if you be look for the secret ingredient in i believe i have find it i get this in addition to the root beer extract i order which be good and make some cherry soda the flavor be very medicinal'"
      ]
     },
     "execution_count": 88,
     "metadata": {},
     "output_type": "execute_result"
    }
   ],
   "source": [
    "bad_reviews_df.loc[0,\"ProcessedText\"]"
   ]
  },
  {
   "cell_type": "markdown",
   "metadata": {},
   "source": [
    "Final shape of bad and good reviews dataframes"
   ]
  },
  {
   "cell_type": "code",
   "execution_count": 89,
   "metadata": {
    "execution": {
     "iopub.execute_input": "2020-11-10T04:44:26.591019Z",
     "iopub.status.busy": "2020-11-10T04:44:26.590728Z",
     "iopub.status.idle": "2020-11-10T04:44:26.595724Z",
     "shell.execute_reply": "2020-11-10T04:44:26.594915Z",
     "shell.execute_reply.started": "2020-11-10T04:44:26.590987Z"
    }
   },
   "outputs": [
    {
     "data": {
      "text/plain": [
       "(152586, 13)"
      ]
     },
     "execution_count": 89,
     "metadata": {},
     "output_type": "execute_result"
    }
   ],
   "source": [
    "good_reviews_df.shape"
   ]
  },
  {
   "cell_type": "code",
   "execution_count": 90,
   "metadata": {
    "execution": {
     "iopub.execute_input": "2020-11-10T04:44:27.535249Z",
     "iopub.status.busy": "2020-11-10T04:44:27.534980Z",
     "iopub.status.idle": "2020-11-10T04:44:27.540090Z",
     "shell.execute_reply": "2020-11-10T04:44:27.539244Z",
     "shell.execute_reply.started": "2020-11-10T04:44:27.535220Z"
    }
   },
   "outputs": [
    {
     "data": {
      "text/plain": [
       "(40420, 13)"
      ]
     },
     "execution_count": 90,
     "metadata": {},
     "output_type": "execute_result"
    }
   ],
   "source": [
    "bad_reviews_df.shape"
   ]
  },
  {
   "cell_type": "markdown",
   "metadata": {},
   "source": [
    "## Word Vectorization / Parsing\n",
    "\n",
    "Will do the following here:\n",
    "![tfidf_vectorize](../Documents/Images/tfidf_vectorization.jpg)\n",
    "\n",
    "I did both document vectorization (i.e. converting each document into a vector, where each component of the vector is a number that represents some feature of the document) using `CountVectorizer` and `TfidfVectorizer`. I settled on `TfidfVectorizer` because it resulted in topics that made slightly better sense.\n",
    "\n",
    "\n",
    "Why selected TFIDF?\n",
    "\n",
    "The are a few words that are used very frequently in the corpus, like \"buy\":\n",
    "\n",
    "```shell\n",
    "(metis_linux_venv) :> grep -i buy Reviews.csv|wc -l\n",
    "95872\n",
    "(metis_linux_venv) :> grep -i bought Reviews.csv|wc -l\n",
    "46267\n",
    "\n",
    "```\n",
    "\n",
    "In a straight word-count vectorizer documents vectors would weigh heavily in the direction of term, which could then lead to this being a topic. Given that this corpus overarching theme is about products purchased on Amazon, given it such weight doesn't seem warranted and does not add useful information beyond a certain point.\n",
    "\n",
    "The TFIDF calculates the magnitude of the components for each word in the document according to this equation:\n",
    "\n",
    "`TFIDF = (TermCountInDocument)/(TotalDocumentTerms) * log(TotalDocuments/DocumentsContainingTerm)`\n",
    "\n",
    "So in count vectorized document-term matrix the word \"buy\" has much more influence on the topic assignment of a document than in the TFIDF vectorized document matrix. Here's an example:\n",
    "\n",
    "Here's the \"buy\" vector component magnitude in the count vectorized document-term matrix for a few documents:\n",
    "\n",
    "![count_vect_example](../Documents/Images/count_matrix_example.png)\n",
    "\n",
    "Here's the \"buy\" vector component values for the same documents in the TFIDF vectorized document-term matrix:\n",
    "\n",
    "![tfidf_vect_example](../Documents/Images/tfidf_matrix_example.png)\n",
    "\n",
    "As you can see the vector component magnitudes for \"buy\" in the latter example are smaller because they are found in a large number of documents.\n",
    "\n",
    "So the word \"mold,\" which only shows up in 1541 documents, yet is a pretty significant (in human terms) topic now will have a correspondingly weighted mathematical significance (TFIDF shown below):\n",
    "![tfidf_vect_example2](../Documents/Images/tfidf_matrix_example2.png)\n"
   ]
  },
  {
   "cell_type": "code",
   "execution_count": 91,
   "metadata": {
    "execution": {
     "iopub.execute_input": "2020-11-10T05:14:40.962668Z",
     "iopub.status.busy": "2020-11-10T05:14:40.962400Z",
     "iopub.status.idle": "2020-11-10T05:14:53.984334Z",
     "shell.execute_reply": "2020-11-10T05:14:53.983415Z",
     "shell.execute_reply.started": "2020-11-10T05:14:40.962640Z"
    }
   },
   "outputs": [],
   "source": [
    "vectorizer_gr = CountVectorizer(stop_words=\"english\")\n",
    "docTermMatrixCountVecGR = vectorizer_gr.fit_transform(good_reviews_df[\"ProcessedText\"])\n",
    "\n",
    "tfidfvectorizer_gr = TfidfVectorizer(stop_words='english')\n",
    "docTermMatrixTFIDFGR = tfidfvectorizer_gr.fit_transform(good_reviews_df[\"ProcessedText\"])\n"
   ]
  },
  {
   "cell_type": "code",
   "execution_count": 92,
   "metadata": {
    "execution": {
     "iopub.execute_input": "2020-11-10T05:14:55.424719Z",
     "iopub.status.busy": "2020-11-10T05:14:55.424437Z",
     "iopub.status.idle": "2020-11-10T05:14:58.912854Z",
     "shell.execute_reply": "2020-11-10T05:14:58.912101Z",
     "shell.execute_reply.started": "2020-11-10T05:14:55.424688Z"
    }
   },
   "outputs": [],
   "source": [
    "vectorizer_br = CountVectorizer(stop_words=\"english\")\n",
    "docTermMatrixCountVecBR = vectorizer_br.fit_transform(bad_reviews_df[\"ProcessedText\"])\n",
    "\n",
    "tfidfvectorizer_br = TfidfVectorizer(stop_words='english')\n",
    "docTermMatrixTFIDFBR = tfidfvectorizer_br.fit_transform(bad_reviews_df[\"ProcessedText\"])"
   ]
  },
  {
   "cell_type": "code",
   "execution_count": 93,
   "metadata": {
    "execution": {
     "iopub.execute_input": "2020-11-10T05:15:03.226065Z",
     "iopub.status.busy": "2020-11-10T05:15:03.225798Z",
     "iopub.status.idle": "2020-11-10T05:15:03.245149Z",
     "shell.execute_reply": "2020-11-10T05:15:03.244428Z",
     "shell.execute_reply.started": "2020-11-10T05:15:03.226037Z"
    }
   },
   "outputs": [
    {
     "data": {
      "text/plain": [
       "21926"
      ]
     },
     "execution_count": 93,
     "metadata": {},
     "output_type": "execute_result"
    }
   ],
   "source": [
    "len(vectorizer_gr.get_feature_names())"
   ]
  },
  {
   "cell_type": "code",
   "execution_count": 94,
   "metadata": {
    "execution": {
     "iopub.execute_input": "2020-11-10T05:15:07.290920Z",
     "iopub.status.busy": "2020-11-10T05:15:07.290653Z",
     "iopub.status.idle": "2020-11-10T05:15:07.295478Z",
     "shell.execute_reply": "2020-11-10T05:15:07.294780Z",
     "shell.execute_reply.started": "2020-11-10T05:15:07.290891Z"
    }
   },
   "outputs": [
    {
     "data": {
      "text/plain": [
       "(40420, 15183)"
      ]
     },
     "execution_count": 94,
     "metadata": {},
     "output_type": "execute_result"
    }
   ],
   "source": [
    "docTermMatrixTFIDFBR.shape"
   ]
  },
  {
   "cell_type": "code",
   "execution_count": 95,
   "metadata": {
    "execution": {
     "iopub.execute_input": "2020-11-10T05:15:10.511949Z",
     "iopub.status.busy": "2020-11-10T05:15:10.511661Z",
     "iopub.status.idle": "2020-11-10T05:15:10.516704Z",
     "shell.execute_reply": "2020-11-10T05:15:10.515955Z",
     "shell.execute_reply.started": "2020-11-10T05:15:10.511920Z"
    }
   },
   "outputs": [
    {
     "data": {
      "text/plain": [
       "(152586, 21926)"
      ]
     },
     "execution_count": 95,
     "metadata": {},
     "output_type": "execute_result"
    }
   ],
   "source": [
    "docTermMatrixTFIDFGR.shape"
   ]
  },
  {
   "cell_type": "code",
   "execution_count": 96,
   "metadata": {
    "execution": {
     "iopub.execute_input": "2020-11-10T05:15:17.776949Z",
     "iopub.status.busy": "2020-11-10T05:15:17.776680Z",
     "iopub.status.idle": "2020-11-10T05:15:17.790827Z",
     "shell.execute_reply": "2020-11-10T05:15:17.790116Z",
     "shell.execute_reply.started": "2020-11-10T05:15:17.776921Z"
    }
   },
   "outputs": [
    {
     "data": {
      "text/plain": [
       "15183"
      ]
     },
     "execution_count": 96,
     "metadata": {},
     "output_type": "execute_result"
    }
   ],
   "source": [
    "len(vectorizer_br.get_feature_names())"
   ]
  },
  {
   "cell_type": "code",
   "execution_count": 97,
   "metadata": {
    "execution": {
     "iopub.execute_input": "2020-11-10T05:15:19.469390Z",
     "iopub.status.busy": "2020-11-10T05:15:19.469124Z",
     "iopub.status.idle": "2020-11-10T05:15:22.016555Z",
     "shell.execute_reply": "2020-11-10T05:15:22.015816Z",
     "shell.execute_reply.started": "2020-11-10T05:15:19.469361Z"
    }
   },
   "outputs": [
    {
     "data": {
      "text/plain": [
       "array([[0, 0, 0, ..., 0, 0, 0],\n",
       "       [0, 0, 0, ..., 0, 0, 0],\n",
       "       [0, 0, 0, ..., 0, 0, 0],\n",
       "       ...,\n",
       "       [0, 0, 0, ..., 0, 0, 0],\n",
       "       [0, 0, 0, ..., 0, 0, 0],\n",
       "       [0, 0, 0, ..., 0, 0, 0]])"
      ]
     },
     "execution_count": 97,
     "metadata": {},
     "output_type": "execute_result"
    }
   ],
   "source": [
    "docTermMatrixCountVecGR.toarray()"
   ]
  },
  {
   "cell_type": "code",
   "execution_count": 98,
   "metadata": {
    "execution": {
     "iopub.execute_input": "2020-11-10T05:15:26.264766Z",
     "iopub.status.busy": "2020-11-10T05:15:26.264431Z",
     "iopub.status.idle": "2020-11-10T05:15:26.269807Z",
     "shell.execute_reply": "2020-11-10T05:15:26.269089Z",
     "shell.execute_reply.started": "2020-11-10T05:15:26.264735Z"
    }
   },
   "outputs": [
    {
     "data": {
      "text/plain": [
       "(152586, 21926)"
      ]
     },
     "execution_count": 98,
     "metadata": {},
     "output_type": "execute_result"
    }
   ],
   "source": [
    "docTermMatrixCountVecGR.shape"
   ]
  },
  {
   "cell_type": "code",
   "execution_count": 99,
   "metadata": {
    "execution": {
     "iopub.execute_input": "2020-11-10T05:15:31.833205Z",
     "iopub.status.busy": "2020-11-10T05:15:31.832935Z",
     "iopub.status.idle": "2020-11-10T05:15:32.401118Z",
     "shell.execute_reply": "2020-11-10T05:15:32.400431Z",
     "shell.execute_reply.started": "2020-11-10T05:15:31.833176Z"
    }
   },
   "outputs": [
    {
     "data": {
      "text/plain": [
       "array([[0, 0, 0, ..., 0, 0, 0],\n",
       "       [0, 0, 0, ..., 0, 0, 0],\n",
       "       [0, 0, 0, ..., 0, 0, 0],\n",
       "       ...,\n",
       "       [0, 0, 0, ..., 0, 0, 0],\n",
       "       [0, 0, 0, ..., 0, 0, 0],\n",
       "       [0, 0, 0, ..., 0, 0, 0]])"
      ]
     },
     "execution_count": 99,
     "metadata": {},
     "output_type": "execute_result"
    }
   ],
   "source": [
    "docTermMatrixCountVecBR.toarray()"
   ]
  },
  {
   "cell_type": "code",
   "execution_count": 100,
   "metadata": {
    "execution": {
     "iopub.execute_input": "2020-11-10T05:15:32.402285Z",
     "iopub.status.busy": "2020-11-10T05:15:32.402125Z",
     "iopub.status.idle": "2020-11-10T05:15:32.405912Z",
     "shell.execute_reply": "2020-11-10T05:15:32.405347Z",
     "shell.execute_reply.started": "2020-11-10T05:15:32.402265Z"
    }
   },
   "outputs": [
    {
     "data": {
      "text/plain": [
       "(40420, 15183)"
      ]
     },
     "execution_count": 100,
     "metadata": {},
     "output_type": "execute_result"
    }
   ],
   "source": [
    "docTermMatrixCountVecBR.shape"
   ]
  },
  {
   "cell_type": "code",
   "execution_count": 101,
   "metadata": {
    "execution": {
     "iopub.execute_input": "2020-11-10T05:17:20.009427Z",
     "iopub.status.busy": "2020-11-10T05:17:20.009153Z",
     "iopub.status.idle": "2020-11-10T05:17:23.022896Z",
     "shell.execute_reply": "2020-11-10T05:17:23.022055Z",
     "shell.execute_reply.started": "2020-11-10T05:17:20.009399Z"
    }
   },
   "outputs": [],
   "source": [
    "docTermMatrixTFIDFGR_df = pd.DataFrame(\n",
    "    docTermMatrixTFIDFGR.toarray(),\n",
    "    index=good_reviews_df[\"ProcessedText\"],\n",
    "    columns=tfidfvectorizer_gr.get_feature_names()\n",
    ")"
   ]
  },
  {
   "cell_type": "code",
   "execution_count": 165,
   "metadata": {
    "execution": {
     "iopub.execute_input": "2020-11-10T06:35:10.048150Z",
     "iopub.status.busy": "2020-11-10T06:35:10.047920Z",
     "iopub.status.idle": "2020-11-10T06:35:10.080362Z",
     "shell.execute_reply": "2020-11-10T06:35:10.079626Z",
     "shell.execute_reply.started": "2020-11-10T06:35:10.048120Z"
    }
   },
   "outputs": [
    {
     "data": {
      "text/html": [
       "<div>\n",
       "<style scoped>\n",
       "    .dataframe tbody tr th:only-of-type {\n",
       "        vertical-align: middle;\n",
       "    }\n",
       "\n",
       "    .dataframe tbody tr th {\n",
       "        vertical-align: top;\n",
       "    }\n",
       "\n",
       "    .dataframe thead th {\n",
       "        text-align: right;\n",
       "    }\n",
       "</style>\n",
       "<table border=\"1\" class=\"dataframe\">\n",
       "  <thead>\n",
       "    <tr style=\"text-align: right;\">\n",
       "      <th></th>\n",
       "      <th>mold</th>\n",
       "    </tr>\n",
       "    <tr>\n",
       "      <th>ProcessedText</th>\n",
       "      <th></th>\n",
       "    </tr>\n",
       "  </thead>\n",
       "  <tbody>\n",
       "    <tr>\n",
       "      <th>this packet of glaze be the secret to make those style fresh fruit i be about to make one for a pie auction at church after a friend that something should be you can make the most amazing and relatively fruit by bake a base it with uncooked fresh slice fruit then pour over the content of one of these they harden up at room temperature hold the fruit together so you can slice the tart and they let the beauty of the fruit show through also see this glaze use over to hold a fruit topping in place personally i do not like cheesecake too rich for me but a fruit glaze cheesecake be gorgeous i will admit to do this slice fruit and layer it on the cheesecake while still in the pan pour on the glaze let it set up and then remove the have a clear layer of fruit on top of the cheesecake or slice be nice but the best one i ever have use thin of that have be gently in sugar syrup before they be layer on the use a base of sponge cake bake in a shallow form but other base can be pate sucre a kind of pastry that be a bit like a sugar that work well in those flute you can also make in a muffin pan each mold with a layer of pie crust even commercial crust work though again i prefer pate sucre it it shape well and be more substantial and a good crumb just the muffin line with pate then pop them out and fill with fresh be great and pour over the glaze some people put a layer of patisserie which be a pastry cream like custard but with flour below the fruit and i happen to think these taste you get into bake this glaze be a on the shelf the be tapioca starch dextrose cream of tartar locust bean gum so if you be look to make a tofu cheesecake you can use this on top as well a use it for fruit with a nut crust base</th>\n",
       "      <td>0.065166</td>\n",
       "    </tr>\n",
       "    <tr>\n",
       "      <th>wow this product be very impressive i buy the blueberry and be with price and ship the powder instantly even in water just be a in a small glass of water for now and drink it down and it great but will add it to my and fruit next this product be so economical to fresh especially because there be no waste due to mold or overripe throw away i think you could add this to bake or unbaked a well excite to add more of the to my diet in this fast and easy way i definitely will be try the other soon</th>\n",
       "      <td>0.231527</td>\n",
       "    </tr>\n",
       "    <tr>\n",
       "      <th>i bake my first batch of these and be that they be so easy to make and taste so good then i them in the refrigerator since gluten free home bake good be notorious for mold i eat one straight out of the frig and it be great i guess the together after be a few i finish the batch one at a time out of the frig without any of them they be so good that way i bring myself to try them any other way our family be the area of gluten free eating for over the just keep get well a more be become aware of celiac disease i have an through that the gluten free we have have the pleasure of try</th>\n",
       "      <td>0.197134</td>\n",
       "    </tr>\n",
       "    <tr>\n",
       "      <th>the silver pearl dust be reasonably easy to use please use a light and careful touch i use this to decorate i use the tree mold and the be lovely and tasty</th>\n",
       "      <td>0.309105</td>\n",
       "    </tr>\n",
       "    <tr>\n",
       "      <th>i enjoy several of the baker breakfast banana nut pumpkin spice but this be my favorite not too sweet for my taste very satisfying and fill i heat in microwave for about and good to go great with coffee or tea i keep them in the freezer a they recommend you must do this a they can get mold otherwise and they always taste fresh and fine to me they be very nicely for the freezer also good in the toaster crispy be one of my favorite quick on hurried morning and sometimes i even enjoy them on a relaxed morning i buy these regularly and quality consistently good i recommend these highly</th>\n",
       "      <td>0.212081</td>\n",
       "    </tr>\n",
       "  </tbody>\n",
       "</table>\n",
       "</div>"
      ],
      "text/plain": [
       "                                                        mold\n",
       "ProcessedText                                               \n",
       "this packet of glaze be the secret to make thos...  0.065166\n",
       "wow this product be very impressive i buy the b...  0.231527\n",
       "i bake my first batch of these and be that they...  0.197134\n",
       "the silver pearl dust be reasonably easy to use...  0.309105\n",
       "i enjoy several of the baker breakfast banana n...  0.212081"
      ]
     },
     "execution_count": 165,
     "metadata": {},
     "output_type": "execute_result"
    }
   ],
   "source": [
    "docTermMatrixTFIDFGR_df.loc[docTermMatrixTFIDFGR_df[\"mold\"]>0,[\"mold\"]].head(5)"
   ]
  },
  {
   "cell_type": "code",
   "execution_count": 102,
   "metadata": {
    "execution": {
     "iopub.execute_input": "2020-11-10T05:17:24.906504Z",
     "iopub.status.busy": "2020-11-10T05:17:24.906239Z",
     "iopub.status.idle": "2020-11-10T05:17:24.909689Z",
     "shell.execute_reply": "2020-11-10T05:17:24.908948Z",
     "shell.execute_reply.started": "2020-11-10T05:17:24.906476Z"
    }
   },
   "outputs": [],
   "source": [
    "#docTermMatrixTFIDFGR_df.head(3)"
   ]
  },
  {
   "cell_type": "code",
   "execution_count": 103,
   "metadata": {
    "execution": {
     "iopub.execute_input": "2020-11-10T05:17:25.106996Z",
     "iopub.status.busy": "2020-11-10T05:17:25.106754Z",
     "iopub.status.idle": "2020-11-10T05:17:27.552115Z",
     "shell.execute_reply": "2020-11-10T05:17:27.551403Z",
     "shell.execute_reply.started": "2020-11-10T05:17:25.106968Z"
    }
   },
   "outputs": [],
   "source": [
    "\n",
    "docTermMatrixCountVecGR_df = pd.DataFrame(docTermMatrixCountVecGR.toarray(), index=good_reviews_df[\"ProcessedText\"], columns=vectorizer_gr.get_feature_names())"
   ]
  },
  {
   "cell_type": "code",
   "execution_count": 146,
   "metadata": {
    "execution": {
     "iopub.execute_input": "2020-11-10T06:03:23.482993Z",
     "iopub.status.busy": "2020-11-10T06:03:23.482713Z",
     "iopub.status.idle": "2020-11-10T06:03:23.500364Z",
     "shell.execute_reply": "2020-11-10T06:03:23.499708Z",
     "shell.execute_reply.started": "2020-11-10T06:03:23.482963Z"
    }
   },
   "outputs": [
    {
     "data": {
      "text/html": [
       "<div>\n",
       "<style scoped>\n",
       "    .dataframe tbody tr th:only-of-type {\n",
       "        vertical-align: middle;\n",
       "    }\n",
       "\n",
       "    .dataframe tbody tr th {\n",
       "        vertical-align: top;\n",
       "    }\n",
       "\n",
       "    .dataframe thead th {\n",
       "        text-align: right;\n",
       "    }\n",
       "</style>\n",
       "<table border=\"1\" class=\"dataframe\">\n",
       "  <thead>\n",
       "    <tr style=\"text-align: right;\">\n",
       "      <th></th>\n",
       "      <th>aa</th>\n",
       "      <th>aardvark</th>\n",
       "      <th>aback</th>\n",
       "      <th>abandon</th>\n",
       "      <th>abandoned</th>\n",
       "      <th>abb</th>\n",
       "      <th>abbey</th>\n",
       "      <th>abbot</th>\n",
       "      <th>abbreviation</th>\n",
       "      <th>abdomen</th>\n",
       "      <th>...</th>\n",
       "      <th>zodiac</th>\n",
       "      <th>zombie</th>\n",
       "      <th>zone</th>\n",
       "      <th>zoo</th>\n",
       "      <th>zoom</th>\n",
       "      <th>zooplankton</th>\n",
       "      <th>zoster</th>\n",
       "      <th>zowie</th>\n",
       "      <th>zucchini</th>\n",
       "      <th>zwieback</th>\n",
       "    </tr>\n",
       "    <tr>\n",
       "      <th>ProcessedText</th>\n",
       "      <th></th>\n",
       "      <th></th>\n",
       "      <th></th>\n",
       "      <th></th>\n",
       "      <th></th>\n",
       "      <th></th>\n",
       "      <th></th>\n",
       "      <th></th>\n",
       "      <th></th>\n",
       "      <th></th>\n",
       "      <th></th>\n",
       "      <th></th>\n",
       "      <th></th>\n",
       "      <th></th>\n",
       "      <th></th>\n",
       "      <th></th>\n",
       "      <th></th>\n",
       "      <th></th>\n",
       "      <th></th>\n",
       "      <th></th>\n",
       "      <th></th>\n",
       "    </tr>\n",
       "  </thead>\n",
       "  <tbody>\n",
       "    <tr>\n",
       "      <th>i have buy several of the vitality can dog food and have find them all to be of good quality the product more like a stew than a meat and it good my be and she this product good than most</th>\n",
       "      <td>0</td>\n",
       "      <td>0</td>\n",
       "      <td>0</td>\n",
       "      <td>0</td>\n",
       "      <td>0</td>\n",
       "      <td>0</td>\n",
       "      <td>0</td>\n",
       "      <td>0</td>\n",
       "      <td>0</td>\n",
       "      <td>0</td>\n",
       "      <td>...</td>\n",
       "      <td>0</td>\n",
       "      <td>0</td>\n",
       "      <td>0</td>\n",
       "      <td>0</td>\n",
       "      <td>0</td>\n",
       "      <td>0</td>\n",
       "      <td>0</td>\n",
       "      <td>0</td>\n",
       "      <td>0</td>\n",
       "      <td>0</td>\n",
       "    </tr>\n",
       "    <tr>\n",
       "      <th>this be a confection that be around a few it be a light pillowy citrus gelatin with in this case and it be cut into tiny and then liberally coat with powdered sugar and it be a tiny mouthful of heaven not too chewy and very flavorful i highly recommend this yummy treat if you be familiar with the story of lion the witch and the this be the treat that into sell out his brother and to the witch</th>\n",
       "      <td>0</td>\n",
       "      <td>0</td>\n",
       "      <td>0</td>\n",
       "      <td>0</td>\n",
       "      <td>0</td>\n",
       "      <td>0</td>\n",
       "      <td>0</td>\n",
       "      <td>0</td>\n",
       "      <td>0</td>\n",
       "      <td>0</td>\n",
       "      <td>...</td>\n",
       "      <td>0</td>\n",
       "      <td>0</td>\n",
       "      <td>0</td>\n",
       "      <td>0</td>\n",
       "      <td>0</td>\n",
       "      <td>0</td>\n",
       "      <td>0</td>\n",
       "      <td>0</td>\n",
       "      <td>0</td>\n",
       "      <td>0</td>\n",
       "    </tr>\n",
       "  </tbody>\n",
       "</table>\n",
       "<p>2 rows × 21926 columns</p>\n",
       "</div>"
      ],
      "text/plain": [
       "                                                    aa  aardvark  aback  \\\n",
       "ProcessedText                                                             \n",
       "i have buy several of the vitality can dog food...   0         0      0   \n",
       "this be a confection that be around a few it be...   0         0      0   \n",
       "\n",
       "                                                    abandon  abandoned  abb  \\\n",
       "ProcessedText                                                                 \n",
       "i have buy several of the vitality can dog food...        0          0    0   \n",
       "this be a confection that be around a few it be...        0          0    0   \n",
       "\n",
       "                                                    abbey  abbot  \\\n",
       "ProcessedText                                                      \n",
       "i have buy several of the vitality can dog food...      0      0   \n",
       "this be a confection that be around a few it be...      0      0   \n",
       "\n",
       "                                                    abbreviation  abdomen  \\\n",
       "ProcessedText                                                               \n",
       "i have buy several of the vitality can dog food...             0        0   \n",
       "this be a confection that be around a few it be...             0        0   \n",
       "\n",
       "                                                    ...  zodiac  zombie  zone  \\\n",
       "ProcessedText                                       ...                         \n",
       "i have buy several of the vitality can dog food...  ...       0       0     0   \n",
       "this be a confection that be around a few it be...  ...       0       0     0   \n",
       "\n",
       "                                                    zoo  zoom  zooplankton  \\\n",
       "ProcessedText                                                                \n",
       "i have buy several of the vitality can dog food...    0     0            0   \n",
       "this be a confection that be around a few it be...    0     0            0   \n",
       "\n",
       "                                                    zoster  zowie  zucchini  \\\n",
       "ProcessedText                                                                 \n",
       "i have buy several of the vitality can dog food...       0      0         0   \n",
       "this be a confection that be around a few it be...       0      0         0   \n",
       "\n",
       "                                                    zwieback  \n",
       "ProcessedText                                                 \n",
       "i have buy several of the vitality can dog food...         0  \n",
       "this be a confection that be around a few it be...         0  \n",
       "\n",
       "[2 rows x 21926 columns]"
      ]
     },
     "execution_count": 146,
     "metadata": {},
     "output_type": "execute_result"
    }
   ],
   "source": [
    "docTermMatrixCountVecGR_df.head(2)"
   ]
  },
  {
   "cell_type": "code",
   "execution_count": 147,
   "metadata": {
    "execution": {
     "iopub.execute_input": "2020-11-10T06:03:25.910636Z",
     "iopub.status.busy": "2020-11-10T06:03:25.910328Z",
     "iopub.status.idle": "2020-11-10T06:03:26.062959Z",
     "shell.execute_reply": "2020-11-10T06:03:26.062155Z",
     "shell.execute_reply.started": "2020-11-10T06:03:25.910606Z"
    }
   },
   "outputs": [],
   "source": [
    "col_names = vectorizer_gr.get_feature_names()"
   ]
  },
  {
   "cell_type": "code",
   "execution_count": 148,
   "metadata": {
    "execution": {
     "iopub.execute_input": "2020-11-10T06:03:26.509639Z",
     "iopub.status.busy": "2020-11-10T06:03:26.509402Z",
     "iopub.status.idle": "2020-11-10T06:03:26.516762Z",
     "shell.execute_reply": "2020-11-10T06:03:26.515917Z",
     "shell.execute_reply.started": "2020-11-10T06:03:26.509611Z"
    }
   },
   "outputs": [
    {
     "data": {
      "text/plain": [
       "['buy']"
      ]
     },
     "execution_count": 148,
     "metadata": {},
     "output_type": "execute_result"
    }
   ],
   "source": [
    "thing = [stuff for stuff in col_names if stuff==\"buy\"]\n",
    "thing"
   ]
  },
  {
   "cell_type": "markdown",
   "metadata": {},
   "source": [
    "```\n",
    "In [102]: labels = [1, 2, 3]\n",
    "\n",
    "In [103]: s.loc[s.index.intersection(labels)]\n",
    "Out[103]: \n",
    "1    2\n",
    "2    3\n",
    "dtype: int64\n",
    "```\n"
   ]
  },
  {
   "cell_type": "code",
   "execution_count": 166,
   "metadata": {
    "execution": {
     "iopub.execute_input": "2020-11-10T06:36:01.809479Z",
     "iopub.status.busy": "2020-11-10T06:36:01.809204Z",
     "iopub.status.idle": "2020-11-10T06:36:01.833418Z",
     "shell.execute_reply": "2020-11-10T06:36:01.832751Z",
     "shell.execute_reply.started": "2020-11-10T06:36:01.809449Z"
    }
   },
   "outputs": [
    {
     "data": {
      "text/html": [
       "<div>\n",
       "<style scoped>\n",
       "    .dataframe tbody tr th:only-of-type {\n",
       "        vertical-align: middle;\n",
       "    }\n",
       "\n",
       "    .dataframe tbody tr th {\n",
       "        vertical-align: top;\n",
       "    }\n",
       "\n",
       "    .dataframe thead th {\n",
       "        text-align: right;\n",
       "    }\n",
       "</style>\n",
       "<table border=\"1\" class=\"dataframe\">\n",
       "  <thead>\n",
       "    <tr style=\"text-align: right;\">\n",
       "      <th></th>\n",
       "      <th>mold</th>\n",
       "    </tr>\n",
       "    <tr>\n",
       "      <th>ProcessedText</th>\n",
       "      <th></th>\n",
       "    </tr>\n",
       "  </thead>\n",
       "  <tbody>\n",
       "    <tr>\n",
       "      <th>this packet of glaze be the secret to make those style fresh fruit i be about to make one for a pie auction at church after a friend that something should be you can make the most amazing and relatively fruit by bake a base it with uncooked fresh slice fruit then pour over the content of one of these they harden up at room temperature hold the fruit together so you can slice the tart and they let the beauty of the fruit show through also see this glaze use over to hold a fruit topping in place personally i do not like cheesecake too rich for me but a fruit glaze cheesecake be gorgeous i will admit to do this slice fruit and layer it on the cheesecake while still in the pan pour on the glaze let it set up and then remove the have a clear layer of fruit on top of the cheesecake or slice be nice but the best one i ever have use thin of that have be gently in sugar syrup before they be layer on the use a base of sponge cake bake in a shallow form but other base can be pate sucre a kind of pastry that be a bit like a sugar that work well in those flute you can also make in a muffin pan each mold with a layer of pie crust even commercial crust work though again i prefer pate sucre it it shape well and be more substantial and a good crumb just the muffin line with pate then pop them out and fill with fresh be great and pour over the glaze some people put a layer of patisserie which be a pastry cream like custard but with flour below the fruit and i happen to think these taste you get into bake this glaze be a on the shelf the be tapioca starch dextrose cream of tartar locust bean gum so if you be look to make a tofu cheesecake you can use this on top as well a use it for fruit with a nut crust base</th>\n",
       "      <td>1</td>\n",
       "    </tr>\n",
       "    <tr>\n",
       "      <th>wow this product be very impressive i buy the blueberry and be with price and ship the powder instantly even in water just be a in a small glass of water for now and drink it down and it great but will add it to my and fruit next this product be so economical to fresh especially because there be no waste due to mold or overripe throw away i think you could add this to bake or unbaked a well excite to add more of the to my diet in this fast and easy way i definitely will be try the other soon</th>\n",
       "      <td>1</td>\n",
       "    </tr>\n",
       "    <tr>\n",
       "      <th>i bake my first batch of these and be that they be so easy to make and taste so good then i them in the refrigerator since gluten free home bake good be notorious for mold i eat one straight out of the frig and it be great i guess the together after be a few i finish the batch one at a time out of the frig without any of them they be so good that way i bring myself to try them any other way our family be the area of gluten free eating for over the just keep get well a more be become aware of celiac disease i have an through that the gluten free we have have the pleasure of try</th>\n",
       "      <td>1</td>\n",
       "    </tr>\n",
       "    <tr>\n",
       "      <th>the silver pearl dust be reasonably easy to use please use a light and careful touch i use this to decorate i use the tree mold and the be lovely and tasty</th>\n",
       "      <td>1</td>\n",
       "    </tr>\n",
       "    <tr>\n",
       "      <th>i enjoy several of the baker breakfast banana nut pumpkin spice but this be my favorite not too sweet for my taste very satisfying and fill i heat in microwave for about and good to go great with coffee or tea i keep them in the freezer a they recommend you must do this a they can get mold otherwise and they always taste fresh and fine to me they be very nicely for the freezer also good in the toaster crispy be one of my favorite quick on hurried morning and sometimes i even enjoy them on a relaxed morning i buy these regularly and quality consistently good i recommend these highly</th>\n",
       "      <td>1</td>\n",
       "    </tr>\n",
       "  </tbody>\n",
       "</table>\n",
       "</div>"
      ],
      "text/plain": [
       "                                                    mold\n",
       "ProcessedText                                           \n",
       "this packet of glaze be the secret to make thos...     1\n",
       "wow this product be very impressive i buy the b...     1\n",
       "i bake my first batch of these and be that they...     1\n",
       "the silver pearl dust be reasonably easy to use...     1\n",
       "i enjoy several of the baker breakfast banana n...     1"
      ]
     },
     "execution_count": 166,
     "metadata": {},
     "output_type": "execute_result"
    }
   ],
   "source": [
    "docTermMatrixCountVecGR_df.loc[docTermMatrixCountVecGR_df[\"mold\"]>0,[\"mold\"]].head(5)"
   ]
  },
  {
   "cell_type": "code",
   "execution_count": 151,
   "metadata": {
    "execution": {
     "iopub.execute_input": "2020-11-10T06:09:06.862134Z",
     "iopub.status.busy": "2020-11-10T06:09:06.861846Z",
     "iopub.status.idle": "2020-11-10T06:10:01.501829Z",
     "shell.execute_reply": "2020-11-10T06:10:01.501079Z",
     "shell.execute_reply.started": "2020-11-10T06:09:06.862105Z"
    }
   },
   "outputs": [
    {
     "data": {
      "text/html": [
       "<div>\n",
       "<style scoped>\n",
       "    .dataframe tbody tr th:only-of-type {\n",
       "        vertical-align: middle;\n",
       "    }\n",
       "\n",
       "    .dataframe tbody tr th {\n",
       "        vertical-align: top;\n",
       "    }\n",
       "\n",
       "    .dataframe thead th {\n",
       "        text-align: right;\n",
       "    }\n",
       "</style>\n",
       "<table border=\"1\" class=\"dataframe\">\n",
       "  <thead>\n",
       "    <tr style=\"text-align: right;\">\n",
       "      <th></th>\n",
       "    </tr>\n",
       "    <tr>\n",
       "      <th>ProcessedText</th>\n",
       "    </tr>\n",
       "  </thead>\n",
       "  <tbody>\n",
       "    <tr>\n",
       "      <th>i have buy several of the vitality can dog food and have find them all to be of good quality the product more like a stew than a meat and it good my be and she this product good than most</th>\n",
       "    </tr>\n",
       "    <tr>\n",
       "      <th>instant oatmeal be great if you must have your oatmeal but can only scrape together two or three to prepare it there be no the fact however that even the best instant oatmeal be nowhere near as good a even a store brand of oatmeal preparation still the be as good a it for instant oatmeal even well than the organic i have try all the in the variety pack taste good it can be prepare in the microwave or by boil water so it be convenient in the extreme when time be an use of actual cane sugar instead of high fructose corn syrup me decide to buy this product real sugar well and be not as harmful a the other stuff one thing i do not like though be use of plus water plus heat should make a creamy tasty oatmeal without the need for guar gum but this be a convenience product maybe the guar gum be why after sit in the bowl a while the instant becomes too thick and gluey</th>\n",
       "    </tr>\n",
       "    <tr>\n",
       "      <th>get a free package of these with a bottle of bloody mary mix i buy from the seller and the advertising i try them and them with and we all them so here to buy more and there be no yet well now there be they be hot but not your mouth forever it a nice temp perfect for u</th>\n",
       "    </tr>\n",
       "    <tr>\n",
       "      <th>grape gummy be hard to find in my area in fact pretty much anyone i talk to about grape gummy they think lie so i buy these be a little bit big then the other and have kind of sour kick but nothing to strong i love grape flavor and these be pretty good there be another company that grape gummy that be a little bit well in my opinion but these be well worth it for the price i like to use the gummy in home make with flavored sport drink the salt in the sport drink for and the gummy be awesome frozen they be delicious</th>\n",
       "    </tr>\n",
       "    <tr>\n",
       "      <th>i know the product title molecular gastronomy but let that scare you off i have be look for this for a while now not for food science but for something more down to earth i use it to make my own coffee have to have my coffee blonde and sweet but the flavor be full of the bad of fat and honestly i hate to use i really think they be good for the body on the other hand i hate cold milk or cream because i like hot across this on one day and get the idea of make my own creamer i also buy milk powder and regular milk powder the milk be a little and than regular instant milk but do not dissolve good in cold water which be not a problem for hot coffee you will have to play with the i would not do just the heavy cream it make the coffee too rich also i think the powder be too expensive to just use on own i like of each flavoring i bough cocoa bean powder vanilla bean powder and caster superfine sugar i mix up small along with like cinnamon and nutmeg to make my own flavor if you you could use a fake powder instead i make up small that i store in jelly can i also use my little food processor to blend everything so the sugar be not and to the bottom let it settle for a bit before open the top stuff way well than the and it be fun to experiment and come up with your own i be go to try some essential next and see if i can get a good of the i be here take the time to experiment maybe you use any milk or add any it be up to you also would make great be sure other molecular people will be able to tell you more of what you can do with it and i be sure i will experiment with it in cook but the main reason i buy it be to make my own creamer and it work out great</th>\n",
       "    </tr>\n",
       "    <tr>\n",
       "      <th>we have three dog and all of them love this food we buy it specifically for one of our dog who food and it work great for him no more hot or tummy love that it right to our door with free shipping</th>\n",
       "    </tr>\n",
       "    <tr>\n",
       "      <th>my mix our vet a limited ingredient food this really her and she it i will always buy it from and free shipping</th>\n",
       "    </tr>\n",
       "    <tr>\n",
       "      <th>i first buy asparagus at an market and it be love at first bite hence when i saw these on the discount rack at the local i it out these be even good than the from the market they be fantastic and some of the have a bonus clove of garlic at the bottom go to order the six pack and a household of one they wont go to waste</th>\n",
       "    </tr>\n",
       "    <tr>\n",
       "      <th>i love asparagus up until very recently i have never have asparagus oh my goodness when a friend me to this exact brand i believe how great stuff taste i it so much i buy the six pack get left need more</th>\n",
       "    </tr>\n",
       "    <tr>\n",
       "      <th>i have be drink this tea for a long time now i use to have to purchase it at a office because it available elsewhere so glad that i can buy it now from i drink this tea throughout the day like other drink coffee wonderful taste</th>\n",
       "    </tr>\n",
       "  </tbody>\n",
       "</table>\n",
       "</div>"
      ],
      "text/plain": [
       "Empty DataFrame\n",
       "Columns: []\n",
       "Index: [i have buy several of the vitality can dog food and have find them all to be of good quality the product more like a stew than a meat and it good my be and she this product good than most, instant oatmeal be great if you must have your oatmeal but can only scrape together two or three to prepare it there be no the fact however that even the best instant oatmeal be nowhere near as good a even a store brand of oatmeal preparation still the be as good a it for instant oatmeal even well than the organic i have try all the in the variety pack taste good it can be prepare in the microwave or by boil water so it be convenient in the extreme when time be an use of actual cane sugar instead of high fructose corn syrup me decide to buy this product real sugar well and be not as harmful a the other stuff one thing i do not like though be use of plus water plus heat should make a creamy tasty oatmeal without the need for guar gum but this be a convenience product maybe the guar gum be why after sit in the bowl a while the instant becomes too thick and gluey, get a free package of these with a bottle of bloody mary mix i buy from the seller and the advertising i try them and them with and we all them so here to buy more and there be no yet well now there be they be hot but not your mouth forever it a nice temp perfect for u, grape gummy be hard to find in my area in fact pretty much anyone i talk to about grape gummy they think lie so i buy these be a little bit big then the other and have kind of sour kick but nothing to strong i love grape flavor and these be pretty good there be another company that grape gummy that be a little bit well in my opinion but these be well worth it for the price i like to use the gummy in home make with flavored sport drink the salt in the sport drink for and the gummy be awesome frozen they be delicious, i know the product title molecular gastronomy but let that scare you off i have be look for this for a while now not for food science but for something more down to earth i use it to make my own coffee have to have my coffee blonde and sweet but the flavor be full of the bad of fat and honestly i hate to use i really think they be good for the body on the other hand i hate cold milk or cream because i like hot across this on one day and get the idea of make my own creamer i also buy milk powder and regular milk powder the milk be a little and than regular instant milk but do not dissolve good in cold water which be not a problem for hot coffee you will have to play with the i would not do just the heavy cream it make the coffee too rich also i think the powder be too expensive to just use on own i like of each flavoring i bough cocoa bean powder vanilla bean powder and caster superfine sugar i mix up small along with like cinnamon and nutmeg to make my own flavor if you you could use a fake powder instead i make up small that i store in jelly can i also use my little food processor to blend everything so the sugar be not and to the bottom let it settle for a bit before open the top stuff way well than the and it be fun to experiment and come up with your own i be go to try some essential next and see if i can get a good of the i be here take the time to experiment maybe you use any milk or add any it be up to you also would make great be sure other molecular people will be able to tell you more of what you can do with it and i be sure i will experiment with it in cook but the main reason i buy it be to make my own creamer and it work out great, we have three dog and all of them love this food we buy it specifically for one of our dog who food and it work great for him no more hot or tummy love that it right to our door with free shipping, my mix our vet a limited ingredient food this really her and she it i will always buy it from and free shipping, i first buy asparagus at an market and it be love at first bite hence when i saw these on the discount rack at the local i it out these be even good than the from the market they be fantastic and some of the have a bonus clove of garlic at the bottom go to order the six pack and a household of one they wont go to waste, i love asparagus up until very recently i have never have asparagus oh my goodness when a friend me to this exact brand i believe how great stuff taste i it so much i buy the six pack get left need more, i have be drink this tea for a long time now i use to have to purchase it at a office because it available elsewhere so glad that i can buy it now from i drink this tea throughout the day like other drink coffee wonderful taste]"
      ]
     },
     "execution_count": 151,
     "metadata": {},
     "output_type": "execute_result"
    }
   ],
   "source": [
    "col_to_get = [\"ProcessedText\",\"buy\"]\n",
    "\n",
    "docTermMatrixCountVecGR_df.loc[docTermMatrixCountVecGR_df[\"buy\"]>0,docTermMatrixCountVecGR_df.index.intersection(col_to_get)].head(10)"
   ]
  },
  {
   "cell_type": "code",
   "execution_count": 105,
   "metadata": {
    "execution": {
     "iopub.execute_input": "2020-11-10T05:18:27.116522Z",
     "iopub.status.busy": "2020-11-10T05:18:27.116262Z",
     "iopub.status.idle": "2020-11-10T05:18:27.119742Z",
     "shell.execute_reply": "2020-11-10T05:18:27.118989Z",
     "shell.execute_reply.started": "2020-11-10T05:18:27.116494Z"
    }
   },
   "outputs": [],
   "source": [
    "#docTermMatrixCountVecBR_df = pd.DataFrame(docTermMatrixCountVecBR.toarray(), index=bad_reviews_df[\"ProcessedText\"], columns=vectorizer_br.get_feature_names())"
   ]
  },
  {
   "cell_type": "code",
   "execution_count": 106,
   "metadata": {
    "execution": {
     "iopub.execute_input": "2020-11-10T05:18:27.739676Z",
     "iopub.status.busy": "2020-11-10T05:18:27.739430Z",
     "iopub.status.idle": "2020-11-10T05:18:27.742724Z",
     "shell.execute_reply": "2020-11-10T05:18:27.741999Z",
     "shell.execute_reply.started": "2020-11-10T05:18:27.739649Z"
    }
   },
   "outputs": [],
   "source": [
    "#docTermMatrixCountVecBR_df.head(2)"
   ]
  },
  {
   "cell_type": "code",
   "execution_count": 107,
   "metadata": {
    "execution": {
     "iopub.execute_input": "2020-11-10T05:18:28.084254Z",
     "iopub.status.busy": "2020-11-10T05:18:28.083988Z",
     "iopub.status.idle": "2020-11-10T05:18:28.784900Z",
     "shell.execute_reply": "2020-11-10T05:18:28.784100Z",
     "shell.execute_reply.started": "2020-11-10T05:18:28.084225Z"
    }
   },
   "outputs": [],
   "source": [
    "docTermMatrixTFIDFBR_df = pd.DataFrame(\n",
    "    docTermMatrixTFIDFBR.toarray(),\n",
    "    index=bad_reviews_df[\"ProcessedText\"],\n",
    "    columns=tfidfvectorizer_br.get_feature_names()\n",
    ")"
   ]
  },
  {
   "cell_type": "code",
   "execution_count": 108,
   "metadata": {
    "execution": {
     "iopub.execute_input": "2020-11-10T05:18:28.786318Z",
     "iopub.status.busy": "2020-11-10T05:18:28.786119Z",
     "iopub.status.idle": "2020-11-10T05:18:28.814276Z",
     "shell.execute_reply": "2020-11-10T05:18:28.813544Z",
     "shell.execute_reply.started": "2020-11-10T05:18:28.786293Z"
    }
   },
   "outputs": [
    {
     "data": {
      "text/html": [
       "<div>\n",
       "<style scoped>\n",
       "    .dataframe tbody tr th:only-of-type {\n",
       "        vertical-align: middle;\n",
       "    }\n",
       "\n",
       "    .dataframe tbody tr th {\n",
       "        vertical-align: top;\n",
       "    }\n",
       "\n",
       "    .dataframe thead th {\n",
       "        text-align: right;\n",
       "    }\n",
       "</style>\n",
       "<table border=\"1\" class=\"dataframe\">\n",
       "  <thead>\n",
       "    <tr style=\"text-align: right;\">\n",
       "      <th></th>\n",
       "      <th>aa</th>\n",
       "      <th>aback</th>\n",
       "      <th>abalone</th>\n",
       "      <th>abandon</th>\n",
       "      <th>abandoned</th>\n",
       "      <th>abandonment</th>\n",
       "      <th>abbey</th>\n",
       "      <th>abdomen</th>\n",
       "      <th>abdominal</th>\n",
       "      <th>aberrant</th>\n",
       "      <th>...</th>\n",
       "      <th>zipper</th>\n",
       "      <th>zippy</th>\n",
       "      <th>zombie</th>\n",
       "      <th>zone</th>\n",
       "      <th>zoo</th>\n",
       "      <th>zoology</th>\n",
       "      <th>zoom</th>\n",
       "      <th>zoonotic</th>\n",
       "      <th>zucchini</th>\n",
       "      <th>zwieback</th>\n",
       "    </tr>\n",
       "    <tr>\n",
       "      <th>ProcessedText</th>\n",
       "      <th></th>\n",
       "      <th></th>\n",
       "      <th></th>\n",
       "      <th></th>\n",
       "      <th></th>\n",
       "      <th></th>\n",
       "      <th></th>\n",
       "      <th></th>\n",
       "      <th></th>\n",
       "      <th></th>\n",
       "      <th></th>\n",
       "      <th></th>\n",
       "      <th></th>\n",
       "      <th></th>\n",
       "      <th></th>\n",
       "      <th></th>\n",
       "      <th></th>\n",
       "      <th></th>\n",
       "      <th></th>\n",
       "      <th></th>\n",
       "      <th></th>\n",
       "    </tr>\n",
       "  </thead>\n",
       "  <tbody>\n",
       "    <tr>\n",
       "      <th>if you be look for the secret ingredient in i believe i have find it i get this in addition to the root beer extract i order which be good and make some cherry soda the flavor be very medicinal</th>\n",
       "      <td>0.0</td>\n",
       "      <td>0.0</td>\n",
       "      <td>0.0</td>\n",
       "      <td>0.0</td>\n",
       "      <td>0.0</td>\n",
       "      <td>0.0</td>\n",
       "      <td>0.0</td>\n",
       "      <td>0.0</td>\n",
       "      <td>0.0</td>\n",
       "      <td>0.0</td>\n",
       "      <td>...</td>\n",
       "      <td>0.0</td>\n",
       "      <td>0.0</td>\n",
       "      <td>0.0</td>\n",
       "      <td>0.0</td>\n",
       "      <td>0.0</td>\n",
       "      <td>0.0</td>\n",
       "      <td>0.0</td>\n",
       "      <td>0.0</td>\n",
       "      <td>0.0</td>\n",
       "      <td>0.0</td>\n",
       "    </tr>\n",
       "    <tr>\n",
       "      <th>my have be happily eat platinum for more than two i just get a new bag and the shape of the food be different they try the new food when i first put it in their bowl and now the bowl sit full and the will not touch the food similar relate to formula in the past unfortunately i now need to find a new food that my will eat</th>\n",
       "      <td>0.0</td>\n",
       "      <td>0.0</td>\n",
       "      <td>0.0</td>\n",
       "      <td>0.0</td>\n",
       "      <td>0.0</td>\n",
       "      <td>0.0</td>\n",
       "      <td>0.0</td>\n",
       "      <td>0.0</td>\n",
       "      <td>0.0</td>\n",
       "      <td>0.0</td>\n",
       "      <td>...</td>\n",
       "      <td>0.0</td>\n",
       "      <td>0.0</td>\n",
       "      <td>0.0</td>\n",
       "      <td>0.0</td>\n",
       "      <td>0.0</td>\n",
       "      <td>0.0</td>\n",
       "      <td>0.0</td>\n",
       "      <td>0.0</td>\n",
       "      <td>0.0</td>\n",
       "      <td>0.0</td>\n",
       "    </tr>\n",
       "    <tr>\n",
       "      <th>the candy be just red no flavor just plan and chewy i would never buy them again</th>\n",
       "      <td>0.0</td>\n",
       "      <td>0.0</td>\n",
       "      <td>0.0</td>\n",
       "      <td>0.0</td>\n",
       "      <td>0.0</td>\n",
       "      <td>0.0</td>\n",
       "      <td>0.0</td>\n",
       "      <td>0.0</td>\n",
       "      <td>0.0</td>\n",
       "      <td>0.0</td>\n",
       "      <td>...</td>\n",
       "      <td>0.0</td>\n",
       "      <td>0.0</td>\n",
       "      <td>0.0</td>\n",
       "      <td>0.0</td>\n",
       "      <td>0.0</td>\n",
       "      <td>0.0</td>\n",
       "      <td>0.0</td>\n",
       "      <td>0.0</td>\n",
       "      <td>0.0</td>\n",
       "      <td>0.0</td>\n",
       "    </tr>\n",
       "  </tbody>\n",
       "</table>\n",
       "<p>3 rows × 15183 columns</p>\n",
       "</div>"
      ],
      "text/plain": [
       "                                                     aa  aback  abalone  \\\n",
       "ProcessedText                                                             \n",
       "if you be look for the secret ingredient in i b...  0.0    0.0      0.0   \n",
       "my have be happily eat platinum for more than t...  0.0    0.0      0.0   \n",
       "the candy be just red no flavor just plan and c...  0.0    0.0      0.0   \n",
       "\n",
       "                                                    abandon  abandoned  \\\n",
       "ProcessedText                                                            \n",
       "if you be look for the secret ingredient in i b...      0.0        0.0   \n",
       "my have be happily eat platinum for more than t...      0.0        0.0   \n",
       "the candy be just red no flavor just plan and c...      0.0        0.0   \n",
       "\n",
       "                                                    abandonment  abbey  \\\n",
       "ProcessedText                                                            \n",
       "if you be look for the secret ingredient in i b...          0.0    0.0   \n",
       "my have be happily eat platinum for more than t...          0.0    0.0   \n",
       "the candy be just red no flavor just plan and c...          0.0    0.0   \n",
       "\n",
       "                                                    abdomen  abdominal  \\\n",
       "ProcessedText                                                            \n",
       "if you be look for the secret ingredient in i b...      0.0        0.0   \n",
       "my have be happily eat platinum for more than t...      0.0        0.0   \n",
       "the candy be just red no flavor just plan and c...      0.0        0.0   \n",
       "\n",
       "                                                    aberrant  ...  zipper  \\\n",
       "ProcessedText                                                 ...           \n",
       "if you be look for the secret ingredient in i b...       0.0  ...     0.0   \n",
       "my have be happily eat platinum for more than t...       0.0  ...     0.0   \n",
       "the candy be just red no flavor just plan and c...       0.0  ...     0.0   \n",
       "\n",
       "                                                    zippy  zombie  zone  zoo  \\\n",
       "ProcessedText                                                                  \n",
       "if you be look for the secret ingredient in i b...    0.0     0.0   0.0  0.0   \n",
       "my have be happily eat platinum for more than t...    0.0     0.0   0.0  0.0   \n",
       "the candy be just red no flavor just plan and c...    0.0     0.0   0.0  0.0   \n",
       "\n",
       "                                                    zoology  zoom  zoonotic  \\\n",
       "ProcessedText                                                                 \n",
       "if you be look for the secret ingredient in i b...      0.0   0.0       0.0   \n",
       "my have be happily eat platinum for more than t...      0.0   0.0       0.0   \n",
       "the candy be just red no flavor just plan and c...      0.0   0.0       0.0   \n",
       "\n",
       "                                                    zucchini  zwieback  \n",
       "ProcessedText                                                           \n",
       "if you be look for the secret ingredient in i b...       0.0       0.0  \n",
       "my have be happily eat platinum for more than t...       0.0       0.0  \n",
       "the candy be just red no flavor just plan and c...       0.0       0.0  \n",
       "\n",
       "[3 rows x 15183 columns]"
      ]
     },
     "execution_count": 108,
     "metadata": {},
     "output_type": "execute_result"
    }
   ],
   "source": [
    "docTermMatrixTFIDFBR_df.head(3)"
   ]
  },
  {
   "cell_type": "code",
   "execution_count": 109,
   "metadata": {
    "execution": {
     "iopub.execute_input": "2020-11-10T05:18:29.034391Z",
     "iopub.status.busy": "2020-11-10T05:18:29.034126Z",
     "iopub.status.idle": "2020-11-10T05:18:29.037537Z",
     "shell.execute_reply": "2020-11-10T05:18:29.036803Z",
     "shell.execute_reply.started": "2020-11-10T05:18:29.034363Z"
    }
   },
   "outputs": [],
   "source": [
    "#docTermMatrixCountVecGR_df.columns"
   ]
  },
  {
   "cell_type": "code",
   "execution_count": 110,
   "metadata": {
    "execution": {
     "iopub.execute_input": "2020-11-10T05:18:29.577008Z",
     "iopub.status.busy": "2020-11-10T05:18:29.576773Z",
     "iopub.status.idle": "2020-11-10T05:18:29.580090Z",
     "shell.execute_reply": "2020-11-10T05:18:29.579339Z",
     "shell.execute_reply.started": "2020-11-10T05:18:29.576980Z"
    }
   },
   "outputs": [],
   "source": [
    "#docTermMatrixCountVecBR_df.columns"
   ]
  },
  {
   "cell_type": "code",
   "execution_count": 112,
   "metadata": {
    "execution": {
     "iopub.execute_input": "2020-11-10T05:19:23.326232Z",
     "iopub.status.busy": "2020-11-10T05:19:23.325965Z",
     "iopub.status.idle": "2020-11-10T05:19:23.331206Z",
     "shell.execute_reply": "2020-11-10T05:19:23.330447Z",
     "shell.execute_reply.started": "2020-11-10T05:19:23.326203Z"
    }
   },
   "outputs": [],
   "source": [
    "LD_AllocatorGR = LatentDirichletAllocation(n_components=NUMBER_OF_TOPICS, random_state=RANDOM_STATE,n_jobs=N_JOBS)\n",
    "LD_AllocatorBR = LatentDirichletAllocation(n_components=NUMBER_OF_TOPICS, random_state=RANDOM_STATE,n_jobs=N_JOBS)\n",
    "LD_AllocatorTFIDFGR = LatentDirichletAllocation(n_components=NUMBER_OF_TOPICS, random_state=RANDOM_STATE,n_jobs=N_JOBS)\n",
    "LD_AllocatorTFIDFBR = LatentDirichletAllocation(n_components=NUMBER_OF_TOPICS, random_state=RANDOM_STATE,n_jobs=N_JOBS)\n"
   ]
  },
  {
   "cell_type": "code",
   "execution_count": 113,
   "metadata": {
    "execution": {
     "iopub.execute_input": "2020-11-10T05:19:25.685044Z",
     "iopub.status.busy": "2020-11-10T05:19:25.684774Z",
     "iopub.status.idle": "2020-11-10T05:22:13.481640Z",
     "shell.execute_reply": "2020-11-10T05:22:13.480791Z",
     "shell.execute_reply.started": "2020-11-10T05:19:25.685016Z"
    }
   },
   "outputs": [
    {
     "name": "stdout",
     "output_type": "stream",
     "text": [
      "time spent doing operation is 0:02:47.791366\n"
     ]
    }
   ],
   "source": [
    "start_time = datetime.datetime.now()\n",
    "LD_AllocatorGR.fit(docTermMatrixCountVecGR)\n",
    "end_time = datetime.datetime.now()\n",
    "print(\"time spent doing operation is {}\".format(end_time - start_time))"
   ]
  },
  {
   "cell_type": "code",
   "execution_count": 114,
   "metadata": {
    "execution": {
     "iopub.execute_input": "2020-11-10T05:22:13.482942Z",
     "iopub.status.busy": "2020-11-10T05:22:13.482778Z",
     "iopub.status.idle": "2020-11-10T05:22:40.018076Z",
     "shell.execute_reply": "2020-11-10T05:22:40.017289Z",
     "shell.execute_reply.started": "2020-11-10T05:22:13.482921Z"
    }
   },
   "outputs": [
    {
     "name": "stdout",
     "output_type": "stream",
     "text": [
      "time spent doing operation is 0:00:26.531021\n"
     ]
    }
   ],
   "source": [
    "start_time = datetime.datetime.now()\n",
    "LD_AllocatorBR.fit(docTermMatrixCountVecBR)\n",
    "end_time = datetime.datetime.now()\n",
    "print(\"time spent doing operation is {}\".format(end_time - start_time))"
   ]
  },
  {
   "cell_type": "code",
   "execution_count": 115,
   "metadata": {
    "execution": {
     "iopub.execute_input": "2020-11-10T05:22:40.019412Z",
     "iopub.status.busy": "2020-11-10T05:22:40.019256Z",
     "iopub.status.idle": "2020-11-10T05:24:01.774742Z",
     "shell.execute_reply": "2020-11-10T05:24:01.773919Z",
     "shell.execute_reply.started": "2020-11-10T05:22:40.019392Z"
    }
   },
   "outputs": [
    {
     "name": "stdout",
     "output_type": "stream",
     "text": [
      "time spent doing operation is 0:01:21.750899\n"
     ]
    }
   ],
   "source": [
    "start_time = datetime.datetime.now()\n",
    "LD_AllocatorTFIDFGR.fit(docTermMatrixTFIDFGR)\n",
    "end_time = datetime.datetime.now()\n",
    "print(\"time spent doing operation is {}\".format(end_time - start_time))"
   ]
  },
  {
   "cell_type": "code",
   "execution_count": 116,
   "metadata": {
    "execution": {
     "iopub.execute_input": "2020-11-10T05:24:01.775894Z",
     "iopub.status.busy": "2020-11-10T05:24:01.775734Z",
     "iopub.status.idle": "2020-11-10T05:24:16.443652Z",
     "shell.execute_reply": "2020-11-10T05:24:16.442782Z",
     "shell.execute_reply.started": "2020-11-10T05:24:01.775875Z"
    }
   },
   "outputs": [
    {
     "name": "stdout",
     "output_type": "stream",
     "text": [
      "time spent doing operation is 0:00:14.662234\n"
     ]
    }
   ],
   "source": [
    "start_time = datetime.datetime.now()\n",
    "LD_AllocatorTFIDFBR.fit(docTermMatrixTFIDFBR)\n",
    "end_time = datetime.datetime.now()\n",
    "print(\"time spent doing operation is {}\".format(end_time - start_time))"
   ]
  },
  {
   "cell_type": "markdown",
   "metadata": {
    "execution": {
     "iopub.execute_input": "2020-11-07T20:14:14.762160Z",
     "iopub.status.busy": "2020-11-07T20:14:14.761860Z",
     "iopub.status.idle": "2020-11-07T20:14:14.765099Z",
     "shell.execute_reply": "2020-11-07T20:14:14.764481Z",
     "shell.execute_reply.started": "2020-11-07T20:14:14.762129Z"
    }
   },
   "source": [
    "# Analysis of Reviews\n",
    "\n",
    "We have vectorized and run it through LDA"
   ]
  },
  {
   "cell_type": "markdown",
   "metadata": {},
   "source": [
    "## Topics via LDA"
   ]
  },
  {
   "cell_type": "markdown",
   "metadata": {
    "execution": {
     "iopub.execute_input": "2020-11-03T22:20:31.145738Z",
     "iopub.status.busy": "2020-11-03T22:20:31.145545Z",
     "iopub.status.idle": "2020-11-03T22:20:31.162025Z",
     "shell.execute_reply": "2020-11-03T22:20:31.161379Z",
     "shell.execute_reply.started": "2020-11-03T22:20:31.145719Z"
    }
   },
   "source": [
    "## LDA on \"Good\" Reviews"
   ]
  },
  {
   "cell_type": "code",
   "execution_count": null,
   "metadata": {},
   "outputs": [],
   "source": [
    "#import pyLDAvis\n",
    "#import pyLDAvis.sklearn"
   ]
  },
  {
   "cell_type": "code",
   "execution_count": null,
   "metadata": {},
   "outputs": [],
   "source": [
    "#pyLDAvis.enable_notebook()\n",
    "#pyLDAvis.sklearn.prepare(LD_AllocatorGR, docTermMatrixCountVecGR, vectorizer_gr)"
   ]
  },
  {
   "cell_type": "code",
   "execution_count": null,
   "metadata": {},
   "outputs": [],
   "source": [
    "#pyLDAvis.enable_notebook()\n",
    "#pyLDAvis.sklearn.prepare(LD_AllocatorBR, docTermMatrixCountVecBR, vectorizer_br)"
   ]
  },
  {
   "cell_type": "markdown",
   "metadata": {},
   "source": [
    "Looking at these results (especially topic2 in the BR) that analyzing bi-grams would yields even more interpretable results. If I can get visualizations down I may opt to do bi=gram analysis or just put it in the to-do list"
   ]
  },
  {
   "cell_type": "code",
   "execution_count": null,
   "metadata": {},
   "outputs": [],
   "source": [
    "def display_topics(model, feature_names, no_top_words, topic_names=None):\n",
    "    for ix, topic in enumerate(model.components_):\n",
    "        if not topic_names or not topic_names[ix]:\n",
    "            print(\"\\nTopic \", ix)\n",
    "        else:\n",
    "            print(\"\\nTopic: '\",topic_names[ix],\"'\")\n",
    "        print(\", \".join([feature_names[i]\n",
    "                        for i in topic.argsort()[:-no_top_words - 1:-1]]))"
   ]
  },
  {
   "cell_type": "markdown",
   "metadata": {},
   "source": [
    "**TODO** You are picking the TFIDF vectorizer over the countvectorizer. Talk about why you are doing that."
   ]
  },
  {
   "cell_type": "code",
   "execution_count": null,
   "metadata": {},
   "outputs": [],
   "source": [
    "display_topics(LD_AllocatorGR, vectorizer_gr.get_feature_names(),10)"
   ]
  },
  {
   "cell_type": "markdown",
   "metadata": {},
   "source": [
    "```\n",
    "Topic  0\n",
    "candy, like, taste, ginger, flavor, color, organic, good, product, licorice\n",
    "\n",
    "Topic  1\n",
    "tea, green, flavor, drink, taste, like, good, black, try, cup\n",
    "\n",
    "Topic  2\n",
    "oil, coconut, product, use, great, olive, good, quality, price, taste\n",
    "\n",
    "Topic  3\n",
    "food, cat, eat, dry, like, try, diet, good, weight, just\n",
    "\n",
    "Topic  4\n",
    "sugar, honey, like, taste, oatmeal, cinnamon, cracker, flavor, use, sweet\n",
    "\n",
    "Topic  5\n",
    "make, mix, free, gluten, use, bread, flour, bake, good, great\n",
    "\n",
    "Topic  6\n",
    "dog, food, treat, love, old, formula, good, like, small, eat\n",
    "\n",
    "Topic  7\n",
    "coffee, cup, good, like, taste, flavor, roast, try, strong, blend\n",
    "\n",
    "Topic  8\n",
    "sauce, like, good, flavor, use, hot, chicken, taste, make, try\n",
    "\n",
    "Topic  9\n",
    "use, work, make, hair, product, just, easy, plastic, time, like\n",
    "\n",
    "Topic  10\n",
    "butter, peanut, like, taste, powder, protein, bread, good, just, try\n",
    "\n",
    "Topic  11\n",
    "store, buy, local, day, price, time, grocery, try, just, work\n",
    "\n",
    "Topic  12\n",
    "flavor, love, coffee, try, great, vanilla, like, good, taste, best\n",
    "\n",
    "Topic  13\n",
    "rice, fat, low, high, protein, fiber, good, organic, sugar, product\n",
    "\n",
    "Topic  14\n",
    "water, add, make, use, little, just, cook, mix, cup, time\n",
    "\n",
    "Topic  15\n",
    "drink, water, taste, like, good, juice, try, flavor, energy, just\n",
    "\n",
    "Topic  16\n",
    "order, product, price, great, buy, good, box, time, shipping, ship\n",
    "\n",
    "Topic  17\n",
    "like, eat, just, good, taste, chip, bag, snack, popcorn, love\n",
    "\n",
    "Topic  18\n",
    "chocolate, bar, like, dark, taste, sweet, milk, gum, flavor, cocoa\n",
    "\n",
    "Topic  19\n",
    "eat, cereal, salt, good, great, love, breakfast, fruit, taste, healthy\n",
    "```"
   ]
  },
  {
   "cell_type": "code",
   "execution_count": null,
   "metadata": {},
   "outputs": [],
   "source": [
    "display_topics(LD_AllocatorTFIDFGR, tfidfvectorizer_gr.get_feature_names(),10)"
   ]
  },
  {
   "cell_type": "code",
   "execution_count": null,
   "metadata": {},
   "outputs": [],
   "source": [
    "display_topics(LD_AllocatorBR, vectorizer_br.get_feature_names(),10)"
   ]
  },
  {
   "cell_type": "markdown",
   "metadata": {},
   "source": [
    "```\n",
    "Topic  0\n",
    "price, buy, store, food, local, product, good, grocery, old, pay\n",
    "\n",
    "Topic  1\n",
    "chocolate, butter, bar, peanut, like, syrup, taste, cocoa, milk, flavor\n",
    "\n",
    "Topic  2\n",
    "bag, popcorn, day, just, come, plant, good, plastic, think, grow\n",
    "\n",
    "Topic  3\n",
    "eat, food, cat, just, tuna, litter, fish, try, salmon, good\n",
    "\n",
    "Topic  4\n",
    "order, product, company, receive, send, customer, time, service, say, use\n",
    "\n",
    "Topic  5\n",
    "product, list, organic, sugar, make, ingredient, corn, fat, high, label\n",
    "\n",
    "Topic  6\n",
    "drink, use, product, hair, try, work, energy, time, day, just\n",
    "\n",
    "Topic  7\n",
    "money, waste, use, make, try, buy, mix, like, bread, product\n",
    "\n",
    "Topic  8\n",
    "taste, like, flavor, water, drink, juice, try, just, coconut, artificial\n",
    "\n",
    "Topic  9\n",
    "sauce, taste, like, rice, good, just, flavor, try, hot, make\n",
    "\n",
    "Topic  10\n",
    "tea, green, flavor, taste, like, drink, vanilla, good, try, just\n",
    "\n",
    "Topic  11\n",
    "oil, gift, red, olive, basket, use, buy, make, good, just\n",
    "\n",
    "Topic  12\n",
    "coffee, cup, like, taste, good, flavor, try, just, buy, make\n",
    "\n",
    "Topic  13\n",
    "dog, food, make, chicken, eat, jerky, product, treat, meat, pet\n",
    "\n",
    "Topic  14\n",
    "salt, soup, candy, like, just, salty, box, eat, buy, taste\n",
    "\n",
    "Topic  15\n",
    "taste, like, sugar, good, sweet, just, buy, product, try, cereal\n",
    "\n",
    "Topic  16\n",
    "order, box, product, receive, item, ship, package, return, date, buy\n",
    "\n",
    "Topic  17\n",
    "like, taste, try, bad, smell, eat, just, good, chip, really\n",
    "\n",
    "Topic  18\n",
    "flavor, gum, like, product, just, cinnamon, good, chew, try, really\n",
    "\n",
    "Topic  19\n",
    "water, bottle, free, gluten, product, use, flour, milk, wheat, make\n",
    "```"
   ]
  },
  {
   "cell_type": "code",
   "execution_count": null,
   "metadata": {},
   "outputs": [],
   "source": [
    "display_topics(LD_AllocatorTFIDFBR, tfidfvectorizer_br.get_feature_names(),10)"
   ]
  },
  {
   "cell_type": "markdown",
   "metadata": {
    "execution": {
     "iopub.execute_input": "2020-11-08T01:28:37.462083Z",
     "iopub.status.busy": "2020-11-08T01:28:37.461811Z",
     "iopub.status.idle": "2020-11-08T01:28:37.465299Z",
     "shell.execute_reply": "2020-11-08T01:28:37.464550Z",
     "shell.execute_reply.started": "2020-11-08T01:28:37.462055Z"
    }
   },
   "source": [
    "## Visualization of Reviews"
   ]
  },
  {
   "cell_type": "markdown",
   "metadata": {
    "execution": {
     "iopub.execute_input": "2020-11-08T01:28:45.255341Z",
     "iopub.status.busy": "2020-11-08T01:28:45.255068Z",
     "iopub.status.idle": "2020-11-08T01:28:45.258458Z",
     "shell.execute_reply": "2020-11-08T01:28:45.257727Z",
     "shell.execute_reply.started": "2020-11-08T01:28:45.255312Z"
    }
   },
   "source": [
    "### PCA"
   ]
  },
  {
   "cell_type": "markdown",
   "metadata": {
    "execution": {
     "iopub.execute_input": "2020-11-08T01:30:59.852266Z",
     "iopub.status.busy": "2020-11-08T01:30:59.851997Z",
     "iopub.status.idle": "2020-11-08T01:30:59.855476Z",
     "shell.execute_reply": "2020-11-08T01:30:59.854681Z",
     "shell.execute_reply.started": "2020-11-08T01:30:59.852238Z"
    }
   },
   "source": [
    "#### Good Reviews\n",
    "First let's check the quality of results of the topic generation by finding the reviews that scored best in the `docTopicMatrixGF_df`"
   ]
  },
  {
   "cell_type": "code",
   "execution_count": null,
   "metadata": {},
   "outputs": [],
   "source": []
  },
  {
   "cell_type": "code",
   "execution_count": null,
   "metadata": {},
   "outputs": [],
   "source": [
    "#docTopicMatrixGR = LD_AllocatorGR.transform(docTermMatrixCountVecGR)"
   ]
  },
  {
   "cell_type": "code",
   "execution_count": null,
   "metadata": {},
   "outputs": [],
   "source": [
    "docTopicMatrixGR = LD_AllocatorTFIDFGR.transform(docTermMatrixTFIDFGR)\n",
    "\n",
    "#LD_AllocatorTFIDFGR = LatentDirichletAllocation(n_components=20, random_state=0,n_jobs=8)\n",
    "#LD_AllocatorTFIDFBR = LatentDirichletAllocation(n_components=20, random_state=0,n_jobs=8)"
   ]
  },
  {
   "cell_type": "code",
   "execution_count": null,
   "metadata": {},
   "outputs": [],
   "source": [
    "docTopicMatrixGR_df = pd.DataFrame(docTopicMatrixGR).add_prefix(\"topic_\")\n",
    "docTopicMatrixGR_df.shape"
   ]
  },
  {
   "cell_type": "code",
   "execution_count": null,
   "metadata": {},
   "outputs": [],
   "source": [
    "docTopicMatrixGR_df[[\"Summary\",\"ProcessedText\",\"Text\",\"Score\"]] = good_reviews_df[[\"Summary\",\"ProcessedText\",\"Text\",\"Score\"]]\n",
    "docTopicMatrixGR_df.head()"
   ]
  },
  {
   "cell_type": "code",
   "execution_count": null,
   "metadata": {},
   "outputs": [],
   "source": [
    "#find 5 reviews that score highest in topic_7\n",
    "for review in docTopicMatrixGR_df.sort_values(by=\"topic_7\",ascending=False).head(5)[[\"Summary\",\"Score\",\"Text\"]].values:\n",
    "    print(review,\"\\n\")"
   ]
  },
  {
   "cell_type": "markdown",
   "metadata": {},
   "source": [
    "From reading these 5 reviews they all seem to be discussion coffee either as a products that are very closely related to coffee.\n",
    "So `topic_7` is the **coffee**."
   ]
  },
  {
   "cell_type": "code",
   "execution_count": null,
   "metadata": {},
   "outputs": [],
   "source": [
    "good_review_vocab = tfidfvectorizer_gr.get_feature_names()\n",
    "wordTopicmatrixGR_df = pd.DataFrame(LD_AllocatorTFIDFGR.components_,columns=good_review_vocab).T.add_prefix(\"topic_\")\n",
    "wordTopicmatrixGR_df.head()"
   ]
  },
  {
   "cell_type": "code",
   "execution_count": null,
   "metadata": {},
   "outputs": [],
   "source": [
    "word = (wordTopicmatrixGR_df.sort_values(by=\"topic_7\",ascending=False).head(1))[\"topic_7\"].index[0]"
   ]
  },
  {
   "cell_type": "code",
   "execution_count": null,
   "metadata": {},
   "outputs": [],
   "source": [
    "word"
   ]
  },
  {
   "cell_type": "code",
   "execution_count": null,
   "metadata": {},
   "outputs": [],
   "source": [
    "#LD_AllocatorTFIDFGR.components_.shape"
   ]
  },
  {
   "cell_type": "code",
   "execution_count": null,
   "metadata": {},
   "outputs": [],
   "source": [
    "#topicXwordGBMatrix = LD_AllocatorTFIDFGR.components_"
   ]
  },
  {
   "cell_type": "code",
   "execution_count": null,
   "metadata": {},
   "outputs": [],
   "source": [
    "#topicXwordGBMatrix"
   ]
  },
  {
   "cell_type": "code",
   "execution_count": null,
   "metadata": {},
   "outputs": [],
   "source": [
    "pcaGR = PCA(n_components=2)\n",
    "pcaGR.fit(docTopicMatrixGR)\n",
    "docReducedTopicMatrixGR = pcaGR.transform(docTopicMatrixGR)"
   ]
  },
  {
   "cell_type": "code",
   "execution_count": null,
   "metadata": {},
   "outputs": [],
   "source": [
    "docReducedTopicMatrixGR.shape"
   ]
  },
  {
   "cell_type": "code",
   "execution_count": null,
   "metadata": {},
   "outputs": [],
   "source": [
    "docReducedTopicMatrixGR[0][0],docReducedTopicMatrixGR[0][1]"
   ]
  },
  {
   "cell_type": "code",
   "execution_count": null,
   "metadata": {},
   "outputs": [],
   "source": [
    "#Color map used to color each document in the plot\n",
    "TOPIC_COLORS={\"topic_0\":\"red\",\n",
    "                 \"topic_1\":\"orange\",\n",
    "                 \"topic_2\":\"yellow\",\n",
    "                 \"topic_3\":\"green\",\n",
    "                 \"topic_4\":\"blue\",\n",
    "                 \"topic_5\":\"indigo\",\n",
    "                 \"topic_6\":\"violet\",\n",
    "                 \"topic_7\":\"cyan\",\n",
    "                 \"topic_8\":\"brown\",\n",
    "                 \"topic_9\":\"white\",\n",
    "                 \"topic_10\":\"gray\",\n",
    "                 \"topic_11\":\"yellowgreen\",\n",
    "                 \"topic_12\":\"skyblue\",\n",
    "                 \"topic_13\":\"chartreuse\",\n",
    "                 \"topic_14\":\"goldenrod\",\n",
    "                 \"topic_15\":\"salmon\",\n",
    "                 \"topic_16\":\"magenta\",\n",
    "                 \"topic_17\":\"cornflowerblue\",\n",
    "                 \"topic_18\":\"ivory\",\n",
    "                 \"topic_19\":\"black\"}"
   ]
  },
  {
   "cell_type": "code",
   "execution_count": null,
   "metadata": {},
   "outputs": [],
   "source": [
    "def getcolor(row_index,basecolor,doc_topic_matrix_df):\n",
    "    \"\"\"\n",
    "    This function takes a document located at `row_index` in the `doc_topic_matrix_df` and determines\n",
    "    to which topic it belongs by finding the column with the max value at `row_index` in `doc_topic_matrix_df`\n",
    "    It then uses `TOPIC_COLORS` to return the color associated with that topic\n",
    "    \"\"\"\n",
    "    #assuming the first 20 columns are the topic weights\n",
    "    global TOPIC_COLORS\n",
    "    max_topic_name = doc_topic_matrix_df.iloc[:,:20].iloc[row_index].idxmax()\n",
    "    \n",
    "    if max_topic_name in TOPIC_COLORS.keys():\n",
    "        return TOPIC_COLORS[max_topic_name]\n",
    "    else:\n",
    "        print(\"WARNING: Say topic = {} and did not expect to!\".format(max_topic_name))\n",
    "        return \"black\"\n",
    "    "
   ]
  },
  {
   "cell_type": "code",
   "execution_count": null,
   "metadata": {},
   "outputs": [],
   "source": [
    "def plot_PCA_2D2(DocTopic2DMatrix,DocTopicMatrix_df, word_topic_matrix_df, plot_name=\"pca_scatter_plot.png\"):\n",
    "    \"\"\"\n",
    "    Generates a 2-D scatter plot of the reviews.\n",
    "    \n",
    "    `DoctTopic2DMatrix` is an array of N documents where the columns in row i represent the (x,y) coordinates for that document (document i)\n",
    "    \n",
    "    Each plotted document is colored according to the topic (out of 20) to which it belongs and is\n",
    "    colored according to the topic-to-color map defined in TOPIC_COLORS\n",
    "    \n",
    "    `plot_name`: file name of the plot (must end in png)\n",
    "    \n",
    "    \"\"\"\n",
    "    #TODO: Get it to work for any number of topics (mostly calc colors using the topic as the offset from a base color)\n",
    "    global TOPIC_COLORS\n",
    "\n",
    "    review_names = [\"r\"+str(numb) for numb in range(len(DocTopic2DMatrix))]\n",
    "    review_ids = range(len(review_names))\n",
    "    plotted_topics = []\n",
    "    plt.figure(figsize=(20,20))\n",
    "    for id in review_ids:\n",
    "        color = getcolor(id,\"#000000\",DocTopicMatrix_df)\n",
    "        for mykey in TOPIC_COLORS.keys():\n",
    "            if color == TOPIC_COLORS[mykey]:\n",
    "                #name = mykey\n",
    "                #get word best associated with this topic and use that as the label for the point\n",
    "                name = (word_topic_matrix_df.sort_values(by=mykey,ascending=False).head(1))[mykey].index[0]\n",
    "        plt.scatter(DocTopic2DMatrix[id][0],DocTopic2DMatrix[id][1],c=color,label=name,edgecolors=\"gray\",alpha=0.8)\n",
    "        plotted_topics.append(name)\n",
    "    \n",
    "    plotted_topics = set(plotted_topics)\n",
    "    plotted_topics = list(plotted_topics)\n",
    "    #not needed as I don't use the raw `topic_<X>` monikers anymore\n",
    "    #plotted_topics.sort(key=lambda x: int(x.split(\"_\")[1]))\n",
    "    plotted_topics.sort()\n",
    "    plt.legend(plotted_topics)\n",
    "    plt.savefig(\"../Documents/Images/{}\".format(plot_name),dpi=400)\n"
   ]
  },
  {
   "cell_type": "code",
   "execution_count": null,
   "metadata": {},
   "outputs": [],
   "source": [
    "review_subset_size = 7000\n",
    "\n",
    "numb_of_good_reviews = docReducedTopicMatrixGR.shape[0]\n",
    "selected_reviews = np.random.choice(numb_of_good_reviews,\n",
    "                                   size=review_subset_size,\n",
    "                                   replace=True)\n",
    "\n",
    "\n",
    "docReducedTopicMatrixGR_sub = docReducedTopicMatrixGR[selected_reviews,:]\n"
   ]
  },
  {
   "cell_type": "code",
   "execution_count": null,
   "metadata": {},
   "outputs": [],
   "source": [
    "#It takes 11 hours to generate the scatter plot for the full population of good reviews\n",
    "#just doing a random subset here\n",
    "\n",
    "start_time = datetime.datetime.now()\n",
    "plot_PCA_2D2(docReducedTopicMatrixGR_sub, docTopicMatrixGR_df, wordTopicmatrixGR_df, \"good_reviews_subset.png\")\n",
    "end_time = datetime.datetime.now()\n",
    "print(\"time spent doing operation is {}\".format(end_time - start_time))"
   ]
  },
  {
   "cell_type": "markdown",
   "metadata": {},
   "source": [
    "**TODO**\n",
    "You ran the cluster on the whole set of bad reviews. Include that here and add some narration to it."
   ]
  },
  {
   "cell_type": "markdown",
   "metadata": {
    "execution": {
     "iopub.execute_input": "2020-11-08T21:28:05.897785Z",
     "iopub.status.busy": "2020-11-08T21:28:05.897489Z",
     "iopub.status.idle": "2020-11-08T21:28:05.903130Z",
     "shell.execute_reply": "2020-11-08T21:28:05.902146Z",
     "shell.execute_reply.started": "2020-11-08T21:28:05.897756Z"
    }
   },
   "source": [
    "#### Bad Reviews\n",
    "Now let's check the quality of results of the topic generation by finding the reviews that scored best in the `docTopicMatrixBR_df`"
   ]
  },
  {
   "cell_type": "code",
   "execution_count": null,
   "metadata": {},
   "outputs": [],
   "source": [
    "docTopicMatrixBR = LD_AllocatorTFIDFBR.transform(docTermMatrixTFIDFBR)"
   ]
  },
  {
   "cell_type": "code",
   "execution_count": null,
   "metadata": {},
   "outputs": [],
   "source": [
    "docTopicMatrixBR_df = pd.DataFrame(docTopicMatrixBR).add_prefix(\"topic_\")\n",
    "docTopicMatrixBR_df[[\"Summary\",\"ProcessedText\",\"Text\",\"Score\"]] = bad_reviews_df[[\"Summary\",\"ProcessedText\",\"Text\",\"Score\"]]\n",
    "docTopicMatrixBR_df.head()"
   ]
  },
  {
   "cell_type": "code",
   "execution_count": null,
   "metadata": {},
   "outputs": [],
   "source": [
    "#find 5 reviews that score highest in topic_7\n",
    "for review in docTopicMatrixBR_df.sort_values(by=\"topic_0\",ascending=False).head(5)[[\"Summary\",\"Score\",\"Text\"]].values:\n",
    "    print(review,\"\\n\")"
   ]
  },
  {
   "cell_type": "code",
   "execution_count": null,
   "metadata": {},
   "outputs": [],
   "source": [
    "bad_review_vocab = tfidfvectorizer_br.get_feature_names()\n",
    "wordTopicmatrixBR_df = pd.DataFrame(LD_AllocatorTFIDFBR.components_,columns=bad_review_vocab).T.add_prefix(\"topic_\")\n",
    "wordTopicmatrixBR_df.head()"
   ]
  },
  {
   "cell_type": "code",
   "execution_count": null,
   "metadata": {},
   "outputs": [],
   "source": [
    "(wordTopicmatrixBR_df.sort_values(by=\"topic_12\",ascending=False).head(5))[\"topic_12\"]"
   ]
  },
  {
   "cell_type": "code",
   "execution_count": null,
   "metadata": {},
   "outputs": [],
   "source": [
    "pcaBR = PCA(n_components=2)\n",
    "pcaBR.fit(docTopicMatrixBR)\n",
    "docReducedTopicMatrixBR = pcaBR.transform(docTopicMatrixBR)"
   ]
  },
  {
   "cell_type": "code",
   "execution_count": null,
   "metadata": {},
   "outputs": [],
   "source": [
    "review_subset_size = 7000\n",
    "\n",
    "numb_of_bad_reviews = docReducedTopicMatrixBR.shape[0]\n",
    "selected_reviews = np.random.choice(numb_of_bad_reviews,\n",
    "                                   size=review_subset_size,\n",
    "                                   replace=True)\n",
    "\n",
    "\n",
    "docReducedTopicMatrixBR_sub = docReducedTopicMatrixBR[selected_reviews,:]\n"
   ]
  },
  {
   "cell_type": "code",
   "execution_count": null,
   "metadata": {},
   "outputs": [],
   "source": [
    "#It takes 11 hours to generate the scatter plot for the full population of good reviews\n",
    "#just doing a random subset here\n",
    "\n",
    "start_time = datetime.datetime.now()\n",
    "plot_PCA_2D2(docReducedTopicMatrixBR_sub, docTopicMatrixBR_df,wordTopicmatrixBR_df,\"bad_reviews_subset.png\")\n",
    "end_time = datetime.datetime.now()\n",
    "print(\"time spent doing operation is {}\".format(end_time - start_time))"
   ]
  },
  {
   "cell_type": "markdown",
   "metadata": {},
   "source": [
    "**Caution**: Running the two cells below can take up to 12 hours to run. I'm protecting them with a option variable below."
   ]
  },
  {
   "cell_type": "code",
   "execution_count": null,
   "metadata": {},
   "outputs": [],
   "source": [
    "GENERATE_FULL_SCATTER_PLOT = 0"
   ]
  },
  {
   "cell_type": "code",
   "execution_count": null,
   "metadata": {},
   "outputs": [],
   "source": [
    "if GENERATE_FULL_SCATTER_PLOT:\n",
    "    start_time = datetime.datetime.now()\n",
    "    plot_PCA_2D2(docReducedTopicMatrixBR, docTopicMatrixBR_df,\"bad_reviews_full.png\")\n",
    "    end_time = datetime.datetime.now()\n",
    "    print(\"time spent doing operation is {}\".format(end_time - start_time))"
   ]
  },
  {
   "cell_type": "code",
   "execution_count": null,
   "metadata": {},
   "outputs": [],
   "source": [
    "if GENERATE_FULL_SCATTER_PLOT:\n",
    "\n",
    "    start_time = datetime.datetime.now()\n",
    "    plot_PCA_2D2(docReducedTopicMatrixGR, docTopicMatrixGR_df,\"good_reviews_full.png\")\n",
    "    end_time = datetime.datetime.now()\n",
    "    print(\"time spent doing operation is {}\".format(end_time - start_time))"
   ]
  },
  {
   "cell_type": "markdown",
   "metadata": {
    "execution": {
     "iopub.execute_input": "2020-11-09T01:26:40.114572Z",
     "iopub.status.busy": "2020-11-09T01:26:40.114299Z",
     "iopub.status.idle": "2020-11-09T01:26:40.117285Z",
     "shell.execute_reply": "2020-11-09T01:26:40.116727Z",
     "shell.execute_reply.started": "2020-11-09T01:26:40.114544Z"
    }
   },
   "source": [
    "## Component Selection Evaluation\n",
    "In this section I will perform KMeans clustering of the good and bad reviews and generate a [scree plot](https://en.wikipedia.org/wiki/Scree_plot). The purpose of the scree plotting will be to determine if the number of topics chosen in the PCA analysis performed above explains an adequate amount of variance in the respective reviews."
   ]
  },
  {
   "cell_type": "markdown",
   "metadata": {
    "execution": {
     "iopub.execute_input": "2020-11-09T01:30:01.796217Z",
     "iopub.status.busy": "2020-11-09T01:30:01.795947Z",
     "iopub.status.idle": "2020-11-09T01:30:01.799182Z",
     "shell.execute_reply": "2020-11-09T01:30:01.798390Z",
     "shell.execute_reply.started": "2020-11-09T01:30:01.796188Z"
    }
   },
   "source": [
    "### Good Review Scree Plot Analysis"
   ]
  },
  {
   "cell_type": "code",
   "execution_count": null,
   "metadata": {},
   "outputs": [],
   "source": [
    "docTermMatrixTFIDFBR.shape"
   ]
  },
  {
   "cell_type": "code",
   "execution_count": null,
   "metadata": {},
   "outputs": [],
   "source": [
    "#Using the TFIDF vectorized document term matrix as the data set\n",
    "pcaGR40 = TruncatedSVD(n_components=500)\n",
    "pcaGR40.fit(docTermMatrixTFIDFGR)\n",
    "plt.figure(figsize=(20,20))\n",
    "plt.plot(pcaGR40.explained_variance_ratio_)\n",
    "plt.xlabel(\"Topic Number\",fontsize=16)\n",
    "plt.ylabel(\"Percent Explained Variance\",fontsize=16)\n",
    "plt.show();"
   ]
  },
  {
   "cell_type": "code",
   "execution_count": null,
   "metadata": {},
   "outputs": [],
   "source": [
    "plt.figure(figsize=(20,20))\n",
    "plt.plot(np.cumsum(pcaGR40.explained_variance_ratio_))\n",
    "plt.xlabel(\"Number of Topics\",fontsize=16)\n",
    "plt.ylabel(\"Cumulative Percent of Explained Variance\",fontsize=16)\n",
    "plt.show();"
   ]
  },
  {
   "cell_type": "markdown",
   "metadata": {},
   "source": [
    "The \"knee\" of the scree plot is at around 5 topics. The biggest reduction in explained variance occured up until the number of topics is 5. There is an improvement beyond topic 5, but the amount of improvement per added topic descreases."
   ]
  },
  {
   "cell_type": "markdown",
   "metadata": {},
   "source": [
    "### Bad Review Scree Plot Analysis"
   ]
  },
  {
   "cell_type": "code",
   "execution_count": null,
   "metadata": {},
   "outputs": [],
   "source": [
    "#Using the TFIDF vectorized document term matrix as the data set\n",
    "pcaBR40 = TruncatedSVD(n_components=40)\n",
    "pcaBR40.fit(docTermMatrixTFIDFBR)\n",
    "plt.figure(figsize=(20,20))\n",
    "plt.plot(pcaBR40.explained_variance_ratio_)\n",
    "plt.xlabel(\"Topic Number\",fontsize=16)\n",
    "plt.ylabel(\"Explained Variance\",fontsize=16)\n",
    "plt.show();"
   ]
  },
  {
   "cell_type": "code",
   "execution_count": null,
   "metadata": {},
   "outputs": [],
   "source": [
    "plt.figure(figsize=(20,20))\n",
    "plt.plot(np.cumsum(pcaBR40.explained_variance_ratio_))\n",
    "plt.xlabel(\"Number of Topics\",fontsize=16)\n",
    "plt.ylabel(\"Percent of Explained Variance\",fontsize=16)\n",
    "plt.show();"
   ]
  },
  {
   "cell_type": "code",
   "execution_count": null,
   "metadata": {},
   "outputs": [],
   "source": []
  }
 ],
 "metadata": {
  "kernelspec": {
   "display_name": "Python 3",
   "language": "python",
   "name": "python3"
  },
  "language_info": {
   "codemirror_mode": {
    "name": "ipython",
    "version": 3
   },
   "file_extension": ".py",
   "mimetype": "text/x-python",
   "name": "python",
   "nbconvert_exporter": "python",
   "pygments_lexer": "ipython3",
   "version": "3.8.3"
  }
 },
 "nbformat": 4,
 "nbformat_minor": 4
}
