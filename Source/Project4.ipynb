{
 "cells": [
  {
   "cell_type": "code",
   "execution_count": 1,
   "metadata": {
    "execution": {
     "iopub.execute_input": "2020-11-02T17:45:45.323853Z",
     "iopub.status.busy": "2020-11-02T17:45:45.323551Z",
     "iopub.status.idle": "2020-11-02T17:45:46.541555Z",
     "shell.execute_reply": "2020-11-02T17:45:46.540554Z",
     "shell.execute_reply.started": "2020-11-02T17:45:45.323770Z"
    }
   },
   "outputs": [],
   "source": [
    "import datetime\n",
    "\n",
    "\n",
    "import spacy\n",
    "from spacy import displacy\n",
    "\n",
    "import pandas as pd\n",
    "import numpy as np\n",
    "import matplotlib.pyplot as plt\n",
    "#to speed up pandas operands\n",
    "from pandarallel import pandarallel"
   ]
  },
  {
   "cell_type": "code",
   "execution_count": 2,
   "metadata": {
    "execution": {
     "iopub.execute_input": "2020-11-02T17:45:46.542785Z",
     "iopub.status.busy": "2020-11-02T17:45:46.542631Z",
     "iopub.status.idle": "2020-11-02T17:45:49.642968Z",
     "shell.execute_reply": "2020-11-02T17:45:49.642093Z",
     "shell.execute_reply.started": "2020-11-02T17:45:46.542765Z"
    }
   },
   "outputs": [],
   "source": [
    "reviews_df = pd.read_csv(\"../Data/Reviews.csv\")"
   ]
  },
  {
   "cell_type": "code",
   "execution_count": 3,
   "metadata": {
    "execution": {
     "iopub.execute_input": "2020-11-02T17:45:49.644752Z",
     "iopub.status.busy": "2020-11-02T17:45:49.644537Z",
     "iopub.status.idle": "2020-11-02T17:45:49.663036Z",
     "shell.execute_reply": "2020-11-02T17:45:49.662360Z",
     "shell.execute_reply.started": "2020-11-02T17:45:49.644724Z"
    }
   },
   "outputs": [
    {
     "data": {
      "text/html": [
       "<div>\n",
       "<style scoped>\n",
       "    .dataframe tbody tr th:only-of-type {\n",
       "        vertical-align: middle;\n",
       "    }\n",
       "\n",
       "    .dataframe tbody tr th {\n",
       "        vertical-align: top;\n",
       "    }\n",
       "\n",
       "    .dataframe thead th {\n",
       "        text-align: right;\n",
       "    }\n",
       "</style>\n",
       "<table border=\"1\" class=\"dataframe\">\n",
       "  <thead>\n",
       "    <tr style=\"text-align: right;\">\n",
       "      <th></th>\n",
       "      <th>Id</th>\n",
       "      <th>ProductId</th>\n",
       "      <th>UserId</th>\n",
       "      <th>ProfileName</th>\n",
       "      <th>HelpfulnessNumerator</th>\n",
       "      <th>HelpfulnessDenominator</th>\n",
       "      <th>Score</th>\n",
       "      <th>Time</th>\n",
       "      <th>Summary</th>\n",
       "      <th>Text</th>\n",
       "    </tr>\n",
       "  </thead>\n",
       "  <tbody>\n",
       "    <tr>\n",
       "      <th>0</th>\n",
       "      <td>1</td>\n",
       "      <td>B001E4KFG0</td>\n",
       "      <td>A3SGXH7AUHU8GW</td>\n",
       "      <td>delmartian</td>\n",
       "      <td>1</td>\n",
       "      <td>1</td>\n",
       "      <td>5</td>\n",
       "      <td>1303862400</td>\n",
       "      <td>Good Quality Dog Food</td>\n",
       "      <td>I have bought several of the Vitality canned d...</td>\n",
       "    </tr>\n",
       "    <tr>\n",
       "      <th>1</th>\n",
       "      <td>2</td>\n",
       "      <td>B00813GRG4</td>\n",
       "      <td>A1D87F6ZCVE5NK</td>\n",
       "      <td>dll pa</td>\n",
       "      <td>0</td>\n",
       "      <td>0</td>\n",
       "      <td>1</td>\n",
       "      <td>1346976000</td>\n",
       "      <td>Not as Advertised</td>\n",
       "      <td>Product arrived labeled as Jumbo Salted Peanut...</td>\n",
       "    </tr>\n",
       "    <tr>\n",
       "      <th>2</th>\n",
       "      <td>3</td>\n",
       "      <td>B000LQOCH0</td>\n",
       "      <td>ABXLMWJIXXAIN</td>\n",
       "      <td>Natalia Corres \"Natalia Corres\"</td>\n",
       "      <td>1</td>\n",
       "      <td>1</td>\n",
       "      <td>4</td>\n",
       "      <td>1219017600</td>\n",
       "      <td>\"Delight\" says it all</td>\n",
       "      <td>This is a confection that has been around a fe...</td>\n",
       "    </tr>\n",
       "    <tr>\n",
       "      <th>3</th>\n",
       "      <td>4</td>\n",
       "      <td>B000UA0QIQ</td>\n",
       "      <td>A395BORC6FGVXV</td>\n",
       "      <td>Karl</td>\n",
       "      <td>3</td>\n",
       "      <td>3</td>\n",
       "      <td>2</td>\n",
       "      <td>1307923200</td>\n",
       "      <td>Cough Medicine</td>\n",
       "      <td>If you are looking for the secret ingredient i...</td>\n",
       "    </tr>\n",
       "    <tr>\n",
       "      <th>4</th>\n",
       "      <td>5</td>\n",
       "      <td>B006K2ZZ7K</td>\n",
       "      <td>A1UQRSCLF8GW1T</td>\n",
       "      <td>Michael D. Bigham \"M. Wassir\"</td>\n",
       "      <td>0</td>\n",
       "      <td>0</td>\n",
       "      <td>5</td>\n",
       "      <td>1350777600</td>\n",
       "      <td>Great taffy</td>\n",
       "      <td>Great taffy at a great price.  There was a wid...</td>\n",
       "    </tr>\n",
       "  </tbody>\n",
       "</table>\n",
       "</div>"
      ],
      "text/plain": [
       "   Id   ProductId          UserId                      ProfileName  \\\n",
       "0   1  B001E4KFG0  A3SGXH7AUHU8GW                       delmartian   \n",
       "1   2  B00813GRG4  A1D87F6ZCVE5NK                           dll pa   \n",
       "2   3  B000LQOCH0   ABXLMWJIXXAIN  Natalia Corres \"Natalia Corres\"   \n",
       "3   4  B000UA0QIQ  A395BORC6FGVXV                             Karl   \n",
       "4   5  B006K2ZZ7K  A1UQRSCLF8GW1T    Michael D. Bigham \"M. Wassir\"   \n",
       "\n",
       "   HelpfulnessNumerator  HelpfulnessDenominator  Score        Time  \\\n",
       "0                     1                       1      5  1303862400   \n",
       "1                     0                       0      1  1346976000   \n",
       "2                     1                       1      4  1219017600   \n",
       "3                     3                       3      2  1307923200   \n",
       "4                     0                       0      5  1350777600   \n",
       "\n",
       "                 Summary                                               Text  \n",
       "0  Good Quality Dog Food  I have bought several of the Vitality canned d...  \n",
       "1      Not as Advertised  Product arrived labeled as Jumbo Salted Peanut...  \n",
       "2  \"Delight\" says it all  This is a confection that has been around a fe...  \n",
       "3         Cough Medicine  If you are looking for the secret ingredient i...  \n",
       "4            Great taffy  Great taffy at a great price.  There was a wid...  "
      ]
     },
     "execution_count": 3,
     "metadata": {},
     "output_type": "execute_result"
    }
   ],
   "source": [
    "reviews_df.head()"
   ]
  },
  {
   "cell_type": "code",
   "execution_count": 4,
   "metadata": {
    "execution": {
     "iopub.execute_input": "2020-11-02T17:45:49.664258Z",
     "iopub.status.busy": "2020-11-02T17:45:49.664107Z",
     "iopub.status.idle": "2020-11-02T17:45:49.667826Z",
     "shell.execute_reply": "2020-11-02T17:45:49.667256Z",
     "shell.execute_reply.started": "2020-11-02T17:45:49.664238Z"
    }
   },
   "outputs": [
    {
     "data": {
      "text/plain": [
       "(568454, 10)"
      ]
     },
     "execution_count": 4,
     "metadata": {},
     "output_type": "execute_result"
    }
   ],
   "source": [
    "reviews_df.shape"
   ]
  },
  {
   "cell_type": "code",
   "execution_count": 5,
   "metadata": {
    "execution": {
     "iopub.execute_input": "2020-11-02T17:45:49.668674Z",
     "iopub.status.busy": "2020-11-02T17:45:49.668530Z",
     "iopub.status.idle": "2020-11-02T17:45:55.301166Z",
     "shell.execute_reply": "2020-11-02T17:45:55.300105Z",
     "shell.execute_reply.started": "2020-11-02T17:45:49.668656Z"
    }
   },
   "outputs": [],
   "source": [
    "nlp = spacy.load(\"en_core_web_lg\")"
   ]
  },
  {
   "cell_type": "code",
   "execution_count": 6,
   "metadata": {
    "execution": {
     "iopub.execute_input": "2020-11-02T17:45:55.302695Z",
     "iopub.status.busy": "2020-11-02T17:45:55.302516Z",
     "iopub.status.idle": "2020-11-02T17:45:55.306198Z",
     "shell.execute_reply": "2020-11-02T17:45:55.305634Z",
     "shell.execute_reply.started": "2020-11-02T17:45:55.302662Z"
    }
   },
   "outputs": [],
   "source": [
    "specific_text = reviews_df.iloc[0,9]"
   ]
  },
  {
   "cell_type": "code",
   "execution_count": 7,
   "metadata": {
    "execution": {
     "iopub.execute_input": "2020-11-02T17:45:55.307049Z",
     "iopub.status.busy": "2020-11-02T17:45:55.306911Z",
     "iopub.status.idle": "2020-11-02T17:45:55.316085Z",
     "shell.execute_reply": "2020-11-02T17:45:55.315457Z",
     "shell.execute_reply.started": "2020-11-02T17:45:55.307031Z"
    }
   },
   "outputs": [
    {
     "data": {
      "text/plain": [
       "'I have bought several of the Vitality canned dog food products and have found them all to be of good quality. The product looks more like a stew than a processed meat and it smells better. My Labrador is finicky and she appreciates this product better than  most.'"
      ]
     },
     "execution_count": 7,
     "metadata": {},
     "output_type": "execute_result"
    }
   ],
   "source": [
    "specific_text"
   ]
  },
  {
   "cell_type": "code",
   "execution_count": 8,
   "metadata": {
    "execution": {
     "iopub.execute_input": "2020-11-02T17:45:55.318063Z",
     "iopub.status.busy": "2020-11-02T17:45:55.317865Z",
     "iopub.status.idle": "2020-11-02T17:45:55.356349Z",
     "shell.execute_reply": "2020-11-02T17:45:55.355602Z",
     "shell.execute_reply.started": "2020-11-02T17:45:55.318037Z"
    }
   },
   "outputs": [],
   "source": [
    "specific_doc = nlp(specific_text)"
   ]
  },
  {
   "cell_type": "code",
   "execution_count": 9,
   "metadata": {
    "execution": {
     "iopub.execute_input": "2020-11-02T17:45:55.357455Z",
     "iopub.status.busy": "2020-11-02T17:45:55.357307Z",
     "iopub.status.idle": "2020-11-02T17:45:55.361472Z",
     "shell.execute_reply": "2020-11-02T17:45:55.360778Z",
     "shell.execute_reply.started": "2020-11-02T17:45:55.357435Z"
    }
   },
   "outputs": [
    {
     "name": "stdout",
     "output_type": "stream",
     "text": [
      "['I', 'have', 'bought', 'several', 'of', 'the', 'Vitality', 'canned', 'dog', 'food', 'products', 'and', 'have', 'found', 'them', 'all', 'to', 'be', 'of', 'good', 'quality', '.', 'The', 'product', 'looks', 'more', 'like', 'a', 'stew', 'than', 'a', 'processed', 'meat', 'and', 'it', 'smells', 'better', '.', 'My', 'Labrador', 'is', 'finicky', 'and', 'she', 'appreciates', 'this', 'product', 'better', 'than', ' ', 'most', '.']\n"
     ]
    }
   ],
   "source": [
    "print([token.text for token in specific_doc])"
   ]
  },
  {
   "cell_type": "code",
   "execution_count": 10,
   "metadata": {
    "execution": {
     "iopub.execute_input": "2020-11-02T17:45:55.362386Z",
     "iopub.status.busy": "2020-11-02T17:45:55.362245Z",
     "iopub.status.idle": "2020-11-02T17:45:55.373039Z",
     "shell.execute_reply": "2020-11-02T17:45:55.372375Z",
     "shell.execute_reply.started": "2020-11-02T17:45:55.362369Z"
    }
   },
   "outputs": [
    {
     "name": "stdout",
     "output_type": "stream",
     "text": [
      "I       \t-PRON-  \tPRON   \tPRP  \tnsubj\n",
      "have    \thave    \tAUX    \tVBP  \taux\n",
      "bought  \tbuy     \tVERB   \tVBN  \tROOT\n",
      "several \tseveral \tADJ    \tJJ   \tdobj\n",
      "of      \tof      \tADP    \tIN   \tprep\n",
      "the     \tthe     \tDET    \tDT   \tdet\n",
      "Vitality\tVitality\tPROPN  \tNNP  \tcompound\n",
      "canned  \tcan     \tVERB   \tVBN  \tcompound\n",
      "dog     \tdog     \tNOUN   \tNN   \tcompound\n",
      "food    \tfood    \tNOUN   \tNN   \tcompound\n",
      "products\tproduct \tNOUN   \tNNS  \tpobj\n",
      "and     \tand     \tCCONJ  \tCC   \tcc\n",
      "have    \thave    \tAUX    \tVBP  \taux\n",
      "found   \tfind    \tVERB   \tVBN  \tconj\n",
      "them    \t-PRON-  \tPRON   \tPRP  \tnsubj\n",
      "all     \tall     \tDET    \tDT   \tappos\n",
      "to      \tto      \tPART   \tTO   \taux\n",
      "be      \tbe      \tAUX    \tVB   \tccomp\n",
      "of      \tof      \tADP    \tIN   \tprep\n",
      "good    \tgood    \tADJ    \tJJ   \tamod\n",
      "quality \tquality \tNOUN   \tNN   \tpobj\n",
      ".       \t.       \tPUNCT  \t.    \tpunct\n",
      "The     \tthe     \tDET    \tDT   \tdet\n",
      "product \tproduct \tNOUN   \tNN   \tnsubj\n",
      "looks   \tlook    \tVERB   \tVBZ  \tROOT\n",
      "more    \tmore    \tADV    \tRBR  \tadvmod\n",
      "like    \tlike    \tSCONJ  \tIN   \tprep\n",
      "a       \ta       \tDET    \tDT   \tdet\n",
      "stew    \tstew    \tNOUN   \tNN   \tpobj\n",
      "than    \tthan    \tSCONJ  \tIN   \tprep\n",
      "a       \ta       \tDET    \tDT   \tdet\n",
      "processed\tprocess \tVERB   \tVBN  \tamod\n",
      "meat    \tmeat    \tNOUN   \tNN   \tpobj\n",
      "and     \tand     \tCCONJ  \tCC   \tcc\n",
      "it      \t-PRON-  \tPRON   \tPRP  \tnsubj\n",
      "smells  \tsmell   \tVERB   \tVBZ  \tconj\n",
      "better  \twell    \tADV    \tRBR  \tadvmod\n",
      ".       \t.       \tPUNCT  \t.    \tpunct\n",
      "My      \t-PRON-  \tDET    \tPRP$ \tposs\n",
      "Labrador\tLabrador\tPROPN  \tNNP  \tnsubj\n",
      "is      \tbe      \tAUX    \tVBZ  \tROOT\n",
      "finicky \tfinicky \tADJ    \tJJ   \tacomp\n",
      "and     \tand     \tCCONJ  \tCC   \tcc\n",
      "she     \t-PRON-  \tPRON   \tPRP  \tnsubj\n",
      "appreciates\tappreciate\tVERB   \tVBZ  \tconj\n",
      "this    \tthis    \tDET    \tDT   \tdet\n",
      "product \tproduct \tNOUN   \tNN   \tdobj\n",
      "better  \twell    \tADJ    \tJJR  \tadvmod\n",
      "than    \tthan    \tSCONJ  \tIN   \tprep\n",
      "        \t        \tSPACE  \t_SP  \t\n",
      "most    \tmost    \tADJ    \tJJS  \tadvmod\n",
      ".       \t.       \tPUNCT  \t.    \tpunct\n"
     ]
    }
   ],
   "source": [
    "for token in specific_doc:\n",
    "    print(\"{:8}\\t{:8}\\t{:7}\\t{:5}\\t{}\".format(token.text, token.lemma_,token.pos_,token.tag_,token.dep_))"
   ]
  },
  {
   "cell_type": "code",
   "execution_count": 11,
   "metadata": {
    "execution": {
     "iopub.execute_input": "2020-11-02T17:45:55.374313Z",
     "iopub.status.busy": "2020-11-02T17:45:55.374118Z",
     "iopub.status.idle": "2020-11-02T17:45:55.378361Z",
     "shell.execute_reply": "2020-11-02T17:45:55.377817Z",
     "shell.execute_reply.started": "2020-11-02T17:45:55.374289Z"
    }
   },
   "outputs": [
    {
     "name": "stdout",
     "output_type": "stream",
     "text": [
      "Verbs present tense:\n",
      "['be']\n"
     ]
    }
   ],
   "source": [
    "print(\"Verbs present tense:\")\n",
    "present_tense_verbs = [token.text for token in specific_doc if token.tag_ == \"VB\" or token.tag_ == \"VBG\" or token.tag_ == \"VBD\"] \n",
    "print(present_tense_verbs)"
   ]
  },
  {
   "cell_type": "code",
   "execution_count": 12,
   "metadata": {
    "execution": {
     "iopub.execute_input": "2020-11-02T17:45:55.379187Z",
     "iopub.status.busy": "2020-11-02T17:45:55.379044Z",
     "iopub.status.idle": "2020-11-02T17:45:55.384537Z",
     "shell.execute_reply": "2020-11-02T17:45:55.383935Z",
     "shell.execute_reply.started": "2020-11-02T17:45:55.379169Z"
    }
   },
   "outputs": [
    {
     "name": "stdout",
     "output_type": "stream",
     "text": [
      "['bought', 'products', 'quality', 'looks', 'stew', 'meat', 'is']\n"
     ]
    }
   ],
   "source": [
    "print([token.text for token in specific_doc if token.dep_==\"ROOT\" or token.dep_==\"pobj\"])"
   ]
  },
  {
   "cell_type": "markdown",
   "metadata": {},
   "source": [
    "Keywords I want to keep track of:\n",
    "* buy\n",
    "* return\n",
    "* like\n",
    "* love\n",
    "* hate\n",
    "* dislike\n",
    "* best\n",
    "* worst\n"
   ]
  },
  {
   "cell_type": "code",
   "execution_count": null,
   "metadata": {
    "execution": {
     "iopub.execute_input": "2020-11-02T17:46:13.643337Z",
     "iopub.status.busy": "2020-11-02T17:46:13.643077Z"
    }
   },
   "outputs": [],
   "source": [
    "reviews_df['spacy_doc'] = list(nlp.pipe(reviews_df.Text))"
   ]
  },
  {
   "cell_type": "code",
   "execution_count": null,
   "metadata": {
    "execution": {
     "iopub.execute_input": "2020-11-02T05:12:09.079059Z",
     "iopub.status.busy": "2020-11-02T05:12:09.078805Z"
    }
   },
   "outputs": [
    {
     "name": "stdout",
     "output_type": "stream",
     "text": [
      "INFO: Pandarallel will run on 64 workers.\n",
      "INFO: Pandarallel will use Memory file system to transfer data between the main process and workers.\n"
     ]
    }
   ],
   "source": [
    "#create spacy docs for each review store in the dataframe\n",
    "\n",
    "pandarallel.initialize()\n",
    "\n",
    "start_time = datetime.datetime.now()\n",
    "def create_nlp_doc(df_row):\n",
    "    return nlp(df_row[\"Text\"])\n",
    "\n",
    "reviews_df[\"spacy_doc\"] = reviews_df.parallel_apply(create_nlp_doc,axis=1)\n",
    "\n",
    "end_time = datetime.datetime.now()\n",
    "\n",
    "#start_time = datetime.datetime.now()\n",
    "\n",
    "#reviews_df[\"spacy_doc\"] =  list(nlp.pipe(reviews_df.Text))\n",
    "\n",
    "#end_time = datetime.datetime.now()\n",
    "print(\"time spent doing operation is {}\".format(end_time - start_time))"
   ]
  },
  {
   "cell_type": "code",
   "execution_count": null,
   "metadata": {
    "execution": {
     "iopub.status.busy": "2020-11-02T01:36:27.959458Z",
     "iopub.status.idle": "2020-11-02T01:36:27.959686Z"
    }
   },
   "outputs": [],
   "source": [
    "#TODO: parallelize the cell above"
   ]
  },
  {
   "cell_type": "code",
   "execution_count": null,
   "metadata": {},
   "outputs": [],
   "source": []
  }
 ],
 "metadata": {
  "kernelspec": {
   "display_name": "Python 3",
   "language": "python",
   "name": "python3"
  },
  "language_info": {
   "codemirror_mode": {
    "name": "ipython",
    "version": 3
   },
   "file_extension": ".py",
   "mimetype": "text/x-python",
   "name": "python",
   "nbconvert_exporter": "python",
   "pygments_lexer": "ipython3",
   "version": "3.8.6"
  }
 },
 "nbformat": 4,
 "nbformat_minor": 4
}
